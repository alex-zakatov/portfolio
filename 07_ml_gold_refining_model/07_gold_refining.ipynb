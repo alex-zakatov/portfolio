{
 "cells": [
  {
   "cell_type": "markdown",
   "metadata": {},
   "source": [
    "# Восстановление золота из руды"
   ]
  },
  {
   "cell_type": "markdown",
   "metadata": {},
   "source": [
    "Подготовьте прототип модели машинного обучения для «Цифры». Компания разрабатывает решения для эффективной работы промышленных предприятий.\n",
    "\n",
    "Модель должна предсказать коэффициент восстановления золота из золотосодержащей руды. Используйте данные с параметрами добычи и очистки. \n",
    "\n",
    "Модель поможет оптимизировать производство, чтобы не запускать предприятие с убыточными характеристиками.\n",
    "\n",
    "Вам нужно:\n",
    "\n",
    "1. Подготовить данные;\n",
    "2. Провести исследовательский анализ данных;\n",
    "3. Построить и обучить модель.\n",
    "\n",
    "Чтобы выполнить проект, обращайтесь к библиотекам *pandas*, *matplotlib* и *sklearn.* Вам поможет их документация."
   ]
  },
  {
   "cell_type": "markdown",
   "metadata": {},
   "source": [
    "# Задача проекта\n",
    "Построить прототип модели машинного обучения, которая будет предсказывать коэффициент восстановления золота из золотоносной руды."
   ]
  },
  {
   "cell_type": "markdown",
   "metadata": {},
   "source": [
    "## Подготовка данных"
   ]
  },
  {
   "cell_type": "code",
   "execution_count": 1,
   "metadata": {},
   "outputs": [],
   "source": [
    "# Файлы и директории\n",
    "import os \n",
    "\n",
    "# Датафреймы\n",
    "import pandas as pd\n",
    "\n",
    "# Математика\n",
    "import numpy as np\n",
    "\n",
    "# Статистика\n",
    "import scipy.stats as stats\n",
    "from scipy.stats import mannwhitneyu\n",
    "\n",
    "# Визуализация\n",
    "import matplotlib.pyplot as plt\n",
    "import seaborn as sns\n",
    "\n",
    "# ML-модели\n",
    "from sklearn.linear_model import LinearRegression\n",
    "from sklearn.ensemble import RandomForestRegressor\n",
    "from sklearn.svm import LinearSVR\n",
    "from sklearn.model_selection import GridSearchCV\n",
    "from sklearn.dummy import DummyRegressor\n",
    "\n",
    "# ML-метрики\n",
    "from sklearn.metrics import mean_squared_error, mean_absolute_error\n",
    "from sklearn.metrics import make_scorer, accuracy_score\n",
    "from sklearn.model_selection import cross_val_score\n",
    "\n",
    "# Настройки\n",
    "import warnings\n",
    "warnings.filterwarnings(\"ignore\")\n",
    "pd.options.mode.chained_assignment = None\n",
    "\n",
    "# Константы\n",
    "RANDOM_NUMBER = 12345\n",
    "RANDOM_STATE = np.random.RandomState(RANDOM_NUMBER)"
   ]
  },
  {
   "cell_type": "markdown",
   "metadata": {},
   "source": [
    "### Загрузка"
   ]
  },
  {
   "cell_type": "code",
   "execution_count": 2,
   "metadata": {},
   "outputs": [],
   "source": [
    "data=[]\n",
    "\n",
    "paths_1 = ['datasets/gold_industry_train.csv',\n",
    "           'datasets/gold_industry_test.csv',\n",
    "           'datasets/gold_industry_full.csv']\n",
    "\n",
    "paths_2 = ['gold_industry_train.csv',\n",
    "           'gold_industry_test.csv',\n",
    "           'gold_industry_full.csv']\n",
    "\n",
    "\n",
    "for path_1, path_2  in zip(paths_1, paths_2):\n",
    "    \n",
    "    if os.path.exists(path_1):\n",
    "        data.append(pd.read_csv(path_1, parse_dates = ['date']))\n",
    "    \n",
    "    elif os.path.exists(path_2):\n",
    "        data.append(pd.read_csv(path_2, parse_dates = ['date']))\n",
    "    \n",
    "    else:\n",
    "        print('Ошибка загрузки.')"
   ]
  },
  {
   "cell_type": "markdown",
   "metadata": {},
   "source": [
    "Создадим функцию, которая будет кратко показывать основные характеристики больших датафреймов:"
   ]
  },
  {
   "cell_type": "code",
   "execution_count": 3,
   "metadata": {},
   "outputs": [],
   "source": [
    "def short_info(df):\n",
    "    \"\"\"Отображение краткой информации о датафрейме\"\"\"\n",
    "\n",
    "    print(f\"Размерность: {df.shape}\")\n",
    "    print(f\"Всего значений: {df.size}\")\n",
    "    print(f\"Из них пропущенных: {df.isna().sum().sum()}\")\n",
    "    print(f\"Явных дубликатов: {df.duplicated().sum()}\")\n",
    "    display(df.head(3))"
   ]
  },
  {
   "cell_type": "markdown",
   "metadata": {},
   "source": [
    "Изучим базовую информацию о загруженных данных:"
   ]
  },
  {
   "cell_type": "markdown",
   "metadata": {},
   "source": [
    "#### Обучающая выборка"
   ]
  },
  {
   "cell_type": "code",
   "execution_count": 4,
   "metadata": {},
   "outputs": [
    {
     "name": "stdout",
     "output_type": "stream",
     "text": [
      "Размерность: (14579, 87)\n",
      "Всего значений: 1268373\n",
      "Из них пропущенных: 3050\n",
      "Явных дубликатов: 0\n"
     ]
    },
    {
     "data": {
      "text/html": [
       "<div>\n",
       "<style scoped>\n",
       "    .dataframe tbody tr th:only-of-type {\n",
       "        vertical-align: middle;\n",
       "    }\n",
       "\n",
       "    .dataframe tbody tr th {\n",
       "        vertical-align: top;\n",
       "    }\n",
       "\n",
       "    .dataframe thead th {\n",
       "        text-align: right;\n",
       "    }\n",
       "</style>\n",
       "<table border=\"1\" class=\"dataframe\">\n",
       "  <thead>\n",
       "    <tr style=\"text-align: right;\">\n",
       "      <th></th>\n",
       "      <th>date</th>\n",
       "      <th>rougher.input.feed_au</th>\n",
       "      <th>rougher.input.feed_ag</th>\n",
       "      <th>rougher.input.feed_pb</th>\n",
       "      <th>rougher.input.feed_sol</th>\n",
       "      <th>rougher.input.feed_rate</th>\n",
       "      <th>rougher.input.feed_size</th>\n",
       "      <th>rougher.input.floatbank10_sulfate</th>\n",
       "      <th>rougher.input.floatbank10_xanthate</th>\n",
       "      <th>rougher.state.floatbank10_a_air</th>\n",
       "      <th>...</th>\n",
       "      <th>secondary_cleaner.output.tail_sol</th>\n",
       "      <th>final.output.concentrate_au</th>\n",
       "      <th>final.output.concentrate_ag</th>\n",
       "      <th>final.output.concentrate_pb</th>\n",
       "      <th>final.output.concentrate_sol</th>\n",
       "      <th>final.output.recovery</th>\n",
       "      <th>final.output.tail_au</th>\n",
       "      <th>final.output.tail_ag</th>\n",
       "      <th>final.output.tail_pb</th>\n",
       "      <th>final.output.tail_sol</th>\n",
       "    </tr>\n",
       "  </thead>\n",
       "  <tbody>\n",
       "    <tr>\n",
       "      <th>0</th>\n",
       "      <td>2016-01-15 00:00:00</td>\n",
       "      <td>6.486150</td>\n",
       "      <td>6.100378</td>\n",
       "      <td>2.284912</td>\n",
       "      <td>36.808594</td>\n",
       "      <td>523.546326</td>\n",
       "      <td>55.486599</td>\n",
       "      <td>11.986616</td>\n",
       "      <td>6.007990</td>\n",
       "      <td>999.706909</td>\n",
       "      <td>...</td>\n",
       "      <td>8.764648</td>\n",
       "      <td>42.192020</td>\n",
       "      <td>6.055403</td>\n",
       "      <td>9.889648</td>\n",
       "      <td>5.507324</td>\n",
       "      <td>70.541216</td>\n",
       "      <td>2.143149</td>\n",
       "      <td>10.411962</td>\n",
       "      <td>0.895447</td>\n",
       "      <td>16.904297</td>\n",
       "    </tr>\n",
       "    <tr>\n",
       "      <th>1</th>\n",
       "      <td>2016-01-15 01:00:00</td>\n",
       "      <td>6.478583</td>\n",
       "      <td>6.161113</td>\n",
       "      <td>2.266033</td>\n",
       "      <td>35.753385</td>\n",
       "      <td>525.290581</td>\n",
       "      <td>57.278666</td>\n",
       "      <td>11.971193</td>\n",
       "      <td>6.005766</td>\n",
       "      <td>1000.286398</td>\n",
       "      <td>...</td>\n",
       "      <td>9.001494</td>\n",
       "      <td>42.701629</td>\n",
       "      <td>6.029369</td>\n",
       "      <td>9.968944</td>\n",
       "      <td>5.257781</td>\n",
       "      <td>69.266198</td>\n",
       "      <td>2.224930</td>\n",
       "      <td>10.462676</td>\n",
       "      <td>0.927452</td>\n",
       "      <td>16.634514</td>\n",
       "    </tr>\n",
       "    <tr>\n",
       "      <th>2</th>\n",
       "      <td>2016-01-15 02:00:00</td>\n",
       "      <td>6.362222</td>\n",
       "      <td>6.116455</td>\n",
       "      <td>2.159622</td>\n",
       "      <td>35.971630</td>\n",
       "      <td>530.026610</td>\n",
       "      <td>57.510649</td>\n",
       "      <td>11.920603</td>\n",
       "      <td>6.197377</td>\n",
       "      <td>999.719565</td>\n",
       "      <td>...</td>\n",
       "      <td>8.842896</td>\n",
       "      <td>42.657501</td>\n",
       "      <td>6.055926</td>\n",
       "      <td>10.213995</td>\n",
       "      <td>5.383759</td>\n",
       "      <td>68.116445</td>\n",
       "      <td>2.257889</td>\n",
       "      <td>10.507046</td>\n",
       "      <td>0.953716</td>\n",
       "      <td>16.208849</td>\n",
       "    </tr>\n",
       "  </tbody>\n",
       "</table>\n",
       "<p>3 rows × 87 columns</p>\n",
       "</div>"
      ],
      "text/plain": [
       "                 date  rougher.input.feed_au  rougher.input.feed_ag  \\\n",
       "0 2016-01-15 00:00:00               6.486150               6.100378   \n",
       "1 2016-01-15 01:00:00               6.478583               6.161113   \n",
       "2 2016-01-15 02:00:00               6.362222               6.116455   \n",
       "\n",
       "   rougher.input.feed_pb  rougher.input.feed_sol  rougher.input.feed_rate  \\\n",
       "0               2.284912               36.808594               523.546326   \n",
       "1               2.266033               35.753385               525.290581   \n",
       "2               2.159622               35.971630               530.026610   \n",
       "\n",
       "   rougher.input.feed_size  rougher.input.floatbank10_sulfate  \\\n",
       "0                55.486599                          11.986616   \n",
       "1                57.278666                          11.971193   \n",
       "2                57.510649                          11.920603   \n",
       "\n",
       "   rougher.input.floatbank10_xanthate  rougher.state.floatbank10_a_air  ...  \\\n",
       "0                            6.007990                       999.706909  ...   \n",
       "1                            6.005766                      1000.286398  ...   \n",
       "2                            6.197377                       999.719565  ...   \n",
       "\n",
       "   secondary_cleaner.output.tail_sol  final.output.concentrate_au  \\\n",
       "0                           8.764648                    42.192020   \n",
       "1                           9.001494                    42.701629   \n",
       "2                           8.842896                    42.657501   \n",
       "\n",
       "   final.output.concentrate_ag  final.output.concentrate_pb  \\\n",
       "0                     6.055403                     9.889648   \n",
       "1                     6.029369                     9.968944   \n",
       "2                     6.055926                    10.213995   \n",
       "\n",
       "   final.output.concentrate_sol  final.output.recovery  final.output.tail_au  \\\n",
       "0                      5.507324              70.541216              2.143149   \n",
       "1                      5.257781              69.266198              2.224930   \n",
       "2                      5.383759              68.116445              2.257889   \n",
       "\n",
       "   final.output.tail_ag  final.output.tail_pb  final.output.tail_sol  \n",
       "0             10.411962              0.895447              16.904297  \n",
       "1             10.462676              0.927452              16.634514  \n",
       "2             10.507046              0.953716              16.208849  \n",
       "\n",
       "[3 rows x 87 columns]"
      ]
     },
     "metadata": {},
     "output_type": "display_data"
    }
   ],
   "source": [
    "train_df = data[0]\n",
    "short_info(train_df)"
   ]
  },
  {
   "cell_type": "markdown",
   "metadata": {},
   "source": [
    "#### Тестовая выборка"
   ]
  },
  {
   "cell_type": "code",
   "execution_count": 5,
   "metadata": {},
   "outputs": [
    {
     "name": "stdout",
     "output_type": "stream",
     "text": [
      "Размерность: (4860, 53)\n",
      "Всего значений: 257580\n",
      "Из них пропущенных: 375\n",
      "Явных дубликатов: 0\n"
     ]
    },
    {
     "data": {
      "text/html": [
       "<div>\n",
       "<style scoped>\n",
       "    .dataframe tbody tr th:only-of-type {\n",
       "        vertical-align: middle;\n",
       "    }\n",
       "\n",
       "    .dataframe tbody tr th {\n",
       "        vertical-align: top;\n",
       "    }\n",
       "\n",
       "    .dataframe thead th {\n",
       "        text-align: right;\n",
       "    }\n",
       "</style>\n",
       "<table border=\"1\" class=\"dataframe\">\n",
       "  <thead>\n",
       "    <tr style=\"text-align: right;\">\n",
       "      <th></th>\n",
       "      <th>date</th>\n",
       "      <th>rougher.input.feed_au</th>\n",
       "      <th>rougher.input.feed_ag</th>\n",
       "      <th>rougher.input.feed_pb</th>\n",
       "      <th>rougher.input.feed_sol</th>\n",
       "      <th>rougher.input.feed_rate</th>\n",
       "      <th>rougher.input.feed_size</th>\n",
       "      <th>rougher.input.floatbank10_sulfate</th>\n",
       "      <th>rougher.input.floatbank10_xanthate</th>\n",
       "      <th>rougher.state.floatbank10_a_air</th>\n",
       "      <th>...</th>\n",
       "      <th>secondary_cleaner.state.floatbank4_a_air</th>\n",
       "      <th>secondary_cleaner.state.floatbank4_a_level</th>\n",
       "      <th>secondary_cleaner.state.floatbank4_b_air</th>\n",
       "      <th>secondary_cleaner.state.floatbank4_b_level</th>\n",
       "      <th>secondary_cleaner.state.floatbank5_a_air</th>\n",
       "      <th>secondary_cleaner.state.floatbank5_a_level</th>\n",
       "      <th>secondary_cleaner.state.floatbank5_b_air</th>\n",
       "      <th>secondary_cleaner.state.floatbank5_b_level</th>\n",
       "      <th>secondary_cleaner.state.floatbank6_a_air</th>\n",
       "      <th>secondary_cleaner.state.floatbank6_a_level</th>\n",
       "    </tr>\n",
       "  </thead>\n",
       "  <tbody>\n",
       "    <tr>\n",
       "      <th>0</th>\n",
       "      <td>2017-12-09 14:59:59</td>\n",
       "      <td>4.365491</td>\n",
       "      <td>6.158718</td>\n",
       "      <td>3.875727</td>\n",
       "      <td>39.135119</td>\n",
       "      <td>555.820208</td>\n",
       "      <td>94.544358</td>\n",
       "      <td>6.146982</td>\n",
       "      <td>9.308612</td>\n",
       "      <td>1196.238112</td>\n",
       "      <td>...</td>\n",
       "      <td>23.018622</td>\n",
       "      <td>-500.492702</td>\n",
       "      <td>20.020205</td>\n",
       "      <td>-500.220296</td>\n",
       "      <td>17.963512</td>\n",
       "      <td>-499.939490</td>\n",
       "      <td>12.990306</td>\n",
       "      <td>-500.080993</td>\n",
       "      <td>19.990336</td>\n",
       "      <td>-499.191575</td>\n",
       "    </tr>\n",
       "    <tr>\n",
       "      <th>1</th>\n",
       "      <td>2017-12-09 15:59:59</td>\n",
       "      <td>4.362781</td>\n",
       "      <td>6.048130</td>\n",
       "      <td>3.902537</td>\n",
       "      <td>39.713906</td>\n",
       "      <td>544.731687</td>\n",
       "      <td>123.742430</td>\n",
       "      <td>6.210119</td>\n",
       "      <td>9.297709</td>\n",
       "      <td>1201.904177</td>\n",
       "      <td>...</td>\n",
       "      <td>23.024963</td>\n",
       "      <td>-501.153409</td>\n",
       "      <td>20.054122</td>\n",
       "      <td>-500.314711</td>\n",
       "      <td>17.979515</td>\n",
       "      <td>-499.272871</td>\n",
       "      <td>12.992404</td>\n",
       "      <td>-499.976268</td>\n",
       "      <td>20.013986</td>\n",
       "      <td>-500.625471</td>\n",
       "    </tr>\n",
       "    <tr>\n",
       "      <th>2</th>\n",
       "      <td>2017-12-09 16:59:59</td>\n",
       "      <td>5.081681</td>\n",
       "      <td>6.082745</td>\n",
       "      <td>4.564078</td>\n",
       "      <td>37.208683</td>\n",
       "      <td>558.155110</td>\n",
       "      <td>82.610855</td>\n",
       "      <td>7.363824</td>\n",
       "      <td>9.003562</td>\n",
       "      <td>1200.826926</td>\n",
       "      <td>...</td>\n",
       "      <td>22.993827</td>\n",
       "      <td>-501.559663</td>\n",
       "      <td>20.029144</td>\n",
       "      <td>-500.000662</td>\n",
       "      <td>18.012723</td>\n",
       "      <td>-500.024764</td>\n",
       "      <td>13.016445</td>\n",
       "      <td>-500.058432</td>\n",
       "      <td>19.973767</td>\n",
       "      <td>-501.394155</td>\n",
       "    </tr>\n",
       "  </tbody>\n",
       "</table>\n",
       "<p>3 rows × 53 columns</p>\n",
       "</div>"
      ],
      "text/plain": [
       "                 date  rougher.input.feed_au  rougher.input.feed_ag  \\\n",
       "0 2017-12-09 14:59:59               4.365491               6.158718   \n",
       "1 2017-12-09 15:59:59               4.362781               6.048130   \n",
       "2 2017-12-09 16:59:59               5.081681               6.082745   \n",
       "\n",
       "   rougher.input.feed_pb  rougher.input.feed_sol  rougher.input.feed_rate  \\\n",
       "0               3.875727               39.135119               555.820208   \n",
       "1               3.902537               39.713906               544.731687   \n",
       "2               4.564078               37.208683               558.155110   \n",
       "\n",
       "   rougher.input.feed_size  rougher.input.floatbank10_sulfate  \\\n",
       "0                94.544358                           6.146982   \n",
       "1               123.742430                           6.210119   \n",
       "2                82.610855                           7.363824   \n",
       "\n",
       "   rougher.input.floatbank10_xanthate  rougher.state.floatbank10_a_air  ...  \\\n",
       "0                            9.308612                      1196.238112  ...   \n",
       "1                            9.297709                      1201.904177  ...   \n",
       "2                            9.003562                      1200.826926  ...   \n",
       "\n",
       "   secondary_cleaner.state.floatbank4_a_air  \\\n",
       "0                                 23.018622   \n",
       "1                                 23.024963   \n",
       "2                                 22.993827   \n",
       "\n",
       "   secondary_cleaner.state.floatbank4_a_level  \\\n",
       "0                                 -500.492702   \n",
       "1                                 -501.153409   \n",
       "2                                 -501.559663   \n",
       "\n",
       "   secondary_cleaner.state.floatbank4_b_air  \\\n",
       "0                                 20.020205   \n",
       "1                                 20.054122   \n",
       "2                                 20.029144   \n",
       "\n",
       "   secondary_cleaner.state.floatbank4_b_level  \\\n",
       "0                                 -500.220296   \n",
       "1                                 -500.314711   \n",
       "2                                 -500.000662   \n",
       "\n",
       "   secondary_cleaner.state.floatbank5_a_air  \\\n",
       "0                                 17.963512   \n",
       "1                                 17.979515   \n",
       "2                                 18.012723   \n",
       "\n",
       "   secondary_cleaner.state.floatbank5_a_level  \\\n",
       "0                                 -499.939490   \n",
       "1                                 -499.272871   \n",
       "2                                 -500.024764   \n",
       "\n",
       "   secondary_cleaner.state.floatbank5_b_air  \\\n",
       "0                                 12.990306   \n",
       "1                                 12.992404   \n",
       "2                                 13.016445   \n",
       "\n",
       "   secondary_cleaner.state.floatbank5_b_level  \\\n",
       "0                                 -500.080993   \n",
       "1                                 -499.976268   \n",
       "2                                 -500.058432   \n",
       "\n",
       "   secondary_cleaner.state.floatbank6_a_air  \\\n",
       "0                                 19.990336   \n",
       "1                                 20.013986   \n",
       "2                                 19.973767   \n",
       "\n",
       "   secondary_cleaner.state.floatbank6_a_level  \n",
       "0                                 -499.191575  \n",
       "1                                 -500.625471  \n",
       "2                                 -501.394155  \n",
       "\n",
       "[3 rows x 53 columns]"
      ]
     },
     "metadata": {},
     "output_type": "display_data"
    }
   ],
   "source": [
    "test_df = data[1]\n",
    "short_info(test_df)"
   ]
  },
  {
   "cell_type": "markdown",
   "metadata": {},
   "source": [
    "#### Исходные данные"
   ]
  },
  {
   "cell_type": "code",
   "execution_count": 6,
   "metadata": {},
   "outputs": [
    {
     "name": "stdout",
     "output_type": "stream",
     "text": [
      "Размерность: (19439, 87)\n",
      "Всего значений: 1691193\n",
      "Из них пропущенных: 4481\n",
      "Явных дубликатов: 0\n"
     ]
    },
    {
     "data": {
      "text/html": [
       "<div>\n",
       "<style scoped>\n",
       "    .dataframe tbody tr th:only-of-type {\n",
       "        vertical-align: middle;\n",
       "    }\n",
       "\n",
       "    .dataframe tbody tr th {\n",
       "        vertical-align: top;\n",
       "    }\n",
       "\n",
       "    .dataframe thead th {\n",
       "        text-align: right;\n",
       "    }\n",
       "</style>\n",
       "<table border=\"1\" class=\"dataframe\">\n",
       "  <thead>\n",
       "    <tr style=\"text-align: right;\">\n",
       "      <th></th>\n",
       "      <th>date</th>\n",
       "      <th>rougher.input.feed_au</th>\n",
       "      <th>rougher.input.feed_ag</th>\n",
       "      <th>rougher.input.feed_pb</th>\n",
       "      <th>rougher.input.feed_sol</th>\n",
       "      <th>rougher.input.feed_rate</th>\n",
       "      <th>rougher.input.feed_size</th>\n",
       "      <th>rougher.input.floatbank10_sulfate</th>\n",
       "      <th>rougher.input.floatbank10_xanthate</th>\n",
       "      <th>rougher.state.floatbank10_a_air</th>\n",
       "      <th>...</th>\n",
       "      <th>secondary_cleaner.output.tail_sol</th>\n",
       "      <th>final.output.concentrate_au</th>\n",
       "      <th>final.output.concentrate_ag</th>\n",
       "      <th>final.output.concentrate_pb</th>\n",
       "      <th>final.output.concentrate_sol</th>\n",
       "      <th>final.output.recovery</th>\n",
       "      <th>final.output.tail_au</th>\n",
       "      <th>final.output.tail_ag</th>\n",
       "      <th>final.output.tail_pb</th>\n",
       "      <th>final.output.tail_sol</th>\n",
       "    </tr>\n",
       "  </thead>\n",
       "  <tbody>\n",
       "    <tr>\n",
       "      <th>0</th>\n",
       "      <td>2016-01-15 00:00:00</td>\n",
       "      <td>6.486150</td>\n",
       "      <td>6.100378</td>\n",
       "      <td>2.284912</td>\n",
       "      <td>36.808594</td>\n",
       "      <td>523.546326</td>\n",
       "      <td>55.486599</td>\n",
       "      <td>11.986616</td>\n",
       "      <td>6.007990</td>\n",
       "      <td>999.706909</td>\n",
       "      <td>...</td>\n",
       "      <td>8.764648</td>\n",
       "      <td>42.192020</td>\n",
       "      <td>6.055403</td>\n",
       "      <td>9.889648</td>\n",
       "      <td>5.507324</td>\n",
       "      <td>70.541216</td>\n",
       "      <td>2.143149</td>\n",
       "      <td>10.411962</td>\n",
       "      <td>0.895447</td>\n",
       "      <td>16.904297</td>\n",
       "    </tr>\n",
       "    <tr>\n",
       "      <th>1</th>\n",
       "      <td>2016-01-15 01:00:00</td>\n",
       "      <td>6.478583</td>\n",
       "      <td>6.161113</td>\n",
       "      <td>2.266033</td>\n",
       "      <td>35.753385</td>\n",
       "      <td>525.290581</td>\n",
       "      <td>57.278666</td>\n",
       "      <td>11.971193</td>\n",
       "      <td>6.005766</td>\n",
       "      <td>1000.286398</td>\n",
       "      <td>...</td>\n",
       "      <td>9.001494</td>\n",
       "      <td>42.701629</td>\n",
       "      <td>6.029369</td>\n",
       "      <td>9.968944</td>\n",
       "      <td>5.257781</td>\n",
       "      <td>69.266198</td>\n",
       "      <td>2.224930</td>\n",
       "      <td>10.462676</td>\n",
       "      <td>0.927452</td>\n",
       "      <td>16.634514</td>\n",
       "    </tr>\n",
       "    <tr>\n",
       "      <th>2</th>\n",
       "      <td>2016-01-15 02:00:00</td>\n",
       "      <td>6.362222</td>\n",
       "      <td>6.116455</td>\n",
       "      <td>2.159622</td>\n",
       "      <td>35.971630</td>\n",
       "      <td>530.026610</td>\n",
       "      <td>57.510649</td>\n",
       "      <td>11.920603</td>\n",
       "      <td>6.197377</td>\n",
       "      <td>999.719565</td>\n",
       "      <td>...</td>\n",
       "      <td>8.842896</td>\n",
       "      <td>42.657501</td>\n",
       "      <td>6.055926</td>\n",
       "      <td>10.213995</td>\n",
       "      <td>5.383759</td>\n",
       "      <td>68.116445</td>\n",
       "      <td>2.257889</td>\n",
       "      <td>10.507046</td>\n",
       "      <td>0.953716</td>\n",
       "      <td>16.208849</td>\n",
       "    </tr>\n",
       "  </tbody>\n",
       "</table>\n",
       "<p>3 rows × 87 columns</p>\n",
       "</div>"
      ],
      "text/plain": [
       "                 date  rougher.input.feed_au  rougher.input.feed_ag  \\\n",
       "0 2016-01-15 00:00:00               6.486150               6.100378   \n",
       "1 2016-01-15 01:00:00               6.478583               6.161113   \n",
       "2 2016-01-15 02:00:00               6.362222               6.116455   \n",
       "\n",
       "   rougher.input.feed_pb  rougher.input.feed_sol  rougher.input.feed_rate  \\\n",
       "0               2.284912               36.808594               523.546326   \n",
       "1               2.266033               35.753385               525.290581   \n",
       "2               2.159622               35.971630               530.026610   \n",
       "\n",
       "   rougher.input.feed_size  rougher.input.floatbank10_sulfate  \\\n",
       "0                55.486599                          11.986616   \n",
       "1                57.278666                          11.971193   \n",
       "2                57.510649                          11.920603   \n",
       "\n",
       "   rougher.input.floatbank10_xanthate  rougher.state.floatbank10_a_air  ...  \\\n",
       "0                            6.007990                       999.706909  ...   \n",
       "1                            6.005766                      1000.286398  ...   \n",
       "2                            6.197377                       999.719565  ...   \n",
       "\n",
       "   secondary_cleaner.output.tail_sol  final.output.concentrate_au  \\\n",
       "0                           8.764648                    42.192020   \n",
       "1                           9.001494                    42.701629   \n",
       "2                           8.842896                    42.657501   \n",
       "\n",
       "   final.output.concentrate_ag  final.output.concentrate_pb  \\\n",
       "0                     6.055403                     9.889648   \n",
       "1                     6.029369                     9.968944   \n",
       "2                     6.055926                    10.213995   \n",
       "\n",
       "   final.output.concentrate_sol  final.output.recovery  final.output.tail_au  \\\n",
       "0                      5.507324              70.541216              2.143149   \n",
       "1                      5.257781              69.266198              2.224930   \n",
       "2                      5.383759              68.116445              2.257889   \n",
       "\n",
       "   final.output.tail_ag  final.output.tail_pb  final.output.tail_sol  \n",
       "0             10.411962              0.895447              16.904297  \n",
       "1             10.462676              0.927452              16.634514  \n",
       "2             10.507046              0.953716              16.208849  \n",
       "\n",
       "[3 rows x 87 columns]"
      ]
     },
     "metadata": {},
     "output_type": "display_data"
    }
   ],
   "source": [
    "full_df = data[2]\n",
    "short_info(full_df)"
   ]
  },
  {
   "cell_type": "markdown",
   "metadata": {},
   "source": [
    "**Наблюдения**\n",
    "* Количество столбцов в обучающей выборке и исходных данных совпадает и равно 87.\n",
    "* В тестовой выборке отсутствует часть признаков.\n",
    "* Сумма строк обучающей и тестовой выборки совпадает с количеством строк исходных данных (14579 + 4860 = 19439).\n",
    "* Явные дубликаты отстутствуют.\n",
    "* В данных есть пропуски."
   ]
  },
  {
   "cell_type": "markdown",
   "metadata": {},
   "source": [
    "### Проврека правильности расчёта эффективности обогащения\n",
    "#### Recovery"
   ]
  },
  {
   "cell_type": "markdown",
   "metadata": {},
   "source": [
    "Формула для расчёта:"
   ]
  },
  {
   "attachments": {
    "image.png": {
     "image/png": "[encoded data removed]"
    }
   },
   "cell_type": "markdown",
   "metadata": {},
   "source": [
    "![image.png](attachment:image.png)"
   ]
  },
  {
   "cell_type": "markdown",
   "metadata": {},
   "source": [
    "**Recovery = C * (F - T) / (F * (C - T)) * 100%**, где:\n",
    "\n",
    "* **C** *(concentrate)* — доля золота в концентрате после флотации/очистки;\n",
    "* **F** *(feed)* — доля золота в сырье/концентрате до флотации/очистки;\n",
    "* **T** *(tail)* — доля золота в отвальных хвостах после флотации/очистки."
   ]
  },
  {
   "cell_type": "markdown",
   "metadata": {},
   "source": [
    "Выделим необходимые параметры для расчёта из тренировочной выборки и рассчитаем по ним эффективность:"
   ]
  },
  {
   "cell_type": "code",
   "execution_count": 7,
   "metadata": {},
   "outputs": [],
   "source": [
    "# Данная эффективность обогащения\n",
    "recovery_given = train_df['rougher.output.recovery']\n",
    "\n",
    "# Доля золота в концентрате после флотации\n",
    "C = train_df['rougher.output.concentrate_au']\n",
    "\n",
    "# Доля золота в сырье до флотации\n",
    "F = train_df['rougher.input.feed_au']\n",
    "\n",
    "# Доля золота в хвостах после флотации\n",
    "T = train_df['rougher.output.tail_au']\n",
    "\n",
    "# Расчётная эффективность обогащения\n",
    "recovery_calculated = C * (F - T) / (F * (C - T)) * 100"
   ]
  },
  {
   "cell_type": "markdown",
   "metadata": {},
   "source": [
    "Проверим серии `recovery_given` и `recovery_calculated` на наличие пропусков и выбросов:"
   ]
  },
  {
   "cell_type": "code",
   "execution_count": 8,
   "metadata": {},
   "outputs": [
    {
     "name": "stdout",
     "output_type": "stream",
     "text": [
      "Пропусков: 0\n"
     ]
    },
    {
     "data": {
      "text/plain": [
       "count    14579.000000\n",
       "mean        82.521200\n",
       "std         15.797521\n",
       "min          0.000000\n",
       "25%         80.558542\n",
       "50%         85.946497\n",
       "75%         89.960375\n",
       "max        100.000000\n",
       "Name: rougher.output.recovery, dtype: float64"
      ]
     },
     "execution_count": 8,
     "metadata": {},
     "output_type": "execute_result"
    }
   ],
   "source": [
    "print(f\"Пропусков: {recovery_given.isna().sum()}\")\n",
    "recovery_given.describe()"
   ]
  },
  {
   "cell_type": "code",
   "execution_count": 9,
   "metadata": {},
   "outputs": [
    {
     "name": "stdout",
     "output_type": "stream",
     "text": [
      "Пропусков: 0\n"
     ]
    },
    {
     "data": {
      "text/plain": [
       "count    14579.000000\n",
       "mean        82.521200\n",
       "std         15.797521\n",
       "min         -0.000000\n",
       "25%         80.558542\n",
       "50%         85.946497\n",
       "75%         89.960375\n",
       "max        100.000000\n",
       "dtype: float64"
      ]
     },
     "execution_count": 9,
     "metadata": {},
     "output_type": "execute_result"
    }
   ],
   "source": [
    "print(f\"Пропусков: {recovery_calculated.isna().sum()}\")\n",
    "recovery_calculated.describe()"
   ]
  },
  {
   "cell_type": "markdown",
   "metadata": {},
   "source": [
    "Пропуски отсутствуют, выбросы со значениями больше 100 или меньше 0 не обнаружены."
   ]
  },
  {
   "cell_type": "markdown",
   "metadata": {},
   "source": [
    "#### MAE\n",
    "Рассчитаем среднюю абсолютную ошибку между исходными значенями Recovery и расчётными:"
   ]
  },
  {
   "cell_type": "code",
   "execution_count": 10,
   "metadata": {},
   "outputs": [
    {
     "name": "stdout",
     "output_type": "stream",
     "text": [
      "MAE: 9.83758577644259e-15\n"
     ]
    }
   ],
   "source": [
    "print(f\"MAE: {mean_absolute_error(recovery_given, recovery_calculated)}\")"
   ]
  },
  {
   "cell_type": "markdown",
   "metadata": {},
   "source": [
    "Средняя абсолютная ошибка стремится к нулю, следовательно, эффективность обогащения рассчитана правильно."
   ]
  },
  {
   "cell_type": "markdown",
   "metadata": {},
   "source": [
    "### Анализ признаков, недоступных в тестовой выборке\n",
    "Найдём столбцы, которые необходимо рассмотреть:"
   ]
  },
  {
   "cell_type": "code",
   "execution_count": 11,
   "metadata": {},
   "outputs": [
    {
     "data": {
      "text/plain": [
       "['final.output.concentrate_ag',\n",
       " 'final.output.concentrate_au',\n",
       " 'final.output.concentrate_pb',\n",
       " 'final.output.concentrate_sol',\n",
       " 'final.output.recovery',\n",
       " 'final.output.tail_ag',\n",
       " 'final.output.tail_au',\n",
       " 'final.output.tail_pb',\n",
       " 'final.output.tail_sol',\n",
       " 'primary_cleaner.output.concentrate_ag',\n",
       " 'primary_cleaner.output.concentrate_au',\n",
       " 'primary_cleaner.output.concentrate_pb',\n",
       " 'primary_cleaner.output.concentrate_sol',\n",
       " 'primary_cleaner.output.tail_ag',\n",
       " 'primary_cleaner.output.tail_au',\n",
       " 'primary_cleaner.output.tail_pb',\n",
       " 'primary_cleaner.output.tail_sol',\n",
       " 'rougher.calculation.au_pb_ratio',\n",
       " 'rougher.calculation.floatbank10_sulfate_to_au_feed',\n",
       " 'rougher.calculation.floatbank11_sulfate_to_au_feed',\n",
       " 'rougher.calculation.sulfate_to_au_concentrate',\n",
       " 'rougher.output.concentrate_ag',\n",
       " 'rougher.output.concentrate_au',\n",
       " 'rougher.output.concentrate_pb',\n",
       " 'rougher.output.concentrate_sol',\n",
       " 'rougher.output.recovery',\n",
       " 'rougher.output.tail_ag',\n",
       " 'rougher.output.tail_au',\n",
       " 'rougher.output.tail_pb',\n",
       " 'rougher.output.tail_sol',\n",
       " 'secondary_cleaner.output.tail_ag',\n",
       " 'secondary_cleaner.output.tail_au',\n",
       " 'secondary_cleaner.output.tail_pb',\n",
       " 'secondary_cleaner.output.tail_sol']"
      ]
     },
     "execution_count": 11,
     "metadata": {},
     "output_type": "execute_result"
    }
   ],
   "source": [
    "sorted(list((set(full_df.columns) - set(test_df.columns))))"
   ]
  },
  {
   "cell_type": "markdown",
   "metadata": {},
   "source": [
    "В **обучающей выборке** содержится 87 столбцов — то же количество, что и в исходных данных. Следовательно, она является срезом полного датафрейма с сохранением всех признаков.\n",
    "\n",
    "В **тестовой выборке** — 53 столбца, в ней отсутствуют признаки, содержащие два типа параметров:\n",
    "* `output` — выходные параметры сырья/продукта после каждого из этапов\n",
    "* `calculation` — расчётные характеристики\n",
    "\n",
    "Следовательно, тестовая выборка является имитацией работы модели в реальных условиях. Чтобы в будущем проверить модель на этой выборке, необходимо выполнить два условия:\n",
    "1. Удалить из обучающей выборки признаки, которых нет в тестовой.\n",
    "2. Дополнить тестовую выборку целевыми признаками из исходных данных:\n",
    "    * `rougher.output.recovery`\n",
    "    * `final.output.recovery`"
   ]
  },
  {
   "cell_type": "markdown",
   "metadata": {},
   "source": [
    "### Предобработка"
   ]
  },
  {
   "cell_type": "markdown",
   "metadata": {},
   "source": [
    "Ранее мы выяснили, что дубликаты в данных отсутствуют, но есть пропущенные значения. Проверим, есть ли пропуски в целевых признаках исходных данных и обучающей выборки:"
   ]
  },
  {
   "cell_type": "code",
   "execution_count": 12,
   "metadata": {},
   "outputs": [
    {
     "name": "stdout",
     "output_type": "stream",
     "text": [
      "Пропусков в целевых признаках исходных данных: 0\n",
      "Пропусков в целевых признаках обучающей выборки: 0\n"
     ]
    }
   ],
   "source": [
    "target_columns = ['rougher.output.recovery', 'final.output.recovery']\n",
    "\n",
    "print(f\"Пропусков в целевых признаках исходных данных: {full_df[target_columns].isna().sum().sum()}\")\n",
    "print(f\"Пропусков в целевых признаках обучающей выборки: {(train_df[target_columns].isna().sum().sum())}\")"
   ]
  },
  {
   "cell_type": "markdown",
   "metadata": {},
   "source": [
    "Пропуски в целевых признаках отсутствуют.\n",
    "\n",
    "Так как данные индексируются датой и временем получения информации, соседние по времени параметры часто похожи. Заполним пропуски с помощью метода `'ffill'`, который заменяет пропущенное значение ближайшим ненулевым значением в столбце."
   ]
  },
  {
   "cell_type": "code",
   "execution_count": 13,
   "metadata": {},
   "outputs": [
    {
     "name": "stdout",
     "output_type": "stream",
     "text": [
      "Пропусков в исходных данных: 0\n",
      "Пропусков в обучающеё выборке: 0\n"
     ]
    }
   ],
   "source": [
    "full_df = full_df.fillna(method='ffill')\n",
    "train_df = train_df.fillna(method='ffill')\n",
    "\n",
    "# Проверка\n",
    "print(f\"Пропусков в исходных данных: {full_df.isna().sum().sum()}\")\n",
    "print(f\"Пропусков в обучающеё выборке: {train_df.isna().sum().sum()}\")"
   ]
  },
  {
   "cell_type": "markdown",
   "metadata": {},
   "source": [
    "Пропуски в исходных данных и обучающей выборке обработаны."
   ]
  },
  {
   "cell_type": "markdown",
   "metadata": {},
   "source": [
    "### Итоги этапа\n",
    "В ходе подготовительной работы мы смогли:\n",
    "1. Успешно загрузить все три датасета.\n",
    "2. Убедиться в правильности расчёта Recovery (эффективности обогащения).\n",
    "3. Проанализировать недостающие признаки в тестовой выборке и выдвинуть гипотезу о причине их появления.\n",
    "4. Предобработать данные, избавившись от пропусков."
   ]
  },
  {
   "cell_type": "markdown",
   "metadata": {},
   "source": [
    "## Анализ данных"
   ]
  },
  {
   "cell_type": "markdown",
   "metadata": {},
   "source": [
    "### Изменение концентрации металлов"
   ]
  },
  {
   "attachments": {
    "image.png": {
     "image/png": "[encoded data removed]"
    }
   },
   "cell_type": "markdown",
   "metadata": {},
   "source": [
    "Схема технологического процесса:\n",
    "\n",
    "![image.png](attachment:image.png)"
   ]
  },
  {
   "cell_type": "markdown",
   "metadata": {},
   "source": [
    "Необходимо понять, как меняется концентрация металлов (Au, Ag, Pb) на различных этапах:\n",
    "* в сырье,\n",
    "* в черновом концентрате,\n",
    "* в концентрате после первой очистки,\n",
    "* в финальном концентрате."
   ]
  },
  {
   "cell_type": "markdown",
   "metadata": {},
   "source": [
    "#### Сырьё"
   ]
  },
  {
   "cell_type": "code",
   "execution_count": 14,
   "metadata": {},
   "outputs": [
    {
     "data": {
      "image/png": "[encoded data removed]",
      "text/plain": [
       "<Figure size 1600x900 with 1 Axes>"
      ]
     },
     "metadata": {},
     "output_type": "display_data"
    }
   ],
   "source": [
    "plt.figure(figsize=(16,9))\n",
    "sns.boxplot(data=train_df[['rougher.input.feed_au',\n",
    "                           'rougher.input.feed_ag',\n",
    "                           'rougher.input.feed_pb']])\n",
    "\n",
    "plt.ylabel('Концентрация')\n",
    "plt.xlabel('Металл')\n",
    "plt.xticks(ticks=[0, 1, 2],\n",
    "           labels=['Au', 'Ag','Pb'])\n",
    "\n",
    "plt.show()"
   ]
  },
  {
   "cell_type": "markdown",
   "metadata": {},
   "source": [
    "#### Черновой концентрат"
   ]
  },
  {
   "cell_type": "code",
   "execution_count": 15,
   "metadata": {},
   "outputs": [
    {
     "data": {
      "image/png": "[encoded data removed]",
      "text/plain": [
       "<Figure size 1600x900 with 1 Axes>"
      ]
     },
     "metadata": {},
     "output_type": "display_data"
    }
   ],
   "source": [
    "plt.figure(figsize=(16,9))\n",
    "sns.boxplot(data=train_df[['rougher.output.concentrate_au',\n",
    "                           'rougher.output.concentrate_ag',\n",
    "                           'rougher.output.concentrate_pb']])\n",
    "plt.ylabel('Концентрация')\n",
    "plt.xlabel('Металл')\n",
    "plt.xticks(ticks=[0, 1, 2],\n",
    "           labels=['Au', 'Ag','Pb'])\n",
    "\n",
    "plt.show()"
   ]
  },
  {
   "cell_type": "markdown",
   "metadata": {},
   "source": [
    "#### Концентрат после первой очистки"
   ]
  },
  {
   "cell_type": "code",
   "execution_count": 16,
   "metadata": {
    "scrolled": false
   },
   "outputs": [
    {
     "data": {
      "image/png": "[encoded data removed]",
      "text/plain": [
       "<Figure size 1600x900 with 1 Axes>"
      ]
     },
     "metadata": {},
     "output_type": "display_data"
    }
   ],
   "source": [
    "plt.figure(figsize=(16,9))\n",
    "sns.boxplot(data=train_df[['primary_cleaner.output.concentrate_au',\n",
    "                           'primary_cleaner.output.concentrate_ag',\n",
    "                           'primary_cleaner.output.concentrate_pb']])\n",
    "\n",
    "plt.ylabel('Концентрация')\n",
    "plt.xlabel('Металл')\n",
    "plt.xticks(ticks=[0, 1, 2],\n",
    "           labels=['Au', 'Ag','Pb'])\n",
    "\n",
    "plt.show()"
   ]
  },
  {
   "cell_type": "markdown",
   "metadata": {},
   "source": [
    "#### Финальный концентрат"
   ]
  },
  {
   "cell_type": "code",
   "execution_count": 17,
   "metadata": {
    "scrolled": false
   },
   "outputs": [
    {
     "data": {
      "image/png": "[encoded data removed]",
      "text/plain": [
       "<Figure size 1600x900 with 1 Axes>"
      ]
     },
     "metadata": {},
     "output_type": "display_data"
    }
   ],
   "source": [
    "plt.figure(figsize=(16,9))\n",
    "sns.boxplot(data=train_df[['final.output.concentrate_au',\n",
    "                           'final.output.concentrate_ag',\n",
    "                           'final.output.concentrate_pb']])\n",
    "\n",
    "plt.ylabel('Концентрация')\n",
    "plt.xlabel('Металл')\n",
    "plt.xticks(ticks=[0, 1, 2],\n",
    "           labels=['Au', 'Ag','Pb'])\n",
    "\n",
    "plt.show()"
   ]
  },
  {
   "cell_type": "markdown",
   "metadata": {},
   "source": [
    "**Наблюдения**\n",
    "* Концентрация золота стабильно растёт от этапа к этапу.\n",
    "* Концентрация серебра, наборот, сокращается почти в три раза.\n",
    "* Концентрация свинца увеличивается после этапа первой очистки, оставаясь практически неизменной в финальном концентрате."
   ]
  },
  {
   "cell_type": "markdown",
   "metadata": {},
   "source": [
    "На диаграмме размаха наблюдается значительное количество нижних выбросов. Вероятно, это обусловлено неравномерностью гранул сырья и распределением металлов в них. Причины появления выбросов и более точную оценку этих значений может дать специалист в области обработки руды.\n",
    "\n",
    "Отделим самые явные выбросы по 5-му перцентилю:"
   ]
  },
  {
   "cell_type": "code",
   "execution_count": 18,
   "metadata": {},
   "outputs": [],
   "source": [
    "# Перцентиль, определящий порог \n",
    "Q = 0.05\n",
    "\n",
    "concentrate_columns = ['rougher.input.feed_au',\n",
    "                       'rougher.input.feed_ag',\n",
    "                       'rougher.input.feed_pb',\n",
    "                      \n",
    "                       'rougher.output.concentrate_au',\n",
    "                       'rougher.output.concentrate_ag',\n",
    "                       'rougher.output.concentrate_pb',\n",
    "                       \n",
    "                       'primary_cleaner.output.concentrate_au',\n",
    "                       'primary_cleaner.output.concentrate_ag',\n",
    "                       'primary_cleaner.output.concentrate_pb',\n",
    "                       \n",
    "                       'final.output.concentrate_au',\n",
    "                       'final.output.concentrate_ag',\n",
    "                       'final.output.concentrate_pb']\n",
    "\n",
    "mask = (train_df[concentrate_columns] < train_df[concentrate_columns].quantile(Q)).any(axis=1)\n",
    "filtered_df = train_df[~mask]"
   ]
  },
  {
   "cell_type": "markdown",
   "metadata": {},
   "source": [
    "Проверим распределения в отфильтрованном датафрейме на примере первого этапа `rougher.input.feed`:"
   ]
  },
  {
   "cell_type": "code",
   "execution_count": 19,
   "metadata": {},
   "outputs": [
    {
     "data": {
      "image/png": "[encoded data removed]",
      "text/plain": [
       "<Figure size 1600x900 with 1 Axes>"
      ]
     },
     "metadata": {},
     "output_type": "display_data"
    }
   ],
   "source": [
    "plt.figure(figsize=(16,9))\n",
    "sns.boxplot(data=filtered_df[['rougher.input.feed_au',\n",
    "                              'rougher.input.feed_ag',\n",
    "                              'rougher.input.feed_pb']])\n",
    "plt.ylabel('Концентрация')\n",
    "plt.xlabel('Металл')\n",
    "plt.xticks(ticks=[0, 1, 2],\n",
    "           labels=['Au', 'Ag','Pb'])\n",
    "\n",
    "plt.show()"
   ]
  },
  {
   "cell_type": "markdown",
   "metadata": {},
   "source": [
    "Медианные значения сместились незначительно. Нижние выбросы отсутствуют. Сохраним отфильтрованный датафрейм в основную тренировочную выборку:"
   ]
  },
  {
   "cell_type": "code",
   "execution_count": 20,
   "metadata": {},
   "outputs": [],
   "source": [
    "train_df = filtered_df"
   ]
  },
  {
   "cell_type": "markdown",
   "metadata": {},
   "source": [
    "### Распределение размеров гранул"
   ]
  },
  {
   "cell_type": "markdown",
   "metadata": {},
   "source": [
    "Проверим, насколько сильно отличаются друг от друга параметры исходного сырья на обучающей и тестовой выборках."
   ]
  },
  {
   "cell_type": "code",
   "execution_count": 21,
   "metadata": {},
   "outputs": [
    {
     "data": {
      "image/png": "[encoded data removed]",
      "text/plain": [
       "<Figure size 1600x900 with 1 Axes>"
      ]
     },
     "metadata": {},
     "output_type": "display_data"
    }
   ],
   "source": [
    "plt.figure(figsize=(16, 9))\n",
    "\n",
    "sns.boxplot(data=[train_df['rougher.input.feed_size'],\n",
    "                  test_df['rougher.input.feed_size']])\n",
    "\n",
    "plt.xticks(ticks=[0, 1], labels=['Train', 'Test'])\n",
    "plt.xlabel('Dataset')\n",
    "plt.ylabel('Input Feed Size')\n",
    "plt.show()"
   ]
  },
  {
   "cell_type": "markdown",
   "metadata": {},
   "source": [
    "За исключением выбросов, распределение размеров гранул исходного сырья в обучающей и тестовой выборке преимущественно одинаковы. За счёт этого, будущая модель будет ошибаться с меньшей вероятностью."
   ]
  },
  {
   "cell_type": "code",
   "execution_count": 22,
   "metadata": {},
   "outputs": [
    {
     "data": {
      "image/png": "[encoded data removed]",
      "text/plain": [
       "<Figure size 1600x900 with 1 Axes>"
      ]
     },
     "metadata": {},
     "output_type": "display_data"
    }
   ],
   "source": [
    "plt.figure(figsize=(16, 9))\n",
    "\n",
    "# Гистограммы\n",
    "plt.hist(train_df['rougher.input.feed_size'], bins=100, alpha=0.5, label='Train')\n",
    "plt.hist(test_df['rougher.input.feed_size'], bins=100, alpha=0.5, label='Test')\n",
    "\n",
    "# Медианы\n",
    "train_median = np.median(train_df['rougher.input.feed_size'])\n",
    "test_median = np.median(test_df['rougher.input.feed_size'].dropna())\n",
    "plt.axvline(x=train_median, color='r', linestyle='-', label='Train Median: {:.2f}'.format(train_median))\n",
    "plt.axvline(x=test_median, color='b', linestyle='-', label='Test Median: {:.2f}'.format(test_median))\n",
    "\n",
    "plt.xlabel('Input Feed Size')\n",
    "plt.ylabel('Frequency')\n",
    "plt.legend()\n",
    "plt.show()"
   ]
  },
  {
   "cell_type": "markdown",
   "metadata": {},
   "source": [
    "### Суммарная концентрация металлов"
   ]
  },
  {
   "cell_type": "markdown",
   "metadata": {},
   "source": [
    "Суммируем концентрации трёх металлов (Au, Ag, Pb) и отобразим распределение на трёх этапах:"
   ]
  },
  {
   "cell_type": "code",
   "execution_count": 23,
   "metadata": {},
   "outputs": [
    {
     "data": {
      "image/png": "[encoded data removed]",
      "text/plain": [
       "<Figure size 1600x900 with 1 Axes>"
      ]
     },
     "metadata": {},
     "output_type": "display_data"
    }
   ],
   "source": [
    "metal_concentrate = pd.DataFrame()\n",
    "\n",
    "\n",
    "# Начало\n",
    "metal_concentrate['rougher.input'] = train_df['rougher.input.feed_au']+\\\n",
    "                                     train_df['rougher.input.feed_ag']+\\\n",
    "                                     train_df['rougher.input.feed_pb']\n",
    "\n",
    "# Черновой концентрат\n",
    "metal_concentrate['rougher.output'] = train_df['rougher.output.concentrate_au']+\\\n",
    "                                      train_df['rougher.output.concentrate_ag']+\\\n",
    "                                      train_df['rougher.output.concentrate_pb']\n",
    "# Концентрат после первой очистки\n",
    "metal_concentrate['primary_cleaner.output'] = train_df['primary_cleaner.output.concentrate_au']+\\\n",
    "                                              train_df['primary_cleaner.output.concentrate_ag']+\\\n",
    "                                              train_df['primary_cleaner.output.concentrate_pb']\n",
    "# Финальный концентрат\n",
    "metal_concentrate['final.output'] = train_df['final.output.concentrate_au']+\\\n",
    "                                    train_df['final.output.concentrate_ag']+\\\n",
    "                                    train_df['final.output.concentrate_pb']\n",
    "\n",
    "# Визуализация распределений\n",
    "plt.figure(figsize=(16,9))\n",
    "sns.boxplot(data=metal_concentrate)\n",
    "\n",
    "plt.ylabel('Концентрация')\n",
    "plt.xlabel('Этап')\n",
    "plt.xticks(ticks=[0, 1, 2, 3],\n",
    "           labels=['Rougher Input',\n",
    "                   'Rougher Output',\n",
    "                   'Primary Cleaner Output',\n",
    "                   'Final Output'])\n",
    "\n",
    "plt.show()"
   ]
  },
  {
   "cell_type": "markdown",
   "metadata": {},
   "source": [
    "**Наблюдения**\n",
    "* Суммарная концентрация металлов стабильно растёт после каждого этапа.\n",
    "* В распределении присутствует большое количество выбросов ниже первого квартиля."
   ]
  },
  {
   "cell_type": "markdown",
   "metadata": {},
   "source": [
    "### Итоги этапа\n",
    "В ходе анализа данных нам удалось:\n",
    "1. Определить, как изменяется концентрация металлов (Au, Ag, Pb) на каждом из 4-х этапов обработки.\n",
    "2. Удостовериться, что распределение размеров гранул на выборках различается незначительно.\n",
    "3. Отследить динамику изменения суммарной коцентрации металлов на всех этапах."
   ]
  },
  {
   "cell_type": "markdown",
   "metadata": {},
   "source": [
    "## Модель"
   ]
  },
  {
   "cell_type": "markdown",
   "metadata": {},
   "source": [
    "### Функция для вычисления sMAPE"
   ]
  },
  {
   "attachments": {
    "image-2.png": {
     "image/png": "[encoded data removed]"
    },
    "image.png": {
     "image/png": "[encoded data removed]"
    }
   },
   "cell_type": "markdown",
   "metadata": {},
   "source": [
    "Формулы метрик качества:\n",
    "\n",
    "![image.png](attachment:image.png)\n",
    "![image-2.png](attachment:image-2.png)"
   ]
  },
  {
   "cell_type": "markdown",
   "metadata": {},
   "source": [
    "Напишем функцию, вычисляющую итоговую sMAPE.\n",
    "\n",
    "Обозначения переменных:\n",
    "* **y** — вектор целевых признаков\n",
    "* **y_pred** — вектор предсказаний модели"
   ]
  },
  {
   "cell_type": "code",
   "execution_count": 24,
   "metadata": {},
   "outputs": [],
   "source": [
    "def sMAPE (y, y_pred):\n",
    "    \"\"\" Подсчёт итогового sMAPE по целевым признакам и предсказаниям модели \"\"\"\n",
    "\n",
    "    # Черновой концентрат\n",
    "    y_rougher = y[:,0]\n",
    "    y_pred_rougher = y_pred[:,0]\n",
    "    \n",
    "    # Финальный концентрат\n",
    "    y_final = y[:,1]\n",
    "    y_pred_final = y_pred[:,1]\n",
    "    \n",
    "    try:\n",
    "        sMAPE_rogher = (abs(y_rougher - y_pred_rougher) / (abs(y_rougher) + abs(y_pred_rougher)/2)).mean() * 100\n",
    "    except:\n",
    "        sMAPE_rogher = 0\n",
    "    \n",
    "    try:\n",
    "        sMAPE_final = ((abs(y_final - y_pred_final) / ((abs(y_final) + abs(y_pred_final)/2)))).mean() * 100\n",
    "    except:\n",
    "        sMAPE_final = 0\n",
    "    \n",
    "    # Итоговое sMAPE\n",
    "    sMAPE = 0.25*sMAPE_rogher + 0.75*sMAPE_final\n",
    "    \n",
    "    return sMAPE"
   ]
  },
  {
   "cell_type": "code",
   "execution_count": 25,
   "metadata": {},
   "outputs": [],
   "source": [
    "def sMAPE (y, y_pred):\n",
    "    \"\"\" Подсчёт итогового sMAPE по целевым признакам и предсказаниям модели \"\"\"\n",
    "\n",
    "    # Черновой концентрат\n",
    "    y_rougher = y[:,0]\n",
    "    y_pred_rougher = y_pred[:,0]\n",
    "    \n",
    "    # Финальный концентрат\n",
    "    y_final = y[:,1]\n",
    "    y_pred_final = y_pred[:,1]\n",
    "    \n",
    "    def smape(y_true, y_pred):\n",
    "        try:\n",
    "            smape = (abs(y_true - y_pred) / (abs(y_true) + abs(y_pred)/2)).mean() * 100\n",
    "        except:\n",
    "            smape = 0\n",
    "        return smape\n",
    "    \n",
    "    \n",
    "    # Итоговое sMAPE\n",
    "    sMAPE = 0.25*smape(y_rougher, y_pred_rougher) + 0.75*smape(y_final, y_pred_final)\n",
    "    \n",
    "    return sMAPE"
   ]
  },
  {
   "cell_type": "markdown",
   "metadata": {},
   "source": [
    "### Обучение моделей"
   ]
  },
  {
   "cell_type": "markdown",
   "metadata": {},
   "source": [
    "#### Подготовка выборок"
   ]
  },
  {
   "cell_type": "markdown",
   "metadata": {},
   "source": [
    "В векторе признаков сохраним только те, которые есть в тестовой выборке, а целевыми признаками будут:\n",
    "* `rougher.output.recovery`\n",
    "* `final.output.recovery`"
   ]
  },
  {
   "cell_type": "code",
   "execution_count": 26,
   "metadata": {},
   "outputs": [],
   "source": [
    "test_features = test_df.columns\n",
    "\n",
    "X = train_df[test_features].drop(['date'],axis=1)\n",
    "y = train_df[['rougher.output.recovery','final.output.recovery']]\n",
    "y_arr = np.array(y) "
   ]
  },
  {
   "cell_type": "markdown",
   "metadata": {},
   "source": [
    "Так как в тестовой выборке отсутствуют целевые признаки, восстановим их из исходных данных:"
   ]
  },
  {
   "cell_type": "code",
   "execution_count": 27,
   "metadata": {},
   "outputs": [],
   "source": [
    "test_df = test_df.set_index('date')\n",
    "test_df['rougher.output.recovery'] = test_df.index.map(full_df.set_index('date')['rougher.output.recovery'])\n",
    "test_df['final.output.recovery'] = test_df.index.map(full_df.set_index('date')['final.output.recovery'])\n",
    "test_df = test_df.dropna()"
   ]
  },
  {
   "cell_type": "code",
   "execution_count": 28,
   "metadata": {},
   "outputs": [],
   "source": [
    "test_features = test_features.drop('date')\n",
    "X_test = test_df[test_features]\n",
    "y_test = test_df[['rougher.output.recovery','final.output.recovery']]\n",
    "y_test_arr = np.array(y_test)"
   ]
  },
  {
   "cell_type": "markdown",
   "metadata": {},
   "source": [
    "#### Линейная Регрессия"
   ]
  },
  {
   "cell_type": "markdown",
   "metadata": {},
   "source": [
    "Из-за удаления выбросов, необходимо сбросить индексы:"
   ]
  },
  {
   "cell_type": "code",
   "execution_count": 29,
   "metadata": {},
   "outputs": [],
   "source": [
    "X.reset_index(drop=True, inplace=True)"
   ]
  },
  {
   "cell_type": "markdown",
   "metadata": {},
   "source": [
    "В выборке будет 5 сэмплов, рассчитаем размер для каждого:"
   ]
  },
  {
   "cell_type": "code",
   "execution_count": 30,
   "metadata": {},
   "outputs": [],
   "source": [
    "sample_size=len(X)//5"
   ]
  },
  {
   "cell_type": "markdown",
   "metadata": {},
   "source": [
    "Проведём кросс-валидацию модели линейной регрессии с помощью функции `cross_val_score()` и метрики нашего проекта `sMAPE`:"
   ]
  },
  {
   "cell_type": "code",
   "execution_count": 31,
   "metadata": {},
   "outputs": [
    {
     "name": "stdout",
     "output_type": "stream",
     "text": [
      "Среднее значение sMAPE: 5.602868964478799\n"
     ]
    }
   ],
   "source": [
    "# Скорер на основе sMAPE\n",
    "sMAPE_scorer = make_scorer(sMAPE, greater_is_better=False)\n",
    "\n",
    "# Инициализация и кросс-валидация\n",
    "LR_model = LinearRegression()\n",
    "scores = cross_val_score(LR_model, X, y_arr, cv=5, scoring=sMAPE_scorer)\n",
    "\n",
    "print(f\"Среднее значение sMAPE: {(np.mean(abs(scores)))}\")"
   ]
  },
  {
   "cell_type": "markdown",
   "metadata": {},
   "source": [
    "#### Случайный Лес"
   ]
  },
  {
   "cell_type": "code",
   "execution_count": 32,
   "metadata": {},
   "outputs": [
    {
     "name": "stdout",
     "output_type": "stream",
     "text": [
      "Оптимальные гиперпараметры\n",
      "------------------------------\n",
      "Глубина: 3\n",
      "Количество деревьев: 3\n",
      "------------------------------\n",
      "Средняя оценка sMAPE: 5.047343128464432\n"
     ]
    }
   ],
   "source": [
    "# Инициализация модели\n",
    "RF_model = RandomForestRegressor()\n",
    "\n",
    "# Сетка гиперпараметров для перебора\n",
    "param_grid = {\n",
    "    'n_estimators': range(1, 5),\n",
    "    'max_depth': range(2, 6)\n",
    "}\n",
    "\n",
    "# GridSearchCV с метрикой sMAPE\n",
    "grid_search = GridSearchCV(estimator=RF_model,\n",
    "                           param_grid=param_grid,\n",
    "                           cv=5,\n",
    "                           scoring=sMAPE_scorer)\n",
    "grid_search.fit(X, y_arr)\n",
    "\n",
    "# Вывод наилучших гиперпараметров\n",
    "print(f\"Оптимальные гиперпараметры\\n{30*'-'}\")\n",
    "print(f\"Глубина: {grid_search.best_params_['max_depth']}\")\n",
    "print(f\"Количество деревьев: {grid_search.best_params_['n_estimators']}\")\n",
    "\n",
    "# В значении .best_score_ лежит средня оценка по фолдам для лучшей модели\n",
    "print(f\"{30*'-'}\\nСредняя оценка sMAPE: {abs(grid_search.best_score_)}\")"
   ]
  },
  {
   "cell_type": "markdown",
   "metadata": {},
   "source": [
    "#### Метод опорных векторов"
   ]
  },
  {
   "cell_type": "code",
   "execution_count": 33,
   "metadata": {},
   "outputs": [
    {
     "name": "stdout",
     "output_type": "stream",
     "text": [
      "Среднее значение sMAPE: 6.825010031958873\n"
     ]
    }
   ],
   "source": [
    "sMAPE_list = []\n",
    "\n",
    "for i in range (0, len(y)-sample_size, sample_size):\n",
    "    \n",
    "    # Индексы для валидационной и тренировочных выборок\n",
    "    valid_ixs = X.iloc[i: i+sample_size].index\n",
    "    train_ixs = X.query('index not in @valid_ixs').index\n",
    "    \n",
    "    # Выборки\n",
    "    X_train = X.iloc[train_ixs]\n",
    "    y_train = y.iloc[train_ixs]\n",
    "    \n",
    "    X_valid = X.iloc[valid_ixs]\n",
    "    y_valid = y.iloc[valid_ixs]\n",
    "    y_valid_arr = np.array(y_valid)\n",
    "    \n",
    "    # Разделение на два целевых признака \n",
    "    y_train_1 = y_train.iloc[:, 0]\n",
    "    y_train_2 = y_train.iloc[:, 1]\n",
    "    \n",
    "    # Модель №1 для признака 'rougher.output.recovery'\n",
    "    SVR1_model = LinearSVR(C=1.0,                        # Регуляризация (штраф за ошибки модели)      \n",
    "                            dual=True,                   # Проблема двойственности\n",
    "                            epsilon=0.0,                 # Интервал игнорирования ошибок\n",
    "                            fit_intercept=True,          # Подгонка свободного члена\n",
    "                            intercept_scaling=1.0,       # Масштабный коэффициент свободного члена\n",
    "                            loss='epsilon_insensitive',  # Функция потерь\n",
    "                            max_iter=1000,               # Число итераций для поиска оптимального веса\n",
    "                            random_state=0,              # Волшебный рандом\n",
    "                            tol=1e-05,                   # Условие прекращения итераций\n",
    "                            verbose=0)                   # Уровень подробности вывода\n",
    "    \n",
    "    SVR1_model.fit(X_train, y_train_1)\n",
    "    y1_pred = SVR1_model.predict(X_valid)\n",
    "    \n",
    "    \n",
    "    # Модель №2 для признака 'final.output.recovery'\n",
    "    SVR2_model = LinearSVR()\n",
    "    SVR2_model.fit(X_train, y_train_2)\n",
    "    y2_pred = SVR2_model.predict(X_valid)\n",
    "    \n",
    "    # Преобразование предсказаний для расчёта sMAPE\n",
    "    y_pred = pd.DataFrame(y1_pred)\n",
    "    y_pred['final.output.recovery'] = pd.DataFrame(y2_pred)\n",
    "    y_pred.set_axis(['rougher.output.recovery','final.output.recovery'],axis='columns')\n",
    "    y_pred = np.array(y_pred)\n",
    "    \n",
    "    # Вычисление sMAPE для каждого сэмпла\n",
    "    sMAPE_list.append(sMAPE(y_valid_arr, y_pred))\n",
    "    \n",
    "print(f\"Среднее значение sMAPE: {np.mean(sMAPE_list)}\")   "
   ]
  },
  {
   "cell_type": "markdown",
   "metadata": {},
   "source": [
    "Минимальное среднее значение метрики sMAPE на кросс-валидации было получено для модели **Случайного Леса** с глубиной — 2 и количеством деревьев — 3.\n",
    "\n",
    "Так как sMAPE — это метрика, которую необходимо минимизировать, выбранная модель является лучшей из трёх. Именно её мы и будем проверять."
   ]
  },
  {
   "cell_type": "markdown",
   "metadata": {},
   "source": [
    "---"
   ]
  },
  {
   "cell_type": "markdown",
   "metadata": {},
   "source": [
    "## Тестирование"
   ]
  },
  {
   "cell_type": "markdown",
   "metadata": {},
   "source": [
    "#### Проверка на тестовой выборке"
   ]
  },
  {
   "cell_type": "markdown",
   "metadata": {},
   "source": [
    "Проверяем модель случайного леса:"
   ]
  },
  {
   "cell_type": "code",
   "execution_count": 34,
   "metadata": {},
   "outputs": [
    {
     "name": "stdout",
     "output_type": "stream",
     "text": [
      "sMAPE: 5.207759751097383\n"
     ]
    }
   ],
   "source": [
    "RF_model = RandomForestRegressor(random_state=RANDOM_STATE,\n",
    "                                 max_depth=3,\n",
    "                                 n_estimators=2)\n",
    "RF_model.fit(X_train, y_train)\n",
    "y_pred = RF_model.predict(X_test)\n",
    "\n",
    "print(f\"sMAPE: {sMAPE(y_test_arr, y_pred)}\")"
   ]
  },
  {
   "cell_type": "markdown",
   "metadata": {},
   "source": [
    "Значение sMAPE немного ухудшилось по сравнению со средним значением на обучающей выборке. Но всё ещё лучше, чем у двух остальных моделей. Следовательно, осталось только проверить нашу модель на адекватность."
   ]
  },
  {
   "cell_type": "markdown",
   "metadata": {},
   "source": [
    "#### Проверка модели на адекватность"
   ]
  },
  {
   "cell_type": "markdown",
   "metadata": {},
   "source": [
    "Создадим константную модель:"
   ]
  },
  {
   "cell_type": "code",
   "execution_count": 35,
   "metadata": {},
   "outputs": [
    {
     "name": "stdout",
     "output_type": "stream",
     "text": [
      "sMAPE: 5.706932081365801\n"
     ]
    }
   ],
   "source": [
    "dummy_regr = DummyRegressor(strategy=\"mean\")\n",
    "dummy_regr.fit(X_train, y_train)\n",
    "\n",
    "y_pred= dummy_regr.predict(X_test)\n",
    "\n",
    "print(f\"sMAPE: {sMAPE(y_test_arr, y_pred)}\")"
   ]
  },
  {
   "cell_type": "markdown",
   "metadata": {},
   "source": [
    "Использование обученной модели Случайного Леса даёт преимущество примерно в 0,5 по метрике `sMAPE` по сравнению с константной моделью."
   ]
  },
  {
   "cell_type": "markdown",
   "metadata": {},
   "source": [
    "# Выводы\n",
    "В ходе работы были исследованы наборы данных с параметрами добычи и очистки золотосодержащей руды.\n",
    "На основе этих данных были обучены три различных типа моделей:\n",
    "* Линейная Регрессия\n",
    "* Случайный Лес\n",
    "* LinearSVM\n",
    "\n",
    "Лучшей по результатам анализа стала модель **Случайного Леса** с глубиной — 3 и количеством деревьев — 2. Она проверена на тестовой выборке и по метрике sMAPE показала себя на 0,5 лучше, чем константная модель.\n",
    "\n",
    "Именно модель **Случайного Леса** мы рекомендуем к внедрению."
   ]
  }
 ],
 "metadata": {
  "ExecuteTimeLog": [
   {
    "duration": 1373,
    "start_time": "2023-08-03T11:20:40.352Z"
   },
   {
    "duration": 1569,
    "start_time": "2023-08-03T11:26:05.394Z"
   },
   {
    "duration": 507,
    "start_time": "2023-08-03T11:27:22.804Z"
   },
   {
    "duration": 2507,
    "start_time": "2023-08-03T11:28:09.866Z"
   },
   {
    "duration": 30,
    "start_time": "2023-08-03T11:29:25.386Z"
   },
   {
    "duration": 424,
    "start_time": "2023-08-03T11:31:21.341Z"
   },
   {
    "duration": 46,
    "start_time": "2023-08-03T11:31:39.804Z"
   },
   {
    "duration": 753,
    "start_time": "2023-08-03T11:32:07.347Z"
   },
   {
    "duration": 18,
    "start_time": "2023-08-03T11:32:08.651Z"
   },
   {
    "duration": 15,
    "start_time": "2023-08-03T11:33:00.862Z"
   },
   {
    "duration": 14,
    "start_time": "2023-08-03T11:33:14.351Z"
   },
   {
    "duration": 15,
    "start_time": "2023-08-03T11:33:17.773Z"
   },
   {
    "duration": 16,
    "start_time": "2023-08-03T11:33:42.534Z"
   },
   {
    "duration": 16,
    "start_time": "2023-08-03T11:33:43.668Z"
   },
   {
    "duration": 16,
    "start_time": "2023-08-03T11:35:08.249Z"
   },
   {
    "duration": 23,
    "start_time": "2023-08-03T11:35:15.043Z"
   },
   {
    "duration": 19,
    "start_time": "2023-08-03T11:35:40.385Z"
   },
   {
    "duration": 21,
    "start_time": "2023-08-03T11:36:43.279Z"
   },
   {
    "duration": 764,
    "start_time": "2023-08-03T11:38:20.941Z"
   },
   {
    "duration": 19,
    "start_time": "2023-08-03T11:38:22.090Z"
   },
   {
    "duration": 20,
    "start_time": "2023-08-03T11:38:23.427Z"
   },
   {
    "duration": 20,
    "start_time": "2023-08-03T11:38:40.292Z"
   },
   {
    "duration": 20,
    "start_time": "2023-08-03T11:39:16.633Z"
   },
   {
    "duration": 22,
    "start_time": "2023-08-03T11:39:33.610Z"
   },
   {
    "duration": 229,
    "start_time": "2023-08-03T11:39:56.280Z"
   },
   {
    "duration": 224,
    "start_time": "2023-08-03T11:40:08.836Z"
   },
   {
    "duration": 219,
    "start_time": "2023-08-03T11:40:16.409Z"
   },
   {
    "duration": 213,
    "start_time": "2023-08-03T11:40:22.384Z"
   },
   {
    "duration": 13,
    "start_time": "2023-08-03T11:40:40.556Z"
   },
   {
    "duration": 18,
    "start_time": "2023-08-03T11:40:43.577Z"
   },
   {
    "duration": 32,
    "start_time": "2023-08-03T11:41:01.950Z"
   },
   {
    "duration": 21,
    "start_time": "2023-08-03T11:42:29.121Z"
   },
   {
    "duration": 5,
    "start_time": "2023-08-03T11:42:38.064Z"
   },
   {
    "duration": 25,
    "start_time": "2023-08-03T11:42:50.260Z"
   },
   {
    "duration": 3,
    "start_time": "2023-08-03T11:45:52.003Z"
   },
   {
    "duration": 15,
    "start_time": "2023-08-03T11:46:16.989Z"
   },
   {
    "duration": 3,
    "start_time": "2023-08-03T11:46:26.264Z"
   },
   {
    "duration": 3,
    "start_time": "2023-08-03T11:46:26.849Z"
   },
   {
    "duration": 3,
    "start_time": "2023-08-03T11:46:35.465Z"
   },
   {
    "duration": 21,
    "start_time": "2023-08-03T11:46:36.430Z"
   },
   {
    "duration": 3,
    "start_time": "2023-08-03T11:48:01.465Z"
   },
   {
    "duration": 26,
    "start_time": "2023-08-03T11:48:01.937Z"
   },
   {
    "duration": 4,
    "start_time": "2023-08-03T11:49:49.736Z"
   },
   {
    "duration": 24,
    "start_time": "2023-08-03T11:49:50.528Z"
   },
   {
    "duration": 3,
    "start_time": "2023-08-03T11:50:27.297Z"
   },
   {
    "duration": 23,
    "start_time": "2023-08-03T11:50:28.105Z"
   },
   {
    "duration": 3,
    "start_time": "2023-08-03T11:51:02.701Z"
   },
   {
    "duration": 22,
    "start_time": "2023-08-03T11:51:04.648Z"
   },
   {
    "duration": 3,
    "start_time": "2023-08-03T11:51:29.094Z"
   },
   {
    "duration": 23,
    "start_time": "2023-08-03T11:51:29.703Z"
   },
   {
    "duration": 3,
    "start_time": "2023-08-03T11:52:01.327Z"
   },
   {
    "duration": 23,
    "start_time": "2023-08-03T11:52:03.004Z"
   },
   {
    "duration": 75,
    "start_time": "2023-08-03T11:52:59.301Z"
   },
   {
    "duration": 3,
    "start_time": "2023-08-03T11:53:12.679Z"
   },
   {
    "duration": 23,
    "start_time": "2023-08-03T11:53:13.546Z"
   },
   {
    "duration": 3,
    "start_time": "2023-08-03T11:53:21.895Z"
   },
   {
    "duration": 24,
    "start_time": "2023-08-03T11:53:22.547Z"
   },
   {
    "duration": 3,
    "start_time": "2023-08-03T11:53:42.920Z"
   },
   {
    "duration": 24,
    "start_time": "2023-08-03T11:53:43.718Z"
   },
   {
    "duration": 3,
    "start_time": "2023-08-03T11:53:49.930Z"
   },
   {
    "duration": 23,
    "start_time": "2023-08-03T11:53:50.695Z"
   },
   {
    "duration": 4,
    "start_time": "2023-08-03T11:54:03.252Z"
   },
   {
    "duration": 29,
    "start_time": "2023-08-03T11:54:04.093Z"
   },
   {
    "duration": 4,
    "start_time": "2023-08-03T11:54:17.589Z"
   },
   {
    "duration": 26,
    "start_time": "2023-08-03T11:54:18.259Z"
   },
   {
    "duration": 3,
    "start_time": "2023-08-03T11:54:33.515Z"
   },
   {
    "duration": 23,
    "start_time": "2023-08-03T11:54:34.584Z"
   },
   {
    "duration": 3,
    "start_time": "2023-08-03T11:54:47.792Z"
   },
   {
    "duration": 21,
    "start_time": "2023-08-03T11:54:48.501Z"
   },
   {
    "duration": 67,
    "start_time": "2023-08-03T11:56:21.553Z"
   },
   {
    "duration": 3,
    "start_time": "2023-08-03T11:56:30.644Z"
   },
   {
    "duration": 27,
    "start_time": "2023-08-03T11:56:31.491Z"
   },
   {
    "duration": 3,
    "start_time": "2023-08-03T11:56:40.017Z"
   },
   {
    "duration": 29,
    "start_time": "2023-08-03T11:56:40.589Z"
   },
   {
    "duration": 4,
    "start_time": "2023-08-03T11:57:07.537Z"
   },
   {
    "duration": 14,
    "start_time": "2023-08-03T11:57:08.055Z"
   },
   {
    "duration": 4,
    "start_time": "2023-08-03T11:57:58.332Z"
   },
   {
    "duration": 25,
    "start_time": "2023-08-03T11:57:59.052Z"
   },
   {
    "duration": 4,
    "start_time": "2023-08-03T11:58:35.819Z"
   },
   {
    "duration": 24,
    "start_time": "2023-08-03T11:58:36.583Z"
   },
   {
    "duration": 4,
    "start_time": "2023-08-03T12:00:04.691Z"
   },
   {
    "duration": 24,
    "start_time": "2023-08-03T12:00:05.299Z"
   },
   {
    "duration": 3,
    "start_time": "2023-08-03T12:00:08.953Z"
   },
   {
    "duration": 25,
    "start_time": "2023-08-03T12:00:10.011Z"
   },
   {
    "duration": 4,
    "start_time": "2023-08-03T12:01:08.290Z"
   },
   {
    "duration": 22,
    "start_time": "2023-08-03T12:01:08.807Z"
   },
   {
    "duration": 4,
    "start_time": "2023-08-03T12:01:38.091Z"
   },
   {
    "duration": 24,
    "start_time": "2023-08-03T12:01:38.452Z"
   },
   {
    "duration": 21,
    "start_time": "2023-08-03T12:01:52.235Z"
   },
   {
    "duration": 24,
    "start_time": "2023-08-03T12:05:48.385Z"
   },
   {
    "duration": 3,
    "start_time": "2023-08-03T12:07:03.339Z"
   },
   {
    "duration": 133,
    "start_time": "2023-08-03T12:07:03.743Z"
   },
   {
    "duration": 41,
    "start_time": "2023-08-03T12:07:05.511Z"
   },
   {
    "duration": 108,
    "start_time": "2023-08-03T12:07:06.228Z"
   },
   {
    "duration": 3,
    "start_time": "2023-08-03T12:07:19.402Z"
   },
   {
    "duration": 127,
    "start_time": "2023-08-03T12:07:20.191Z"
   },
   {
    "duration": 3,
    "start_time": "2023-08-03T12:09:29.408Z"
   },
   {
    "duration": 842,
    "start_time": "2023-08-03T12:17:02.354Z"
   },
   {
    "duration": 4,
    "start_time": "2023-08-03T12:17:05.323Z"
   },
   {
    "duration": 148,
    "start_time": "2023-08-03T12:17:05.954Z"
   },
   {
    "duration": 103,
    "start_time": "2023-08-03T12:19:31.030Z"
   },
   {
    "duration": 3,
    "start_time": "2023-08-03T12:19:34.889Z"
   },
   {
    "duration": 133,
    "start_time": "2023-08-03T12:19:36.158Z"
   },
   {
    "duration": 37,
    "start_time": "2023-08-03T12:19:37.423Z"
   },
   {
    "duration": 131,
    "start_time": "2023-08-03T12:20:09.393Z"
   },
   {
    "duration": 3,
    "start_time": "2023-08-03T12:22:03.567Z"
   },
   {
    "duration": 171,
    "start_time": "2023-08-03T12:22:04.028Z"
   },
   {
    "duration": 39,
    "start_time": "2023-08-03T12:22:04.691Z"
   },
   {
    "duration": 114,
    "start_time": "2023-08-03T12:22:05.333Z"
   },
   {
    "duration": 4,
    "start_time": "2023-08-03T12:23:59.805Z"
   },
   {
    "duration": 137,
    "start_time": "2023-08-03T12:24:01.426Z"
   },
   {
    "duration": 37,
    "start_time": "2023-08-03T12:24:02.383Z"
   },
   {
    "duration": 114,
    "start_time": "2023-08-03T12:24:02.980Z"
   },
   {
    "duration": 12,
    "start_time": "2023-08-03T12:34:09.322Z"
   },
   {
    "duration": 120,
    "start_time": "2023-08-03T12:37:05.967Z"
   },
   {
    "duration": 11,
    "start_time": "2023-08-03T12:37:17.612Z"
   },
   {
    "duration": 12,
    "start_time": "2023-08-03T12:37:24.857Z"
   },
   {
    "duration": 15,
    "start_time": "2023-08-03T12:37:39.123Z"
   },
   {
    "duration": 11,
    "start_time": "2023-08-03T12:38:23.775Z"
   },
   {
    "duration": 13,
    "start_time": "2023-08-03T12:38:35.965Z"
   },
   {
    "duration": 12,
    "start_time": "2023-08-03T12:38:43.812Z"
   },
   {
    "duration": 13,
    "start_time": "2023-08-03T12:39:34.599Z"
   },
   {
    "duration": 11,
    "start_time": "2023-08-03T12:40:06.193Z"
   },
   {
    "duration": 12,
    "start_time": "2023-08-03T12:40:39.889Z"
   },
   {
    "duration": 12,
    "start_time": "2023-08-03T12:40:45.961Z"
   },
   {
    "duration": 11,
    "start_time": "2023-08-03T12:40:51.237Z"
   },
   {
    "duration": 13,
    "start_time": "2023-08-03T12:40:56.293Z"
   },
   {
    "duration": 13,
    "start_time": "2023-08-03T12:41:00.765Z"
   },
   {
    "duration": 16,
    "start_time": "2023-08-03T12:42:04.421Z"
   },
   {
    "duration": 16,
    "start_time": "2023-08-03T12:42:25.731Z"
   },
   {
    "duration": 1422,
    "start_time": "2023-08-03T12:43:14.761Z"
   },
   {
    "duration": 20,
    "start_time": "2023-08-03T12:43:47.098Z"
   },
   {
    "duration": 14,
    "start_time": "2023-08-03T12:43:52.159Z"
   },
   {
    "duration": 12,
    "start_time": "2023-08-03T12:44:06.299Z"
   },
   {
    "duration": 22,
    "start_time": "2023-08-03T12:49:40.435Z"
   },
   {
    "duration": 8,
    "start_time": "2023-08-03T12:49:47.693Z"
   },
   {
    "duration": 15,
    "start_time": "2023-08-03T12:52:09.887Z"
   },
   {
    "duration": 23,
    "start_time": "2023-08-03T12:53:13.071Z"
   },
   {
    "duration": 29,
    "start_time": "2023-08-03T12:54:00.167Z"
   },
   {
    "duration": 14,
    "start_time": "2023-08-03T12:54:22.961Z"
   },
   {
    "duration": 8,
    "start_time": "2023-08-03T12:54:30.181Z"
   },
   {
    "duration": 14,
    "start_time": "2023-08-03T12:54:50.106Z"
   },
   {
    "duration": 100,
    "start_time": "2023-08-03T12:54:59.512Z"
   },
   {
    "duration": 8,
    "start_time": "2023-08-03T12:55:02.189Z"
   },
   {
    "duration": 27,
    "start_time": "2023-08-03T12:55:28.584Z"
   },
   {
    "duration": 55,
    "start_time": "2023-08-03T12:55:43.009Z"
   },
   {
    "duration": 34,
    "start_time": "2023-08-03T12:55:51.874Z"
   },
   {
    "duration": 16,
    "start_time": "2023-08-03T12:56:03.518Z"
   },
   {
    "duration": 16,
    "start_time": "2023-08-03T12:56:45.011Z"
   },
   {
    "duration": 7,
    "start_time": "2023-08-03T12:56:55.968Z"
   },
   {
    "duration": 7,
    "start_time": "2023-08-03T12:57:11.393Z"
   },
   {
    "duration": 12,
    "start_time": "2023-08-03T12:58:29.909Z"
   },
   {
    "duration": 6,
    "start_time": "2023-08-03T12:58:42.330Z"
   },
   {
    "duration": 27,
    "start_time": "2023-08-03T12:59:04.900Z"
   },
   {
    "duration": 29,
    "start_time": "2023-08-03T13:03:19.774Z"
   },
   {
    "duration": 8,
    "start_time": "2023-08-03T13:04:01.254Z"
   },
   {
    "duration": 191,
    "start_time": "2023-08-03T13:06:39.436Z"
   },
   {
    "duration": 267,
    "start_time": "2023-08-03T13:07:04.919Z"
   },
   {
    "duration": 199,
    "start_time": "2023-08-03T13:08:31.900Z"
   },
   {
    "duration": 140,
    "start_time": "2023-08-03T13:21:25.796Z"
   },
   {
    "duration": 58,
    "start_time": "2023-08-03T13:24:27.615Z"
   },
   {
    "duration": 17,
    "start_time": "2023-08-03T13:26:03.973Z"
   },
   {
    "duration": 22,
    "start_time": "2023-08-03T13:26:20.302Z"
   },
   {
    "duration": 4,
    "start_time": "2023-08-03T13:26:35.602Z"
   },
   {
    "duration": 4,
    "start_time": "2023-08-03T13:26:51.497Z"
   },
   {
    "duration": 8,
    "start_time": "2023-08-03T13:27:31.045Z"
   },
   {
    "duration": 11,
    "start_time": "2023-08-03T13:27:32.262Z"
   },
   {
    "duration": 211,
    "start_time": "2023-08-03T13:27:32.892Z"
   },
   {
    "duration": 2,
    "start_time": "2023-08-03T13:29:45.896Z"
   },
   {
    "duration": 5,
    "start_time": "2023-08-03T13:32:36.871Z"
   },
   {
    "duration": 21,
    "start_time": "2023-08-03T13:33:43.251Z"
   },
   {
    "duration": 9,
    "start_time": "2023-08-03T13:34:04.953Z"
   },
   {
    "duration": 3,
    "start_time": "2023-08-03T13:34:14.292Z"
   },
   {
    "duration": 9,
    "start_time": "2023-08-03T13:34:14.844Z"
   },
   {
    "duration": 10,
    "start_time": "2023-08-03T13:34:19.781Z"
   },
   {
    "duration": 51,
    "start_time": "2023-08-04T10:57:05.256Z"
   },
   {
    "duration": 1740,
    "start_time": "2023-08-04T10:57:10.252Z"
   },
   {
    "duration": 2019,
    "start_time": "2023-08-04T10:57:12.249Z"
   },
   {
    "duration": 3,
    "start_time": "2023-08-04T10:57:14.270Z"
   },
   {
    "duration": 136,
    "start_time": "2023-08-04T10:57:16.020Z"
   },
   {
    "duration": 5,
    "start_time": "2023-08-04T10:57:38.792Z"
   },
   {
    "duration": 694,
    "start_time": "2023-08-04T10:57:40.288Z"
   },
   {
    "duration": 3,
    "start_time": "2023-08-04T10:57:41.593Z"
   },
   {
    "duration": 4,
    "start_time": "2023-08-04T10:57:54.610Z"
   },
   {
    "duration": 699,
    "start_time": "2023-08-04T10:57:56.060Z"
   },
   {
    "duration": 3,
    "start_time": "2023-08-04T10:57:58.491Z"
   },
   {
    "duration": 134,
    "start_time": "2023-08-04T10:58:01.564Z"
   },
   {
    "duration": 33,
    "start_time": "2023-08-04T10:58:24.357Z"
   },
   {
    "duration": 102,
    "start_time": "2023-08-04T10:58:59.696Z"
   },
   {
    "duration": 7,
    "start_time": "2023-08-04T11:05:21.104Z"
   },
   {
    "duration": 3,
    "start_time": "2023-08-04T11:11:21.437Z"
   },
   {
    "duration": 2,
    "start_time": "2023-08-04T11:16:25.316Z"
   },
   {
    "duration": 3,
    "start_time": "2023-08-04T11:26:33.345Z"
   },
   {
    "duration": 2,
    "start_time": "2023-08-04T11:31:15.453Z"
   },
   {
    "duration": 71,
    "start_time": "2023-08-04T11:32:04.317Z"
   },
   {
    "duration": 3,
    "start_time": "2023-08-04T11:32:07.487Z"
   },
   {
    "duration": 2,
    "start_time": "2023-08-04T11:32:09.018Z"
   },
   {
    "duration": 7,
    "start_time": "2023-08-04T11:32:10.897Z"
   },
   {
    "duration": 3,
    "start_time": "2023-08-04T11:32:15.951Z"
   },
   {
    "duration": 20,
    "start_time": "2023-08-04T11:32:17.873Z"
   },
   {
    "duration": 4,
    "start_time": "2023-08-04T11:33:02.357Z"
   },
   {
    "duration": 24,
    "start_time": "2023-08-04T11:33:10.474Z"
   },
   {
    "duration": 3,
    "start_time": "2023-08-04T11:34:01.636Z"
   },
   {
    "duration": 4,
    "start_time": "2023-08-04T11:34:13.742Z"
   },
   {
    "duration": 4,
    "start_time": "2023-08-04T11:34:24.558Z"
   },
   {
    "duration": 4,
    "start_time": "2023-08-04T11:34:36.649Z"
   },
   {
    "duration": 3,
    "start_time": "2023-08-04T11:35:06.857Z"
   },
   {
    "duration": 4,
    "start_time": "2023-08-04T11:35:11.807Z"
   },
   {
    "duration": 22,
    "start_time": "2023-08-04T11:35:15.837Z"
   },
   {
    "duration": 4,
    "start_time": "2023-08-04T11:36:40.845Z"
   },
   {
    "duration": 3,
    "start_time": "2023-08-04T11:36:42.771Z"
   },
   {
    "duration": 24,
    "start_time": "2023-08-04T11:36:45.140Z"
   },
   {
    "duration": 17,
    "start_time": "2023-08-04T11:37:33.610Z"
   },
   {
    "duration": 4,
    "start_time": "2023-08-04T11:38:03.186Z"
   },
   {
    "duration": 4,
    "start_time": "2023-08-04T11:38:13.809Z"
   },
   {
    "duration": 2,
    "start_time": "2023-08-04T11:38:20.975Z"
   },
   {
    "duration": 3,
    "start_time": "2023-08-04T11:39:02.558Z"
   },
   {
    "duration": 2,
    "start_time": "2023-08-04T11:39:11.041Z"
   },
   {
    "duration": 3,
    "start_time": "2023-08-04T11:39:11.822Z"
   },
   {
    "duration": 3,
    "start_time": "2023-08-04T11:39:13.324Z"
   },
   {
    "duration": 6,
    "start_time": "2023-08-04T11:39:15.454Z"
   },
   {
    "duration": 4,
    "start_time": "2023-08-04T11:40:22.425Z"
   },
   {
    "duration": 5,
    "start_time": "2023-08-04T11:41:13.010Z"
   },
   {
    "duration": 4,
    "start_time": "2023-08-04T11:44:11.197Z"
   },
   {
    "duration": 4,
    "start_time": "2023-08-04T11:44:29.662Z"
   },
   {
    "duration": 10,
    "start_time": "2023-08-04T11:45:04.616Z"
   },
   {
    "duration": 5,
    "start_time": "2023-08-04T11:45:26.251Z"
   },
   {
    "duration": 4,
    "start_time": "2023-08-04T11:45:40.876Z"
   },
   {
    "duration": 5,
    "start_time": "2023-08-04T11:45:43.375Z"
   },
   {
    "duration": 8,
    "start_time": "2023-08-04T11:46:22.997Z"
   },
   {
    "duration": 7,
    "start_time": "2023-08-04T11:46:53.260Z"
   },
   {
    "duration": 15,
    "start_time": "2023-08-04T11:47:17.711Z"
   },
   {
    "duration": 3,
    "start_time": "2023-08-04T11:48:24.134Z"
   },
   {
    "duration": 4,
    "start_time": "2023-08-04T11:48:39.569Z"
   },
   {
    "duration": 3,
    "start_time": "2023-08-04T11:48:41.247Z"
   },
   {
    "duration": 310,
    "start_time": "2023-08-04T11:48:45.184Z"
   },
   {
    "duration": 36,
    "start_time": "2023-08-04T11:49:03.660Z"
   },
   {
    "duration": 8,
    "start_time": "2023-08-04T11:49:26.420Z"
   },
   {
    "duration": 8,
    "start_time": "2023-08-04T11:49:36.600Z"
   },
   {
    "duration": 8,
    "start_time": "2023-08-04T11:50:06.652Z"
   },
   {
    "duration": 166,
    "start_time": "2023-08-04T11:50:24.022Z"
   },
   {
    "duration": 8,
    "start_time": "2023-08-04T11:50:39.254Z"
   },
   {
    "duration": 94,
    "start_time": "2023-08-04T11:51:39.317Z"
   },
   {
    "duration": 5,
    "start_time": "2023-08-04T11:59:25.166Z"
   },
   {
    "duration": 9,
    "start_time": "2023-08-04T11:59:26.247Z"
   },
   {
    "duration": 6,
    "start_time": "2023-08-04T12:00:39.028Z"
   },
   {
    "duration": 9,
    "start_time": "2023-08-04T12:00:57.940Z"
   },
   {
    "duration": 4,
    "start_time": "2023-08-04T12:00:59.393Z"
   },
   {
    "duration": 10,
    "start_time": "2023-08-04T12:00:59.830Z"
   },
   {
    "duration": 10,
    "start_time": "2023-08-04T12:00:59.989Z"
   },
   {
    "duration": 4,
    "start_time": "2023-08-04T12:02:53.092Z"
   },
   {
    "duration": 4,
    "start_time": "2023-08-04T12:03:32.096Z"
   },
   {
    "duration": 4,
    "start_time": "2023-08-04T12:04:01.339Z"
   },
   {
    "duration": 16,
    "start_time": "2023-08-04T12:11:49.766Z"
   },
   {
    "duration": 4,
    "start_time": "2023-08-04T12:12:25.209Z"
   },
   {
    "duration": 2,
    "start_time": "2023-08-04T12:13:43.320Z"
   },
   {
    "duration": 8,
    "start_time": "2023-08-04T12:13:54.020Z"
   },
   {
    "duration": 3,
    "start_time": "2023-08-04T12:14:26.017Z"
   },
   {
    "duration": 4,
    "start_time": "2023-08-04T12:15:12.945Z"
   },
   {
    "duration": 3,
    "start_time": "2023-08-04T12:15:22.691Z"
   },
   {
    "duration": 112,
    "start_time": "2023-08-04T12:29:36.594Z"
   },
   {
    "duration": 8,
    "start_time": "2023-08-04T12:30:05.890Z"
   },
   {
    "duration": 6,
    "start_time": "2023-08-04T12:30:34.795Z"
   },
   {
    "duration": 3,
    "start_time": "2023-08-04T12:34:24.732Z"
   },
   {
    "duration": 10,
    "start_time": "2023-08-04T12:34:44.464Z"
   },
   {
    "duration": 7,
    "start_time": "2023-08-04T12:34:49.540Z"
   },
   {
    "duration": 14,
    "start_time": "2023-08-04T12:35:22.186Z"
   },
   {
    "duration": 8,
    "start_time": "2023-08-04T12:35:43.387Z"
   },
   {
    "duration": 9,
    "start_time": "2023-08-04T12:36:33.878Z"
   },
   {
    "duration": 20,
    "start_time": "2023-08-04T12:43:56.837Z"
   },
   {
    "duration": 17,
    "start_time": "2023-08-04T12:44:18.134Z"
   },
   {
    "duration": 21,
    "start_time": "2023-08-04T12:45:05.310Z"
   },
   {
    "duration": 20,
    "start_time": "2023-08-04T12:45:19.361Z"
   },
   {
    "duration": 19,
    "start_time": "2023-08-04T12:46:35.887Z"
   },
   {
    "duration": 23,
    "start_time": "2023-08-04T12:46:53.573Z"
   },
   {
    "duration": 20,
    "start_time": "2023-08-04T13:26:30.649Z"
   },
   {
    "duration": 18,
    "start_time": "2023-08-04T13:26:41.684Z"
   },
   {
    "duration": 8,
    "start_time": "2023-08-04T13:30:05.933Z"
   },
   {
    "duration": 3,
    "start_time": "2023-08-04T13:30:17.533Z"
   },
   {
    "duration": 4,
    "start_time": "2023-08-04T13:30:42.755Z"
   },
   {
    "duration": 4,
    "start_time": "2023-08-04T13:31:06.549Z"
   },
   {
    "duration": 84,
    "start_time": "2023-08-04T13:32:06.607Z"
   },
   {
    "duration": 3,
    "start_time": "2023-08-04T13:32:11.579Z"
   },
   {
    "duration": 3,
    "start_time": "2023-08-04T13:33:46.870Z"
   },
   {
    "duration": 4,
    "start_time": "2023-08-04T13:33:53.474Z"
   },
   {
    "duration": 9,
    "start_time": "2023-08-04T13:34:27.407Z"
   },
   {
    "duration": 4,
    "start_time": "2023-08-04T13:34:32.345Z"
   },
   {
    "duration": 3,
    "start_time": "2023-08-04T13:36:17.237Z"
   },
   {
    "duration": 13,
    "start_time": "2023-08-04T13:40:04.327Z"
   },
   {
    "duration": 4,
    "start_time": "2023-08-04T13:40:23.131Z"
   },
   {
    "duration": 7,
    "start_time": "2023-08-04T13:40:37.644Z"
   },
   {
    "duration": 197,
    "start_time": "2023-08-04T13:41:56.917Z"
   },
   {
    "duration": 182,
    "start_time": "2023-08-04T13:42:28.001Z"
   },
   {
    "duration": 4,
    "start_time": "2023-08-04T13:43:33.952Z"
   },
   {
    "duration": 215,
    "start_time": "2023-08-04T13:43:34.548Z"
   },
   {
    "duration": 181,
    "start_time": "2023-08-04T13:43:41.669Z"
   },
   {
    "duration": 3,
    "start_time": "2023-08-04T13:45:38.440Z"
   },
   {
    "duration": 132,
    "start_time": "2023-08-04T13:45:39.206Z"
   },
   {
    "duration": 12,
    "start_time": "2023-08-04T13:46:28.484Z"
   },
   {
    "duration": 3,
    "start_time": "2023-08-04T13:46:34.075Z"
   },
   {
    "duration": 100,
    "start_time": "2023-08-04T13:46:57.769Z"
   },
   {
    "duration": 4,
    "start_time": "2023-08-04T13:47:03.020Z"
   },
   {
    "duration": 16,
    "start_time": "2023-08-04T13:47:04.113Z"
   },
   {
    "duration": 1460,
    "start_time": "2023-08-04T13:47:19.043Z"
   },
   {
    "duration": 0,
    "start_time": "2023-08-04T13:47:20.505Z"
   },
   {
    "duration": 4,
    "start_time": "2023-08-04T13:48:06.848Z"
   },
   {
    "duration": 147,
    "start_time": "2023-08-04T13:48:08.085Z"
   },
   {
    "duration": 10,
    "start_time": "2023-08-04T13:49:06.406Z"
   },
   {
    "duration": 158,
    "start_time": "2023-08-04T13:49:13.393Z"
   },
   {
    "duration": 119,
    "start_time": "2023-08-04T13:49:45.706Z"
   },
   {
    "duration": 158,
    "start_time": "2023-08-04T13:49:50.273Z"
   },
   {
    "duration": 174,
    "start_time": "2023-08-04T13:51:09.235Z"
   },
   {
    "duration": 176,
    "start_time": "2023-08-04T13:51:32.684Z"
   },
   {
    "duration": 153,
    "start_time": "2023-08-04T13:52:18.753Z"
   },
   {
    "duration": 154,
    "start_time": "2023-08-04T13:55:19.963Z"
   },
   {
    "duration": 3,
    "start_time": "2023-08-04T14:09:15.196Z"
   },
   {
    "duration": 4,
    "start_time": "2023-08-04T14:11:07.705Z"
   },
   {
    "duration": 11,
    "start_time": "2023-08-04T14:11:22.452Z"
   },
   {
    "duration": 150,
    "start_time": "2023-08-04T14:11:31.185Z"
   },
   {
    "duration": 135,
    "start_time": "2023-08-04T14:12:46.125Z"
   },
   {
    "duration": 11,
    "start_time": "2023-08-04T14:13:04.058Z"
   },
   {
    "duration": 513,
    "start_time": "2023-08-04T14:13:24.760Z"
   },
   {
    "duration": 386,
    "start_time": "2023-08-04T14:13:42.198Z"
   },
   {
    "duration": 856,
    "start_time": "2023-08-04T14:14:41.634Z"
   },
   {
    "duration": 905,
    "start_time": "2023-08-04T14:15:20.909Z"
   },
   {
    "duration": 928,
    "start_time": "2023-08-04T14:16:37.965Z"
   },
   {
    "duration": 156,
    "start_time": "2023-08-04T14:17:14.066Z"
   },
   {
    "duration": 74,
    "start_time": "2023-08-04T14:19:19.422Z"
   },
   {
    "duration": 160,
    "start_time": "2023-08-04T14:19:30.268Z"
   },
   {
    "duration": 139,
    "start_time": "2023-08-04T14:19:49.282Z"
   },
   {
    "duration": 142,
    "start_time": "2023-08-04T14:20:31.268Z"
   },
   {
    "duration": 154,
    "start_time": "2023-08-04T14:21:30.910Z"
   },
   {
    "duration": 87,
    "start_time": "2023-08-05T06:18:54.211Z"
   },
   {
    "duration": 4,
    "start_time": "2023-08-05T06:19:02.430Z"
   },
   {
    "duration": 3,
    "start_time": "2023-08-05T06:20:52.532Z"
   },
   {
    "duration": 56,
    "start_time": "2023-08-05T06:21:05.392Z"
   },
   {
    "duration": 1638,
    "start_time": "2023-08-05T06:21:10.376Z"
   },
   {
    "duration": 2123,
    "start_time": "2023-08-05T06:21:12.016Z"
   },
   {
    "duration": 6,
    "start_time": "2023-08-05T06:21:14.141Z"
   },
   {
    "duration": 158,
    "start_time": "2023-08-05T06:21:14.150Z"
   },
   {
    "duration": 55,
    "start_time": "2023-08-05T06:21:14.309Z"
   },
   {
    "duration": 141,
    "start_time": "2023-08-05T06:21:14.365Z"
   },
   {
    "duration": 6,
    "start_time": "2023-08-05T06:21:14.508Z"
   },
   {
    "duration": 37,
    "start_time": "2023-08-05T06:21:14.516Z"
   },
   {
    "duration": 31,
    "start_time": "2023-08-05T06:21:14.554Z"
   },
   {
    "duration": 7,
    "start_time": "2023-08-05T06:21:14.588Z"
   },
   {
    "duration": 21,
    "start_time": "2023-08-05T06:21:14.597Z"
   },
   {
    "duration": 15,
    "start_time": "2023-08-05T06:21:14.620Z"
   },
   {
    "duration": 43,
    "start_time": "2023-08-05T06:21:14.637Z"
   },
   {
    "duration": 185,
    "start_time": "2023-08-05T06:21:14.682Z"
   },
   {
    "duration": 161,
    "start_time": "2023-08-05T06:21:14.869Z"
   },
   {
    "duration": 183,
    "start_time": "2023-08-05T06:21:15.032Z"
   },
   {
    "duration": 162,
    "start_time": "2023-08-05T06:21:15.216Z"
   },
   {
    "duration": 95,
    "start_time": "2023-08-05T06:21:15.379Z"
   },
   {
    "duration": 0,
    "start_time": "2023-08-05T06:21:15.475Z"
   },
   {
    "duration": 0,
    "start_time": "2023-08-05T06:21:15.477Z"
   },
   {
    "duration": 11,
    "start_time": "2023-08-05T06:22:17.855Z"
   },
   {
    "duration": 4,
    "start_time": "2023-08-05T06:22:47.254Z"
   },
   {
    "duration": 5,
    "start_time": "2023-08-05T06:22:48.862Z"
   },
   {
    "duration": 179,
    "start_time": "2023-08-05T06:23:28.430Z"
   },
   {
    "duration": 121,
    "start_time": "2023-08-05T06:23:49.097Z"
   },
   {
    "duration": 168,
    "start_time": "2023-08-05T06:24:53.079Z"
   },
   {
    "duration": 146,
    "start_time": "2023-08-05T06:25:09.337Z"
   },
   {
    "duration": 155,
    "start_time": "2023-08-05T06:27:00.766Z"
   },
   {
    "duration": 4,
    "start_time": "2023-08-05T06:27:48.707Z"
   },
   {
    "duration": 183,
    "start_time": "2023-08-05T06:27:49.190Z"
   },
   {
    "duration": 162,
    "start_time": "2023-08-05T06:29:11.802Z"
   },
   {
    "duration": 219,
    "start_time": "2023-08-05T06:29:18.054Z"
   },
   {
    "duration": 182,
    "start_time": "2023-08-05T06:30:44.035Z"
   },
   {
    "duration": 191,
    "start_time": "2023-08-05T06:31:28.303Z"
   },
   {
    "duration": 231,
    "start_time": "2023-08-05T06:40:31.790Z"
   },
   {
    "duration": 178,
    "start_time": "2023-08-05T06:40:40.351Z"
   },
   {
    "duration": 91,
    "start_time": "2023-08-05T06:42:14.824Z"
   },
   {
    "duration": 81,
    "start_time": "2023-08-05T06:55:26.824Z"
   },
   {
    "duration": 13,
    "start_time": "2023-08-05T06:55:33.343Z"
   },
   {
    "duration": 5,
    "start_time": "2023-08-05T07:06:36.394Z"
   },
   {
    "duration": 31,
    "start_time": "2023-08-05T07:06:58.959Z"
   },
   {
    "duration": 28,
    "start_time": "2023-08-05T07:07:21.585Z"
   },
   {
    "duration": 5,
    "start_time": "2023-08-05T07:08:11.617Z"
   },
   {
    "duration": 2287,
    "start_time": "2023-08-05T07:08:24.412Z"
   },
   {
    "duration": 7,
    "start_time": "2023-08-05T07:08:59.962Z"
   },
   {
    "duration": 11,
    "start_time": "2023-08-05T07:22:47.383Z"
   },
   {
    "duration": 87,
    "start_time": "2023-08-05T07:23:26.657Z"
   },
   {
    "duration": 8,
    "start_time": "2023-08-05T07:23:34.357Z"
   },
   {
    "duration": 24,
    "start_time": "2023-08-05T07:24:34.672Z"
   },
   {
    "duration": 1887,
    "start_time": "2023-08-05T07:29:55.126Z"
   },
   {
    "duration": 1126,
    "start_time": "2023-08-05T07:29:57.023Z"
   },
   {
    "duration": 7,
    "start_time": "2023-08-05T07:29:58.151Z"
   },
   {
    "duration": 317,
    "start_time": "2023-08-05T07:29:58.161Z"
   },
   {
    "duration": 49,
    "start_time": "2023-08-05T07:29:58.480Z"
   },
   {
    "duration": 172,
    "start_time": "2023-08-05T07:29:58.545Z"
   },
   {
    "duration": 7,
    "start_time": "2023-08-05T07:29:58.719Z"
   },
   {
    "duration": 85,
    "start_time": "2023-08-05T07:29:58.727Z"
   },
   {
    "duration": 102,
    "start_time": "2023-08-05T07:29:58.814Z"
   },
   {
    "duration": 30,
    "start_time": "2023-08-05T07:29:58.918Z"
   },
   {
    "duration": 72,
    "start_time": "2023-08-05T07:29:58.949Z"
   },
   {
    "duration": 81,
    "start_time": "2023-08-05T07:29:59.023Z"
   },
   {
    "duration": 119,
    "start_time": "2023-08-05T07:29:59.106Z"
   },
   {
    "duration": 249,
    "start_time": "2023-08-05T07:29:59.228Z"
   },
   {
    "duration": 233,
    "start_time": "2023-08-05T07:29:59.479Z"
   },
   {
    "duration": 282,
    "start_time": "2023-08-05T07:29:59.714Z"
   },
   {
    "duration": 233,
    "start_time": "2023-08-05T07:30:00.001Z"
   },
   {
    "duration": 11,
    "start_time": "2023-08-05T07:30:00.235Z"
   },
   {
    "duration": 440,
    "start_time": "2023-08-05T07:30:00.251Z"
   },
   {
    "duration": 5,
    "start_time": "2023-08-05T07:30:00.694Z"
   },
   {
    "duration": 74,
    "start_time": "2023-08-05T07:30:00.845Z"
   },
   {
    "duration": 13,
    "start_time": "2023-08-05T07:30:09.254Z"
   },
   {
    "duration": 1465,
    "start_time": "2023-08-05T07:30:16.521Z"
   },
   {
    "duration": 889,
    "start_time": "2023-08-05T07:30:17.989Z"
   },
   {
    "duration": 6,
    "start_time": "2023-08-05T07:30:18.885Z"
   },
   {
    "duration": 185,
    "start_time": "2023-08-05T07:30:18.893Z"
   },
   {
    "duration": 45,
    "start_time": "2023-08-05T07:30:19.080Z"
   },
   {
    "duration": 145,
    "start_time": "2023-08-05T07:30:19.127Z"
   },
   {
    "duration": 12,
    "start_time": "2023-08-05T07:30:19.273Z"
   },
   {
    "duration": 16,
    "start_time": "2023-08-05T07:30:19.287Z"
   },
   {
    "duration": 11,
    "start_time": "2023-08-05T07:30:19.305Z"
   },
   {
    "duration": 5,
    "start_time": "2023-08-05T07:30:19.319Z"
   },
   {
    "duration": 37,
    "start_time": "2023-08-05T07:30:19.326Z"
   },
   {
    "duration": 24,
    "start_time": "2023-08-05T07:30:19.365Z"
   },
   {
    "duration": 61,
    "start_time": "2023-08-05T07:30:19.391Z"
   },
   {
    "duration": 183,
    "start_time": "2023-08-05T07:30:19.453Z"
   },
   {
    "duration": 182,
    "start_time": "2023-08-05T07:30:19.645Z"
   },
   {
    "duration": 180,
    "start_time": "2023-08-05T07:30:19.828Z"
   },
   {
    "duration": 186,
    "start_time": "2023-08-05T07:30:20.010Z"
   },
   {
    "duration": 5,
    "start_time": "2023-08-05T07:30:20.199Z"
   },
   {
    "duration": 263,
    "start_time": "2023-08-05T07:30:20.206Z"
   },
   {
    "duration": 12,
    "start_time": "2023-08-05T07:30:20.477Z"
   },
   {
    "duration": 2003,
    "start_time": "2023-08-05T07:30:20.491Z"
   },
   {
    "duration": 0,
    "start_time": "2023-08-05T07:30:22.495Z"
   },
   {
    "duration": 17,
    "start_time": "2023-08-05T07:32:09.935Z"
   },
   {
    "duration": 10,
    "start_time": "2023-08-05T07:34:42.745Z"
   },
   {
    "duration": 33,
    "start_time": "2023-08-05T07:35:09.138Z"
   },
   {
    "duration": 11,
    "start_time": "2023-08-05T07:36:16.605Z"
   },
   {
    "duration": 1476,
    "start_time": "2023-08-05T07:38:19.456Z"
   },
   {
    "duration": 809,
    "start_time": "2023-08-05T07:38:20.935Z"
   },
   {
    "duration": 3,
    "start_time": "2023-08-05T07:38:21.746Z"
   },
   {
    "duration": 185,
    "start_time": "2023-08-05T07:38:21.750Z"
   },
   {
    "duration": 49,
    "start_time": "2023-08-05T07:38:21.937Z"
   },
   {
    "duration": 182,
    "start_time": "2023-08-05T07:38:21.988Z"
   },
   {
    "duration": 9,
    "start_time": "2023-08-05T07:38:22.173Z"
   },
   {
    "duration": 17,
    "start_time": "2023-08-05T07:38:22.185Z"
   },
   {
    "duration": 13,
    "start_time": "2023-08-05T07:38:22.204Z"
   },
   {
    "duration": 16,
    "start_time": "2023-08-05T07:38:22.219Z"
   },
   {
    "duration": 39,
    "start_time": "2023-08-05T07:38:22.242Z"
   },
   {
    "duration": 37,
    "start_time": "2023-08-05T07:38:22.283Z"
   },
   {
    "duration": 37,
    "start_time": "2023-08-05T07:38:22.321Z"
   },
   {
    "duration": 209,
    "start_time": "2023-08-05T07:38:22.361Z"
   },
   {
    "duration": 203,
    "start_time": "2023-08-05T07:38:22.571Z"
   },
   {
    "duration": 174,
    "start_time": "2023-08-05T07:38:22.776Z"
   },
   {
    "duration": 168,
    "start_time": "2023-08-05T07:38:22.951Z"
   },
   {
    "duration": 3,
    "start_time": "2023-08-05T07:38:23.121Z"
   },
   {
    "duration": 288,
    "start_time": "2023-08-05T07:38:23.125Z"
   },
   {
    "duration": 4,
    "start_time": "2023-08-05T07:38:23.415Z"
   },
   {
    "duration": 46,
    "start_time": "2023-08-05T07:38:23.421Z"
   },
   {
    "duration": 40,
    "start_time": "2023-08-05T07:38:23.469Z"
   },
   {
    "duration": 16,
    "start_time": "2023-08-05T07:38:33.682Z"
   },
   {
    "duration": 44,
    "start_time": "2023-08-05T07:38:56.633Z"
   },
   {
    "duration": 7,
    "start_time": "2023-08-05T07:39:04.037Z"
   },
   {
    "duration": 3,
    "start_time": "2023-08-05T07:39:16.380Z"
   },
   {
    "duration": 3,
    "start_time": "2023-08-05T07:50:32.104Z"
   },
   {
    "duration": 4,
    "start_time": "2023-08-05T07:50:36.658Z"
   },
   {
    "duration": 3,
    "start_time": "2023-08-05T07:53:05.627Z"
   },
   {
    "duration": 140,
    "start_time": "2023-08-05T08:08:15.981Z"
   },
   {
    "duration": 34,
    "start_time": "2023-08-05T08:08:37.114Z"
   },
   {
    "duration": 16,
    "start_time": "2023-08-05T08:09:04.002Z"
   },
   {
    "duration": 19,
    "start_time": "2023-08-05T08:10:28.809Z"
   },
   {
    "duration": 194,
    "start_time": "2023-08-05T08:11:01.544Z"
   },
   {
    "duration": 189,
    "start_time": "2023-08-05T08:11:12.163Z"
   },
   {
    "duration": 105,
    "start_time": "2023-08-05T08:12:20.115Z"
   },
   {
    "duration": 6,
    "start_time": "2023-08-05T08:13:00.055Z"
   },
   {
    "duration": 178,
    "start_time": "2023-08-05T08:13:04.871Z"
   },
   {
    "duration": 310,
    "start_time": "2023-08-05T08:13:27.439Z"
   },
   {
    "duration": 314,
    "start_time": "2023-08-05T08:13:52.325Z"
   },
   {
    "duration": 24,
    "start_time": "2023-08-05T08:15:09.039Z"
   },
   {
    "duration": 289,
    "start_time": "2023-08-05T08:15:33.263Z"
   },
   {
    "duration": 1906,
    "start_time": "2023-08-05T08:16:01.550Z"
   },
   {
    "duration": 1719,
    "start_time": "2023-08-05T08:16:20.925Z"
   },
   {
    "duration": 1619,
    "start_time": "2023-08-05T08:16:29.322Z"
   },
   {
    "duration": 3,
    "start_time": "2023-08-05T08:17:09.212Z"
   },
   {
    "duration": 1665,
    "start_time": "2023-08-05T08:17:10.984Z"
   },
   {
    "duration": 1394,
    "start_time": "2023-08-05T08:17:21.546Z"
   },
   {
    "duration": 1265,
    "start_time": "2023-08-05T08:17:41.487Z"
   },
   {
    "duration": 1374,
    "start_time": "2023-08-05T08:18:23.469Z"
   },
   {
    "duration": 1684,
    "start_time": "2023-08-05T08:20:36.958Z"
   },
   {
    "duration": 1096,
    "start_time": "2023-08-05T08:27:22.556Z"
   },
   {
    "duration": 17,
    "start_time": "2023-08-05T08:43:12.722Z"
   },
   {
    "duration": 26,
    "start_time": "2023-08-05T08:43:21.922Z"
   },
   {
    "duration": 226,
    "start_time": "2023-08-05T08:43:29.483Z"
   },
   {
    "duration": 3172,
    "start_time": "2023-08-05T08:43:43.862Z"
   },
   {
    "duration": 6993,
    "start_time": "2023-08-05T08:44:26.904Z"
   },
   {
    "duration": 13835,
    "start_time": "2023-08-05T08:45:25.655Z"
   },
   {
    "duration": 13400,
    "start_time": "2023-08-05T08:54:06.486Z"
   },
   {
    "duration": 13681,
    "start_time": "2023-08-05T08:54:40.017Z"
   },
   {
    "duration": 12029,
    "start_time": "2023-08-05T08:55:03.228Z"
   },
   {
    "duration": 1304,
    "start_time": "2023-08-05T08:55:32.839Z"
   },
   {
    "duration": 11813,
    "start_time": "2023-08-05T08:55:42.222Z"
   },
   {
    "duration": 12248,
    "start_time": "2023-08-05T08:55:56.216Z"
   },
   {
    "duration": 11734,
    "start_time": "2023-08-05T08:56:18.045Z"
   },
   {
    "duration": 57457,
    "start_time": "2023-08-05T08:56:39.198Z"
   },
   {
    "duration": 31271,
    "start_time": "2023-08-05T08:58:14.658Z"
   },
   {
    "duration": 31364,
    "start_time": "2023-08-05T09:00:14.632Z"
   },
   {
    "duration": 5,
    "start_time": "2023-08-05T09:02:00.507Z"
   },
   {
    "duration": 31064,
    "start_time": "2023-08-05T09:02:04.755Z"
   },
   {
    "duration": 5,
    "start_time": "2023-08-05T09:11:04.711Z"
   },
   {
    "duration": 164,
    "start_time": "2023-08-05T09:12:16.151Z"
   },
   {
    "duration": 42,
    "start_time": "2023-08-05T09:14:45.968Z"
   },
   {
    "duration": 40,
    "start_time": "2023-08-05T09:23:49.651Z"
   },
   {
    "duration": 28218,
    "start_time": "2023-08-05T09:29:42.258Z"
   },
   {
    "duration": 13659,
    "start_time": "2023-08-05T09:30:23.501Z"
   },
   {
    "duration": 26918,
    "start_time": "2023-08-05T09:31:36.575Z"
   },
   {
    "duration": 65416,
    "start_time": "2023-08-05T09:32:21.363Z"
   },
   {
    "duration": 15,
    "start_time": "2023-08-05T09:36:41.468Z"
   },
   {
    "duration": 14168,
    "start_time": "2023-08-05T09:37:00.257Z"
   },
   {
    "duration": 100,
    "start_time": "2023-08-05T09:43:27.256Z"
   },
   {
    "duration": 32247,
    "start_time": "2023-08-05T09:44:02.615Z"
   },
   {
    "duration": 4850,
    "start_time": "2023-08-05T09:47:21.596Z"
   },
   {
    "duration": 26288,
    "start_time": "2023-08-05T09:47:56.875Z"
   },
   {
    "duration": 1520,
    "start_time": "2023-08-05T09:48:47.728Z"
   },
   {
    "duration": 32487,
    "start_time": "2023-08-05T09:51:19.130Z"
   },
   {
    "duration": 32373,
    "start_time": "2023-08-05T09:54:15.220Z"
   },
   {
    "duration": 32475,
    "start_time": "2023-08-05T09:54:58.677Z"
   },
   {
    "duration": 31435,
    "start_time": "2023-08-05T09:57:33.940Z"
   },
   {
    "duration": 86,
    "start_time": "2023-08-05T09:58:42.896Z"
   },
   {
    "duration": 19,
    "start_time": "2023-08-05T10:03:09.033Z"
   },
   {
    "duration": 1505,
    "start_time": "2023-08-05T10:03:30.880Z"
   },
   {
    "duration": 2049,
    "start_time": "2023-08-05T10:03:32.387Z"
   },
   {
    "duration": 5,
    "start_time": "2023-08-05T10:03:34.437Z"
   },
   {
    "duration": 206,
    "start_time": "2023-08-05T10:03:34.444Z"
   },
   {
    "duration": 57,
    "start_time": "2023-08-05T10:03:34.651Z"
   },
   {
    "duration": 138,
    "start_time": "2023-08-05T10:03:34.710Z"
   },
   {
    "duration": 8,
    "start_time": "2023-08-05T10:03:34.849Z"
   },
   {
    "duration": 14,
    "start_time": "2023-08-05T10:03:34.858Z"
   },
   {
    "duration": 14,
    "start_time": "2023-08-05T10:03:34.874Z"
   },
   {
    "duration": 4,
    "start_time": "2023-08-05T10:03:34.891Z"
   },
   {
    "duration": 10,
    "start_time": "2023-08-05T10:03:34.897Z"
   },
   {
    "duration": 20,
    "start_time": "2023-08-05T10:03:34.909Z"
   },
   {
    "duration": 29,
    "start_time": "2023-08-05T10:03:34.938Z"
   },
   {
    "duration": 238,
    "start_time": "2023-08-05T10:03:34.970Z"
   },
   {
    "duration": 165,
    "start_time": "2023-08-05T10:03:35.210Z"
   },
   {
    "duration": 164,
    "start_time": "2023-08-05T10:03:35.376Z"
   },
   {
    "duration": 213,
    "start_time": "2023-08-05T10:03:35.541Z"
   },
   {
    "duration": 3,
    "start_time": "2023-08-05T10:03:35.756Z"
   },
   {
    "duration": 201,
    "start_time": "2023-08-05T10:03:35.761Z"
   },
   {
    "duration": 4,
    "start_time": "2023-08-05T10:03:35.963Z"
   },
   {
    "duration": 40,
    "start_time": "2023-08-05T10:03:35.968Z"
   },
   {
    "duration": 61,
    "start_time": "2023-08-05T10:03:36.010Z"
   },
   {
    "duration": 3,
    "start_time": "2023-08-05T10:03:36.072Z"
   },
   {
    "duration": 1771,
    "start_time": "2023-08-05T10:03:36.077Z"
   },
   {
    "duration": 10850,
    "start_time": "2023-08-05T10:03:37.856Z"
   },
   {
    "duration": 0,
    "start_time": "2023-08-05T10:03:48.708Z"
   },
   {
    "duration": 0,
    "start_time": "2023-08-05T10:03:48.709Z"
   },
   {
    "duration": 13,
    "start_time": "2023-08-05T10:04:26.321Z"
   },
   {
    "duration": 1382,
    "start_time": "2023-08-05T10:04:32.113Z"
   },
   {
    "duration": 725,
    "start_time": "2023-08-05T10:04:33.497Z"
   },
   {
    "duration": 4,
    "start_time": "2023-08-05T10:04:34.224Z"
   },
   {
    "duration": 199,
    "start_time": "2023-08-05T10:04:34.230Z"
   },
   {
    "duration": 63,
    "start_time": "2023-08-05T10:04:34.431Z"
   },
   {
    "duration": 165,
    "start_time": "2023-08-05T10:04:34.496Z"
   },
   {
    "duration": 7,
    "start_time": "2023-08-05T10:04:34.662Z"
   },
   {
    "duration": 36,
    "start_time": "2023-08-05T10:04:34.670Z"
   },
   {
    "duration": 23,
    "start_time": "2023-08-05T10:04:34.707Z"
   },
   {
    "duration": 29,
    "start_time": "2023-08-05T10:04:34.733Z"
   },
   {
    "duration": 7,
    "start_time": "2023-08-05T10:04:34.764Z"
   },
   {
    "duration": 14,
    "start_time": "2023-08-05T10:04:34.773Z"
   },
   {
    "duration": 25,
    "start_time": "2023-08-05T10:04:34.789Z"
   },
   {
    "duration": 173,
    "start_time": "2023-08-05T10:04:34.816Z"
   },
   {
    "duration": 161,
    "start_time": "2023-08-05T10:04:34.991Z"
   },
   {
    "duration": 155,
    "start_time": "2023-08-05T10:04:35.157Z"
   },
   {
    "duration": 216,
    "start_time": "2023-08-05T10:04:35.314Z"
   },
   {
    "duration": 3,
    "start_time": "2023-08-05T10:04:35.531Z"
   },
   {
    "duration": 188,
    "start_time": "2023-08-05T10:04:35.535Z"
   },
   {
    "duration": 4,
    "start_time": "2023-08-05T10:04:35.724Z"
   },
   {
    "duration": 44,
    "start_time": "2023-08-05T10:04:35.729Z"
   },
   {
    "duration": 61,
    "start_time": "2023-08-05T10:04:35.774Z"
   },
   {
    "duration": 7,
    "start_time": "2023-08-05T10:04:35.837Z"
   },
   {
    "duration": 2897,
    "start_time": "2023-08-05T10:04:35.851Z"
   },
   {
    "duration": 31217,
    "start_time": "2023-08-05T10:04:38.757Z"
   },
   {
    "duration": 26645,
    "start_time": "2023-08-05T10:05:09.976Z"
   },
   {
    "duration": 159,
    "start_time": "2023-08-05T10:05:36.623Z"
   },
   {
    "duration": 17,
    "start_time": "2023-08-05T10:06:45.851Z"
   },
   {
    "duration": 20,
    "start_time": "2023-08-05T10:06:52.557Z"
   },
   {
    "duration": 27,
    "start_time": "2023-08-05T10:07:41.228Z"
   },
   {
    "duration": 25423,
    "start_time": "2023-08-05T10:07:43.566Z"
   },
   {
    "duration": 14,
    "start_time": "2023-08-05T10:08:08.991Z"
   },
   {
    "duration": 23,
    "start_time": "2023-08-05T10:08:31.693Z"
   },
   {
    "duration": 32,
    "start_time": "2023-08-05T10:08:43.619Z"
   },
   {
    "duration": 9,
    "start_time": "2023-08-05T10:08:50.503Z"
   },
   {
    "duration": 22,
    "start_time": "2023-08-05T10:09:15.054Z"
   },
   {
    "duration": 56,
    "start_time": "2023-08-05T10:10:09.389Z"
   },
   {
    "duration": 14,
    "start_time": "2023-08-05T10:10:30.968Z"
   },
   {
    "duration": 4,
    "start_time": "2023-08-05T10:10:43.885Z"
   },
   {
    "duration": 4,
    "start_time": "2023-08-05T10:10:50.703Z"
   },
   {
    "duration": 21,
    "start_time": "2023-08-05T10:12:52.432Z"
   },
   {
    "duration": 48,
    "start_time": "2023-08-05T10:12:57.991Z"
   },
   {
    "duration": 15,
    "start_time": "2023-08-05T10:13:03.772Z"
   },
   {
    "duration": 81,
    "start_time": "2023-08-05T10:14:11.368Z"
   },
   {
    "duration": 89,
    "start_time": "2023-08-05T10:14:20.611Z"
   },
   {
    "duration": 21,
    "start_time": "2023-08-05T10:14:25.607Z"
   },
   {
    "duration": 20,
    "start_time": "2023-08-05T11:14:55.880Z"
   },
   {
    "duration": 7,
    "start_time": "2023-08-05T11:19:51.080Z"
   },
   {
    "duration": 610,
    "start_time": "2023-08-05T11:22:07.342Z"
   },
   {
    "duration": 5,
    "start_time": "2023-08-05T13:12:10.616Z"
   },
   {
    "duration": 677,
    "start_time": "2023-08-05T13:12:12.308Z"
   },
   {
    "duration": 3,
    "start_time": "2023-08-05T13:12:22.525Z"
   },
   {
    "duration": 136,
    "start_time": "2023-08-05T13:12:24.188Z"
   },
   {
    "duration": 35,
    "start_time": "2023-08-05T13:12:33.889Z"
   },
   {
    "duration": 107,
    "start_time": "2023-08-05T13:12:34.867Z"
   },
   {
    "duration": 127,
    "start_time": "2023-08-05T13:16:23.528Z"
   },
   {
    "duration": 43,
    "start_time": "2023-08-05T13:16:24.513Z"
   },
   {
    "duration": 95,
    "start_time": "2023-08-05T13:16:25.591Z"
   },
   {
    "duration": 4,
    "start_time": "2023-08-05T13:16:30.004Z"
   },
   {
    "duration": 8,
    "start_time": "2023-08-05T13:16:31.510Z"
   },
   {
    "duration": 7,
    "start_time": "2023-08-05T13:16:35.796Z"
   },
   {
    "duration": 5,
    "start_time": "2023-08-05T13:17:00.795Z"
   },
   {
    "duration": 75,
    "start_time": "2023-08-05T13:17:21.348Z"
   },
   {
    "duration": 4,
    "start_time": "2023-08-05T13:17:31.296Z"
   },
   {
    "duration": 4,
    "start_time": "2023-08-05T13:17:53.212Z"
   },
   {
    "duration": 8,
    "start_time": "2023-08-05T13:18:22.208Z"
   },
   {
    "duration": 10,
    "start_time": "2023-08-05T13:20:02.417Z"
   },
   {
    "duration": 7,
    "start_time": "2023-08-05T13:20:43.248Z"
   },
   {
    "duration": 22,
    "start_time": "2023-08-05T13:21:03.891Z"
   },
   {
    "duration": 156,
    "start_time": "2023-08-05T13:21:21.035Z"
   },
   {
    "duration": 152,
    "start_time": "2023-08-05T13:21:28.845Z"
   },
   {
    "duration": 155,
    "start_time": "2023-08-05T13:21:31.591Z"
   },
   {
    "duration": 155,
    "start_time": "2023-08-05T13:21:34.280Z"
   },
   {
    "duration": 135,
    "start_time": "2023-08-05T13:21:54.023Z"
   },
   {
    "duration": 169,
    "start_time": "2023-08-05T13:22:34.159Z"
   },
   {
    "duration": 4,
    "start_time": "2023-08-05T13:24:43.301Z"
   },
   {
    "duration": 10,
    "start_time": "2023-08-05T13:25:08.569Z"
   },
   {
    "duration": 19,
    "start_time": "2023-08-05T13:25:45.044Z"
   },
   {
    "duration": 2,
    "start_time": "2023-08-05T13:25:57.961Z"
   },
   {
    "duration": 3,
    "start_time": "2023-08-05T13:26:20.068Z"
   },
   {
    "duration": 3,
    "start_time": "2023-08-05T13:27:47.685Z"
   },
   {
    "duration": 1418,
    "start_time": "2023-08-05T13:27:50.024Z"
   },
   {
    "duration": 1498,
    "start_time": "2023-08-05T13:28:31.846Z"
   },
   {
    "duration": 1130,
    "start_time": "2023-08-05T13:29:11.910Z"
   },
   {
    "duration": 1210,
    "start_time": "2023-08-05T13:30:04.429Z"
   },
   {
    "duration": 29672,
    "start_time": "2023-08-05T13:30:08.702Z"
   },
   {
    "duration": 24379,
    "start_time": "2023-08-05T13:31:02.168Z"
   },
   {
    "duration": 6,
    "start_time": "2023-08-05T13:32:13.708Z"
   },
   {
    "duration": 218,
    "start_time": "2023-08-05T13:32:15.015Z"
   },
   {
    "duration": 10,
    "start_time": "2023-08-05T13:32:18.085Z"
   },
   {
    "duration": 57,
    "start_time": "2023-08-06T14:12:00.594Z"
   },
   {
    "duration": 1701,
    "start_time": "2023-08-06T14:12:13.600Z"
   },
   {
    "duration": 2467,
    "start_time": "2023-08-06T14:12:15.702Z"
   },
   {
    "duration": 3,
    "start_time": "2023-08-06T14:12:18.171Z"
   },
   {
    "duration": 184,
    "start_time": "2023-08-06T14:12:18.175Z"
   },
   {
    "duration": 57,
    "start_time": "2023-08-06T14:12:18.361Z"
   },
   {
    "duration": 140,
    "start_time": "2023-08-06T14:12:18.420Z"
   },
   {
    "duration": 8,
    "start_time": "2023-08-06T14:12:21.782Z"
   },
   {
    "duration": 10,
    "start_time": "2023-08-06T14:12:22.436Z"
   },
   {
    "duration": 9,
    "start_time": "2023-08-06T14:12:22.828Z"
   },
   {
    "duration": 5,
    "start_time": "2023-08-06T14:12:24.008Z"
   },
   {
    "duration": 4,
    "start_time": "2023-08-06T14:12:25.588Z"
   },
   {
    "duration": 8,
    "start_time": "2023-08-06T14:12:29.453Z"
   },
   {
    "duration": 30,
    "start_time": "2023-08-06T14:12:29.862Z"
   },
   {
    "duration": 189,
    "start_time": "2023-08-06T14:12:34.078Z"
   },
   {
    "duration": 187,
    "start_time": "2023-08-06T14:46:26.120Z"
   },
   {
    "duration": 175,
    "start_time": "2023-08-06T14:47:11.618Z"
   },
   {
    "duration": 264,
    "start_time": "2023-08-06T14:47:38.461Z"
   },
   {
    "duration": 243,
    "start_time": "2023-08-06T14:47:56.612Z"
   },
   {
    "duration": 206,
    "start_time": "2023-08-06T14:48:23.021Z"
   },
   {
    "duration": 195,
    "start_time": "2023-08-06T14:49:25.592Z"
   },
   {
    "duration": 212,
    "start_time": "2023-08-06T14:49:40.166Z"
   },
   {
    "duration": 213,
    "start_time": "2023-08-06T14:51:05.312Z"
   },
   {
    "duration": 86,
    "start_time": "2023-08-06T15:27:17.889Z"
   },
   {
    "duration": 14,
    "start_time": "2023-08-06T15:27:30.178Z"
   },
   {
    "duration": 18,
    "start_time": "2023-08-06T15:27:43.320Z"
   },
   {
    "duration": 13,
    "start_time": "2023-08-06T15:27:49.817Z"
   },
   {
    "duration": 180,
    "start_time": "2023-08-06T15:28:06.829Z"
   },
   {
    "duration": 187,
    "start_time": "2023-08-06T15:30:28.962Z"
   },
   {
    "duration": 177,
    "start_time": "2023-08-06T15:30:42.779Z"
   },
   {
    "duration": 196,
    "start_time": "2023-08-06T15:30:49.689Z"
   },
   {
    "duration": 33,
    "start_time": "2023-08-06T15:35:20.193Z"
   },
   {
    "duration": 172,
    "start_time": "2023-08-06T15:35:21.520Z"
   },
   {
    "duration": 163,
    "start_time": "2023-08-06T15:35:23.009Z"
   },
   {
    "duration": 14,
    "start_time": "2023-08-06T15:36:11.361Z"
   },
   {
    "duration": 171,
    "start_time": "2023-08-06T15:36:12.661Z"
   },
   {
    "duration": 12,
    "start_time": "2023-08-06T15:37:32.111Z"
   },
   {
    "duration": 176,
    "start_time": "2023-08-06T15:37:35.648Z"
   },
   {
    "duration": 397,
    "start_time": "2023-08-06T15:38:49.580Z"
   },
   {
    "duration": 3,
    "start_time": "2023-08-06T15:39:59.315Z"
   },
   {
    "duration": 169,
    "start_time": "2023-08-06T15:40:09.663Z"
   },
   {
    "duration": 209,
    "start_time": "2023-08-06T15:40:15.265Z"
   },
   {
    "duration": 196,
    "start_time": "2023-08-06T15:50:03.949Z"
   },
   {
    "duration": 5,
    "start_time": "2023-08-06T15:51:49.680Z"
   },
   {
    "duration": 5,
    "start_time": "2023-08-06T15:52:37.785Z"
   },
   {
    "duration": 6,
    "start_time": "2023-08-06T15:52:42.515Z"
   },
   {
    "duration": 2735,
    "start_time": "2023-08-06T15:53:25.693Z"
   },
   {
    "duration": 6,
    "start_time": "2023-08-06T15:53:31.686Z"
   },
   {
    "duration": 7,
    "start_time": "2023-08-06T15:53:39.790Z"
   },
   {
    "duration": 7,
    "start_time": "2023-08-06T15:53:53.411Z"
   },
   {
    "duration": 14,
    "start_time": "2023-08-06T15:54:07.494Z"
   },
   {
    "duration": 5,
    "start_time": "2023-08-06T15:55:02.356Z"
   },
   {
    "duration": 5,
    "start_time": "2023-08-06T15:55:12.231Z"
   },
   {
    "duration": 7,
    "start_time": "2023-08-06T15:55:14.807Z"
   },
   {
    "duration": 14,
    "start_time": "2023-08-06T15:56:14.066Z"
   },
   {
    "duration": 10,
    "start_time": "2023-08-06T15:57:02.056Z"
   },
   {
    "duration": 6,
    "start_time": "2023-08-06T15:57:21.884Z"
   },
   {
    "duration": 10,
    "start_time": "2023-08-06T16:03:07.611Z"
   },
   {
    "duration": 5,
    "start_time": "2023-08-06T16:03:11.181Z"
   },
   {
    "duration": 6,
    "start_time": "2023-08-06T16:03:20.474Z"
   },
   {
    "duration": 9,
    "start_time": "2023-08-06T16:03:41.048Z"
   },
   {
    "duration": 7,
    "start_time": "2023-08-06T16:03:54.009Z"
   },
   {
    "duration": 4,
    "start_time": "2023-08-06T16:04:14.589Z"
   },
   {
    "duration": 8,
    "start_time": "2023-08-06T16:04:35.716Z"
   },
   {
    "duration": 5,
    "start_time": "2023-08-06T16:04:36.548Z"
   },
   {
    "duration": 4,
    "start_time": "2023-08-06T16:04:37.314Z"
   },
   {
    "duration": 10,
    "start_time": "2023-08-06T16:05:40.115Z"
   },
   {
    "duration": 4,
    "start_time": "2023-08-06T16:05:40.655Z"
   },
   {
    "duration": 4,
    "start_time": "2023-08-06T16:05:41.239Z"
   },
   {
    "duration": 171,
    "start_time": "2023-08-06T16:05:49.551Z"
   },
   {
    "duration": 43,
    "start_time": "2023-08-06T16:05:49.925Z"
   },
   {
    "duration": 191,
    "start_time": "2023-08-06T16:05:50.267Z"
   },
   {
    "duration": 5,
    "start_time": "2023-08-06T16:05:51.679Z"
   },
   {
    "duration": 13,
    "start_time": "2023-08-06T16:05:52.042Z"
   },
   {
    "duration": 11,
    "start_time": "2023-08-06T16:05:52.220Z"
   },
   {
    "duration": 6,
    "start_time": "2023-08-06T16:05:52.809Z"
   },
   {
    "duration": 5,
    "start_time": "2023-08-06T16:05:53.680Z"
   },
   {
    "duration": 15,
    "start_time": "2023-08-06T16:05:56.405Z"
   },
   {
    "duration": 34,
    "start_time": "2023-08-06T16:05:58.027Z"
   },
   {
    "duration": 213,
    "start_time": "2023-08-06T16:06:14.945Z"
   },
   {
    "duration": 207,
    "start_time": "2023-08-06T16:06:19.606Z"
   },
   {
    "duration": 256,
    "start_time": "2023-08-06T16:06:21.964Z"
   },
   {
    "duration": 200,
    "start_time": "2023-08-06T16:06:23.876Z"
   },
   {
    "duration": 15,
    "start_time": "2023-08-06T16:06:30.515Z"
   },
   {
    "duration": 5,
    "start_time": "2023-08-06T16:06:30.941Z"
   },
   {
    "duration": 5,
    "start_time": "2023-08-06T16:06:32.090Z"
   },
   {
    "duration": 173,
    "start_time": "2023-08-06T16:06:54.646Z"
   },
   {
    "duration": 12,
    "start_time": "2023-08-06T16:07:33.157Z"
   },
   {
    "duration": 8,
    "start_time": "2023-08-06T16:07:34.327Z"
   },
   {
    "duration": 4,
    "start_time": "2023-08-06T16:07:35.155Z"
   },
   {
    "duration": 172,
    "start_time": "2023-08-06T16:07:50.121Z"
   },
   {
    "duration": 3,
    "start_time": "2023-08-06T16:08:13.638Z"
   },
   {
    "duration": 173,
    "start_time": "2023-08-06T16:08:15.575Z"
   },
   {
    "duration": 4,
    "start_time": "2023-08-06T16:08:17.776Z"
   },
   {
    "duration": 5,
    "start_time": "2023-08-06T16:08:18.022Z"
   },
   {
    "duration": 6,
    "start_time": "2023-08-06T16:08:19.327Z"
   },
   {
    "duration": 207,
    "start_time": "2023-08-06T16:08:24.111Z"
   },
   {
    "duration": 6,
    "start_time": "2023-08-06T16:08:28.655Z"
   },
   {
    "duration": 8,
    "start_time": "2023-08-06T16:08:30.266Z"
   },
   {
    "duration": 25,
    "start_time": "2023-08-06T16:08:31.157Z"
   },
   {
    "duration": 13,
    "start_time": "2023-08-06T16:08:35.372Z"
   },
   {
    "duration": 3,
    "start_time": "2023-08-06T16:08:36.614Z"
   },
   {
    "duration": 37,
    "start_time": "2023-08-06T16:08:37.783Z"
   },
   {
    "duration": 31,
    "start_time": "2023-08-06T16:08:45.176Z"
   },
   {
    "duration": 27,
    "start_time": "2023-08-06T16:08:46.556Z"
   },
   {
    "duration": 13,
    "start_time": "2023-08-06T16:08:58.372Z"
   },
   {
    "duration": 11,
    "start_time": "2023-08-06T16:09:00.171Z"
   },
   {
    "duration": 12,
    "start_time": "2023-08-06T16:09:02.040Z"
   },
   {
    "duration": 9,
    "start_time": "2023-08-06T16:09:13.022Z"
   },
   {
    "duration": 4,
    "start_time": "2023-08-06T16:09:13.917Z"
   },
   {
    "duration": 3,
    "start_time": "2023-08-06T16:09:14.481Z"
   },
   {
    "duration": 135,
    "start_time": "2023-08-06T16:09:21.781Z"
   },
   {
    "duration": 13,
    "start_time": "2023-08-06T16:09:28.771Z"
   },
   {
    "duration": 4,
    "start_time": "2023-08-06T16:09:30.008Z"
   },
   {
    "duration": 4,
    "start_time": "2023-08-06T16:09:30.882Z"
   },
   {
    "duration": 171,
    "start_time": "2023-08-06T16:09:35.787Z"
   },
   {
    "duration": 3,
    "start_time": "2023-08-06T16:10:18.990Z"
   },
   {
    "duration": 152,
    "start_time": "2023-08-06T16:10:22.423Z"
   },
   {
    "duration": 10,
    "start_time": "2023-08-06T16:10:25.202Z"
   },
   {
    "duration": 5,
    "start_time": "2023-08-06T16:10:26.369Z"
   },
   {
    "duration": 6,
    "start_time": "2023-08-06T16:10:29.521Z"
   },
   {
    "duration": 197,
    "start_time": "2023-08-06T16:12:28.569Z"
   },
   {
    "duration": 2,
    "start_time": "2023-08-06T16:12:40.723Z"
   },
   {
    "duration": 174,
    "start_time": "2023-08-06T16:12:41.780Z"
   },
   {
    "duration": 6,
    "start_time": "2023-08-06T16:12:43.120Z"
   },
   {
    "duration": 218,
    "start_time": "2023-08-06T16:12:46.328Z"
   },
   {
    "duration": 201,
    "start_time": "2023-08-06T16:13:02.056Z"
   },
   {
    "duration": 4,
    "start_time": "2023-08-06T16:13:31.060Z"
   },
   {
    "duration": 11,
    "start_time": "2023-08-06T16:13:37.681Z"
   },
   {
    "duration": 20,
    "start_time": "2023-08-06T16:13:38.422Z"
   },
   {
    "duration": 6,
    "start_time": "2023-08-06T16:13:39.745Z"
   },
   {
    "duration": 8,
    "start_time": "2023-08-06T16:13:40.313Z"
   },
   {
    "duration": 34,
    "start_time": "2023-08-06T16:13:40.901Z"
   },
   {
    "duration": 21,
    "start_time": "2023-08-06T16:13:46.341Z"
   },
   {
    "duration": 13,
    "start_time": "2023-08-06T16:18:48.526Z"
   },
   {
    "duration": 4,
    "start_time": "2023-08-06T16:18:51.933Z"
   },
   {
    "duration": 4,
    "start_time": "2023-08-06T16:18:52.863Z"
   },
   {
    "duration": 1626,
    "start_time": "2023-08-06T16:19:04.921Z"
   },
   {
    "duration": 978,
    "start_time": "2023-08-06T16:19:06.550Z"
   },
   {
    "duration": 4,
    "start_time": "2023-08-06T16:19:07.529Z"
   },
   {
    "duration": 183,
    "start_time": "2023-08-06T16:19:07.535Z"
   },
   {
    "duration": 41,
    "start_time": "2023-08-06T16:19:07.722Z"
   },
   {
    "duration": 149,
    "start_time": "2023-08-06T16:19:07.765Z"
   },
   {
    "duration": 13,
    "start_time": "2023-08-06T16:19:07.920Z"
   },
   {
    "duration": 12,
    "start_time": "2023-08-06T16:19:07.935Z"
   },
   {
    "duration": 11,
    "start_time": "2023-08-06T16:19:07.949Z"
   },
   {
    "duration": 5,
    "start_time": "2023-08-06T16:19:07.963Z"
   },
   {
    "duration": 29,
    "start_time": "2023-08-06T16:19:07.970Z"
   },
   {
    "duration": 19,
    "start_time": "2023-08-06T16:19:08.007Z"
   },
   {
    "duration": 46,
    "start_time": "2023-08-06T16:19:08.027Z"
   },
   {
    "duration": 205,
    "start_time": "2023-08-06T16:19:08.074Z"
   },
   {
    "duration": 205,
    "start_time": "2023-08-06T16:19:08.281Z"
   },
   {
    "duration": 194,
    "start_time": "2023-08-06T16:19:08.488Z"
   },
   {
    "duration": 200,
    "start_time": "2023-08-06T16:19:08.683Z"
   },
   {
    "duration": 30,
    "start_time": "2023-08-06T16:19:08.885Z"
   },
   {
    "duration": 13,
    "start_time": "2023-08-06T16:19:08.922Z"
   },
   {
    "duration": 9,
    "start_time": "2023-08-06T16:19:08.937Z"
   },
   {
    "duration": 246,
    "start_time": "2023-08-06T16:19:08.947Z"
   },
   {
    "duration": 15,
    "start_time": "2023-08-06T16:19:09.194Z"
   },
   {
    "duration": 176,
    "start_time": "2023-08-06T16:19:09.214Z"
   },
   {
    "duration": 16,
    "start_time": "2023-08-06T16:19:09.392Z"
   },
   {
    "duration": 254,
    "start_time": "2023-08-06T16:19:09.414Z"
   },
   {
    "duration": 4,
    "start_time": "2023-08-06T16:19:09.670Z"
   },
   {
    "duration": 23,
    "start_time": "2023-08-06T16:19:09.677Z"
   },
   {
    "duration": 44,
    "start_time": "2023-08-06T16:19:09.706Z"
   },
   {
    "duration": 6,
    "start_time": "2023-08-06T16:19:09.752Z"
   },
   {
    "duration": 10,
    "start_time": "2023-08-06T16:19:09.760Z"
   },
   {
    "duration": 151,
    "start_time": "2023-08-06T16:19:09.771Z"
   },
   {
    "duration": 0,
    "start_time": "2023-08-06T16:19:09.924Z"
   },
   {
    "duration": 0,
    "start_time": "2023-08-06T16:19:09.925Z"
   },
   {
    "duration": 0,
    "start_time": "2023-08-06T16:19:09.926Z"
   },
   {
    "duration": 0,
    "start_time": "2023-08-06T16:19:09.927Z"
   },
   {
    "duration": 0,
    "start_time": "2023-08-06T16:19:09.928Z"
   },
   {
    "duration": 10,
    "start_time": "2023-08-06T16:25:13.071Z"
   },
   {
    "duration": 7,
    "start_time": "2023-08-06T16:25:54.072Z"
   },
   {
    "duration": 17,
    "start_time": "2023-08-06T16:26:04.757Z"
   },
   {
    "duration": 17,
    "start_time": "2023-08-06T16:26:50.301Z"
   },
   {
    "duration": 11,
    "start_time": "2023-08-06T16:26:58.192Z"
   },
   {
    "duration": 6,
    "start_time": "2023-08-06T16:27:31.426Z"
   },
   {
    "duration": 5,
    "start_time": "2023-08-06T16:27:38.021Z"
   },
   {
    "duration": 5,
    "start_time": "2023-08-06T16:27:39.887Z"
   },
   {
    "duration": 187,
    "start_time": "2023-08-06T16:30:03.536Z"
   },
   {
    "duration": 123,
    "start_time": "2023-08-06T16:30:56.801Z"
   },
   {
    "duration": 196,
    "start_time": "2023-08-06T16:31:22.495Z"
   },
   {
    "duration": 11,
    "start_time": "2023-08-06T16:34:00.851Z"
   },
   {
    "duration": 185,
    "start_time": "2023-08-06T16:34:02.922Z"
   },
   {
    "duration": 1534,
    "start_time": "2023-08-06T16:34:09.739Z"
   },
   {
    "duration": 934,
    "start_time": "2023-08-06T16:34:11.275Z"
   },
   {
    "duration": 9,
    "start_time": "2023-08-06T16:34:12.213Z"
   },
   {
    "duration": 206,
    "start_time": "2023-08-06T16:34:12.227Z"
   },
   {
    "duration": 41,
    "start_time": "2023-08-06T16:34:12.435Z"
   },
   {
    "duration": 159,
    "start_time": "2023-08-06T16:34:12.478Z"
   },
   {
    "duration": 14,
    "start_time": "2023-08-06T16:34:12.638Z"
   },
   {
    "duration": 35,
    "start_time": "2023-08-06T16:34:12.654Z"
   },
   {
    "duration": 14,
    "start_time": "2023-08-06T16:34:12.691Z"
   },
   {
    "duration": 32,
    "start_time": "2023-08-06T16:34:12.708Z"
   },
   {
    "duration": 8,
    "start_time": "2023-08-06T16:34:12.742Z"
   },
   {
    "duration": 22,
    "start_time": "2023-08-06T16:34:12.752Z"
   },
   {
    "duration": 84,
    "start_time": "2023-08-06T16:34:12.776Z"
   },
   {
    "duration": 207,
    "start_time": "2023-08-06T16:34:12.862Z"
   },
   {
    "duration": 191,
    "start_time": "2023-08-06T16:34:13.071Z"
   },
   {
    "duration": 204,
    "start_time": "2023-08-06T16:34:13.264Z"
   },
   {
    "duration": 201,
    "start_time": "2023-08-06T16:34:13.470Z"
   },
   {
    "duration": 25,
    "start_time": "2023-08-06T16:34:13.674Z"
   },
   {
    "duration": 276,
    "start_time": "2023-08-06T16:34:13.712Z"
   },
   {
    "duration": 11,
    "start_time": "2023-08-06T16:34:13.990Z"
   },
   {
    "duration": 219,
    "start_time": "2023-08-06T16:34:14.005Z"
   },
   {
    "duration": 5,
    "start_time": "2023-08-06T16:34:14.226Z"
   },
   {
    "duration": 233,
    "start_time": "2023-08-06T16:34:14.233Z"
   },
   {
    "duration": 5,
    "start_time": "2023-08-06T16:34:14.468Z"
   },
   {
    "duration": 30,
    "start_time": "2023-08-06T16:34:14.474Z"
   },
   {
    "duration": 66,
    "start_time": "2023-08-06T16:34:14.506Z"
   },
   {
    "duration": 6,
    "start_time": "2023-08-06T16:34:14.574Z"
   },
   {
    "duration": 22,
    "start_time": "2023-08-06T16:34:14.583Z"
   },
   {
    "duration": 172,
    "start_time": "2023-08-06T16:34:14.607Z"
   },
   {
    "duration": 0,
    "start_time": "2023-08-06T16:34:14.781Z"
   },
   {
    "duration": 0,
    "start_time": "2023-08-06T16:34:14.783Z"
   },
   {
    "duration": 0,
    "start_time": "2023-08-06T16:34:14.784Z"
   },
   {
    "duration": 0,
    "start_time": "2023-08-06T16:34:14.798Z"
   },
   {
    "duration": 0,
    "start_time": "2023-08-06T16:34:14.802Z"
   },
   {
    "duration": 213,
    "start_time": "2023-08-06T16:35:21.222Z"
   },
   {
    "duration": 6,
    "start_time": "2023-08-06T16:37:23.131Z"
   },
   {
    "duration": 290,
    "start_time": "2023-08-06T16:40:45.548Z"
   },
   {
    "duration": 365,
    "start_time": "2023-08-06T16:41:02.129Z"
   },
   {
    "duration": 548,
    "start_time": "2023-08-06T16:41:17.590Z"
   },
   {
    "duration": 567,
    "start_time": "2023-08-06T16:42:18.384Z"
   },
   {
    "duration": 665,
    "start_time": "2023-08-06T16:42:48.426Z"
   },
   {
    "duration": 726,
    "start_time": "2023-08-06T16:43:57.948Z"
   },
   {
    "duration": 938,
    "start_time": "2023-08-06T16:44:03.846Z"
   },
   {
    "duration": 9,
    "start_time": "2023-08-06T16:51:51.622Z"
   },
   {
    "duration": 1906,
    "start_time": "2023-08-06T16:54:41.944Z"
   },
   {
    "duration": 21,
    "start_time": "2023-08-06T16:54:44.042Z"
   },
   {
    "duration": 1612,
    "start_time": "2023-08-06T16:54:51.554Z"
   },
   {
    "duration": 1000,
    "start_time": "2023-08-06T16:54:53.168Z"
   },
   {
    "duration": 3,
    "start_time": "2023-08-06T16:54:54.170Z"
   },
   {
    "duration": 280,
    "start_time": "2023-08-06T16:54:54.175Z"
   },
   {
    "duration": 44,
    "start_time": "2023-08-06T16:54:54.456Z"
   },
   {
    "duration": 178,
    "start_time": "2023-08-06T16:54:54.502Z"
   },
   {
    "duration": 15,
    "start_time": "2023-08-06T16:54:54.682Z"
   },
   {
    "duration": 36,
    "start_time": "2023-08-06T16:54:54.699Z"
   },
   {
    "duration": 30,
    "start_time": "2023-08-06T16:54:54.737Z"
   },
   {
    "duration": 9,
    "start_time": "2023-08-06T16:54:54.769Z"
   },
   {
    "duration": 11,
    "start_time": "2023-08-06T16:54:54.780Z"
   },
   {
    "duration": 60,
    "start_time": "2023-08-06T16:54:54.793Z"
   },
   {
    "duration": 35,
    "start_time": "2023-08-06T16:54:54.855Z"
   },
   {
    "duration": 271,
    "start_time": "2023-08-06T16:54:54.891Z"
   },
   {
    "duration": 242,
    "start_time": "2023-08-06T16:54:55.165Z"
   },
   {
    "duration": 232,
    "start_time": "2023-08-06T16:54:55.408Z"
   },
   {
    "duration": 233,
    "start_time": "2023-08-06T16:54:55.642Z"
   },
   {
    "duration": 26,
    "start_time": "2023-08-06T16:54:55.878Z"
   },
   {
    "duration": 350,
    "start_time": "2023-08-06T16:54:55.906Z"
   },
   {
    "duration": 3,
    "start_time": "2023-08-06T16:54:56.258Z"
   },
   {
    "duration": 230,
    "start_time": "2023-08-06T16:54:56.263Z"
   },
   {
    "duration": 30,
    "start_time": "2023-08-06T16:54:56.494Z"
   },
   {
    "duration": 919,
    "start_time": "2023-08-06T16:54:56.530Z"
   },
   {
    "duration": 237,
    "start_time": "2023-08-06T16:54:57.452Z"
   },
   {
    "duration": 12,
    "start_time": "2023-08-06T16:54:57.699Z"
   },
   {
    "duration": 49,
    "start_time": "2023-08-06T16:54:57.714Z"
   },
   {
    "duration": 1956,
    "start_time": "2023-08-06T16:54:57.765Z"
   },
   {
    "duration": 0,
    "start_time": "2023-08-06T16:54:59.724Z"
   },
   {
    "duration": 0,
    "start_time": "2023-08-06T16:54:59.727Z"
   },
   {
    "duration": 0,
    "start_time": "2023-08-06T16:54:59.731Z"
   },
   {
    "duration": 0,
    "start_time": "2023-08-06T16:54:59.733Z"
   },
   {
    "duration": 0,
    "start_time": "2023-08-06T16:54:59.734Z"
   },
   {
    "duration": 0,
    "start_time": "2023-08-06T16:54:59.735Z"
   },
   {
    "duration": 0,
    "start_time": "2023-08-06T16:54:59.737Z"
   },
   {
    "duration": 0,
    "start_time": "2023-08-06T16:54:59.738Z"
   },
   {
    "duration": 12,
    "start_time": "2023-08-06T16:56:04.512Z"
   },
   {
    "duration": 23,
    "start_time": "2023-08-06T16:56:13.546Z"
   },
   {
    "duration": 46,
    "start_time": "2023-08-06T16:56:32.924Z"
   },
   {
    "duration": 1668,
    "start_time": "2023-08-06T16:56:54.381Z"
   },
   {
    "duration": 11,
    "start_time": "2023-08-06T16:57:21.745Z"
   },
   {
    "duration": 44,
    "start_time": "2023-08-06T16:57:31.428Z"
   },
   {
    "duration": 56,
    "start_time": "2023-08-06T16:57:39.019Z"
   },
   {
    "duration": 29,
    "start_time": "2023-08-06T16:57:46.294Z"
   },
   {
    "duration": 12,
    "start_time": "2023-08-06T16:59:25.656Z"
   },
   {
    "duration": 12,
    "start_time": "2023-08-06T16:59:33.756Z"
   },
   {
    "duration": 9,
    "start_time": "2023-08-06T17:02:04.128Z"
   },
   {
    "duration": 5,
    "start_time": "2023-08-06T17:02:14.049Z"
   },
   {
    "duration": 5,
    "start_time": "2023-08-06T17:02:26.123Z"
   },
   {
    "duration": 5,
    "start_time": "2023-08-06T17:02:28.361Z"
   },
   {
    "duration": 15,
    "start_time": "2023-08-06T17:03:27.563Z"
   },
   {
    "duration": 1692,
    "start_time": "2023-08-06T17:03:37.374Z"
   },
   {
    "duration": 942,
    "start_time": "2023-08-06T17:03:39.068Z"
   },
   {
    "duration": 6,
    "start_time": "2023-08-06T17:03:40.020Z"
   },
   {
    "duration": 216,
    "start_time": "2023-08-06T17:03:40.028Z"
   },
   {
    "duration": 70,
    "start_time": "2023-08-06T17:03:40.246Z"
   },
   {
    "duration": 149,
    "start_time": "2023-08-06T17:03:40.322Z"
   },
   {
    "duration": 5,
    "start_time": "2023-08-06T17:03:40.472Z"
   },
   {
    "duration": 30,
    "start_time": "2023-08-06T17:03:40.479Z"
   },
   {
    "duration": 24,
    "start_time": "2023-08-06T17:03:40.512Z"
   },
   {
    "duration": 7,
    "start_time": "2023-08-06T17:03:40.541Z"
   },
   {
    "duration": 7,
    "start_time": "2023-08-06T17:03:40.550Z"
   },
   {
    "duration": 12,
    "start_time": "2023-08-06T17:03:40.559Z"
   },
   {
    "duration": 48,
    "start_time": "2023-08-06T17:03:40.573Z"
   },
   {
    "duration": 229,
    "start_time": "2023-08-06T17:03:40.623Z"
   },
   {
    "duration": 233,
    "start_time": "2023-08-06T17:03:40.854Z"
   },
   {
    "duration": 201,
    "start_time": "2023-08-06T17:03:41.088Z"
   },
   {
    "duration": 202,
    "start_time": "2023-08-06T17:03:41.290Z"
   },
   {
    "duration": 35,
    "start_time": "2023-08-06T17:03:41.497Z"
   },
   {
    "duration": 289,
    "start_time": "2023-08-06T17:03:41.536Z"
   },
   {
    "duration": 7,
    "start_time": "2023-08-06T17:03:41.827Z"
   },
   {
    "duration": 215,
    "start_time": "2023-08-06T17:03:41.836Z"
   },
   {
    "duration": 7,
    "start_time": "2023-08-06T17:03:42.057Z"
   },
   {
    "duration": 728,
    "start_time": "2023-08-06T17:03:42.066Z"
   },
   {
    "duration": 238,
    "start_time": "2023-08-06T17:03:42.799Z"
   },
   {
    "duration": 7,
    "start_time": "2023-08-06T17:03:43.042Z"
   },
   {
    "duration": 26,
    "start_time": "2023-08-06T17:03:43.050Z"
   },
   {
    "duration": 33,
    "start_time": "2023-08-06T17:03:43.078Z"
   },
   {
    "duration": 119,
    "start_time": "2023-08-06T17:03:43.116Z"
   },
   {
    "duration": 11,
    "start_time": "2023-08-06T17:03:43.236Z"
   },
   {
    "duration": 19,
    "start_time": "2023-08-06T17:03:43.249Z"
   },
   {
    "duration": 161,
    "start_time": "2023-08-06T17:03:43.270Z"
   },
   {
    "duration": 0,
    "start_time": "2023-08-06T17:03:43.434Z"
   },
   {
    "duration": 0,
    "start_time": "2023-08-06T17:03:43.436Z"
   },
   {
    "duration": 0,
    "start_time": "2023-08-06T17:03:43.440Z"
   },
   {
    "duration": 0,
    "start_time": "2023-08-06T17:03:43.441Z"
   },
   {
    "duration": 0,
    "start_time": "2023-08-06T17:03:43.442Z"
   },
   {
    "duration": 44,
    "start_time": "2023-08-06T17:04:52.794Z"
   },
   {
    "duration": 3,
    "start_time": "2023-08-06T17:04:55.675Z"
   },
   {
    "duration": 33,
    "start_time": "2023-08-06T17:06:09.474Z"
   },
   {
    "duration": 4,
    "start_time": "2023-08-06T17:06:21.036Z"
   },
   {
    "duration": 3,
    "start_time": "2023-08-06T17:07:16.278Z"
   },
   {
    "duration": 4023,
    "start_time": "2023-08-06T17:07:17.388Z"
   },
   {
    "duration": 3,
    "start_time": "2023-08-06T17:08:15.077Z"
   },
   {
    "duration": 5,
    "start_time": "2023-08-06T17:35:14.350Z"
   },
   {
    "duration": 6,
    "start_time": "2023-08-06T17:40:09.180Z"
   },
   {
    "duration": 4524,
    "start_time": "2023-08-06T17:44:20.859Z"
   },
   {
    "duration": 5,
    "start_time": "2023-08-06T17:44:39.832Z"
   },
   {
    "duration": 24,
    "start_time": "2023-08-06T17:45:02.011Z"
   },
   {
    "duration": 30,
    "start_time": "2023-08-06T17:45:04.726Z"
   },
   {
    "duration": 10,
    "start_time": "2023-08-06T17:45:08.645Z"
   },
   {
    "duration": 2246,
    "start_time": "2023-08-06T17:45:47.863Z"
   },
   {
    "duration": 5,
    "start_time": "2023-08-06T17:47:19.261Z"
   },
   {
    "duration": 1711,
    "start_time": "2023-08-06T17:47:27.651Z"
   },
   {
    "duration": 1008,
    "start_time": "2023-08-06T17:47:29.364Z"
   },
   {
    "duration": 4,
    "start_time": "2023-08-06T17:47:30.373Z"
   },
   {
    "duration": 246,
    "start_time": "2023-08-06T17:47:30.379Z"
   },
   {
    "duration": 48,
    "start_time": "2023-08-06T17:47:30.627Z"
   },
   {
    "duration": 171,
    "start_time": "2023-08-06T17:47:30.677Z"
   },
   {
    "duration": 6,
    "start_time": "2023-08-06T17:47:30.849Z"
   },
   {
    "duration": 23,
    "start_time": "2023-08-06T17:47:30.856Z"
   },
   {
    "duration": 41,
    "start_time": "2023-08-06T17:47:30.880Z"
   },
   {
    "duration": 27,
    "start_time": "2023-08-06T17:47:30.928Z"
   },
   {
    "duration": 22,
    "start_time": "2023-08-06T17:47:30.957Z"
   },
   {
    "duration": 62,
    "start_time": "2023-08-06T17:47:30.981Z"
   },
   {
    "duration": 86,
    "start_time": "2023-08-06T17:47:31.045Z"
   },
   {
    "duration": 241,
    "start_time": "2023-08-06T17:47:31.135Z"
   },
   {
    "duration": 253,
    "start_time": "2023-08-06T17:47:31.378Z"
   },
   {
    "duration": 239,
    "start_time": "2023-08-06T17:47:31.637Z"
   },
   {
    "duration": 208,
    "start_time": "2023-08-06T17:47:31.878Z"
   },
   {
    "duration": 37,
    "start_time": "2023-08-06T17:47:32.088Z"
   },
   {
    "duration": 336,
    "start_time": "2023-08-06T17:47:32.127Z"
   },
   {
    "duration": 3,
    "start_time": "2023-08-06T17:47:32.465Z"
   },
   {
    "duration": 210,
    "start_time": "2023-08-06T17:47:32.470Z"
   },
   {
    "duration": 6,
    "start_time": "2023-08-06T17:47:32.682Z"
   },
   {
    "duration": 744,
    "start_time": "2023-08-06T17:47:32.702Z"
   },
   {
    "duration": 204,
    "start_time": "2023-08-06T17:47:33.448Z"
   },
   {
    "duration": 4,
    "start_time": "2023-08-06T17:47:33.654Z"
   },
   {
    "duration": 13,
    "start_time": "2023-08-06T17:47:33.660Z"
   },
   {
    "duration": 41,
    "start_time": "2023-08-06T17:47:33.675Z"
   },
   {
    "duration": 60,
    "start_time": "2023-08-06T17:47:33.720Z"
   },
   {
    "duration": 4,
    "start_time": "2023-08-06T17:47:33.782Z"
   },
   {
    "duration": 47,
    "start_time": "2023-08-06T17:47:33.788Z"
   },
   {
    "duration": 8,
    "start_time": "2023-08-06T17:47:33.838Z"
   },
   {
    "duration": 8,
    "start_time": "2023-08-06T17:47:33.847Z"
   },
   {
    "duration": 40,
    "start_time": "2023-08-06T17:47:33.856Z"
   },
   {
    "duration": 18,
    "start_time": "2023-08-06T17:47:33.899Z"
   },
   {
    "duration": 1042,
    "start_time": "2023-08-06T17:47:33.931Z"
   },
   {
    "duration": 23054,
    "start_time": "2023-08-06T17:47:34.975Z"
   },
   {
    "duration": 23216,
    "start_time": "2023-08-06T17:47:58.038Z"
   },
   {
    "duration": 241,
    "start_time": "2023-08-06T17:48:21.294Z"
   },
   {
    "duration": 0,
    "start_time": "2023-08-06T17:48:21.541Z"
   },
   {
    "duration": 0,
    "start_time": "2023-08-06T17:48:21.546Z"
   },
   {
    "duration": 4537,
    "start_time": "2023-08-06T17:49:51.571Z"
   },
   {
    "duration": 4853,
    "start_time": "2023-08-06T17:50:25.344Z"
   },
   {
    "duration": 4684,
    "start_time": "2023-08-06T17:53:01.525Z"
   },
   {
    "duration": 2385,
    "start_time": "2023-08-06T17:53:33.927Z"
   },
   {
    "duration": 6008,
    "start_time": "2023-08-06T17:55:05.831Z"
   },
   {
    "duration": 21834,
    "start_time": "2023-08-06T18:02:14.226Z"
   },
   {
    "duration": 3,
    "start_time": "2023-08-06T18:06:32.960Z"
   },
   {
    "duration": 3,
    "start_time": "2023-08-06T18:06:34.671Z"
   },
   {
    "duration": 3,
    "start_time": "2023-08-06T18:06:41.964Z"
   },
   {
    "duration": 25866,
    "start_time": "2023-08-06T18:16:02.499Z"
   },
   {
    "duration": 10,
    "start_time": "2023-08-06T18:31:05.756Z"
   },
   {
    "duration": 6,
    "start_time": "2023-08-06T18:31:15.956Z"
   },
   {
    "duration": 25582,
    "start_time": "2023-08-06T18:31:24.363Z"
   },
   {
    "duration": 25058,
    "start_time": "2023-08-06T18:35:42.950Z"
   },
   {
    "duration": 1140,
    "start_time": "2023-08-06T18:37:44.469Z"
   },
   {
    "duration": 1166,
    "start_time": "2023-08-06T18:38:21.128Z"
   },
   {
    "duration": 1268,
    "start_time": "2023-08-06T18:38:51.773Z"
   },
   {
    "duration": 1082,
    "start_time": "2023-08-06T18:39:00.445Z"
   },
   {
    "duration": 1068,
    "start_time": "2023-08-06T18:39:13.077Z"
   },
   {
    "duration": 3032,
    "start_time": "2023-08-06T18:39:34.761Z"
   },
   {
    "duration": 3307,
    "start_time": "2023-08-06T18:39:54.571Z"
   },
   {
    "duration": 2858,
    "start_time": "2023-08-06T18:40:09.063Z"
   },
   {
    "duration": 3077,
    "start_time": "2023-08-06T18:40:39.939Z"
   },
   {
    "duration": 13,
    "start_time": "2023-08-06T18:41:05.494Z"
   },
   {
    "duration": 3095,
    "start_time": "2023-08-06T18:42:47.675Z"
   },
   {
    "duration": 3204,
    "start_time": "2023-08-06T18:43:02.041Z"
   },
   {
    "duration": 3191,
    "start_time": "2023-08-06T18:43:58.161Z"
   },
   {
    "duration": 1115,
    "start_time": "2023-08-06T18:46:11.126Z"
   },
   {
    "duration": 1257,
    "start_time": "2023-08-06T18:46:24.229Z"
   },
   {
    "duration": 6914,
    "start_time": "2023-08-06T18:47:48.392Z"
   },
   {
    "duration": 6639,
    "start_time": "2023-08-06T18:49:35.970Z"
   },
   {
    "duration": 114,
    "start_time": "2023-08-06T18:52:10.741Z"
   },
   {
    "duration": 6824,
    "start_time": "2023-08-06T18:52:23.028Z"
   },
   {
    "duration": 6449,
    "start_time": "2023-08-06T18:53:25.226Z"
   },
   {
    "duration": 6181,
    "start_time": "2023-08-06T18:54:04.636Z"
   },
   {
    "duration": 28818,
    "start_time": "2023-08-06T18:54:57.742Z"
   },
   {
    "duration": 31470,
    "start_time": "2023-08-06T18:57:41.886Z"
   },
   {
    "duration": 29592,
    "start_time": "2023-08-06T19:00:08.695Z"
   },
   {
    "duration": 11,
    "start_time": "2023-08-06T19:01:55.262Z"
   },
   {
    "duration": 11,
    "start_time": "2023-08-06T19:02:18.836Z"
   },
   {
    "duration": 13,
    "start_time": "2023-08-06T19:02:39.784Z"
   },
   {
    "duration": 14,
    "start_time": "2023-08-06T19:02:48.234Z"
   },
   {
    "duration": 24011,
    "start_time": "2023-08-06T19:03:20.033Z"
   },
   {
    "duration": 23944,
    "start_time": "2023-08-06T19:03:50.089Z"
   },
   {
    "duration": 24670,
    "start_time": "2023-08-06T19:09:42.089Z"
   },
   {
    "duration": 24472,
    "start_time": "2023-08-06T19:10:20.932Z"
   },
   {
    "duration": 6,
    "start_time": "2023-08-06T19:11:52.263Z"
   },
   {
    "duration": 656,
    "start_time": "2023-08-06T19:12:23.949Z"
   },
   {
    "duration": 22021,
    "start_time": "2023-08-06T19:26:27.530Z"
   },
   {
    "duration": 211,
    "start_time": "2023-08-06T19:30:56.754Z"
   },
   {
    "duration": 316,
    "start_time": "2023-08-06T19:31:17.732Z"
   },
   {
    "duration": 151,
    "start_time": "2023-08-06T19:31:24.657Z"
   },
   {
    "duration": 89,
    "start_time": "2023-08-06T19:31:29.574Z"
   },
   {
    "duration": 294,
    "start_time": "2023-08-06T19:31:35.559Z"
   },
   {
    "duration": 5,
    "start_time": "2023-08-06T19:40:55.363Z"
   },
   {
    "duration": 5,
    "start_time": "2023-08-06T19:42:52.077Z"
   },
   {
    "duration": 1467,
    "start_time": "2023-08-06T19:48:48.667Z"
   },
   {
    "duration": 847,
    "start_time": "2023-08-06T19:48:50.136Z"
   },
   {
    "duration": 3,
    "start_time": "2023-08-06T19:48:50.985Z"
   },
   {
    "duration": 174,
    "start_time": "2023-08-06T19:48:50.998Z"
   },
   {
    "duration": 52,
    "start_time": "2023-08-06T19:48:51.174Z"
   },
   {
    "duration": 123,
    "start_time": "2023-08-06T19:48:51.230Z"
   },
   {
    "duration": 6,
    "start_time": "2023-08-06T19:48:51.355Z"
   },
   {
    "duration": 42,
    "start_time": "2023-08-06T19:48:51.363Z"
   },
   {
    "duration": 13,
    "start_time": "2023-08-06T19:48:51.418Z"
   },
   {
    "duration": 23,
    "start_time": "2023-08-06T19:48:51.433Z"
   },
   {
    "duration": 10,
    "start_time": "2023-08-06T19:48:51.457Z"
   },
   {
    "duration": 24,
    "start_time": "2023-08-06T19:48:51.469Z"
   },
   {
    "duration": 77,
    "start_time": "2023-08-06T19:48:51.495Z"
   },
   {
    "duration": 205,
    "start_time": "2023-08-06T19:48:51.575Z"
   },
   {
    "duration": 206,
    "start_time": "2023-08-06T19:48:51.782Z"
   },
   {
    "duration": 198,
    "start_time": "2023-08-06T19:48:51.990Z"
   },
   {
    "duration": 218,
    "start_time": "2023-08-06T19:48:52.195Z"
   },
   {
    "duration": 24,
    "start_time": "2023-08-06T19:48:52.415Z"
   },
   {
    "duration": 273,
    "start_time": "2023-08-06T19:48:52.441Z"
   },
   {
    "duration": 11,
    "start_time": "2023-08-06T19:48:52.718Z"
   },
   {
    "duration": 207,
    "start_time": "2023-08-06T19:48:52.731Z"
   },
   {
    "duration": 7,
    "start_time": "2023-08-06T19:48:52.941Z"
   },
   {
    "duration": 737,
    "start_time": "2023-08-06T19:48:52.950Z"
   },
   {
    "duration": 214,
    "start_time": "2023-08-06T19:48:53.689Z"
   },
   {
    "duration": 13,
    "start_time": "2023-08-06T19:48:53.905Z"
   },
   {
    "duration": 34,
    "start_time": "2023-08-06T19:48:53.920Z"
   },
   {
    "duration": 22,
    "start_time": "2023-08-06T19:48:53.956Z"
   },
   {
    "duration": 60,
    "start_time": "2023-08-06T19:48:53.980Z"
   },
   {
    "duration": 4,
    "start_time": "2023-08-06T19:48:54.042Z"
   },
   {
    "duration": 11,
    "start_time": "2023-08-06T19:48:54.048Z"
   },
   {
    "duration": 6,
    "start_time": "2023-08-06T19:48:54.061Z"
   },
   {
    "duration": 8,
    "start_time": "2023-08-06T19:48:54.068Z"
   },
   {
    "duration": 3123,
    "start_time": "2023-08-06T19:48:54.078Z"
   },
   {
    "duration": 9,
    "start_time": "2023-08-06T19:48:57.206Z"
   },
   {
    "duration": 22437,
    "start_time": "2023-08-06T19:48:57.222Z"
   },
   {
    "duration": 18781,
    "start_time": "2023-08-06T19:49:19.661Z"
   },
   {
    "duration": 54,
    "start_time": "2023-08-06T19:49:38.446Z"
   },
   {
    "duration": 126,
    "start_time": "2023-08-06T19:49:38.505Z"
   },
   {
    "duration": 8,
    "start_time": "2023-08-06T19:49:38.633Z"
   },
   {
    "duration": 276,
    "start_time": "2023-08-06T19:49:38.643Z"
   },
   {
    "duration": 6,
    "start_time": "2023-08-06T19:49:38.923Z"
   },
   {
    "duration": 605,
    "start_time": "2023-08-06T19:49:38.930Z"
   },
   {
    "duration": 6,
    "start_time": "2023-08-06T19:49:46.927Z"
   },
   {
    "duration": 26430,
    "start_time": "2023-08-06T19:51:27.520Z"
   },
   {
    "duration": 22983,
    "start_time": "2023-08-06T19:51:58.322Z"
   },
   {
    "duration": 416,
    "start_time": "2023-08-06T19:52:21.309Z"
   },
   {
    "duration": 8,
    "start_time": "2023-08-06T20:06:25.834Z"
   },
   {
    "duration": 1090,
    "start_time": "2023-08-06T20:06:32.221Z"
   },
   {
    "duration": 4,
    "start_time": "2023-08-06T20:06:33.314Z"
   },
   {
    "duration": 194,
    "start_time": "2023-08-06T20:06:34.821Z"
   },
   {
    "duration": 59,
    "start_time": "2023-08-06T20:06:35.877Z"
   },
   {
    "duration": 170,
    "start_time": "2023-08-06T20:06:36.787Z"
   },
   {
    "duration": 8,
    "start_time": "2023-08-06T20:06:52.500Z"
   },
   {
    "duration": 11,
    "start_time": "2023-08-06T20:06:58.622Z"
   },
   {
    "duration": 10,
    "start_time": "2023-08-06T20:06:59.579Z"
   },
   {
    "duration": 8,
    "start_time": "2023-08-06T20:07:07.036Z"
   },
   {
    "duration": 6,
    "start_time": "2023-08-06T20:07:21.291Z"
   },
   {
    "duration": 7,
    "start_time": "2023-08-06T20:09:01.240Z"
   },
   {
    "duration": 33,
    "start_time": "2023-08-06T20:09:02.477Z"
   },
   {
    "duration": 204,
    "start_time": "2023-08-06T20:09:47.469Z"
   },
   {
    "duration": 197,
    "start_time": "2023-08-06T20:09:51.264Z"
   },
   {
    "duration": 189,
    "start_time": "2023-08-06T20:09:53.192Z"
   },
   {
    "duration": 197,
    "start_time": "2023-08-06T20:09:54.477Z"
   },
   {
    "duration": 177,
    "start_time": "2023-08-06T20:11:57.981Z"
   },
   {
    "duration": 708,
    "start_time": "2023-08-06T20:12:30.768Z"
   },
   {
    "duration": 846,
    "start_time": "2023-08-06T20:12:33.971Z"
   },
   {
    "duration": 709,
    "start_time": "2023-08-06T20:12:37.694Z"
   },
   {
    "duration": 7,
    "start_time": "2023-08-06T20:12:40.621Z"
   },
   {
    "duration": 3,
    "start_time": "2023-08-06T20:12:45.508Z"
   },
   {
    "duration": 156,
    "start_time": "2023-08-06T20:12:48.123Z"
   },
   {
    "duration": 7,
    "start_time": "2023-08-06T20:12:50.309Z"
   },
   {
    "duration": 752,
    "start_time": "2023-08-06T20:12:51.879Z"
   },
   {
    "duration": 213,
    "start_time": "2023-08-06T20:13:00.863Z"
   },
   {
    "duration": 209,
    "start_time": "2023-08-06T20:13:01.570Z"
   },
   {
    "duration": 227,
    "start_time": "2023-08-06T20:13:02.818Z"
   },
   {
    "duration": 349,
    "start_time": "2023-08-06T20:13:04.097Z"
   },
   {
    "duration": 14,
    "start_time": "2023-08-06T20:13:07.483Z"
   },
   {
    "duration": 186,
    "start_time": "2023-08-06T20:13:09.774Z"
   },
   {
    "duration": 3,
    "start_time": "2023-08-06T20:13:11.059Z"
   },
   {
    "duration": 202,
    "start_time": "2023-08-06T20:13:11.974Z"
   },
   {
    "duration": 5,
    "start_time": "2023-08-06T20:13:15.281Z"
   },
   {
    "duration": 6,
    "start_time": "2023-08-06T20:13:17.574Z"
   },
   {
    "duration": 5,
    "start_time": "2023-08-06T20:13:18.782Z"
   },
   {
    "duration": 601,
    "start_time": "2023-08-06T20:13:20.774Z"
   },
   {
    "duration": 193,
    "start_time": "2023-08-06T20:13:29.430Z"
   },
   {
    "duration": 5,
    "start_time": "2023-08-06T20:13:33.870Z"
   },
   {
    "duration": 606,
    "start_time": "2023-08-06T20:13:35.619Z"
   },
   {
    "duration": 201,
    "start_time": "2023-08-06T20:13:38.165Z"
   },
   {
    "duration": 4,
    "start_time": "2023-08-06T20:13:45.486Z"
   },
   {
    "duration": 6,
    "start_time": "2023-08-06T20:13:47.287Z"
   },
   {
    "duration": 40,
    "start_time": "2023-08-06T20:13:48.191Z"
   },
   {
    "duration": 151,
    "start_time": "2023-08-06T20:13:49.015Z"
   },
   {
    "duration": 116,
    "start_time": "2023-08-06T20:14:00.666Z"
   },
   {
    "duration": 1589,
    "start_time": "2023-08-06T20:14:11.767Z"
   },
   {
    "duration": 878,
    "start_time": "2023-08-06T20:14:13.358Z"
   },
   {
    "duration": 4,
    "start_time": "2023-08-06T20:14:14.238Z"
   },
   {
    "duration": 179,
    "start_time": "2023-08-06T20:14:14.243Z"
   },
   {
    "duration": 39,
    "start_time": "2023-08-06T20:14:14.428Z"
   },
   {
    "duration": 138,
    "start_time": "2023-08-06T20:14:14.469Z"
   },
   {
    "duration": 12,
    "start_time": "2023-08-06T20:14:14.608Z"
   },
   {
    "duration": 20,
    "start_time": "2023-08-06T20:14:14.622Z"
   },
   {
    "duration": 9,
    "start_time": "2023-08-06T20:14:14.644Z"
   },
   {
    "duration": 5,
    "start_time": "2023-08-06T20:14:14.654Z"
   },
   {
    "duration": 17,
    "start_time": "2023-08-06T20:14:14.660Z"
   },
   {
    "duration": 11,
    "start_time": "2023-08-06T20:14:14.679Z"
   },
   {
    "duration": 62,
    "start_time": "2023-08-06T20:14:14.691Z"
   },
   {
    "duration": 184,
    "start_time": "2023-08-06T20:14:14.756Z"
   },
   {
    "duration": 178,
    "start_time": "2023-08-06T20:14:14.941Z"
   },
   {
    "duration": 171,
    "start_time": "2023-08-06T20:14:15.120Z"
   },
   {
    "duration": 209,
    "start_time": "2023-08-06T20:14:15.301Z"
   },
   {
    "duration": 30,
    "start_time": "2023-08-06T20:14:15.512Z"
   },
   {
    "duration": 258,
    "start_time": "2023-08-06T20:14:15.543Z"
   },
   {
    "duration": 5,
    "start_time": "2023-08-06T20:14:15.809Z"
   },
   {
    "duration": 207,
    "start_time": "2023-08-06T20:14:15.815Z"
   },
   {
    "duration": 6,
    "start_time": "2023-08-06T20:14:16.024Z"
   },
   {
    "duration": 772,
    "start_time": "2023-08-06T20:14:16.031Z"
   },
   {
    "duration": 279,
    "start_time": "2023-08-06T20:14:16.804Z"
   },
   {
    "duration": 7,
    "start_time": "2023-08-06T20:14:17.085Z"
   },
   {
    "duration": 47,
    "start_time": "2023-08-06T20:14:17.097Z"
   },
   {
    "duration": 74,
    "start_time": "2023-08-06T20:14:17.146Z"
   },
   {
    "duration": 5,
    "start_time": "2023-08-06T20:14:17.226Z"
   },
   {
    "duration": 6,
    "start_time": "2023-08-06T20:14:17.233Z"
   },
   {
    "duration": 6,
    "start_time": "2023-08-06T20:14:17.241Z"
   },
   {
    "duration": 8,
    "start_time": "2023-08-06T20:14:17.248Z"
   },
   {
    "duration": 2740,
    "start_time": "2023-08-06T20:14:17.258Z"
   },
   {
    "duration": 4,
    "start_time": "2023-08-06T20:14:20.001Z"
   },
   {
    "duration": 23079,
    "start_time": "2023-08-06T20:14:20.008Z"
   },
   {
    "duration": 19668,
    "start_time": "2023-08-06T20:14:43.090Z"
   },
   {
    "duration": 11,
    "start_time": "2023-08-06T20:15:02.796Z"
   },
   {
    "duration": 132,
    "start_time": "2023-08-06T20:15:02.813Z"
   },
   {
    "duration": 11,
    "start_time": "2023-08-06T20:15:02.947Z"
   },
   {
    "duration": 270,
    "start_time": "2023-08-06T20:15:02.960Z"
   },
   {
    "duration": 6,
    "start_time": "2023-08-06T20:15:03.232Z"
   },
   {
    "duration": 22668,
    "start_time": "2023-08-06T20:15:14.891Z"
   },
   {
    "duration": 1569,
    "start_time": "2023-08-06T20:16:41.575Z"
   },
   {
    "duration": 889,
    "start_time": "2023-08-06T20:16:43.146Z"
   },
   {
    "duration": 4,
    "start_time": "2023-08-06T20:16:44.037Z"
   },
   {
    "duration": 162,
    "start_time": "2023-08-06T20:16:44.042Z"
   },
   {
    "duration": 47,
    "start_time": "2023-08-06T20:16:44.207Z"
   },
   {
    "duration": 173,
    "start_time": "2023-08-06T20:16:44.256Z"
   },
   {
    "duration": 9,
    "start_time": "2023-08-06T20:16:44.430Z"
   },
   {
    "duration": 10,
    "start_time": "2023-08-06T20:16:44.441Z"
   },
   {
    "duration": 9,
    "start_time": "2023-08-06T20:16:44.452Z"
   },
   {
    "duration": 4,
    "start_time": "2023-08-06T20:16:44.462Z"
   },
   {
    "duration": 18,
    "start_time": "2023-08-06T20:16:44.501Z"
   },
   {
    "duration": 24,
    "start_time": "2023-08-06T20:16:44.520Z"
   },
   {
    "duration": 27,
    "start_time": "2023-08-06T20:16:44.546Z"
   },
   {
    "duration": 183,
    "start_time": "2023-08-06T20:16:44.578Z"
   },
   {
    "duration": 187,
    "start_time": "2023-08-06T20:16:44.762Z"
   },
   {
    "duration": 178,
    "start_time": "2023-08-06T20:16:44.951Z"
   },
   {
    "duration": 175,
    "start_time": "2023-08-06T20:16:45.134Z"
   },
   {
    "duration": 21,
    "start_time": "2023-08-06T20:16:45.316Z"
   },
   {
    "duration": 272,
    "start_time": "2023-08-06T20:16:45.339Z"
   },
   {
    "duration": 2,
    "start_time": "2023-08-06T20:16:45.622Z"
   },
   {
    "duration": 149,
    "start_time": "2023-08-06T20:16:45.625Z"
   },
   {
    "duration": 6,
    "start_time": "2023-08-06T20:16:45.776Z"
   },
   {
    "duration": 727,
    "start_time": "2023-08-06T20:16:45.784Z"
   },
   {
    "duration": 198,
    "start_time": "2023-08-06T20:16:46.520Z"
   },
   {
    "duration": 9,
    "start_time": "2023-08-06T20:16:46.720Z"
   },
   {
    "duration": 18,
    "start_time": "2023-08-06T20:16:46.732Z"
   },
   {
    "duration": 72,
    "start_time": "2023-08-06T20:16:46.752Z"
   },
   {
    "duration": 9,
    "start_time": "2023-08-06T20:16:46.832Z"
   },
   {
    "duration": 8,
    "start_time": "2023-08-06T20:16:46.846Z"
   },
   {
    "duration": 26,
    "start_time": "2023-08-06T20:16:46.856Z"
   },
   {
    "duration": 10,
    "start_time": "2023-08-06T20:16:46.884Z"
   },
   {
    "duration": 3607,
    "start_time": "2023-08-06T20:16:46.896Z"
   },
   {
    "duration": 18,
    "start_time": "2023-08-06T20:16:50.519Z"
   },
   {
    "duration": 23250,
    "start_time": "2023-08-06T20:16:50.540Z"
   },
   {
    "duration": 19342,
    "start_time": "2023-08-06T20:17:13.792Z"
   },
   {
    "duration": 67,
    "start_time": "2023-08-06T20:17:33.138Z"
   },
   {
    "duration": 96,
    "start_time": "2023-08-06T20:17:33.210Z"
   },
   {
    "duration": 69,
    "start_time": "2023-08-06T20:17:33.308Z"
   },
   {
    "duration": 333,
    "start_time": "2023-08-06T20:17:33.379Z"
   },
   {
    "duration": 11,
    "start_time": "2023-08-06T20:17:33.716Z"
   },
   {
    "duration": 219,
    "start_time": "2023-08-06T20:17:51.168Z"
   },
   {
    "duration": 1671,
    "start_time": "2023-08-07T07:18:35.337Z"
   },
   {
    "duration": 3315,
    "start_time": "2023-08-07T07:18:37.691Z"
   },
   {
    "duration": 4,
    "start_time": "2023-08-07T07:18:41.008Z"
   },
   {
    "duration": 150,
    "start_time": "2023-08-07T07:18:41.615Z"
   },
   {
    "duration": 40,
    "start_time": "2023-08-07T07:18:51.821Z"
   },
   {
    "duration": 140,
    "start_time": "2023-08-07T07:18:53.272Z"
   },
   {
    "duration": 7,
    "start_time": "2023-08-07T07:20:27.584Z"
   },
   {
    "duration": 10,
    "start_time": "2023-08-07T07:21:31.390Z"
   },
   {
    "duration": 38,
    "start_time": "2023-08-07T07:21:43.147Z"
   },
   {
    "duration": 185,
    "start_time": "2023-08-07T07:23:18.113Z"
   },
   {
    "duration": 292,
    "start_time": "2023-08-07T07:23:30.072Z"
   },
   {
    "duration": 167,
    "start_time": "2023-08-07T07:23:34.899Z"
   },
   {
    "duration": 175,
    "start_time": "2023-08-07T07:23:39.321Z"
   },
   {
    "duration": 20,
    "start_time": "2023-08-07T07:24:30.534Z"
   },
   {
    "duration": 255,
    "start_time": "2023-08-07T07:24:32.782Z"
   },
   {
    "duration": 3,
    "start_time": "2023-08-07T07:24:44.394Z"
   },
   {
    "duration": 162,
    "start_time": "2023-08-07T07:25:35.475Z"
   },
   {
    "duration": 8,
    "start_time": "2023-08-07T07:25:47.949Z"
   },
   {
    "duration": 6,
    "start_time": "2023-08-07T07:25:49.693Z"
   },
   {
    "duration": 9,
    "start_time": "2023-08-07T07:25:51.054Z"
   },
   {
    "duration": 6,
    "start_time": "2023-08-07T07:34:29.483Z"
   },
   {
    "duration": 9,
    "start_time": "2023-08-07T07:34:41.777Z"
   },
   {
    "duration": 8,
    "start_time": "2023-08-07T07:36:36.479Z"
   },
   {
    "duration": 12,
    "start_time": "2023-08-07T07:37:57.055Z"
   },
   {
    "duration": 2,
    "start_time": "2023-08-07T07:38:18.647Z"
   },
   {
    "duration": 132,
    "start_time": "2023-08-07T07:40:10.408Z"
   },
   {
    "duration": 8,
    "start_time": "2023-08-07T07:40:16.708Z"
   },
   {
    "duration": 9,
    "start_time": "2023-08-07T07:40:30.411Z"
   },
   {
    "duration": 8,
    "start_time": "2023-08-07T07:40:40.460Z"
   },
   {
    "duration": 8,
    "start_time": "2023-08-07T07:40:53.589Z"
   },
   {
    "duration": 10,
    "start_time": "2023-08-07T07:42:24.426Z"
   },
   {
    "duration": 9,
    "start_time": "2023-08-07T07:43:18.944Z"
   },
   {
    "duration": 8,
    "start_time": "2023-08-07T07:43:55.441Z"
   },
   {
    "duration": 10,
    "start_time": "2023-08-07T07:48:51.179Z"
   },
   {
    "duration": 16,
    "start_time": "2023-08-07T07:50:13.092Z"
   },
   {
    "duration": 5,
    "start_time": "2023-08-07T07:50:41.952Z"
   },
   {
    "duration": 795,
    "start_time": "2023-08-07T07:50:43.554Z"
   },
   {
    "duration": 8,
    "start_time": "2023-08-07T07:50:44.352Z"
   },
   {
    "duration": 160,
    "start_time": "2023-08-07T07:50:45.210Z"
   },
   {
    "duration": 49,
    "start_time": "2023-08-07T07:50:46.134Z"
   },
   {
    "duration": 118,
    "start_time": "2023-08-07T07:50:47.135Z"
   },
   {
    "duration": 6,
    "start_time": "2023-08-07T07:50:50.173Z"
   },
   {
    "duration": 11,
    "start_time": "2023-08-07T07:50:50.949Z"
   },
   {
    "duration": 12,
    "start_time": "2023-08-07T07:50:51.558Z"
   },
   {
    "duration": 5,
    "start_time": "2023-08-07T07:50:52.962Z"
   },
   {
    "duration": 5,
    "start_time": "2023-08-07T07:50:54.683Z"
   },
   {
    "duration": 10,
    "start_time": "2023-08-07T07:50:58.275Z"
   },
   {
    "duration": 39,
    "start_time": "2023-08-07T07:50:59.694Z"
   },
   {
    "duration": 186,
    "start_time": "2023-08-07T07:51:06.852Z"
   },
   {
    "duration": 192,
    "start_time": "2023-08-07T07:51:07.555Z"
   },
   {
    "duration": 176,
    "start_time": "2023-08-07T07:51:09.706Z"
   },
   {
    "duration": 175,
    "start_time": "2023-08-07T07:51:11.514Z"
   },
   {
    "duration": 24,
    "start_time": "2023-08-07T07:51:20.022Z"
   },
   {
    "duration": 220,
    "start_time": "2023-08-07T07:51:20.528Z"
   },
   {
    "duration": 5,
    "start_time": "2023-08-07T07:51:21.641Z"
   },
   {
    "duration": 151,
    "start_time": "2023-08-07T07:51:23.714Z"
   },
   {
    "duration": 12,
    "start_time": "2023-08-07T07:51:29.674Z"
   },
   {
    "duration": 12,
    "start_time": "2023-08-07T07:52:14.534Z"
   },
   {
    "duration": 8,
    "start_time": "2023-08-07T07:52:19.144Z"
   },
   {
    "duration": 8,
    "start_time": "2023-08-07T07:52:22.283Z"
   },
   {
    "duration": 7,
    "start_time": "2023-08-07T07:54:48.969Z"
   },
   {
    "duration": 778,
    "start_time": "2023-08-07T07:55:46.457Z"
   },
   {
    "duration": 667,
    "start_time": "2023-08-07T07:55:59.296Z"
   },
   {
    "duration": 123,
    "start_time": "2023-08-07T07:56:34.736Z"
   },
   {
    "duration": 7,
    "start_time": "2023-08-07T07:56:41.745Z"
   },
   {
    "duration": 8,
    "start_time": "2023-08-07T07:59:35.904Z"
   },
   {
    "duration": 9,
    "start_time": "2023-08-07T07:59:50.024Z"
   },
   {
    "duration": 564,
    "start_time": "2023-08-07T08:00:02.256Z"
   },
   {
    "duration": 634,
    "start_time": "2023-08-07T08:00:27.929Z"
   },
   {
    "duration": 5,
    "start_time": "2023-08-07T08:01:41.005Z"
   },
   {
    "duration": 6,
    "start_time": "2023-08-07T08:02:01.231Z"
   },
   {
    "duration": 29,
    "start_time": "2023-08-07T08:02:29.198Z"
   },
   {
    "duration": 8,
    "start_time": "2023-08-07T08:04:44.998Z"
   },
   {
    "duration": 425,
    "start_time": "2023-08-07T08:05:22.405Z"
   },
   {
    "duration": 9,
    "start_time": "2023-08-07T08:05:27.297Z"
   },
   {
    "duration": 471,
    "start_time": "2023-08-07T08:05:27.849Z"
   },
   {
    "duration": 8,
    "start_time": "2023-08-07T08:05:40.406Z"
   },
   {
    "duration": 9,
    "start_time": "2023-08-07T08:06:04.706Z"
   },
   {
    "duration": 8,
    "start_time": "2023-08-07T08:06:19.150Z"
   },
   {
    "duration": 10,
    "start_time": "2023-08-07T08:06:26.792Z"
   },
   {
    "duration": 8,
    "start_time": "2023-08-07T08:06:30.509Z"
   },
   {
    "duration": 7,
    "start_time": "2023-08-07T08:06:32.382Z"
   },
   {
    "duration": 599,
    "start_time": "2023-08-07T08:07:21.033Z"
   },
   {
    "duration": 177,
    "start_time": "2023-08-07T08:07:28.765Z"
   },
   {
    "duration": 4,
    "start_time": "2023-08-07T08:07:56.440Z"
   },
   {
    "duration": 8,
    "start_time": "2023-08-07T08:08:19.264Z"
   },
   {
    "duration": 50,
    "start_time": "2023-08-07T08:08:24.934Z"
   },
   {
    "duration": 6,
    "start_time": "2023-08-07T08:08:39.987Z"
   },
   {
    "duration": 4,
    "start_time": "2023-08-07T08:09:24.256Z"
   },
   {
    "duration": 753,
    "start_time": "2023-08-07T08:09:26.017Z"
   },
   {
    "duration": 3,
    "start_time": "2023-08-07T08:09:29.405Z"
   },
   {
    "duration": 19390,
    "start_time": "2023-08-07T08:09:43.354Z"
   },
   {
    "duration": 15,
    "start_time": "2023-08-07T08:10:07.336Z"
   },
   {
    "duration": 3,
    "start_time": "2023-08-07T08:10:21.637Z"
   },
   {
    "duration": 20474,
    "start_time": "2023-08-07T08:10:29.628Z"
   },
   {
    "duration": 3,
    "start_time": "2023-08-07T08:12:11.894Z"
   },
   {
    "duration": 2,
    "start_time": "2023-08-07T08:12:12.802Z"
   },
   {
    "duration": 3,
    "start_time": "2023-08-07T08:12:13.433Z"
   },
   {
    "duration": 171,
    "start_time": "2023-08-07T08:23:24.478Z"
   },
   {
    "duration": 1549,
    "start_time": "2023-08-07T08:23:42.109Z"
   },
   {
    "duration": 778,
    "start_time": "2023-08-07T08:23:43.660Z"
   },
   {
    "duration": 4,
    "start_time": "2023-08-07T08:23:44.440Z"
   },
   {
    "duration": 156,
    "start_time": "2023-08-07T08:23:44.446Z"
   },
   {
    "duration": 42,
    "start_time": "2023-08-07T08:23:44.603Z"
   },
   {
    "duration": 124,
    "start_time": "2023-08-07T08:23:44.659Z"
   },
   {
    "duration": 6,
    "start_time": "2023-08-07T08:23:44.784Z"
   },
   {
    "duration": 18,
    "start_time": "2023-08-07T08:23:44.792Z"
   },
   {
    "duration": 8,
    "start_time": "2023-08-07T08:23:44.811Z"
   },
   {
    "duration": 5,
    "start_time": "2023-08-07T08:23:44.821Z"
   },
   {
    "duration": 6,
    "start_time": "2023-08-07T08:23:44.827Z"
   },
   {
    "duration": 29,
    "start_time": "2023-08-07T08:23:44.835Z"
   },
   {
    "duration": 34,
    "start_time": "2023-08-07T08:23:44.866Z"
   },
   {
    "duration": 182,
    "start_time": "2023-08-07T08:23:44.902Z"
   },
   {
    "duration": 177,
    "start_time": "2023-08-07T08:23:45.085Z"
   },
   {
    "duration": 177,
    "start_time": "2023-08-07T08:23:45.263Z"
   },
   {
    "duration": 177,
    "start_time": "2023-08-07T08:23:45.442Z"
   },
   {
    "duration": 16,
    "start_time": "2023-08-07T08:23:45.621Z"
   },
   {
    "duration": 259,
    "start_time": "2023-08-07T08:23:45.639Z"
   },
   {
    "duration": 3,
    "start_time": "2023-08-07T08:23:45.900Z"
   },
   {
    "duration": 193,
    "start_time": "2023-08-07T08:23:45.904Z"
   },
   {
    "duration": 76,
    "start_time": "2023-08-07T08:23:46.099Z"
   },
   {
    "duration": 795,
    "start_time": "2023-08-07T08:23:46.177Z"
   },
   {
    "duration": 191,
    "start_time": "2023-08-07T08:23:46.973Z"
   },
   {
    "duration": 5,
    "start_time": "2023-08-07T08:23:47.165Z"
   },
   {
    "duration": 37,
    "start_time": "2023-08-07T08:23:47.172Z"
   },
   {
    "duration": 75,
    "start_time": "2023-08-07T08:23:47.211Z"
   },
   {
    "duration": 5,
    "start_time": "2023-08-07T08:23:47.290Z"
   },
   {
    "duration": 13,
    "start_time": "2023-08-07T08:23:47.296Z"
   },
   {
    "duration": 32,
    "start_time": "2023-08-07T08:23:47.310Z"
   },
   {
    "duration": 45,
    "start_time": "2023-08-07T08:23:47.343Z"
   },
   {
    "duration": 770,
    "start_time": "2023-08-07T08:23:47.389Z"
   },
   {
    "duration": 94,
    "start_time": "2023-08-07T08:23:48.165Z"
   },
   {
    "duration": 19555,
    "start_time": "2023-08-07T08:23:48.261Z"
   },
   {
    "duration": 20142,
    "start_time": "2023-08-07T08:24:07.818Z"
   },
   {
    "duration": 3,
    "start_time": "2023-08-07T08:24:27.963Z"
   },
   {
    "duration": 8,
    "start_time": "2023-08-07T08:24:27.971Z"
   },
   {
    "duration": 80,
    "start_time": "2023-08-07T08:24:27.981Z"
   },
   {
    "duration": 198,
    "start_time": "2023-08-07T08:24:28.063Z"
   },
   {
    "duration": 6,
    "start_time": "2023-08-07T08:24:28.263Z"
   },
   {
    "duration": 124,
    "start_time": "2023-08-07T08:29:07.109Z"
   },
   {
    "duration": 10,
    "start_time": "2023-08-07T08:29:19.147Z"
   },
   {
    "duration": 5,
    "start_time": "2023-08-07T08:29:47.272Z"
   },
   {
    "duration": 6,
    "start_time": "2023-08-07T08:30:16.883Z"
   },
   {
    "duration": 729,
    "start_time": "2023-08-07T08:30:17.615Z"
   },
   {
    "duration": 4,
    "start_time": "2023-08-07T08:30:18.514Z"
   },
   {
    "duration": 150,
    "start_time": "2023-08-07T08:30:19.560Z"
   },
   {
    "duration": 49,
    "start_time": "2023-08-07T08:30:20.788Z"
   },
   {
    "duration": 114,
    "start_time": "2023-08-07T08:30:21.472Z"
   },
   {
    "duration": 6,
    "start_time": "2023-08-07T08:30:25.309Z"
   },
   {
    "duration": 9,
    "start_time": "2023-08-07T08:30:26.447Z"
   },
   {
    "duration": 10,
    "start_time": "2023-08-07T08:30:27.109Z"
   },
   {
    "duration": 5,
    "start_time": "2023-08-07T08:30:30.082Z"
   },
   {
    "duration": 5,
    "start_time": "2023-08-07T08:30:31.845Z"
   },
   {
    "duration": 36,
    "start_time": "2023-08-07T08:36:25.880Z"
   },
   {
    "duration": 201,
    "start_time": "2023-08-07T08:36:50.845Z"
   },
   {
    "duration": 170,
    "start_time": "2023-08-07T08:36:55.867Z"
   },
   {
    "duration": 283,
    "start_time": "2023-08-07T08:36:57.742Z"
   },
   {
    "duration": 181,
    "start_time": "2023-08-07T08:36:59.012Z"
   },
   {
    "duration": 19,
    "start_time": "2023-08-07T08:37:02.771Z"
   },
   {
    "duration": 17,
    "start_time": "2023-08-07T08:37:49.977Z"
   },
   {
    "duration": 162,
    "start_time": "2023-08-07T08:37:51.373Z"
   },
   {
    "duration": 160,
    "start_time": "2023-08-07T08:38:31.661Z"
   },
   {
    "duration": 721,
    "start_time": "2023-08-07T08:42:16.506Z"
   },
   {
    "duration": 232,
    "start_time": "2023-08-07T08:42:20.522Z"
   },
   {
    "duration": 6,
    "start_time": "2023-08-07T08:42:34.281Z"
   },
   {
    "duration": 12,
    "start_time": "2023-08-07T08:42:36.639Z"
   },
   {
    "duration": 49,
    "start_time": "2023-08-07T08:42:37.924Z"
   },
   {
    "duration": 8,
    "start_time": "2023-08-07T08:42:39.127Z"
   },
   {
    "duration": 3,
    "start_time": "2023-08-07T08:42:40.949Z"
   },
   {
    "duration": 3,
    "start_time": "2023-08-07T08:42:42.280Z"
   },
   {
    "duration": 4,
    "start_time": "2023-08-07T08:42:45.093Z"
   },
   {
    "duration": 1468,
    "start_time": "2023-08-07T08:42:46.194Z"
   },
   {
    "duration": 3,
    "start_time": "2023-08-07T08:42:51.647Z"
   },
   {
    "duration": 27903,
    "start_time": "2023-08-07T08:42:53.158Z"
   },
   {
    "duration": 299,
    "start_time": "2023-08-07T08:48:27.050Z"
   },
   {
    "duration": 304,
    "start_time": "2023-08-07T08:48:56.685Z"
   },
   {
    "duration": 262,
    "start_time": "2023-08-07T08:49:31.251Z"
   },
   {
    "duration": 245,
    "start_time": "2023-08-07T08:49:53.235Z"
   },
   {
    "duration": 317,
    "start_time": "2023-08-07T08:50:18.707Z"
   },
   {
    "duration": 323,
    "start_time": "2023-08-07T08:50:35.595Z"
   },
   {
    "duration": 331,
    "start_time": "2023-08-07T08:52:09.018Z"
   },
   {
    "duration": 324,
    "start_time": "2023-08-07T08:52:17.951Z"
   },
   {
    "duration": 171,
    "start_time": "2023-08-07T08:55:44.050Z"
   },
   {
    "duration": 22,
    "start_time": "2023-08-07T08:55:56.605Z"
   },
   {
    "duration": 1440,
    "start_time": "2023-08-07T08:56:06.335Z"
   },
   {
    "duration": 729,
    "start_time": "2023-08-07T08:56:07.777Z"
   },
   {
    "duration": 3,
    "start_time": "2023-08-07T08:56:08.508Z"
   },
   {
    "duration": 150,
    "start_time": "2023-08-07T08:56:08.513Z"
   },
   {
    "duration": 43,
    "start_time": "2023-08-07T08:56:08.664Z"
   },
   {
    "duration": 137,
    "start_time": "2023-08-07T08:56:08.709Z"
   },
   {
    "duration": 13,
    "start_time": "2023-08-07T08:56:08.848Z"
   },
   {
    "duration": 18,
    "start_time": "2023-08-07T08:56:08.863Z"
   },
   {
    "duration": 40,
    "start_time": "2023-08-07T08:56:08.882Z"
   },
   {
    "duration": 19,
    "start_time": "2023-08-07T08:56:08.924Z"
   },
   {
    "duration": 12,
    "start_time": "2023-08-07T08:56:08.945Z"
   },
   {
    "duration": 19,
    "start_time": "2023-08-07T08:56:08.958Z"
   },
   {
    "duration": 54,
    "start_time": "2023-08-07T08:56:08.979Z"
   },
   {
    "duration": 183,
    "start_time": "2023-08-07T08:56:09.035Z"
   },
   {
    "duration": 188,
    "start_time": "2023-08-07T08:56:09.220Z"
   },
   {
    "duration": 172,
    "start_time": "2023-08-07T08:56:09.410Z"
   },
   {
    "duration": 182,
    "start_time": "2023-08-07T08:56:09.584Z"
   },
   {
    "duration": 16,
    "start_time": "2023-08-07T08:56:09.767Z"
   },
   {
    "duration": 353,
    "start_time": "2023-08-07T08:56:09.785Z"
   },
   {
    "duration": 3,
    "start_time": "2023-08-07T08:56:10.140Z"
   },
   {
    "duration": 161,
    "start_time": "2023-08-07T08:56:10.144Z"
   },
   {
    "duration": 6,
    "start_time": "2023-08-07T08:56:10.307Z"
   },
   {
    "duration": 676,
    "start_time": "2023-08-07T08:56:10.314Z"
   },
   {
    "duration": 213,
    "start_time": "2023-08-07T08:56:10.992Z"
   },
   {
    "duration": 5,
    "start_time": "2023-08-07T08:56:11.207Z"
   },
   {
    "duration": 21,
    "start_time": "2023-08-07T08:56:11.213Z"
   },
   {
    "duration": 65,
    "start_time": "2023-08-07T08:56:11.236Z"
   },
   {
    "duration": 5,
    "start_time": "2023-08-07T08:56:11.305Z"
   },
   {
    "duration": 19,
    "start_time": "2023-08-07T08:56:11.312Z"
   },
   {
    "duration": 16,
    "start_time": "2023-08-07T08:56:11.335Z"
   },
   {
    "duration": 21,
    "start_time": "2023-08-07T08:56:11.353Z"
   },
   {
    "duration": 1085,
    "start_time": "2023-08-07T08:56:11.375Z"
   },
   {
    "duration": 3,
    "start_time": "2023-08-07T08:56:12.462Z"
   },
   {
    "duration": 19415,
    "start_time": "2023-08-07T08:56:12.467Z"
   },
   {
    "duration": 19478,
    "start_time": "2023-08-07T08:56:31.884Z"
   },
   {
    "duration": 359,
    "start_time": "2023-08-07T08:56:51.366Z"
   },
   {
    "duration": 0,
    "start_time": "2023-08-07T08:56:51.727Z"
   },
   {
    "duration": 0,
    "start_time": "2023-08-07T08:56:51.729Z"
   },
   {
    "duration": 0,
    "start_time": "2023-08-07T08:56:51.731Z"
   },
   {
    "duration": 0,
    "start_time": "2023-08-07T08:56:51.732Z"
   },
   {
    "duration": 0,
    "start_time": "2023-08-07T08:56:51.733Z"
   },
   {
    "duration": 88,
    "start_time": "2023-08-07T08:56:58.540Z"
   },
   {
    "duration": 124,
    "start_time": "2023-08-07T08:58:44.184Z"
   },
   {
    "duration": 12,
    "start_time": "2023-08-07T08:59:09.193Z"
   },
   {
    "duration": 94,
    "start_time": "2023-08-07T08:59:46.492Z"
   },
   {
    "duration": 287,
    "start_time": "2023-08-07T09:01:59.354Z"
   },
   {
    "duration": 233,
    "start_time": "2023-08-07T09:02:55.569Z"
   },
   {
    "duration": 16,
    "start_time": "2023-08-07T09:03:09.395Z"
   },
   {
    "duration": 6,
    "start_time": "2023-08-07T09:06:31.746Z"
   },
   {
    "duration": 232,
    "start_time": "2023-08-07T09:07:25.390Z"
   },
   {
    "duration": 245,
    "start_time": "2023-08-07T09:07:32.646Z"
   },
   {
    "duration": 221,
    "start_time": "2023-08-07T09:07:59.165Z"
   },
   {
    "duration": 2,
    "start_time": "2023-08-07T09:08:41.456Z"
   },
   {
    "duration": 3,
    "start_time": "2023-08-07T09:08:41.826Z"
   },
   {
    "duration": 3,
    "start_time": "2023-08-07T09:08:42.286Z"
   },
   {
    "duration": 169,
    "start_time": "2023-08-07T09:08:44.920Z"
   },
   {
    "duration": 8,
    "start_time": "2023-08-07T09:08:55.157Z"
   },
   {
    "duration": 7,
    "start_time": "2023-08-07T09:10:20.730Z"
   },
   {
    "duration": 1483,
    "start_time": "2023-08-07T09:10:27.819Z"
   },
   {
    "duration": 759,
    "start_time": "2023-08-07T09:10:29.304Z"
   },
   {
    "duration": 3,
    "start_time": "2023-08-07T09:10:30.065Z"
   },
   {
    "duration": 170,
    "start_time": "2023-08-07T09:10:30.070Z"
   },
   {
    "duration": 49,
    "start_time": "2023-08-07T09:10:30.242Z"
   },
   {
    "duration": 131,
    "start_time": "2023-08-07T09:10:30.293Z"
   },
   {
    "duration": 7,
    "start_time": "2023-08-07T09:10:30.425Z"
   },
   {
    "duration": 35,
    "start_time": "2023-08-07T09:10:30.433Z"
   },
   {
    "duration": 25,
    "start_time": "2023-08-07T09:10:30.470Z"
   },
   {
    "duration": 24,
    "start_time": "2023-08-07T09:10:30.497Z"
   },
   {
    "duration": 45,
    "start_time": "2023-08-07T09:10:30.523Z"
   },
   {
    "duration": 107,
    "start_time": "2023-08-07T09:10:30.569Z"
   },
   {
    "duration": 79,
    "start_time": "2023-08-07T09:10:30.677Z"
   },
   {
    "duration": 176,
    "start_time": "2023-08-07T09:10:30.759Z"
   },
   {
    "duration": 183,
    "start_time": "2023-08-07T09:10:30.937Z"
   },
   {
    "duration": 164,
    "start_time": "2023-08-07T09:10:31.122Z"
   },
   {
    "duration": 175,
    "start_time": "2023-08-07T09:10:31.288Z"
   },
   {
    "duration": 16,
    "start_time": "2023-08-07T09:10:31.465Z"
   },
   {
    "duration": 256,
    "start_time": "2023-08-07T09:10:31.483Z"
   },
   {
    "duration": 3,
    "start_time": "2023-08-07T09:10:31.740Z"
   },
   {
    "duration": 181,
    "start_time": "2023-08-07T09:10:31.744Z"
   },
   {
    "duration": 6,
    "start_time": "2023-08-07T09:10:31.927Z"
   },
   {
    "duration": 678,
    "start_time": "2023-08-07T09:10:31.934Z"
   },
   {
    "duration": 182,
    "start_time": "2023-08-07T09:10:32.613Z"
   },
   {
    "duration": 5,
    "start_time": "2023-08-07T09:10:32.796Z"
   },
   {
    "duration": 31,
    "start_time": "2023-08-07T09:10:32.802Z"
   },
   {
    "duration": 63,
    "start_time": "2023-08-07T09:10:32.835Z"
   },
   {
    "duration": 5,
    "start_time": "2023-08-07T09:10:32.900Z"
   },
   {
    "duration": 6,
    "start_time": "2023-08-07T09:10:32.906Z"
   },
   {
    "duration": 5,
    "start_time": "2023-08-07T09:10:32.913Z"
   },
   {
    "duration": 15,
    "start_time": "2023-08-07T09:10:32.919Z"
   },
   {
    "duration": 724,
    "start_time": "2023-08-07T09:10:32.935Z"
   },
   {
    "duration": 4,
    "start_time": "2023-08-07T09:10:33.661Z"
   },
   {
    "duration": 19480,
    "start_time": "2023-08-07T09:10:33.666Z"
   },
   {
    "duration": 19113,
    "start_time": "2023-08-07T09:10:53.147Z"
   },
   {
    "duration": 3,
    "start_time": "2023-08-07T09:11:12.262Z"
   },
   {
    "duration": 113,
    "start_time": "2023-08-07T09:11:12.266Z"
   },
   {
    "duration": 4,
    "start_time": "2023-08-07T09:11:12.381Z"
   },
   {
    "duration": 241,
    "start_time": "2023-08-07T09:11:12.387Z"
   },
   {
    "duration": 6,
    "start_time": "2023-08-07T09:11:12.630Z"
   },
   {
    "duration": 19540,
    "start_time": "2023-08-07T09:12:10.326Z"
   },
   {
    "duration": 2879,
    "start_time": "2023-08-08T08:47:31.467Z"
   },
   {
    "duration": 1047,
    "start_time": "2023-08-08T08:48:11.585Z"
   },
   {
    "duration": 358,
    "start_time": "2023-08-08T08:48:19.335Z"
   },
   {
    "duration": 1983,
    "start_time": "2023-09-03T17:24:16.485Z"
   },
   {
    "duration": 2827,
    "start_time": "2023-09-03T17:24:18.470Z"
   },
   {
    "duration": 4,
    "start_time": "2023-09-03T17:24:21.299Z"
   },
   {
    "duration": 198,
    "start_time": "2023-09-03T17:24:21.305Z"
   },
   {
    "duration": 59,
    "start_time": "2023-09-03T17:24:21.509Z"
   },
   {
    "duration": 154,
    "start_time": "2023-09-03T17:24:21.570Z"
   },
   {
    "duration": 10,
    "start_time": "2023-09-03T17:24:21.727Z"
   },
   {
    "duration": 15,
    "start_time": "2023-09-03T17:24:21.741Z"
   },
   {
    "duration": 9,
    "start_time": "2023-09-03T17:24:21.758Z"
   },
   {
    "duration": 6,
    "start_time": "2023-09-03T17:24:21.769Z"
   },
   {
    "duration": 36,
    "start_time": "2023-09-03T17:24:21.777Z"
   },
   {
    "duration": 14,
    "start_time": "2023-09-03T17:24:21.815Z"
   },
   {
    "duration": 36,
    "start_time": "2023-09-03T17:24:21.831Z"
   },
   {
    "duration": 242,
    "start_time": "2023-09-03T17:24:21.870Z"
   },
   {
    "duration": 225,
    "start_time": "2023-09-03T17:24:22.115Z"
   },
   {
    "duration": 227,
    "start_time": "2023-09-03T17:24:22.342Z"
   },
   {
    "duration": 256,
    "start_time": "2023-09-03T17:24:22.572Z"
   },
   {
    "duration": 22,
    "start_time": "2023-09-03T17:24:22.830Z"
   },
   {
    "duration": 318,
    "start_time": "2023-09-03T17:24:22.855Z"
   },
   {
    "duration": 3,
    "start_time": "2023-09-03T17:24:23.174Z"
   },
   {
    "duration": 195,
    "start_time": "2023-09-03T17:24:23.179Z"
   },
   {
    "duration": 6,
    "start_time": "2023-09-03T17:24:23.376Z"
   },
   {
    "duration": 500,
    "start_time": "2023-09-03T17:24:23.384Z"
   },
   {
    "duration": 831,
    "start_time": "2023-09-03T17:24:23.886Z"
   },
   {
    "duration": 228,
    "start_time": "2023-09-03T17:24:24.734Z"
   },
   {
    "duration": 5,
    "start_time": "2023-09-03T17:24:24.963Z"
   },
   {
    "duration": 37,
    "start_time": "2023-09-03T17:24:24.970Z"
   },
   {
    "duration": 33,
    "start_time": "2023-09-03T17:24:25.008Z"
   },
   {
    "duration": 64,
    "start_time": "2023-09-03T17:24:25.043Z"
   },
   {
    "duration": 9,
    "start_time": "2023-09-03T17:24:25.108Z"
   },
   {
    "duration": 8,
    "start_time": "2023-09-03T17:24:25.119Z"
   },
   {
    "duration": 15,
    "start_time": "2023-09-03T17:24:25.129Z"
   },
   {
    "duration": 10,
    "start_time": "2023-09-03T17:24:25.146Z"
   },
   {
    "duration": 1865,
    "start_time": "2023-09-03T17:24:25.158Z"
   },
   {
    "duration": 9,
    "start_time": "2023-09-03T17:24:27.029Z"
   },
   {
    "duration": 25057,
    "start_time": "2023-09-03T17:24:27.109Z"
   },
   {
    "duration": 25545,
    "start_time": "2023-09-03T17:24:52.168Z"
   },
   {
    "duration": 11,
    "start_time": "2023-09-03T17:25:17.715Z"
   },
   {
    "duration": 6,
    "start_time": "2023-09-03T17:25:17.732Z"
   },
   {
    "duration": 3,
    "start_time": "2023-09-03T17:25:17.810Z"
   },
   {
    "duration": 234,
    "start_time": "2023-09-03T17:25:17.822Z"
   },
   {
    "duration": 6,
    "start_time": "2023-09-03T17:25:18.059Z"
   }
  ],
  "kernelspec": {
   "display_name": "Python 3 (ipykernel)",
   "language": "python",
   "name": "python3"
  },
  "language_info": {
   "codemirror_mode": {
    "name": "ipython",
    "version": 3
   },
   "file_extension": ".py",
   "mimetype": "text/x-python",
   "name": "python",
   "nbconvert_exporter": "python",
   "pygments_lexer": "ipython3",
   "version": "3.11.5"
  },
  "toc": {
   "base_numbering": 1,
   "nav_menu": {},
   "number_sections": true,
   "sideBar": false,
   "skip_h1_title": true,
   "title_cell": "Содержание",
   "title_sidebar": "Содержание",
   "toc_cell": true,
   "toc_position": {
    "height": "calc(100% - 180px)",
    "left": "10px",
    "top": "150px",
    "width": "244px"
   },
   "toc_section_display": false,
   "toc_window_display": false
  }
 },
 "nbformat": 4,
 "nbformat_minor": 2
}
