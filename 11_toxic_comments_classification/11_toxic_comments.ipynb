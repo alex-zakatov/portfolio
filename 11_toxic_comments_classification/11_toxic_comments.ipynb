{
 "cells": [
  {
   "cell_type": "markdown",
   "metadata": {},
   "source": [
    "# Проект для «Викишоп»"
   ]
  },
  {
   "cell_type": "markdown",
   "metadata": {},
   "source": [
    "Интернет-магазин «Викишоп» запускает новый сервис. Теперь пользователи могут редактировать и дополнять описания товаров, как в вики-сообществах. То есть клиенты предлагают свои правки и комментируют изменения других. Магазину нужен инструмент, который будет искать токсичные комментарии и отправлять их на модерацию. \n",
    "\n",
    "**Задача**\n",
    "\n",
    "Необходимо обучить модель классифицировать комментарии на позитивные и негативные. В вашем распоряжении набор данных с разметкой о токсичности правок. Постройте модель со значением метрики качества *F1* не меньше 0.75.\n",
    "\n",
    "**Описание данных**\n",
    "\n",
    "Данные находятся в файле `toxic_comments.csv`. Столбец *text* в нём содержит текст комментария, а *toxic* — целевой признак."
   ]
  },
  {
   "cell_type": "markdown",
   "metadata": {},
   "source": [
    "# Задача проекта\n",
    "* Разарботать и протестировать модель машинного обучения для классификации комментариев на позитивные и негативные."
   ]
  },
  {
   "cell_type": "markdown",
   "metadata": {},
   "source": [
    "## Подготовка"
   ]
  },
  {
   "cell_type": "markdown",
   "metadata": {},
   "source": [
    "### Загрузка библиотек"
   ]
  },
  {
   "cell_type": "code",
   "execution_count": 1,
   "metadata": {},
   "outputs": [],
   "source": [
    "# Файлы и директории\n",
    "import os\n",
    "\n",
    "# Датафреймы\n",
    "import pandas as pd\n",
    "\n",
    "# Математика\n",
    "import numpy as np\n",
    "\n",
    "# Визуализация\n",
    "import matplotlib.pyplot as plt\n",
    "import seaborn as sns\n",
    "\n",
    "# Обработка текстов\n",
    "import re\n",
    "import nltk\n",
    "from nltk.stem import WordNetLemmatizer\n",
    "from nltk.corpus import stopwords\n",
    "from nltk.corpus import wordnet\n",
    "from nltk import pos_tag\n",
    "from nltk import sent_tokenize, word_tokenize\n",
    "\n",
    "# Машинное обучение\n",
    "from sklearn.pipeline import Pipeline\n",
    "from sklearn.linear_model import LogisticRegression\n",
    "from sklearn.ensemble import RandomForestClassifier\n",
    "from lightgbm import LGBMClassifier\n",
    "from sklearn.feature_extraction.text import TfidfVectorizer\n",
    "from sklearn.metrics import f1_score\n",
    "from sklearn.model_selection import(\n",
    "    train_test_split,\n",
    "    cross_val_score,\n",
    "    GridSearchCV)\n",
    "\n",
    "# Предупреждения\n",
    "import warnings\n",
    "warnings.filterwarnings('ignore')\n",
    "\n",
    "# Константы\n",
    "RANDOM_STATE = 42\n",
    "RANDOM_SEED = 42\n",
    "CTR_RANDOM_SEED = 12345\n",
    "CV_SPLITS = 3"
   ]
  },
  {
   "cell_type": "code",
   "execution_count": 2,
   "metadata": {},
   "outputs": [],
   "source": [
    "# nltk.download('punkt')\n",
    "# nltk.download('wordnet')\n",
    "# nltk.download('omw-1.4')\n",
    "# nltk.download('stopwords')\n",
    "# nltk.download('averaged_perceptron_tagger')"
   ]
  },
  {
   "cell_type": "markdown",
   "metadata": {},
   "source": [
    "### Загрузка данных"
   ]
  },
  {
   "cell_type": "code",
   "execution_count": 3,
   "metadata": {},
   "outputs": [],
   "source": [
    "pth1 = '/datasets/toxic_comments.csv'\n",
    "pth2 = 'toxic_comments.csv'\n",
    "\n",
    "if os.path.exists(pth1):\n",
    "    df = pd.read_csv(pth1)\n",
    "    \n",
    "elif os.path.exists(pth2):\n",
    "    df = pd.read_csv(pth2)\n",
    "\n",
    "else:\n",
    "    print('Something went wrong')"
   ]
  },
  {
   "cell_type": "markdown",
   "metadata": {},
   "source": [
    "###  Знакомство с данными"
   ]
  },
  {
   "cell_type": "code",
   "execution_count": 4,
   "metadata": {},
   "outputs": [
    {
     "name": "stdout",
     "output_type": "stream",
     "text": [
      "<class 'pandas.core.frame.DataFrame'>\n",
      "RangeIndex: 159292 entries, 0 to 159291\n",
      "Data columns (total 3 columns):\n",
      " #   Column      Non-Null Count   Dtype \n",
      "---  ------      --------------   ----- \n",
      " 0   Unnamed: 0  159292 non-null  int64 \n",
      " 1   text        159292 non-null  object\n",
      " 2   toxic       159292 non-null  int64 \n",
      "dtypes: int64(2), object(1)\n",
      "memory usage: 3.6+ MB\n"
     ]
    }
   ],
   "source": [
    "df.info()"
   ]
  },
  {
   "cell_type": "code",
   "execution_count": 5,
   "metadata": {},
   "outputs": [
    {
     "data": {
      "text/html": [
       "<div>\n",
       "<style scoped>\n",
       "    .dataframe tbody tr th:only-of-type {\n",
       "        vertical-align: middle;\n",
       "    }\n",
       "\n",
       "    .dataframe tbody tr th {\n",
       "        vertical-align: top;\n",
       "    }\n",
       "\n",
       "    .dataframe thead th {\n",
       "        text-align: right;\n",
       "    }\n",
       "</style>\n",
       "<table border=\"1\" class=\"dataframe\">\n",
       "  <thead>\n",
       "    <tr style=\"text-align: right;\">\n",
       "      <th></th>\n",
       "      <th>Unnamed: 0</th>\n",
       "      <th>text</th>\n",
       "      <th>toxic</th>\n",
       "    </tr>\n",
       "  </thead>\n",
       "  <tbody>\n",
       "    <tr>\n",
       "      <th>0</th>\n",
       "      <td>0</td>\n",
       "      <td>Explanation\\nWhy the edits made under my usern...</td>\n",
       "      <td>0</td>\n",
       "    </tr>\n",
       "    <tr>\n",
       "      <th>1</th>\n",
       "      <td>1</td>\n",
       "      <td>D'aww! He matches this background colour I'm s...</td>\n",
       "      <td>0</td>\n",
       "    </tr>\n",
       "    <tr>\n",
       "      <th>2</th>\n",
       "      <td>2</td>\n",
       "      <td>Hey man, I'm really not trying to edit war. It...</td>\n",
       "      <td>0</td>\n",
       "    </tr>\n",
       "  </tbody>\n",
       "</table>\n",
       "</div>"
      ],
      "text/plain": [
       "   Unnamed: 0                                               text  toxic\n",
       "0           0  Explanation\\nWhy the edits made under my usern...      0\n",
       "1           1  D'aww! He matches this background colour I'm s...      0\n",
       "2           2  Hey man, I'm really not trying to edit war. It...      0"
      ]
     },
     "execution_count": 5,
     "metadata": {},
     "output_type": "execute_result"
    }
   ],
   "source": [
    "df.head(3)"
   ]
  },
  {
   "cell_type": "markdown",
   "metadata": {},
   "source": [
    "Столбец `Unnamed: 0`, по всей видимости, является артефактом. Индексы в нём совпадают с индексом строк, поэтому можем его удалить:"
   ]
  },
  {
   "cell_type": "code",
   "execution_count": 6,
   "metadata": {},
   "outputs": [],
   "source": [
    "# Удаление столбца\n",
    "df = df.drop('Unnamed: 0', axis=1)"
   ]
  },
  {
   "cell_type": "markdown",
   "metadata": {},
   "source": [
    "Проверим датасет на наличие пропусков и дубликатов:"
   ]
  },
  {
   "cell_type": "code",
   "execution_count": 7,
   "metadata": {},
   "outputs": [
    {
     "data": {
      "text/plain": [
       "text     0\n",
       "toxic    0\n",
       "dtype: int64"
      ]
     },
     "execution_count": 7,
     "metadata": {},
     "output_type": "execute_result"
    }
   ],
   "source": [
    "# Пропуски\n",
    "df.isna().sum()"
   ]
  },
  {
   "cell_type": "code",
   "execution_count": 8,
   "metadata": {},
   "outputs": [
    {
     "data": {
      "text/plain": [
       "0"
      ]
     },
     "execution_count": 8,
     "metadata": {},
     "output_type": "execute_result"
    }
   ],
   "source": [
    "# Дубликаты\n",
    "df.duplicated().sum()"
   ]
  },
  {
   "cell_type": "markdown",
   "metadata": {},
   "source": [
    "Проверим баланс классов. Отобразим общее количество значений:"
   ]
  },
  {
   "cell_type": "code",
   "execution_count": 9,
   "metadata": {},
   "outputs": [
    {
     "data": {
      "image/png": "[encoded data removed]",
      "text/plain": [
       "<Figure size 432x288 with 1 Axes>"
      ]
     },
     "metadata": {
      "needs_background": "light"
     },
     "output_type": "display_data"
    }
   ],
   "source": [
    "df['toxic'].value_counts().plot.bar();"
   ]
  },
  {
   "cell_type": "markdown",
   "metadata": {},
   "source": [
    "Рассчитаем соотношение:"
   ]
  },
  {
   "cell_type": "code",
   "execution_count": 10,
   "metadata": {},
   "outputs": [
    {
     "data": {
      "text/plain": [
       "8.841"
      ]
     },
     "execution_count": 10,
     "metadata": {},
     "output_type": "execute_result"
    }
   ],
   "source": [
    "round(df['toxic'].value_counts()[0] / df['toxic'].value_counts()[1], 3)"
   ]
  },
  {
   "cell_type": "markdown",
   "metadata": {},
   "source": [
    "Токсичных комментариев почти в 9 раз меньше, чем нетоксичных."
   ]
  },
  {
   "cell_type": "markdown",
   "metadata": {},
   "source": [
    "### Очистка и лемматизация текстов"
   ]
  },
  {
   "cell_type": "markdown",
   "metadata": {},
   "source": [
    "Разработаем функции для обработки комментариев: "
   ]
  },
  {
   "cell_type": "code",
   "execution_count": 11,
   "metadata": {},
   "outputs": [],
   "source": [
    "# Функция очистки\n",
    "def clear_text(text):\n",
    "    \n",
    "    # Всё, кроме английских букв и апострофа заменяется пробелами  \n",
    "    re_list = re.sub(r\"[^a-zA-Z']\", ' ', text.lower())\n",
    "    \n",
    "    # Деление на слова\n",
    "    re_list = re_list.split()\n",
    "    \n",
    "    # Объединение через пробелы\n",
    "    re_list = ' '.join(re_list)\n",
    "    \n",
    "    return re_list"
   ]
  },
  {
   "cell_type": "code",
   "execution_count": 12,
   "metadata": {},
   "outputs": [],
   "source": [
    "# Инициализация лемматайзера\n",
    "wnl = WordNetLemmatizer()\n",
    "\n",
    "# Обработка сокращений\n",
    "def expand_contractions(word):\n",
    "    contractions = {\n",
    "        \"can't\": \"cannot\",\n",
    "        \"won't\": \"will not\",\n",
    "        \"n't\": \"not\",\n",
    "        \"'s\": \"is\",\n",
    "        \"'m\": \"am\",\n",
    "    }\n",
    "    return contractions.get(word.lower(), word)\n",
    "\n",
    "# Преобразование тегов Penn Treebank --> WordNet.\n",
    "def penn2morphy(penntag):\n",
    "    \n",
    "    morphy_tag = {\n",
    "        'NN':'n', 'JJ':'a',\n",
    "        'VB':'v', 'RB':'r'\n",
    "    }\n",
    "    try:\n",
    "        return morphy_tag[penntag[:2]]\n",
    "    except:\n",
    "        return 'n' \n",
    "    \n",
    "# Лемматизация\n",
    "def lemmatize_text(text): \n",
    "    \n",
    "    # Объединение массива лематизированных слов в единую строку\n",
    "    lemm_text = ' '.join([wnl.lemmatize(expand_contractions(word),\n",
    "                                        pos=penn2morphy(tag)) \n",
    "                          for word, tag in pos_tag(word_tokenize(text))])\n",
    "    \n",
    "    return lemm_text"
   ]
  },
  {
   "cell_type": "markdown",
   "metadata": {},
   "source": [
    "Произведём очистку и лемматизацию исходных данных:"
   ]
  },
  {
   "cell_type": "code",
   "execution_count": 13,
   "metadata": {},
   "outputs": [
    {
     "data": {
      "text/html": [
       "<div>\n",
       "<style scoped>\n",
       "    .dataframe tbody tr th:only-of-type {\n",
       "        vertical-align: middle;\n",
       "    }\n",
       "\n",
       "    .dataframe tbody tr th {\n",
       "        vertical-align: top;\n",
       "    }\n",
       "\n",
       "    .dataframe thead th {\n",
       "        text-align: right;\n",
       "    }\n",
       "</style>\n",
       "<table border=\"1\" class=\"dataframe\">\n",
       "  <thead>\n",
       "    <tr style=\"text-align: right;\">\n",
       "      <th></th>\n",
       "      <th>text</th>\n",
       "      <th>toxic</th>\n",
       "      <th>clear_text</th>\n",
       "      <th>lemm_text</th>\n",
       "    </tr>\n",
       "  </thead>\n",
       "  <tbody>\n",
       "    <tr>\n",
       "      <th>0</th>\n",
       "      <td>Explanation\\nWhy the edits made under my usern...</td>\n",
       "      <td>0</td>\n",
       "      <td>explanation why the edits made under my userna...</td>\n",
       "      <td>explanation why the edits make under my userna...</td>\n",
       "    </tr>\n",
       "    <tr>\n",
       "      <th>1</th>\n",
       "      <td>D'aww! He matches this background colour I'm s...</td>\n",
       "      <td>0</td>\n",
       "      <td>d'aww he matches this background colour i'm se...</td>\n",
       "      <td>d'aww he match this background colour i be see...</td>\n",
       "    </tr>\n",
       "    <tr>\n",
       "      <th>2</th>\n",
       "      <td>Hey man, I'm really not trying to edit war. It...</td>\n",
       "      <td>0</td>\n",
       "      <td>hey man i'm really not trying to edit war it's...</td>\n",
       "      <td>hey man i be really not try to edit war it be ...</td>\n",
       "    </tr>\n",
       "    <tr>\n",
       "      <th>3</th>\n",
       "      <td>\"\\nMore\\nI can't make any real suggestions on ...</td>\n",
       "      <td>0</td>\n",
       "      <td>more i can't make any real suggestions on impr...</td>\n",
       "      <td>more i ca not make any real suggestion on impr...</td>\n",
       "    </tr>\n",
       "    <tr>\n",
       "      <th>4</th>\n",
       "      <td>You, sir, are my hero. Any chance you remember...</td>\n",
       "      <td>0</td>\n",
       "      <td>you sir are my hero any chance you remember wh...</td>\n",
       "      <td>you sir be my hero any chance you remember wha...</td>\n",
       "    </tr>\n",
       "  </tbody>\n",
       "</table>\n",
       "</div>"
      ],
      "text/plain": [
       "                                                text  toxic  \\\n",
       "0  Explanation\\nWhy the edits made under my usern...      0   \n",
       "1  D'aww! He matches this background colour I'm s...      0   \n",
       "2  Hey man, I'm really not trying to edit war. It...      0   \n",
       "3  \"\\nMore\\nI can't make any real suggestions on ...      0   \n",
       "4  You, sir, are my hero. Any chance you remember...      0   \n",
       "\n",
       "                                          clear_text  \\\n",
       "0  explanation why the edits made under my userna...   \n",
       "1  d'aww he matches this background colour i'm se...   \n",
       "2  hey man i'm really not trying to edit war it's...   \n",
       "3  more i can't make any real suggestions on impr...   \n",
       "4  you sir are my hero any chance you remember wh...   \n",
       "\n",
       "                                           lemm_text  \n",
       "0  explanation why the edits make under my userna...  \n",
       "1  d'aww he match this background colour i be see...  \n",
       "2  hey man i be really not try to edit war it be ...  \n",
       "3  more i ca not make any real suggestion on impr...  \n",
       "4  you sir be my hero any chance you remember wha...  "
      ]
     },
     "execution_count": 13,
     "metadata": {},
     "output_type": "execute_result"
    }
   ],
   "source": [
    "df['clear_text'] = df['text'].apply(clear_text)\n",
    "df['lemm_text'] = df['clear_text'].apply(lemmatize_text)\n",
    "\n",
    "df.head()"
   ]
  },
  {
   "cell_type": "markdown",
   "metadata": {},
   "source": [
    "Преобразование выполнено корректно."
   ]
  },
  {
   "cell_type": "markdown",
   "metadata": {},
   "source": [
    "### Разделение на выборки"
   ]
  },
  {
   "cell_type": "markdown",
   "metadata": {},
   "source": [
    "Выделим корпус из лемматизированных текстов:"
   ]
  },
  {
   "cell_type": "code",
   "execution_count": 14,
   "metadata": {},
   "outputs": [],
   "source": [
    "# Корпус как массив значений столбца датафрейма\n",
    "corpus = df['lemm_text'].values"
   ]
  },
  {
   "cell_type": "markdown",
   "metadata": {},
   "source": [
    "Выделим обучающие признаки и целевую переменную."
   ]
  },
  {
   "cell_type": "code",
   "execution_count": 15,
   "metadata": {},
   "outputs": [],
   "source": [
    "X = corpus\n",
    "y = df['toxic'].values"
   ]
  },
  {
   "cell_type": "markdown",
   "metadata": {},
   "source": [
    "Так как подбор гиперпараметров и расчёт F1-меры мы будем проводить с помощью кросс-валидации, разделим данные только на обучающую и тестовую выборки в соотношении 80:20. "
   ]
  },
  {
   "cell_type": "code",
   "execution_count": 16,
   "metadata": {},
   "outputs": [
    {
     "data": {
      "text/plain": [
       "((127433,), (127433,), (31859,), (31859,))"
      ]
     },
     "execution_count": 16,
     "metadata": {},
     "output_type": "execute_result"
    }
   ],
   "source": [
    "X_train, X_test, y_train, y_test = train_test_split(X, y,\n",
    "                                                    test_size=0.2,\n",
    "                                                    random_state=RANDOM_STATE)\n",
    "\n",
    "# Проверка\n",
    "X_train.shape, y_train.shape, X_test.shape, y_test.shape"
   ]
  },
  {
   "cell_type": "markdown",
   "metadata": {},
   "source": [
    "Рассчитаем TF-IDF и преобразуем выборки:"
   ]
  },
  {
   "cell_type": "code",
   "execution_count": 17,
   "metadata": {},
   "outputs": [],
   "source": [
    "# Список распространённых стоп-слов\n",
    "stopwords_en = list(stopwords.words('english'))\n",
    "\n",
    "# Матрица TF-IDF\n",
    "tf_idf = TfidfVectorizer(stop_words=stopwords_en)"
   ]
  },
  {
   "cell_type": "markdown",
   "metadata": {},
   "source": [
    "Для того, чтобы на кросс-валидации не было утечки данных, отделим невекторизованные признаки. Сам векторайзер поместим в пайплайн."
   ]
  },
  {
   "cell_type": "code",
   "execution_count": 18,
   "metadata": {},
   "outputs": [],
   "source": [
    "# Отделение невекторизованных признаков для пайплайна кросс-валидации\n",
    "X_train_cv = X_train\n",
    "y_train_cv = y_train"
   ]
  },
  {
   "cell_type": "markdown",
   "metadata": {},
   "source": [
    "Теперь векторизуем признаки для финального обучения и тестирования моделей."
   ]
  },
  {
   "cell_type": "code",
   "execution_count": 19,
   "metadata": {},
   "outputs": [],
   "source": [
    "# Преобразование признаков\n",
    "X_train = tf_idf.fit_transform(X_train)\n",
    "X_test = tf_idf.transform(X_test)"
   ]
  },
  {
   "cell_type": "markdown",
   "metadata": {},
   "source": [
    "### Итоги этапа\n",
    "* Данные успешно загружены и осмотрены.\n",
    "* Проведена очистка и лемматизация.\n",
    "* Подготовлены обучающие и тестовые выборки для обучения моделей."
   ]
  },
  {
   "cell_type": "markdown",
   "metadata": {},
   "source": [
    "## Обучение"
   ]
  },
  {
   "cell_type": "markdown",
   "metadata": {},
   "source": [
    "Проведём кросс-валидацию трёх моделей на невекторизованных признаках. Для каждой соберём пайплайн из векторайзера и мдели. Проверим, какая из трёх покажет лучшие результаты по F1-мере на кросс-валидации."
   ]
  },
  {
   "cell_type": "markdown",
   "metadata": {},
   "source": [
    "### Логистическая регрессия"
   ]
  },
  {
   "cell_type": "code",
   "execution_count": 20,
   "metadata": {},
   "outputs": [
    {
     "name": "stdout",
     "output_type": "stream",
     "text": [
      "Лучшие гиперпараметры: {'model__C': 10, 'model__class_weight': 'balanced', 'model__max_iter': 100, 'model__penalty': 'l2', 'model__random_state': 42}\n",
      "Значение F1: 0.7571065837616623\n"
     ]
    }
   ],
   "source": [
    "# Инициализация векторайзера\n",
    "vectorizer = TfidfVectorizer(stop_words=stopwords_en)\n",
    "\n",
    "# Инициализация модели\n",
    "model = LogisticRegression()\n",
    "\n",
    "# Сетка гиперпараметров\n",
    "param_grid = {\n",
    "    'model__C': [5, 10, 15],                   # Регуляризация\n",
    "    'model__penalty': ['l1', 'l2'],            # Lasso vs. Ridge\n",
    "    'model__max_iter': [100],                  # Число итераций для сходимости\n",
    "    'model__class_weight': ['balanced'],       # Балансировка классов\n",
    "    'model__random_state': [RANDOM_STATE]\n",
    "}\n",
    "\n",
    "# Пайплайн\n",
    "pipeline = Pipeline([\n",
    "    ('vectorizer', vectorizer),\n",
    "    ('model', model)\n",
    "])\n",
    "\n",
    "# Инициализация и обучение GridSearch\n",
    "gscv = GridSearchCV(pipeline,\n",
    "                    param_grid,\n",
    "                    scoring='f1',\n",
    "                    cv=CV_SPLITS)\n",
    "gscv.fit(X_train_cv, y_train_cv)\n",
    "\n",
    "# Вывод гиперпараметров и F1-меры\n",
    "print(f\"Лучшие гиперпараметры: {gscv.best_params_}\")\n",
    "print(f\"Значение F1: {gscv.best_score_}\")"
   ]
  },
  {
   "cell_type": "code",
   "execution_count": 21,
   "metadata": {},
   "outputs": [
    {
     "data": {
      "text/plain": [
       "LogisticRegression(C=10, class_weight='balanced', random_state=42)"
      ]
     },
     "execution_count": 21,
     "metadata": {},
     "output_type": "execute_result"
    }
   ],
   "source": [
    "# Очистка префиксов гиперпараметров\n",
    "best_params = {k.replace('model__', ''): v for k, v in gscv.best_params_.items()}\n",
    "\n",
    "# Инициализация и обучение модели с лучшими гиперпараметрами\n",
    "LR_model = LogisticRegression(**best_params)\n",
    "LR_model.fit(X_train, y_train)"
   ]
  },
  {
   "cell_type": "markdown",
   "metadata": {},
   "source": [
    "### Случайный лес"
   ]
  },
  {
   "cell_type": "code",
   "execution_count": 22,
   "metadata": {},
   "outputs": [
    {
     "name": "stdout",
     "output_type": "stream",
     "text": [
      "Лучшие гиперпараметры: {'model__class_weight': 'balanced', 'model__max_depth': 9, 'model__n_estimators': 100, 'model__random_state': 42}\n",
      "Значение F1: 0.3477101785243362\n"
     ]
    }
   ],
   "source": [
    "# Инициализация векторайзера\n",
    "vectorizer = TfidfVectorizer(stop_words=stopwords_en)\n",
    "\n",
    "# Инициализация модели\n",
    "model = RandomForestClassifier()\n",
    "\n",
    "# Сетка гиперпараметров\n",
    "param_grid = {'model__max_depth': (7, 9),             # Глубина деревьев\n",
    "              'model__n_estimators': (10, 100),       # Количество деревьев в ансамбле\n",
    "              'model__class_weight': ['balanced'],    # Балансировка классов\n",
    "              'model__random_state': [RANDOM_STATE]}\n",
    "\n",
    "# Пайплайн\n",
    "pipeline = Pipeline([\n",
    "    ('vectorizer', vectorizer),\n",
    "    ('model', model)\n",
    "])\n",
    "\n",
    "# Инициализация и обучение GridSearch\n",
    "gscv = GridSearchCV(pipeline,\n",
    "                    param_grid,\n",
    "                    scoring='f1',\n",
    "                    cv=CV_SPLITS)\n",
    "gscv.fit(X_train_cv, y_train_cv)\n",
    "\n",
    "# Вывод гиперпараметров и F1-меры\n",
    "print(f\"Лучшие гиперпараметры: {gscv.best_params_}\")\n",
    "print(f\"Значение F1: {gscv.best_score_}\")"
   ]
  },
  {
   "cell_type": "markdown",
   "metadata": {},
   "source": [
    "Даже с лучшими гиперпараметрами модель **Случайного Леса** не подходит из-за низкого значения F1-меры."
   ]
  },
  {
   "cell_type": "markdown",
   "metadata": {},
   "source": [
    "### LightGBM"
   ]
  },
  {
   "cell_type": "code",
   "execution_count": 23,
   "metadata": {},
   "outputs": [
    {
     "name": "stdout",
     "output_type": "stream",
     "text": [
      "Лучшие гиперпараметры: {'model__learning_rate': 0.1, 'model__n_estimators': 100, 'model__num_leaves': 31}\n",
      "Значение F1: 0.7433607816323358\n"
     ]
    }
   ],
   "source": [
    "# Инициализация векторайзера\n",
    "vectorizer = TfidfVectorizer(stop_words=stopwords_en)\n",
    "\n",
    "# Инициализация модели\n",
    "model = LGBMClassifier()\n",
    "\n",
    "param_grid = {\n",
    "    'model__num_leaves': [31],\n",
    "    'model__learning_rate': [0.05, 0.1],\n",
    "    'model__n_estimators': [100],\n",
    "}\n",
    "\n",
    "# Пайплайн\n",
    "pipeline = Pipeline([\n",
    "    ('vectorizer', vectorizer),\n",
    "    ('model', model)\n",
    "])\n",
    "\n",
    "# Инициализация и обучение GridSearch\n",
    "gscv = GridSearchCV(pipeline,\n",
    "                    param_grid,\n",
    "                    scoring='f1',\n",
    "                    cv=CV_SPLITS)\n",
    "gscv.fit(X_train_cv, y_train_cv)\n",
    "\n",
    "# Вывод гиперпараметров и F1-меры\n",
    "print(f\"Лучшие гиперпараметры: {gscv.best_params_}\")\n",
    "print(f\"Значение F1: {gscv.best_score_}\")"
   ]
  },
  {
   "cell_type": "markdown",
   "metadata": {},
   "source": [
    "Модель **LightGBM** смогла преодолеть порог по метрике F-1, но её значение ниже чем у **Логистической регрессии**."
   ]
  },
  {
   "cell_type": "markdown",
   "metadata": {},
   "source": [
    "### Итоги этапа "
   ]
  },
  {
   "cell_type": "markdown",
   "metadata": {},
   "source": [
    "* Модель **Случайного леса** не подходит по требованиям задачи из-за низкого значения F1-меры.\n",
    "* **Логистическая регрессия** и **LightGBM** показали значения F1-меры выше порогового."
   ]
  },
  {
   "cell_type": "markdown",
   "metadata": {},
   "source": [
    "## Тестирование"
   ]
  },
  {
   "cell_type": "markdown",
   "metadata": {},
   "source": [
    "### Логистическая регрессия"
   ]
  },
  {
   "cell_type": "code",
   "execution_count": 24,
   "metadata": {},
   "outputs": [
    {
     "name": "stdout",
     "output_type": "stream",
     "text": [
      "Значение F1: 0.7638728323699423\n"
     ]
    }
   ],
   "source": [
    "y_pred = LR_model.predict(X_test)\n",
    "print(f\"Значение F1: {f1_score(y_test, y_pred)}\")"
   ]
  },
  {
   "cell_type": "markdown",
   "metadata": {},
   "source": [
    "Модель **Логистической регрессии** показала значение F1-меры выше порогового, как на кросс-валидации, так и на тестовой выборке."
   ]
  },
  {
   "cell_type": "markdown",
   "metadata": {},
   "source": [
    "---"
   ]
  },
  {
   "cell_type": "markdown",
   "metadata": {},
   "source": [
    "## Выводы"
   ]
  },
  {
   "cell_type": "markdown",
   "metadata": {},
   "source": [
    "Задачей проекта заключалась в разработке и тестировании модели машинного обучения для классификации комментариев.\n",
    "\n",
    "С помощью `GridSearchCV` были подобраны оптимальные гиперпараметры для трёх моделей:\n",
    "* **Логистическая Регрессия**\n",
    "* **Слаучайный Лес**\n",
    "* **LightGBM**\n",
    "\n",
    "Лучшей оказалась модель **Логистической Регрессии**, которая показала на тестовой выборке значение метрики F1=0,763. Именно эту модель мы и рекомендуем к внедрению."
   ]
  },
  {
   "cell_type": "markdown",
   "metadata": {},
   "source": [
    "---"
   ]
  }
 ],
 "metadata": {
  "ExecuteTimeLog": [
   {
    "duration": 1990,
    "start_time": "2023-09-07T11:50:55.196Z"
   },
   {
    "duration": 113,
    "start_time": "2023-09-07T11:55:57.679Z"
   },
   {
    "duration": 5,
    "start_time": "2023-09-07T11:56:01.069Z"
   },
   {
    "duration": 2241,
    "start_time": "2023-09-07T11:56:02.044Z"
   },
   {
    "duration": 30,
    "start_time": "2023-09-07T11:56:31.468Z"
   },
   {
    "duration": 11,
    "start_time": "2023-09-07T11:57:08.790Z"
   },
   {
    "duration": 6,
    "start_time": "2023-09-07T11:57:34.616Z"
   },
   {
    "duration": 36,
    "start_time": "2023-09-07T11:59:18.043Z"
   },
   {
    "duration": 24,
    "start_time": "2023-09-07T11:59:23.361Z"
   },
   {
    "duration": 30,
    "start_time": "2023-09-07T11:59:36.738Z"
   },
   {
    "duration": 9,
    "start_time": "2023-09-07T12:00:10.022Z"
   },
   {
    "duration": 6,
    "start_time": "2023-09-07T12:00:20.495Z"
   },
   {
    "duration": 13,
    "start_time": "2023-09-07T12:00:58.591Z"
   },
   {
    "duration": 957,
    "start_time": "2023-09-07T12:01:15.664Z"
   },
   {
    "duration": 33,
    "start_time": "2023-09-07T12:01:16.715Z"
   },
   {
    "duration": 9,
    "start_time": "2023-09-07T12:01:17.470Z"
   },
   {
    "duration": 14,
    "start_time": "2023-09-07T12:01:21.374Z"
   },
   {
    "duration": 13,
    "start_time": "2023-09-07T12:01:42.108Z"
   },
   {
    "duration": 863,
    "start_time": "2023-09-07T12:01:45.383Z"
   },
   {
    "duration": 29,
    "start_time": "2023-09-07T12:01:46.248Z"
   },
   {
    "duration": 8,
    "start_time": "2023-09-07T12:01:46.278Z"
   },
   {
    "duration": 14,
    "start_time": "2023-09-07T12:01:47.598Z"
   },
   {
    "duration": 212,
    "start_time": "2023-09-07T12:03:06.321Z"
   },
   {
    "duration": 177,
    "start_time": "2023-09-07T12:03:19.269Z"
   },
   {
    "duration": 26,
    "start_time": "2023-09-07T12:03:39.874Z"
   },
   {
    "duration": 182,
    "start_time": "2023-09-07T12:03:57.982Z"
   },
   {
    "duration": 801,
    "start_time": "2023-09-07T12:04:07.009Z"
   },
   {
    "duration": 24,
    "start_time": "2023-09-07T12:04:07.811Z"
   },
   {
    "duration": 14,
    "start_time": "2023-09-07T12:04:07.836Z"
   },
   {
    "duration": 10,
    "start_time": "2023-09-07T12:04:08.770Z"
   },
   {
    "duration": 26,
    "start_time": "2023-09-07T12:04:09.369Z"
   },
   {
    "duration": 210,
    "start_time": "2023-09-07T12:04:09.784Z"
   },
   {
    "duration": 7,
    "start_time": "2023-09-07T12:06:17.369Z"
   },
   {
    "duration": 5,
    "start_time": "2023-09-07T12:08:20.192Z"
   },
   {
    "duration": 6,
    "start_time": "2023-09-07T12:08:29.936Z"
   },
   {
    "duration": 5,
    "start_time": "2023-09-07T12:08:41.257Z"
   },
   {
    "duration": 427,
    "start_time": "2023-09-07T12:09:49.854Z"
   },
   {
    "duration": 1554,
    "start_time": "2023-09-07T12:10:46.268Z"
   },
   {
    "duration": 2279,
    "start_time": "2023-09-07T12:10:47.824Z"
   },
   {
    "duration": 26,
    "start_time": "2023-09-07T12:10:50.104Z"
   },
   {
    "duration": 39,
    "start_time": "2023-09-07T12:10:50.132Z"
   },
   {
    "duration": 19,
    "start_time": "2023-09-07T12:10:50.173Z"
   },
   {
    "duration": 49,
    "start_time": "2023-09-07T12:10:50.193Z"
   },
   {
    "duration": 260,
    "start_time": "2023-09-07T12:10:50.243Z"
   },
   {
    "duration": 5,
    "start_time": "2023-09-07T12:10:50.505Z"
   },
   {
    "duration": 4397,
    "start_time": "2023-09-07T12:10:50.511Z"
   },
   {
    "duration": 4421,
    "start_time": "2023-09-07T12:11:23.353Z"
   },
   {
    "duration": 112,
    "start_time": "2023-09-07T12:12:29.494Z"
   },
   {
    "duration": 7,
    "start_time": "2023-09-07T12:12:47.903Z"
   },
   {
    "duration": 10,
    "start_time": "2023-09-07T12:17:36.373Z"
   },
   {
    "duration": 6,
    "start_time": "2023-09-07T12:20:56.505Z"
   },
   {
    "duration": 4,
    "start_time": "2023-09-07T12:32:35.926Z"
   },
   {
    "duration": 3,
    "start_time": "2023-09-07T12:34:57.080Z"
   },
   {
    "duration": 5,
    "start_time": "2023-09-07T12:34:59.168Z"
   },
   {
    "duration": 86639,
    "start_time": "2023-09-07T12:37:50.387Z"
   },
   {
    "duration": 3,
    "start_time": "2023-09-07T12:44:18.012Z"
   },
   {
    "duration": 3,
    "start_time": "2023-09-07T12:44:18.177Z"
   },
   {
    "duration": 85593,
    "start_time": "2023-09-07T12:44:19.237Z"
   },
   {
    "duration": 89,
    "start_time": "2023-09-07T12:47:09.608Z"
   },
   {
    "duration": 5,
    "start_time": "2023-09-07T12:48:00.090Z"
   },
   {
    "duration": 4,
    "start_time": "2023-09-07T12:50:09.199Z"
   },
   {
    "duration": 3,
    "start_time": "2023-09-07T12:50:50.891Z"
   },
   {
    "duration": 3,
    "start_time": "2023-09-07T12:58:18.258Z"
   },
   {
    "duration": 3,
    "start_time": "2023-09-07T12:58:49.809Z"
   },
   {
    "duration": 18,
    "start_time": "2023-09-07T12:59:39.872Z"
   },
   {
    "duration": 29,
    "start_time": "2023-09-07T13:00:56.426Z"
   },
   {
    "duration": 3,
    "start_time": "2023-09-07T13:01:47.340Z"
   },
   {
    "duration": 13,
    "start_time": "2023-09-07T13:08:05.087Z"
   },
   {
    "duration": 118,
    "start_time": "2023-09-07T13:08:12.989Z"
   },
   {
    "duration": 5,
    "start_time": "2023-09-07T13:09:18.658Z"
   },
   {
    "duration": 3,
    "start_time": "2023-09-07T13:09:55.529Z"
   },
   {
    "duration": 3,
    "start_time": "2023-09-07T13:10:42.222Z"
   },
   {
    "duration": 3,
    "start_time": "2023-09-07T13:10:45.359Z"
   },
   {
    "duration": 6,
    "start_time": "2023-09-07T13:11:26.140Z"
   },
   {
    "duration": 5,
    "start_time": "2023-09-07T13:11:40.927Z"
   },
   {
    "duration": 6015,
    "start_time": "2023-09-07T13:15:55.597Z"
   },
   {
    "duration": 18,
    "start_time": "2023-09-07T13:18:01.082Z"
   },
   {
    "duration": 3,
    "start_time": "2023-09-07T13:18:08.698Z"
   },
   {
    "duration": 3,
    "start_time": "2023-09-07T13:18:09.472Z"
   },
   {
    "duration": 20,
    "start_time": "2023-09-07T13:18:10.197Z"
   },
   {
    "duration": 6534,
    "start_time": "2023-09-07T13:18:11.303Z"
   },
   {
    "duration": 1999,
    "start_time": "2023-09-10T09:20:45.598Z"
   },
   {
    "duration": 2574,
    "start_time": "2023-09-10T09:20:50.837Z"
   },
   {
    "duration": 34,
    "start_time": "2023-09-10T09:20:53.413Z"
   },
   {
    "duration": 13,
    "start_time": "2023-09-10T09:20:53.449Z"
   },
   {
    "duration": 12,
    "start_time": "2023-09-10T09:20:57.980Z"
   },
   {
    "duration": 28,
    "start_time": "2023-09-10T09:20:57.995Z"
   },
   {
    "duration": 238,
    "start_time": "2023-09-10T09:20:58.835Z"
   },
   {
    "duration": 131,
    "start_time": "2023-09-10T09:21:01.564Z"
   },
   {
    "duration": 9,
    "start_time": "2023-09-10T09:21:02.759Z"
   },
   {
    "duration": 3,
    "start_time": "2023-09-10T09:21:19.279Z"
   },
   {
    "duration": 3,
    "start_time": "2023-09-10T09:21:19.800Z"
   },
   {
    "duration": 93239,
    "start_time": "2023-09-10T09:21:21.936Z"
   },
   {
    "duration": 3,
    "start_time": "2023-09-10T09:23:14.287Z"
   },
   {
    "duration": 3,
    "start_time": "2023-09-10T09:23:17.840Z"
   },
   {
    "duration": 22,
    "start_time": "2023-09-10T09:23:28.669Z"
   },
   {
    "duration": 7418,
    "start_time": "2023-09-10T09:23:49.596Z"
   },
   {
    "duration": 227548,
    "start_time": "2023-09-10T09:45:26.609Z"
   },
   {
    "duration": 14,
    "start_time": "2023-09-10T09:49:40.198Z"
   },
   {
    "duration": 13,
    "start_time": "2023-09-10T09:50:13.966Z"
   },
   {
    "duration": 16,
    "start_time": "2023-09-10T09:50:21.416Z"
   },
   {
    "duration": 15,
    "start_time": "2023-09-10T09:50:37.416Z"
   },
   {
    "duration": 142675,
    "start_time": "2023-09-10T09:50:51.572Z"
   },
   {
    "duration": 3,
    "start_time": "2023-09-10T09:53:46.880Z"
   },
   {
    "duration": 3,
    "start_time": "2023-09-10T09:53:47.692Z"
   },
   {
    "duration": 25,
    "start_time": "2023-09-10T09:53:48.647Z"
   },
   {
    "duration": 7870,
    "start_time": "2023-09-10T09:53:50.031Z"
   },
   {
    "duration": 13,
    "start_time": "2023-09-10T09:54:06.043Z"
   },
   {
    "duration": 5,
    "start_time": "2023-09-10T09:54:09.446Z"
   },
   {
    "duration": 13,
    "start_time": "2023-09-10T09:54:23.514Z"
   },
   {
    "duration": 195493,
    "start_time": "2023-09-10T09:54:38.141Z"
   },
   {
    "duration": 164643,
    "start_time": "2023-09-10T09:58:20.687Z"
   },
   {
    "duration": 18691,
    "start_time": "2023-09-10T10:01:08.743Z"
   },
   {
    "duration": 4,
    "start_time": "2023-09-10T10:01:38.722Z"
   },
   {
    "duration": 43374,
    "start_time": "2023-09-10T10:03:31.546Z"
   },
   {
    "duration": 45532,
    "start_time": "2023-09-10T10:04:24.297Z"
   },
   {
    "duration": 4,
    "start_time": "2023-09-10T10:05:31.941Z"
   },
   {
    "duration": 415055,
    "start_time": "2023-09-10T10:08:01.664Z"
   },
   {
    "duration": 50250,
    "start_time": "2023-09-10T10:17:14.660Z"
   },
   {
    "duration": 1913,
    "start_time": "2023-09-10T17:38:18.135Z"
   },
   {
    "duration": 2363,
    "start_time": "2023-09-10T17:38:24.447Z"
   },
   {
    "duration": 38,
    "start_time": "2023-09-10T17:38:26.812Z"
   },
   {
    "duration": 28,
    "start_time": "2023-09-10T17:39:18.046Z"
   },
   {
    "duration": 15,
    "start_time": "2023-09-10T17:39:37.225Z"
   },
   {
    "duration": 25,
    "start_time": "2023-09-10T17:39:38.258Z"
   },
   {
    "duration": 227,
    "start_time": "2023-09-10T17:39:38.651Z"
   },
   {
    "duration": 120,
    "start_time": "2023-09-10T17:39:41.973Z"
   },
   {
    "duration": 8,
    "start_time": "2023-09-10T17:39:52.032Z"
   },
   {
    "duration": 3,
    "start_time": "2023-09-10T17:39:59.807Z"
   },
   {
    "duration": 3,
    "start_time": "2023-09-10T17:40:01.869Z"
   },
   {
    "duration": 87139,
    "start_time": "2023-09-10T17:40:21.735Z"
   },
   {
    "duration": 135,
    "start_time": "2023-09-10T17:41:48.876Z"
   },
   {
    "duration": 3,
    "start_time": "2023-09-10T17:44:13.177Z"
   },
   {
    "duration": 2,
    "start_time": "2023-09-10T17:44:13.702Z"
   },
   {
    "duration": 24,
    "start_time": "2023-09-10T17:44:14.621Z"
   },
   {
    "duration": 7110,
    "start_time": "2023-09-10T17:45:18.651Z"
   },
   {
    "duration": 1192834,
    "start_time": "2023-09-10T17:51:01.661Z"
   },
   {
    "duration": 102445,
    "start_time": "2023-09-10T18:18:01.038Z"
   },
   {
    "duration": 12,
    "start_time": "2023-09-10T18:25:51.324Z"
   },
   {
    "duration": 754369,
    "start_time": "2023-09-10T18:25:59.056Z"
   },
   {
    "duration": 86,
    "start_time": "2023-09-10T18:39:38.829Z"
   },
   {
    "duration": 11,
    "start_time": "2023-09-10T18:39:46.099Z"
   },
   {
    "duration": 12,
    "start_time": "2023-09-10T18:40:02.474Z"
   },
   {
    "duration": 5,
    "start_time": "2023-09-10T18:40:11.386Z"
   },
   {
    "duration": 17,
    "start_time": "2023-09-10T18:40:18.164Z"
   },
   {
    "duration": 641432,
    "start_time": "2023-09-10T18:40:31.642Z"
   },
   {
    "duration": 1038608,
    "start_time": "2023-09-10T18:51:43.919Z"
   },
   {
    "duration": 51,
    "start_time": "2023-09-10T19:10:44.967Z"
   },
   {
    "duration": 1810,
    "start_time": "2023-09-10T19:11:14.927Z"
   },
   {
    "duration": 2495,
    "start_time": "2023-09-10T19:11:16.739Z"
   },
   {
    "duration": 32,
    "start_time": "2023-09-10T19:11:19.236Z"
   },
   {
    "duration": 13,
    "start_time": "2023-09-10T19:11:19.271Z"
   },
   {
    "duration": 19,
    "start_time": "2023-09-10T19:11:19.286Z"
   },
   {
    "duration": 52,
    "start_time": "2023-09-10T19:11:19.306Z"
   },
   {
    "duration": 260,
    "start_time": "2023-09-10T19:11:19.360Z"
   },
   {
    "duration": 130,
    "start_time": "2023-09-10T19:11:19.622Z"
   },
   {
    "duration": 8,
    "start_time": "2023-09-10T19:11:23.567Z"
   },
   {
    "duration": 3,
    "start_time": "2023-09-10T19:11:25.757Z"
   },
   {
    "duration": 5,
    "start_time": "2023-09-10T19:11:26.797Z"
   },
   {
    "duration": 49066,
    "start_time": "2023-09-10T19:11:27.367Z"
   },
   {
    "duration": 5,
    "start_time": "2023-09-10T19:13:12.551Z"
   },
   {
    "duration": 1733,
    "start_time": "2023-09-10T19:13:22.226Z"
   },
   {
    "duration": 908,
    "start_time": "2023-09-10T19:13:23.961Z"
   },
   {
    "duration": 41,
    "start_time": "2023-09-10T19:13:24.870Z"
   },
   {
    "duration": 11,
    "start_time": "2023-09-10T19:13:24.913Z"
   },
   {
    "duration": 11,
    "start_time": "2023-09-10T19:13:24.925Z"
   },
   {
    "duration": 50,
    "start_time": "2023-09-10T19:13:24.937Z"
   },
   {
    "duration": 234,
    "start_time": "2023-09-10T19:13:24.988Z"
   },
   {
    "duration": 125,
    "start_time": "2023-09-10T19:13:25.224Z"
   },
   {
    "duration": 7,
    "start_time": "2023-09-10T19:13:25.351Z"
   },
   {
    "duration": 18,
    "start_time": "2023-09-10T19:13:25.360Z"
   },
   {
    "duration": 29,
    "start_time": "2023-09-10T19:13:25.381Z"
   },
   {
    "duration": 89675,
    "start_time": "2023-09-10T19:13:25.411Z"
   },
   {
    "duration": 3,
    "start_time": "2023-09-10T19:14:55.087Z"
   },
   {
    "duration": 47,
    "start_time": "2023-09-10T19:14:55.092Z"
   },
   {
    "duration": 35,
    "start_time": "2023-09-10T19:14:55.141Z"
   },
   {
    "duration": 7140,
    "start_time": "2023-09-10T19:14:55.178Z"
   },
   {
    "duration": 1081967,
    "start_time": "2023-09-10T19:15:02.320Z"
   },
   {
    "duration": 102900,
    "start_time": "2023-09-10T19:33:04.290Z"
   },
   {
    "duration": 158999,
    "start_time": "2023-09-10T19:34:47.281Z"
   },
   {
    "duration": 52,
    "start_time": "2023-09-10T19:38:12.748Z"
   },
   {
    "duration": 1761,
    "start_time": "2023-09-10T19:38:24.289Z"
   },
   {
    "duration": 94,
    "start_time": "2023-09-10T19:38:34.128Z"
   },
   {
    "duration": 2331,
    "start_time": "2023-09-10T19:38:47.929Z"
   },
   {
    "duration": 34,
    "start_time": "2023-09-10T19:38:50.262Z"
   },
   {
    "duration": 11,
    "start_time": "2023-09-10T19:38:50.298Z"
   },
   {
    "duration": 11,
    "start_time": "2023-09-10T19:38:50.449Z"
   },
   {
    "duration": 27,
    "start_time": "2023-09-10T19:38:51.598Z"
   },
   {
    "duration": 230,
    "start_time": "2023-09-10T19:38:52.477Z"
   },
   {
    "duration": 133,
    "start_time": "2023-09-10T19:38:54.049Z"
   },
   {
    "duration": 9,
    "start_time": "2023-09-10T19:38:55.105Z"
   },
   {
    "duration": 3,
    "start_time": "2023-09-10T19:38:57.215Z"
   },
   {
    "duration": 3,
    "start_time": "2023-09-10T19:38:57.719Z"
   },
   {
    "duration": 90295,
    "start_time": "2023-09-10T19:38:58.932Z"
   },
   {
    "duration": 2,
    "start_time": "2023-09-10T19:40:32.399Z"
   },
   {
    "duration": 2,
    "start_time": "2023-09-10T19:40:33.510Z"
   },
   {
    "duration": 21,
    "start_time": "2023-09-10T19:40:34.233Z"
   },
   {
    "duration": 7132,
    "start_time": "2023-09-10T19:40:36.033Z"
   },
   {
    "duration": 55,
    "start_time": "2023-09-10T19:42:00.378Z"
   },
   {
    "duration": 1771,
    "start_time": "2023-09-10T19:42:07.988Z"
   },
   {
    "duration": 2373,
    "start_time": "2023-09-10T19:42:09.760Z"
   },
   {
    "duration": 35,
    "start_time": "2023-09-10T19:42:12.135Z"
   },
   {
    "duration": 12,
    "start_time": "2023-09-10T19:42:12.690Z"
   },
   {
    "duration": 13,
    "start_time": "2023-09-10T19:42:13.213Z"
   },
   {
    "duration": 28,
    "start_time": "2023-09-10T19:42:13.747Z"
   },
   {
    "duration": 246,
    "start_time": "2023-09-10T19:42:13.777Z"
   },
   {
    "duration": 123,
    "start_time": "2023-09-10T19:42:14.424Z"
   },
   {
    "duration": 8,
    "start_time": "2023-09-10T19:42:15.445Z"
   },
   {
    "duration": 4,
    "start_time": "2023-09-10T19:42:16.912Z"
   },
   {
    "duration": 4,
    "start_time": "2023-09-10T19:42:17.415Z"
   },
   {
    "duration": 88514,
    "start_time": "2023-09-10T19:42:19.084Z"
   },
   {
    "duration": 3,
    "start_time": "2023-09-10T19:43:53.833Z"
   },
   {
    "duration": 3,
    "start_time": "2023-09-10T19:43:54.347Z"
   },
   {
    "duration": 25,
    "start_time": "2023-09-10T19:43:55.182Z"
   },
   {
    "duration": 7370,
    "start_time": "2023-09-10T19:43:56.266Z"
   },
   {
    "duration": 52,
    "start_time": "2023-09-10T19:44:54.420Z"
   },
   {
    "duration": 8,
    "start_time": "2023-09-10T19:46:01.347Z"
   },
   {
    "duration": 7,
    "start_time": "2023-09-10T19:46:24.413Z"
   },
   {
    "duration": 1784,
    "start_time": "2023-09-10T19:46:35.204Z"
   },
   {
    "duration": 2339,
    "start_time": "2023-09-10T19:46:36.990Z"
   },
   {
    "duration": 34,
    "start_time": "2023-09-10T19:46:42.110Z"
   },
   {
    "duration": 11,
    "start_time": "2023-09-10T19:46:42.766Z"
   },
   {
    "duration": 11,
    "start_time": "2023-09-10T19:46:43.157Z"
   },
   {
    "duration": 29,
    "start_time": "2023-09-10T19:46:43.462Z"
   },
   {
    "duration": 225,
    "start_time": "2023-09-10T19:46:43.814Z"
   },
   {
    "duration": 120,
    "start_time": "2023-09-10T19:46:44.862Z"
   },
   {
    "duration": 9,
    "start_time": "2023-09-10T19:46:45.911Z"
   },
   {
    "duration": 3,
    "start_time": "2023-09-10T19:46:47.200Z"
   },
   {
    "duration": 4,
    "start_time": "2023-09-10T19:46:47.615Z"
   },
   {
    "duration": 88885,
    "start_time": "2023-09-10T19:46:48.432Z"
   },
   {
    "duration": 3,
    "start_time": "2023-09-10T19:48:23.647Z"
   },
   {
    "duration": 2,
    "start_time": "2023-09-10T19:48:24.347Z"
   },
   {
    "duration": 21,
    "start_time": "2023-09-10T19:48:25.421Z"
   },
   {
    "duration": 7045,
    "start_time": "2023-09-10T19:48:28.062Z"
   },
   {
    "duration": 53,
    "start_time": "2023-09-10T19:49:23.576Z"
   },
   {
    "duration": 1775,
    "start_time": "2023-09-10T19:50:03.914Z"
   },
   {
    "duration": 2332,
    "start_time": "2023-09-10T19:50:05.692Z"
   },
   {
    "duration": 33,
    "start_time": "2023-09-10T19:50:11.254Z"
   },
   {
    "duration": 14,
    "start_time": "2023-09-10T19:50:11.290Z"
   },
   {
    "duration": 11,
    "start_time": "2023-09-10T19:50:11.648Z"
   },
   {
    "duration": 28,
    "start_time": "2023-09-10T19:50:12.310Z"
   },
   {
    "duration": 223,
    "start_time": "2023-09-10T19:50:12.447Z"
   },
   {
    "duration": 115,
    "start_time": "2023-09-10T19:50:13.576Z"
   },
   {
    "duration": 9,
    "start_time": "2023-09-10T19:50:14.794Z"
   },
   {
    "duration": 4,
    "start_time": "2023-09-10T19:50:16.898Z"
   },
   {
    "duration": 3,
    "start_time": "2023-09-10T19:50:17.547Z"
   },
   {
    "duration": 82940,
    "start_time": "2023-09-10T19:50:18.266Z"
   },
   {
    "duration": 3,
    "start_time": "2023-09-10T19:52:46.572Z"
   },
   {
    "duration": 4,
    "start_time": "2023-09-10T19:52:47.446Z"
   },
   {
    "duration": 21,
    "start_time": "2023-09-10T19:52:48.146Z"
   },
   {
    "duration": 6338,
    "start_time": "2023-09-10T19:52:49.604Z"
   },
   {
    "duration": 1962,
    "start_time": "2023-09-11T08:54:40.212Z"
   },
   {
    "duration": 2354,
    "start_time": "2023-09-11T08:54:42.176Z"
   },
   {
    "duration": 32,
    "start_time": "2023-09-11T08:54:44.532Z"
   },
   {
    "duration": 13,
    "start_time": "2023-09-11T08:54:44.566Z"
   },
   {
    "duration": 11,
    "start_time": "2023-09-11T08:54:44.580Z"
   },
   {
    "duration": 33,
    "start_time": "2023-09-11T08:54:44.593Z"
   },
   {
    "duration": 232,
    "start_time": "2023-09-11T08:54:44.627Z"
   },
   {
    "duration": 128,
    "start_time": "2023-09-11T08:54:44.861Z"
   },
   {
    "duration": 7,
    "start_time": "2023-09-11T08:54:44.990Z"
   },
   {
    "duration": 3,
    "start_time": "2023-09-11T08:54:44.999Z"
   },
   {
    "duration": 4,
    "start_time": "2023-09-11T08:54:45.004Z"
   },
   {
    "duration": 87586,
    "start_time": "2023-09-11T08:54:45.010Z"
   },
   {
    "duration": 3,
    "start_time": "2023-09-11T08:56:12.597Z"
   },
   {
    "duration": 43,
    "start_time": "2023-09-11T08:56:12.602Z"
   },
   {
    "duration": 90,
    "start_time": "2023-09-11T08:56:12.647Z"
   },
   {
    "duration": 6831,
    "start_time": "2023-09-11T08:56:12.739Z"
   },
   {
    "duration": 1788,
    "start_time": "2023-09-11T09:13:08.210Z"
   },
   {
    "duration": 908,
    "start_time": "2023-09-11T09:13:10.001Z"
   },
   {
    "duration": 35,
    "start_time": "2023-09-11T09:13:10.910Z"
   },
   {
    "duration": 20,
    "start_time": "2023-09-11T09:13:10.947Z"
   },
   {
    "duration": 22,
    "start_time": "2023-09-11T09:13:10.969Z"
   },
   {
    "duration": 31,
    "start_time": "2023-09-11T09:13:10.993Z"
   },
   {
    "duration": 260,
    "start_time": "2023-09-11T09:13:11.026Z"
   },
   {
    "duration": 140,
    "start_time": "2023-09-11T09:13:11.287Z"
   },
   {
    "duration": 8,
    "start_time": "2023-09-11T09:13:11.429Z"
   },
   {
    "duration": 19,
    "start_time": "2023-09-11T09:13:11.440Z"
   },
   {
    "duration": 13,
    "start_time": "2023-09-11T09:13:11.461Z"
   },
   {
    "duration": 89475,
    "start_time": "2023-09-11T09:13:11.476Z"
   },
   {
    "duration": 3,
    "start_time": "2023-09-11T09:14:40.953Z"
   },
   {
    "duration": 12,
    "start_time": "2023-09-11T09:14:40.957Z"
   },
   {
    "duration": 39,
    "start_time": "2023-09-11T09:14:40.971Z"
   },
   {
    "duration": 7165,
    "start_time": "2023-09-11T09:14:41.012Z"
   },
   {
    "duration": 1176005,
    "start_time": "2023-09-11T09:14:48.178Z"
   },
   {
    "duration": 115198,
    "start_time": "2023-09-11T09:34:24.185Z"
   },
   {
    "duration": 158925,
    "start_time": "2023-09-11T09:36:19.385Z"
   },
   {
    "duration": 52,
    "start_time": "2023-09-11T09:41:55.885Z"
   },
   {
    "duration": 4,
    "start_time": "2023-09-11T09:42:02.182Z"
   },
   {
    "duration": 7,
    "start_time": "2023-09-11T09:42:08.643Z"
   },
   {
    "duration": 3,
    "start_time": "2023-09-11T09:46:51.643Z"
   },
   {
    "duration": 1754,
    "start_time": "2023-09-11T09:50:33.364Z"
   },
   {
    "duration": 2322,
    "start_time": "2023-09-11T09:50:38.867Z"
   },
   {
    "duration": 32,
    "start_time": "2023-09-11T09:50:41.191Z"
   },
   {
    "duration": 12,
    "start_time": "2023-09-11T09:50:41.225Z"
   },
   {
    "duration": 9,
    "start_time": "2023-09-11T09:50:41.239Z"
   },
   {
    "duration": 35,
    "start_time": "2023-09-11T09:50:41.250Z"
   },
   {
    "duration": 225,
    "start_time": "2023-09-11T09:50:41.412Z"
   },
   {
    "duration": 127,
    "start_time": "2023-09-11T09:50:42.670Z"
   },
   {
    "duration": 9,
    "start_time": "2023-09-11T09:50:43.554Z"
   },
   {
    "duration": 3,
    "start_time": "2023-09-11T09:50:45.421Z"
   },
   {
    "duration": 5,
    "start_time": "2023-09-11T09:50:45.966Z"
   },
   {
    "duration": 88167,
    "start_time": "2023-09-11T09:50:47.715Z"
   },
   {
    "duration": 4,
    "start_time": "2023-09-11T09:57:11.988Z"
   },
   {
    "duration": 3,
    "start_time": "2023-09-11T09:57:12.878Z"
   },
   {
    "duration": 23,
    "start_time": "2023-09-11T09:57:13.656Z"
   },
   {
    "duration": 8248,
    "start_time": "2023-09-11T09:57:15.201Z"
   },
   {
    "duration": 8,
    "start_time": "2023-09-11T10:05:07.690Z"
   },
   {
    "duration": 3,
    "start_time": "2023-09-11T10:05:57.954Z"
   },
   {
    "duration": 1908,
    "start_time": "2023-09-11T10:05:58.040Z"
   },
   {
    "duration": 117,
    "start_time": "2023-09-11T10:09:03.719Z"
   },
   {
    "duration": 11,
    "start_time": "2023-09-11T10:09:29.036Z"
   },
   {
    "duration": 12,
    "start_time": "2023-09-11T10:10:16.020Z"
   },
   {
    "duration": 61499,
    "start_time": "2023-09-11T10:10:26.155Z"
   },
   {
    "duration": 2890075,
    "start_time": "2023-09-11T10:11:34.131Z"
   },
   {
    "duration": 0,
    "start_time": "2023-09-11T10:59:44.208Z"
   },
   {
    "duration": 1995,
    "start_time": "2023-12-01T14:57:15.702Z"
   },
   {
    "duration": 1189,
    "start_time": "2023-12-01T14:57:17.881Z"
   },
   {
    "duration": 100,
    "start_time": "2023-12-01T14:57:24.496Z"
   },
   {
    "duration": 151,
    "start_time": "2023-12-01T14:57:25.061Z"
   },
   {
    "duration": 12,
    "start_time": "2023-12-01T14:57:25.580Z"
   },
   {
    "duration": 2347,
    "start_time": "2023-12-01T14:57:34.016Z"
   },
   {
    "duration": 3,
    "start_time": "2023-12-01T14:57:44.659Z"
   },
   {
    "duration": 1804,
    "start_time": "2023-12-01T14:57:50.372Z"
   },
   {
    "duration": 2,
    "start_time": "2023-12-01T14:57:52.178Z"
   },
   {
    "duration": 960,
    "start_time": "2023-12-01T14:57:52.183Z"
   },
   {
    "duration": 31,
    "start_time": "2023-12-01T14:57:53.145Z"
   },
   {
    "duration": 11,
    "start_time": "2023-12-01T14:57:53.177Z"
   },
   {
    "duration": 31,
    "start_time": "2023-12-01T14:57:53.189Z"
   },
   {
    "duration": 31,
    "start_time": "2023-12-01T14:57:53.222Z"
   },
   {
    "duration": 244,
    "start_time": "2023-12-01T14:57:53.255Z"
   },
   {
    "duration": 131,
    "start_time": "2023-12-01T14:57:53.501Z"
   },
   {
    "duration": 8,
    "start_time": "2023-12-01T14:57:53.635Z"
   },
   {
    "duration": 61,
    "start_time": "2023-12-01T14:57:53.644Z"
   },
   {
    "duration": 13,
    "start_time": "2023-12-01T14:57:53.706Z"
   },
   {
    "duration": 561961,
    "start_time": "2023-12-01T14:57:53.720Z"
   },
   {
    "duration": 3,
    "start_time": "2023-12-01T15:07:15.683Z"
   },
   {
    "duration": 54,
    "start_time": "2023-12-01T15:07:15.687Z"
   },
   {
    "duration": 42,
    "start_time": "2023-12-01T15:07:15.743Z"
   },
   {
    "duration": 11,
    "start_time": "2023-12-01T15:07:15.787Z"
   },
   {
    "duration": 27,
    "start_time": "2023-12-01T15:07:15.800Z"
   },
   {
    "duration": 7433,
    "start_time": "2023-12-01T15:07:15.829Z"
   },
   {
    "duration": 498844,
    "start_time": "2023-12-01T15:07:23.264Z"
   },
   {
    "duration": 46398,
    "start_time": "2023-12-01T15:15:42.110Z"
   },
   {
    "duration": 95322,
    "start_time": "2023-12-01T15:16:28.511Z"
   },
   {
    "duration": 196933,
    "start_time": "2023-12-01T15:18:03.835Z"
   },
   {
    "duration": 0,
    "start_time": "2023-12-01T15:21:20.770Z"
   },
   {
    "duration": 1778,
    "start_time": "2023-12-01T15:21:23.910Z"
   },
   {
    "duration": 3,
    "start_time": "2023-12-01T15:21:25.690Z"
   },
   {
    "duration": 937,
    "start_time": "2023-12-01T15:21:25.694Z"
   },
   {
    "duration": 35,
    "start_time": "2023-12-01T15:21:26.633Z"
   },
   {
    "duration": 12,
    "start_time": "2023-12-01T15:21:26.669Z"
   },
   {
    "duration": 28,
    "start_time": "2023-12-01T15:21:26.682Z"
   },
   {
    "duration": 32,
    "start_time": "2023-12-01T15:21:26.712Z"
   },
   {
    "duration": 240,
    "start_time": "2023-12-01T15:21:26.746Z"
   },
   {
    "duration": 128,
    "start_time": "2023-12-01T15:21:26.988Z"
   },
   {
    "duration": 7,
    "start_time": "2023-12-01T15:21:27.119Z"
   },
   {
    "duration": 19,
    "start_time": "2023-12-01T15:21:27.127Z"
   },
   {
    "duration": 46,
    "start_time": "2023-12-01T15:21:27.147Z"
   },
   {
    "duration": 548716,
    "start_time": "2023-12-01T15:21:27.194Z"
   },
   {
    "duration": 3,
    "start_time": "2023-12-01T15:30:35.911Z"
   },
   {
    "duration": 15,
    "start_time": "2023-12-01T15:30:35.916Z"
   },
   {
    "duration": 34,
    "start_time": "2023-12-01T15:30:35.933Z"
   },
   {
    "duration": 5,
    "start_time": "2023-12-01T15:30:35.968Z"
   },
   {
    "duration": 16,
    "start_time": "2023-12-01T15:30:35.974Z"
   },
   {
    "duration": 7152,
    "start_time": "2023-12-01T15:30:35.992Z"
   },
   {
    "duration": 506262,
    "start_time": "2023-12-01T15:30:43.146Z"
   },
   {
    "duration": 48208,
    "start_time": "2023-12-01T15:39:09.410Z"
   },
   {
    "duration": 99211,
    "start_time": "2023-12-01T15:39:57.619Z"
   },
   {
    "duration": 5578699,
    "start_time": "2023-12-01T15:41:36.832Z"
   },
   {
    "duration": 17,
    "start_time": "2023-12-01T17:14:35.533Z"
   }
  ],
  "kernelspec": {
   "display_name": "Python 3 (ipykernel)",
   "language": "python",
   "name": "python3"
  },
  "language_info": {
   "codemirror_mode": {
    "name": "ipython",
    "version": 3
   },
   "file_extension": ".py",
   "mimetype": "text/x-python",
   "name": "python",
   "nbconvert_exporter": "python",
   "pygments_lexer": "ipython3",
   "version": "3.9.5"
  },
  "toc": {
   "base_numbering": 1,
   "nav_menu": {},
   "number_sections": true,
   "sideBar": true,
   "skip_h1_title": true,
   "title_cell": "Содержание",
   "title_sidebar": "Contents",
   "toc_cell": true,
   "toc_position": {
    "height": "calc(100% - 180px)",
    "left": "10px",
    "top": "150px",
    "width": "218px"
   },
   "toc_section_display": true,
   "toc_window_display": false
  }
 },
 "nbformat": 4,
 "nbformat_minor": 2
}
