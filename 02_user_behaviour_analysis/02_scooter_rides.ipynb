{
 "cells": [
  {
   "cell_type": "markdown",
   "id": "0e794fef",
   "metadata": {},
   "source": [
    "\n",
    "# Проект «Статистический анализ данных»"
   ]
  },
  {
   "cell_type": "markdown",
   "id": "a3aba74a",
   "metadata": {},
   "source": [
    "## Задача\n",
    "Вы аналитик популярного сервиса аренды самокатов GoFast. Вам передали данные о некоторых пользователях из нескольких городов, а также об их поездках.\n",
    "\n",
    "Проанализируйте данные и проверьте некоторые гипотезы, которые могут помочь бизнесу вырасти."
   ]
  },
  {
   "cell_type": "code",
   "execution_count": 1,
   "id": "72576667",
   "metadata": {},
   "outputs": [],
   "source": [
    "import pandas as pd\n",
    "import numpy as np\n",
    "\n",
    "from math import factorial\n",
    "from math import sqrt\n",
    "\n",
    "from scipy import stats as st\n",
    "from scipy.stats import binom\n",
    "\n",
    "import seaborn as sns\n",
    "import matplotlib.pyplot as plt"
   ]
  },
  {
   "cell_type": "markdown",
   "id": "c42cbe00",
   "metadata": {},
   "source": [
    "## Загрузка данных"
   ]
  },
  {
   "cell_type": "code",
   "execution_count": 2,
   "id": "9ae5b51f",
   "metadata": {},
   "outputs": [],
   "source": [
    "users = pd.read_csv('datasets/users_go.csv')\n",
    "rides = pd.read_csv('datasets/rides_go.csv')\n",
    "subs = pd.read_csv('datasets/subscriptions_go.csv')"
   ]
  },
  {
   "cell_type": "markdown",
   "id": "495a46ab",
   "metadata": {},
   "source": [
    "Изучим каждый датафрейм в отдельности, чтобы понять, как в них размещены данные.  \n",
    "### Пользователи"
   ]
  },
  {
   "cell_type": "code",
   "execution_count": 3,
   "id": "09f26725",
   "metadata": {},
   "outputs": [
    {
     "name": "stdout",
     "output_type": "stream",
     "text": [
      "<class 'pandas.core.frame.DataFrame'>\n",
      "RangeIndex: 1565 entries, 0 to 1564\n",
      "Data columns (total 5 columns):\n",
      " #   Column             Non-Null Count  Dtype \n",
      "---  ------             --------------  ----- \n",
      " 0   user_id            1565 non-null   int64 \n",
      " 1   name               1565 non-null   object\n",
      " 2   age                1565 non-null   int64 \n",
      " 3   city               1565 non-null   object\n",
      " 4   subscription_type  1565 non-null   object\n",
      "dtypes: int64(2), object(3)\n",
      "memory usage: 61.3+ KB\n"
     ]
    },
    {
     "data": {
      "text/html": [
       "<div>\n",
       "<style scoped>\n",
       "    .dataframe tbody tr th:only-of-type {\n",
       "        vertical-align: middle;\n",
       "    }\n",
       "\n",
       "    .dataframe tbody tr th {\n",
       "        vertical-align: top;\n",
       "    }\n",
       "\n",
       "    .dataframe thead th {\n",
       "        text-align: right;\n",
       "    }\n",
       "</style>\n",
       "<table border=\"1\" class=\"dataframe\">\n",
       "  <thead>\n",
       "    <tr style=\"text-align: right;\">\n",
       "      <th></th>\n",
       "      <th>user_id</th>\n",
       "      <th>name</th>\n",
       "      <th>age</th>\n",
       "      <th>city</th>\n",
       "      <th>subscription_type</th>\n",
       "    </tr>\n",
       "  </thead>\n",
       "  <tbody>\n",
       "    <tr>\n",
       "      <th>0</th>\n",
       "      <td>1</td>\n",
       "      <td>Кира</td>\n",
       "      <td>22</td>\n",
       "      <td>Тюмень</td>\n",
       "      <td>ultra</td>\n",
       "    </tr>\n",
       "    <tr>\n",
       "      <th>1</th>\n",
       "      <td>2</td>\n",
       "      <td>Станислав</td>\n",
       "      <td>31</td>\n",
       "      <td>Омск</td>\n",
       "      <td>ultra</td>\n",
       "    </tr>\n",
       "    <tr>\n",
       "      <th>2</th>\n",
       "      <td>3</td>\n",
       "      <td>Алексей</td>\n",
       "      <td>20</td>\n",
       "      <td>Москва</td>\n",
       "      <td>ultra</td>\n",
       "    </tr>\n",
       "    <tr>\n",
       "      <th>3</th>\n",
       "      <td>4</td>\n",
       "      <td>Константин</td>\n",
       "      <td>26</td>\n",
       "      <td>Ростов-на-Дону</td>\n",
       "      <td>ultra</td>\n",
       "    </tr>\n",
       "    <tr>\n",
       "      <th>4</th>\n",
       "      <td>5</td>\n",
       "      <td>Адель</td>\n",
       "      <td>28</td>\n",
       "      <td>Омск</td>\n",
       "      <td>ultra</td>\n",
       "    </tr>\n",
       "  </tbody>\n",
       "</table>\n",
       "</div>"
      ],
      "text/plain": [
       "   user_id        name  age            city subscription_type\n",
       "0        1        Кира   22          Тюмень             ultra\n",
       "1        2   Станислав   31            Омск             ultra\n",
       "2        3     Алексей   20          Москва             ultra\n",
       "3        4  Константин   26  Ростов-на-Дону             ultra\n",
       "4        5       Адель   28            Омск             ultra"
      ]
     },
     "execution_count": 3,
     "metadata": {},
     "output_type": "execute_result"
    }
   ],
   "source": [
    "users.info()\n",
    "users.head()"
   ]
  },
  {
   "cell_type": "markdown",
   "id": "b798a526",
   "metadata": {},
   "source": [
    "В таблице пользователей 1565 наблюдений, 5 столбцов:\n",
    "1. `user_id`— id пользователя (целое число, отличающееся от индекса в таблице на +1)\n",
    "2. `name` — имя пользователя (кириллицей с заглавной буквы)\n",
    "3. `age` — возраст (целое число)\n",
    "4. `city` — город (кириллицей с заглавной буквы)\n",
    "5. `subscription_type` – тип подписки **ultra** или **free**"
   ]
  },
  {
   "cell_type": "markdown",
   "id": "1ffd7356",
   "metadata": {},
   "source": [
    "### Поездки"
   ]
  },
  {
   "cell_type": "code",
   "execution_count": 4,
   "id": "1600a4d8",
   "metadata": {},
   "outputs": [
    {
     "name": "stdout",
     "output_type": "stream",
     "text": [
      "<class 'pandas.core.frame.DataFrame'>\n",
      "RangeIndex: 18068 entries, 0 to 18067\n",
      "Data columns (total 4 columns):\n",
      " #   Column    Non-Null Count  Dtype  \n",
      "---  ------    --------------  -----  \n",
      " 0   user_id   18068 non-null  int64  \n",
      " 1   distance  18068 non-null  float64\n",
      " 2   duration  18068 non-null  float64\n",
      " 3   date      18068 non-null  object \n",
      "dtypes: float64(2), int64(1), object(1)\n",
      "memory usage: 564.8+ KB\n"
     ]
    },
    {
     "data": {
      "text/html": [
       "<div>\n",
       "<style scoped>\n",
       "    .dataframe tbody tr th:only-of-type {\n",
       "        vertical-align: middle;\n",
       "    }\n",
       "\n",
       "    .dataframe tbody tr th {\n",
       "        vertical-align: top;\n",
       "    }\n",
       "\n",
       "    .dataframe thead th {\n",
       "        text-align: right;\n",
       "    }\n",
       "</style>\n",
       "<table border=\"1\" class=\"dataframe\">\n",
       "  <thead>\n",
       "    <tr style=\"text-align: right;\">\n",
       "      <th></th>\n",
       "      <th>user_id</th>\n",
       "      <th>distance</th>\n",
       "      <th>duration</th>\n",
       "      <th>date</th>\n",
       "    </tr>\n",
       "  </thead>\n",
       "  <tbody>\n",
       "    <tr>\n",
       "      <th>0</th>\n",
       "      <td>1</td>\n",
       "      <td>4409.919140</td>\n",
       "      <td>25.599769</td>\n",
       "      <td>2021-01-01</td>\n",
       "    </tr>\n",
       "    <tr>\n",
       "      <th>1</th>\n",
       "      <td>1</td>\n",
       "      <td>2617.592153</td>\n",
       "      <td>15.816871</td>\n",
       "      <td>2021-01-18</td>\n",
       "    </tr>\n",
       "    <tr>\n",
       "      <th>2</th>\n",
       "      <td>1</td>\n",
       "      <td>754.159807</td>\n",
       "      <td>6.232113</td>\n",
       "      <td>2021-04-20</td>\n",
       "    </tr>\n",
       "    <tr>\n",
       "      <th>3</th>\n",
       "      <td>1</td>\n",
       "      <td>2694.783254</td>\n",
       "      <td>18.511000</td>\n",
       "      <td>2021-08-11</td>\n",
       "    </tr>\n",
       "    <tr>\n",
       "      <th>4</th>\n",
       "      <td>1</td>\n",
       "      <td>4028.687306</td>\n",
       "      <td>26.265803</td>\n",
       "      <td>2021-08-28</td>\n",
       "    </tr>\n",
       "  </tbody>\n",
       "</table>\n",
       "</div>"
      ],
      "text/plain": [
       "   user_id     distance   duration        date\n",
       "0        1  4409.919140  25.599769  2021-01-01\n",
       "1        1  2617.592153  15.816871  2021-01-18\n",
       "2        1   754.159807   6.232113  2021-04-20\n",
       "3        1  2694.783254  18.511000  2021-08-11\n",
       "4        1  4028.687306  26.265803  2021-08-28"
      ]
     },
     "execution_count": 4,
     "metadata": {},
     "output_type": "execute_result"
    }
   ],
   "source": [
    "rides.info()\n",
    "rides.head()"
   ]
  },
  {
   "cell_type": "markdown",
   "id": "2b982b00",
   "metadata": {},
   "source": [
    "В таблице поездок 18068 наблюдений, 4 столбца:\n",
    "1. `user_id` — id пользователя (соответствует id из таблицы users)\n",
    "2. `distance`— расстояние, которое пользователь проехал в наблюдаемой сессии (в метрах)\n",
    "3. `duration` — продолжительность сессии (в минутах)\n",
    "4. `date` — дата совершения поездки"
   ]
  },
  {
   "cell_type": "markdown",
   "id": "7b63ca5f",
   "metadata": {},
   "source": [
    "### Подписки"
   ]
  },
  {
   "cell_type": "code",
   "execution_count": 5,
   "id": "9803da0e",
   "metadata": {},
   "outputs": [
    {
     "name": "stdout",
     "output_type": "stream",
     "text": [
      "<class 'pandas.core.frame.DataFrame'>\n",
      "RangeIndex: 2 entries, 0 to 1\n",
      "Data columns (total 4 columns):\n",
      " #   Column             Non-Null Count  Dtype \n",
      "---  ------             --------------  ----- \n",
      " 0   subscription_type  2 non-null      object\n",
      " 1   minute_price       2 non-null      int64 \n",
      " 2   start_ride_price   2 non-null      int64 \n",
      " 3   subscription_fee   2 non-null      int64 \n",
      "dtypes: int64(3), object(1)\n",
      "memory usage: 196.0+ bytes\n"
     ]
    },
    {
     "data": {
      "text/html": [
       "<div>\n",
       "<style scoped>\n",
       "    .dataframe tbody tr th:only-of-type {\n",
       "        vertical-align: middle;\n",
       "    }\n",
       "\n",
       "    .dataframe tbody tr th {\n",
       "        vertical-align: top;\n",
       "    }\n",
       "\n",
       "    .dataframe thead th {\n",
       "        text-align: right;\n",
       "    }\n",
       "</style>\n",
       "<table border=\"1\" class=\"dataframe\">\n",
       "  <thead>\n",
       "    <tr style=\"text-align: right;\">\n",
       "      <th></th>\n",
       "      <th>subscription_type</th>\n",
       "      <th>minute_price</th>\n",
       "      <th>start_ride_price</th>\n",
       "      <th>subscription_fee</th>\n",
       "    </tr>\n",
       "  </thead>\n",
       "  <tbody>\n",
       "    <tr>\n",
       "      <th>0</th>\n",
       "      <td>free</td>\n",
       "      <td>8</td>\n",
       "      <td>50</td>\n",
       "      <td>0</td>\n",
       "    </tr>\n",
       "    <tr>\n",
       "      <th>1</th>\n",
       "      <td>ultra</td>\n",
       "      <td>6</td>\n",
       "      <td>0</td>\n",
       "      <td>199</td>\n",
       "    </tr>\n",
       "  </tbody>\n",
       "</table>\n",
       "</div>"
      ],
      "text/plain": [
       "  subscription_type  minute_price  start_ride_price  subscription_fee\n",
       "0              free             8                50                 0\n",
       "1             ultra             6                 0               199"
      ]
     },
     "execution_count": 5,
     "metadata": {},
     "output_type": "execute_result"
    }
   ],
   "source": [
    "subs.info()\n",
    "subs.head()"
   ]
  },
  {
   "cell_type": "markdown",
   "id": "d836575e",
   "metadata": {},
   "source": [
    "В таблице две строки, описывающие типы подписки, и 4 столбца:\n",
    "1. `subscription_type` — тип подписки **free** или **ultra**\n",
    "2. `minute_price` —\tстоимость одной минуты поездки по данной подписке\n",
    "3. `start_ride_price` —\tстоимость начала поездки\n",
    "4. `subscription_fee` —\tстоимость ежемесячного платежа"
   ]
  },
  {
   "cell_type": "markdown",
   "id": "bb17f78e",
   "metadata": {},
   "source": [
    "### Первые наблюдения\n",
    "* В датасетах отстутствуют пропуски, что сократит время на предобработку\n",
    "* Тип данных не приведён в соответствие только в одном столбце `date`"
   ]
  },
  {
   "cell_type": "markdown",
   "id": "e95ebca7",
   "metadata": {},
   "source": [
    "## Предобработка данных"
   ]
  },
  {
   "cell_type": "markdown",
   "id": "c0b96402",
   "metadata": {},
   "source": [
    "### Приведение типов\n",
    "Столбец `date` таблицы `rides` необходимо привести к типу `datetime64`:"
   ]
  },
  {
   "cell_type": "code",
   "execution_count": 6,
   "id": "ab2fb1e9",
   "metadata": {},
   "outputs": [
    {
     "name": "stdout",
     "output_type": "stream",
     "text": [
      "<class 'pandas.core.frame.DataFrame'>\n",
      "RangeIndex: 18068 entries, 0 to 18067\n",
      "Data columns (total 4 columns):\n",
      " #   Column    Non-Null Count  Dtype         \n",
      "---  ------    --------------  -----         \n",
      " 0   user_id   18068 non-null  int64         \n",
      " 1   distance  18068 non-null  float64       \n",
      " 2   duration  18068 non-null  float64       \n",
      " 3   date      18068 non-null  datetime64[ns]\n",
      "dtypes: datetime64[ns](1), float64(2), int64(1)\n",
      "memory usage: 564.8 KB\n"
     ]
    },
    {
     "data": {
      "text/html": [
       "<div>\n",
       "<style scoped>\n",
       "    .dataframe tbody tr th:only-of-type {\n",
       "        vertical-align: middle;\n",
       "    }\n",
       "\n",
       "    .dataframe tbody tr th {\n",
       "        vertical-align: top;\n",
       "    }\n",
       "\n",
       "    .dataframe thead th {\n",
       "        text-align: right;\n",
       "    }\n",
       "</style>\n",
       "<table border=\"1\" class=\"dataframe\">\n",
       "  <thead>\n",
       "    <tr style=\"text-align: right;\">\n",
       "      <th></th>\n",
       "      <th>user_id</th>\n",
       "      <th>distance</th>\n",
       "      <th>duration</th>\n",
       "      <th>date</th>\n",
       "    </tr>\n",
       "  </thead>\n",
       "  <tbody>\n",
       "    <tr>\n",
       "      <th>0</th>\n",
       "      <td>1</td>\n",
       "      <td>4409.91914</td>\n",
       "      <td>25.599769</td>\n",
       "      <td>2021-01-01</td>\n",
       "    </tr>\n",
       "  </tbody>\n",
       "</table>\n",
       "</div>"
      ],
      "text/plain": [
       "   user_id    distance   duration       date\n",
       "0        1  4409.91914  25.599769 2021-01-01"
      ]
     },
     "execution_count": 6,
     "metadata": {},
     "output_type": "execute_result"
    }
   ],
   "source": [
    "rides['date'] = pd.to_datetime(rides['date'], format='%Y-%m-%d')\n",
    "\n",
    "rides.info()\n",
    "rides.head(1)"
   ]
  },
  {
   "cell_type": "markdown",
   "id": "33cf8a87",
   "metadata": {},
   "source": [
    "Зачения в столбце `date` внешне не изменились, но тип данных стал `datetime64`, значит преобразование проведено верно."
   ]
  },
  {
   "cell_type": "markdown",
   "id": "39036923",
   "metadata": {},
   "source": [
    "### Добавление дополнительных столбцов\n",
    "Создадим новый столбец с номером месяца на основе столбца `date`:"
   ]
  },
  {
   "cell_type": "code",
   "execution_count": 7,
   "id": "67c240f2",
   "metadata": {},
   "outputs": [
    {
     "data": {
      "text/html": [
       "<div>\n",
       "<style scoped>\n",
       "    .dataframe tbody tr th:only-of-type {\n",
       "        vertical-align: middle;\n",
       "    }\n",
       "\n",
       "    .dataframe tbody tr th {\n",
       "        vertical-align: top;\n",
       "    }\n",
       "\n",
       "    .dataframe thead th {\n",
       "        text-align: right;\n",
       "    }\n",
       "</style>\n",
       "<table border=\"1\" class=\"dataframe\">\n",
       "  <thead>\n",
       "    <tr style=\"text-align: right;\">\n",
       "      <th></th>\n",
       "      <th>user_id</th>\n",
       "      <th>distance</th>\n",
       "      <th>duration</th>\n",
       "      <th>date</th>\n",
       "      <th>month</th>\n",
       "    </tr>\n",
       "  </thead>\n",
       "  <tbody>\n",
       "    <tr>\n",
       "      <th>18066</th>\n",
       "      <td>1534</td>\n",
       "      <td>2902.308661</td>\n",
       "      <td>16.674362</td>\n",
       "      <td>2021-11-27</td>\n",
       "      <td>11</td>\n",
       "    </tr>\n",
       "    <tr>\n",
       "      <th>18067</th>\n",
       "      <td>1534</td>\n",
       "      <td>2371.711192</td>\n",
       "      <td>15.893917</td>\n",
       "      <td>2021-12-29</td>\n",
       "      <td>12</td>\n",
       "    </tr>\n",
       "  </tbody>\n",
       "</table>\n",
       "</div>"
      ],
      "text/plain": [
       "       user_id     distance   duration       date  month\n",
       "18066     1534  2902.308661  16.674362 2021-11-27     11\n",
       "18067     1534  2371.711192  15.893917 2021-12-29     12"
      ]
     },
     "execution_count": 7,
     "metadata": {},
     "output_type": "execute_result"
    }
   ],
   "source": [
    "rides['month'] = rides['date'].dt.month\n",
    "rides.tail(2)"
   ]
  },
  {
   "cell_type": "markdown",
   "id": "7d7f841d",
   "metadata": {},
   "source": [
    "Столбец в таблице появлися, номер месяца выбирается верно."
   ]
  },
  {
   "cell_type": "markdown",
   "id": "62f02943",
   "metadata": {},
   "source": [
    "Создадим столбец `year`на основе столбца `date`"
   ]
  },
  {
   "cell_type": "code",
   "execution_count": 8,
   "id": "9644e5ee",
   "metadata": {},
   "outputs": [
    {
     "data": {
      "text/html": [
       "<div>\n",
       "<style scoped>\n",
       "    .dataframe tbody tr th:only-of-type {\n",
       "        vertical-align: middle;\n",
       "    }\n",
       "\n",
       "    .dataframe tbody tr th {\n",
       "        vertical-align: top;\n",
       "    }\n",
       "\n",
       "    .dataframe thead th {\n",
       "        text-align: right;\n",
       "    }\n",
       "</style>\n",
       "<table border=\"1\" class=\"dataframe\">\n",
       "  <thead>\n",
       "    <tr style=\"text-align: right;\">\n",
       "      <th></th>\n",
       "      <th>user_id</th>\n",
       "      <th>distance</th>\n",
       "      <th>duration</th>\n",
       "      <th>date</th>\n",
       "      <th>month</th>\n",
       "      <th>year</th>\n",
       "    </tr>\n",
       "  </thead>\n",
       "  <tbody>\n",
       "    <tr>\n",
       "      <th>18066</th>\n",
       "      <td>1534</td>\n",
       "      <td>2902.308661</td>\n",
       "      <td>16.674362</td>\n",
       "      <td>2021-11-27</td>\n",
       "      <td>11</td>\n",
       "      <td>2021</td>\n",
       "    </tr>\n",
       "    <tr>\n",
       "      <th>18067</th>\n",
       "      <td>1534</td>\n",
       "      <td>2371.711192</td>\n",
       "      <td>15.893917</td>\n",
       "      <td>2021-12-29</td>\n",
       "      <td>12</td>\n",
       "      <td>2021</td>\n",
       "    </tr>\n",
       "  </tbody>\n",
       "</table>\n",
       "</div>"
      ],
      "text/plain": [
       "       user_id     distance   duration       date  month  year\n",
       "18066     1534  2902.308661  16.674362 2021-11-27     11  2021\n",
       "18067     1534  2371.711192  15.893917 2021-12-29     12  2021"
      ]
     },
     "execution_count": 8,
     "metadata": {},
     "output_type": "execute_result"
    }
   ],
   "source": [
    "rides['year'] = rides['date'].dt.year\n",
    "rides.tail(2)"
   ]
  },
  {
   "cell_type": "markdown",
   "id": "2541eea3",
   "metadata": {},
   "source": [
    "Проверим данные за какие годы есть в датасете:"
   ]
  },
  {
   "cell_type": "code",
   "execution_count": 9,
   "id": "81e205df",
   "metadata": {},
   "outputs": [
    {
     "data": {
      "text/plain": [
       "array([2021], dtype=int32)"
      ]
     },
     "execution_count": 9,
     "metadata": {},
     "output_type": "execute_result"
    }
   ],
   "source": [
    "rides['year'].unique()"
   ]
  },
  {
   "cell_type": "markdown",
   "id": "1c1dae38",
   "metadata": {},
   "source": [
    "### Обработка пропусков\n",
    "Ещё раз провеврим таблицы `users` и `rides` на наличие пропусков:"
   ]
  },
  {
   "cell_type": "code",
   "execution_count": 10,
   "id": "6b325128",
   "metadata": {},
   "outputs": [
    {
     "data": {
      "text/plain": [
       "user_id              0\n",
       "name                 0\n",
       "age                  0\n",
       "city                 0\n",
       "subscription_type    0\n",
       "dtype: int64"
      ]
     },
     "execution_count": 10,
     "metadata": {},
     "output_type": "execute_result"
    }
   ],
   "source": [
    "users.isna().sum()"
   ]
  },
  {
   "cell_type": "code",
   "execution_count": 11,
   "id": "495e0b76",
   "metadata": {},
   "outputs": [
    {
     "data": {
      "text/plain": [
       "user_id     0\n",
       "distance    0\n",
       "duration    0\n",
       "date        0\n",
       "month       0\n",
       "year        0\n",
       "dtype: int64"
      ]
     },
     "execution_count": 11,
     "metadata": {},
     "output_type": "execute_result"
    }
   ],
   "source": [
    "rides.isna().sum()"
   ]
  },
  {
   "cell_type": "markdown",
   "id": "9fbf5521",
   "metadata": {},
   "source": [
    "Пропуски в данных отсутствуют."
   ]
  },
  {
   "cell_type": "markdown",
   "id": "d67c1ab0",
   "metadata": {},
   "source": [
    "### Обработка дубликатов\n",
    "Проверим, есть ли в таблицах `users` и `rides` дубликаты: "
   ]
  },
  {
   "cell_type": "code",
   "execution_count": 12,
   "id": "76a71d74",
   "metadata": {},
   "outputs": [
    {
     "data": {
      "text/plain": [
       "31"
      ]
     },
     "execution_count": 12,
     "metadata": {},
     "output_type": "execute_result"
    }
   ],
   "source": [
    "users.duplicated().sum()"
   ]
  },
  {
   "cell_type": "code",
   "execution_count": 13,
   "id": "b735d59e",
   "metadata": {},
   "outputs": [
    {
     "data": {
      "text/plain": [
       "0"
      ]
     },
     "execution_count": 13,
     "metadata": {},
     "output_type": "execute_result"
    }
   ],
   "source": [
    "rides.duplicated().sum()"
   ]
  },
  {
   "cell_type": "markdown",
   "id": "f8787e02",
   "metadata": {},
   "source": [
    "\n",
    "Дубликаты нашлись только в таблице `users`, посмотрим на них повнимательнее:"
   ]
  },
  {
   "cell_type": "code",
   "execution_count": 14,
   "id": "cd556471",
   "metadata": {},
   "outputs": [
    {
     "data": {
      "text/html": [
       "<div>\n",
       "<style scoped>\n",
       "    .dataframe tbody tr th:only-of-type {\n",
       "        vertical-align: middle;\n",
       "    }\n",
       "\n",
       "    .dataframe tbody tr th {\n",
       "        vertical-align: top;\n",
       "    }\n",
       "\n",
       "    .dataframe thead th {\n",
       "        text-align: right;\n",
       "    }\n",
       "</style>\n",
       "<table border=\"1\" class=\"dataframe\">\n",
       "  <thead>\n",
       "    <tr style=\"text-align: right;\">\n",
       "      <th></th>\n",
       "      <th>user_id</th>\n",
       "      <th>name</th>\n",
       "      <th>age</th>\n",
       "      <th>city</th>\n",
       "      <th>subscription_type</th>\n",
       "    </tr>\n",
       "  </thead>\n",
       "  <tbody>\n",
       "    <tr>\n",
       "      <th>1560</th>\n",
       "      <td>829</td>\n",
       "      <td>Федор</td>\n",
       "      <td>29</td>\n",
       "      <td>Пятигорск</td>\n",
       "      <td>free</td>\n",
       "    </tr>\n",
       "    <tr>\n",
       "      <th>1561</th>\n",
       "      <td>809</td>\n",
       "      <td>Юрий</td>\n",
       "      <td>26</td>\n",
       "      <td>Сочи</td>\n",
       "      <td>free</td>\n",
       "    </tr>\n",
       "    <tr>\n",
       "      <th>1562</th>\n",
       "      <td>307</td>\n",
       "      <td>Ясмина</td>\n",
       "      <td>19</td>\n",
       "      <td>Краснодар</td>\n",
       "      <td>ultra</td>\n",
       "    </tr>\n",
       "    <tr>\n",
       "      <th>1563</th>\n",
       "      <td>47</td>\n",
       "      <td>Юрий</td>\n",
       "      <td>28</td>\n",
       "      <td>Тюмень</td>\n",
       "      <td>ultra</td>\n",
       "    </tr>\n",
       "    <tr>\n",
       "      <th>1564</th>\n",
       "      <td>1045</td>\n",
       "      <td>Артемий</td>\n",
       "      <td>28</td>\n",
       "      <td>Ростов-на-Дону</td>\n",
       "      <td>free</td>\n",
       "    </tr>\n",
       "  </tbody>\n",
       "</table>\n",
       "</div>"
      ],
      "text/plain": [
       "      user_id     name  age            city subscription_type\n",
       "1560      829    Федор   29       Пятигорск              free\n",
       "1561      809     Юрий   26            Сочи              free\n",
       "1562      307   Ясмина   19       Краснодар             ultra\n",
       "1563       47     Юрий   28          Тюмень             ultra\n",
       "1564     1045  Артемий   28  Ростов-на-Дону              free"
      ]
     },
     "execution_count": 14,
     "metadata": {},
     "output_type": "execute_result"
    }
   ],
   "source": [
    "users[users.duplicated()].tail()"
   ]
  },
  {
   "cell_type": "markdown",
   "id": "a041ea82",
   "metadata": {},
   "source": [
    "`user_id` и индексы значительно отличаются, следовательно, это точно дубликаты и мы можем смело с ними попрощаться:"
   ]
  },
  {
   "cell_type": "code",
   "execution_count": 15,
   "id": "265bf75a",
   "metadata": {},
   "outputs": [
    {
     "data": {
      "text/plain": [
       "0"
      ]
     },
     "execution_count": 15,
     "metadata": {},
     "output_type": "execute_result"
    }
   ],
   "source": [
    "users.drop_duplicates(inplace=True)\n",
    "users.duplicated().sum()"
   ]
  },
  {
   "cell_type": "markdown",
   "id": "845e7c36",
   "metadata": {},
   "source": [
    "### Результаты предобработки\n",
    "Пропуско в данных не обнаружено, дубликаты отброшены."
   ]
  },
  {
   "cell_type": "markdown",
   "id": "212593c7",
   "metadata": {},
   "source": [
    "## Шаг 3. Исследовательский анализ данных"
   ]
  },
  {
   "cell_type": "markdown",
   "id": "4517550c",
   "metadata": {},
   "source": [
    "### Частота встречаемости городов"
   ]
  },
  {
   "cell_type": "markdown",
   "id": "bf8f301a",
   "metadata": {},
   "source": [
    "Сгруппируем города с помощью сводной таблицы и посчитаем количество пользователей в каждом городе:"
   ]
  },
  {
   "cell_type": "code",
   "execution_count": 16,
   "id": "35439489",
   "metadata": {},
   "outputs": [],
   "source": [
    "cities_count = users.pivot_table(index='city',\n",
    "                                 values='user_id',\n",
    "                                 aggfunc='count')\n",
    "\n",
    "cities_count = cities_count.sort_values('user_id', ascending=False)"
   ]
  },
  {
   "cell_type": "markdown",
   "id": "4e075e69",
   "metadata": {},
   "source": [
    "Визуализируем полученные данные:"
   ]
  },
  {
   "cell_type": "code",
   "execution_count": 17,
   "id": "70411084",
   "metadata": {},
   "outputs": [
    {
     "data": {
      "image/png": "[encoded data removed]",
      "text/plain": [
       "<Figure size 1600x900 with 1 Axes>"
      ]
     },
     "metadata": {},
     "output_type": "display_data"
    }
   ],
   "source": [
    "chart = cities_count.plot(kind='bar',\n",
    "\n",
    "                          title='Распределение пользователей GoFast по городам',\n",
    "                          xlabel='Город',\n",
    "                          ylabel='Численность (чел)',\n",
    "                          legend='',\n",
    "                          \n",
    "                          color='turquoise',\n",
    "                          figsize=(16, 9), \n",
    "                          grid = True,\n",
    "                          alpha = 0.9\n",
    "                         )\n",
    "\n",
    "plt.show()"
   ]
  },
  {
   "cell_type": "markdown",
   "id": "903969f3",
   "metadata": {},
   "source": [
    "**Наблюдения**\n",
    "* Сервис  GoFast представлен в 8-ми городах\n",
    "* Больше всего пользователей в Пятигорске\n",
    "* Меньше всего — в Москве"
   ]
  },
  {
   "cell_type": "markdown",
   "id": "300d4706",
   "metadata": {},
   "source": [
    "### Соотношение пользователей с подпиской и без подписки"
   ]
  },
  {
   "cell_type": "markdown",
   "id": "08c4bfb8",
   "metadata": {},
   "source": [
    "Сгруппируем пользователей по типу подписки:"
   ]
  },
  {
   "cell_type": "code",
   "execution_count": 18,
   "id": "c195d2a3",
   "metadata": {},
   "outputs": [
    {
     "data": {
      "image/png": "[encoded data removed]",
      "text/plain": [
       "<Figure size 500x500 with 1 Axes>"
      ]
     },
     "metadata": {},
     "output_type": "display_data"
    }
   ],
   "source": [
    "users_by_sub = users.groupby('subscription_type')['user_id'].count()\n",
    "users_by_sub.plot(kind='pie',\n",
    "                  title='Соотношение пользователей с подпиской и без неё',\n",
    "                  ylabel='',\n",
    "                  figsize=(5, 5))\n",
    "plt.show()"
   ]
  },
  {
   "cell_type": "markdown",
   "id": "1db952af",
   "metadata": {},
   "source": [
    "Подсчитаем соотношение и округлим его до 2-х знаков после запятой:"
   ]
  },
  {
   "cell_type": "code",
   "execution_count": 19,
   "id": "4fcbdce4",
   "metadata": {},
   "outputs": [
    {
     "data": {
      "text/plain": [
       "1.19"
      ]
     },
     "execution_count": 19,
     "metadata": {},
     "output_type": "execute_result"
    }
   ],
   "source": [
    "subscription_ratio = users_by_sub.loc['free'] / users_by_sub.loc['ultra']\n",
    "round(subscription_ratio, 2)"
   ]
  },
  {
   "cell_type": "markdown",
   "id": "0f4075aa",
   "metadata": {},
   "source": [
    "**Наблюдения**\n",
    "* Количество пользователей с подпиской free на 19% выше, чем количество пользователей ultra"
   ]
  },
  {
   "cell_type": "markdown",
   "id": "f52b0b1e",
   "metadata": {},
   "source": [
    "### Возраст пользователей\n",
    "Посмотрим на распределение и гистограмму:"
   ]
  },
  {
   "cell_type": "code",
   "execution_count": 20,
   "id": "de397351",
   "metadata": {},
   "outputs": [
    {
     "data": {
      "text/plain": [
       "count    1534.000000\n",
       "mean       24.903520\n",
       "std         4.572367\n",
       "min        12.000000\n",
       "25%        22.000000\n",
       "50%        25.000000\n",
       "75%        28.000000\n",
       "max        43.000000\n",
       "Name: age, dtype: float64"
      ]
     },
     "execution_count": 20,
     "metadata": {},
     "output_type": "execute_result"
    },
    {
     "data": {
      "image/png": "[encoded data removed]",
      "text/plain": [
       "<Figure size 1600x900 with 1 Axes>"
      ]
     },
     "metadata": {},
     "output_type": "display_data"
    }
   ],
   "source": [
    "users.plot(kind='hist',\n",
    "           title = 'Распределение возраста пользователей GoFast',\n",
    "           \n",
    "           y='age',\n",
    "           bins=30,\n",
    "           \n",
    "           figsize=(16, 9),\n",
    "           legend=False)\n",
    "\n",
    "plt.xlabel('Возраст')\n",
    "plt.ylabel('Количество пользователей')\n",
    "\n",
    "users['age'].describe()"
   ]
  },
  {
   "cell_type": "markdown",
   "id": "d7677fdb",
   "metadata": {},
   "source": [
    "**Наблюдения**\n",
    "* График максимально похож на нормальное распределение\n",
    "* Самым молодым пользователям 12 лет\n",
    "* Самым взрослым — 43 года\n",
    "* Больше всего пользователей в возрасте 25 лет"
   ]
  },
  {
   "cell_type": "markdown",
   "id": "a74d6a7d",
   "metadata": {},
   "source": [
    "### Расстояние, которое пользователь преодолел за одну поездку\n",
    "Проверим, нет ли выбросов и нулевых значений в данных:"
   ]
  },
  {
   "cell_type": "code",
   "execution_count": 21,
   "id": "03ea3cb2",
   "metadata": {},
   "outputs": [
    {
     "data": {
      "text/plain": [
       "count    18068.000000\n",
       "mean      3070.659976\n",
       "std       1116.831209\n",
       "min          0.855683\n",
       "25%       2543.226360\n",
       "50%       3133.609994\n",
       "75%       3776.222735\n",
       "max       7211.007745\n",
       "Name: distance, dtype: float64"
      ]
     },
     "execution_count": 21,
     "metadata": {},
     "output_type": "execute_result"
    },
    {
     "data": {
      "image/png": "[encoded data removed]",
      "text/plain": [
       "<Figure size 1500x500 with 1 Axes>"
      ]
     },
     "metadata": {},
     "output_type": "display_data"
    }
   ],
   "source": [
    "rides['distance'].plot.box(vert=False, figsize =(15,5))\n",
    "rides['distance'].describe()"
   ]
  },
  {
   "cell_type": "markdown",
   "id": "658f9361",
   "metadata": {},
   "source": [
    "Нулевые значения отсутствуют. \n",
    "Чтобы понять, что делать с выбросами, для начала вычислим значения верхнего и нижнего «усов» диаграммы размаха:"
   ]
  },
  {
   "cell_type": "code",
   "execution_count": 22,
   "id": "3369e6a3",
   "metadata": {},
   "outputs": [
    {
     "name": "stdout",
     "output_type": "stream",
     "text": [
      "Нижний: 693 \n",
      "Верхний: 5625\n"
     ]
    }
   ],
   "source": [
    "lower_whisker = rides['distance'].quantile(0.25) - 1.5 * st.iqr(rides['distance'])\n",
    "upper_whisker = rides['distance'].quantile(0.75) + 1.5 * st.iqr(rides['distance'])\n",
    "\n",
    "print('Нижний:', int(lower_whisker), '\\nВерхний:', int(upper_whisker))"
   ]
  },
  {
   "cell_type": "markdown",
   "id": "2c36903b",
   "metadata": {},
   "source": [
    "Теперь проверим, насколько реальны поездки, кототрые на диаграмме отображаются как выбросы. \n",
    "* **Короткие поездки**  \n",
    "\n",
    "Построим диаграмму рассеивания:"
   ]
  },
  {
   "cell_type": "code",
   "execution_count": 23,
   "id": "b707dc11",
   "metadata": {},
   "outputs": [
    {
     "data": {
      "image/png": "[encoded data removed]",
      "text/plain": [
       "<Figure size 1000x500 with 1 Axes>"
      ]
     },
     "metadata": {},
     "output_type": "display_data"
    }
   ],
   "source": [
    "rides.loc[rides['distance'] < lower_whisker].plot(kind='scatter',\n",
    "                                                  x='distance',\n",
    "                                                  y='duration',\n",
    "                                                  \n",
    "                                                  title='Диаграмма рассеивания',\n",
    "                                                  xlabel='Расстояние',\n",
    "                                                  ylabel='Продолжительность',\n",
    "                                                  figsize=(10, 5))\n",
    "plt.show()"
   ]
  },
  {
   "cell_type": "markdown",
   "id": "1600c160",
   "metadata": {},
   "source": [
    "Несмотря на то, что диаграмма получилась хаотичной, все поездки в ней реальные и тоже являются частью статистики.\n",
    "* Продолжительные поездки с близким к нулю перемещением могут быть объяснены, например, неисправностью GPS на самокате или какими-то другими факторами. Но в любом случае, они учтены и принесли выручку, следовательно, выбросами не являются."
   ]
  },
  {
   "cell_type": "markdown",
   "id": "ec31b847",
   "metadata": {},
   "source": [
    "---"
   ]
  },
  {
   "cell_type": "markdown",
   "id": "bf7cd028",
   "metadata": {},
   "source": [
    "* **Длинные поездки**"
   ]
  },
  {
   "cell_type": "code",
   "execution_count": 24,
   "id": "bff6ba7b",
   "metadata": {},
   "outputs": [
    {
     "data": {
      "text/plain": [
       "<Axes: title={'center': 'Диаграмма рассеивания'}, xlabel='Расстояние', ylabel='Продолжительность'>"
      ]
     },
     "execution_count": 24,
     "metadata": {},
     "output_type": "execute_result"
    },
    {
     "data": {
      "image/png": "[encoded data removed]",
      "text/plain": [
       "<Figure size 1000x500 with 1 Axes>"
      ]
     },
     "metadata": {},
     "output_type": "display_data"
    }
   ],
   "source": [
    "rides.loc[rides['distance'] > upper_whisker].plot(kind='scatter',\n",
    "                                                  x='distance',\n",
    "                                                  y='duration',\n",
    "                                                  \n",
    "                                                  title='Диаграмма рассеивания',\n",
    "                                                  xlabel='Расстояние',\n",
    "                                                  ylabel='Продолжительность',\n",
    "                                                  figsize=(10, 5))"
   ]
  },
  {
   "cell_type": "markdown",
   "id": "99e16e1e",
   "metadata": {},
   "source": [
    "На диаграмме видны очень непродолжительные поездки менее минуты. С ними мы будем разбираться на следующем шаге. Все остальные поездки не являются выбросами, так как имеют адекатную среднюю скорость. Поэтому оставим их в датасете.  \n",
    "\n",
    "Ещё раз вглянем на столбец `distance`, чтобы лучше описать наблюдения:"
   ]
  },
  {
   "cell_type": "code",
   "execution_count": 25,
   "id": "b7f40225",
   "metadata": {},
   "outputs": [
    {
     "data": {
      "text/plain": [
       "count    18068.000000\n",
       "mean      3070.659976\n",
       "std       1116.831209\n",
       "min          0.855683\n",
       "25%       2543.226360\n",
       "50%       3133.609994\n",
       "75%       3776.222735\n",
       "max       7211.007745\n",
       "Name: distance, dtype: float64"
      ]
     },
     "execution_count": 25,
     "metadata": {},
     "output_type": "execute_result"
    }
   ],
   "source": [
    "rides['distance'].describe()"
   ]
  },
  {
   "cell_type": "markdown",
   "id": "3b7535a5",
   "metadata": {},
   "source": [
    "**Наблюдения**\n",
    "* В данных по поездкам остутствуют нулевые значения\n",
    "* Самая короткая поездка составляет 694 м\n",
    "* Самая длинная — 7211 м\n",
    "* Чаще всего пользователи выбирают самокат, чтобы проехать на нём около 3,2 км."
   ]
  },
  {
   "cell_type": "markdown",
   "id": "d8c912e2",
   "metadata": {},
   "source": [
    "### Продолжительность поездок"
   ]
  },
  {
   "cell_type": "markdown",
   "id": "f6c817d4",
   "metadata": {},
   "source": [
    "Проверим, нет ли выбросов и нулевых значений в данных:"
   ]
  },
  {
   "cell_type": "code",
   "execution_count": 26,
   "id": "b52ce6dc",
   "metadata": {},
   "outputs": [
    {
     "data": {
      "text/plain": [
       "count    18068.000000\n",
       "mean        17.805011\n",
       "std          6.091051\n",
       "min          0.500000\n",
       "25%         13.597563\n",
       "50%         17.678395\n",
       "75%         21.724800\n",
       "max         40.823963\n",
       "Name: duration, dtype: float64"
      ]
     },
     "execution_count": 26,
     "metadata": {},
     "output_type": "execute_result"
    },
    {
     "data": {
      "image/png": "[encoded data removed]",
      "text/plain": [
       "<Figure size 640x480 with 1 Axes>"
      ]
     },
     "metadata": {},
     "output_type": "display_data"
    },
    {
     "data": {
      "image/png": "[encoded data removed]",
      "text/plain": [
       "<Figure size 1000x500 with 1 Axes>"
      ]
     },
     "metadata": {},
     "output_type": "display_data"
    }
   ],
   "source": [
    "rides['duration'].plot.box(vert=False)\n",
    "rides.plot(kind='hist',\n",
    "           title = 'Распределение продолжительности поездок',\n",
    "           y='duration',\n",
    "           bins=100,\n",
    "           figsize=(10, 5),\n",
    "           legend=False)\n",
    "plt.xlabel('Продолжительность (мин)')\n",
    "plt.ylabel('Количество пользователей')\n",
    "\n",
    "rides['duration'].describe()"
   ]
  },
  {
   "cell_type": "markdown",
   "id": "5cbb850c",
   "metadata": {},
   "source": [
    "Наблюдается значительный выброс в данных для очень коротких поездок (менее 2 минут). Увеличим масштаб и присмотримся повнимательнее:"
   ]
  },
  {
   "cell_type": "code",
   "execution_count": 27,
   "id": "1fed64da",
   "metadata": {},
   "outputs": [
    {
     "data": {
      "image/png": "[encoded data removed]",
      "text/plain": [
       "<Figure size 1200x600 with 1 Axes>"
      ]
     },
     "metadata": {},
     "output_type": "display_data"
    }
   ],
   "source": [
    "rides.plot(kind='hist',\n",
    "           title = 'Распределение продолжительности поездок',           \n",
    "           y='duration',\n",
    "           bins=100,\n",
    "           range=(0, 3),\n",
    "           figsize=(12, 6),\n",
    "           legend=False)\n",
    "\n",
    "plt.xlabel('Продолжительность (мин)')\n",
    "plt.ylabel('Количество пользователей')\n",
    "plt.show()"
   ]
  },
  {
   "cell_type": "markdown",
   "id": "8b3e5e44",
   "metadata": {},
   "source": [
    "Если верить значениям, то большое число поездок закончилось через 30 секунд. Так как за это время нельзя проехать по городу 600+ метров, речь может идти либо об ошибке в данных, либо о несостоявщихся поездках.  \n",
    "Посмотрим на то, какой длины были поездки продолжительностью менее минуты:"
   ]
  },
  {
   "cell_type": "code",
   "execution_count": 28,
   "id": "982b6b85",
   "metadata": {},
   "outputs": [
    {
     "data": {
      "text/html": [
       "<div>\n",
       "<style scoped>\n",
       "    .dataframe tbody tr th:only-of-type {\n",
       "        vertical-align: middle;\n",
       "    }\n",
       "\n",
       "    .dataframe tbody tr th {\n",
       "        vertical-align: top;\n",
       "    }\n",
       "\n",
       "    .dataframe thead th {\n",
       "        text-align: right;\n",
       "    }\n",
       "</style>\n",
       "<table border=\"1\" class=\"dataframe\">\n",
       "  <thead>\n",
       "    <tr style=\"text-align: right;\">\n",
       "      <th></th>\n",
       "      <th>user_id</th>\n",
       "      <th>distance</th>\n",
       "      <th>duration</th>\n",
       "      <th>date</th>\n",
       "      <th>month</th>\n",
       "      <th>year</th>\n",
       "    </tr>\n",
       "  </thead>\n",
       "  <tbody>\n",
       "    <tr>\n",
       "      <th>6531</th>\n",
       "      <td>701</td>\n",
       "      <td>4196.445201</td>\n",
       "      <td>0.5</td>\n",
       "      <td>2021-08-31</td>\n",
       "      <td>8</td>\n",
       "      <td>2021</td>\n",
       "    </tr>\n",
       "    <tr>\n",
       "      <th>6570</th>\n",
       "      <td>704</td>\n",
       "      <td>4830.824371</td>\n",
       "      <td>0.5</td>\n",
       "      <td>2021-10-14</td>\n",
       "      <td>10</td>\n",
       "      <td>2021</td>\n",
       "    </tr>\n",
       "    <tr>\n",
       "      <th>6680</th>\n",
       "      <td>712</td>\n",
       "      <td>4684.004397</td>\n",
       "      <td>0.5</td>\n",
       "      <td>2021-03-04</td>\n",
       "      <td>3</td>\n",
       "      <td>2021</td>\n",
       "    </tr>\n",
       "    <tr>\n",
       "      <th>6695</th>\n",
       "      <td>713</td>\n",
       "      <td>5215.642710</td>\n",
       "      <td>0.5</td>\n",
       "      <td>2021-02-25</td>\n",
       "      <td>2</td>\n",
       "      <td>2021</td>\n",
       "    </tr>\n",
       "    <tr>\n",
       "      <th>6768</th>\n",
       "      <td>718</td>\n",
       "      <td>5197.436649</td>\n",
       "      <td>0.5</td>\n",
       "      <td>2021-02-11</td>\n",
       "      <td>2</td>\n",
       "      <td>2021</td>\n",
       "    </tr>\n",
       "    <tr>\n",
       "      <th>6860</th>\n",
       "      <td>724</td>\n",
       "      <td>6225.520342</td>\n",
       "      <td>0.5</td>\n",
       "      <td>2021-12-16</td>\n",
       "      <td>12</td>\n",
       "      <td>2021</td>\n",
       "    </tr>\n",
       "    <tr>\n",
       "      <th>6883</th>\n",
       "      <td>726</td>\n",
       "      <td>4452.491518</td>\n",
       "      <td>0.5</td>\n",
       "      <td>2021-03-01</td>\n",
       "      <td>3</td>\n",
       "      <td>2021</td>\n",
       "    </tr>\n",
       "    <tr>\n",
       "      <th>7018</th>\n",
       "      <td>735</td>\n",
       "      <td>4406.954812</td>\n",
       "      <td>0.5</td>\n",
       "      <td>2021-04-13</td>\n",
       "      <td>4</td>\n",
       "      <td>2021</td>\n",
       "    </tr>\n",
       "    <tr>\n",
       "      <th>7160</th>\n",
       "      <td>745</td>\n",
       "      <td>5286.167732</td>\n",
       "      <td>0.5</td>\n",
       "      <td>2021-08-17</td>\n",
       "      <td>8</td>\n",
       "      <td>2021</td>\n",
       "    </tr>\n",
       "    <tr>\n",
       "      <th>7364</th>\n",
       "      <td>760</td>\n",
       "      <td>4881.391865</td>\n",
       "      <td>0.5</td>\n",
       "      <td>2021-08-29</td>\n",
       "      <td>8</td>\n",
       "      <td>2021</td>\n",
       "    </tr>\n",
       "  </tbody>\n",
       "</table>\n",
       "</div>"
      ],
      "text/plain": [
       "      user_id     distance  duration       date  month  year\n",
       "6531      701  4196.445201       0.5 2021-08-31      8  2021\n",
       "6570      704  4830.824371       0.5 2021-10-14     10  2021\n",
       "6680      712  4684.004397       0.5 2021-03-04      3  2021\n",
       "6695      713  5215.642710       0.5 2021-02-25      2  2021\n",
       "6768      718  5197.436649       0.5 2021-02-11      2  2021\n",
       "6860      724  6225.520342       0.5 2021-12-16     12  2021\n",
       "6883      726  4452.491518       0.5 2021-03-01      3  2021\n",
       "7018      735  4406.954812       0.5 2021-04-13      4  2021\n",
       "7160      745  5286.167732       0.5 2021-08-17      8  2021\n",
       "7364      760  4881.391865       0.5 2021-08-29      8  2021"
      ]
     },
     "execution_count": 28,
     "metadata": {},
     "output_type": "execute_result"
    }
   ],
   "source": [
    "rides[rides['duration'] < 1.0].head(10)"
   ]
  },
  {
   "cell_type": "markdown",
   "id": "f79a916f",
   "metadata": {},
   "source": [
    "Везде расстояния в 4-5 километров, которые на самокате можно преодолеть за полчаса, а не за полминуты. Поправим этот момет, домножив малые значения на 60:"
   ]
  },
  {
   "cell_type": "code",
   "execution_count": 29,
   "id": "e98bbc01",
   "metadata": {},
   "outputs": [],
   "source": [
    "rides.loc[rides['duration'] < 1.0, 'duration'] *= 60"
   ]
  },
  {
   "cell_type": "markdown",
   "id": "9e20770b",
   "metadata": {},
   "source": [
    "Взглянем теперь на обновлённые данные:"
   ]
  },
  {
   "cell_type": "code",
   "execution_count": 30,
   "id": "7279bb8b",
   "metadata": {},
   "outputs": [
    {
     "data": {
      "text/plain": [
       "count    18068.000000\n",
       "mean        17.960120\n",
       "std          6.023636\n",
       "min          2.035632\n",
       "25%         13.697117\n",
       "50%         17.750643\n",
       "75%         21.824361\n",
       "max         40.823963\n",
       "Name: duration, dtype: float64"
      ]
     },
     "execution_count": 30,
     "metadata": {},
     "output_type": "execute_result"
    },
    {
     "data": {
      "image/png": "[encoded data removed]",
      "text/plain": [
       "<Figure size 1600x900 with 1 Axes>"
      ]
     },
     "metadata": {},
     "output_type": "display_data"
    }
   ],
   "source": [
    "rides.plot(kind='hist',\n",
    "           title = 'Распределение продолжительности поездок',           \n",
    "           y='duration',\n",
    "           bins=100,\n",
    "\n",
    "           figsize=(16, 9),\n",
    "           legend=False)\n",
    "\n",
    "plt.xlabel('Продолжительность (мин)')\n",
    "plt.ylabel('Количество пользователей')\n",
    "\n",
    "rides['duration'].describe()"
   ]
  },
  {
   "cell_type": "markdown",
   "id": "b2dc73b3",
   "metadata": {},
   "source": [
    "**Наблюдения**\n",
    "* Самые короткие поездки имеют продолжительность в 2 минуты\n",
    "* Самые долгие — около 40 минут\n",
    "* Чаще всего пользователи проводят в поездке около 17 минут"
   ]
  },
  {
   "cell_type": "markdown",
   "id": "4ef51331",
   "metadata": {},
   "source": [
    "## Шаг 4. Объединение данных"
   ]
  },
  {
   "cell_type": "markdown",
   "id": "65a6f19e",
   "metadata": {},
   "source": [
    "### Единый датафрейм\n",
    "Округлим продолжительность поездок в исходном датафрейме `rides` в большую сторону:"
   ]
  },
  {
   "cell_type": "code",
   "execution_count": 31,
   "id": "89db9236",
   "metadata": {},
   "outputs": [
    {
     "data": {
      "text/html": [
       "<div>\n",
       "<style scoped>\n",
       "    .dataframe tbody tr th:only-of-type {\n",
       "        vertical-align: middle;\n",
       "    }\n",
       "\n",
       "    .dataframe tbody tr th {\n",
       "        vertical-align: top;\n",
       "    }\n",
       "\n",
       "    .dataframe thead th {\n",
       "        text-align: right;\n",
       "    }\n",
       "</style>\n",
       "<table border=\"1\" class=\"dataframe\">\n",
       "  <thead>\n",
       "    <tr style=\"text-align: right;\">\n",
       "      <th></th>\n",
       "      <th>user_id</th>\n",
       "      <th>distance</th>\n",
       "      <th>duration</th>\n",
       "      <th>date</th>\n",
       "      <th>month</th>\n",
       "      <th>year</th>\n",
       "    </tr>\n",
       "  </thead>\n",
       "  <tbody>\n",
       "    <tr>\n",
       "      <th>0</th>\n",
       "      <td>1</td>\n",
       "      <td>4409.919140</td>\n",
       "      <td>26.0</td>\n",
       "      <td>2021-01-01</td>\n",
       "      <td>1</td>\n",
       "      <td>2021</td>\n",
       "    </tr>\n",
       "    <tr>\n",
       "      <th>1</th>\n",
       "      <td>1</td>\n",
       "      <td>2617.592153</td>\n",
       "      <td>16.0</td>\n",
       "      <td>2021-01-18</td>\n",
       "      <td>1</td>\n",
       "      <td>2021</td>\n",
       "    </tr>\n",
       "    <tr>\n",
       "      <th>2</th>\n",
       "      <td>1</td>\n",
       "      <td>754.159807</td>\n",
       "      <td>7.0</td>\n",
       "      <td>2021-04-20</td>\n",
       "      <td>4</td>\n",
       "      <td>2021</td>\n",
       "    </tr>\n",
       "    <tr>\n",
       "      <th>3</th>\n",
       "      <td>1</td>\n",
       "      <td>2694.783254</td>\n",
       "      <td>19.0</td>\n",
       "      <td>2021-08-11</td>\n",
       "      <td>8</td>\n",
       "      <td>2021</td>\n",
       "    </tr>\n",
       "    <tr>\n",
       "      <th>4</th>\n",
       "      <td>1</td>\n",
       "      <td>4028.687306</td>\n",
       "      <td>27.0</td>\n",
       "      <td>2021-08-28</td>\n",
       "      <td>8</td>\n",
       "      <td>2021</td>\n",
       "    </tr>\n",
       "  </tbody>\n",
       "</table>\n",
       "</div>"
      ],
      "text/plain": [
       "   user_id     distance  duration       date  month  year\n",
       "0        1  4409.919140      26.0 2021-01-01      1  2021\n",
       "1        1  2617.592153      16.0 2021-01-18      1  2021\n",
       "2        1   754.159807       7.0 2021-04-20      4  2021\n",
       "3        1  2694.783254      19.0 2021-08-11      8  2021\n",
       "4        1  4028.687306      27.0 2021-08-28      8  2021"
      ]
     },
     "execution_count": 31,
     "metadata": {},
     "output_type": "execute_result"
    }
   ],
   "source": [
    "rides['duration'] = np.ceil(rides['duration'])\n",
    "rides.head()"
   ]
  },
  {
   "cell_type": "markdown",
   "id": "6c488fff",
   "metadata": {},
   "source": [
    "Объединим данные о пользователях, поездках и подписках в один датафрейм. Воспользуемся методом `merge()`:"
   ]
  },
  {
   "cell_type": "code",
   "execution_count": 32,
   "id": "db8c49eb",
   "metadata": {},
   "outputs": [
    {
     "name": "stdout",
     "output_type": "stream",
     "text": [
      "(18068, 6) (1534, 5) (2, 4)\n"
     ]
    }
   ],
   "source": [
    "print(rides.shape, users.shape, subs.shape)"
   ]
  },
  {
   "cell_type": "markdown",
   "id": "9dd67514",
   "metadata": {},
   "source": [
    "Строк 18068, столбцов 6 + (5-1) + (4-1) = 13"
   ]
  },
  {
   "cell_type": "code",
   "execution_count": 33,
   "id": "ac58c63e",
   "metadata": {},
   "outputs": [
    {
     "data": {
      "text/plain": [
       "(18068, 13)"
      ]
     },
     "execution_count": 33,
     "metadata": {},
     "output_type": "execute_result"
    }
   ],
   "source": [
    "data = users.merge(rides, on='user_id').merge(subs, on='subscription_type')\n",
    "data.shape"
   ]
  },
  {
   "cell_type": "markdown",
   "id": "307fba10",
   "metadata": {},
   "source": [
    "### Дополнительные датафреймы\n",
    "\n",
    "* **Пользователи без подписки** — датафрейм по параметру `free` в столбце `subscription_type`\n",
    "* **Пользователи с подпиской** — датафрейм по параметру `ultra` в столбце `subscription_type`"
   ]
  },
  {
   "cell_type": "code",
   "execution_count": 34,
   "id": "22a40082",
   "metadata": {},
   "outputs": [],
   "source": [
    "data_free = data.loc[data['subscription_type'] == 'free']\n",
    "data_ultra = data.loc[data['subscription_type'] == 'ultra']"
   ]
  },
  {
   "cell_type": "markdown",
   "id": "c767dd03",
   "metadata": {},
   "source": [
    "### Визуализация\n",
    "Наглядно представим информацию о расстоянии и времени поездок для пользователей обеих категорий.\n",
    "* **Расстояния**"
   ]
  },
  {
   "cell_type": "code",
   "execution_count": 35,
   "id": "7a34cba4",
   "metadata": {},
   "outputs": [
    {
     "data": {
      "text/plain": [
       "count    11568.000000\n",
       "mean      3045.495282\n",
       "std       1246.173806\n",
       "min          0.855683\n",
       "25%       2366.562689\n",
       "50%       3114.648465\n",
       "75%       3905.697894\n",
       "max       7211.007745\n",
       "Name: distance, dtype: float64"
      ]
     },
     "execution_count": 35,
     "metadata": {},
     "output_type": "execute_result"
    },
    {
     "data": {
      "image/png": "[encoded data removed]",
      "text/plain": [
       "<Figure size 1600x900 with 1 Axes>"
      ]
     },
     "metadata": {},
     "output_type": "display_data"
    }
   ],
   "source": [
    "data_free.plot(kind='hist',\n",
    "           title = 'Распределение поездок FREE',           \n",
    "           y='distance',\n",
    "           bins=100,\n",
    "           figsize=(16, 9),\n",
    "           legend=False)\n",
    "\n",
    "plt.xlabel('Длина поездки (м)')\n",
    "plt.ylabel('Количество пользователей')\n",
    "\n",
    "data_free['distance'].describe()"
   ]
  },
  {
   "cell_type": "markdown",
   "id": "fbfa387e",
   "metadata": {},
   "source": [
    "---"
   ]
  },
  {
   "cell_type": "code",
   "execution_count": 36,
   "id": "bf61e159",
   "metadata": {},
   "outputs": [
    {
     "data": {
      "text/plain": [
       "count    6500.000000\n",
       "mean     3115.445388\n",
       "std       836.895330\n",
       "min       244.210438\n",
       "25%      2785.444017\n",
       "50%      3148.637229\n",
       "75%      3560.574425\n",
       "max      5699.769662\n",
       "Name: distance, dtype: float64"
      ]
     },
     "execution_count": 36,
     "metadata": {},
     "output_type": "execute_result"
    },
    {
     "data": {
      "image/png": "[encoded data removed]",
      "text/plain": [
       "<Figure size 1600x900 with 1 Axes>"
      ]
     },
     "metadata": {},
     "output_type": "display_data"
    }
   ],
   "source": [
    "data_ultra.plot(kind='hist',\n",
    "           title = 'Распределение поездок ULTRA',           \n",
    "           y='distance',\n",
    "           bins=100,\n",
    "           figsize=(16, 9),\n",
    "           legend=False)\n",
    "\n",
    "plt.xlabel('Длина поездки (м)')\n",
    "plt.ylabel('Количество пользователей')\n",
    "data_ultra['distance'].describe()"
   ]
  },
  {
   "cell_type": "markdown",
   "id": "e9f5069b",
   "metadata": {},
   "source": [
    "**Наблюдения**\n",
    "* Обе категории подписчиков чаще выбирают самокат, чтобы проехать расстояние около 3,2 км\n",
    "* Пользователи с подпиской **free**, как правило ездят дальше, чем пользователи с подпиской **ultra**"
   ]
  },
  {
   "cell_type": "markdown",
   "id": "28f3b98d",
   "metadata": {},
   "source": [
    "* **Продолжительность поездок**"
   ]
  },
  {
   "cell_type": "code",
   "execution_count": 37,
   "id": "17876793",
   "metadata": {},
   "outputs": [
    {
     "data": {
      "text/plain": [
       "count    6500.000000\n",
       "mean       19.037692\n",
       "std         5.577439\n",
       "min         4.000000\n",
       "25%        15.000000\n",
       "50%        19.000000\n",
       "75%        22.000000\n",
       "max        41.000000\n",
       "Name: duration, dtype: float64"
      ]
     },
     "execution_count": 37,
     "metadata": {},
     "output_type": "execute_result"
    },
    {
     "data": {
      "image/png": "[encoded data removed]",
      "text/plain": [
       "<Figure size 1600x900 with 1 Axes>"
      ]
     },
     "metadata": {},
     "output_type": "display_data"
    }
   ],
   "source": [
    "data_ultra.plot(kind='hist',\n",
    "           title = 'Распределение продолжительности поездок пользователей Ultra',           \n",
    "           y='duration',\n",
    "           bins=30,\n",
    "           figsize=(16, 9),\n",
    "           legend=False)\n",
    "\n",
    "plt.xlabel('Продолжительность поездки (мин)')\n",
    "plt.ylabel('Количество пользователей')\n",
    "\n",
    "data_ultra['duration'].describe()"
   ]
  },
  {
   "cell_type": "code",
   "execution_count": 38,
   "id": "52c47f81",
   "metadata": {},
   "outputs": [
    {
     "data": {
      "text/plain": [
       "count    11568.000000\n",
       "mean        18.129149\n",
       "std          6.235092\n",
       "min          3.000000\n",
       "25%         14.000000\n",
       "50%         18.000000\n",
       "75%         22.000000\n",
       "max         35.000000\n",
       "Name: duration, dtype: float64"
      ]
     },
     "execution_count": 38,
     "metadata": {},
     "output_type": "execute_result"
    },
    {
     "data": {
      "image/png": "[encoded data removed]",
      "text/plain": [
       "<Figure size 1600x900 with 1 Axes>"
      ]
     },
     "metadata": {},
     "output_type": "display_data"
    }
   ],
   "source": [
    "data_free.plot(kind='hist',\n",
    "           title = 'Распределение продолжительности поездок пользователей Free',           \n",
    "           y='duration',\n",
    "           bins=30,\n",
    "           figsize=(16, 9),\n",
    "           legend=False)\n",
    "\n",
    "plt.xlabel('Продолжительность поездки (мин)')\n",
    "plt.ylabel('Количество пользователей')\n",
    "\n",
    "data_free['duration'].describe()"
   ]
  },
  {
   "cell_type": "markdown",
   "id": "cab26bfa",
   "metadata": {},
   "source": [
    "**Наблюдения**\n",
    "* В среднем, обе категории пользователей пользуются самокатом около 19-ти минут.\n",
    "* Пользователи с подпиской **ultra**, как правило, проводят в поездках больше времени и ездят медленне, чем пользователи с подпиской **free**."
   ]
  },
  {
   "cell_type": "markdown",
   "id": "402d620f",
   "metadata": {},
   "source": [
    "## Шаг 5. Подсчёт выручки"
   ]
  },
  {
   "cell_type": "markdown",
   "id": "90564b38",
   "metadata": {},
   "source": [
    "### Агрегация"
   ]
  },
  {
   "cell_type": "markdown",
   "id": "5d0d4aff",
   "metadata": {},
   "source": [
    "Создадим датафрейм с агрегированными данными. Найдём суммарное расстояние, количество поездок и суммарное время для каждого пользователя за каждый месяц.  \n",
    "Сразу добавим столбцы `subscription_fee`, `start_ride_price` и `minute_price`, чтобы упростить работу на следующем шаге:"
   ]
  },
  {
   "cell_type": "code",
   "execution_count": 39,
   "id": "53049e0a",
   "metadata": {},
   "outputs": [
    {
     "data": {
      "text/html": [
       "<div>\n",
       "<style scoped>\n",
       "    .dataframe tbody tr th:only-of-type {\n",
       "        vertical-align: middle;\n",
       "    }\n",
       "\n",
       "    .dataframe tbody tr th {\n",
       "        vertical-align: top;\n",
       "    }\n",
       "\n",
       "    .dataframe thead th {\n",
       "        text-align: right;\n",
       "    }\n",
       "</style>\n",
       "<table border=\"1\" class=\"dataframe\">\n",
       "  <thead>\n",
       "    <tr style=\"text-align: right;\">\n",
       "      <th></th>\n",
       "      <th>user_id</th>\n",
       "      <th>month</th>\n",
       "      <th>count</th>\n",
       "      <th>month_distance</th>\n",
       "      <th>month_duration</th>\n",
       "      <th>minute_price</th>\n",
       "      <th>start_ride_price</th>\n",
       "      <th>subscription_fee</th>\n",
       "    </tr>\n",
       "  </thead>\n",
       "  <tbody>\n",
       "    <tr>\n",
       "      <th>0</th>\n",
       "      <td>1</td>\n",
       "      <td>1</td>\n",
       "      <td>2</td>\n",
       "      <td>7027.511294</td>\n",
       "      <td>42.0</td>\n",
       "      <td>6</td>\n",
       "      <td>0</td>\n",
       "      <td>199</td>\n",
       "    </tr>\n",
       "    <tr>\n",
       "      <th>1</th>\n",
       "      <td>1</td>\n",
       "      <td>4</td>\n",
       "      <td>1</td>\n",
       "      <td>754.159807</td>\n",
       "      <td>7.0</td>\n",
       "      <td>6</td>\n",
       "      <td>0</td>\n",
       "      <td>199</td>\n",
       "    </tr>\n",
       "    <tr>\n",
       "      <th>2</th>\n",
       "      <td>1</td>\n",
       "      <td>8</td>\n",
       "      <td>2</td>\n",
       "      <td>6723.470560</td>\n",
       "      <td>46.0</td>\n",
       "      <td>6</td>\n",
       "      <td>0</td>\n",
       "      <td>199</td>\n",
       "    </tr>\n",
       "    <tr>\n",
       "      <th>3</th>\n",
       "      <td>1</td>\n",
       "      <td>10</td>\n",
       "      <td>2</td>\n",
       "      <td>5809.911100</td>\n",
       "      <td>32.0</td>\n",
       "      <td>6</td>\n",
       "      <td>0</td>\n",
       "      <td>199</td>\n",
       "    </tr>\n",
       "    <tr>\n",
       "      <th>4</th>\n",
       "      <td>1</td>\n",
       "      <td>11</td>\n",
       "      <td>3</td>\n",
       "      <td>7003.499363</td>\n",
       "      <td>56.0</td>\n",
       "      <td>6</td>\n",
       "      <td>0</td>\n",
       "      <td>199</td>\n",
       "    </tr>\n",
       "  </tbody>\n",
       "</table>\n",
       "</div>"
      ],
      "text/plain": [
       "   user_id  month  count  month_distance  month_duration  minute_price  \\\n",
       "0        1      1      2     7027.511294            42.0             6   \n",
       "1        1      4      1      754.159807             7.0             6   \n",
       "2        1      8      2     6723.470560            46.0             6   \n",
       "3        1     10      2     5809.911100            32.0             6   \n",
       "4        1     11      3     7003.499363            56.0             6   \n",
       "\n",
       "   start_ride_price  subscription_fee  \n",
       "0                 0               199  \n",
       "1                 0               199  \n",
       "2                 0               199  \n",
       "3                 0               199  \n",
       "4                 0               199  "
      ]
     },
     "execution_count": 39,
     "metadata": {},
     "output_type": "execute_result"
    }
   ],
   "source": [
    "revenue_data = pd.pivot_table(\n",
    "    data,\n",
    "    index=['user_id', 'month'],\n",
    "    values=['distance', 'duration', 'date', 'subscription_fee', 'start_ride_price', 'minute_price' ],\n",
    "    aggfunc={'distance': np.sum,\n",
    "             'duration': np.sum,\n",
    "             'date' : 'count',\n",
    "             'subscription_fee': 'first',\n",
    "             'start_ride_price':'first',\n",
    "             'minute_price': 'first'\n",
    "            }\n",
    ")\n",
    "\n",
    "# Коректировка индексов и названий столбцов\n",
    "revenue_data = revenue_data.reset_index()\n",
    "revenue_data = revenue_data.rename(columns =\n",
    "                                   {'date': 'count',\n",
    "                                    'distance': 'month_distance',\n",
    "                                    'duration': 'month_duration'}\n",
    "                                  )\n",
    "revenue_data.head()"
   ]
  },
  {
   "cell_type": "markdown",
   "id": "31652b48",
   "metadata": {},
   "source": [
    "### Подсчёт выручки"
   ]
  },
  {
   "cell_type": "markdown",
   "id": "d9658b7f",
   "metadata": {},
   "source": [
    "Добавим столбец с помесячной выручкой, которую принёс каждый пользователь. Рассчитаем её по формуле:\n",
    "\n",
    "*Выручка = стоимость подписки + (стоимость старта поездки ×  количество поездок) +  \n",
    "\\+ (стоимость одной минуты поездки × общая продолжительность всех поездок в минутах)*"
   ]
  },
  {
   "cell_type": "code",
   "execution_count": 40,
   "id": "1431bcfa",
   "metadata": {},
   "outputs": [
    {
     "data": {
      "text/html": [
       "<div>\n",
       "<style scoped>\n",
       "    .dataframe tbody tr th:only-of-type {\n",
       "        vertical-align: middle;\n",
       "    }\n",
       "\n",
       "    .dataframe tbody tr th {\n",
       "        vertical-align: top;\n",
       "    }\n",
       "\n",
       "    .dataframe thead th {\n",
       "        text-align: right;\n",
       "    }\n",
       "</style>\n",
       "<table border=\"1\" class=\"dataframe\">\n",
       "  <thead>\n",
       "    <tr style=\"text-align: right;\">\n",
       "      <th></th>\n",
       "      <th>user_id</th>\n",
       "      <th>month</th>\n",
       "      <th>count</th>\n",
       "      <th>month_distance</th>\n",
       "      <th>month_duration</th>\n",
       "      <th>minute_price</th>\n",
       "      <th>start_ride_price</th>\n",
       "      <th>subscription_fee</th>\n",
       "      <th>month_revenue</th>\n",
       "    </tr>\n",
       "  </thead>\n",
       "  <tbody>\n",
       "    <tr>\n",
       "      <th>0</th>\n",
       "      <td>1</td>\n",
       "      <td>1</td>\n",
       "      <td>2</td>\n",
       "      <td>7027.511294</td>\n",
       "      <td>42.0</td>\n",
       "      <td>6</td>\n",
       "      <td>0</td>\n",
       "      <td>199</td>\n",
       "      <td>451.0</td>\n",
       "    </tr>\n",
       "    <tr>\n",
       "      <th>1</th>\n",
       "      <td>1</td>\n",
       "      <td>4</td>\n",
       "      <td>1</td>\n",
       "      <td>754.159807</td>\n",
       "      <td>7.0</td>\n",
       "      <td>6</td>\n",
       "      <td>0</td>\n",
       "      <td>199</td>\n",
       "      <td>241.0</td>\n",
       "    </tr>\n",
       "    <tr>\n",
       "      <th>2</th>\n",
       "      <td>1</td>\n",
       "      <td>8</td>\n",
       "      <td>2</td>\n",
       "      <td>6723.470560</td>\n",
       "      <td>46.0</td>\n",
       "      <td>6</td>\n",
       "      <td>0</td>\n",
       "      <td>199</td>\n",
       "      <td>475.0</td>\n",
       "    </tr>\n",
       "    <tr>\n",
       "      <th>3</th>\n",
       "      <td>1</td>\n",
       "      <td>10</td>\n",
       "      <td>2</td>\n",
       "      <td>5809.911100</td>\n",
       "      <td>32.0</td>\n",
       "      <td>6</td>\n",
       "      <td>0</td>\n",
       "      <td>199</td>\n",
       "      <td>391.0</td>\n",
       "    </tr>\n",
       "    <tr>\n",
       "      <th>4</th>\n",
       "      <td>1</td>\n",
       "      <td>11</td>\n",
       "      <td>3</td>\n",
       "      <td>7003.499363</td>\n",
       "      <td>56.0</td>\n",
       "      <td>6</td>\n",
       "      <td>0</td>\n",
       "      <td>199</td>\n",
       "      <td>535.0</td>\n",
       "    </tr>\n",
       "  </tbody>\n",
       "</table>\n",
       "</div>"
      ],
      "text/plain": [
       "   user_id  month  count  month_distance  month_duration  minute_price  \\\n",
       "0        1      1      2     7027.511294            42.0             6   \n",
       "1        1      4      1      754.159807             7.0             6   \n",
       "2        1      8      2     6723.470560            46.0             6   \n",
       "3        1     10      2     5809.911100            32.0             6   \n",
       "4        1     11      3     7003.499363            56.0             6   \n",
       "\n",
       "   start_ride_price  subscription_fee  month_revenue  \n",
       "0                 0               199          451.0  \n",
       "1                 0               199          241.0  \n",
       "2                 0               199          475.0  \n",
       "3                 0               199          391.0  \n",
       "4                 0               199          535.0  "
      ]
     },
     "execution_count": 40,
     "metadata": {},
     "output_type": "execute_result"
    }
   ],
   "source": [
    "revenue_data['month_revenue'] = revenue_data['subscription_fee'] +\\\n",
    "(revenue_data['start_ride_price'] * revenue_data['count'] + \\\n",
    "(revenue_data['minute_price'] * revenue_data['month_duration']))\n",
    "\n",
    "revenue_data.head()"
   ]
  },
  {
   "cell_type": "markdown",
   "id": "41545ac0",
   "metadata": {},
   "source": [
    "## Шаг 6. Проверка гипотез"
   ]
  },
  {
   "cell_type": "markdown",
   "id": "c8f10433",
   "metadata": {},
   "source": [
    "### Гипотеза №1\n",
    "***Пользователи с подпиской тратят больше времени на поездки.***\n",
    "\n",
    "Из-за формулировки `больше`, данная гипотеза встаёт на место H1:\n",
    "\n",
    "* **H0** — среднее время поездки пользователей **ultra** меньше или равно среднему времени поездки пользователей **free**  \n",
    "* **H1** — среднее время поездки пользователей **ultra** больше среднего времени поездки пользователей **free**"
   ]
  },
  {
   "cell_type": "markdown",
   "id": "ab3561ff",
   "metadata": {},
   "source": [
    "Подготовим данные для t-теста:"
   ]
  },
  {
   "cell_type": "code",
   "execution_count": 41,
   "id": "beb0c26b",
   "metadata": {},
   "outputs": [],
   "source": [
    "duration_ultra = data.loc[data['subscription_type'] == 'ultra']['duration'].values\n",
    "duration_free = data.loc[data['subscription_type'] == 'free']['duration'].values"
   ]
  },
  {
   "cell_type": "markdown",
   "id": "2b21a6fa",
   "metadata": {},
   "source": [
    "Проверим количество значений в каждом массиве:"
   ]
  },
  {
   "cell_type": "code",
   "execution_count": 42,
   "id": "f8b24ae0",
   "metadata": {},
   "outputs": [
    {
     "name": "stdout",
     "output_type": "stream",
     "text": [
      "Ultra: 6500, Free: 11568\n"
     ]
    }
   ],
   "source": [
    "print(f'Ultra: {len(duration_ultra)}, Free: {len(duration_free)}')"
   ]
  },
  {
   "cell_type": "markdown",
   "id": "be39c030",
   "metadata": {},
   "source": [
    "Количество значений различается, поэтому параметр `equal_var=False`. А так как в H1 гипотеза `больше`, параметер `alternative='greater'`"
   ]
  },
  {
   "cell_type": "code",
   "execution_count": 43,
   "id": "3152d47b",
   "metadata": {},
   "outputs": [
    {
     "name": "stdout",
     "output_type": "stream",
     "text": [
      "p-value: 4.655799681180463e-24\n",
      "Отвергаем нулевую гипотезу\n"
     ]
    }
   ],
   "source": [
    "alpha = .05\n",
    "\n",
    "results = st.ttest_ind(\n",
    "    duration_ultra,\n",
    "    duration_free,\n",
    "    equal_var=False,\n",
    "    alternative='greater')\n",
    "\n",
    "print(f'p-value: {results.pvalue}')\n",
    "if results.pvalue < alpha:\n",
    "    print('Отвергаем нулевую гипотезу')\n",
    "else:\n",
    "    print('Не отвергаем нулевую гипотезу')"
   ]
  },
  {
   "cell_type": "markdown",
   "id": "222af355",
   "metadata": {},
   "source": [
    "**Вывод**  \n",
    "* Так как нулевая гипотеза отвергнута и она была противоположной формулировке заказчика, нет основания отвергать гипотезу о том, что пользователи с подпиской тратят больше времени на поездки."
   ]
  },
  {
   "cell_type": "markdown",
   "id": "e4a9359d",
   "metadata": {},
   "source": [
    "---"
   ]
  },
  {
   "cell_type": "markdown",
   "id": "96e91123",
   "metadata": {},
   "source": [
    "### Гипотеза №2\n",
    "***Расстояние, которое проезжают пользователи с подпиской за одну поездку, не превышает 3130 метров.***\n",
    "\n",
    "* **H0** — среднее расстояние поездки пользователей **ultra** меньше или равно 3130 м.\n",
    "* **H1** — среднее расстояние поездки пользователей **ultra** больше 3130 м."
   ]
  },
  {
   "cell_type": "markdown",
   "id": "5bca00e1",
   "metadata": {},
   "source": [
    "Подготовим данные для t-теста:"
   ]
  },
  {
   "cell_type": "code",
   "execution_count": 44,
   "id": "91775a81",
   "metadata": {},
   "outputs": [],
   "source": [
    "distance_ultra = data.loc[data['subscription_type'] == 'ultra']['distance'].values"
   ]
  },
  {
   "cell_type": "markdown",
   "id": "9a2fb9bb",
   "metadata": {},
   "source": [
    "Проверим гипотезу с помощью метода  `ttest_1samp()` c параметром `alternative='greater'` "
   ]
  },
  {
   "cell_type": "code",
   "execution_count": 45,
   "id": "11da6d94",
   "metadata": {},
   "outputs": [
    {
     "name": "stdout",
     "output_type": "stream",
     "text": [
      "p-value: 0.9195368847849785\n",
      "Не отвергаем нулевую гипотезу\n"
     ]
    }
   ],
   "source": [
    "mu = 3130 # среднее\n",
    "alpha = .05 # уровень статистической значимости\n",
    "\n",
    "results = st.ttest_1samp(\n",
    "    distance_ultra, \n",
    "    mu,\n",
    "    alternative='greater')\n",
    "\n",
    "print('p-value:', results.pvalue)\n",
    "if (results.pvalue < alpha):\n",
    "    print('Отвергаем нулевую гипотезу')\n",
    "else:\n",
    "    print('Не отвергаем нулевую гипотезу') "
   ]
  },
  {
   "cell_type": "markdown",
   "id": "46ad503d",
   "metadata": {},
   "source": [
    "**Вывод**  \n",
    "* Нет основания отвергать гипотезу о том, что расстояние, которое проезжают пользователи с подпиской за одну поездку, не превышает 3130 метров."
   ]
  },
  {
   "cell_type": "markdown",
   "id": "03d1f52d",
   "metadata": {},
   "source": [
    "---"
   ]
  },
  {
   "cell_type": "markdown",
   "id": "afe3a42c",
   "metadata": {},
   "source": [
    "<div style=\"background-color:lavender; color:#black; text-align:center; padding:2%\">\n",
    "    \n",
    "**Алексей:** ✋ Здесь буду рассуждать так же как в Гипотезе №1, оформлю в том же ключе. Исправленная версия гипотезы:\n",
    "\n",
    "    "
   ]
  },
  {
   "cell_type": "markdown",
   "id": "6e11447a",
   "metadata": {},
   "source": [
    "### Гипотеза №3\n",
    "***Помесячная выручка от пользователей с подпиской по месяцам выше, чем выручка от пользователей без подписки.***\n",
    "\n",
    "Из-за формулировки `выше`, то есть `больше`, данная гипотеза встаёт на место H1\n",
    "\n",
    "* **H0** — средняя помесячная выручка от пользователей **ultra** меньше или равна выручке от пользователей **free**\n",
    "* **H1** — средняя помесячная выручка от пользователей **ultra** больше чем выручка от пользователей **free**"
   ]
  },
  {
   "cell_type": "markdown",
   "id": "254736f9",
   "metadata": {},
   "source": [
    "Подготовим данные для t-теста:"
   ]
  },
  {
   "cell_type": "code",
   "execution_count": 46,
   "id": "4c53b46f",
   "metadata": {},
   "outputs": [],
   "source": [
    "month_revenue_ultra = revenue_data.loc[revenue_data['subscription_fee'] > 0]['month_revenue'].values\n",
    "month_revenue_free = revenue_data.loc[revenue_data['subscription_fee'] == 0]['month_revenue'].values"
   ]
  },
  {
   "cell_type": "markdown",
   "id": "c86d0b4f",
   "metadata": {},
   "source": [
    "<div style=\"background-color:lavender; color:#black; text-align:center; padding:2%\">\n",
    "    \n",
    "**Алексей:** 👇 Внесу исправления в сушествующий код и вывод 👇\n",
    "   "
   ]
  },
  {
   "cell_type": "markdown",
   "id": "46ab8c46",
   "metadata": {},
   "source": [
    "<div class=\"alert alert-success\">\n",
    "\n",
    "**Артём:** 👍 Хорошо.\n",
    "\n",
    "</div>"
   ]
  },
  {
   "cell_type": "markdown",
   "id": "8e87ce86",
   "metadata": {},
   "source": [
    "Проверим гипотезу с помощью метода  `ttest_ind()` c параметром `alternative='greater'` "
   ]
  },
  {
   "cell_type": "code",
   "execution_count": 47,
   "id": "406abdce",
   "metadata": {},
   "outputs": [
    {
     "name": "stdout",
     "output_type": "stream",
     "text": [
      "p-value: 7.430720991422216e-26\n",
      "Отвергаем нулевую гипотезу\n"
     ]
    }
   ],
   "source": [
    "alpha = .05 # уровень статистической значимости\n",
    "\n",
    "results = st.ttest_ind(\n",
    "    month_revenue_ultra,\n",
    "    month_revenue_free,\n",
    "    alternative='greater')\n",
    "\n",
    "print(f'p-value: {results.pvalue}')\n",
    "if results.pvalue < alpha:\n",
    "    print('Отвергаем нулевую гипотезу')\n",
    "else:\n",
    "    print('Не отвергаем нулевую гипотезу')"
   ]
  },
  {
   "cell_type": "markdown",
   "id": "1e101e8a",
   "metadata": {},
   "source": [
    "**Вывод**  \n",
    "* Так как нулевая гипотеза отвергнута и она была противоположной формулировке заказчика, нет основания отвергать гипотезу о том, что помесячная выручка от пользователей с подпиской по месяцам выше, чем выручка от пользователей без подписки."
   ]
  },
  {
   "cell_type": "markdown",
   "id": "947efba4",
   "metadata": {},
   "source": [
    "---"
   ]
  },
  {
   "cell_type": "markdown",
   "id": "910d8d8c",
   "metadata": {},
   "source": [
    "### Гипотеза №4\n",
    "***Из-за обновления сервера количество обращинй в поддержку снизилось***  \n",
    "Некоторый файл содержит для каждого пользователя данные о количестве обращений до обновления и после него. Какой тест понадобился бы для проверки этой гипотезы?"
   ]
  },
  {
   "cell_type": "markdown",
   "id": "26d026e9",
   "metadata": {},
   "source": [
    "Так как в формулировке `снизилось` = `меньше`, то данная гипотеза встанет на место H1:\n",
    "* **H0** — среднее количество обращений после обновлений стало **больше** или **не изменилось**\n",
    "* **H1** — среднее количество обращений после обновлений стало **меньше**\n",
    "\n",
    "**Ответ**  \n",
    "Гипотеза правосторонняя, следовательно, для её проверки понадобился бы **t-тест** `st.ttest_rel(time_before, time_after, alternative='less')` с параметрами: \n",
    "\n",
    "* `time_before`, `time_after` — массивы, которые содержат выборки до обновления сервера и после\n",
    "* `alternative='less'` — альтернативная гипотеза о том, что истинное среднее до изменения меньше, чем истинное среднее после изменения"
   ]
  },
  {
   "cell_type": "markdown",
   "id": "61213c5e",
   "metadata": {},
   "source": [
    "## Шаг 7. Распределения"
   ]
  },
  {
   "cell_type": "markdown",
   "id": "629e8c73",
   "metadata": {},
   "source": [
    "### Промокоды\n",
    "Отделу маркетинга GoFast поставили задачу: нужно провести акцию с раздачей промокодов на один бесплатный месяц подписки, в рамках которой как минимум 100 существующих клиентов должны продлить эту подписку. По завершении периода действия подписки пользователь может либо отказаться от неё, либо продлить, совершив соответствующий платёж.\n",
    " \n",
    "Эта акция уже проводилась ранее и по итогу выяснилось, что после бесплатного пробного периода подписку продлевают  10 % пользователей. \n",
    "\n",
    "**Задача**\n",
    "1. Выяснить, какое минимальное количество промокодов нужно разослать, чтобы вероятность не выполнить план была примерно 5 %.\n",
    "2. Подобрать параметры распределения, описывающего эту ситуацию, построить график распределения и сформулировать ответ на вопрос о количестве промокодов."
   ]
  },
  {
   "cell_type": "markdown",
   "id": "e70198f9",
   "metadata": {},
   "source": [
    "**Анализ**  \n",
    "Распределение биномиальное, так как попытки независимы между собой и имеют всего два исхода (продлил — не продлил).\n",
    "\n",
    "\n",
    "* План — 100 клиентов должны продлить подписку (100 успехов)\n",
    "* Вероятность продления — 10%\n",
    "* Вероятность 5% не выполнить план равна вероятности 95% план выполнить (95%-я вероятность для 100 успехов)"
   ]
  },
  {
   "cell_type": "markdown",
   "id": "989c168b",
   "metadata": {},
   "source": [
    "Формула биномиального распределения имеет вид:\n",
    "$$P(X=k) = C(N, k) * p^{k} * (1-p)^{(N-k)}$$\n",
    "\n",
    "Где:\n",
    "* $P(X=k)$ - вероятность того, что из N промокодов будет продлено ровно k подписок,\n",
    "* $C(N, k)$ - число сочетаний из N по k,\n",
    "* $p$ - вероятность продления подписки (0.1),\n",
    "* $N$ - общее количество рассылаемых промокодов,\n",
    "* $k$ - количество продлений подписки.\n",
    "\n",
    "Необходимо найти $N$ такое, что $P(X>=100) >= 0.95$"
   ]
  },
  {
   "cell_type": "code",
   "execution_count": 48,
   "id": "7fef85a7",
   "metadata": {},
   "outputs": [
    {
     "data": {
      "image/png": "[encoded data removed]",
      "text/plain": [
       "<Figure size 1600x900 with 1 Axes>"
      ]
     },
     "metadata": {},
     "output_type": "display_data"
    },
    {
     "name": "stdout",
     "output_type": "stream",
     "text": [
      "Минимальное количество промокодов: 1172\n"
     ]
    }
   ],
   "source": [
    "p = 0.1                   # Вероятность продления подписки\n",
    "threshold = 100           # Порог в 100 продлений\n",
    "target_probability = 0.95 # Целевая вероятность выполнения плана\n",
    "\n",
    "N = 1\n",
    "prob = 0\n",
    "\n",
    "while prob < target_probability:\n",
    "    distrib = st.binom(N, p)          # Биномиальное распределение для заданных N и p\n",
    "    prob = 1 - distrib.cdf(threshold) # Вероятность не выполнить план\n",
    "    N += 1\n",
    "\n",
    "x = range(N)\n",
    "y = [distrib.pmf(k) for k in x] # Вероятность, что количество продлений подписок будет равно k.\n",
    "\n",
    "plt.figure(figsize=(16, 9))\n",
    "plt.bar(x, y)\n",
    "plt.xlabel('Количество продлений подписки')\n",
    "plt.ylabel('Вероятность')\n",
    "plt.title('График распределения')\n",
    "plt.show()\n",
    "\n",
    "print(f'Минимальное количество промокодов: {N-1}')"
   ]
  },
  {
   "cell_type": "markdown",
   "id": "a87bb0a7",
   "metadata": {},
   "source": [
    "**Ответ:**  \n",
    "Необходимо разослать минимум 1172 промокода, чтобы вероятность не выполнить план по продлённым подпискам была примерно 5%."
   ]
  },
  {
   "cell_type": "markdown",
   "id": "dda3a8f7",
   "metadata": {},
   "source": [
    "---"
   ]
  },
  {
   "cell_type": "markdown",
   "id": "a6efdd8c",
   "metadata": {},
   "source": [
    "### Push-уведомления\n",
    "Отдел маркетинга рассылает клиентам push-уведомления в мобильном приложении. Клиенты могут открыть его или не открывать. Известно, что уведомления открывают около 40 % получивших клиентов. Отдел планирует разослать\n",
    "1 млн уведомлений.\n",
    "\n",
    "**Задача**\n",
    "* С помощью аппроксимации необходимо построить примерный график распределения и оценить вероятность того, что уведомление откроют не более 399,5 тыс. пользователей."
   ]
  },
  {
   "cell_type": "markdown",
   "id": "966c827d",
   "metadata": {},
   "source": [
    "**Анализ**  \n",
    "Распределение биномиальное, так как попытки независимы между собой и имеют всего два исхода (открыл — не открыл).\n",
    "\n",
    "\n",
    "* Попытки — 1 млн уведомлений\n",
    "* План — не более 399,5 тыс пользователей откроют уведомление\n",
    "* Вероятность открытия — 40%"
   ]
  },
  {
   "cell_type": "code",
   "execution_count": 49,
   "id": "49533ccf",
   "metadata": {},
   "outputs": [
    {
     "data": {
      "image/png": "[encoded data removed]",
      "text/plain": [
       "<Figure size 1600x900 with 1 Axes>"
      ]
     },
     "metadata": {},
     "output_type": "display_data"
    },
    {
     "name": "stdout",
     "output_type": "stream",
     "text": [
      "Вероятность открытия 399500 уведомлений: 0.15\n"
     ]
    }
   ],
   "source": [
    "n = 1000000  # Отправленные уведомления\n",
    "p = 0.4      # Вероятность успеха \n",
    "k = 399500   # Плановый показатель\n",
    "\n",
    "mu = n * p\n",
    "sigma = sqrt(n * p * (1 - p)) \n",
    "\n",
    "# Границы промежутка\n",
    "left = int(n * p - 4 * sigma)\n",
    "right = int(n * p + 4 * sigma)\n",
    "\n",
    "# Набор значений биномиальной величины\n",
    "x = list(range(max(0, left), right))\n",
    "\n",
    "plt.figure(figsize=(16, 9))\n",
    "ax = plt.subplot()\n",
    "ax.plot(x, binom.cdf(x, n, p), 'o-', ms=1)\n",
    "\n",
    "plt.xlabel('Открытие уведомлений')\n",
    "plt.ylabel('Вероятность')\n",
    "plt.title('График распределения')\n",
    "plt.show()\n",
    "\n",
    "# Расчёт искомой вероятности\n",
    "probability = st.binom.cdf(k, n, p)\n",
    "print('Вероятность открытия', k, 'уведомлений:', round(probability, 2))"
   ]
  },
  {
   "cell_type": "markdown",
   "id": "81430c8d",
   "metadata": {},
   "source": [
    "**Ответ:**  \n",
    "Вероятность того, что уведомление откроют не более 399,5 тыс. пользователей составляет около 15%"
   ]
  },
  {
   "cell_type": "markdown",
   "id": "8022d595",
   "metadata": {},
   "source": [
    "# Выводы"
   ]
  },
  {
   "cell_type": "markdown",
   "id": "6f71f864",
   "metadata": {},
   "source": [
    "В ходе исследования мы проанализировали данные более, чем 18000 поездок пользователей приложения GoFast и вот, что нам удалось узнать:"
   ]
  },
  {
   "cell_type": "markdown",
   "id": "87760f3d",
   "metadata": {},
   "source": [
    " ### География\n",
    " * Самым популярными городами по количеству пользователей приложения являются Пятигорск, Екатеринбург и Ростов-на-Дону\n",
    " * Меньше всего пользователей приложения в Омске, Тюмени и Москве."
   ]
  },
  {
   "cell_type": "markdown",
   "id": "002ff263",
   "metadata": {},
   "source": [
    "### Использование подписки\n",
    "* Тех, кто пользуется самокатами без подпиcки на **19%** больше, чем тех, кто оплачивает подписку **ultra**\n",
    "\n",
    "Это наблюдение поможет точнее прогнозировать общую прибыль сервиса."
   ]
  },
  {
   "cell_type": "markdown",
   "id": "f1004a5e",
   "metadata": {},
   "source": [
    "### Возраст пользователей\n",
    "* Чаще всего самокатами пользуются люди в возрасте около 25 лет\n",
    "* Самым молодым пользователям — 12\n",
    "* Самым взрослым — 43\n",
    "\n",
    "Эти наблюдения помогут лучше сегментировать Целевую Аудиторию для настройки таргетированной рекламы."
   ]
  },
  {
   "cell_type": "markdown",
   "id": "f5f484ae",
   "metadata": {},
   "source": [
    "### Данные о поездках\n",
    "* Чаще всего пользователи выбирают самокат, чтобы проехать на нём около 3,2 км\n",
    "* Самые длинные поездки имеют протяжеённость чуть более 7,2 км\n",
    "\n",
    "* Чаще всего пользователи проводят в поездке около 17 минут\n",
    "* Самые долгие поездки могут длиться около 40 минут\n",
    "\n",
    "Эти наблюдения помогут точнее рассчитать ресурс самокатов и частоту сервисного обслуживания."
   ]
  },
  {
   "cell_type": "markdown",
   "id": "7c31198a",
   "metadata": {},
   "source": [
    "### Проверка гипотез\n",
    "#### Гипотеза №1 — Пользователи с подпиской тратят больше времени на поездки\n",
    "* Не опроверглась\n",
    "\n",
    "#### Гипотеза №2 — Расстояние, которое проезжают пользователи с подпиской за одну поездку, не превышает 3130 метров\n",
    "* Не опроверглась\n",
    "\n",
    "#### Гипотеза №3 — Помесячная выручка от пользователей с подпиской по месяцам выше, чем выручка от пользователей без подписки\n",
    "* Не опроверглась\n",
    "\n",
    "#### Гипотеза №4 — Из-за обновления сервера количество обращинй в поддержку снизилось\n",
    "* Необходима проверка на рельных данных\n",
    "\n"
   ]
  },
  {
   "cell_type": "markdown",
   "id": "aa827a5d",
   "metadata": {},
   "source": [
    "### Распределения\n",
    "#### Отправка промокодов\n",
    "* Необходимо разослать минимум 1172 промокода, чтобы вероятность не выполнить план по продлённым подпискам была примерно 5%.\n",
    "\n",
    "####  Отправка push-уведомлений\n",
    "* Вероятность того, что 1 млн отправденных уведомлений, откроют не более 399,5 тыс. пользователей составляет около 15%"
   ]
  },
  {
   "cell_type": "code",
   "execution_count": null,
   "id": "6a6fe80c",
   "metadata": {},
   "outputs": [],
   "source": []
  }
 ],
 "metadata": {
  "ExecuteTimeLog": [
   {
    "duration": 828,
    "start_time": "2023-06-20T07:40:02.195Z"
   },
   {
    "duration": 42,
    "start_time": "2023-06-20T07:40:11.980Z"
   },
   {
    "duration": 385,
    "start_time": "2023-06-20T07:40:17.548Z"
   },
   {
    "duration": 199,
    "start_time": "2023-06-20T07:40:18.313Z"
   },
   {
    "duration": 73,
    "start_time": "2023-06-20T07:40:44.212Z"
   },
   {
    "duration": 8,
    "start_time": "2023-06-20T07:41:21.992Z"
   },
   {
    "duration": 70,
    "start_time": "2023-06-20T07:41:30.634Z"
   },
   {
    "duration": 8,
    "start_time": "2023-06-20T07:41:30.705Z"
   },
   {
    "duration": 9,
    "start_time": "2023-06-20T07:41:33.353Z"
   },
   {
    "duration": 7,
    "start_time": "2023-06-20T07:41:44.759Z"
   },
   {
    "duration": 63,
    "start_time": "2023-06-20T07:41:58.218Z"
   },
   {
    "duration": 7,
    "start_time": "2023-06-20T07:41:59.974Z"
   },
   {
    "duration": 63,
    "start_time": "2023-06-20T07:42:53.051Z"
   },
   {
    "duration": 10,
    "start_time": "2023-06-20T07:43:23.209Z"
   },
   {
    "duration": 9,
    "start_time": "2023-06-20T07:43:41.002Z"
   },
   {
    "duration": 18,
    "start_time": "2023-06-20T07:43:52.727Z"
   },
   {
    "duration": 17,
    "start_time": "2023-06-20T07:57:20.121Z"
   },
   {
    "duration": 15,
    "start_time": "2023-06-20T07:58:22.537Z"
   },
   {
    "duration": 15,
    "start_time": "2023-06-20T08:01:46.491Z"
   },
   {
    "duration": 8,
    "start_time": "2023-06-20T08:17:50.851Z"
   },
   {
    "duration": 14,
    "start_time": "2023-06-20T08:18:13.526Z"
   },
   {
    "duration": 11,
    "start_time": "2023-06-20T08:18:16.383Z"
   },
   {
    "duration": 18,
    "start_time": "2023-06-20T08:18:26.127Z"
   },
   {
    "duration": 11,
    "start_time": "2023-06-20T08:18:43.631Z"
   },
   {
    "duration": 15,
    "start_time": "2023-06-20T08:19:08.113Z"
   },
   {
    "duration": 18,
    "start_time": "2023-06-20T08:19:14.436Z"
   },
   {
    "duration": 26,
    "start_time": "2023-06-20T08:25:50.587Z"
   },
   {
    "duration": 10,
    "start_time": "2023-06-20T08:25:58.476Z"
   },
   {
    "duration": 10,
    "start_time": "2023-06-20T08:26:09.587Z"
   },
   {
    "duration": 10,
    "start_time": "2023-06-20T08:26:19.172Z"
   },
   {
    "duration": 6,
    "start_time": "2023-06-20T08:32:38.413Z"
   },
   {
    "duration": 4,
    "start_time": "2023-06-20T08:32:41.999Z"
   },
   {
    "duration": 781,
    "start_time": "2023-06-20T08:33:28.368Z"
   },
   {
    "duration": 10,
    "start_time": "2023-06-20T08:34:06.938Z"
   },
   {
    "duration": 13,
    "start_time": "2023-06-20T08:34:56.503Z"
   },
   {
    "duration": 7,
    "start_time": "2023-06-20T08:35:10.982Z"
   },
   {
    "duration": 45,
    "start_time": "2023-06-20T08:35:40.339Z"
   },
   {
    "duration": 11,
    "start_time": "2023-06-20T08:35:54.381Z"
   },
   {
    "duration": 11,
    "start_time": "2023-06-20T08:36:02.136Z"
   },
   {
    "duration": 6,
    "start_time": "2023-06-20T08:37:07.794Z"
   },
   {
    "duration": 11,
    "start_time": "2023-06-20T08:37:27.579Z"
   },
   {
    "duration": 12,
    "start_time": "2023-06-20T08:38:03.878Z"
   },
   {
    "duration": 9,
    "start_time": "2023-06-20T08:38:16.556Z"
   },
   {
    "duration": 2,
    "start_time": "2023-06-20T08:38:28.728Z"
   },
   {
    "duration": 13,
    "start_time": "2023-06-20T08:38:32.488Z"
   },
   {
    "duration": 6,
    "start_time": "2023-06-20T08:38:40.498Z"
   },
   {
    "duration": 10,
    "start_time": "2023-06-20T08:38:51.590Z"
   },
   {
    "duration": 6,
    "start_time": "2023-06-20T08:38:55.282Z"
   },
   {
    "duration": 6,
    "start_time": "2023-06-20T08:39:45.080Z"
   },
   {
    "duration": 6,
    "start_time": "2023-06-20T08:39:47.347Z"
   },
   {
    "duration": 15,
    "start_time": "2023-06-20T08:40:11.221Z"
   },
   {
    "duration": 9,
    "start_time": "2023-06-20T08:40:24.812Z"
   },
   {
    "duration": 14,
    "start_time": "2023-06-20T08:40:32.238Z"
   },
   {
    "duration": 8,
    "start_time": "2023-06-20T08:40:44.768Z"
   },
   {
    "duration": 7,
    "start_time": "2023-06-20T08:41:01.129Z"
   },
   {
    "duration": 6,
    "start_time": "2023-06-20T08:41:04.142Z"
   },
   {
    "duration": 8,
    "start_time": "2023-06-20T08:43:49.703Z"
   },
   {
    "duration": 8,
    "start_time": "2023-06-20T08:44:07.141Z"
   },
   {
    "duration": 6,
    "start_time": "2023-06-20T08:44:19.181Z"
   },
   {
    "duration": 7,
    "start_time": "2023-06-20T08:44:22.452Z"
   },
   {
    "duration": 13,
    "start_time": "2023-06-20T08:44:34.885Z"
   },
   {
    "duration": 74,
    "start_time": "2023-06-20T08:45:08.479Z"
   },
   {
    "duration": 17,
    "start_time": "2023-06-20T08:45:08.746Z"
   },
   {
    "duration": 19,
    "start_time": "2023-06-20T08:45:09.153Z"
   },
   {
    "duration": 14,
    "start_time": "2023-06-20T08:45:09.518Z"
   },
   {
    "duration": 7,
    "start_time": "2023-06-20T08:45:10.773Z"
   },
   {
    "duration": 14,
    "start_time": "2023-06-20T08:45:11.111Z"
   },
   {
    "duration": 10,
    "start_time": "2023-06-20T08:45:14.801Z"
   },
   {
    "duration": 7,
    "start_time": "2023-06-20T08:45:16.241Z"
   },
   {
    "duration": 6,
    "start_time": "2023-06-20T08:45:16.826Z"
   },
   {
    "duration": 6,
    "start_time": "2023-06-20T08:46:59.858Z"
   },
   {
    "duration": 6,
    "start_time": "2023-06-20T08:47:08.681Z"
   },
   {
    "duration": 11,
    "start_time": "2023-06-20T08:47:44.177Z"
   },
   {
    "duration": 9,
    "start_time": "2023-06-20T08:49:09.012Z"
   },
   {
    "duration": 7,
    "start_time": "2023-06-20T08:50:23.110Z"
   },
   {
    "duration": 6,
    "start_time": "2023-06-20T08:50:52.382Z"
   },
   {
    "duration": 12,
    "start_time": "2023-06-20T08:51:15.423Z"
   },
   {
    "duration": 14,
    "start_time": "2023-06-20T08:51:21.710Z"
   },
   {
    "duration": 23,
    "start_time": "2023-06-20T08:51:46.429Z"
   },
   {
    "duration": 13,
    "start_time": "2023-06-20T08:52:18.313Z"
   },
   {
    "duration": 13,
    "start_time": "2023-06-20T08:52:33.433Z"
   },
   {
    "duration": 10,
    "start_time": "2023-06-20T08:57:09.807Z"
   },
   {
    "duration": 9,
    "start_time": "2023-06-20T08:57:26.452Z"
   },
   {
    "duration": 73,
    "start_time": "2023-06-20T08:58:10.694Z"
   },
   {
    "duration": 14,
    "start_time": "2023-06-20T08:59:16.464Z"
   },
   {
    "duration": 9,
    "start_time": "2023-06-20T08:59:23.687Z"
   },
   {
    "duration": 12,
    "start_time": "2023-06-20T08:59:42.487Z"
   },
   {
    "duration": 17,
    "start_time": "2023-06-20T09:00:01.355Z"
   },
   {
    "duration": 6,
    "start_time": "2023-06-20T09:00:11.143Z"
   },
   {
    "duration": 8,
    "start_time": "2023-06-20T09:00:14.472Z"
   },
   {
    "duration": 10,
    "start_time": "2023-06-20T09:00:51.642Z"
   },
   {
    "duration": 11,
    "start_time": "2023-06-20T09:01:22.287Z"
   },
   {
    "duration": 10,
    "start_time": "2023-06-20T09:01:26.339Z"
   },
   {
    "duration": 15,
    "start_time": "2023-06-20T09:02:21.629Z"
   },
   {
    "duration": 13,
    "start_time": "2023-06-20T09:02:24.500Z"
   },
   {
    "duration": 12,
    "start_time": "2023-06-20T09:02:44.348Z"
   },
   {
    "duration": 8,
    "start_time": "2023-06-20T09:03:00.301Z"
   },
   {
    "duration": 3,
    "start_time": "2023-06-20T09:03:18.279Z"
   },
   {
    "duration": 62,
    "start_time": "2023-06-20T09:03:18.794Z"
   },
   {
    "duration": 17,
    "start_time": "2023-06-20T09:03:19.574Z"
   },
   {
    "duration": 29,
    "start_time": "2023-06-20T09:03:28.073Z"
   },
   {
    "duration": 15,
    "start_time": "2023-06-20T09:03:29.506Z"
   },
   {
    "duration": 8,
    "start_time": "2023-06-20T09:03:31.532Z"
   },
   {
    "duration": 14,
    "start_time": "2023-06-20T09:03:32.550Z"
   },
   {
    "duration": 10,
    "start_time": "2023-06-20T09:03:34.935Z"
   },
   {
    "duration": 6,
    "start_time": "2023-06-20T09:03:38.642Z"
   },
   {
    "duration": 8,
    "start_time": "2023-06-20T09:03:40.711Z"
   },
   {
    "duration": 7,
    "start_time": "2023-06-20T09:03:55.629Z"
   },
   {
    "duration": 9,
    "start_time": "2023-06-20T09:03:57.002Z"
   },
   {
    "duration": 9,
    "start_time": "2023-06-20T09:04:14.491Z"
   },
   {
    "duration": 7,
    "start_time": "2023-06-20T09:04:21.618Z"
   },
   {
    "duration": 15,
    "start_time": "2023-06-20T09:04:27.784Z"
   },
   {
    "duration": 21,
    "start_time": "2023-06-20T09:04:37.121Z"
   },
   {
    "duration": 9,
    "start_time": "2023-06-20T09:04:37.772Z"
   },
   {
    "duration": 6,
    "start_time": "2023-06-20T09:04:50.014Z"
   },
   {
    "duration": 63,
    "start_time": "2023-06-20T09:04:56.000Z"
   },
   {
    "duration": 9,
    "start_time": "2023-06-20T09:04:59.669Z"
   },
   {
    "duration": 9,
    "start_time": "2023-06-20T09:05:00.230Z"
   },
   {
    "duration": 9,
    "start_time": "2023-06-20T09:05:01.175Z"
   },
   {
    "duration": 18,
    "start_time": "2023-06-20T09:05:04.909Z"
   },
   {
    "duration": 6,
    "start_time": "2023-06-20T09:05:05.429Z"
   },
   {
    "duration": 16,
    "start_time": "2023-06-20T09:06:00.396Z"
   },
   {
    "duration": 9,
    "start_time": "2023-06-20T09:09:22.543Z"
   },
   {
    "duration": 11,
    "start_time": "2023-06-20T09:09:31.992Z"
   },
   {
    "duration": 14,
    "start_time": "2023-06-20T09:09:38.496Z"
   },
   {
    "duration": 22,
    "start_time": "2023-06-20T09:10:02.957Z"
   },
   {
    "duration": 14,
    "start_time": "2023-06-20T09:10:12.564Z"
   },
   {
    "duration": 38,
    "start_time": "2023-06-20T09:11:49.292Z"
   },
   {
    "duration": 13,
    "start_time": "2023-06-20T09:11:57.012Z"
   },
   {
    "duration": 12,
    "start_time": "2023-06-20T09:13:24.224Z"
   },
   {
    "duration": 173,
    "start_time": "2023-06-20T09:14:02.026Z"
   },
   {
    "duration": 11,
    "start_time": "2023-06-20T09:14:09.973Z"
   },
   {
    "duration": 8,
    "start_time": "2023-06-20T09:14:21.488Z"
   },
   {
    "duration": 71,
    "start_time": "2023-06-20T09:14:28.218Z"
   },
   {
    "duration": 132,
    "start_time": "2023-06-20T09:14:35.945Z"
   },
   {
    "duration": 127,
    "start_time": "2023-06-20T09:14:52.045Z"
   },
   {
    "duration": 148,
    "start_time": "2023-06-20T09:15:02.918Z"
   },
   {
    "duration": 9,
    "start_time": "2023-06-20T09:15:20.042Z"
   },
   {
    "duration": 166,
    "start_time": "2023-06-20T09:15:28.428Z"
   },
   {
    "duration": 80,
    "start_time": "2023-06-20T09:16:10.308Z"
   },
   {
    "duration": 17,
    "start_time": "2023-06-20T09:16:14.555Z"
   },
   {
    "duration": 13,
    "start_time": "2023-06-20T09:16:39.980Z"
   },
   {
    "duration": 13,
    "start_time": "2023-06-20T09:16:49.909Z"
   },
   {
    "duration": 14,
    "start_time": "2023-06-20T09:17:20.645Z"
   },
   {
    "duration": 8,
    "start_time": "2023-06-20T09:17:57.114Z"
   },
   {
    "duration": 151,
    "start_time": "2023-06-20T09:18:00.217Z"
   },
   {
    "duration": 8,
    "start_time": "2023-06-20T09:18:22.046Z"
   },
   {
    "duration": 147,
    "start_time": "2023-06-20T09:18:22.770Z"
   },
   {
    "duration": 141,
    "start_time": "2023-06-20T09:20:16.057Z"
   },
   {
    "duration": 480,
    "start_time": "2023-06-20T09:20:27.123Z"
   },
   {
    "duration": 139,
    "start_time": "2023-06-20T09:21:50.069Z"
   },
   {
    "duration": 134,
    "start_time": "2023-06-20T09:21:56.367Z"
   },
   {
    "duration": 158,
    "start_time": "2023-06-20T09:22:35.763Z"
   },
   {
    "duration": 123,
    "start_time": "2023-06-20T09:22:42.767Z"
   },
   {
    "duration": 146,
    "start_time": "2023-06-20T09:22:54.170Z"
   },
   {
    "duration": 153,
    "start_time": "2023-06-20T09:23:01.645Z"
   },
   {
    "duration": 8,
    "start_time": "2023-06-20T09:23:04.271Z"
   },
   {
    "duration": 189,
    "start_time": "2023-06-20T09:23:04.722Z"
   },
   {
    "duration": 8,
    "start_time": "2023-06-20T09:24:10.090Z"
   },
   {
    "duration": 141,
    "start_time": "2023-06-20T09:25:29.986Z"
   },
   {
    "duration": 12,
    "start_time": "2023-06-20T09:30:50.375Z"
   },
   {
    "duration": 126,
    "start_time": "2023-06-20T09:31:01.453Z"
   },
   {
    "duration": 125,
    "start_time": "2023-06-20T09:31:10.741Z"
   },
   {
    "duration": 134,
    "start_time": "2023-06-20T09:31:18.939Z"
   },
   {
    "duration": 9,
    "start_time": "2023-06-20T09:35:07.379Z"
   },
   {
    "duration": 3,
    "start_time": "2023-06-20T09:36:56.960Z"
   },
   {
    "duration": 5,
    "start_time": "2023-06-20T09:37:08.052Z"
   },
   {
    "duration": 6,
    "start_time": "2023-06-20T09:37:44.241Z"
   },
   {
    "duration": 6,
    "start_time": "2023-06-20T09:38:47.464Z"
   },
   {
    "duration": 117,
    "start_time": "2023-06-20T09:39:44.480Z"
   },
   {
    "duration": 71,
    "start_time": "2023-06-20T09:40:00.115Z"
   },
   {
    "duration": 23,
    "start_time": "2023-06-20T09:40:00.925Z"
   },
   {
    "duration": 21,
    "start_time": "2023-06-20T09:40:01.032Z"
   },
   {
    "duration": 22,
    "start_time": "2023-06-20T09:40:01.125Z"
   },
   {
    "duration": 8,
    "start_time": "2023-06-20T09:40:01.293Z"
   },
   {
    "duration": 38,
    "start_time": "2023-06-20T09:40:01.349Z"
   },
   {
    "duration": 15,
    "start_time": "2023-06-20T09:40:01.826Z"
   },
   {
    "duration": 9,
    "start_time": "2023-06-20T09:40:02.365Z"
   },
   {
    "duration": 6,
    "start_time": "2023-06-20T09:40:02.611Z"
   },
   {
    "duration": 9,
    "start_time": "2023-06-20T09:40:03.107Z"
   },
   {
    "duration": 12,
    "start_time": "2023-06-20T09:40:03.263Z"
   },
   {
    "duration": 98,
    "start_time": "2023-06-20T09:40:03.651Z"
   },
   {
    "duration": 15,
    "start_time": "2023-06-20T09:40:04.010Z"
   },
   {
    "duration": 145,
    "start_time": "2023-06-20T09:40:05.964Z"
   },
   {
    "duration": 9,
    "start_time": "2023-06-20T09:40:11.277Z"
   },
   {
    "duration": 8,
    "start_time": "2023-06-20T09:40:34.092Z"
   },
   {
    "duration": 189,
    "start_time": "2023-06-20T09:40:38.997Z"
   },
   {
    "duration": 1179,
    "start_time": "2023-06-20T09:46:49.517Z"
   },
   {
    "duration": 165,
    "start_time": "2023-06-20T09:47:38.415Z"
   },
   {
    "duration": 8,
    "start_time": "2023-06-20T09:47:53.262Z"
   },
   {
    "duration": 156,
    "start_time": "2023-06-20T09:48:03.572Z"
   },
   {
    "duration": 12,
    "start_time": "2023-06-20T09:48:16.010Z"
   },
   {
    "duration": 23,
    "start_time": "2023-06-20T09:48:24.846Z"
   },
   {
    "duration": 104,
    "start_time": "2023-06-20T09:49:04.057Z"
   },
   {
    "duration": 55,
    "start_time": "2023-06-20T09:49:12.990Z"
   },
   {
    "duration": 147,
    "start_time": "2023-06-20T09:49:19.361Z"
   },
   {
    "duration": 5,
    "start_time": "2023-06-20T09:49:26.214Z"
   },
   {
    "duration": 89,
    "start_time": "2023-06-20T09:49:57.109Z"
   },
   {
    "duration": 15,
    "start_time": "2023-06-20T09:50:28.316Z"
   },
   {
    "duration": 22,
    "start_time": "2023-06-20T09:50:35.227Z"
   },
   {
    "duration": 21,
    "start_time": "2023-06-20T09:50:53.746Z"
   },
   {
    "duration": 22,
    "start_time": "2023-06-20T09:51:12.777Z"
   },
   {
    "duration": 8,
    "start_time": "2023-06-20T09:51:28.122Z"
   },
   {
    "duration": 18,
    "start_time": "2023-06-20T09:51:38.695Z"
   },
   {
    "duration": 22,
    "start_time": "2023-06-20T09:52:08.423Z"
   },
   {
    "duration": 16,
    "start_time": "2023-06-20T09:52:20.098Z"
   },
   {
    "duration": 9,
    "start_time": "2023-06-20T09:53:10.935Z"
   },
   {
    "duration": 16,
    "start_time": "2023-06-20T09:53:18.150Z"
   },
   {
    "duration": 17,
    "start_time": "2023-06-20T09:53:28.818Z"
   },
   {
    "duration": 12,
    "start_time": "2023-06-20T09:53:44.211Z"
   },
   {
    "duration": 15,
    "start_time": "2023-06-20T09:54:06.149Z"
   },
   {
    "duration": 1124,
    "start_time": "2023-06-20T09:54:25.655Z"
   },
   {
    "duration": 12,
    "start_time": "2023-06-20T09:55:04.310Z"
   },
   {
    "duration": 11,
    "start_time": "2023-06-20T09:55:12.567Z"
   },
   {
    "duration": 21,
    "start_time": "2023-06-20T09:55:21.205Z"
   },
   {
    "duration": 145,
    "start_time": "2023-06-20T09:55:35.431Z"
   },
   {
    "duration": 255,
    "start_time": "2023-06-20T09:55:48.686Z"
   },
   {
    "duration": 197,
    "start_time": "2023-06-20T09:57:17.715Z"
   },
   {
    "duration": 944,
    "start_time": "2023-06-20T09:57:41.497Z"
   },
   {
    "duration": 1156,
    "start_time": "2023-06-20T09:57:58.577Z"
   },
   {
    "duration": 194,
    "start_time": "2023-06-20T09:58:10.257Z"
   },
   {
    "duration": 268,
    "start_time": "2023-06-20T10:01:51.597Z"
   },
   {
    "duration": 19,
    "start_time": "2023-06-20T10:02:01.719Z"
   },
   {
    "duration": 137,
    "start_time": "2023-06-20T10:03:13.751Z"
   },
   {
    "duration": 18,
    "start_time": "2023-06-20T10:05:19.490Z"
   },
   {
    "duration": 2340,
    "start_time": "2023-06-20T10:05:26.861Z"
   },
   {
    "duration": 171,
    "start_time": "2023-06-20T10:05:37.772Z"
   },
   {
    "duration": 134,
    "start_time": "2023-06-20T10:05:55.441Z"
   },
   {
    "duration": 20,
    "start_time": "2023-06-20T10:06:17.554Z"
   },
   {
    "duration": 762,
    "start_time": "2023-06-20T10:06:40.712Z"
   },
   {
    "duration": 290,
    "start_time": "2023-06-20T10:06:52.838Z"
   },
   {
    "duration": 266,
    "start_time": "2023-06-20T10:07:10.193Z"
   },
   {
    "duration": 288,
    "start_time": "2023-06-20T10:07:21.073Z"
   },
   {
    "duration": 273,
    "start_time": "2023-06-20T10:07:45.174Z"
   },
   {
    "duration": 13,
    "start_time": "2023-06-20T10:11:16.358Z"
   },
   {
    "duration": 806,
    "start_time": "2023-06-20T10:11:47.597Z"
   },
   {
    "duration": 363,
    "start_time": "2023-06-20T10:12:56.357Z"
   },
   {
    "duration": 9,
    "start_time": "2023-06-20T10:13:07.851Z"
   },
   {
    "duration": 333,
    "start_time": "2023-06-20T10:13:17.053Z"
   },
   {
    "duration": 15,
    "start_time": "2023-06-20T10:13:36.494Z"
   },
   {
    "duration": 25,
    "start_time": "2023-06-20T10:14:49.718Z"
   },
   {
    "duration": 5,
    "start_time": "2023-06-20T10:15:33.960Z"
   },
   {
    "duration": 162,
    "start_time": "2023-06-20T10:16:18.825Z"
   },
   {
    "duration": 145,
    "start_time": "2023-06-20T10:16:33.796Z"
   },
   {
    "duration": 316,
    "start_time": "2023-06-20T10:16:44.153Z"
   },
   {
    "duration": 313,
    "start_time": "2023-06-20T10:16:48.756Z"
   },
   {
    "duration": 566,
    "start_time": "2023-06-20T10:17:44.591Z"
   },
   {
    "duration": 159,
    "start_time": "2023-06-20T10:18:10.424Z"
   },
   {
    "duration": 12,
    "start_time": "2023-06-20T10:19:42.345Z"
   },
   {
    "duration": 20,
    "start_time": "2023-06-20T10:19:54.871Z"
   },
   {
    "duration": 11,
    "start_time": "2023-06-20T10:20:37.870Z"
   },
   {
    "duration": 13,
    "start_time": "2023-06-20T10:21:04.194Z"
   },
   {
    "duration": 167,
    "start_time": "2023-06-20T10:21:11.399Z"
   },
   {
    "duration": 158,
    "start_time": "2023-06-20T10:21:45.019Z"
   },
   {
    "duration": 261,
    "start_time": "2023-06-20T10:21:52.219Z"
   },
   {
    "duration": 181,
    "start_time": "2023-06-20T10:22:10.688Z"
   },
   {
    "duration": 259,
    "start_time": "2023-06-20T10:22:20.070Z"
   },
   {
    "duration": 206,
    "start_time": "2023-06-20T10:22:59.272Z"
   },
   {
    "duration": 162,
    "start_time": "2023-06-20T10:23:20.082Z"
   },
   {
    "duration": 152,
    "start_time": "2023-06-20T10:24:02.201Z"
   },
   {
    "duration": 9,
    "start_time": "2023-06-20T10:24:22.116Z"
   },
   {
    "duration": 228,
    "start_time": "2023-06-20T10:25:03.996Z"
   },
   {
    "duration": 198,
    "start_time": "2023-06-20T10:25:47.572Z"
   },
   {
    "duration": 270,
    "start_time": "2023-06-20T10:28:32.819Z"
   },
   {
    "duration": 10,
    "start_time": "2023-06-20T10:31:05.160Z"
   },
   {
    "duration": 10,
    "start_time": "2023-06-20T10:31:20.680Z"
   },
   {
    "duration": 5,
    "start_time": "2023-06-20T10:31:29.161Z"
   },
   {
    "duration": 26,
    "start_time": "2023-06-20T10:31:41.901Z"
   },
   {
    "duration": 269,
    "start_time": "2023-06-20T10:33:04.723Z"
   },
   {
    "duration": 10,
    "start_time": "2023-06-20T10:35:03.488Z"
   },
   {
    "duration": 8,
    "start_time": "2023-06-20T10:35:27.602Z"
   },
   {
    "duration": 274,
    "start_time": "2023-06-20T10:37:22.397Z"
   },
   {
    "duration": 677,
    "start_time": "2023-06-20T10:37:46.088Z"
   },
   {
    "duration": 362,
    "start_time": "2023-06-20T10:40:46.591Z"
   },
   {
    "duration": 283,
    "start_time": "2023-06-20T10:40:53.413Z"
   },
   {
    "duration": 130,
    "start_time": "2023-06-20T10:40:59.060Z"
   },
   {
    "duration": 106,
    "start_time": "2023-06-20T10:43:04.556Z"
   },
   {
    "duration": 14,
    "start_time": "2023-06-20T10:45:32.038Z"
   },
   {
    "duration": 23,
    "start_time": "2023-06-20T10:45:40.261Z"
   },
   {
    "duration": 16,
    "start_time": "2023-06-20T10:45:58.521Z"
   },
   {
    "duration": 15,
    "start_time": "2023-06-20T10:54:12.172Z"
   },
   {
    "duration": 19,
    "start_time": "2023-06-20T10:54:36.190Z"
   },
   {
    "duration": 8,
    "start_time": "2023-06-20T10:55:08.553Z"
   },
   {
    "duration": 8,
    "start_time": "2023-06-20T10:55:19.988Z"
   },
   {
    "duration": 177,
    "start_time": "2023-06-20T10:55:42.126Z"
   },
   {
    "duration": 19,
    "start_time": "2023-06-20T10:56:12.888Z"
   },
   {
    "duration": 12,
    "start_time": "2023-06-20T10:56:43.598Z"
   },
   {
    "duration": 259,
    "start_time": "2023-06-20T10:57:38.289Z"
   },
   {
    "duration": 8,
    "start_time": "2023-06-20T10:58:47.805Z"
   },
   {
    "duration": 1252,
    "start_time": "2023-06-20T10:58:57.271Z"
   },
   {
    "duration": 81,
    "start_time": "2023-06-20T10:58:58.525Z"
   },
   {
    "duration": 20,
    "start_time": "2023-06-20T10:58:58.608Z"
   },
   {
    "duration": 40,
    "start_time": "2023-06-20T10:58:58.630Z"
   },
   {
    "duration": 27,
    "start_time": "2023-06-20T10:58:58.672Z"
   },
   {
    "duration": 12,
    "start_time": "2023-06-20T10:58:58.701Z"
   },
   {
    "duration": 33,
    "start_time": "2023-06-20T10:58:58.715Z"
   },
   {
    "duration": 43,
    "start_time": "2023-06-20T10:58:58.751Z"
   },
   {
    "duration": 12,
    "start_time": "2023-06-20T10:58:58.795Z"
   },
   {
    "duration": 8,
    "start_time": "2023-06-20T10:58:58.808Z"
   },
   {
    "duration": 7,
    "start_time": "2023-06-20T10:58:58.818Z"
   },
   {
    "duration": 28,
    "start_time": "2023-06-20T10:58:58.826Z"
   },
   {
    "duration": 28,
    "start_time": "2023-06-20T10:58:58.860Z"
   },
   {
    "duration": 15,
    "start_time": "2023-06-20T10:58:58.890Z"
   },
   {
    "duration": 10,
    "start_time": "2023-06-20T10:58:58.906Z"
   },
   {
    "duration": 180,
    "start_time": "2023-06-20T10:58:58.917Z"
   },
   {
    "duration": 143,
    "start_time": "2023-06-20T10:58:59.099Z"
   },
   {
    "duration": 4,
    "start_time": "2023-06-20T10:58:59.244Z"
   },
   {
    "duration": 308,
    "start_time": "2023-06-20T10:58:59.262Z"
   },
   {
    "duration": 10,
    "start_time": "2023-06-20T10:58:59.571Z"
   },
   {
    "duration": 321,
    "start_time": "2023-06-20T10:58:59.582Z"
   },
   {
    "duration": 8,
    "start_time": "2023-06-20T10:58:59.904Z"
   },
   {
    "duration": 292,
    "start_time": "2023-06-20T10:58:59.914Z"
   },
   {
    "duration": 162,
    "start_time": "2023-06-20T10:59:00.208Z"
   },
   {
    "duration": 16,
    "start_time": "2023-06-20T10:59:00.375Z"
   },
   {
    "duration": 92,
    "start_time": "2023-06-20T10:59:00.393Z"
   },
   {
    "duration": 587,
    "start_time": "2023-06-20T10:59:00.487Z"
   },
   {
    "duration": 10,
    "start_time": "2023-06-20T10:59:01.084Z"
   },
   {
    "duration": 8,
    "start_time": "2023-06-20T10:59:55.951Z"
   },
   {
    "duration": 91,
    "start_time": "2023-06-20T11:01:08.812Z"
   },
   {
    "duration": 18,
    "start_time": "2023-06-20T11:01:12.658Z"
   },
   {
    "duration": 278,
    "start_time": "2023-06-20T11:01:17.799Z"
   },
   {
    "duration": 305,
    "start_time": "2023-06-20T11:01:27.472Z"
   },
   {
    "duration": 52,
    "start_time": "2023-06-21T17:16:15.417Z"
   },
   {
    "duration": 1289,
    "start_time": "2023-06-21T17:16:20.217Z"
   },
   {
    "duration": 313,
    "start_time": "2023-06-21T17:16:21.508Z"
   },
   {
    "duration": 24,
    "start_time": "2023-06-21T17:16:21.822Z"
   },
   {
    "duration": 16,
    "start_time": "2023-06-21T17:16:32.891Z"
   },
   {
    "duration": 24,
    "start_time": "2023-06-21T17:17:12.547Z"
   },
   {
    "duration": 19,
    "start_time": "2023-06-21T17:17:45.145Z"
   },
   {
    "duration": 6,
    "start_time": "2023-06-21T17:17:48.100Z"
   },
   {
    "duration": 16,
    "start_time": "2023-06-21T17:17:48.851Z"
   },
   {
    "duration": 8,
    "start_time": "2023-06-21T17:17:50.915Z"
   },
   {
    "duration": 8,
    "start_time": "2023-06-21T17:17:51.541Z"
   },
   {
    "duration": 11,
    "start_time": "2023-06-21T17:17:53.000Z"
   },
   {
    "duration": 21,
    "start_time": "2023-06-21T17:18:09.440Z"
   },
   {
    "duration": 8,
    "start_time": "2023-06-21T17:18:15.870Z"
   },
   {
    "duration": 8,
    "start_time": "2023-06-21T17:18:23.071Z"
   },
   {
    "duration": 171,
    "start_time": "2023-06-21T17:18:45.554Z"
   },
   {
    "duration": 237,
    "start_time": "2023-06-21T17:19:16.798Z"
   },
   {
    "duration": 162,
    "start_time": "2023-06-21T17:19:20.997Z"
   },
   {
    "duration": 167,
    "start_time": "2023-06-21T17:19:25.305Z"
   },
   {
    "duration": 163,
    "start_time": "2023-06-21T17:19:39.260Z"
   },
   {
    "duration": 159,
    "start_time": "2023-06-21T17:19:42.440Z"
   },
   {
    "duration": 176,
    "start_time": "2023-06-21T17:20:07.611Z"
   },
   {
    "duration": 162,
    "start_time": "2023-06-21T17:20:13.116Z"
   },
   {
    "duration": 150,
    "start_time": "2023-06-21T17:20:46.971Z"
   },
   {
    "duration": 9,
    "start_time": "2023-06-21T17:20:53.814Z"
   },
   {
    "duration": 230,
    "start_time": "2023-06-21T17:20:55.361Z"
   },
   {
    "duration": 137,
    "start_time": "2023-06-21T17:21:20.464Z"
   },
   {
    "duration": 8,
    "start_time": "2023-06-21T17:21:26.598Z"
   },
   {
    "duration": 10,
    "start_time": "2023-06-21T17:21:27.633Z"
   },
   {
    "duration": 77,
    "start_time": "2023-06-21T17:21:32.748Z"
   },
   {
    "duration": 22,
    "start_time": "2023-06-21T17:21:32.951Z"
   },
   {
    "duration": 17,
    "start_time": "2023-06-21T17:21:33.431Z"
   },
   {
    "duration": 15,
    "start_time": "2023-06-21T17:21:33.802Z"
   },
   {
    "duration": 29,
    "start_time": "2023-06-21T17:21:35.752Z"
   },
   {
    "duration": 14,
    "start_time": "2023-06-21T17:21:37.336Z"
   },
   {
    "duration": 7,
    "start_time": "2023-06-21T17:21:39.039Z"
   },
   {
    "duration": 7,
    "start_time": "2023-06-21T17:21:39.902Z"
   },
   {
    "duration": 13,
    "start_time": "2023-06-21T17:22:01.419Z"
   },
   {
    "duration": 3,
    "start_time": "2023-06-21T17:22:36.519Z"
   },
   {
    "duration": 68,
    "start_time": "2023-06-21T17:22:37.024Z"
   },
   {
    "duration": 16,
    "start_time": "2023-06-21T17:22:37.170Z"
   },
   {
    "duration": 16,
    "start_time": "2023-06-21T17:22:37.734Z"
   },
   {
    "duration": 15,
    "start_time": "2023-06-21T17:22:39.219Z"
   },
   {
    "duration": 19,
    "start_time": "2023-06-21T17:22:46.902Z"
   },
   {
    "duration": 12,
    "start_time": "2023-06-21T17:22:50.449Z"
   },
   {
    "duration": 12,
    "start_time": "2023-06-21T17:22:53.109Z"
   },
   {
    "duration": 6,
    "start_time": "2023-06-21T17:23:04.325Z"
   },
   {
    "duration": 12,
    "start_time": "2023-06-21T17:23:10.921Z"
   },
   {
    "duration": 14,
    "start_time": "2023-06-21T17:23:35.235Z"
   },
   {
    "duration": 14,
    "start_time": "2023-06-21T17:23:38.912Z"
   },
   {
    "duration": 7,
    "start_time": "2023-06-21T17:23:50.641Z"
   },
   {
    "duration": 11,
    "start_time": "2023-06-21T17:24:31.323Z"
   },
   {
    "duration": 8,
    "start_time": "2023-06-21T17:24:42.749Z"
   },
   {
    "duration": 10,
    "start_time": "2023-06-21T17:24:43.446Z"
   },
   {
    "duration": 11,
    "start_time": "2023-06-21T17:24:44.730Z"
   },
   {
    "duration": 10,
    "start_time": "2023-06-21T17:24:46.509Z"
   },
   {
    "duration": 10,
    "start_time": "2023-06-21T17:24:53.776Z"
   },
   {
    "duration": 10,
    "start_time": "2023-06-21T17:25:03.470Z"
   },
   {
    "duration": 187,
    "start_time": "2023-06-21T17:25:08.316Z"
   },
   {
    "duration": 178,
    "start_time": "2023-06-21T17:28:22.815Z"
   },
   {
    "duration": 108,
    "start_time": "2023-06-21T17:28:43.417Z"
   },
   {
    "duration": 125,
    "start_time": "2023-06-21T17:28:58.992Z"
   },
   {
    "duration": 108,
    "start_time": "2023-06-21T17:29:03.802Z"
   },
   {
    "duration": 141,
    "start_time": "2023-06-21T17:29:59.834Z"
   },
   {
    "duration": 10,
    "start_time": "2023-06-21T17:30:02.129Z"
   },
   {
    "duration": 356,
    "start_time": "2023-06-21T17:30:13.318Z"
   },
   {
    "duration": 123,
    "start_time": "2023-06-21T17:30:24.962Z"
   },
   {
    "duration": 5,
    "start_time": "2023-06-21T17:31:08.121Z"
   },
   {
    "duration": 4,
    "start_time": "2023-06-21T17:32:11.409Z"
   },
   {
    "duration": 5,
    "start_time": "2023-06-21T17:32:20.351Z"
   },
   {
    "duration": 5,
    "start_time": "2023-06-21T17:32:41.064Z"
   },
   {
    "duration": 4,
    "start_time": "2023-06-21T17:33:09.748Z"
   },
   {
    "duration": 128,
    "start_time": "2023-06-21T17:33:22.301Z"
   },
   {
    "duration": 124,
    "start_time": "2023-06-21T17:33:31.087Z"
   },
   {
    "duration": 133,
    "start_time": "2023-06-21T17:33:51.401Z"
   },
   {
    "duration": 91,
    "start_time": "2023-06-21T17:34:00.434Z"
   },
   {
    "duration": 127,
    "start_time": "2023-06-21T17:34:05.642Z"
   },
   {
    "duration": 4,
    "start_time": "2023-06-21T17:34:27.971Z"
   },
   {
    "duration": 114,
    "start_time": "2023-06-21T17:34:31.772Z"
   },
   {
    "duration": 4,
    "start_time": "2023-06-21T17:34:33.343Z"
   },
   {
    "duration": 315,
    "start_time": "2023-06-21T17:35:56.849Z"
   },
   {
    "duration": 315,
    "start_time": "2023-06-21T17:36:21.397Z"
   },
   {
    "duration": 199,
    "start_time": "2023-06-21T17:36:28.242Z"
   },
   {
    "duration": 129,
    "start_time": "2023-06-21T17:37:34.136Z"
   },
   {
    "duration": 112,
    "start_time": "2023-06-21T17:41:25.792Z"
   },
   {
    "duration": 352,
    "start_time": "2023-06-21T17:41:44.147Z"
   },
   {
    "duration": 15,
    "start_time": "2023-06-21T17:42:16.498Z"
   },
   {
    "duration": 18,
    "start_time": "2023-06-21T17:46:36.044Z"
   },
   {
    "duration": 20,
    "start_time": "2023-06-21T17:46:47.509Z"
   },
   {
    "duration": 33,
    "start_time": "2023-06-21T17:48:33.768Z"
   },
   {
    "duration": 43,
    "start_time": "2023-06-21T17:48:45.741Z"
   },
   {
    "duration": 36,
    "start_time": "2023-06-21T17:48:57.195Z"
   },
   {
    "duration": 8,
    "start_time": "2023-06-21T17:52:48.441Z"
   },
   {
    "duration": 8,
    "start_time": "2023-06-21T17:52:55.213Z"
   },
   {
    "duration": 31,
    "start_time": "2023-06-21T17:53:37.187Z"
   },
   {
    "duration": 24,
    "start_time": "2023-06-21T17:56:28.615Z"
   },
   {
    "duration": 20,
    "start_time": "2023-06-21T17:57:22.550Z"
   },
   {
    "duration": 7,
    "start_time": "2023-06-21T17:57:51.986Z"
   },
   {
    "duration": 20,
    "start_time": "2023-06-21T17:57:55.094Z"
   },
   {
    "duration": 5,
    "start_time": "2023-06-21T17:58:02.015Z"
   },
   {
    "duration": 7,
    "start_time": "2023-06-21T17:59:12.608Z"
   },
   {
    "duration": 8,
    "start_time": "2023-06-21T17:59:21.385Z"
   },
   {
    "duration": 151,
    "start_time": "2023-06-21T18:05:04.648Z"
   },
   {
    "duration": 228,
    "start_time": "2023-06-21T18:05:30.333Z"
   },
   {
    "duration": 188,
    "start_time": "2023-06-21T18:07:41.229Z"
   },
   {
    "duration": 230,
    "start_time": "2023-06-21T18:08:11.397Z"
   },
   {
    "duration": 498,
    "start_time": "2023-06-21T18:08:23.102Z"
   },
   {
    "duration": 200,
    "start_time": "2023-06-21T18:09:58.706Z"
   },
   {
    "duration": 160,
    "start_time": "2023-06-21T18:10:08.146Z"
   },
   {
    "duration": 172,
    "start_time": "2023-06-21T18:10:11.522Z"
   },
   {
    "duration": 180,
    "start_time": "2023-06-21T18:11:35.608Z"
   },
   {
    "duration": 170,
    "start_time": "2023-06-21T18:11:50.933Z"
   },
   {
    "duration": 324,
    "start_time": "2023-06-21T18:14:17.897Z"
   },
   {
    "duration": 221,
    "start_time": "2023-06-21T18:14:47.444Z"
   },
   {
    "duration": 158,
    "start_time": "2023-06-21T18:14:58.131Z"
   },
   {
    "duration": 173,
    "start_time": "2023-06-21T18:15:11.447Z"
   },
   {
    "duration": 209,
    "start_time": "2023-06-21T18:15:28.764Z"
   },
   {
    "duration": 159,
    "start_time": "2023-06-21T18:15:41.607Z"
   },
   {
    "duration": 151,
    "start_time": "2023-06-21T18:17:41.052Z"
   },
   {
    "duration": 4,
    "start_time": "2023-06-21T18:29:46.392Z"
   },
   {
    "duration": 5,
    "start_time": "2023-06-21T18:30:34.585Z"
   },
   {
    "duration": 10,
    "start_time": "2023-06-21T18:31:33.406Z"
   },
   {
    "duration": 16,
    "start_time": "2023-06-21T18:34:46.519Z"
   },
   {
    "duration": 4,
    "start_time": "2023-06-21T18:35:15.804Z"
   },
   {
    "duration": 3,
    "start_time": "2023-06-21T18:42:27.648Z"
   },
   {
    "duration": 5,
    "start_time": "2023-06-21T18:42:36.985Z"
   },
   {
    "duration": 7,
    "start_time": "2023-06-21T18:46:45.140Z"
   },
   {
    "duration": 5,
    "start_time": "2023-06-21T18:47:41.418Z"
   },
   {
    "duration": 8,
    "start_time": "2023-06-21T18:47:51.114Z"
   },
   {
    "duration": 9,
    "start_time": "2023-06-21T18:56:28.368Z"
   },
   {
    "duration": 6,
    "start_time": "2023-06-21T18:57:27.070Z"
   },
   {
    "duration": 9,
    "start_time": "2023-06-21T18:58:56.005Z"
   },
   {
    "duration": 10,
    "start_time": "2023-06-21T18:59:03.815Z"
   },
   {
    "duration": 8,
    "start_time": "2023-06-21T18:59:10.567Z"
   },
   {
    "duration": 8,
    "start_time": "2023-06-21T18:59:35.072Z"
   },
   {
    "duration": 174,
    "start_time": "2023-06-21T19:02:35.431Z"
   },
   {
    "duration": 162,
    "start_time": "2023-06-21T19:03:43.397Z"
   },
   {
    "duration": 204,
    "start_time": "2023-06-21T19:05:01.362Z"
   },
   {
    "duration": 91,
    "start_time": "2023-06-21T19:07:28.418Z"
   },
   {
    "duration": 331,
    "start_time": "2023-06-21T19:07:42.007Z"
   },
   {
    "duration": 693,
    "start_time": "2023-06-21T19:07:58.899Z"
   },
   {
    "duration": 152,
    "start_time": "2023-06-21T19:08:39.973Z"
   },
   {
    "duration": 162,
    "start_time": "2023-06-21T19:08:51.042Z"
   },
   {
    "duration": 166,
    "start_time": "2023-06-21T19:09:01.528Z"
   },
   {
    "duration": 15,
    "start_time": "2023-06-21T19:10:05.095Z"
   },
   {
    "duration": 170,
    "start_time": "2023-06-21T19:10:11.351Z"
   },
   {
    "duration": 172,
    "start_time": "2023-06-21T19:11:12.048Z"
   },
   {
    "duration": 166,
    "start_time": "2023-06-21T19:11:33.884Z"
   },
   {
    "duration": 169,
    "start_time": "2023-06-21T19:12:33.198Z"
   },
   {
    "duration": 97,
    "start_time": "2023-06-21T19:19:03.247Z"
   },
   {
    "duration": 4,
    "start_time": "2023-06-21T19:20:12.111Z"
   },
   {
    "duration": 163,
    "start_time": "2023-06-21T19:21:11.400Z"
   },
   {
    "duration": 160,
    "start_time": "2023-06-21T19:22:56.775Z"
   },
   {
    "duration": 134,
    "start_time": "2023-06-21T19:23:15.930Z"
   },
   {
    "duration": 138,
    "start_time": "2023-06-21T19:23:22.404Z"
   },
   {
    "duration": 126,
    "start_time": "2023-06-21T19:23:29.010Z"
   },
   {
    "duration": 172,
    "start_time": "2023-06-21T19:23:33.126Z"
   },
   {
    "duration": 175,
    "start_time": "2023-06-21T19:23:54.799Z"
   },
   {
    "duration": 163,
    "start_time": "2023-06-21T19:24:00.983Z"
   },
   {
    "duration": 155,
    "start_time": "2023-06-21T19:24:09.329Z"
   },
   {
    "duration": 161,
    "start_time": "2023-06-21T19:24:15.385Z"
   },
   {
    "duration": 165,
    "start_time": "2023-06-21T19:30:16.653Z"
   },
   {
    "duration": 135,
    "start_time": "2023-06-21T19:33:33.888Z"
   },
   {
    "duration": 127,
    "start_time": "2023-06-21T19:34:37.013Z"
   },
   {
    "duration": 142,
    "start_time": "2023-06-21T19:35:21.090Z"
   },
   {
    "duration": 156,
    "start_time": "2023-06-21T19:35:29.128Z"
   },
   {
    "duration": 153,
    "start_time": "2023-06-21T19:35:38.128Z"
   },
   {
    "duration": 156,
    "start_time": "2023-06-21T19:35:44.720Z"
   },
   {
    "duration": 162,
    "start_time": "2023-06-21T19:35:50.289Z"
   },
   {
    "duration": 124,
    "start_time": "2023-06-21T19:36:02.012Z"
   },
   {
    "duration": 537,
    "start_time": "2023-06-21T19:38:42.999Z"
   },
   {
    "duration": 92,
    "start_time": "2023-06-21T19:41:17.625Z"
   },
   {
    "duration": 135,
    "start_time": "2023-06-21T19:41:23.968Z"
   },
   {
    "duration": 171,
    "start_time": "2023-06-21T19:41:30.902Z"
   },
   {
    "duration": 137,
    "start_time": "2023-06-21T19:41:36.111Z"
   },
   {
    "duration": 140,
    "start_time": "2023-06-21T19:41:41.597Z"
   },
   {
    "duration": 142,
    "start_time": "2023-06-21T19:41:48.692Z"
   },
   {
    "duration": 145,
    "start_time": "2023-06-21T19:42:22.850Z"
   },
   {
    "duration": 126,
    "start_time": "2023-06-21T19:44:38.205Z"
   },
   {
    "duration": 88,
    "start_time": "2023-06-21T19:46:44.279Z"
   },
   {
    "duration": 123,
    "start_time": "2023-06-21T19:46:52.503Z"
   },
   {
    "duration": 130,
    "start_time": "2023-06-21T19:47:04.598Z"
   },
   {
    "duration": 168,
    "start_time": "2023-06-21T19:49:03.475Z"
   },
   {
    "duration": 15,
    "start_time": "2023-06-21T19:51:15.895Z"
   },
   {
    "duration": 19,
    "start_time": "2023-06-21T19:52:58.467Z"
   },
   {
    "duration": 17,
    "start_time": "2023-06-21T19:53:25.398Z"
   },
   {
    "duration": 16,
    "start_time": "2023-06-21T19:53:51.794Z"
   },
   {
    "duration": 6,
    "start_time": "2023-06-21T19:54:12.768Z"
   },
   {
    "duration": 134,
    "start_time": "2023-06-21T19:58:57.561Z"
   },
   {
    "duration": 11,
    "start_time": "2023-06-21T20:00:12.091Z"
   },
   {
    "duration": 10,
    "start_time": "2023-06-21T20:01:51.127Z"
   },
   {
    "duration": 10,
    "start_time": "2023-06-21T20:02:03.397Z"
   },
   {
    "duration": 10,
    "start_time": "2023-06-21T20:02:11.723Z"
   },
   {
    "duration": 8,
    "start_time": "2023-06-21T20:02:26.238Z"
   },
   {
    "duration": 8,
    "start_time": "2023-06-21T20:02:29.837Z"
   },
   {
    "duration": 15,
    "start_time": "2023-06-21T20:05:50.564Z"
   },
   {
    "duration": 9,
    "start_time": "2023-06-21T20:06:04.097Z"
   },
   {
    "duration": 67,
    "start_time": "2023-06-21T20:06:14.748Z"
   },
   {
    "duration": 18,
    "start_time": "2023-06-21T20:06:15.108Z"
   },
   {
    "duration": 20,
    "start_time": "2023-06-21T20:06:15.591Z"
   },
   {
    "duration": 18,
    "start_time": "2023-06-21T20:06:16.008Z"
   },
   {
    "duration": 25,
    "start_time": "2023-06-21T20:06:16.908Z"
   },
   {
    "duration": 11,
    "start_time": "2023-06-21T20:06:17.741Z"
   },
   {
    "duration": 6,
    "start_time": "2023-06-21T20:06:18.834Z"
   },
   {
    "duration": 7,
    "start_time": "2023-06-21T20:06:19.615Z"
   },
   {
    "duration": 6,
    "start_time": "2023-06-21T20:06:20.545Z"
   },
   {
    "duration": 10,
    "start_time": "2023-06-21T20:06:21.166Z"
   },
   {
    "duration": 12,
    "start_time": "2023-06-21T20:06:22.317Z"
   },
   {
    "duration": 11,
    "start_time": "2023-06-21T20:06:23.144Z"
   },
   {
    "duration": 10,
    "start_time": "2023-06-21T20:06:25.367Z"
   },
   {
    "duration": 149,
    "start_time": "2023-06-21T20:06:26.752Z"
   },
   {
    "duration": 109,
    "start_time": "2023-06-21T20:06:28.630Z"
   },
   {
    "duration": 5,
    "start_time": "2023-06-21T20:06:29.792Z"
   },
   {
    "duration": 206,
    "start_time": "2023-06-21T20:06:31.841Z"
   },
   {
    "duration": 134,
    "start_time": "2023-06-21T20:06:34.955Z"
   },
   {
    "duration": 11,
    "start_time": "2023-06-21T20:06:36.208Z"
   },
   {
    "duration": 160,
    "start_time": "2023-06-21T20:06:40.217Z"
   },
   {
    "duration": 147,
    "start_time": "2023-06-21T20:06:49.893Z"
   },
   {
    "duration": 6,
    "start_time": "2023-06-21T20:06:54.128Z"
   },
   {
    "duration": 9,
    "start_time": "2023-06-21T20:07:26.322Z"
   },
   {
    "duration": 10,
    "start_time": "2023-06-21T20:07:29.934Z"
   },
   {
    "duration": 7,
    "start_time": "2023-06-21T20:07:53.235Z"
   },
   {
    "duration": 11,
    "start_time": "2023-06-21T20:07:56.746Z"
   },
   {
    "duration": 10,
    "start_time": "2023-06-21T20:08:19.583Z"
   },
   {
    "duration": 11,
    "start_time": "2023-06-21T20:08:30.050Z"
   },
   {
    "duration": 73,
    "start_time": "2023-06-21T20:08:45.697Z"
   },
   {
    "duration": 14,
    "start_time": "2023-06-21T20:08:53.111Z"
   },
   {
    "duration": 28,
    "start_time": "2023-06-21T20:09:15.053Z"
   },
   {
    "duration": 9,
    "start_time": "2023-06-21T20:12:09.705Z"
   },
   {
    "duration": 9,
    "start_time": "2023-06-21T20:18:23.295Z"
   },
   {
    "duration": 8,
    "start_time": "2023-06-21T20:18:31.103Z"
   },
   {
    "duration": 154,
    "start_time": "2023-06-21T20:18:43.469Z"
   },
   {
    "duration": 8,
    "start_time": "2023-06-21T20:18:45.696Z"
   },
   {
    "duration": 386,
    "start_time": "2023-06-21T20:19:36.538Z"
   },
   {
    "duration": 6,
    "start_time": "2023-06-21T20:20:19.660Z"
   },
   {
    "duration": 240,
    "start_time": "2023-06-21T20:20:22.055Z"
   },
   {
    "duration": 10,
    "start_time": "2023-06-21T20:21:01.963Z"
   },
   {
    "duration": 9,
    "start_time": "2023-06-21T20:21:06.014Z"
   },
   {
    "duration": 155,
    "start_time": "2023-06-21T20:21:26.785Z"
   },
   {
    "duration": 151,
    "start_time": "2023-06-21T20:22:50.588Z"
   },
   {
    "duration": 34,
    "start_time": "2023-06-21T20:23:10.996Z"
   },
   {
    "duration": 10,
    "start_time": "2023-06-21T20:23:13.111Z"
   },
   {
    "duration": 157,
    "start_time": "2023-06-21T20:23:14.543Z"
   },
   {
    "duration": 158,
    "start_time": "2023-06-21T20:23:19.468Z"
   },
   {
    "duration": 154,
    "start_time": "2023-06-21T20:30:59.229Z"
   },
   {
    "duration": 162,
    "start_time": "2023-06-21T20:31:54.752Z"
   },
   {
    "duration": 186,
    "start_time": "2023-06-21T20:32:31.922Z"
   },
   {
    "duration": 171,
    "start_time": "2023-06-21T20:32:38.695Z"
   },
   {
    "duration": 1338,
    "start_time": "2023-06-21T20:34:14.361Z"
   },
   {
    "duration": 218,
    "start_time": "2023-06-21T20:34:45.964Z"
   },
   {
    "duration": 183,
    "start_time": "2023-06-21T20:35:42.307Z"
   },
   {
    "duration": 191,
    "start_time": "2023-06-21T20:36:03.627Z"
   },
   {
    "duration": 178,
    "start_time": "2023-06-21T20:37:57.143Z"
   },
   {
    "duration": 169,
    "start_time": "2023-06-21T20:37:58.137Z"
   },
   {
    "duration": 175,
    "start_time": "2023-06-21T20:38:01.908Z"
   },
   {
    "duration": 177,
    "start_time": "2023-06-21T20:38:04.561Z"
   },
   {
    "duration": 85,
    "start_time": "2023-06-22T10:49:56.227Z"
   },
   {
    "duration": 1770,
    "start_time": "2023-06-22T10:50:04.594Z"
   },
   {
    "duration": 457,
    "start_time": "2023-06-22T10:50:06.368Z"
   },
   {
    "duration": 28,
    "start_time": "2023-06-22T10:50:06.828Z"
   },
   {
    "duration": 107,
    "start_time": "2023-06-22T10:50:06.858Z"
   },
   {
    "duration": 88,
    "start_time": "2023-06-22T10:50:06.968Z"
   },
   {
    "duration": 89,
    "start_time": "2023-06-22T10:50:07.058Z"
   },
   {
    "duration": 25,
    "start_time": "2023-06-22T10:50:07.149Z"
   },
   {
    "duration": 83,
    "start_time": "2023-06-22T10:50:07.177Z"
   },
   {
    "duration": 50,
    "start_time": "2023-06-22T10:50:07.262Z"
   },
   {
    "duration": 41,
    "start_time": "2023-06-22T10:50:07.314Z"
   },
   {
    "duration": 18,
    "start_time": "2023-06-22T10:50:07.357Z"
   },
   {
    "duration": 78,
    "start_time": "2023-06-22T10:50:07.376Z"
   },
   {
    "duration": 12,
    "start_time": "2023-06-22T10:50:07.456Z"
   },
   {
    "duration": 197,
    "start_time": "2023-06-22T10:50:07.471Z"
   },
   {
    "duration": 267,
    "start_time": "2023-06-22T10:50:07.670Z"
   },
   {
    "duration": 131,
    "start_time": "2023-06-22T10:50:07.947Z"
   },
   {
    "duration": 21,
    "start_time": "2023-06-22T10:50:08.086Z"
   },
   {
    "duration": 266,
    "start_time": "2023-06-22T10:50:08.110Z"
   },
   {
    "duration": 157,
    "start_time": "2023-06-22T10:50:08.378Z"
   },
   {
    "duration": 12,
    "start_time": "2023-06-22T10:50:08.537Z"
   },
   {
    "duration": 271,
    "start_time": "2023-06-22T10:50:08.551Z"
   },
   {
    "duration": 11,
    "start_time": "2023-06-22T10:50:08.826Z"
   },
   {
    "duration": 226,
    "start_time": "2023-06-22T10:50:08.843Z"
   },
   {
    "duration": 30,
    "start_time": "2023-06-22T10:50:09.070Z"
   },
   {
    "duration": 831,
    "start_time": "2023-06-22T10:50:09.102Z"
   },
   {
    "duration": 162,
    "start_time": "2023-06-22T10:50:09.935Z"
   },
   {
    "duration": 17,
    "start_time": "2023-06-22T10:50:10.099Z"
   },
   {
    "duration": 39,
    "start_time": "2023-06-22T10:50:10.117Z"
   },
   {
    "duration": 449,
    "start_time": "2023-06-22T10:50:10.157Z"
   },
   {
    "duration": 57,
    "start_time": "2023-06-22T10:50:10.610Z"
   },
   {
    "duration": 15,
    "start_time": "2023-06-22T10:50:10.670Z"
   },
   {
    "duration": 244,
    "start_time": "2023-06-22T10:50:10.687Z"
   },
   {
    "duration": 240,
    "start_time": "2023-06-22T10:50:10.933Z"
   },
   {
    "duration": 255,
    "start_time": "2023-06-22T10:50:11.175Z"
   },
   {
    "duration": 224,
    "start_time": "2023-06-22T10:50:11.434Z"
   },
   {
    "duration": 24,
    "start_time": "2023-06-22T10:50:11.659Z"
   },
   {
    "duration": 30,
    "start_time": "2023-06-22T10:50:30.326Z"
   },
   {
    "duration": 200,
    "start_time": "2023-06-22T10:56:32.153Z"
   },
   {
    "duration": 11,
    "start_time": "2023-06-22T10:57:35.916Z"
   },
   {
    "duration": 26,
    "start_time": "2023-06-22T10:57:47.948Z"
   },
   {
    "duration": 21,
    "start_time": "2023-06-22T10:58:16.328Z"
   },
   {
    "duration": 14,
    "start_time": "2023-06-22T10:59:18.539Z"
   },
   {
    "duration": 18,
    "start_time": "2023-06-22T10:59:40.807Z"
   },
   {
    "duration": 23,
    "start_time": "2023-06-22T11:00:00.313Z"
   },
   {
    "duration": 37,
    "start_time": "2023-06-22T11:00:03.773Z"
   },
   {
    "duration": 18,
    "start_time": "2023-06-22T11:02:44.561Z"
   },
   {
    "duration": 8,
    "start_time": "2023-06-22T11:02:46.144Z"
   },
   {
    "duration": 18,
    "start_time": "2023-06-22T11:03:16.821Z"
   },
   {
    "duration": 17,
    "start_time": "2023-06-22T11:03:25.130Z"
   },
   {
    "duration": 10,
    "start_time": "2023-06-22T11:03:26.749Z"
   },
   {
    "duration": 22,
    "start_time": "2023-06-22T11:04:27.407Z"
   },
   {
    "duration": 15,
    "start_time": "2023-06-22T11:04:28.613Z"
   },
   {
    "duration": 3026,
    "start_time": "2023-06-22T11:06:43.501Z"
   },
   {
    "duration": 8,
    "start_time": "2023-06-22T11:07:28.632Z"
   },
   {
    "duration": 1519,
    "start_time": "2023-06-22T11:09:54.319Z"
   },
   {
    "duration": 5,
    "start_time": "2023-06-22T11:10:30.752Z"
   },
   {
    "duration": 10,
    "start_time": "2023-06-22T11:10:39.097Z"
   },
   {
    "duration": 8,
    "start_time": "2023-06-22T11:11:07.901Z"
   },
   {
    "duration": 12,
    "start_time": "2023-06-22T11:13:01.612Z"
   },
   {
    "duration": 119,
    "start_time": "2023-06-22T11:13:20.198Z"
   },
   {
    "duration": 33,
    "start_time": "2023-06-22T11:13:26.680Z"
   },
   {
    "duration": 97,
    "start_time": "2023-06-22T11:13:28.605Z"
   },
   {
    "duration": 14,
    "start_time": "2023-06-22T11:13:43.810Z"
   },
   {
    "duration": 45938,
    "start_time": "2023-06-22T11:13:47.729Z"
   },
   {
    "duration": 84,
    "start_time": "2023-06-22T11:14:46.118Z"
   },
   {
    "duration": 53,
    "start_time": "2023-06-22T11:14:53.613Z"
   },
   {
    "duration": 23,
    "start_time": "2023-06-22T11:15:05.700Z"
   },
   {
    "duration": 11,
    "start_time": "2023-06-22T11:15:08.056Z"
   },
   {
    "duration": 23,
    "start_time": "2023-06-22T11:16:09.702Z"
   },
   {
    "duration": 1868,
    "start_time": "2023-06-22T11:16:18.613Z"
   },
   {
    "duration": 157,
    "start_time": "2023-06-22T11:17:01.460Z"
   },
   {
    "duration": 5,
    "start_time": "2023-06-22T11:21:13.847Z"
   },
   {
    "duration": 16,
    "start_time": "2023-06-22T11:22:53.949Z"
   },
   {
    "duration": 11,
    "start_time": "2023-06-22T11:22:54.551Z"
   },
   {
    "duration": 12,
    "start_time": "2023-06-22T11:23:08.435Z"
   },
   {
    "duration": 9,
    "start_time": "2023-06-22T11:23:57.343Z"
   },
   {
    "duration": 42,
    "start_time": "2023-06-22T11:24:32.361Z"
   },
   {
    "duration": 126,
    "start_time": "2023-06-22T11:27:04.418Z"
   },
   {
    "duration": 34,
    "start_time": "2023-06-22T11:27:31.601Z"
   },
   {
    "duration": 22,
    "start_time": "2023-06-22T11:27:43.319Z"
   },
   {
    "duration": 12,
    "start_time": "2023-06-22T11:34:52.016Z"
   },
   {
    "duration": 14,
    "start_time": "2023-06-22T11:35:03.619Z"
   },
   {
    "duration": 7,
    "start_time": "2023-06-22T11:44:52.631Z"
   },
   {
    "duration": 1376,
    "start_time": "2023-06-22T11:45:23.318Z"
   },
   {
    "duration": 107,
    "start_time": "2023-06-22T11:45:24.696Z"
   },
   {
    "duration": 28,
    "start_time": "2023-06-22T11:45:24.808Z"
   },
   {
    "duration": 22,
    "start_time": "2023-06-22T11:45:24.838Z"
   },
   {
    "duration": 59,
    "start_time": "2023-06-22T11:45:24.863Z"
   },
   {
    "duration": 37,
    "start_time": "2023-06-22T11:45:24.924Z"
   },
   {
    "duration": 9,
    "start_time": "2023-06-22T11:45:24.963Z"
   },
   {
    "duration": 64,
    "start_time": "2023-06-22T11:45:24.974Z"
   },
   {
    "duration": 22,
    "start_time": "2023-06-22T11:45:25.040Z"
   },
   {
    "duration": 21,
    "start_time": "2023-06-22T11:45:25.064Z"
   },
   {
    "duration": 46,
    "start_time": "2023-06-22T11:45:25.087Z"
   },
   {
    "duration": 15,
    "start_time": "2023-06-22T11:45:25.139Z"
   },
   {
    "duration": 12,
    "start_time": "2023-06-22T11:45:25.156Z"
   },
   {
    "duration": 63,
    "start_time": "2023-06-22T11:45:25.172Z"
   },
   {
    "duration": 216,
    "start_time": "2023-06-22T11:45:25.238Z"
   },
   {
    "duration": 176,
    "start_time": "2023-06-22T11:45:25.456Z"
   },
   {
    "duration": 6,
    "start_time": "2023-06-22T11:45:25.634Z"
   },
   {
    "duration": 231,
    "start_time": "2023-06-22T11:45:25.642Z"
   },
   {
    "duration": 164,
    "start_time": "2023-06-22T11:45:25.875Z"
   },
   {
    "duration": 12,
    "start_time": "2023-06-22T11:45:26.041Z"
   },
   {
    "duration": 308,
    "start_time": "2023-06-22T11:45:26.056Z"
   },
   {
    "duration": 9,
    "start_time": "2023-06-22T11:45:26.380Z"
   },
   {
    "duration": 332,
    "start_time": "2023-06-22T11:45:26.391Z"
   },
   {
    "duration": 15,
    "start_time": "2023-06-22T11:45:26.727Z"
   },
   {
    "duration": 530,
    "start_time": "2023-06-22T11:45:26.747Z"
   },
   {
    "duration": 178,
    "start_time": "2023-06-22T11:45:27.279Z"
   },
   {
    "duration": 21,
    "start_time": "2023-06-22T11:45:27.459Z"
   },
   {
    "duration": 153,
    "start_time": "2023-06-22T11:45:27.482Z"
   },
   {
    "duration": 432,
    "start_time": "2023-06-22T11:45:27.637Z"
   },
   {
    "duration": 51,
    "start_time": "2023-06-22T11:45:28.077Z"
   },
   {
    "duration": 20,
    "start_time": "2023-06-22T11:45:28.130Z"
   },
   {
    "duration": 289,
    "start_time": "2023-06-22T11:45:28.153Z"
   },
   {
    "duration": 243,
    "start_time": "2023-06-22T11:45:28.445Z"
   },
   {
    "duration": 228,
    "start_time": "2023-06-22T11:45:28.690Z"
   },
   {
    "duration": 265,
    "start_time": "2023-06-22T11:45:28.920Z"
   },
   {
    "duration": 9,
    "start_time": "2023-06-22T11:45:29.187Z"
   },
   {
    "duration": 77,
    "start_time": "2023-06-22T11:45:29.198Z"
   },
   {
    "duration": 56,
    "start_time": "2023-06-22T11:45:29.280Z"
   },
   {
    "duration": 194,
    "start_time": "2023-06-22T11:45:29.343Z"
   },
   {
    "duration": 8,
    "start_time": "2023-06-22T11:48:34.357Z"
   },
   {
    "duration": 36,
    "start_time": "2023-06-22T11:48:36.225Z"
   },
   {
    "duration": 11,
    "start_time": "2023-06-22T11:49:03.507Z"
   },
   {
    "duration": 31,
    "start_time": "2023-06-22T11:49:05.815Z"
   },
   {
    "duration": 33,
    "start_time": "2023-06-22T11:49:21.846Z"
   },
   {
    "duration": 36,
    "start_time": "2023-06-22T11:51:38.526Z"
   },
   {
    "duration": 13,
    "start_time": "2023-06-22T11:54:32.959Z"
   },
   {
    "duration": 129,
    "start_time": "2023-06-22T11:59:00.417Z"
   },
   {
    "duration": 17,
    "start_time": "2023-06-22T11:59:35.220Z"
   },
   {
    "duration": 36,
    "start_time": "2023-06-22T12:03:51.015Z"
   },
   {
    "duration": 33,
    "start_time": "2023-06-22T12:04:12.940Z"
   },
   {
    "duration": 16,
    "start_time": "2023-06-22T12:04:35.211Z"
   },
   {
    "duration": 38,
    "start_time": "2023-06-22T12:04:37.120Z"
   },
   {
    "duration": 25,
    "start_time": "2023-06-22T12:04:49.239Z"
   },
   {
    "duration": 27,
    "start_time": "2023-06-22T12:04:55.738Z"
   },
   {
    "duration": 37,
    "start_time": "2023-06-22T12:04:59.209Z"
   },
   {
    "duration": 29,
    "start_time": "2023-06-22T12:05:35.624Z"
   },
   {
    "duration": 27,
    "start_time": "2023-06-22T12:05:48.831Z"
   },
   {
    "duration": 43,
    "start_time": "2023-06-22T12:06:00.000Z"
   },
   {
    "duration": 35,
    "start_time": "2023-06-22T12:06:34.012Z"
   },
   {
    "duration": 46,
    "start_time": "2023-06-22T12:08:32.373Z"
   },
   {
    "duration": 15,
    "start_time": "2023-06-22T12:11:09.743Z"
   },
   {
    "duration": 13,
    "start_time": "2023-06-22T12:11:38.320Z"
   },
   {
    "duration": 17,
    "start_time": "2023-06-22T12:12:21.807Z"
   },
   {
    "duration": 11,
    "start_time": "2023-06-22T12:17:51.047Z"
   },
   {
    "duration": 90,
    "start_time": "2023-06-22T12:26:46.815Z"
   },
   {
    "duration": 59,
    "start_time": "2023-06-22T12:26:53.244Z"
   },
   {
    "duration": 115,
    "start_time": "2023-06-22T12:28:54.542Z"
   },
   {
    "duration": 10,
    "start_time": "2023-06-22T12:31:49.242Z"
   },
   {
    "duration": 6,
    "start_time": "2023-06-22T12:32:57.351Z"
   },
   {
    "duration": 20,
    "start_time": "2023-06-22T12:33:37.610Z"
   },
   {
    "duration": 17,
    "start_time": "2023-06-22T12:33:49.745Z"
   },
   {
    "duration": 30,
    "start_time": "2023-06-22T12:34:43.220Z"
   },
   {
    "duration": 26,
    "start_time": "2023-06-22T12:34:48.371Z"
   },
   {
    "duration": 32,
    "start_time": "2023-06-22T12:34:51.962Z"
   },
   {
    "duration": 64,
    "start_time": "2023-06-26T11:06:09.861Z"
   },
   {
    "duration": 1593,
    "start_time": "2023-06-26T11:06:12.499Z"
   },
   {
    "duration": 455,
    "start_time": "2023-06-26T11:06:14.098Z"
   },
   {
    "duration": 23,
    "start_time": "2023-06-26T11:06:20.347Z"
   },
   {
    "duration": 75,
    "start_time": "2023-06-26T11:06:39.745Z"
   },
   {
    "duration": 23,
    "start_time": "2023-06-26T11:06:40.920Z"
   },
   {
    "duration": 23,
    "start_time": "2023-06-26T11:06:57.576Z"
   },
   {
    "duration": 23,
    "start_time": "2023-06-26T11:07:02.419Z"
   },
   {
    "duration": 16,
    "start_time": "2023-06-26T11:07:08.223Z"
   },
   {
    "duration": 20,
    "start_time": "2023-06-26T11:07:10.845Z"
   },
   {
    "duration": 9,
    "start_time": "2023-06-26T11:08:04.697Z"
   },
   {
    "duration": 14,
    "start_time": "2023-06-26T11:09:25.560Z"
   },
   {
    "duration": 9,
    "start_time": "2023-06-26T11:09:30.664Z"
   },
   {
    "duration": 9,
    "start_time": "2023-06-26T11:09:31.712Z"
   },
   {
    "duration": 11,
    "start_time": "2023-06-26T11:09:32.761Z"
   },
   {
    "duration": 8,
    "start_time": "2023-06-26T11:09:34.537Z"
   },
   {
    "duration": 11,
    "start_time": "2023-06-26T11:10:00.026Z"
   },
   {
    "duration": 188,
    "start_time": "2023-06-26T11:10:30.093Z"
   },
   {
    "duration": 122,
    "start_time": "2023-06-26T11:10:40.421Z"
   },
   {
    "duration": 176,
    "start_time": "2023-06-26T11:11:30.204Z"
   },
   {
    "duration": 143,
    "start_time": "2023-06-26T11:11:47.001Z"
   },
   {
    "duration": 13,
    "start_time": "2023-06-26T11:18:29.111Z"
   },
   {
    "duration": 10,
    "start_time": "2023-06-26T11:19:12.752Z"
   },
   {
    "duration": 15,
    "start_time": "2023-06-26T11:20:50.686Z"
   },
   {
    "duration": 84,
    "start_time": "2023-06-26T11:21:22.135Z"
   },
   {
    "duration": 17,
    "start_time": "2023-06-26T11:21:26.503Z"
   },
   {
    "duration": 10,
    "start_time": "2023-06-26T11:22:01.532Z"
   },
   {
    "duration": 9,
    "start_time": "2023-06-26T11:24:38.356Z"
   },
   {
    "duration": 9,
    "start_time": "2023-06-26T11:24:41.906Z"
   },
   {
    "duration": 12,
    "start_time": "2023-06-26T11:24:46.607Z"
   },
   {
    "duration": 9,
    "start_time": "2023-06-26T11:25:01.305Z"
   },
   {
    "duration": 8,
    "start_time": "2023-06-26T11:25:25.411Z"
   },
   {
    "duration": 3,
    "start_time": "2023-06-26T11:25:30.125Z"
   },
   {
    "duration": 73,
    "start_time": "2023-06-26T11:25:30.209Z"
   },
   {
    "duration": 18,
    "start_time": "2023-06-26T11:25:30.642Z"
   },
   {
    "duration": 31,
    "start_time": "2023-06-26T11:25:31.165Z"
   },
   {
    "duration": 15,
    "start_time": "2023-06-26T11:25:31.700Z"
   },
   {
    "duration": 26,
    "start_time": "2023-06-26T11:25:33.503Z"
   },
   {
    "duration": 10,
    "start_time": "2023-06-26T11:25:35.013Z"
   },
   {
    "duration": 7,
    "start_time": "2023-06-26T11:25:36.416Z"
   },
   {
    "duration": 8,
    "start_time": "2023-06-26T11:25:37.494Z"
   },
   {
    "duration": 7,
    "start_time": "2023-06-26T11:25:39.625Z"
   },
   {
    "duration": 13,
    "start_time": "2023-06-26T11:25:39.819Z"
   },
   {
    "duration": 15,
    "start_time": "2023-06-26T11:25:40.106Z"
   },
   {
    "duration": 11,
    "start_time": "2023-06-26T11:25:40.608Z"
   },
   {
    "duration": 13,
    "start_time": "2023-06-26T11:25:42.192Z"
   },
   {
    "duration": 167,
    "start_time": "2023-06-26T11:25:42.731Z"
   },
   {
    "duration": 151,
    "start_time": "2023-06-26T11:25:44.993Z"
   },
   {
    "duration": 9,
    "start_time": "2023-06-26T11:25:46.371Z"
   },
   {
    "duration": 175,
    "start_time": "2023-06-26T11:25:46.908Z"
   },
   {
    "duration": 252,
    "start_time": "2023-06-26T11:25:48.475Z"
   },
   {
    "duration": 11,
    "start_time": "2023-06-26T11:25:50.603Z"
   },
   {
    "duration": 8,
    "start_time": "2023-06-26T11:26:15.731Z"
   },
   {
    "duration": 10,
    "start_time": "2023-06-26T11:26:35.146Z"
   },
   {
    "duration": 8,
    "start_time": "2023-06-26T11:30:32.108Z"
   },
   {
    "duration": 9,
    "start_time": "2023-06-26T11:30:34.736Z"
   },
   {
    "duration": 164,
    "start_time": "2023-06-26T11:30:43.125Z"
   },
   {
    "duration": 11,
    "start_time": "2023-06-26T11:30:44.708Z"
   },
   {
    "duration": 406,
    "start_time": "2023-06-26T11:30:46.265Z"
   },
   {
    "duration": 152,
    "start_time": "2023-06-26T11:30:46.873Z"
   },
   {
    "duration": 18,
    "start_time": "2023-06-26T11:30:47.904Z"
   },
   {
    "duration": 6,
    "start_time": "2023-06-26T11:30:48.922Z"
   },
   {
    "duration": 329,
    "start_time": "2023-06-26T11:30:50.993Z"
   },
   {
    "duration": 34,
    "start_time": "2023-06-26T11:30:55.192Z"
   },
   {
    "duration": 13,
    "start_time": "2023-06-26T11:30:56.391Z"
   },
   {
    "duration": 200,
    "start_time": "2023-06-26T11:30:57.804Z"
   },
   {
    "duration": 204,
    "start_time": "2023-06-26T11:30:58.997Z"
   },
   {
    "duration": 185,
    "start_time": "2023-06-26T11:31:16.387Z"
   },
   {
    "duration": 349,
    "start_time": "2023-06-26T11:31:17.910Z"
   },
   {
    "duration": 7,
    "start_time": "2023-06-26T11:31:35.032Z"
   },
   {
    "duration": 39,
    "start_time": "2023-06-26T11:31:50.417Z"
   },
   {
    "duration": 25,
    "start_time": "2023-06-26T11:31:57.569Z"
   },
   {
    "duration": 11,
    "start_time": "2023-06-26T11:49:13.568Z"
   },
   {
    "duration": 19,
    "start_time": "2023-06-26T11:49:27.309Z"
   },
   {
    "duration": 13,
    "start_time": "2023-06-26T11:53:47.791Z"
   },
   {
    "duration": 16,
    "start_time": "2023-06-26T11:54:10.318Z"
   },
   {
    "duration": 12,
    "start_time": "2023-06-26T11:54:28.410Z"
   },
   {
    "duration": 7,
    "start_time": "2023-06-26T11:54:28.878Z"
   },
   {
    "duration": 6,
    "start_time": "2023-06-26T11:55:02.751Z"
   },
   {
    "duration": 168,
    "start_time": "2023-06-26T11:55:21.301Z"
   },
   {
    "duration": 1394,
    "start_time": "2023-06-26T11:55:32.106Z"
   },
   {
    "duration": 13,
    "start_time": "2023-06-26T11:55:50.010Z"
   },
   {
    "duration": 13,
    "start_time": "2023-06-26T11:56:09.013Z"
   },
   {
    "duration": 4,
    "start_time": "2023-06-26T11:57:11.722Z"
   },
   {
    "duration": 1200,
    "start_time": "2023-06-26T11:57:17.507Z"
   },
   {
    "duration": 68,
    "start_time": "2023-06-26T11:57:18.709Z"
   },
   {
    "duration": 158,
    "start_time": "2023-06-26T11:57:18.779Z"
   },
   {
    "duration": 0,
    "start_time": "2023-06-26T11:57:18.941Z"
   },
   {
    "duration": 0,
    "start_time": "2023-06-26T11:57:18.942Z"
   },
   {
    "duration": 0,
    "start_time": "2023-06-26T11:57:18.944Z"
   },
   {
    "duration": 0,
    "start_time": "2023-06-26T11:57:18.945Z"
   },
   {
    "duration": 0,
    "start_time": "2023-06-26T11:57:18.946Z"
   },
   {
    "duration": 0,
    "start_time": "2023-06-26T11:57:18.948Z"
   },
   {
    "duration": 0,
    "start_time": "2023-06-26T11:57:18.948Z"
   },
   {
    "duration": 0,
    "start_time": "2023-06-26T11:57:18.970Z"
   },
   {
    "duration": 0,
    "start_time": "2023-06-26T11:57:18.972Z"
   },
   {
    "duration": 0,
    "start_time": "2023-06-26T11:57:18.973Z"
   },
   {
    "duration": 0,
    "start_time": "2023-06-26T11:57:18.975Z"
   },
   {
    "duration": 0,
    "start_time": "2023-06-26T11:57:18.977Z"
   },
   {
    "duration": 1,
    "start_time": "2023-06-26T11:57:18.978Z"
   },
   {
    "duration": 0,
    "start_time": "2023-06-26T11:57:18.980Z"
   },
   {
    "duration": 0,
    "start_time": "2023-06-26T11:57:18.982Z"
   },
   {
    "duration": 0,
    "start_time": "2023-06-26T11:57:18.984Z"
   },
   {
    "duration": 1,
    "start_time": "2023-06-26T11:57:18.985Z"
   },
   {
    "duration": 0,
    "start_time": "2023-06-26T11:57:18.987Z"
   },
   {
    "duration": 0,
    "start_time": "2023-06-26T11:57:18.989Z"
   },
   {
    "duration": 0,
    "start_time": "2023-06-26T11:57:18.990Z"
   },
   {
    "duration": 0,
    "start_time": "2023-06-26T11:57:18.992Z"
   },
   {
    "duration": 0,
    "start_time": "2023-06-26T11:57:18.994Z"
   },
   {
    "duration": 0,
    "start_time": "2023-06-26T11:57:18.995Z"
   },
   {
    "duration": 0,
    "start_time": "2023-06-26T11:57:18.997Z"
   },
   {
    "duration": 0,
    "start_time": "2023-06-26T11:57:18.999Z"
   },
   {
    "duration": 0,
    "start_time": "2023-06-26T11:57:19.000Z"
   },
   {
    "duration": 0,
    "start_time": "2023-06-26T11:57:19.002Z"
   },
   {
    "duration": 0,
    "start_time": "2023-06-26T11:57:19.003Z"
   },
   {
    "duration": 0,
    "start_time": "2023-06-26T11:57:19.004Z"
   },
   {
    "duration": 0,
    "start_time": "2023-06-26T11:57:19.005Z"
   },
   {
    "duration": 0,
    "start_time": "2023-06-26T11:57:19.006Z"
   },
   {
    "duration": 0,
    "start_time": "2023-06-26T11:57:19.007Z"
   },
   {
    "duration": 0,
    "start_time": "2023-06-26T11:57:19.008Z"
   },
   {
    "duration": 0,
    "start_time": "2023-06-26T11:57:19.010Z"
   },
   {
    "duration": 0,
    "start_time": "2023-06-26T11:57:19.011Z"
   },
   {
    "duration": 0,
    "start_time": "2023-06-26T11:57:19.012Z"
   },
   {
    "duration": 0,
    "start_time": "2023-06-26T11:57:19.013Z"
   },
   {
    "duration": 24,
    "start_time": "2023-06-26T11:57:32.830Z"
   },
   {
    "duration": 1308,
    "start_time": "2023-06-26T11:57:38.033Z"
   },
   {
    "duration": 78,
    "start_time": "2023-06-26T11:57:39.343Z"
   },
   {
    "duration": 28,
    "start_time": "2023-06-26T11:57:39.423Z"
   },
   {
    "duration": 23,
    "start_time": "2023-06-26T11:57:39.458Z"
   },
   {
    "duration": 26,
    "start_time": "2023-06-26T11:57:39.483Z"
   },
   {
    "duration": 27,
    "start_time": "2023-06-26T11:57:39.511Z"
   },
   {
    "duration": 13,
    "start_time": "2023-06-26T11:57:39.540Z"
   },
   {
    "duration": 18,
    "start_time": "2023-06-26T11:57:39.568Z"
   },
   {
    "duration": 18,
    "start_time": "2023-06-26T11:57:39.589Z"
   },
   {
    "duration": 9,
    "start_time": "2023-06-26T11:57:39.610Z"
   },
   {
    "duration": 16,
    "start_time": "2023-06-26T11:57:39.621Z"
   },
   {
    "duration": 14,
    "start_time": "2023-06-26T11:57:39.639Z"
   },
   {
    "duration": 15,
    "start_time": "2023-06-26T11:57:39.654Z"
   },
   {
    "duration": 14,
    "start_time": "2023-06-26T11:57:39.671Z"
   },
   {
    "duration": 202,
    "start_time": "2023-06-26T11:57:39.687Z"
   },
   {
    "duration": 152,
    "start_time": "2023-06-26T11:57:39.892Z"
   },
   {
    "duration": 5,
    "start_time": "2023-06-26T11:57:40.049Z"
   },
   {
    "duration": 196,
    "start_time": "2023-06-26T11:57:40.055Z"
   },
   {
    "duration": 150,
    "start_time": "2023-06-26T11:57:40.252Z"
   },
   {
    "duration": 118,
    "start_time": "2023-06-26T11:57:40.404Z"
   },
   {
    "duration": 0,
    "start_time": "2023-06-26T11:57:40.524Z"
   },
   {
    "duration": 0,
    "start_time": "2023-06-26T11:57:40.526Z"
   },
   {
    "duration": 0,
    "start_time": "2023-06-26T11:57:40.528Z"
   },
   {
    "duration": 0,
    "start_time": "2023-06-26T11:57:40.529Z"
   },
   {
    "duration": 0,
    "start_time": "2023-06-26T11:57:40.530Z"
   },
   {
    "duration": 0,
    "start_time": "2023-06-26T11:57:40.531Z"
   },
   {
    "duration": 0,
    "start_time": "2023-06-26T11:57:40.533Z"
   },
   {
    "duration": 0,
    "start_time": "2023-06-26T11:57:40.534Z"
   },
   {
    "duration": 0,
    "start_time": "2023-06-26T11:57:40.535Z"
   },
   {
    "duration": 0,
    "start_time": "2023-06-26T11:57:40.536Z"
   },
   {
    "duration": 0,
    "start_time": "2023-06-26T11:57:40.538Z"
   },
   {
    "duration": 0,
    "start_time": "2023-06-26T11:57:40.539Z"
   },
   {
    "duration": 1,
    "start_time": "2023-06-26T11:57:40.540Z"
   },
   {
    "duration": 0,
    "start_time": "2023-06-26T11:57:40.542Z"
   },
   {
    "duration": 0,
    "start_time": "2023-06-26T11:57:40.570Z"
   },
   {
    "duration": 0,
    "start_time": "2023-06-26T11:57:40.572Z"
   },
   {
    "duration": 0,
    "start_time": "2023-06-26T11:57:40.573Z"
   },
   {
    "duration": 0,
    "start_time": "2023-06-26T11:57:40.575Z"
   },
   {
    "duration": 0,
    "start_time": "2023-06-26T11:57:40.576Z"
   },
   {
    "duration": 0,
    "start_time": "2023-06-26T11:57:40.577Z"
   },
   {
    "duration": 8,
    "start_time": "2023-06-26T11:57:59.957Z"
   },
   {
    "duration": 161,
    "start_time": "2023-06-26T11:58:02.601Z"
   },
   {
    "duration": 7,
    "start_time": "2023-06-26T11:58:04.153Z"
   },
   {
    "duration": 206,
    "start_time": "2023-06-26T11:58:06.851Z"
   },
   {
    "duration": 10,
    "start_time": "2023-06-26T11:58:08.044Z"
   },
   {
    "duration": 419,
    "start_time": "2023-06-26T11:58:09.401Z"
   },
   {
    "duration": 155,
    "start_time": "2023-06-26T11:58:09.822Z"
   },
   {
    "duration": 17,
    "start_time": "2023-06-26T11:58:09.993Z"
   },
   {
    "duration": 6,
    "start_time": "2023-06-26T11:58:11.502Z"
   },
   {
    "duration": 382,
    "start_time": "2023-06-26T11:58:12.541Z"
   },
   {
    "duration": 33,
    "start_time": "2023-06-26T11:58:14.313Z"
   },
   {
    "duration": 13,
    "start_time": "2023-06-26T11:58:15.703Z"
   },
   {
    "duration": 252,
    "start_time": "2023-06-26T11:58:17.302Z"
   },
   {
    "duration": 202,
    "start_time": "2023-06-26T11:58:17.803Z"
   },
   {
    "duration": 207,
    "start_time": "2023-06-26T11:58:19.554Z"
   },
   {
    "duration": 208,
    "start_time": "2023-06-26T11:58:20.405Z"
   },
   {
    "duration": 11,
    "start_time": "2023-06-26T11:58:22.503Z"
   },
   {
    "duration": 33,
    "start_time": "2023-06-26T11:58:23.699Z"
   },
   {
    "duration": 16,
    "start_time": "2023-06-26T11:58:25.359Z"
   },
   {
    "duration": 12,
    "start_time": "2023-06-26T11:58:27.744Z"
   },
   {
    "duration": 9,
    "start_time": "2023-06-26T11:59:45.341Z"
   },
   {
    "duration": 9,
    "start_time": "2023-06-26T11:59:58.446Z"
   },
   {
    "duration": 14,
    "start_time": "2023-06-26T12:00:56.119Z"
   },
   {
    "duration": 13,
    "start_time": "2023-06-26T12:01:09.226Z"
   },
   {
    "duration": 4,
    "start_time": "2023-06-26T12:06:45.824Z"
   },
   {
    "duration": 12,
    "start_time": "2023-06-26T12:06:56.404Z"
   },
   {
    "duration": 4,
    "start_time": "2023-06-26T12:06:57.898Z"
   },
   {
    "duration": 6,
    "start_time": "2023-06-26T12:07:27.241Z"
   },
   {
    "duration": 9,
    "start_time": "2023-06-26T12:07:53.456Z"
   },
   {
    "duration": 23,
    "start_time": "2023-06-26T12:07:54.145Z"
   },
   {
    "duration": 5,
    "start_time": "2023-06-26T12:08:09.931Z"
   },
   {
    "duration": 28,
    "start_time": "2023-06-26T12:08:41.693Z"
   },
   {
    "duration": 13,
    "start_time": "2023-06-26T12:08:52.874Z"
   },
   {
    "duration": 18,
    "start_time": "2023-06-26T12:08:53.749Z"
   },
   {
    "duration": 10,
    "start_time": "2023-06-26T12:09:14.340Z"
   },
   {
    "duration": 5,
    "start_time": "2023-06-26T12:09:21.603Z"
   },
   {
    "duration": 9,
    "start_time": "2023-06-26T12:09:32.025Z"
   },
   {
    "duration": 9,
    "start_time": "2023-06-26T12:09:32.545Z"
   },
   {
    "duration": 6,
    "start_time": "2023-06-26T12:10:43.963Z"
   },
   {
    "duration": 8,
    "start_time": "2023-06-26T12:11:22.259Z"
   },
   {
    "duration": 8,
    "start_time": "2023-06-26T12:11:23.329Z"
   },
   {
    "duration": 6,
    "start_time": "2023-06-26T12:11:26.323Z"
   },
   {
    "duration": 9,
    "start_time": "2023-06-26T12:11:45.211Z"
   },
   {
    "duration": 4,
    "start_time": "2023-06-26T12:11:45.740Z"
   },
   {
    "duration": 6,
    "start_time": "2023-06-26T12:12:26.617Z"
   },
   {
    "duration": 10,
    "start_time": "2023-06-26T12:12:32.392Z"
   },
   {
    "duration": 10,
    "start_time": "2023-06-26T12:12:53.417Z"
   },
   {
    "duration": 6,
    "start_time": "2023-06-26T12:13:01.739Z"
   },
   {
    "duration": 10,
    "start_time": "2023-06-26T12:13:41.126Z"
   },
   {
    "duration": 8,
    "start_time": "2023-06-26T12:13:52.613Z"
   },
   {
    "duration": 9,
    "start_time": "2023-06-26T12:13:59.418Z"
   },
   {
    "duration": 18,
    "start_time": "2023-06-26T12:14:33.513Z"
   },
   {
    "duration": 13,
    "start_time": "2023-06-26T12:14:38.334Z"
   },
   {
    "duration": 10,
    "start_time": "2023-06-26T12:14:56.035Z"
   },
   {
    "duration": 18,
    "start_time": "2023-06-26T12:15:49.515Z"
   },
   {
    "duration": 13,
    "start_time": "2023-06-26T12:15:59.036Z"
   },
   {
    "duration": 5,
    "start_time": "2023-06-26T12:16:17.829Z"
   },
   {
    "duration": 8,
    "start_time": "2023-06-26T12:16:23.066Z"
   },
   {
    "duration": 11,
    "start_time": "2023-06-26T12:16:37.747Z"
   },
   {
    "duration": 6,
    "start_time": "2023-06-26T12:16:41.427Z"
   },
   {
    "duration": 5,
    "start_time": "2023-06-26T12:16:47.713Z"
   },
   {
    "duration": 5,
    "start_time": "2023-06-26T12:17:20.224Z"
   },
   {
    "duration": 4,
    "start_time": "2023-06-26T12:17:35.009Z"
   },
   {
    "duration": 73,
    "start_time": "2023-06-26T12:17:35.517Z"
   },
   {
    "duration": 15,
    "start_time": "2023-06-26T12:17:35.943Z"
   },
   {
    "duration": 28,
    "start_time": "2023-06-26T12:17:36.467Z"
   },
   {
    "duration": 15,
    "start_time": "2023-06-26T12:17:37.005Z"
   },
   {
    "duration": 29,
    "start_time": "2023-06-26T12:17:39.098Z"
   },
   {
    "duration": 15,
    "start_time": "2023-06-26T12:17:40.661Z"
   },
   {
    "duration": 6,
    "start_time": "2023-06-26T12:18:01.635Z"
   },
   {
    "duration": 7,
    "start_time": "2023-06-26T12:18:33.193Z"
   },
   {
    "duration": 6,
    "start_time": "2023-06-26T12:18:40.432Z"
   },
   {
    "duration": 5,
    "start_time": "2023-06-26T12:18:56.356Z"
   },
   {
    "duration": 6,
    "start_time": "2023-06-26T12:19:08.237Z"
   },
   {
    "duration": 12,
    "start_time": "2023-06-26T12:19:19.752Z"
   },
   {
    "duration": 6,
    "start_time": "2023-06-26T12:19:25.530Z"
   },
   {
    "duration": 7,
    "start_time": "2023-06-26T12:19:29.721Z"
   },
   {
    "duration": 6,
    "start_time": "2023-06-26T12:19:38.627Z"
   },
   {
    "duration": 8,
    "start_time": "2023-06-26T12:19:39.150Z"
   },
   {
    "duration": 10,
    "start_time": "2023-06-26T12:19:40.244Z"
   },
   {
    "duration": 7,
    "start_time": "2023-06-26T12:19:41.436Z"
   },
   {
    "duration": 9,
    "start_time": "2023-06-26T12:19:44.406Z"
   },
   {
    "duration": 138,
    "start_time": "2023-06-26T12:19:46.506Z"
   },
   {
    "duration": 106,
    "start_time": "2023-06-26T12:19:51.216Z"
   },
   {
    "duration": 3,
    "start_time": "2023-06-26T12:19:53.014Z"
   },
   {
    "duration": 165,
    "start_time": "2023-06-26T12:19:55.417Z"
   },
   {
    "duration": 297,
    "start_time": "2023-06-26T12:19:58.133Z"
   },
   {
    "duration": 9,
    "start_time": "2023-06-26T12:20:10.616Z"
   },
   {
    "duration": 176,
    "start_time": "2023-06-26T12:20:17.013Z"
   },
   {
    "duration": 10,
    "start_time": "2023-06-26T12:20:18.666Z"
   },
   {
    "duration": 164,
    "start_time": "2023-06-26T12:20:19.756Z"
   },
   {
    "duration": 9,
    "start_time": "2023-06-26T12:20:25.300Z"
   },
   {
    "duration": 367,
    "start_time": "2023-06-26T12:20:29.064Z"
   },
   {
    "duration": 152,
    "start_time": "2023-06-26T12:20:34.206Z"
   },
   {
    "duration": 4,
    "start_time": "2023-06-26T12:21:01.014Z"
   },
   {
    "duration": 9,
    "start_time": "2023-06-26T12:21:08.454Z"
   },
   {
    "duration": 5,
    "start_time": "2023-06-26T12:21:14.048Z"
   },
   {
    "duration": 288,
    "start_time": "2023-06-26T12:21:15.622Z"
   },
   {
    "duration": 242,
    "start_time": "2023-06-26T12:21:19.815Z"
   },
   {
    "duration": 35,
    "start_time": "2023-06-26T12:21:22.141Z"
   },
   {
    "duration": 14,
    "start_time": "2023-06-26T12:21:28.864Z"
   },
   {
    "duration": 19,
    "start_time": "2023-06-26T12:21:50.748Z"
   },
   {
    "duration": 24,
    "start_time": "2023-06-26T12:22:06.662Z"
   },
   {
    "duration": 20,
    "start_time": "2023-06-26T12:22:12.780Z"
   },
   {
    "duration": 9,
    "start_time": "2023-06-26T12:22:43.704Z"
   },
   {
    "duration": 7,
    "start_time": "2023-06-26T12:22:50.003Z"
   },
   {
    "duration": 55,
    "start_time": "2023-06-26T12:25:39.527Z"
   },
   {
    "duration": 10,
    "start_time": "2023-06-26T12:25:43.026Z"
   },
   {
    "duration": 197,
    "start_time": "2023-06-26T12:25:45.129Z"
   },
   {
    "duration": 205,
    "start_time": "2023-06-26T12:25:45.632Z"
   },
   {
    "duration": 190,
    "start_time": "2023-06-26T12:25:48.817Z"
   },
   {
    "duration": 261,
    "start_time": "2023-06-26T12:25:54.035Z"
   },
   {
    "duration": 5,
    "start_time": "2023-06-26T12:26:08.731Z"
   },
   {
    "duration": 15,
    "start_time": "2023-06-26T12:26:14.467Z"
   },
   {
    "duration": 6,
    "start_time": "2023-06-26T12:26:19.350Z"
   },
   {
    "duration": 42,
    "start_time": "2023-06-26T12:27:45.703Z"
   },
   {
    "duration": 30,
    "start_time": "2023-06-26T12:27:55.131Z"
   },
   {
    "duration": 7,
    "start_time": "2023-06-26T12:37:17.214Z"
   },
   {
    "duration": 8,
    "start_time": "2023-06-26T12:37:29.314Z"
   },
   {
    "duration": 13,
    "start_time": "2023-06-26T12:37:54.066Z"
   },
   {
    "duration": 10,
    "start_time": "2023-06-26T12:38:02.322Z"
   },
   {
    "duration": 10,
    "start_time": "2023-06-26T12:38:25.510Z"
   },
   {
    "duration": 11,
    "start_time": "2023-06-26T12:38:30.134Z"
   },
   {
    "duration": 11,
    "start_time": "2023-06-26T12:38:35.302Z"
   },
   {
    "duration": 20,
    "start_time": "2023-06-26T12:38:59.415Z"
   },
   {
    "duration": 28,
    "start_time": "2023-06-26T12:39:08.847Z"
   },
   {
    "duration": 20,
    "start_time": "2023-06-26T12:39:22.103Z"
   },
   {
    "duration": 45,
    "start_time": "2023-06-26T12:39:28.245Z"
   },
   {
    "duration": 19,
    "start_time": "2023-06-26T12:39:33.119Z"
   },
   {
    "duration": 9,
    "start_time": "2023-06-26T12:39:49.746Z"
   },
   {
    "duration": 38,
    "start_time": "2023-06-26T12:40:18.783Z"
   },
   {
    "duration": 10,
    "start_time": "2023-06-26T12:40:41.766Z"
   },
   {
    "duration": 26,
    "start_time": "2023-06-26T12:42:26.060Z"
   },
   {
    "duration": 34,
    "start_time": "2023-06-26T12:42:49.614Z"
   },
   {
    "duration": 13,
    "start_time": "2023-06-26T12:43:06.529Z"
   },
   {
    "duration": 8,
    "start_time": "2023-06-26T12:45:22.665Z"
   },
   {
    "duration": 5,
    "start_time": "2023-06-26T12:45:30.156Z"
   },
   {
    "duration": 4,
    "start_time": "2023-06-26T12:46:04.814Z"
   },
   {
    "duration": 7,
    "start_time": "2023-06-26T12:46:15.097Z"
   },
   {
    "duration": 3,
    "start_time": "2023-06-26T12:49:56.345Z"
   },
   {
    "duration": 5,
    "start_time": "2023-06-26T12:50:11.024Z"
   },
   {
    "duration": 5,
    "start_time": "2023-06-26T12:50:23.607Z"
   },
   {
    "duration": 47,
    "start_time": "2023-06-26T12:52:07.518Z"
   },
   {
    "duration": 13,
    "start_time": "2023-06-26T12:52:19.504Z"
   },
   {
    "duration": 217,
    "start_time": "2023-06-26T12:52:20.221Z"
   },
   {
    "duration": 549,
    "start_time": "2023-06-26T12:52:23.791Z"
   },
   {
    "duration": 229,
    "start_time": "2023-06-26T12:52:31.037Z"
   },
   {
    "duration": 171,
    "start_time": "2023-06-26T12:52:55.651Z"
   },
   {
    "duration": 199,
    "start_time": "2023-06-26T12:53:11.908Z"
   },
   {
    "duration": 162,
    "start_time": "2023-06-26T12:53:35.713Z"
   },
   {
    "duration": 44,
    "start_time": "2023-06-26T12:54:07.658Z"
   },
   {
    "duration": 16,
    "start_time": "2023-06-26T12:54:12.430Z"
   },
   {
    "duration": 7,
    "start_time": "2023-06-26T12:54:36.529Z"
   },
   {
    "duration": 9,
    "start_time": "2023-06-26T12:54:55.725Z"
   },
   {
    "duration": 5,
    "start_time": "2023-06-26T12:54:56.441Z"
   },
   {
    "duration": 93,
    "start_time": "2023-06-26T12:55:33.462Z"
   },
   {
    "duration": 8,
    "start_time": "2023-06-26T12:55:39.331Z"
   },
   {
    "duration": 262,
    "start_time": "2023-06-26T12:55:46.589Z"
   },
   {
    "duration": 10,
    "start_time": "2023-06-26T12:56:06.013Z"
   },
   {
    "duration": 7,
    "start_time": "2023-06-26T12:56:13.002Z"
   },
   {
    "duration": 6,
    "start_time": "2023-06-26T12:56:18.109Z"
   },
   {
    "duration": 15,
    "start_time": "2023-06-26T12:59:21.010Z"
   },
   {
    "duration": 11,
    "start_time": "2023-06-26T12:59:42.518Z"
   },
   {
    "duration": 11,
    "start_time": "2023-06-26T12:59:53.523Z"
   },
   {
    "duration": 18,
    "start_time": "2023-06-26T13:00:17.112Z"
   },
   {
    "duration": 7,
    "start_time": "2023-06-26T13:00:18.154Z"
   },
   {
    "duration": 7,
    "start_time": "2023-06-26T13:00:24.444Z"
   },
   {
    "duration": 11,
    "start_time": "2023-06-26T13:00:40.184Z"
   },
   {
    "duration": 11,
    "start_time": "2023-06-26T13:00:44.465Z"
   },
   {
    "duration": 8,
    "start_time": "2023-06-26T13:00:46.997Z"
   },
   {
    "duration": 4,
    "start_time": "2023-06-26T13:00:48.662Z"
   },
   {
    "duration": 13,
    "start_time": "2023-06-26T13:00:59.048Z"
   },
   {
    "duration": 6,
    "start_time": "2023-06-26T13:00:59.609Z"
   },
   {
    "duration": 5,
    "start_time": "2023-06-26T13:01:01.146Z"
   },
   {
    "duration": 4,
    "start_time": "2023-06-26T13:02:25.721Z"
   },
   {
    "duration": 5,
    "start_time": "2023-06-26T13:02:28.815Z"
   },
   {
    "duration": 4,
    "start_time": "2023-06-26T13:03:55.210Z"
   },
   {
    "duration": 12,
    "start_time": "2023-06-26T13:06:39.837Z"
   },
   {
    "duration": 8,
    "start_time": "2023-06-26T13:06:44.654Z"
   },
   {
    "duration": 5,
    "start_time": "2023-06-26T13:06:46.786Z"
   },
   {
    "duration": 10,
    "start_time": "2023-06-26T13:07:28.206Z"
   },
   {
    "duration": 6,
    "start_time": "2023-06-26T13:10:56.221Z"
   },
   {
    "duration": 167,
    "start_time": "2023-06-26T13:11:21.403Z"
   },
   {
    "duration": 5,
    "start_time": "2023-06-26T13:12:43.853Z"
   },
   {
    "duration": 127,
    "start_time": "2023-06-26T13:13:49.231Z"
   },
   {
    "duration": 12,
    "start_time": "2023-06-26T13:13:52.413Z"
   },
   {
    "duration": 10,
    "start_time": "2023-06-26T13:14:05.149Z"
   },
   {
    "duration": 135,
    "start_time": "2023-06-26T13:14:10.296Z"
   },
   {
    "duration": 13,
    "start_time": "2023-06-26T13:14:13.879Z"
   },
   {
    "duration": 5,
    "start_time": "2023-06-26T13:14:28.730Z"
   },
   {
    "duration": 7,
    "start_time": "2023-06-26T13:17:44.864Z"
   },
   {
    "duration": 5,
    "start_time": "2023-06-26T13:18:11.459Z"
   },
   {
    "duration": 6,
    "start_time": "2023-06-26T13:19:46.293Z"
   },
   {
    "duration": 4,
    "start_time": "2023-06-26T13:19:55.356Z"
   },
   {
    "duration": 4,
    "start_time": "2023-06-26T13:22:02.132Z"
   },
   {
    "duration": 10,
    "start_time": "2023-06-26T13:22:04.162Z"
   },
   {
    "duration": 4,
    "start_time": "2023-06-26T13:22:04.705Z"
   },
   {
    "duration": 12,
    "start_time": "2023-06-26T13:23:55.891Z"
   },
   {
    "duration": 4,
    "start_time": "2023-06-26T13:24:04.748Z"
   },
   {
    "duration": 5,
    "start_time": "2023-06-26T13:24:07.935Z"
   },
   {
    "duration": 5,
    "start_time": "2023-06-26T13:24:08.611Z"
   },
   {
    "duration": 4,
    "start_time": "2023-06-26T13:24:15.760Z"
   },
   {
    "duration": 6,
    "start_time": "2023-06-26T13:25:11.725Z"
   },
   {
    "duration": 4,
    "start_time": "2023-06-26T13:25:11.860Z"
   },
   {
    "duration": 8,
    "start_time": "2023-06-26T13:25:48.627Z"
   },
   {
    "duration": 4,
    "start_time": "2023-06-26T13:25:49.108Z"
   },
   {
    "duration": 4,
    "start_time": "2023-06-26T13:26:58.309Z"
   },
   {
    "duration": 4,
    "start_time": "2023-06-26T13:27:00.403Z"
   },
   {
    "duration": 9,
    "start_time": "2023-06-26T13:27:01.960Z"
   },
   {
    "duration": 4,
    "start_time": "2023-06-26T13:27:03.025Z"
   },
   {
    "duration": 6,
    "start_time": "2023-06-26T13:28:15.360Z"
   },
   {
    "duration": 5,
    "start_time": "2023-06-26T13:29:41.910Z"
   },
   {
    "duration": 4,
    "start_time": "2023-06-26T13:29:42.916Z"
   },
   {
    "duration": 8,
    "start_time": "2023-06-26T13:30:50.225Z"
   },
   {
    "duration": 9,
    "start_time": "2023-06-26T13:30:51.089Z"
   },
   {
    "duration": 10,
    "start_time": "2023-06-26T13:34:17.120Z"
   },
   {
    "duration": 12,
    "start_time": "2023-06-26T13:35:23.706Z"
   },
   {
    "duration": 8,
    "start_time": "2023-06-26T13:35:31.045Z"
   },
   {
    "duration": 21,
    "start_time": "2023-06-26T13:36:35.663Z"
   },
   {
    "duration": 10,
    "start_time": "2023-06-26T13:36:41.824Z"
   },
   {
    "duration": 10,
    "start_time": "2023-06-26T13:37:34.255Z"
   },
   {
    "duration": 7,
    "start_time": "2023-06-26T13:37:42.643Z"
   },
   {
    "duration": 167,
    "start_time": "2023-06-26T13:39:15.591Z"
   },
   {
    "duration": 98,
    "start_time": "2023-06-26T13:39:38.511Z"
   },
   {
    "duration": 63,
    "start_time": "2023-06-26T13:39:54.854Z"
   },
   {
    "duration": 120,
    "start_time": "2023-06-26T13:40:22.632Z"
   },
   {
    "duration": 105,
    "start_time": "2023-06-26T13:40:27.796Z"
   },
   {
    "duration": 105,
    "start_time": "2023-06-26T13:41:08.915Z"
   },
   {
    "duration": 108,
    "start_time": "2023-06-26T13:41:11.842Z"
   },
   {
    "duration": 128,
    "start_time": "2023-06-26T13:41:17.794Z"
   },
   {
    "duration": 100,
    "start_time": "2023-06-26T13:41:37.203Z"
   },
   {
    "duration": 148,
    "start_time": "2023-06-26T13:41:41.745Z"
   },
   {
    "duration": 138,
    "start_time": "2023-06-26T13:41:48.136Z"
   },
   {
    "duration": 10,
    "start_time": "2023-06-26T13:42:00.596Z"
   },
   {
    "duration": 139,
    "start_time": "2023-06-26T13:42:03.216Z"
   },
   {
    "duration": 193,
    "start_time": "2023-06-26T13:42:08.458Z"
   },
   {
    "duration": 197,
    "start_time": "2023-06-26T13:43:24.643Z"
   },
   {
    "duration": 16,
    "start_time": "2023-06-26T13:44:00.132Z"
   },
   {
    "duration": 9,
    "start_time": "2023-06-26T13:44:17.048Z"
   },
   {
    "duration": 8,
    "start_time": "2023-06-26T13:44:55.921Z"
   },
   {
    "duration": 6,
    "start_time": "2023-06-26T13:47:07.314Z"
   },
   {
    "duration": 6,
    "start_time": "2023-06-26T13:47:11.119Z"
   },
   {
    "duration": 4,
    "start_time": "2023-06-26T13:47:11.505Z"
   },
   {
    "duration": 9,
    "start_time": "2023-06-26T13:47:12.040Z"
   },
   {
    "duration": 7,
    "start_time": "2023-06-26T13:47:13.645Z"
   },
   {
    "duration": 5,
    "start_time": "2023-06-26T13:47:33.518Z"
   },
   {
    "duration": 5,
    "start_time": "2023-06-26T13:48:10.745Z"
   },
   {
    "duration": 6,
    "start_time": "2023-06-26T13:48:29.094Z"
   },
   {
    "duration": 107,
    "start_time": "2023-06-26T13:48:32.854Z"
   },
   {
    "duration": 119,
    "start_time": "2023-06-26T13:48:44.307Z"
   },
   {
    "duration": 7,
    "start_time": "2023-06-26T14:02:12.399Z"
   },
   {
    "duration": 8,
    "start_time": "2023-06-26T14:26:00.097Z"
   },
   {
    "duration": 1342,
    "start_time": "2023-06-26T14:45:06.678Z"
   },
   {
    "duration": 75,
    "start_time": "2023-06-26T14:45:08.023Z"
   },
   {
    "duration": 24,
    "start_time": "2023-06-26T14:45:08.100Z"
   },
   {
    "duration": 57,
    "start_time": "2023-06-26T14:45:08.126Z"
   },
   {
    "duration": 20,
    "start_time": "2023-06-26T14:45:08.185Z"
   },
   {
    "duration": 55,
    "start_time": "2023-06-26T14:45:08.209Z"
   },
   {
    "duration": 23,
    "start_time": "2023-06-26T14:45:08.266Z"
   },
   {
    "duration": 20,
    "start_time": "2023-06-26T14:45:08.291Z"
   },
   {
    "duration": 17,
    "start_time": "2023-06-26T14:45:08.313Z"
   },
   {
    "duration": 23,
    "start_time": "2023-06-26T14:45:08.332Z"
   },
   {
    "duration": 38,
    "start_time": "2023-06-26T14:45:08.359Z"
   },
   {
    "duration": 48,
    "start_time": "2023-06-26T14:45:08.399Z"
   },
   {
    "duration": 36,
    "start_time": "2023-06-26T14:45:08.448Z"
   },
   {
    "duration": 16,
    "start_time": "2023-06-26T14:45:08.489Z"
   },
   {
    "duration": 245,
    "start_time": "2023-06-26T14:45:08.508Z"
   },
   {
    "duration": 142,
    "start_time": "2023-06-26T14:45:08.760Z"
   },
   {
    "duration": 4,
    "start_time": "2023-06-26T14:45:08.904Z"
   },
   {
    "duration": 230,
    "start_time": "2023-06-26T14:45:08.910Z"
   },
   {
    "duration": 146,
    "start_time": "2023-06-26T14:45:09.141Z"
   },
   {
    "duration": 11,
    "start_time": "2023-06-26T14:45:09.289Z"
   },
   {
    "duration": 212,
    "start_time": "2023-06-26T14:45:09.302Z"
   },
   {
    "duration": 7,
    "start_time": "2023-06-26T14:45:09.516Z"
   },
   {
    "duration": 205,
    "start_time": "2023-06-26T14:45:09.525Z"
   },
   {
    "duration": 40,
    "start_time": "2023-06-26T14:45:09.732Z"
   },
   {
    "duration": 408,
    "start_time": "2023-06-26T14:45:09.774Z"
   },
   {
    "duration": 181,
    "start_time": "2023-06-26T14:45:10.184Z"
   },
   {
    "duration": 12,
    "start_time": "2023-06-26T14:45:10.371Z"
   },
   {
    "duration": 12,
    "start_time": "2023-06-26T14:45:10.385Z"
   },
   {
    "duration": 438,
    "start_time": "2023-06-26T14:45:10.400Z"
   },
   {
    "duration": 3,
    "start_time": "2023-06-26T14:45:10.840Z"
   },
   {
    "duration": 60,
    "start_time": "2023-06-26T14:45:10.851Z"
   },
   {
    "duration": 11,
    "start_time": "2023-06-26T14:45:10.913Z"
   },
   {
    "duration": 270,
    "start_time": "2023-06-26T14:45:10.926Z"
   },
   {
    "duration": 246,
    "start_time": "2023-06-26T14:45:11.198Z"
   },
   {
    "duration": 174,
    "start_time": "2023-06-26T14:45:11.446Z"
   },
   {
    "duration": 197,
    "start_time": "2023-06-26T14:45:11.622Z"
   },
   {
    "duration": 54,
    "start_time": "2023-06-26T14:45:11.821Z"
   },
   {
    "duration": 15,
    "start_time": "2023-06-26T14:45:11.877Z"
   },
   {
    "duration": 29,
    "start_time": "2023-06-26T14:45:11.894Z"
   },
   {
    "duration": 17,
    "start_time": "2023-06-26T14:45:11.926Z"
   },
   {
    "duration": 45,
    "start_time": "2023-06-26T14:45:11.951Z"
   },
   {
    "duration": 15,
    "start_time": "2023-06-26T14:45:11.999Z"
   },
   {
    "duration": 55,
    "start_time": "2023-06-26T14:45:12.016Z"
   },
   {
    "duration": 15,
    "start_time": "2023-06-26T14:45:12.073Z"
   },
   {
    "duration": 8,
    "start_time": "2023-06-26T14:45:12.090Z"
   },
   {
    "duration": 1548,
    "start_time": "2023-06-26T22:22:46.893Z"
   },
   {
    "duration": 91,
    "start_time": "2023-06-26T22:22:48.444Z"
   },
   {
    "duration": 31,
    "start_time": "2023-06-26T22:22:48.538Z"
   },
   {
    "duration": 43,
    "start_time": "2023-06-26T22:22:48.572Z"
   },
   {
    "duration": 20,
    "start_time": "2023-06-26T22:22:48.618Z"
   },
   {
    "duration": 32,
    "start_time": "2023-06-26T22:22:48.640Z"
   },
   {
    "duration": 26,
    "start_time": "2023-06-26T22:22:48.677Z"
   },
   {
    "duration": 12,
    "start_time": "2023-06-26T22:22:48.705Z"
   },
   {
    "duration": 14,
    "start_time": "2023-06-26T22:22:48.719Z"
   },
   {
    "duration": 25,
    "start_time": "2023-06-26T22:22:48.735Z"
   },
   {
    "duration": 25,
    "start_time": "2023-06-26T22:22:48.766Z"
   },
   {
    "duration": 11,
    "start_time": "2023-06-26T22:22:48.792Z"
   },
   {
    "duration": 8,
    "start_time": "2023-06-26T22:22:48.805Z"
   },
   {
    "duration": 10,
    "start_time": "2023-06-26T22:22:48.816Z"
   },
   {
    "duration": 196,
    "start_time": "2023-06-26T22:22:48.828Z"
   },
   {
    "duration": 147,
    "start_time": "2023-06-26T22:22:49.025Z"
   },
   {
    "duration": 8,
    "start_time": "2023-06-26T22:22:49.174Z"
   },
   {
    "duration": 217,
    "start_time": "2023-06-26T22:22:49.184Z"
   },
   {
    "duration": 138,
    "start_time": "2023-06-26T22:22:49.403Z"
   },
   {
    "duration": 13,
    "start_time": "2023-06-26T22:22:49.543Z"
   },
   {
    "duration": 230,
    "start_time": "2023-06-26T22:22:49.559Z"
   },
   {
    "duration": 6,
    "start_time": "2023-06-26T22:22:49.791Z"
   },
   {
    "duration": 198,
    "start_time": "2023-06-26T22:22:49.799Z"
   },
   {
    "duration": 10,
    "start_time": "2023-06-26T22:22:49.999Z"
   },
   {
    "duration": 438,
    "start_time": "2023-06-26T22:22:50.010Z"
   },
   {
    "duration": 172,
    "start_time": "2023-06-26T22:22:50.451Z"
   },
   {
    "duration": 12,
    "start_time": "2023-06-26T22:22:50.625Z"
   },
   {
    "duration": 42,
    "start_time": "2023-06-26T22:22:50.639Z"
   },
   {
    "duration": 405,
    "start_time": "2023-06-26T22:22:50.683Z"
   },
   {
    "duration": 5,
    "start_time": "2023-06-26T22:22:51.090Z"
   },
   {
    "duration": 59,
    "start_time": "2023-06-26T22:22:51.096Z"
   },
   {
    "duration": 12,
    "start_time": "2023-06-26T22:22:51.157Z"
   },
   {
    "duration": 251,
    "start_time": "2023-06-26T22:22:51.171Z"
   },
   {
    "duration": 206,
    "start_time": "2023-06-26T22:22:51.424Z"
   },
   {
    "duration": 184,
    "start_time": "2023-06-26T22:22:51.632Z"
   },
   {
    "duration": 189,
    "start_time": "2023-06-26T22:22:51.819Z"
   },
   {
    "duration": 33,
    "start_time": "2023-06-26T22:22:52.011Z"
   },
   {
    "duration": 21,
    "start_time": "2023-06-26T22:22:52.052Z"
   },
   {
    "duration": 33,
    "start_time": "2023-06-26T22:22:52.077Z"
   },
   {
    "duration": 8,
    "start_time": "2023-06-26T22:22:52.111Z"
   },
   {
    "duration": 11,
    "start_time": "2023-06-26T22:22:52.123Z"
   },
   {
    "duration": 7,
    "start_time": "2023-06-26T22:22:52.135Z"
   },
   {
    "duration": 48,
    "start_time": "2023-06-26T22:22:52.144Z"
   },
   {
    "duration": 20,
    "start_time": "2023-06-26T22:22:52.194Z"
   },
   {
    "duration": 7,
    "start_time": "2023-06-26T22:22:52.216Z"
   },
   {
    "duration": 217,
    "start_time": "2023-06-26T22:35:09.818Z"
   },
   {
    "duration": 7,
    "start_time": "2023-06-26T22:35:49.114Z"
   },
   {
    "duration": 8,
    "start_time": "2023-06-26T22:36:04.332Z"
   },
   {
    "duration": 51,
    "start_time": "2023-06-27T12:01:23.818Z"
   },
   {
    "duration": 2057,
    "start_time": "2023-06-27T12:01:31.221Z"
   },
   {
    "duration": 203,
    "start_time": "2023-06-27T12:01:33.281Z"
   },
   {
    "duration": 24,
    "start_time": "2023-06-27T12:01:34.313Z"
   },
   {
    "duration": 19,
    "start_time": "2023-06-27T12:01:37.459Z"
   },
   {
    "duration": 16,
    "start_time": "2023-06-27T12:01:40.457Z"
   },
   {
    "duration": 24,
    "start_time": "2023-06-27T12:01:41.713Z"
   },
   {
    "duration": 12,
    "start_time": "2023-06-27T12:01:44.127Z"
   },
   {
    "duration": 12,
    "start_time": "2023-06-27T12:01:46.749Z"
   },
   {
    "duration": 12,
    "start_time": "2023-06-27T12:02:54.550Z"
   },
   {
    "duration": 67,
    "start_time": "2023-06-27T12:03:55.664Z"
   },
   {
    "duration": 12,
    "start_time": "2023-06-27T12:04:04.120Z"
   },
   {
    "duration": 6,
    "start_time": "2023-06-27T12:04:17.743Z"
   },
   {
    "duration": 10,
    "start_time": "2023-06-27T12:04:26.657Z"
   },
   {
    "duration": 5,
    "start_time": "2023-06-27T12:04:33.510Z"
   },
   {
    "duration": 12,
    "start_time": "2023-06-27T12:05:31.702Z"
   },
   {
    "duration": 5,
    "start_time": "2023-06-27T12:05:32.735Z"
   },
   {
    "duration": 10,
    "start_time": "2023-06-27T12:13:25.209Z"
   },
   {
    "duration": 8,
    "start_time": "2023-06-27T12:13:35.866Z"
   },
   {
    "duration": 7,
    "start_time": "2023-06-27T12:13:36.223Z"
   },
   {
    "duration": 7,
    "start_time": "2023-06-27T12:13:38.313Z"
   },
   {
    "duration": 10,
    "start_time": "2023-06-27T12:13:38.913Z"
   },
   {
    "duration": 11,
    "start_time": "2023-06-27T12:13:43.016Z"
   },
   {
    "duration": 11,
    "start_time": "2023-06-27T12:13:46.327Z"
   },
   {
    "duration": 13,
    "start_time": "2023-06-27T12:13:48.824Z"
   },
   {
    "duration": 172,
    "start_time": "2023-06-27T12:13:50.557Z"
   },
   {
    "duration": 165,
    "start_time": "2023-06-27T12:13:54.713Z"
   },
   {
    "duration": 235,
    "start_time": "2023-06-27T12:15:05.843Z"
   },
   {
    "duration": 193,
    "start_time": "2023-06-27T12:15:07.934Z"
   },
   {
    "duration": 181,
    "start_time": "2023-06-27T12:15:26.821Z"
   },
   {
    "duration": 173,
    "start_time": "2023-06-27T12:15:42.706Z"
   },
   {
    "duration": 172,
    "start_time": "2023-06-27T12:15:52.709Z"
   },
   {
    "duration": 167,
    "start_time": "2023-06-27T12:16:49.231Z"
   },
   {
    "duration": 174,
    "start_time": "2023-06-27T12:16:55.536Z"
   },
   {
    "duration": 165,
    "start_time": "2023-06-27T12:17:02.365Z"
   },
   {
    "duration": 163,
    "start_time": "2023-06-27T12:17:07.551Z"
   },
   {
    "duration": 14,
    "start_time": "2023-06-27T12:18:08.956Z"
   },
   {
    "duration": 11,
    "start_time": "2023-06-27T12:18:23.064Z"
   },
   {
    "duration": 176,
    "start_time": "2023-06-27T12:18:56.035Z"
   },
   {
    "duration": 207,
    "start_time": "2023-06-27T12:19:41.113Z"
   },
   {
    "duration": 201,
    "start_time": "2023-06-27T12:20:13.612Z"
   },
   {
    "duration": 192,
    "start_time": "2023-06-27T12:20:38.818Z"
   },
   {
    "duration": 213,
    "start_time": "2023-06-27T12:20:47.858Z"
   },
   {
    "duration": 159,
    "start_time": "2023-06-27T12:21:24.967Z"
   },
   {
    "duration": 197,
    "start_time": "2023-06-27T12:21:56.958Z"
   },
   {
    "duration": 199,
    "start_time": "2023-06-27T12:22:18.617Z"
   },
   {
    "duration": 207,
    "start_time": "2023-06-27T12:22:46.709Z"
   },
   {
    "duration": 183,
    "start_time": "2023-06-27T12:23:06.122Z"
   },
   {
    "duration": 185,
    "start_time": "2023-06-27T12:23:35.448Z"
   },
   {
    "duration": 184,
    "start_time": "2023-06-27T12:23:43.326Z"
   },
   {
    "duration": 189,
    "start_time": "2023-06-27T12:23:51.213Z"
   },
   {
    "duration": 131,
    "start_time": "2023-06-27T12:25:30.314Z"
   },
   {
    "duration": 150,
    "start_time": "2023-06-27T12:25:35.007Z"
   },
   {
    "duration": 199,
    "start_time": "2023-06-27T12:25:41.416Z"
   },
   {
    "duration": 177,
    "start_time": "2023-06-27T12:26:12.224Z"
   },
   {
    "duration": 201,
    "start_time": "2023-06-27T12:26:20.621Z"
   },
   {
    "duration": 190,
    "start_time": "2023-06-27T12:26:45.771Z"
   },
   {
    "duration": 197,
    "start_time": "2023-06-27T12:26:54.714Z"
   },
   {
    "duration": 172,
    "start_time": "2023-06-27T12:27:57.829Z"
   },
   {
    "duration": 204,
    "start_time": "2023-06-27T12:28:18.047Z"
   },
   {
    "duration": 217,
    "start_time": "2023-06-27T12:29:01.709Z"
   },
   {
    "duration": 201,
    "start_time": "2023-06-27T12:29:07.329Z"
   },
   {
    "duration": 206,
    "start_time": "2023-06-27T12:29:34.621Z"
   },
   {
    "duration": 217,
    "start_time": "2023-06-27T12:31:19.444Z"
   },
   {
    "duration": 215,
    "start_time": "2023-06-27T12:31:24.168Z"
   },
   {
    "duration": 180,
    "start_time": "2023-06-27T12:31:30.058Z"
   },
   {
    "duration": 209,
    "start_time": "2023-06-27T12:31:40.431Z"
   },
   {
    "duration": 222,
    "start_time": "2023-06-27T12:31:46.219Z"
   },
   {
    "duration": 213,
    "start_time": "2023-06-27T12:31:53.032Z"
   },
   {
    "duration": 189,
    "start_time": "2023-06-27T12:32:00.441Z"
   },
   {
    "duration": 209,
    "start_time": "2023-06-27T12:32:08.340Z"
   },
   {
    "duration": 771,
    "start_time": "2023-06-27T12:32:35.060Z"
   },
   {
    "duration": 209,
    "start_time": "2023-06-27T12:32:56.964Z"
   },
   {
    "duration": 207,
    "start_time": "2023-06-27T12:37:59.731Z"
   },
   {
    "duration": 10,
    "start_time": "2023-06-27T12:39:06.063Z"
   },
   {
    "duration": 131,
    "start_time": "2023-06-27T12:39:09.738Z"
   },
   {
    "duration": 76,
    "start_time": "2023-06-27T12:39:12.355Z"
   },
   {
    "duration": 160,
    "start_time": "2023-06-27T12:39:40.143Z"
   },
   {
    "duration": 173,
    "start_time": "2023-06-27T12:39:51.153Z"
   },
   {
    "duration": 174,
    "start_time": "2023-06-27T12:40:00.761Z"
   },
   {
    "duration": 138,
    "start_time": "2023-06-27T12:40:05.906Z"
   },
   {
    "duration": 130,
    "start_time": "2023-06-27T12:40:11.168Z"
   },
   {
    "duration": 111,
    "start_time": "2023-06-27T12:40:36.243Z"
   },
   {
    "duration": 111,
    "start_time": "2023-06-27T12:41:15.041Z"
   },
   {
    "duration": 108,
    "start_time": "2023-06-27T12:41:36.038Z"
   },
   {
    "duration": 131,
    "start_time": "2023-06-27T12:41:55.939Z"
   },
   {
    "duration": 162,
    "start_time": "2023-06-27T12:42:23.241Z"
   },
   {
    "duration": 81,
    "start_time": "2023-06-27T12:42:27.546Z"
   },
   {
    "duration": 102,
    "start_time": "2023-06-27T12:42:34.218Z"
   },
   {
    "duration": 114,
    "start_time": "2023-06-27T12:48:09.234Z"
   },
   {
    "duration": 85,
    "start_time": "2023-06-27T12:48:17.325Z"
   },
   {
    "duration": 88,
    "start_time": "2023-06-27T12:48:38.074Z"
   },
   {
    "duration": 217,
    "start_time": "2023-06-27T12:49:45.188Z"
   },
   {
    "duration": 128,
    "start_time": "2023-06-27T12:49:49.624Z"
   },
   {
    "duration": 89,
    "start_time": "2023-06-27T12:50:07.733Z"
   },
   {
    "duration": 5,
    "start_time": "2023-06-27T12:50:19.254Z"
   },
   {
    "duration": 181,
    "start_time": "2023-06-27T12:51:57.421Z"
   },
   {
    "duration": 220,
    "start_time": "2023-06-27T12:52:22.527Z"
   },
   {
    "duration": 228,
    "start_time": "2023-06-27T12:52:32.444Z"
   },
   {
    "duration": 177,
    "start_time": "2023-06-27T12:53:40.059Z"
   },
   {
    "duration": 165,
    "start_time": "2023-06-27T12:56:04.323Z"
   },
   {
    "duration": 196,
    "start_time": "2023-06-27T12:56:35.353Z"
   },
   {
    "duration": 212,
    "start_time": "2023-06-27T12:57:04.018Z"
   },
   {
    "duration": 252,
    "start_time": "2023-06-27T12:57:08.218Z"
   },
   {
    "duration": 216,
    "start_time": "2023-06-27T12:57:28.650Z"
   },
   {
    "duration": 308,
    "start_time": "2023-06-27T12:58:00.121Z"
   },
   {
    "duration": 208,
    "start_time": "2023-06-27T12:58:12.733Z"
   },
   {
    "duration": 210,
    "start_time": "2023-06-27T12:58:37.335Z"
   },
   {
    "duration": 233,
    "start_time": "2023-06-27T12:58:44.259Z"
   },
   {
    "duration": 245,
    "start_time": "2023-06-27T12:58:57.907Z"
   },
   {
    "duration": 222,
    "start_time": "2023-06-27T12:59:43.618Z"
   },
   {
    "duration": 1436,
    "start_time": "2023-06-27T13:00:15.115Z"
   },
   {
    "duration": 913,
    "start_time": "2023-06-27T13:00:20.248Z"
   },
   {
    "duration": 233,
    "start_time": "2023-06-27T13:00:23.941Z"
   },
   {
    "duration": 234,
    "start_time": "2023-06-27T13:00:39.519Z"
   },
   {
    "duration": 276,
    "start_time": "2023-06-27T13:00:58.371Z"
   },
   {
    "duration": 666,
    "start_time": "2023-06-27T13:01:04.149Z"
   },
   {
    "duration": 292,
    "start_time": "2023-06-27T13:03:35.663Z"
   },
   {
    "duration": 338,
    "start_time": "2023-06-27T13:03:51.519Z"
   },
   {
    "duration": 121,
    "start_time": "2023-06-27T13:04:24.953Z"
   },
   {
    "duration": 131,
    "start_time": "2023-06-27T13:04:43.946Z"
   },
   {
    "duration": 249,
    "start_time": "2023-06-27T13:05:06.903Z"
   },
   {
    "duration": 218,
    "start_time": "2023-06-27T13:05:52.022Z"
   },
   {
    "duration": 229,
    "start_time": "2023-06-27T13:06:22.519Z"
   },
   {
    "duration": 240,
    "start_time": "2023-06-27T13:06:45.471Z"
   },
   {
    "duration": 12,
    "start_time": "2023-06-27T13:12:27.946Z"
   },
   {
    "duration": 15,
    "start_time": "2023-06-27T13:12:34.115Z"
   },
   {
    "duration": 84,
    "start_time": "2023-06-27T13:12:46.158Z"
   },
   {
    "duration": 64,
    "start_time": "2023-06-27T13:12:51.571Z"
   },
   {
    "duration": 134,
    "start_time": "2023-06-27T13:12:56.644Z"
   },
   {
    "duration": 160,
    "start_time": "2023-06-27T13:13:05.124Z"
   },
   {
    "duration": 173,
    "start_time": "2023-06-27T13:13:28.129Z"
   },
   {
    "duration": 177,
    "start_time": "2023-06-27T13:13:52.222Z"
   },
   {
    "duration": 203,
    "start_time": "2023-06-27T13:14:22.633Z"
   },
   {
    "duration": 177,
    "start_time": "2023-06-27T13:15:05.115Z"
   },
   {
    "duration": 177,
    "start_time": "2023-06-27T13:15:22.415Z"
   },
   {
    "duration": 265,
    "start_time": "2023-06-27T13:15:44.941Z"
   },
   {
    "duration": 208,
    "start_time": "2023-06-27T13:16:38.431Z"
   },
   {
    "duration": 233,
    "start_time": "2023-06-27T13:16:57.370Z"
   },
   {
    "duration": 248,
    "start_time": "2023-06-27T13:17:09.008Z"
   },
   {
    "duration": 180,
    "start_time": "2023-06-27T13:17:14.622Z"
   },
   {
    "duration": 17,
    "start_time": "2023-06-27T13:19:26.423Z"
   },
   {
    "duration": 167,
    "start_time": "2023-06-27T13:19:47.721Z"
   },
   {
    "duration": 144,
    "start_time": "2023-06-27T13:20:35.007Z"
   },
   {
    "duration": 237,
    "start_time": "2023-06-27T13:20:53.945Z"
   },
   {
    "duration": 179,
    "start_time": "2023-06-27T13:22:18.708Z"
   },
   {
    "duration": 228,
    "start_time": "2023-06-27T13:22:45.959Z"
   },
   {
    "duration": 200,
    "start_time": "2023-06-27T13:23:53.605Z"
   },
   {
    "duration": 238,
    "start_time": "2023-06-27T13:26:20.407Z"
   },
   {
    "duration": 228,
    "start_time": "2023-06-27T13:26:46.251Z"
   },
   {
    "duration": 284,
    "start_time": "2023-06-27T13:26:59.719Z"
   },
   {
    "duration": 196,
    "start_time": "2023-06-27T13:27:09.142Z"
   },
   {
    "duration": 859,
    "start_time": "2023-06-27T13:27:14.929Z"
   },
   {
    "duration": 73,
    "start_time": "2023-06-27T13:27:33.820Z"
   },
   {
    "duration": 182,
    "start_time": "2023-06-27T13:27:36.423Z"
   },
   {
    "duration": 196,
    "start_time": "2023-06-27T13:27:57.420Z"
   },
   {
    "duration": 196,
    "start_time": "2023-06-27T13:28:37.757Z"
   },
   {
    "duration": 202,
    "start_time": "2023-06-27T13:28:43.133Z"
   },
   {
    "duration": 203,
    "start_time": "2023-06-27T13:28:47.203Z"
   },
   {
    "duration": 175,
    "start_time": "2023-06-27T13:29:14.977Z"
   },
   {
    "duration": 222,
    "start_time": "2023-06-27T13:29:39.319Z"
   },
   {
    "duration": 185,
    "start_time": "2023-06-27T13:30:10.552Z"
   },
   {
    "duration": 196,
    "start_time": "2023-06-27T13:30:31.702Z"
   },
   {
    "duration": 173,
    "start_time": "2023-06-27T13:31:20.418Z"
   },
   {
    "duration": 203,
    "start_time": "2023-06-27T13:31:26.046Z"
   },
   {
    "duration": 15,
    "start_time": "2023-06-27T13:32:25.428Z"
   },
   {
    "duration": 114,
    "start_time": "2023-06-27T13:32:52.655Z"
   },
   {
    "duration": 15,
    "start_time": "2023-06-27T13:32:56.239Z"
   },
   {
    "duration": 136,
    "start_time": "2023-06-27T13:33:05.719Z"
   },
   {
    "duration": 5,
    "start_time": "2023-06-27T13:33:18.769Z"
   },
   {
    "duration": 118,
    "start_time": "2023-06-27T13:33:22.635Z"
   },
   {
    "duration": 124,
    "start_time": "2023-06-27T13:33:53.916Z"
   },
   {
    "duration": 103,
    "start_time": "2023-06-27T13:34:08.055Z"
   },
   {
    "duration": 112,
    "start_time": "2023-06-27T13:35:01.539Z"
   },
   {
    "duration": 14,
    "start_time": "2023-06-27T13:35:15.858Z"
   },
   {
    "duration": 121,
    "start_time": "2023-06-27T13:35:26.801Z"
   },
   {
    "duration": 113,
    "start_time": "2023-06-27T13:35:40.955Z"
   },
   {
    "duration": 103,
    "start_time": "2023-06-27T13:35:48.219Z"
   },
   {
    "duration": 132,
    "start_time": "2023-06-27T13:37:51.931Z"
   },
   {
    "duration": 123,
    "start_time": "2023-06-27T13:38:02.937Z"
   },
   {
    "duration": 113,
    "start_time": "2023-06-27T13:38:17.623Z"
   },
   {
    "duration": 121,
    "start_time": "2023-06-27T13:38:32.823Z"
   },
   {
    "duration": 130,
    "start_time": "2023-06-27T13:39:25.266Z"
   },
   {
    "duration": 12,
    "start_time": "2023-06-27T13:41:22.712Z"
   },
   {
    "duration": 17,
    "start_time": "2023-06-27T13:41:27.424Z"
   },
   {
    "duration": 13,
    "start_time": "2023-06-27T13:41:29.521Z"
   },
   {
    "duration": 219,
    "start_time": "2023-06-27T13:41:29.645Z"
   },
   {
    "duration": 204,
    "start_time": "2023-06-27T13:41:38.944Z"
   },
   {
    "duration": 1837,
    "start_time": "2023-06-27T13:42:16.208Z"
   },
   {
    "duration": 86,
    "start_time": "2023-06-27T13:42:46.603Z"
   },
   {
    "duration": 63,
    "start_time": "2023-06-27T13:42:51.935Z"
   },
   {
    "duration": 228,
    "start_time": "2023-06-27T13:42:56.025Z"
   },
   {
    "duration": 198,
    "start_time": "2023-06-27T13:43:20.147Z"
   },
   {
    "duration": 223,
    "start_time": "2023-06-27T13:43:25.566Z"
   },
   {
    "duration": 471,
    "start_time": "2023-06-27T13:44:19.412Z"
   },
   {
    "duration": 247,
    "start_time": "2023-06-27T13:45:37.504Z"
   },
   {
    "duration": 208,
    "start_time": "2023-06-27T13:45:51.132Z"
   },
   {
    "duration": 246,
    "start_time": "2023-06-27T13:46:12.635Z"
   },
   {
    "duration": 140,
    "start_time": "2023-06-27T13:46:13.825Z"
   },
   {
    "duration": 16,
    "start_time": "2023-06-27T13:46:16.318Z"
   },
   {
    "duration": 192,
    "start_time": "2023-06-27T13:46:17.346Z"
   },
   {
    "duration": 3,
    "start_time": "2023-06-27T13:48:15.443Z"
   },
   {
    "duration": 4,
    "start_time": "2023-06-27T13:48:19.522Z"
   },
   {
    "duration": 195,
    "start_time": "2023-06-27T13:53:41.547Z"
   },
   {
    "duration": 205,
    "start_time": "2023-06-27T13:54:18.336Z"
   },
   {
    "duration": 150,
    "start_time": "2023-06-27T13:54:32.431Z"
   },
   {
    "duration": 161,
    "start_time": "2023-06-27T13:54:48.021Z"
   },
   {
    "duration": 170,
    "start_time": "2023-06-27T13:54:56.408Z"
   },
   {
    "duration": 142,
    "start_time": "2023-06-27T13:55:02.654Z"
   },
   {
    "duration": 466,
    "start_time": "2023-06-27T14:02:11.108Z"
   },
   {
    "duration": 15,
    "start_time": "2023-06-27T14:02:55.066Z"
   },
   {
    "duration": 211,
    "start_time": "2023-06-27T14:03:02.946Z"
   },
   {
    "duration": 16,
    "start_time": "2023-06-27T14:03:04.523Z"
   },
   {
    "duration": 1145,
    "start_time": "2023-06-27T14:03:06.103Z"
   },
   {
    "duration": 174,
    "start_time": "2023-06-27T14:03:07.251Z"
   },
   {
    "duration": 15,
    "start_time": "2023-06-27T14:03:11.936Z"
   },
   {
    "duration": 9,
    "start_time": "2023-06-27T14:03:14.113Z"
   },
   {
    "duration": 341,
    "start_time": "2023-06-27T14:03:15.208Z"
   },
   {
    "duration": 4,
    "start_time": "2023-06-27T14:03:19.770Z"
   },
   {
    "duration": 48,
    "start_time": "2023-06-27T14:03:20.812Z"
   },
   {
    "duration": 10,
    "start_time": "2023-06-27T14:03:37.534Z"
   },
   {
    "duration": 239,
    "start_time": "2023-06-27T14:03:38.607Z"
   },
   {
    "duration": 245,
    "start_time": "2023-06-27T14:03:54.029Z"
   },
   {
    "duration": 1565,
    "start_time": "2023-06-28T11:35:52.325Z"
   },
   {
    "duration": 357,
    "start_time": "2023-06-28T11:35:53.893Z"
   },
   {
    "duration": 32,
    "start_time": "2023-06-28T11:35:54.252Z"
   },
   {
    "duration": 37,
    "start_time": "2023-06-28T11:35:54.287Z"
   },
   {
    "duration": 17,
    "start_time": "2023-06-28T11:35:54.922Z"
   },
   {
    "duration": 22,
    "start_time": "2023-06-28T11:35:56.648Z"
   },
   {
    "duration": 12,
    "start_time": "2023-06-28T11:35:57.748Z"
   },
   {
    "duration": 12,
    "start_time": "2023-06-28T11:35:59.618Z"
   },
   {
    "duration": 6,
    "start_time": "2023-06-28T11:36:00.135Z"
   },
   {
    "duration": 7,
    "start_time": "2023-06-28T11:36:01.196Z"
   },
   {
    "duration": 7,
    "start_time": "2023-06-28T11:36:01.401Z"
   },
   {
    "duration": 7,
    "start_time": "2023-06-28T11:36:03.296Z"
   },
   {
    "duration": 13,
    "start_time": "2023-06-28T11:36:03.442Z"
   },
   {
    "duration": 14,
    "start_time": "2023-06-28T11:36:04.332Z"
   },
   {
    "duration": 11,
    "start_time": "2023-06-28T11:36:05.377Z"
   },
   {
    "duration": 13,
    "start_time": "2023-06-28T11:36:06.950Z"
   },
   {
    "duration": 233,
    "start_time": "2023-06-28T11:36:07.475Z"
   },
   {
    "duration": 274,
    "start_time": "2023-06-28T11:36:09.810Z"
   },
   {
    "duration": 146,
    "start_time": "2023-06-28T11:36:13.242Z"
   },
   {
    "duration": 101,
    "start_time": "2023-06-28T11:36:14.514Z"
   },
   {
    "duration": 6,
    "start_time": "2023-06-28T11:36:15.863Z"
   },
   {
    "duration": 236,
    "start_time": "2023-06-28T11:36:19.667Z"
   },
   {
    "duration": 310,
    "start_time": "2023-06-28T11:36:28.110Z"
   },
   {
    "duration": 146,
    "start_time": "2023-06-28T11:36:32.117Z"
   },
   {
    "duration": 10,
    "start_time": "2023-06-28T11:36:33.713Z"
   },
   {
    "duration": 185,
    "start_time": "2023-06-28T11:36:35.262Z"
   },
   {
    "duration": 3,
    "start_time": "2023-06-28T11:36:36.451Z"
   },
   {
    "duration": 179,
    "start_time": "2023-06-28T11:36:39.455Z"
   },
   {
    "duration": 10,
    "start_time": "2023-06-28T11:36:42.148Z"
   },
   {
    "duration": 639,
    "start_time": "2023-06-28T11:36:43.662Z"
   },
   {
    "duration": 144,
    "start_time": "2023-06-28T11:36:44.713Z"
   },
   {
    "duration": 19,
    "start_time": "2023-06-28T11:36:47.321Z"
   },
   {
    "duration": 5,
    "start_time": "2023-06-28T11:36:49.418Z"
   },
   {
    "duration": 334,
    "start_time": "2023-06-28T11:36:49.608Z"
   },
   {
    "duration": 4,
    "start_time": "2023-06-28T11:36:51.531Z"
   },
   {
    "duration": 39,
    "start_time": "2023-06-28T11:36:52.049Z"
   },
   {
    "duration": 9,
    "start_time": "2023-06-28T11:36:53.108Z"
   },
   {
    "duration": 290,
    "start_time": "2023-06-28T11:36:53.821Z"
   },
   {
    "duration": 224,
    "start_time": "2023-06-28T11:36:54.250Z"
   },
   {
    "duration": 151,
    "start_time": "2023-06-28T11:36:56.254Z"
   },
   {
    "duration": 164,
    "start_time": "2023-06-28T11:36:57.282Z"
   },
   {
    "duration": 43,
    "start_time": "2023-06-28T11:37:01.477Z"
   },
   {
    "duration": 16,
    "start_time": "2023-06-28T11:37:02.712Z"
   },
   {
    "duration": 11,
    "start_time": "2023-06-28T11:37:06.209Z"
   },
   {
    "duration": 130,
    "start_time": "2023-06-28T11:38:49.480Z"
   },
   {
    "duration": 11,
    "start_time": "2023-06-28T11:49:12.416Z"
   },
   {
    "duration": 6,
    "start_time": "2023-06-28T11:49:22.356Z"
   },
   {
    "duration": 111,
    "start_time": "2023-06-28T11:49:30.167Z"
   },
   {
    "duration": 5,
    "start_time": "2023-06-28T11:49:39.819Z"
   },
   {
    "duration": 5,
    "start_time": "2023-06-28T11:49:56.380Z"
   },
   {
    "duration": 112,
    "start_time": "2023-06-28T11:50:57.334Z"
   },
   {
    "duration": 6,
    "start_time": "2023-06-28T11:51:02.016Z"
   },
   {
    "duration": 4,
    "start_time": "2023-06-28T11:51:02.444Z"
   },
   {
    "duration": 5,
    "start_time": "2023-06-28T11:53:04.781Z"
   },
   {
    "duration": 5,
    "start_time": "2023-06-28T11:53:18.345Z"
   },
   {
    "duration": 82,
    "start_time": "2023-06-28T11:54:09.738Z"
   },
   {
    "duration": 4,
    "start_time": "2023-06-28T11:54:45.808Z"
   },
   {
    "duration": 95,
    "start_time": "2023-06-28T11:59:07.416Z"
   },
   {
    "duration": 7,
    "start_time": "2023-06-28T11:59:12.130Z"
   },
   {
    "duration": 3,
    "start_time": "2023-06-28T11:59:43.064Z"
   },
   {
    "duration": 3,
    "start_time": "2023-06-28T11:59:44.324Z"
   },
   {
    "duration": 12,
    "start_time": "2023-06-28T11:59:47.781Z"
   },
   {
    "duration": 4,
    "start_time": "2023-06-28T11:59:48.414Z"
   },
   {
    "duration": 8,
    "start_time": "2023-06-28T11:59:49.879Z"
   },
   {
    "duration": 10,
    "start_time": "2023-06-28T12:00:52.821Z"
   },
   {
    "duration": 9,
    "start_time": "2023-06-28T12:08:41.519Z"
   },
   {
    "duration": 15,
    "start_time": "2023-06-28T12:08:57.926Z"
   },
   {
    "duration": 13,
    "start_time": "2023-06-28T12:09:21.358Z"
   },
   {
    "duration": 15,
    "start_time": "2023-06-28T12:09:26.073Z"
   },
   {
    "duration": 10,
    "start_time": "2023-06-28T12:09:28.168Z"
   },
   {
    "duration": 7,
    "start_time": "2023-06-28T12:09:37.645Z"
   },
   {
    "duration": 6,
    "start_time": "2023-06-28T12:10:26.364Z"
   },
   {
    "duration": 7,
    "start_time": "2023-06-28T12:11:07.444Z"
   },
   {
    "duration": 7,
    "start_time": "2023-06-28T12:11:14.604Z"
   },
   {
    "duration": 13,
    "start_time": "2023-06-28T12:11:33.568Z"
   },
   {
    "duration": 7,
    "start_time": "2023-06-28T12:11:39.765Z"
   },
   {
    "duration": 7,
    "start_time": "2023-06-28T12:16:15.216Z"
   },
   {
    "duration": 11,
    "start_time": "2023-06-28T12:16:40.722Z"
   },
   {
    "duration": 8,
    "start_time": "2023-06-28T12:16:42.912Z"
   },
   {
    "duration": 5,
    "start_time": "2023-06-28T12:18:48.149Z"
   },
   {
    "duration": 163,
    "start_time": "2023-06-28T12:21:29.066Z"
   },
   {
    "duration": 186,
    "start_time": "2023-06-28T12:21:41.762Z"
   },
   {
    "duration": 467,
    "start_time": "2023-06-28T12:21:45.504Z"
   },
   {
    "duration": 214,
    "start_time": "2023-06-28T12:21:47.939Z"
   },
   {
    "duration": 1299,
    "start_time": "2023-06-28T12:21:57.926Z"
   },
   {
    "duration": 84,
    "start_time": "2023-06-28T12:21:59.227Z"
   },
   {
    "duration": 35,
    "start_time": "2023-06-28T12:21:59.313Z"
   },
   {
    "duration": 33,
    "start_time": "2023-06-28T12:21:59.350Z"
   },
   {
    "duration": 18,
    "start_time": "2023-06-28T12:21:59.385Z"
   },
   {
    "duration": 34,
    "start_time": "2023-06-28T12:21:59.406Z"
   },
   {
    "duration": 32,
    "start_time": "2023-06-28T12:21:59.442Z"
   },
   {
    "duration": 14,
    "start_time": "2023-06-28T12:21:59.476Z"
   },
   {
    "duration": 6,
    "start_time": "2023-06-28T12:21:59.492Z"
   },
   {
    "duration": 11,
    "start_time": "2023-06-28T12:21:59.500Z"
   },
   {
    "duration": 32,
    "start_time": "2023-06-28T12:21:59.513Z"
   },
   {
    "duration": 23,
    "start_time": "2023-06-28T12:21:59.547Z"
   },
   {
    "duration": 16,
    "start_time": "2023-06-28T12:21:59.573Z"
   },
   {
    "duration": 32,
    "start_time": "2023-06-28T12:21:59.594Z"
   },
   {
    "duration": 20,
    "start_time": "2023-06-28T12:21:59.628Z"
   },
   {
    "duration": 22,
    "start_time": "2023-06-28T12:21:59.650Z"
   },
   {
    "duration": 213,
    "start_time": "2023-06-28T12:21:59.681Z"
   },
   {
    "duration": 246,
    "start_time": "2023-06-28T12:21:59.897Z"
   },
   {
    "duration": 157,
    "start_time": "2023-06-28T12:22:00.145Z"
   },
   {
    "duration": 104,
    "start_time": "2023-06-28T12:22:00.304Z"
   },
   {
    "duration": 5,
    "start_time": "2023-06-28T12:22:00.410Z"
   },
   {
    "duration": 269,
    "start_time": "2023-06-28T12:22:00.417Z"
   },
   {
    "duration": 263,
    "start_time": "2023-06-28T12:22:00.689Z"
   },
   {
    "duration": 175,
    "start_time": "2023-06-28T12:22:00.954Z"
   },
   {
    "duration": 12,
    "start_time": "2023-06-28T12:22:01.132Z"
   },
   {
    "duration": 235,
    "start_time": "2023-06-28T12:22:01.146Z"
   },
   {
    "duration": 4,
    "start_time": "2023-06-28T12:22:01.384Z"
   },
   {
    "duration": 250,
    "start_time": "2023-06-28T12:22:01.390Z"
   },
   {
    "duration": 10,
    "start_time": "2023-06-28T12:22:01.642Z"
   },
   {
    "duration": 782,
    "start_time": "2023-06-28T12:22:01.668Z"
   },
   {
    "duration": 194,
    "start_time": "2023-06-28T12:22:02.453Z"
   },
   {
    "duration": 33,
    "start_time": "2023-06-28T12:22:02.650Z"
   },
   {
    "duration": 86,
    "start_time": "2023-06-28T12:22:02.686Z"
   },
   {
    "duration": 398,
    "start_time": "2023-06-28T12:22:02.781Z"
   },
   {
    "duration": 5,
    "start_time": "2023-06-28T12:22:03.182Z"
   },
   {
    "duration": 94,
    "start_time": "2023-06-28T12:22:03.190Z"
   },
   {
    "duration": 12,
    "start_time": "2023-06-28T12:22:03.287Z"
   },
   {
    "duration": 274,
    "start_time": "2023-06-28T12:22:03.301Z"
   },
   {
    "duration": 220,
    "start_time": "2023-06-28T12:22:03.581Z"
   },
   {
    "duration": 235,
    "start_time": "2023-06-28T12:22:03.803Z"
   },
   {
    "duration": 236,
    "start_time": "2023-06-28T12:22:04.044Z"
   },
   {
    "duration": 58,
    "start_time": "2023-06-28T12:22:04.285Z"
   },
   {
    "duration": 36,
    "start_time": "2023-06-28T12:22:04.346Z"
   },
   {
    "duration": 3,
    "start_time": "2023-06-28T12:22:04.385Z"
   },
   {
    "duration": 111,
    "start_time": "2023-06-28T12:22:04.389Z"
   },
   {
    "duration": 31,
    "start_time": "2023-06-28T12:22:04.502Z"
   },
   {
    "duration": 7,
    "start_time": "2023-06-28T12:22:04.535Z"
   },
   {
    "duration": 31,
    "start_time": "2023-06-28T12:22:04.544Z"
   },
   {
    "duration": 36,
    "start_time": "2023-06-28T12:22:04.579Z"
   },
   {
    "duration": 14,
    "start_time": "2023-06-28T12:22:04.617Z"
   },
   {
    "duration": 23,
    "start_time": "2023-06-28T12:22:04.633Z"
   },
   {
    "duration": 16,
    "start_time": "2023-06-28T12:22:04.658Z"
   },
   {
    "duration": 23,
    "start_time": "2023-06-28T12:22:04.680Z"
   },
   {
    "duration": 78,
    "start_time": "2023-06-28T12:22:04.705Z"
   },
   {
    "duration": 20,
    "start_time": "2023-06-28T12:22:04.785Z"
   },
   {
    "duration": 44,
    "start_time": "2023-06-28T12:22:04.807Z"
   },
   {
    "duration": 18,
    "start_time": "2023-06-28T12:22:04.854Z"
   },
   {
    "duration": 271,
    "start_time": "2023-06-28T12:23:34.379Z"
   },
   {
    "duration": 511,
    "start_time": "2023-06-28T12:23:41.203Z"
   },
   {
    "duration": 289,
    "start_time": "2023-06-28T12:24:38.935Z"
   },
   {
    "duration": 457,
    "start_time": "2023-06-28T12:24:49.614Z"
   },
   {
    "duration": 205,
    "start_time": "2023-06-28T12:24:56.706Z"
   },
   {
    "duration": 257,
    "start_time": "2023-06-28T12:24:58.906Z"
   },
   {
    "duration": 193,
    "start_time": "2023-06-28T12:25:00.354Z"
   },
   {
    "duration": 10,
    "start_time": "2023-06-28T12:25:01.939Z"
   },
   {
    "duration": 188,
    "start_time": "2023-06-28T12:25:03.512Z"
   },
   {
    "duration": 3,
    "start_time": "2023-06-28T12:25:04.549Z"
   },
   {
    "duration": 195,
    "start_time": "2023-06-28T12:25:11.364Z"
   },
   {
    "duration": 12,
    "start_time": "2023-06-28T12:25:12.937Z"
   },
   {
    "duration": 548,
    "start_time": "2023-06-28T12:25:15.034Z"
   },
   {
    "duration": 164,
    "start_time": "2023-06-28T12:25:27.810Z"
   },
   {
    "duration": 10,
    "start_time": "2023-06-28T12:25:33.406Z"
   },
   {
    "duration": 1431,
    "start_time": "2023-06-28T12:25:47.647Z"
   },
   {
    "duration": 73,
    "start_time": "2023-06-28T12:25:49.082Z"
   },
   {
    "duration": 34,
    "start_time": "2023-06-28T12:25:49.157Z"
   },
   {
    "duration": 20,
    "start_time": "2023-06-28T12:25:49.193Z"
   },
   {
    "duration": 20,
    "start_time": "2023-06-28T12:25:49.215Z"
   },
   {
    "duration": 49,
    "start_time": "2023-06-28T12:25:49.238Z"
   },
   {
    "duration": 12,
    "start_time": "2023-06-28T12:25:49.290Z"
   },
   {
    "duration": 16,
    "start_time": "2023-06-28T12:25:49.304Z"
   },
   {
    "duration": 25,
    "start_time": "2023-06-28T12:25:49.323Z"
   },
   {
    "duration": 19,
    "start_time": "2023-06-28T12:25:49.351Z"
   },
   {
    "duration": 22,
    "start_time": "2023-06-28T12:25:49.372Z"
   },
   {
    "duration": 24,
    "start_time": "2023-06-28T12:25:49.396Z"
   },
   {
    "duration": 16,
    "start_time": "2023-06-28T12:25:49.421Z"
   },
   {
    "duration": 16,
    "start_time": "2023-06-28T12:25:49.439Z"
   },
   {
    "duration": 12,
    "start_time": "2023-06-28T12:25:49.458Z"
   },
   {
    "duration": 19,
    "start_time": "2023-06-28T12:25:49.472Z"
   },
   {
    "duration": 236,
    "start_time": "2023-06-28T12:25:49.493Z"
   },
   {
    "duration": 279,
    "start_time": "2023-06-28T12:25:49.732Z"
   },
   {
    "duration": 172,
    "start_time": "2023-06-28T12:25:50.013Z"
   },
   {
    "duration": 104,
    "start_time": "2023-06-28T12:25:50.188Z"
   },
   {
    "duration": 6,
    "start_time": "2023-06-28T12:25:50.294Z"
   },
   {
    "duration": 289,
    "start_time": "2023-06-28T12:25:50.303Z"
   },
   {
    "duration": 289,
    "start_time": "2023-06-28T12:25:50.594Z"
   },
   {
    "duration": 162,
    "start_time": "2023-06-28T12:25:50.890Z"
   },
   {
    "duration": 14,
    "start_time": "2023-06-28T12:25:51.055Z"
   },
   {
    "duration": 202,
    "start_time": "2023-06-28T12:25:51.076Z"
   },
   {
    "duration": 3,
    "start_time": "2023-06-28T12:25:51.280Z"
   },
   {
    "duration": 204,
    "start_time": "2023-06-28T12:25:51.287Z"
   },
   {
    "duration": 9,
    "start_time": "2023-06-28T12:25:51.493Z"
   },
   {
    "duration": 542,
    "start_time": "2023-06-28T12:25:51.503Z"
   },
   {
    "duration": 168,
    "start_time": "2023-06-28T12:25:52.047Z"
   },
   {
    "duration": 13,
    "start_time": "2023-06-28T12:25:52.217Z"
   },
   {
    "duration": 11,
    "start_time": "2023-06-28T12:25:52.232Z"
   },
   {
    "duration": 344,
    "start_time": "2023-06-28T12:25:52.245Z"
   },
   {
    "duration": 4,
    "start_time": "2023-06-28T12:25:52.591Z"
   },
   {
    "duration": 55,
    "start_time": "2023-06-28T12:25:52.597Z"
   },
   {
    "duration": 25,
    "start_time": "2023-06-28T12:25:52.657Z"
   },
   {
    "duration": 246,
    "start_time": "2023-06-28T12:25:52.687Z"
   },
   {
    "duration": 217,
    "start_time": "2023-06-28T12:25:52.936Z"
   },
   {
    "duration": 193,
    "start_time": "2023-06-28T12:25:53.155Z"
   },
   {
    "duration": 203,
    "start_time": "2023-06-28T12:25:53.350Z"
   },
   {
    "duration": 41,
    "start_time": "2023-06-28T12:25:53.556Z"
   },
   {
    "duration": 16,
    "start_time": "2023-06-28T12:25:53.598Z"
   },
   {
    "duration": 6,
    "start_time": "2023-06-28T12:25:53.615Z"
   },
   {
    "duration": 21,
    "start_time": "2023-06-28T12:25:53.623Z"
   },
   {
    "duration": 25,
    "start_time": "2023-06-28T12:25:53.647Z"
   },
   {
    "duration": 22,
    "start_time": "2023-06-28T12:25:53.674Z"
   },
   {
    "duration": 30,
    "start_time": "2023-06-28T12:25:53.700Z"
   },
   {
    "duration": 17,
    "start_time": "2023-06-28T12:25:53.735Z"
   },
   {
    "duration": 26,
    "start_time": "2023-06-28T12:25:53.754Z"
   },
   {
    "duration": 35,
    "start_time": "2023-06-28T12:25:53.783Z"
   },
   {
    "duration": 33,
    "start_time": "2023-06-28T12:25:53.820Z"
   },
   {
    "duration": 38,
    "start_time": "2023-06-28T12:25:53.855Z"
   },
   {
    "duration": 42,
    "start_time": "2023-06-28T12:25:53.896Z"
   },
   {
    "duration": 8,
    "start_time": "2023-06-28T12:25:53.943Z"
   },
   {
    "duration": 47,
    "start_time": "2023-06-28T12:25:53.954Z"
   },
   {
    "duration": 21,
    "start_time": "2023-06-28T12:25:54.004Z"
   },
   {
    "duration": 12,
    "start_time": "2023-06-28T12:31:41.606Z"
   },
   {
    "duration": 7,
    "start_time": "2023-06-28T12:32:07.651Z"
   },
   {
    "duration": 6,
    "start_time": "2023-06-28T12:32:09.223Z"
   },
   {
    "duration": 3,
    "start_time": "2023-06-28T12:34:09.508Z"
   },
   {
    "duration": 5,
    "start_time": "2023-06-28T12:34:21.407Z"
   },
   {
    "duration": 6,
    "start_time": "2023-06-28T12:34:40.220Z"
   },
   {
    "duration": 158,
    "start_time": "2023-06-28T12:42:10.732Z"
   },
   {
    "duration": 3,
    "start_time": "2023-06-28T12:42:35.228Z"
   },
   {
    "duration": 157,
    "start_time": "2023-06-28T12:42:45.277Z"
   },
   {
    "duration": 300,
    "start_time": "2023-06-28T12:44:12.293Z"
   },
   {
    "duration": 2628,
    "start_time": "2023-06-28T14:46:05.949Z"
   },
   {
    "duration": 2479,
    "start_time": "2023-06-28T14:47:02.652Z"
   },
   {
    "duration": 664,
    "start_time": "2023-06-28T14:47:08.964Z"
   },
   {
    "duration": 6,
    "start_time": "2023-06-28T14:48:33.213Z"
   },
   {
    "duration": 373,
    "start_time": "2023-06-28T14:50:44.933Z"
   },
   {
    "duration": 322,
    "start_time": "2023-06-28T14:51:19.841Z"
   },
   {
    "duration": 2747,
    "start_time": "2023-06-28T14:55:43.505Z"
   },
   {
    "duration": 914,
    "start_time": "2023-06-28T14:55:55.812Z"
   },
   {
    "duration": 2608,
    "start_time": "2023-06-28T14:56:53.407Z"
   },
   {
    "duration": 2540,
    "start_time": "2023-06-28T14:57:08.513Z"
   },
   {
    "duration": 2716,
    "start_time": "2023-06-28T14:57:48.014Z"
   },
   {
    "duration": 4,
    "start_time": "2023-06-28T14:58:07.246Z"
   },
   {
    "duration": 2138,
    "start_time": "2023-06-28T14:58:15.248Z"
   },
   {
    "duration": 481,
    "start_time": "2023-06-28T14:58:59.238Z"
   },
   {
    "duration": 3048,
    "start_time": "2023-06-28T14:59:12.372Z"
   },
   {
    "duration": 2339,
    "start_time": "2023-06-28T14:59:53.814Z"
   },
   {
    "duration": 2842,
    "start_time": "2023-06-28T15:00:16.518Z"
   },
   {
    "duration": 128,
    "start_time": "2023-06-28T15:00:59.126Z"
   },
   {
    "duration": 3275,
    "start_time": "2023-06-28T15:01:05.126Z"
   },
   {
    "duration": 3271,
    "start_time": "2023-06-28T15:01:20.119Z"
   },
   {
    "duration": 2561,
    "start_time": "2023-06-28T15:01:34.789Z"
   },
   {
    "duration": 3723,
    "start_time": "2023-06-28T15:02:09.464Z"
   },
   {
    "duration": 17,
    "start_time": "2023-06-28T15:11:59.534Z"
   },
   {
    "duration": 4861,
    "start_time": "2023-06-28T15:12:29.800Z"
   },
   {
    "duration": 4451,
    "start_time": "2023-06-28T15:12:57.737Z"
   },
   {
    "duration": 9,
    "start_time": "2023-06-28T15:37:48.294Z"
   },
   {
    "duration": 4227,
    "start_time": "2023-06-28T15:38:13.114Z"
   },
   {
    "duration": 19,
    "start_time": "2023-06-28T15:40:57.226Z"
   },
   {
    "duration": 6,
    "start_time": "2023-06-28T15:41:04.549Z"
   },
   {
    "duration": 6,
    "start_time": "2023-06-28T15:41:46.206Z"
   },
   {
    "duration": 6,
    "start_time": "2023-06-28T15:41:48.617Z"
   },
   {
    "duration": 8,
    "start_time": "2023-06-28T15:43:18.606Z"
   },
   {
    "duration": 7,
    "start_time": "2023-06-28T15:43:32.198Z"
   },
   {
    "duration": 7,
    "start_time": "2023-06-28T15:44:01.288Z"
   },
   {
    "duration": 11,
    "start_time": "2023-06-28T15:47:09.148Z"
   },
   {
    "duration": 4,
    "start_time": "2023-06-28T15:48:03.500Z"
   },
   {
    "duration": 5,
    "start_time": "2023-06-28T15:48:13.728Z"
   },
   {
    "duration": 9,
    "start_time": "2023-06-28T15:51:24.894Z"
   },
   {
    "duration": 25,
    "start_time": "2023-06-28T15:53:53.907Z"
   },
   {
    "duration": 7,
    "start_time": "2023-06-28T15:54:22.221Z"
   },
   {
    "duration": 192,
    "start_time": "2023-06-28T15:55:36.047Z"
   },
   {
    "duration": 246,
    "start_time": "2023-06-28T15:56:31.080Z"
   },
   {
    "duration": 204,
    "start_time": "2023-06-28T15:56:38.731Z"
   },
   {
    "duration": 181,
    "start_time": "2023-06-28T15:57:38.397Z"
   },
   {
    "duration": 209,
    "start_time": "2023-06-28T15:58:23.353Z"
   },
   {
    "duration": 239,
    "start_time": "2023-06-28T15:58:28.821Z"
   },
   {
    "duration": 201,
    "start_time": "2023-06-28T15:58:34.996Z"
   },
   {
    "duration": 147,
    "start_time": "2023-06-28T15:58:53.123Z"
   },
   {
    "duration": 238,
    "start_time": "2023-06-28T15:58:58.914Z"
   },
   {
    "duration": 18,
    "start_time": "2023-06-28T15:59:04.595Z"
   },
   {
    "duration": 196,
    "start_time": "2023-06-28T15:59:27.358Z"
   },
   {
    "duration": 835,
    "start_time": "2023-06-28T15:59:56.137Z"
   },
   {
    "duration": 193,
    "start_time": "2023-06-28T16:00:09.233Z"
   },
   {
    "duration": 318,
    "start_time": "2023-06-28T16:00:36.737Z"
   },
   {
    "duration": 273,
    "start_time": "2023-06-28T16:01:09.590Z"
   },
   {
    "duration": 276,
    "start_time": "2023-06-28T16:01:56.149Z"
   },
   {
    "duration": 261,
    "start_time": "2023-06-28T16:02:27.904Z"
   },
   {
    "duration": 257,
    "start_time": "2023-06-28T16:02:45.247Z"
   },
   {
    "duration": 279,
    "start_time": "2023-06-28T16:04:40.035Z"
   },
   {
    "duration": 265,
    "start_time": "2023-06-28T16:08:55.819Z"
   },
   {
    "duration": 237,
    "start_time": "2023-06-28T16:09:11.317Z"
   },
   {
    "duration": 19,
    "start_time": "2023-06-28T16:29:59.335Z"
   },
   {
    "duration": 52,
    "start_time": "2023-06-28T16:30:58.901Z"
   },
   {
    "duration": 13,
    "start_time": "2023-06-28T16:31:06.844Z"
   },
   {
    "duration": 15,
    "start_time": "2023-06-28T16:31:11.726Z"
   },
   {
    "duration": 5,
    "start_time": "2023-06-28T16:31:13.335Z"
   },
   {
    "duration": 7,
    "start_time": "2023-06-28T16:31:27.116Z"
   },
   {
    "duration": 8,
    "start_time": "2023-06-28T16:31:27.746Z"
   },
   {
    "duration": 9,
    "start_time": "2023-06-28T16:31:36.309Z"
   },
   {
    "duration": 10,
    "start_time": "2023-06-28T16:31:36.516Z"
   },
   {
    "duration": 12,
    "start_time": "2023-06-28T16:31:37.231Z"
   },
   {
    "duration": 14,
    "start_time": "2023-06-28T16:31:50.804Z"
   },
   {
    "duration": 16,
    "start_time": "2023-06-28T16:32:02.325Z"
   },
   {
    "duration": 270,
    "start_time": "2023-06-28T16:32:03.916Z"
   },
   {
    "duration": 242,
    "start_time": "2023-06-28T16:32:06.821Z"
   },
   {
    "duration": 198,
    "start_time": "2023-06-28T16:32:17.532Z"
   },
   {
    "duration": 140,
    "start_time": "2023-06-28T16:32:20.260Z"
   },
   {
    "duration": 5,
    "start_time": "2023-06-28T16:32:21.458Z"
   },
   {
    "duration": 227,
    "start_time": "2023-06-28T16:32:28.424Z"
   },
   {
    "duration": 304,
    "start_time": "2023-06-28T16:32:31.854Z"
   },
   {
    "duration": 278,
    "start_time": "2023-06-28T16:32:34.520Z"
   },
   {
    "duration": 164,
    "start_time": "2023-06-28T16:32:46.526Z"
   },
   {
    "duration": 10,
    "start_time": "2023-06-28T16:32:47.857Z"
   },
   {
    "duration": 196,
    "start_time": "2023-06-28T16:32:49.000Z"
   },
   {
    "duration": 3,
    "start_time": "2023-06-28T16:32:50.814Z"
   },
   {
    "duration": 226,
    "start_time": "2023-06-28T16:32:56.346Z"
   },
   {
    "duration": 12,
    "start_time": "2023-06-28T16:32:59.511Z"
   },
   {
    "duration": 494,
    "start_time": "2023-06-28T16:33:06.316Z"
   },
   {
    "duration": 201,
    "start_time": "2023-06-28T16:33:08.134Z"
   },
   {
    "duration": 9,
    "start_time": "2023-06-28T16:33:09.522Z"
   },
   {
    "duration": 6,
    "start_time": "2023-06-28T16:33:11.522Z"
   },
   {
    "duration": 328,
    "start_time": "2023-06-28T16:33:12.435Z"
   },
   {
    "duration": 4,
    "start_time": "2023-06-28T16:33:20.230Z"
   },
   {
    "duration": 41,
    "start_time": "2023-06-28T16:33:21.112Z"
   },
   {
    "duration": 32,
    "start_time": "2023-06-28T16:33:25.564Z"
   },
   {
    "duration": 267,
    "start_time": "2023-06-28T16:33:31.714Z"
   },
   {
    "duration": 255,
    "start_time": "2023-06-28T16:33:32.127Z"
   },
   {
    "duration": 186,
    "start_time": "2023-06-28T16:33:35.126Z"
   },
   {
    "duration": 230,
    "start_time": "2023-06-28T16:33:35.860Z"
   },
   {
    "duration": 52,
    "start_time": "2023-06-28T16:33:44.665Z"
   },
   {
    "duration": 15,
    "start_time": "2023-06-28T16:33:51.643Z"
   },
   {
    "duration": 2,
    "start_time": "2023-06-28T16:34:05.913Z"
   },
   {
    "duration": 7,
    "start_time": "2023-06-28T16:34:06.908Z"
   },
   {
    "duration": 12,
    "start_time": "2023-06-28T16:34:14.841Z"
   },
   {
    "duration": 3,
    "start_time": "2023-06-28T16:34:15.856Z"
   },
   {
    "duration": 11,
    "start_time": "2023-06-28T16:34:17.102Z"
   },
   {
    "duration": 2,
    "start_time": "2023-06-28T16:34:28.758Z"
   },
   {
    "duration": 8,
    "start_time": "2023-06-28T16:34:30.312Z"
   },
   {
    "duration": 7,
    "start_time": "2023-06-28T16:34:40.052Z"
   },
   {
    "duration": 11,
    "start_time": "2023-06-28T16:34:40.969Z"
   },
   {
    "duration": 12,
    "start_time": "2023-06-28T16:34:52.453Z"
   },
   {
    "duration": 11,
    "start_time": "2023-06-28T16:34:53.120Z"
   },
   {
    "duration": 6,
    "start_time": "2023-06-28T16:34:54.409Z"
   },
   {
    "duration": 9,
    "start_time": "2023-06-28T16:35:03.113Z"
   },
   {
    "duration": 8,
    "start_time": "2023-06-28T16:35:04.152Z"
   },
   {
    "duration": 4423,
    "start_time": "2023-06-28T16:35:32.117Z"
   },
   {
    "duration": 1437,
    "start_time": "2023-06-28T19:11:57.083Z"
   },
   {
    "duration": 201,
    "start_time": "2023-06-28T19:11:58.523Z"
   },
   {
    "duration": 22,
    "start_time": "2023-06-28T19:11:58.726Z"
   },
   {
    "duration": 19,
    "start_time": "2023-06-28T19:11:58.750Z"
   },
   {
    "duration": 15,
    "start_time": "2023-06-28T19:11:58.771Z"
   },
   {
    "duration": 39,
    "start_time": "2023-06-28T19:11:58.788Z"
   },
   {
    "duration": 12,
    "start_time": "2023-06-28T19:11:58.829Z"
   },
   {
    "duration": 12,
    "start_time": "2023-06-28T19:11:58.842Z"
   },
   {
    "duration": 5,
    "start_time": "2023-06-28T19:11:58.856Z"
   },
   {
    "duration": 47,
    "start_time": "2023-06-28T19:11:58.864Z"
   },
   {
    "duration": 12,
    "start_time": "2023-06-28T19:11:58.913Z"
   },
   {
    "duration": 6,
    "start_time": "2023-06-28T19:11:58.927Z"
   },
   {
    "duration": 12,
    "start_time": "2023-06-28T19:11:58.934Z"
   },
   {
    "duration": 11,
    "start_time": "2023-06-28T19:11:58.948Z"
   },
   {
    "duration": 50,
    "start_time": "2023-06-28T19:11:58.961Z"
   },
   {
    "duration": 14,
    "start_time": "2023-06-28T19:11:59.013Z"
   },
   {
    "duration": 196,
    "start_time": "2023-06-28T19:11:59.029Z"
   },
   {
    "duration": 233,
    "start_time": "2023-06-28T19:11:59.227Z"
   },
   {
    "duration": 136,
    "start_time": "2023-06-28T19:11:59.463Z"
   },
   {
    "duration": 79,
    "start_time": "2023-06-28T19:11:59.608Z"
   },
   {
    "duration": 20,
    "start_time": "2023-06-28T19:11:59.690Z"
   },
   {
    "duration": 190,
    "start_time": "2023-06-28T19:11:59.712Z"
   },
   {
    "duration": 252,
    "start_time": "2023-06-28T19:11:59.909Z"
   },
   {
    "duration": 151,
    "start_time": "2023-06-28T19:12:00.163Z"
   },
   {
    "duration": 10,
    "start_time": "2023-06-28T19:12:00.316Z"
   },
   {
    "duration": 229,
    "start_time": "2023-06-28T19:12:00.328Z"
   },
   {
    "duration": 3,
    "start_time": "2023-06-28T19:12:00.559Z"
   },
   {
    "duration": 234,
    "start_time": "2023-06-28T19:12:00.566Z"
   },
   {
    "duration": 12,
    "start_time": "2023-06-28T19:12:00.802Z"
   },
   {
    "duration": 505,
    "start_time": "2023-06-28T19:12:00.816Z"
   },
   {
    "duration": 156,
    "start_time": "2023-06-28T19:12:01.323Z"
   },
   {
    "duration": 13,
    "start_time": "2023-06-28T19:12:01.481Z"
   },
   {
    "duration": 15,
    "start_time": "2023-06-28T19:12:01.510Z"
   },
   {
    "duration": 315,
    "start_time": "2023-06-28T19:12:01.527Z"
   },
   {
    "duration": 4,
    "start_time": "2023-06-28T19:12:01.844Z"
   },
   {
    "duration": 67,
    "start_time": "2023-06-28T19:12:01.850Z"
   },
   {
    "duration": 9,
    "start_time": "2023-06-28T19:12:01.919Z"
   },
   {
    "duration": 228,
    "start_time": "2023-06-28T19:12:01.930Z"
   },
   {
    "duration": 216,
    "start_time": "2023-06-28T19:12:02.160Z"
   },
   {
    "duration": 162,
    "start_time": "2023-06-28T19:12:02.378Z"
   },
   {
    "duration": 167,
    "start_time": "2023-06-28T19:12:02.542Z"
   },
   {
    "duration": 34,
    "start_time": "2023-06-28T19:12:02.711Z"
   },
   {
    "duration": 32,
    "start_time": "2023-06-28T19:12:02.747Z"
   },
   {
    "duration": 17,
    "start_time": "2023-06-28T19:12:02.781Z"
   },
   {
    "duration": 64,
    "start_time": "2023-06-28T19:12:02.800Z"
   },
   {
    "duration": 136,
    "start_time": "2023-06-28T19:12:02.866Z"
   },
   {
    "duration": 58,
    "start_time": "2023-06-28T19:12:03.004Z"
   },
   {
    "duration": 59,
    "start_time": "2023-06-28T19:12:03.064Z"
   },
   {
    "duration": 21,
    "start_time": "2023-06-28T19:12:03.125Z"
   },
   {
    "duration": 39,
    "start_time": "2023-06-28T19:12:03.148Z"
   },
   {
    "duration": 50,
    "start_time": "2023-06-28T19:12:03.189Z"
   },
   {
    "duration": 25,
    "start_time": "2023-06-28T19:12:03.241Z"
   },
   {
    "duration": 28,
    "start_time": "2023-06-28T19:12:03.268Z"
   },
   {
    "duration": 38,
    "start_time": "2023-06-28T19:12:03.298Z"
   },
   {
    "duration": 23,
    "start_time": "2023-06-28T19:12:03.338Z"
   },
   {
    "duration": 24,
    "start_time": "2023-06-28T19:12:03.363Z"
   },
   {
    "duration": 33,
    "start_time": "2023-06-28T19:12:03.389Z"
   },
   {
    "duration": 3160,
    "start_time": "2023-06-28T19:12:03.424Z"
   },
   {
    "duration": 227,
    "start_time": "2023-06-28T19:12:06.586Z"
   },
   {
    "duration": 8,
    "start_time": "2023-06-28T19:34:06.016Z"
   },
   {
    "duration": 6,
    "start_time": "2023-06-28T19:34:11.528Z"
   },
   {
    "duration": 1429,
    "start_time": "2023-06-28T20:25:09.970Z"
   },
   {
    "duration": 205,
    "start_time": "2023-06-28T20:25:11.401Z"
   },
   {
    "duration": 24,
    "start_time": "2023-06-28T20:25:11.608Z"
   },
   {
    "duration": 38,
    "start_time": "2023-06-28T20:25:11.634Z"
   },
   {
    "duration": 26,
    "start_time": "2023-06-28T20:25:11.674Z"
   },
   {
    "duration": 50,
    "start_time": "2023-06-28T20:25:11.702Z"
   },
   {
    "duration": 20,
    "start_time": "2023-06-28T20:25:11.754Z"
   },
   {
    "duration": 67,
    "start_time": "2023-06-28T20:25:11.777Z"
   },
   {
    "duration": 50,
    "start_time": "2023-06-28T20:25:11.846Z"
   },
   {
    "duration": 59,
    "start_time": "2023-06-28T20:25:11.898Z"
   },
   {
    "duration": 24,
    "start_time": "2023-06-28T20:25:11.958Z"
   },
   {
    "duration": 23,
    "start_time": "2023-06-28T20:25:11.984Z"
   },
   {
    "duration": 26,
    "start_time": "2023-06-28T20:25:12.009Z"
   },
   {
    "duration": 20,
    "start_time": "2023-06-28T20:25:12.040Z"
   },
   {
    "duration": 10,
    "start_time": "2023-06-28T20:25:12.063Z"
   },
   {
    "duration": 21,
    "start_time": "2023-06-28T20:25:12.076Z"
   },
   {
    "duration": 193,
    "start_time": "2023-06-28T20:25:12.099Z"
   },
   {
    "duration": 272,
    "start_time": "2023-06-28T20:25:12.294Z"
   },
   {
    "duration": 185,
    "start_time": "2023-06-28T20:25:12.568Z"
   },
   {
    "duration": 84,
    "start_time": "2023-06-28T20:25:12.755Z"
   },
   {
    "duration": 17,
    "start_time": "2023-06-28T20:25:12.841Z"
   },
   {
    "duration": 201,
    "start_time": "2023-06-28T20:25:12.860Z"
   },
   {
    "duration": 241,
    "start_time": "2023-06-28T20:25:13.063Z"
   },
   {
    "duration": 168,
    "start_time": "2023-06-28T20:25:13.306Z"
   },
   {
    "duration": 9,
    "start_time": "2023-06-28T20:25:13.476Z"
   },
   {
    "duration": 203,
    "start_time": "2023-06-28T20:25:13.487Z"
   },
   {
    "duration": 3,
    "start_time": "2023-06-28T20:25:13.691Z"
   },
   {
    "duration": 211,
    "start_time": "2023-06-28T20:25:13.696Z"
   },
   {
    "duration": 11,
    "start_time": "2023-06-28T20:25:13.909Z"
   },
   {
    "duration": 591,
    "start_time": "2023-06-28T20:25:13.923Z"
   },
   {
    "duration": 147,
    "start_time": "2023-06-28T20:25:14.516Z"
   },
   {
    "duration": 13,
    "start_time": "2023-06-28T20:25:14.665Z"
   },
   {
    "duration": 23,
    "start_time": "2023-06-28T20:25:14.680Z"
   },
   {
    "duration": 311,
    "start_time": "2023-06-28T20:25:14.706Z"
   },
   {
    "duration": 4,
    "start_time": "2023-06-28T20:25:15.018Z"
   },
   {
    "duration": 67,
    "start_time": "2023-06-28T20:25:15.023Z"
   },
   {
    "duration": 9,
    "start_time": "2023-06-28T20:25:15.091Z"
   },
   {
    "duration": 220,
    "start_time": "2023-06-28T20:25:15.102Z"
   },
   {
    "duration": 201,
    "start_time": "2023-06-28T20:25:15.324Z"
   },
   {
    "duration": 173,
    "start_time": "2023-06-28T20:25:15.527Z"
   },
   {
    "duration": 177,
    "start_time": "2023-06-28T20:25:15.704Z"
   },
   {
    "duration": 31,
    "start_time": "2023-06-28T20:25:15.883Z"
   },
   {
    "duration": 39,
    "start_time": "2023-06-28T20:25:15.916Z"
   },
   {
    "duration": 2,
    "start_time": "2023-06-28T20:25:15.957Z"
   },
   {
    "duration": 21,
    "start_time": "2023-06-28T20:25:15.960Z"
   },
   {
    "duration": 20,
    "start_time": "2023-06-28T20:25:15.983Z"
   },
   {
    "duration": 16,
    "start_time": "2023-06-28T20:25:16.006Z"
   },
   {
    "duration": 20,
    "start_time": "2023-06-28T20:25:16.025Z"
   },
   {
    "duration": 11,
    "start_time": "2023-06-28T20:25:16.047Z"
   },
   {
    "duration": 21,
    "start_time": "2023-06-28T20:25:16.060Z"
   },
   {
    "duration": 11,
    "start_time": "2023-06-28T20:25:16.083Z"
   },
   {
    "duration": 13,
    "start_time": "2023-06-28T20:25:16.096Z"
   },
   {
    "duration": 16,
    "start_time": "2023-06-28T20:25:16.111Z"
   },
   {
    "duration": 18,
    "start_time": "2023-06-28T20:25:16.129Z"
   },
   {
    "duration": 20,
    "start_time": "2023-06-28T20:25:16.148Z"
   },
   {
    "duration": 29,
    "start_time": "2023-06-28T20:25:16.170Z"
   },
   {
    "duration": 15,
    "start_time": "2023-06-28T20:25:16.201Z"
   },
   {
    "duration": 3032,
    "start_time": "2023-06-28T20:25:16.219Z"
   },
   {
    "duration": 229,
    "start_time": "2023-06-28T20:25:19.254Z"
   },
   {
    "duration": 141,
    "start_time": "2023-06-28T20:30:23.033Z"
   },
   {
    "duration": 135,
    "start_time": "2023-06-28T20:30:49.343Z"
   },
   {
    "duration": 1292,
    "start_time": "2023-06-28T20:32:40.643Z"
   },
   {
    "duration": 505,
    "start_time": "2023-06-28T20:33:03.506Z"
   },
   {
    "duration": 339,
    "start_time": "2023-06-28T20:33:20.194Z"
   },
   {
    "duration": 354,
    "start_time": "2023-06-28T20:33:25.879Z"
   },
   {
    "duration": 70,
    "start_time": "2023-06-28T20:33:37.166Z"
   },
   {
    "duration": 297,
    "start_time": "2023-06-28T20:33:45.266Z"
   },
   {
    "duration": 318,
    "start_time": "2023-06-28T20:34:22.674Z"
   },
   {
    "duration": 212,
    "start_time": "2023-06-28T20:35:12.751Z"
   },
   {
    "duration": 478,
    "start_time": "2023-06-28T20:35:39.052Z"
   },
   {
    "duration": 399,
    "start_time": "2023-06-28T20:35:42.361Z"
   },
   {
    "duration": 314,
    "start_time": "2023-06-28T20:36:45.925Z"
   },
   {
    "duration": 209,
    "start_time": "2023-06-28T20:36:55.535Z"
   },
   {
    "duration": 14,
    "start_time": "2023-06-28T20:38:49.526Z"
   },
   {
    "duration": 6,
    "start_time": "2023-06-28T20:38:53.853Z"
   },
   {
    "duration": 271,
    "start_time": "2023-06-28T20:38:55.844Z"
   },
   {
    "duration": 334,
    "start_time": "2023-06-28T20:38:58.898Z"
   },
   {
    "duration": 456,
    "start_time": "2023-06-28T20:39:05.273Z"
   },
   {
    "duration": 301,
    "start_time": "2023-06-28T20:40:20.808Z"
   },
   {
    "duration": 301,
    "start_time": "2023-06-28T20:40:25.736Z"
   },
   {
    "duration": 295,
    "start_time": "2023-06-28T20:41:05.022Z"
   },
   {
    "duration": 281,
    "start_time": "2023-06-28T20:41:59.113Z"
   },
   {
    "duration": 315,
    "start_time": "2023-06-28T20:43:50.096Z"
   },
   {
    "duration": 425,
    "start_time": "2023-06-28T20:44:27.619Z"
   },
   {
    "duration": 1198,
    "start_time": "2023-06-28T20:44:39.469Z"
   },
   {
    "duration": 72,
    "start_time": "2023-06-28T20:44:40.669Z"
   },
   {
    "duration": 21,
    "start_time": "2023-06-28T20:44:40.743Z"
   },
   {
    "duration": 104,
    "start_time": "2023-06-28T20:44:40.766Z"
   },
   {
    "duration": 42,
    "start_time": "2023-06-28T20:44:40.872Z"
   },
   {
    "duration": 46,
    "start_time": "2023-06-28T20:44:40.916Z"
   },
   {
    "duration": 11,
    "start_time": "2023-06-28T20:44:40.964Z"
   },
   {
    "duration": 32,
    "start_time": "2023-06-28T20:44:40.977Z"
   },
   {
    "duration": 23,
    "start_time": "2023-06-28T20:44:41.011Z"
   },
   {
    "duration": 73,
    "start_time": "2023-06-28T20:44:41.037Z"
   },
   {
    "duration": 20,
    "start_time": "2023-06-28T20:44:41.112Z"
   },
   {
    "duration": 23,
    "start_time": "2023-06-28T20:44:41.134Z"
   },
   {
    "duration": 45,
    "start_time": "2023-06-28T20:44:41.159Z"
   },
   {
    "duration": 24,
    "start_time": "2023-06-28T20:44:41.206Z"
   },
   {
    "duration": 14,
    "start_time": "2023-06-28T20:44:41.232Z"
   },
   {
    "duration": 41,
    "start_time": "2023-06-28T20:44:41.247Z"
   },
   {
    "duration": 166,
    "start_time": "2023-06-28T20:44:41.290Z"
   },
   {
    "duration": 208,
    "start_time": "2023-06-28T20:44:41.458Z"
   },
   {
    "duration": 130,
    "start_time": "2023-06-28T20:44:41.668Z"
   },
   {
    "duration": 93,
    "start_time": "2023-06-28T20:44:41.800Z"
   },
   {
    "duration": 5,
    "start_time": "2023-06-28T20:44:41.895Z"
   },
   {
    "duration": 207,
    "start_time": "2023-06-28T20:44:41.902Z"
   },
   {
    "duration": 230,
    "start_time": "2023-06-28T20:44:42.111Z"
   },
   {
    "duration": 193,
    "start_time": "2023-06-28T20:44:42.343Z"
   },
   {
    "duration": 18,
    "start_time": "2023-06-28T20:44:42.538Z"
   },
   {
    "duration": 290,
    "start_time": "2023-06-28T20:44:42.558Z"
   },
   {
    "duration": 3,
    "start_time": "2023-06-28T20:44:42.853Z"
   },
   {
    "duration": 218,
    "start_time": "2023-06-28T20:44:42.860Z"
   },
   {
    "duration": 10,
    "start_time": "2023-06-28T20:44:43.080Z"
   },
   {
    "duration": 522,
    "start_time": "2023-06-28T20:44:43.092Z"
   },
   {
    "duration": 321,
    "start_time": "2023-06-28T20:44:43.616Z"
   },
   {
    "duration": 156,
    "start_time": "2023-06-28T20:44:43.940Z"
   },
   {
    "duration": 339,
    "start_time": "2023-06-28T20:44:44.098Z"
   },
   {
    "duration": 19,
    "start_time": "2023-06-28T20:44:44.439Z"
   },
   {
    "duration": 37,
    "start_time": "2023-06-28T20:44:44.459Z"
   },
   {
    "duration": 292,
    "start_time": "2023-06-28T20:44:44.497Z"
   },
   {
    "duration": 326,
    "start_time": "2023-06-28T20:44:44.790Z"
   },
   {
    "duration": 3,
    "start_time": "2023-06-28T20:44:45.118Z"
   },
   {
    "duration": 62,
    "start_time": "2023-06-28T20:44:45.123Z"
   },
   {
    "duration": 9,
    "start_time": "2023-06-28T20:44:45.187Z"
   },
   {
    "duration": 375,
    "start_time": "2023-06-28T20:44:45.198Z"
   },
   {
    "duration": 436,
    "start_time": "2023-06-28T20:44:45.575Z"
   },
   {
    "duration": 188,
    "start_time": "2023-06-28T20:44:46.013Z"
   },
   {
    "duration": 300,
    "start_time": "2023-06-28T20:44:46.202Z"
   },
   {
    "duration": 168,
    "start_time": "2023-06-28T20:44:46.504Z"
   },
   {
    "duration": 314,
    "start_time": "2023-06-28T20:44:46.674Z"
   },
   {
    "duration": 163,
    "start_time": "2023-06-28T20:44:46.990Z"
   },
   {
    "duration": 411,
    "start_time": "2023-06-28T20:44:47.155Z"
   },
   {
    "duration": 31,
    "start_time": "2023-06-28T20:44:47.568Z"
   },
   {
    "duration": 46,
    "start_time": "2023-06-28T20:44:47.600Z"
   },
   {
    "duration": 27,
    "start_time": "2023-06-28T20:44:47.647Z"
   },
   {
    "duration": 18,
    "start_time": "2023-06-28T20:44:47.676Z"
   },
   {
    "duration": 24,
    "start_time": "2023-06-28T20:44:47.696Z"
   },
   {
    "duration": 54,
    "start_time": "2023-06-28T20:44:47.722Z"
   },
   {
    "duration": 34,
    "start_time": "2023-06-28T20:44:47.778Z"
   },
   {
    "duration": 28,
    "start_time": "2023-06-28T20:44:47.814Z"
   },
   {
    "duration": 24,
    "start_time": "2023-06-28T20:44:47.844Z"
   },
   {
    "duration": 22,
    "start_time": "2023-06-28T20:44:47.870Z"
   },
   {
    "duration": 24,
    "start_time": "2023-06-28T20:44:47.894Z"
   },
   {
    "duration": 37,
    "start_time": "2023-06-28T20:44:47.920Z"
   },
   {
    "duration": 43,
    "start_time": "2023-06-28T20:44:47.959Z"
   },
   {
    "duration": 16,
    "start_time": "2023-06-28T20:44:48.004Z"
   },
   {
    "duration": 22,
    "start_time": "2023-06-28T20:44:48.021Z"
   },
   {
    "duration": 26,
    "start_time": "2023-06-28T20:44:48.045Z"
   },
   {
    "duration": 2842,
    "start_time": "2023-06-28T20:44:48.073Z"
   },
   {
    "duration": 216,
    "start_time": "2023-06-28T20:44:50.917Z"
   },
   {
    "duration": 5,
    "start_time": "2023-06-28T20:56:42.338Z"
   },
   {
    "duration": 6,
    "start_time": "2023-06-28T21:02:21.672Z"
   },
   {
    "duration": 6,
    "start_time": "2023-06-28T21:10:08.420Z"
   },
   {
    "duration": 140,
    "start_time": "2023-06-28T21:22:10.033Z"
   },
   {
    "duration": 446,
    "start_time": "2023-06-28T21:22:36.103Z"
   },
   {
    "duration": 591,
    "start_time": "2023-06-28T21:23:17.897Z"
   },
   {
    "duration": 427,
    "start_time": "2023-06-28T21:23:29.932Z"
   },
   {
    "duration": 451,
    "start_time": "2023-06-28T21:23:51.699Z"
   },
   {
    "duration": 338,
    "start_time": "2023-06-28T21:24:02.895Z"
   },
   {
    "duration": 453,
    "start_time": "2023-06-28T21:24:09.507Z"
   },
   {
    "duration": 316,
    "start_time": "2023-06-28T21:24:14.996Z"
   },
   {
    "duration": 331,
    "start_time": "2023-06-28T21:24:21.616Z"
   },
   {
    "duration": 316,
    "start_time": "2023-06-28T21:24:27.040Z"
   },
   {
    "duration": 1359,
    "start_time": "2023-06-28T21:24:35.032Z"
   },
   {
    "duration": 73,
    "start_time": "2023-06-28T21:24:36.394Z"
   },
   {
    "duration": 24,
    "start_time": "2023-06-28T21:24:36.469Z"
   },
   {
    "duration": 20,
    "start_time": "2023-06-28T21:24:36.496Z"
   },
   {
    "duration": 37,
    "start_time": "2023-06-28T21:24:36.518Z"
   },
   {
    "duration": 51,
    "start_time": "2023-06-28T21:24:36.557Z"
   },
   {
    "duration": 14,
    "start_time": "2023-06-28T21:24:36.610Z"
   },
   {
    "duration": 15,
    "start_time": "2023-06-28T21:24:36.626Z"
   },
   {
    "duration": 5,
    "start_time": "2023-06-28T21:24:36.644Z"
   },
   {
    "duration": 17,
    "start_time": "2023-06-28T21:24:36.656Z"
   },
   {
    "duration": 15,
    "start_time": "2023-06-28T21:24:36.675Z"
   },
   {
    "duration": 22,
    "start_time": "2023-06-28T21:24:36.692Z"
   },
   {
    "duration": 35,
    "start_time": "2023-06-28T21:24:36.717Z"
   },
   {
    "duration": 44,
    "start_time": "2023-06-28T21:24:36.765Z"
   },
   {
    "duration": 13,
    "start_time": "2023-06-28T21:24:36.810Z"
   },
   {
    "duration": 13,
    "start_time": "2023-06-28T21:24:36.825Z"
   },
   {
    "duration": 198,
    "start_time": "2023-06-28T21:24:36.840Z"
   },
   {
    "duration": 229,
    "start_time": "2023-06-28T21:24:37.040Z"
   },
   {
    "duration": 141,
    "start_time": "2023-06-28T21:24:37.270Z"
   },
   {
    "duration": 92,
    "start_time": "2023-06-28T21:24:37.413Z"
   },
   {
    "duration": 5,
    "start_time": "2023-06-28T21:24:37.507Z"
   },
   {
    "duration": 219,
    "start_time": "2023-06-28T21:24:37.514Z"
   },
   {
    "duration": 227,
    "start_time": "2023-06-28T21:24:37.735Z"
   },
   {
    "duration": 159,
    "start_time": "2023-06-28T21:24:37.965Z"
   },
   {
    "duration": 10,
    "start_time": "2023-06-28T21:24:38.126Z"
   },
   {
    "duration": 248,
    "start_time": "2023-06-28T21:24:38.137Z"
   },
   {
    "duration": 2,
    "start_time": "2023-06-28T21:24:38.387Z"
   },
   {
    "duration": 245,
    "start_time": "2023-06-28T21:24:38.393Z"
   },
   {
    "duration": 13,
    "start_time": "2023-06-28T21:24:38.641Z"
   },
   {
    "duration": 477,
    "start_time": "2023-06-28T21:24:38.656Z"
   },
   {
    "duration": 319,
    "start_time": "2023-06-28T21:24:39.135Z"
   },
   {
    "duration": 152,
    "start_time": "2023-06-28T21:24:39.456Z"
   },
   {
    "duration": 311,
    "start_time": "2023-06-28T21:24:39.610Z"
   },
   {
    "duration": 13,
    "start_time": "2023-06-28T21:24:39.922Z"
   },
   {
    "duration": 17,
    "start_time": "2023-06-28T21:24:39.937Z"
   },
   {
    "duration": 276,
    "start_time": "2023-06-28T21:24:39.955Z"
   },
   {
    "duration": 318,
    "start_time": "2023-06-28T21:24:40.233Z"
   },
   {
    "duration": 5,
    "start_time": "2023-06-28T21:24:40.554Z"
   },
   {
    "duration": 41,
    "start_time": "2023-06-28T21:24:40.561Z"
   },
   {
    "duration": 10,
    "start_time": "2023-06-28T21:24:40.604Z"
   },
   {
    "duration": 334,
    "start_time": "2023-06-28T21:24:40.616Z"
   },
   {
    "duration": 310,
    "start_time": "2023-06-28T21:24:40.953Z"
   },
   {
    "duration": 194,
    "start_time": "2023-06-28T21:24:41.264Z"
   },
   {
    "duration": 315,
    "start_time": "2023-06-28T21:24:41.461Z"
   },
   {
    "duration": 156,
    "start_time": "2023-06-28T21:24:41.778Z"
   },
   {
    "duration": 310,
    "start_time": "2023-06-28T21:24:41.936Z"
   },
   {
    "duration": 176,
    "start_time": "2023-06-28T21:24:42.248Z"
   },
   {
    "duration": 487,
    "start_time": "2023-06-28T21:24:42.427Z"
   },
   {
    "duration": 45,
    "start_time": "2023-06-28T21:24:42.916Z"
   },
   {
    "duration": 14,
    "start_time": "2023-06-28T21:24:42.963Z"
   },
   {
    "duration": 7,
    "start_time": "2023-06-28T21:24:42.979Z"
   },
   {
    "duration": 7,
    "start_time": "2023-06-28T21:24:42.988Z"
   },
   {
    "duration": 12,
    "start_time": "2023-06-28T21:24:42.997Z"
   },
   {
    "duration": 7,
    "start_time": "2023-06-28T21:24:43.011Z"
   },
   {
    "duration": 8,
    "start_time": "2023-06-28T21:24:43.019Z"
   },
   {
    "duration": 29,
    "start_time": "2023-06-28T21:24:43.028Z"
   },
   {
    "duration": 3,
    "start_time": "2023-06-28T21:24:43.059Z"
   },
   {
    "duration": 12,
    "start_time": "2023-06-28T21:24:43.063Z"
   },
   {
    "duration": 7,
    "start_time": "2023-06-28T21:24:43.077Z"
   },
   {
    "duration": 17,
    "start_time": "2023-06-28T21:24:43.086Z"
   },
   {
    "duration": 10,
    "start_time": "2023-06-28T21:24:43.104Z"
   },
   {
    "duration": 4,
    "start_time": "2023-06-28T21:24:43.116Z"
   },
   {
    "duration": 9,
    "start_time": "2023-06-28T21:24:43.122Z"
   },
   {
    "duration": 24,
    "start_time": "2023-06-28T21:24:43.133Z"
   },
   {
    "duration": 2895,
    "start_time": "2023-06-28T21:24:43.158Z"
   },
   {
    "duration": 230,
    "start_time": "2023-06-28T21:24:46.056Z"
   },
   {
    "duration": 145,
    "start_time": "2023-06-28T21:24:55.299Z"
   },
   {
    "duration": 480,
    "start_time": "2023-06-28T21:24:57.196Z"
   },
   {
    "duration": 4,
    "start_time": "2023-06-28T21:25:25.126Z"
   },
   {
    "duration": 67,
    "start_time": "2023-06-28T21:25:26.177Z"
   },
   {
    "duration": 16,
    "start_time": "2023-06-28T21:25:27.738Z"
   },
   {
    "duration": 18,
    "start_time": "2023-06-28T21:25:29.950Z"
   },
   {
    "duration": 14,
    "start_time": "2023-06-28T21:25:32.012Z"
   },
   {
    "duration": 21,
    "start_time": "2023-06-28T21:25:34.346Z"
   },
   {
    "duration": 12,
    "start_time": "2023-06-28T21:25:35.959Z"
   },
   {
    "duration": 13,
    "start_time": "2023-06-28T21:25:38.104Z"
   },
   {
    "duration": 5,
    "start_time": "2023-06-28T21:25:38.807Z"
   },
   {
    "duration": 7,
    "start_time": "2023-06-28T21:25:39.962Z"
   },
   {
    "duration": 8,
    "start_time": "2023-06-28T21:25:40.165Z"
   },
   {
    "duration": 7,
    "start_time": "2023-06-28T21:25:41.224Z"
   },
   {
    "duration": 9,
    "start_time": "2023-06-28T21:25:41.500Z"
   },
   {
    "duration": 11,
    "start_time": "2023-06-28T21:25:42.258Z"
   },
   {
    "duration": 10,
    "start_time": "2023-06-28T21:25:43.204Z"
   },
   {
    "duration": 11,
    "start_time": "2023-06-28T21:25:44.464Z"
   },
   {
    "duration": 150,
    "start_time": "2023-06-28T21:25:45.300Z"
   },
   {
    "duration": 211,
    "start_time": "2023-06-28T21:25:47.510Z"
   },
   {
    "duration": 122,
    "start_time": "2023-06-28T21:25:51.112Z"
   },
   {
    "duration": 79,
    "start_time": "2023-06-28T21:25:53.149Z"
   },
   {
    "duration": 4,
    "start_time": "2023-06-28T21:25:54.416Z"
   },
   {
    "duration": 187,
    "start_time": "2023-06-28T21:25:55.627Z"
   },
   {
    "duration": 211,
    "start_time": "2023-06-28T21:25:57.890Z"
   },
   {
    "duration": 127,
    "start_time": "2023-06-28T21:25:58.995Z"
   },
   {
    "duration": 10,
    "start_time": "2023-06-28T21:25:59.904Z"
   },
   {
    "duration": 178,
    "start_time": "2023-06-28T21:26:01.215Z"
   },
   {
    "duration": 3,
    "start_time": "2023-06-28T21:26:03.007Z"
   },
   {
    "duration": 176,
    "start_time": "2023-06-28T21:26:06.008Z"
   },
   {
    "duration": 9,
    "start_time": "2023-06-28T21:26:07.244Z"
   },
   {
    "duration": 501,
    "start_time": "2023-06-28T21:26:08.653Z"
   },
   {
    "duration": 314,
    "start_time": "2023-06-28T21:26:12.034Z"
   },
   {
    "duration": 287,
    "start_time": "2023-06-28T21:26:20.982Z"
   },
   {
    "duration": 297,
    "start_time": "2023-06-28T21:26:26.438Z"
   },
   {
    "duration": 316,
    "start_time": "2023-06-28T21:26:30.478Z"
   },
   {
    "duration": 317,
    "start_time": "2023-06-28T21:26:34.897Z"
   },
   {
    "duration": 432,
    "start_time": "2023-06-28T21:26:39.258Z"
   },
   {
    "duration": 295,
    "start_time": "2023-06-28T21:26:43.723Z"
   },
   {
    "duration": 279,
    "start_time": "2023-06-28T21:26:47.827Z"
   },
   {
    "duration": 310,
    "start_time": "2023-06-28T21:26:53.098Z"
   },
   {
    "duration": 268,
    "start_time": "2023-06-28T21:26:58.011Z"
   },
   {
    "duration": 137,
    "start_time": "2023-06-28T21:27:00.708Z"
   },
   {
    "duration": 394,
    "start_time": "2023-06-28T21:27:03.096Z"
   },
   {
    "duration": 296,
    "start_time": "2023-06-28T21:27:14.267Z"
   },
   {
    "duration": 298,
    "start_time": "2023-06-28T21:27:18.603Z"
   },
   {
    "duration": 13,
    "start_time": "2023-06-28T21:27:24.096Z"
   },
   {
    "duration": 7,
    "start_time": "2023-06-28T21:27:32.514Z"
   },
   {
    "duration": 253,
    "start_time": "2023-06-28T21:27:33.639Z"
   },
   {
    "duration": 323,
    "start_time": "2023-06-28T21:27:36.508Z"
   },
   {
    "duration": 3,
    "start_time": "2023-06-28T21:27:39.763Z"
   },
   {
    "duration": 39,
    "start_time": "2023-06-28T21:27:44.120Z"
   },
   {
    "duration": 11,
    "start_time": "2023-06-28T21:27:48.355Z"
   },
   {
    "duration": 208,
    "start_time": "2023-06-28T21:27:49.933Z"
   },
   {
    "duration": 438,
    "start_time": "2023-06-28T21:27:52.635Z"
   },
   {
    "duration": 193,
    "start_time": "2023-06-28T21:27:54.437Z"
   },
   {
    "duration": 315,
    "start_time": "2023-06-28T21:27:56.508Z"
   },
   {
    "duration": 149,
    "start_time": "2023-06-28T21:27:59.612Z"
   },
   {
    "duration": 282,
    "start_time": "2023-06-28T21:28:02.912Z"
   },
   {
    "duration": 244,
    "start_time": "2023-06-28T21:28:14.951Z"
   },
   {
    "duration": 253,
    "start_time": "2023-06-28T21:28:25.459Z"
   },
   {
    "duration": 219,
    "start_time": "2023-06-28T21:28:30.950Z"
   },
   {
    "duration": 432,
    "start_time": "2023-06-28T21:30:13.643Z"
   },
   {
    "duration": 220,
    "start_time": "2023-06-28T21:30:36.570Z"
   },
   {
    "duration": 31,
    "start_time": "2023-06-28T21:30:47.753Z"
   },
   {
    "duration": 14,
    "start_time": "2023-06-28T21:30:49.936Z"
   },
   {
    "duration": 3,
    "start_time": "2023-06-28T21:30:53.939Z"
   },
   {
    "duration": 3,
    "start_time": "2023-06-28T21:30:55.066Z"
   },
   {
    "duration": 9,
    "start_time": "2023-06-28T21:31:00.263Z"
   },
   {
    "duration": 4,
    "start_time": "2023-06-28T21:31:00.963Z"
   },
   {
    "duration": 7,
    "start_time": "2023-06-28T21:31:02.133Z"
   },
   {
    "duration": 3,
    "start_time": "2023-06-28T21:31:05.516Z"
   },
   {
    "duration": 3,
    "start_time": "2023-06-28T21:31:07.006Z"
   },
   {
    "duration": 8,
    "start_time": "2023-06-28T21:31:09.848Z"
   },
   {
    "duration": 8,
    "start_time": "2023-06-28T21:31:10.860Z"
   },
   {
    "duration": 13,
    "start_time": "2023-06-28T21:31:15.524Z"
   },
   {
    "duration": 10,
    "start_time": "2023-06-28T21:31:16.204Z"
   },
   {
    "duration": 6,
    "start_time": "2023-06-28T21:31:17.525Z"
   },
   {
    "duration": 7,
    "start_time": "2023-06-28T21:31:22.767Z"
   },
   {
    "duration": 6,
    "start_time": "2023-06-28T21:31:25.239Z"
   },
   {
    "duration": 2819,
    "start_time": "2023-06-28T21:31:32.788Z"
   },
   {
    "duration": 217,
    "start_time": "2023-06-28T21:31:35.610Z"
   },
   {
    "duration": 337,
    "start_time": "2023-06-28T21:34:35.805Z"
   },
   {
    "duration": 217,
    "start_time": "2023-06-28T21:34:52.105Z"
   },
   {
    "duration": 241,
    "start_time": "2023-06-28T21:35:10.744Z"
   },
   {
    "duration": 1578,
    "start_time": "2023-06-29T14:50:35.452Z"
   },
   {
    "duration": 83,
    "start_time": "2023-06-29T14:50:37.033Z"
   },
   {
    "duration": 27,
    "start_time": "2023-06-29T14:50:37.118Z"
   },
   {
    "duration": 22,
    "start_time": "2023-06-29T14:50:37.147Z"
   },
   {
    "duration": 25,
    "start_time": "2023-06-29T14:50:37.172Z"
   },
   {
    "duration": 37,
    "start_time": "2023-06-29T14:50:37.199Z"
   },
   {
    "duration": 44,
    "start_time": "2023-06-29T14:50:37.238Z"
   },
   {
    "duration": 16,
    "start_time": "2023-06-29T14:50:37.285Z"
   },
   {
    "duration": 40,
    "start_time": "2023-06-29T14:50:37.304Z"
   },
   {
    "duration": 32,
    "start_time": "2023-06-29T14:50:37.346Z"
   },
   {
    "duration": 48,
    "start_time": "2023-06-29T14:50:37.381Z"
   },
   {
    "duration": 72,
    "start_time": "2023-06-29T14:50:37.432Z"
   },
   {
    "duration": 43,
    "start_time": "2023-06-29T14:50:37.506Z"
   },
   {
    "duration": 13,
    "start_time": "2023-06-29T14:50:37.553Z"
   },
   {
    "duration": 30,
    "start_time": "2023-06-29T14:50:37.568Z"
   },
   {
    "duration": 22,
    "start_time": "2023-06-29T14:50:37.601Z"
   },
   {
    "duration": 287,
    "start_time": "2023-06-29T14:50:37.625Z"
   },
   {
    "duration": 363,
    "start_time": "2023-06-29T14:50:37.915Z"
   },
   {
    "duration": 229,
    "start_time": "2023-06-29T14:50:38.281Z"
   },
   {
    "duration": 129,
    "start_time": "2023-06-29T14:50:38.512Z"
   },
   {
    "duration": 8,
    "start_time": "2023-06-29T14:50:38.643Z"
   },
   {
    "duration": 297,
    "start_time": "2023-06-29T14:50:38.669Z"
   },
   {
    "duration": 367,
    "start_time": "2023-06-29T14:50:38.968Z"
   },
   {
    "duration": 182,
    "start_time": "2023-06-29T14:50:39.338Z"
   },
   {
    "duration": 14,
    "start_time": "2023-06-29T14:50:39.522Z"
   },
   {
    "duration": 219,
    "start_time": "2023-06-29T14:50:39.538Z"
   },
   {
    "duration": 10,
    "start_time": "2023-06-29T14:50:39.759Z"
   },
   {
    "duration": 252,
    "start_time": "2023-06-29T14:50:39.772Z"
   },
   {
    "duration": 13,
    "start_time": "2023-06-29T14:50:40.027Z"
   },
   {
    "duration": 711,
    "start_time": "2023-06-29T14:50:40.042Z"
   },
   {
    "duration": 430,
    "start_time": "2023-06-29T14:50:40.755Z"
   },
   {
    "duration": 240,
    "start_time": "2023-06-29T14:50:41.188Z"
   },
   {
    "duration": 496,
    "start_time": "2023-06-29T14:50:41.430Z"
   },
   {
    "duration": 18,
    "start_time": "2023-06-29T14:50:41.928Z"
   },
   {
    "duration": 23,
    "start_time": "2023-06-29T14:50:41.948Z"
   },
   {
    "duration": 411,
    "start_time": "2023-06-29T14:50:41.974Z"
   },
   {
    "duration": 491,
    "start_time": "2023-06-29T14:50:42.389Z"
   },
   {
    "duration": 5,
    "start_time": "2023-06-29T14:50:42.885Z"
   },
   {
    "duration": 76,
    "start_time": "2023-06-29T14:50:42.892Z"
   },
   {
    "duration": 15,
    "start_time": "2023-06-29T14:50:42.971Z"
   },
   {
    "duration": 534,
    "start_time": "2023-06-29T14:50:42.995Z"
   },
   {
    "duration": 573,
    "start_time": "2023-06-29T14:50:43.532Z"
   },
   {
    "duration": 333,
    "start_time": "2023-06-29T14:50:44.108Z"
   },
   {
    "duration": 562,
    "start_time": "2023-06-29T14:50:44.444Z"
   },
   {
    "duration": 278,
    "start_time": "2023-06-29T14:50:45.009Z"
   },
   {
    "duration": 252,
    "start_time": "2023-06-29T14:50:45.289Z"
   },
   {
    "duration": 341,
    "start_time": "2023-06-29T14:50:45.544Z"
   },
   {
    "duration": 351,
    "start_time": "2023-06-29T14:50:45.887Z"
   },
   {
    "duration": 62,
    "start_time": "2023-06-29T14:50:46.241Z"
   },
   {
    "duration": 21,
    "start_time": "2023-06-29T14:50:46.305Z"
   },
   {
    "duration": 25,
    "start_time": "2023-06-29T14:50:46.328Z"
   },
   {
    "duration": 15,
    "start_time": "2023-06-29T14:50:46.356Z"
   },
   {
    "duration": 32,
    "start_time": "2023-06-29T14:50:46.373Z"
   },
   {
    "duration": 14,
    "start_time": "2023-06-29T14:50:46.409Z"
   },
   {
    "duration": 17,
    "start_time": "2023-06-29T14:50:46.426Z"
   },
   {
    "duration": 8,
    "start_time": "2023-06-29T14:50:46.445Z"
   },
   {
    "duration": 13,
    "start_time": "2023-06-29T14:50:46.455Z"
   },
   {
    "duration": 29,
    "start_time": "2023-06-29T14:50:46.471Z"
   },
   {
    "duration": 7,
    "start_time": "2023-06-29T14:50:46.503Z"
   },
   {
    "duration": 28,
    "start_time": "2023-06-29T14:50:46.512Z"
   },
   {
    "duration": 13,
    "start_time": "2023-06-29T14:50:46.542Z"
   },
   {
    "duration": 11,
    "start_time": "2023-06-29T14:50:46.558Z"
   },
   {
    "duration": 8,
    "start_time": "2023-06-29T14:50:46.571Z"
   },
   {
    "duration": 7,
    "start_time": "2023-06-29T14:50:46.582Z"
   },
   {
    "duration": 4404,
    "start_time": "2023-06-29T14:50:46.591Z"
   },
   {
    "duration": 343,
    "start_time": "2023-06-29T14:50:50.997Z"
   },
   {
    "duration": 113,
    "start_time": "2023-06-29T15:01:37.632Z"
   },
   {
    "duration": 1859,
    "start_time": "2023-07-03T20:11:00.649Z"
   },
   {
    "duration": 379,
    "start_time": "2023-07-03T20:11:02.515Z"
   },
   {
    "duration": 27,
    "start_time": "2023-07-03T20:11:10.161Z"
   },
   {
    "duration": 19,
    "start_time": "2023-07-03T20:11:17.779Z"
   },
   {
    "duration": 16,
    "start_time": "2023-07-03T20:11:19.857Z"
   },
   {
    "duration": 39,
    "start_time": "2023-07-03T20:11:23.339Z"
   },
   {
    "duration": 16,
    "start_time": "2023-07-03T20:11:25.059Z"
   },
   {
    "duration": 21,
    "start_time": "2023-07-03T20:11:29.197Z"
   },
   {
    "duration": 5,
    "start_time": "2023-07-03T20:11:33.468Z"
   },
   {
    "duration": 6,
    "start_time": "2023-07-03T20:11:38.183Z"
   },
   {
    "duration": 19,
    "start_time": "2023-07-03T20:11:38.634Z"
   },
   {
    "duration": 15,
    "start_time": "2023-07-03T20:11:40.717Z"
   },
   {
    "duration": 12,
    "start_time": "2023-07-03T20:11:41.279Z"
   },
   {
    "duration": 14,
    "start_time": "2023-07-03T20:11:43.863Z"
   },
   {
    "duration": 19,
    "start_time": "2023-07-03T20:11:45.794Z"
   },
   {
    "duration": 19,
    "start_time": "2023-07-03T20:11:50.890Z"
   },
   {
    "duration": 239,
    "start_time": "2023-07-03T20:11:51.259Z"
   },
   {
    "duration": 298,
    "start_time": "2023-07-03T20:11:52.812Z"
   },
   {
    "duration": 156,
    "start_time": "2023-07-03T20:11:56.937Z"
   },
   {
    "duration": 128,
    "start_time": "2023-07-03T20:12:00.877Z"
   },
   {
    "duration": 6,
    "start_time": "2023-07-03T20:12:02.558Z"
   },
   {
    "duration": 242,
    "start_time": "2023-07-03T20:12:03.577Z"
   },
   {
    "duration": 276,
    "start_time": "2023-07-03T20:12:06.838Z"
   },
   {
    "duration": 169,
    "start_time": "2023-07-03T20:12:07.970Z"
   },
   {
    "duration": 10,
    "start_time": "2023-07-03T20:12:09.126Z"
   },
   {
    "duration": 223,
    "start_time": "2023-07-03T20:12:10.179Z"
   },
   {
    "duration": 3,
    "start_time": "2023-07-03T20:12:10.678Z"
   },
   {
    "duration": 219,
    "start_time": "2023-07-03T20:12:19.959Z"
   },
   {
    "duration": 13,
    "start_time": "2023-07-03T20:12:20.760Z"
   },
   {
    "duration": 644,
    "start_time": "2023-07-03T20:12:23.353Z"
   },
   {
    "duration": 376,
    "start_time": "2023-07-03T20:12:26.799Z"
   },
   {
    "duration": 181,
    "start_time": "2023-07-03T20:12:28.189Z"
   },
   {
    "duration": 408,
    "start_time": "2023-07-03T20:12:32.952Z"
   },
   {
    "duration": 34,
    "start_time": "2023-07-03T20:12:36.800Z"
   },
   {
    "duration": 7,
    "start_time": "2023-07-03T20:12:38.658Z"
   },
   {
    "duration": 342,
    "start_time": "2023-07-03T20:12:39.962Z"
   },
   {
    "duration": 396,
    "start_time": "2023-07-03T20:12:43.563Z"
   },
   {
    "duration": 12,
    "start_time": "2023-07-03T20:12:54.446Z"
   },
   {
    "duration": 16,
    "start_time": "2023-07-03T20:13:50.858Z"
   },
   {
    "duration": 4,
    "start_time": "2023-07-03T20:14:25.372Z"
   },
   {
    "duration": 4,
    "start_time": "2023-07-03T20:15:26.891Z"
   },
   {
    "duration": 56,
    "start_time": "2023-07-03T20:15:34.094Z"
   },
   {
    "duration": 17,
    "start_time": "2023-07-03T20:16:22.548Z"
   },
   {
    "duration": 39,
    "start_time": "2023-07-03T20:16:30.148Z"
   },
   {
    "duration": 25,
    "start_time": "2023-07-03T20:18:01.450Z"
   }
  ],
  "kernelspec": {
   "display_name": "Python 3 (ipykernel)",
   "language": "python",
   "name": "python3"
  },
  "language_info": {
   "codemirror_mode": {
    "name": "ipython",
    "version": 3
   },
   "file_extension": ".py",
   "mimetype": "text/x-python",
   "name": "python",
   "nbconvert_exporter": "python",
   "pygments_lexer": "ipython3",
   "version": "3.11.5"
  },
  "toc": {
   "base_numbering": 1,
   "nav_menu": {},
   "number_sections": true,
   "sideBar": true,
   "skip_h1_title": true,
   "title_cell": "Table of Contents",
   "title_sidebar": "Contents",
   "toc_cell": false,
   "toc_position": {
    "height": "calc(100% - 180px)",
    "left": "10px",
    "top": "150px",
    "width": "273.297px"
   },
   "toc_section_display": true,
   "toc_window_display": false
  }
 },
 "nbformat": 4,
 "nbformat_minor": 5
}
