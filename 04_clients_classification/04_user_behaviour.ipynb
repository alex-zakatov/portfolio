{
 "cells": [
  {
   "cell_type": "markdown",
   "metadata": {},
   "source": [
    "# Классификация клиентов телеком компании"
   ]
  },
  {
   "cell_type": "markdown",
   "metadata": {},
   "source": [
    "В вашем распоряжении данные о поведении клиентов, которые уже перешли на необходимые тарифы. Нужно построить модель для задачи классификации, которая выберет подходящий тариф.\n",
    "\n",
    "## Задача\n",
    "\n",
    "Постройте модель машинного обучения с максимально большим значением *accuracy*. Необходимо довести долю правильных ответов минимум до 0.75."
   ]
  },
  {
   "cell_type": "markdown",
   "metadata": {},
   "source": [
    "## Загрузка библиотек"
   ]
  },
  {
   "cell_type": "code",
   "execution_count": 1,
   "metadata": {},
   "outputs": [],
   "source": [
    "# Датафреймы и математика\n",
    "import pandas as pd\n",
    "import math\n",
    "\n",
    "# Визуализация\n",
    "import seaborn as sns\n",
    "import matplotlib.pyplot as plt\n",
    "\n",
    "# Машинное обучение\n",
    "from sklearn.tree import DecisionTreeClassifier\n",
    "from sklearn.ensemble import RandomForestClassifier\n",
    "from sklearn.linear_model import LogisticRegression\n",
    "from sklearn.dummy import DummyClassifier\n",
    "from sklearn.metrics import accuracy_score\n",
    "from sklearn.model_selection import train_test_split"
   ]
  },
  {
   "cell_type": "markdown",
   "metadata": {},
   "source": [
    "##  Загрузка датасета"
   ]
  },
  {
   "cell_type": "code",
   "execution_count": 2,
   "metadata": {},
   "outputs": [
    {
     "name": "stdout",
     "output_type": "stream",
     "text": [
      "<class 'pandas.core.frame.DataFrame'>\n",
      "RangeIndex: 3214 entries, 0 to 3213\n",
      "Data columns (total 5 columns):\n",
      " #   Column    Non-Null Count  Dtype  \n",
      "---  ------    --------------  -----  \n",
      " 0   calls     3214 non-null   float64\n",
      " 1   minutes   3214 non-null   float64\n",
      " 2   messages  3214 non-null   float64\n",
      " 3   mb_used   3214 non-null   float64\n",
      " 4   is_ultra  3214 non-null   int64  \n",
      "dtypes: float64(4), int64(1)\n",
      "memory usage: 125.7 KB\n"
     ]
    },
    {
     "data": {
      "text/html": [
       "<div>\n",
       "<style scoped>\n",
       "    .dataframe tbody tr th:only-of-type {\n",
       "        vertical-align: middle;\n",
       "    }\n",
       "\n",
       "    .dataframe tbody tr th {\n",
       "        vertical-align: top;\n",
       "    }\n",
       "\n",
       "    .dataframe thead th {\n",
       "        text-align: right;\n",
       "    }\n",
       "</style>\n",
       "<table border=\"1\" class=\"dataframe\">\n",
       "  <thead>\n",
       "    <tr style=\"text-align: right;\">\n",
       "      <th></th>\n",
       "      <th>calls</th>\n",
       "      <th>minutes</th>\n",
       "      <th>messages</th>\n",
       "      <th>mb_used</th>\n",
       "      <th>is_ultra</th>\n",
       "    </tr>\n",
       "  </thead>\n",
       "  <tbody>\n",
       "    <tr>\n",
       "      <th>0</th>\n",
       "      <td>40.0</td>\n",
       "      <td>311.90</td>\n",
       "      <td>83.0</td>\n",
       "      <td>19915.42</td>\n",
       "      <td>0</td>\n",
       "    </tr>\n",
       "    <tr>\n",
       "      <th>1</th>\n",
       "      <td>85.0</td>\n",
       "      <td>516.75</td>\n",
       "      <td>56.0</td>\n",
       "      <td>22696.96</td>\n",
       "      <td>0</td>\n",
       "    </tr>\n",
       "    <tr>\n",
       "      <th>2</th>\n",
       "      <td>77.0</td>\n",
       "      <td>467.66</td>\n",
       "      <td>86.0</td>\n",
       "      <td>21060.45</td>\n",
       "      <td>0</td>\n",
       "    </tr>\n",
       "    <tr>\n",
       "      <th>3</th>\n",
       "      <td>106.0</td>\n",
       "      <td>745.53</td>\n",
       "      <td>81.0</td>\n",
       "      <td>8437.39</td>\n",
       "      <td>1</td>\n",
       "    </tr>\n",
       "    <tr>\n",
       "      <th>4</th>\n",
       "      <td>66.0</td>\n",
       "      <td>418.74</td>\n",
       "      <td>1.0</td>\n",
       "      <td>14502.75</td>\n",
       "      <td>0</td>\n",
       "    </tr>\n",
       "  </tbody>\n",
       "</table>\n",
       "</div>"
      ],
      "text/plain": [
       "   calls  minutes  messages   mb_used  is_ultra\n",
       "0   40.0   311.90      83.0  19915.42         0\n",
       "1   85.0   516.75      56.0  22696.96         0\n",
       "2   77.0   467.66      86.0  21060.45         0\n",
       "3  106.0   745.53      81.0   8437.39         1\n",
       "4   66.0   418.74       1.0  14502.75         0"
      ]
     },
     "execution_count": 2,
     "metadata": {},
     "output_type": "execute_result"
    }
   ],
   "source": [
    "df = pd.read_csv('datasets/users_behavior.csv')\n",
    "df.info()\n",
    "df.head()"
   ]
  },
  {
   "cell_type": "markdown",
   "metadata": {},
   "source": [
    "В наборе данных 3214 объектов с 5-ю признаками:\n",
    "\n",
    "* `сalls` — количество звонков,\n",
    "* `minutes` — суммарная длительность звонков в минутах,\n",
    "* `messages` — количество sms-сообщений,\n",
    "* `mb_used` — израсходованный интернет-трафик в Мб,\n",
    "* `is_ultra` — каким тарифом пользовался в течение месяца («Ультра» — 1, «Смарт» — 0)."
   ]
  },
  {
   "cell_type": "markdown",
   "metadata": {},
   "source": [
    "## Предобработка"
   ]
  },
  {
   "cell_type": "markdown",
   "metadata": {},
   "source": [
    "### Пропуски и дубликаты\n",
    "Проверим чистоту данных:"
   ]
  },
  {
   "cell_type": "code",
   "execution_count": 3,
   "metadata": {},
   "outputs": [
    {
     "data": {
      "text/plain": [
       "calls       0\n",
       "minutes     0\n",
       "messages    0\n",
       "mb_used     0\n",
       "is_ultra    0\n",
       "dtype: int64"
      ]
     },
     "execution_count": 3,
     "metadata": {},
     "output_type": "execute_result"
    }
   ],
   "source": [
    "df.isna().sum()"
   ]
  },
  {
   "cell_type": "code",
   "execution_count": 4,
   "metadata": {},
   "outputs": [
    {
     "data": {
      "text/plain": [
       "0"
      ]
     },
     "execution_count": 4,
     "metadata": {},
     "output_type": "execute_result"
    }
   ],
   "source": [
    "df.duplicated().sum()"
   ]
  },
  {
   "cell_type": "markdown",
   "metadata": {},
   "source": [
    "Пропуски и дубликаты отстутствуют"
   ]
  },
  {
   "cell_type": "markdown",
   "metadata": {},
   "source": [
    "### Приведение типов\n",
    "В 4-х из 5-ти столбцов данные представлены типом `float64`. Сразу приведём столбцы `calls` и `messages` к типу `int`:"
   ]
  },
  {
   "cell_type": "code",
   "execution_count": 5,
   "metadata": {},
   "outputs": [],
   "source": [
    "df[['calls', 'messages']] = df[['calls', 'messages']].astype(int)"
   ]
  },
  {
   "cell_type": "markdown",
   "metadata": {},
   "source": [
    "В столбцах `minutes` и `mb_used` воспользуемся округлением в большую сторону и тоже приведём к типу `int`, чтобы сократить вычислительную нагрузку:"
   ]
  },
  {
   "cell_type": "code",
   "execution_count": 6,
   "metadata": {},
   "outputs": [
    {
     "name": "stdout",
     "output_type": "stream",
     "text": [
      "<class 'pandas.core.frame.DataFrame'>\n",
      "RangeIndex: 3214 entries, 0 to 3213\n",
      "Data columns (total 5 columns):\n",
      " #   Column    Non-Null Count  Dtype\n",
      "---  ------    --------------  -----\n",
      " 0   calls     3214 non-null   int64\n",
      " 1   minutes   3214 non-null   int64\n",
      " 2   messages  3214 non-null   int64\n",
      " 3   mb_used   3214 non-null   int64\n",
      " 4   is_ultra  3214 non-null   int64\n",
      "dtypes: int64(5)\n",
      "memory usage: 125.7 KB\n"
     ]
    },
    {
     "data": {
      "text/html": [
       "<div>\n",
       "<style scoped>\n",
       "    .dataframe tbody tr th:only-of-type {\n",
       "        vertical-align: middle;\n",
       "    }\n",
       "\n",
       "    .dataframe tbody tr th {\n",
       "        vertical-align: top;\n",
       "    }\n",
       "\n",
       "    .dataframe thead th {\n",
       "        text-align: right;\n",
       "    }\n",
       "</style>\n",
       "<table border=\"1\" class=\"dataframe\">\n",
       "  <thead>\n",
       "    <tr style=\"text-align: right;\">\n",
       "      <th></th>\n",
       "      <th>calls</th>\n",
       "      <th>minutes</th>\n",
       "      <th>messages</th>\n",
       "      <th>mb_used</th>\n",
       "      <th>is_ultra</th>\n",
       "    </tr>\n",
       "  </thead>\n",
       "  <tbody>\n",
       "    <tr>\n",
       "      <th>0</th>\n",
       "      <td>40</td>\n",
       "      <td>312</td>\n",
       "      <td>83</td>\n",
       "      <td>19916</td>\n",
       "      <td>0</td>\n",
       "    </tr>\n",
       "  </tbody>\n",
       "</table>\n",
       "</div>"
      ],
      "text/plain": [
       "   calls  minutes  messages  mb_used  is_ultra\n",
       "0     40      312        83    19916         0"
      ]
     },
     "execution_count": 6,
     "metadata": {},
     "output_type": "execute_result"
    }
   ],
   "source": [
    "df['minutes'] = df['minutes'].apply(lambda x: int(math.ceil(x)))\n",
    "df['mb_used'] = df['mb_used'].apply(lambda x: int(math.ceil(x)))\n",
    "\n",
    "df.info()\n",
    "df.head(1)"
   ]
  },
  {
   "cell_type": "markdown",
   "metadata": {},
   "source": [
    "### Итоги этапа\n",
    "Данные загружены, предобработаны и готовы для дальнейшей работы."
   ]
  },
  {
   "cell_type": "markdown",
   "metadata": {},
   "source": [
    "## Разделение данных на выборки"
   ]
  },
  {
   "cell_type": "markdown",
   "metadata": {},
   "source": [
    "Делим данные на обучающую, валидационную и тестовую выборки:"
   ]
  },
  {
   "cell_type": "code",
   "execution_count": 7,
   "metadata": {
    "scrolled": true
   },
   "outputs": [
    {
     "name": "stdout",
     "output_type": "stream",
     "text": [
      "(2410, 4)\n",
      "(2410,)\n",
      "(804, 4)\n",
      "(804,)\n",
      "(603, 4)\n",
      "(603,)\n"
     ]
    }
   ],
   "source": [
    "# Тестовая выборка\n",
    "df_train, df_test = train_test_split(df, test_size=0.25, random_state=42)\n",
    "features_train = df_train.drop(['is_ultra'], axis=1)\n",
    "target_train = df_train['is_ultra']\n",
    "features_test = df_test.drop(['is_ultra'], axis=1)\n",
    "target_test = df_test['is_ultra']\n",
    "\n",
    "# Валидационная выборка\n",
    "df_train, df_valid = train_test_split(df_train, test_size=0.25, random_state=42)\n",
    "features_valid = df_valid.drop(['is_ultra'], axis=1)\n",
    "target_valid = df_valid['is_ultra']\n",
    "\n",
    "# Провекра\n",
    "print(features_train.shape)\n",
    "print(target_train.shape)\n",
    "print(features_test.shape)\n",
    "print(target_test.shape)\n",
    "print(features_valid.shape)\n",
    "print(target_valid.shape)"
   ]
  },
  {
   "cell_type": "markdown",
   "metadata": {},
   "source": [
    "## Исследование моделей"
   ]
  },
  {
   "cell_type": "markdown",
   "metadata": {},
   "source": [
    "### Дерево решений\n",
    "Обучим 10 моделей с различной глубиной `max_depth` и определим, какая даст самый высокй показатель *accuracy*:"
   ]
  },
  {
   "cell_type": "code",
   "execution_count": 8,
   "metadata": {},
   "outputs": [
    {
     "name": "stdout",
     "output_type": "stream",
     "text": [
      "Depth: 1 | Accuracy:  0.745\n",
      "Depth: 2 | Accuracy:  0.765\n",
      "Depth: 3 | Accuracy:  0.784\n",
      "Depth: 4 | Accuracy:  0.791\n",
      "Depth: 5 | Accuracy:  0.818\n",
      "Depth: 6 | Accuracy:  0.829\n",
      "Depth: 7 | Accuracy:  0.837\n",
      "Depth: 8 | Accuracy:  0.856\n",
      "Depth: 9 | Accuracy:  0.864\n",
      "Depth: 10 | Accuracy:  0.864\n",
      "\n",
      "Наилучшая модель с глубиной: 9 \n",
      "Accuracy:  0.864\n",
      "CPU times: user 80.3 ms, sys: 3.9 ms, total: 84.2 ms\n",
      "Wall time: 84.5 ms\n"
     ]
    }
   ],
   "source": [
    "%%time\n",
    "# Пустая переменная для хранения наилучшей модели\n",
    "dt_model = None\n",
    "\n",
    "# Глобальные переменные для лучших показателей\n",
    "best_accuracy = 0\n",
    "best_depth = 0\n",
    "\n",
    "# Цикл по глубине дерева от 1 до 10\n",
    "for depth in range(1, 11):\n",
    "    model = DecisionTreeClassifier(random_state=12345,\n",
    "                                   max_depth=depth)\n",
    "    model.fit(features_train, target_train)\n",
    "    \n",
    "    # Проверка accuracy\n",
    "    accuracy = model.score(features_valid, target_valid)\n",
    "    if accuracy > best_accuracy:\n",
    "        dt_model = model\n",
    "        best_accuracy = accuracy\n",
    "        best_depth = depth\n",
    "    \n",
    "    print(\"Depth:\", depth, \"| Accuracy: \", round(accuracy, 3))\n",
    "\n",
    "print(\"\\nНаилучшая модель с глубиной:\", best_depth, \"\\nAccuracy: \", round(best_accuracy, 3))"
   ]
  },
  {
   "cell_type": "markdown",
   "metadata": {},
   "source": [
    "### Случайный лес\n",
    "Обучим 10 моделей с количеством деревьев от 1 до 10 и проверим, какая даст лучший показатель *accuracy*:"
   ]
  },
  {
   "cell_type": "code",
   "execution_count": 9,
   "metadata": {},
   "outputs": [
    {
     "name": "stdout",
     "output_type": "stream",
     "text": [
      "Trees: 1 | Accuracy:  0.887\n",
      "Trees: 2 | Accuracy:  0.907\n",
      "Trees: 3 | Accuracy:  0.964\n",
      "Trees: 4 | Accuracy:  0.964\n",
      "Trees: 5 | Accuracy:  0.97\n",
      "Trees: 6 | Accuracy:  0.972\n",
      "Trees: 7 | Accuracy:  0.975\n",
      "Trees: 8 | Accuracy:  0.978\n",
      "Trees: 9 | Accuracy:  0.985\n",
      "Trees: 10 | Accuracy:  0.98\n",
      "\n",
      "Наилучшая модель с количеством деревьев: : 9 \n",
      "Accuracy:  0.985\n",
      "CPU times: user 365 ms, sys: 11.5 ms, total: 376 ms\n",
      "Wall time: 381 ms\n"
     ]
    }
   ],
   "source": [
    "%%time\n",
    "rf_model = None\n",
    "best_accuracy = 0\n",
    "best_est = 0\n",
    "\n",
    "for est in range(1, 11):\n",
    "    model = RandomForestClassifier(random_state=12345,\n",
    "                                   n_estimators=est)\n",
    "    model.fit(features_train, target_train) \n",
    "    \n",
    "    accuracy = model.score(features_valid, target_valid)\n",
    "    if accuracy > best_accuracy:\n",
    "        best_accuracy = accuracy\n",
    "        rf_model = model\n",
    "        best_est = est\n",
    "    \n",
    "    print(\"Trees:\", est, \"| Accuracy: \", round(accuracy, 3))\n",
    "\n",
    "print(\"\\nНаилучшая модель с количеством деревьев: :\", best_est, \"\\nAccuracy: \", round(best_accuracy, 3))"
   ]
  },
  {
   "cell_type": "markdown",
   "metadata": {},
   "source": [
    "### Логистическая регрессия\n",
    "Обучим 10 моделей с максимальным количеством итераци от 100 до 1000 (с шагом 100) и проверим, какая даст лучший показатель accuracy:"
   ]
  },
  {
   "cell_type": "code",
   "execution_count": 10,
   "metadata": {},
   "outputs": [
    {
     "name": "stdout",
     "output_type": "stream",
     "text": [
      "Iterations: 100 | Accuracy:  0.751243781\n",
      "Iterations: 200 | Accuracy:  0.751243781\n",
      "Iterations: 300 | Accuracy:  0.751243781\n",
      "Iterations: 400 | Accuracy:  0.751243781\n",
      "Iterations: 500 | Accuracy:  0.751243781\n",
      "Iterations: 600 | Accuracy:  0.751243781\n",
      "Iterations: 700 | Accuracy:  0.751243781\n",
      "Iterations: 800 | Accuracy:  0.751243781\n",
      "Iterations: 900 | Accuracy:  0.751243781\n",
      "\n",
      "Наилучшая модель с количеством итераций: : 100 \n",
      "Accuracy:  0.751243781\n",
      "CPU times: user 517 ms, sys: 181 ms, total: 698 ms\n",
      "Wall time: 181 ms\n"
     ]
    }
   ],
   "source": [
    "%%time\n",
    "\n",
    "lr_model = None\n",
    "best_accuracy = 0\n",
    "best_iter = 0\n",
    "\n",
    "for i in range(100, 1000, 100):\n",
    "    model = LogisticRegression(random_state=12345,\n",
    "                               solver='lbfgs',\n",
    "                               max_iter=i)\n",
    "    model.fit(features_train, target_train) \n",
    "    \n",
    "    accuracy = model.score(features_valid, target_valid)\n",
    "    if accuracy > best_accuracy:\n",
    "        best_accuracy = accuracy\n",
    "        lr_model = model\n",
    "        best_iter = 100\n",
    "    \n",
    "    print(\"Iterations:\", i, \"| Accuracy: \", round(accuracy, 9))\n",
    "\n",
    "print(\"\\nНаилучшая модель с количеством итераций: :\", best_iter, \"\\nAccuracy: \", round(best_accuracy, 9))"
   ]
  },
  {
   "cell_type": "markdown",
   "metadata": {},
   "source": [
    "### Итоги этапа\n",
    "* Лучшие модели сохранены в переменных: `dt_model`, `rf_model` и `lr_model`\n",
    "* Самый высокий показатель *accuracy* = 0.983 наблюдается у модели случайного леса с количеством деревьев равным 9-ти\n",
    "* Accuracy дерева решений возрастает с увеличением количества ветвей\n",
    "* Линейная регрессия показала самую низкую точность при самых больших временных затратах\n",
    "\n",
    "Для дальнейшего анализа будем использоавть модель случайного леса с 9-ю деревьями, которая сохраненва в переменной `rf_model`"
   ]
  },
  {
   "cell_type": "markdown",
   "metadata": {},
   "source": [
    "## Проверка модели на тестовой выборке"
   ]
  },
  {
   "cell_type": "markdown",
   "metadata": {},
   "source": [
    "### Тестирование\n",
    "Проверим модель случайного леса с 9-ю дервеьями на тестовой выборке:"
   ]
  },
  {
   "cell_type": "code",
   "execution_count": 11,
   "metadata": {},
   "outputs": [
    {
     "name": "stdout",
     "output_type": "stream",
     "text": [
      "Accuracy = 0.80224\n"
     ]
    }
   ],
   "source": [
    "accuracy = rf_model.score(features_test, target_test)\n",
    "print(\"Accuracy =\", round(accuracy, 5))"
   ]
  },
  {
   "cell_type": "markdown",
   "metadata": {},
   "source": [
    "###  Итоги тестирования\n",
    "Доля правильных ответов на тестовой выборке выше 0,75, требовавшихся по заданию. Следовательно, задача выполнена."
   ]
  },
  {
   "cell_type": "markdown",
   "metadata": {},
   "source": [
    "### Тестирование на модели без валидационной выборки"
   ]
  },
  {
   "cell_type": "code",
   "execution_count": 12,
   "metadata": {},
   "outputs": [
    {
     "name": "stdout",
     "output_type": "stream",
     "text": [
      "Accuracy = 0.80224\n"
     ]
    }
   ],
   "source": [
    "# Отделяем тестовую выборку\n",
    "df_train, df_test = train_test_split(df, test_size=0.25, random_state=42)\n",
    "features_train = df_train.drop(['is_ultra'], axis=1)\n",
    "target_train = df_train['is_ultra']\n",
    "features_test = df_test.drop(['is_ultra'], axis=1)\n",
    "target_test = df_test['is_ultra']\n",
    "\n",
    "# Повторная тренировка модели\n",
    "model = RandomForestClassifier(random_state=12345,\n",
    "                               n_estimators=9) # берём 9 деревьев по результатам предыдущего этапа\n",
    "model.fit(features_train, target_train)\n",
    "\n",
    "# Проверка\n",
    "accuracy = model.score(features_test, target_test)\n",
    "print(\"Accuracy =\", round(accuracy, 5))"
   ]
  },
  {
   "cell_type": "markdown",
   "metadata": {},
   "source": [
    "## Проверка модели на адекватность"
   ]
  },
  {
   "cell_type": "markdown",
   "metadata": {},
   "source": [
    "Воспользуемся `DummyClassifier`"
   ]
  },
  {
   "cell_type": "code",
   "execution_count": 13,
   "metadata": {},
   "outputs": [
    {
     "name": "stdout",
     "output_type": "stream",
     "text": [
      "Accuracy: 0.6882255389718076\n"
     ]
    }
   ],
   "source": [
    "dc_model = DummyClassifier(strategy='most_frequent', random_state=12345)\n",
    "dc_model.fit(features_train, target_train)\n",
    "\n",
    "accuracy = dc_model.score(features_valid, target_valid)\n",
    "print('Accuracy:', accuracy)"
   ]
  },
  {
   "cell_type": "markdown",
   "metadata": {},
   "source": [
    "###  Итоги проверки\n",
    "Показатель *accuracy* для `DummyClassifier` ниже 0,7. Все рассмотренные модели давали показатель выше, следовательно проверка моделей на адекватность пройдена."
   ]
  },
  {
   "cell_type": "markdown",
   "metadata": {},
   "source": [
    "# Выводы "
   ]
  },
  {
   "cell_type": "markdown",
   "metadata": {},
   "source": [
    "Задачей проекта было построение модеи машинного обучения с максимально большим значением accuracy минимум 0.75.\n",
    "\n",
    "В ходе анализа были исследованы 3 типа моделей:\n",
    "* Дерево решений\n",
    "* Случайны лес\n",
    "* Логистическая регрессия\n",
    "\n",
    "Проверку на адекватность прошли все модели.\n",
    "\n",
    "Наиболее качественный результат показала модель случайного леса с 9-ю деревьями, которая при проверке на тестовой выборке достигла показателя accuracy 0.802."
   ]
  }
 ],
 "metadata": {
  "ExecuteTimeLog": [
   {
    "duration": 1059,
    "start_time": "2023-07-11T05:45:44.312Z"
   },
   {
    "duration": 251,
    "start_time": "2023-07-11T05:46:18.277Z"
   },
   {
    "duration": 42,
    "start_time": "2023-07-11T05:55:43.600Z"
   },
   {
    "duration": 3,
    "start_time": "2023-07-11T05:58:57.146Z"
   },
   {
    "duration": 44,
    "start_time": "2023-07-11T05:58:58.203Z"
   },
   {
    "duration": 16,
    "start_time": "2023-07-11T06:03:39.301Z"
   },
   {
    "duration": 106,
    "start_time": "2023-07-11T06:08:31.408Z"
   },
   {
    "duration": 5,
    "start_time": "2023-07-11T06:08:36.393Z"
   },
   {
    "duration": 14,
    "start_time": "2023-07-11T06:08:40.874Z"
   },
   {
    "duration": 8,
    "start_time": "2023-07-11T06:09:24.143Z"
   },
   {
    "duration": 5,
    "start_time": "2023-07-11T06:09:33.254Z"
   },
   {
    "duration": 105,
    "start_time": "2023-07-11T06:10:16.797Z"
   },
   {
    "duration": 18,
    "start_time": "2023-07-11T06:10:23.723Z"
   },
   {
    "duration": 12,
    "start_time": "2023-07-11T06:11:34.835Z"
   },
   {
    "duration": 10,
    "start_time": "2023-07-11T06:11:57.986Z"
   },
   {
    "duration": 17,
    "start_time": "2023-07-11T06:12:09.251Z"
   },
   {
    "duration": 6,
    "start_time": "2023-07-11T06:13:38.088Z"
   },
   {
    "duration": 7,
    "start_time": "2023-07-11T06:14:35.821Z"
   },
   {
    "duration": 7,
    "start_time": "2023-07-11T06:15:45.503Z"
   },
   {
    "duration": 6,
    "start_time": "2023-07-11T06:15:46.020Z"
   },
   {
    "duration": 5,
    "start_time": "2023-07-11T06:15:47.819Z"
   },
   {
    "duration": 18,
    "start_time": "2023-07-11T06:15:48.597Z"
   },
   {
    "duration": 16,
    "start_time": "2023-07-11T06:16:50.955Z"
   },
   {
    "duration": 18,
    "start_time": "2023-07-11T06:17:10.330Z"
   },
   {
    "duration": 65,
    "start_time": "2023-07-11T06:20:38.055Z"
   },
   {
    "duration": 9,
    "start_time": "2023-07-11T06:20:46.739Z"
   },
   {
    "duration": 8,
    "start_time": "2023-07-11T06:20:51.126Z"
   },
   {
    "duration": 6,
    "start_time": "2023-07-11T06:21:02.513Z"
   },
   {
    "duration": 28,
    "start_time": "2023-07-11T06:21:17.969Z"
   },
   {
    "duration": 15,
    "start_time": "2023-07-11T06:21:38.670Z"
   },
   {
    "duration": 413,
    "start_time": "2023-07-11T06:21:42.704Z"
   },
   {
    "duration": 5,
    "start_time": "2023-07-11T06:21:46.837Z"
   },
   {
    "duration": 4,
    "start_time": "2023-07-11T06:31:49.716Z"
   },
   {
    "duration": 8,
    "start_time": "2023-07-11T06:31:57.804Z"
   },
   {
    "duration": 4,
    "start_time": "2023-07-11T06:32:04.720Z"
   },
   {
    "duration": 11,
    "start_time": "2023-07-11T06:36:30.495Z"
   },
   {
    "duration": 10,
    "start_time": "2023-07-11T06:36:46.630Z"
   },
   {
    "duration": 10,
    "start_time": "2023-07-11T06:37:32.553Z"
   },
   {
    "duration": 40,
    "start_time": "2023-07-11T06:38:23.100Z"
   },
   {
    "duration": 22,
    "start_time": "2023-07-11T06:42:17.724Z"
   },
   {
    "duration": 32,
    "start_time": "2023-07-11T06:47:54.000Z"
   },
   {
    "duration": 4,
    "start_time": "2023-07-11T06:48:16.471Z"
   },
   {
    "duration": 40,
    "start_time": "2023-07-11T06:48:20.048Z"
   },
   {
    "duration": 14,
    "start_time": "2023-07-11T06:50:12.552Z"
   },
   {
    "duration": 15,
    "start_time": "2023-07-11T06:50:17.704Z"
   },
   {
    "duration": 280,
    "start_time": "2023-07-11T06:50:21.697Z"
   },
   {
    "duration": 295,
    "start_time": "2023-07-11T06:51:59.022Z"
   },
   {
    "duration": 107,
    "start_time": "2023-07-11T06:52:11.387Z"
   },
   {
    "duration": 327,
    "start_time": "2023-07-11T06:52:17.967Z"
   },
   {
    "duration": 311,
    "start_time": "2023-07-11T06:53:02.250Z"
   },
   {
    "duration": 33,
    "start_time": "2023-07-11T06:54:18.571Z"
   },
   {
    "duration": 31,
    "start_time": "2023-07-11T06:54:49.912Z"
   },
   {
    "duration": 287,
    "start_time": "2023-07-11T06:55:49.653Z"
   },
   {
    "duration": 32,
    "start_time": "2023-07-11T06:57:06.718Z"
   },
   {
    "duration": 288,
    "start_time": "2023-07-11T06:57:17.068Z"
   },
   {
    "duration": 310,
    "start_time": "2023-07-11T06:57:26.158Z"
   },
   {
    "duration": 3,
    "start_time": "2023-07-11T06:58:44.639Z"
   },
   {
    "duration": 9,
    "start_time": "2023-07-11T10:07:10.902Z"
   },
   {
    "duration": 36,
    "start_time": "2023-07-11T10:07:13.834Z"
   },
   {
    "duration": 10,
    "start_time": "2023-07-11T10:19:43.534Z"
   },
   {
    "duration": 11,
    "start_time": "2023-07-11T10:19:54.442Z"
   },
   {
    "duration": 47,
    "start_time": "2023-07-11T10:23:45.200Z"
   },
   {
    "duration": 292,
    "start_time": "2023-07-11T10:23:47.607Z"
   },
   {
    "duration": 286,
    "start_time": "2023-07-11T10:23:58.766Z"
   },
   {
    "duration": 77,
    "start_time": "2023-07-11T10:26:19.234Z"
   },
   {
    "duration": 182,
    "start_time": "2023-07-11T10:26:37.669Z"
   },
   {
    "duration": 192,
    "start_time": "2023-07-11T10:28:15.646Z"
   },
   {
    "duration": 604,
    "start_time": "2023-07-11T10:28:25.898Z"
   },
   {
    "duration": 70,
    "start_time": "2023-07-11T10:29:45.130Z"
   },
   {
    "duration": 74,
    "start_time": "2023-07-11T10:31:08.818Z"
   },
   {
    "duration": 71,
    "start_time": "2023-07-11T10:38:22.007Z"
   },
   {
    "duration": 83,
    "start_time": "2023-07-11T10:39:43.518Z"
   },
   {
    "duration": 89,
    "start_time": "2023-07-11T10:40:06.915Z"
   },
   {
    "duration": 74,
    "start_time": "2023-07-11T10:42:27.138Z"
   },
   {
    "duration": 73,
    "start_time": "2023-07-11T10:44:02.399Z"
   },
   {
    "duration": 73,
    "start_time": "2023-07-11T10:44:49.707Z"
   },
   {
    "duration": 70,
    "start_time": "2023-07-11T10:49:11.914Z"
   },
   {
    "duration": 277,
    "start_time": "2023-07-11T10:51:10.091Z"
   },
   {
    "duration": 317,
    "start_time": "2023-07-11T10:55:42.675Z"
   },
   {
    "duration": 319,
    "start_time": "2023-07-11T10:58:06.738Z"
   },
   {
    "duration": 349,
    "start_time": "2023-07-11T10:58:43.368Z"
   },
   {
    "duration": 354,
    "start_time": "2023-07-11T10:59:09.203Z"
   },
   {
    "duration": 354,
    "start_time": "2023-07-11T10:59:16.433Z"
   },
   {
    "duration": 307,
    "start_time": "2023-07-11T11:00:51.095Z"
   },
   {
    "duration": 85,
    "start_time": "2023-07-11T11:02:24.017Z"
   },
   {
    "duration": 70,
    "start_time": "2023-07-11T11:02:54.920Z"
   },
   {
    "duration": 76,
    "start_time": "2023-07-11T11:03:13.021Z"
   },
   {
    "duration": 345,
    "start_time": "2023-07-11T11:03:34.826Z"
   },
   {
    "duration": 2,
    "start_time": "2023-07-11T11:03:44.569Z"
   },
   {
    "duration": 11,
    "start_time": "2023-07-11T11:11:35.446Z"
   },
   {
    "duration": 6176,
    "start_time": "2023-07-11T11:11:41.510Z"
   },
   {
    "duration": 11356,
    "start_time": "2023-07-11T11:12:06.826Z"
   },
   {
    "duration": 6962,
    "start_time": "2023-07-11T11:12:30.213Z"
   },
   {
    "duration": 6779,
    "start_time": "2023-07-11T11:13:17.905Z"
   },
   {
    "duration": 84,
    "start_time": "2023-07-11T11:15:58.424Z"
   },
   {
    "duration": 302,
    "start_time": "2023-07-11T11:16:06.631Z"
   },
   {
    "duration": 6341,
    "start_time": "2023-07-11T11:16:32.837Z"
   },
   {
    "duration": 8,
    "start_time": "2023-07-11T11:24:12.726Z"
   },
   {
    "duration": 8,
    "start_time": "2023-07-11T11:24:43.133Z"
   },
   {
    "duration": 6,
    "start_time": "2023-07-11T11:25:00.637Z"
   },
   {
    "duration": 7,
    "start_time": "2023-07-11T11:25:24.422Z"
   },
   {
    "duration": 8,
    "start_time": "2023-07-11T11:25:45.284Z"
   },
   {
    "duration": 4,
    "start_time": "2023-07-11T11:27:17.331Z"
   },
   {
    "duration": 11,
    "start_time": "2023-07-11T11:27:23.848Z"
   },
   {
    "duration": 3,
    "start_time": "2023-07-11T11:27:33.114Z"
   },
   {
    "duration": 3,
    "start_time": "2023-07-11T11:28:52.351Z"
   },
   {
    "duration": 5075,
    "start_time": "2023-07-11T11:41:18.601Z"
   },
   {
    "duration": 6533,
    "start_time": "2023-07-11T11:41:35.345Z"
   },
   {
    "duration": 6886,
    "start_time": "2023-07-11T11:41:47.292Z"
   },
   {
    "duration": 7291,
    "start_time": "2023-07-11T11:41:55.086Z"
   },
   {
    "duration": 21,
    "start_time": "2023-07-11T13:51:35.761Z"
   },
   {
    "duration": 3,
    "start_time": "2023-07-11T13:53:40.253Z"
   },
   {
    "duration": 10,
    "start_time": "2023-07-11T13:55:12.066Z"
   },
   {
    "duration": 6,
    "start_time": "2023-07-11T13:55:19.731Z"
   },
   {
    "duration": 6,
    "start_time": "2023-07-11T13:56:07.981Z"
   },
   {
    "duration": 139,
    "start_time": "2023-07-11T14:01:06.056Z"
   },
   {
    "duration": 9,
    "start_time": "2023-07-11T14:01:09.566Z"
   },
   {
    "duration": 4,
    "start_time": "2023-07-11T14:02:37.840Z"
   },
   {
    "duration": 48,
    "start_time": "2023-07-11T14:02:38.794Z"
   },
   {
    "duration": 7,
    "start_time": "2023-07-11T14:02:40.624Z"
   },
   {
    "duration": 6,
    "start_time": "2023-07-11T14:02:41.113Z"
   },
   {
    "duration": 5,
    "start_time": "2023-07-11T14:02:42.057Z"
   },
   {
    "duration": 21,
    "start_time": "2023-07-11T14:02:42.642Z"
   },
   {
    "duration": 13,
    "start_time": "2023-07-11T14:02:44.500Z"
   },
   {
    "duration": 75,
    "start_time": "2023-07-11T14:02:46.110Z"
   },
   {
    "duration": 293,
    "start_time": "2023-07-11T14:02:47.289Z"
   },
   {
    "duration": 15099,
    "start_time": "2023-07-11T14:02:49.693Z"
   },
   {
    "duration": 94,
    "start_time": "2023-07-11T14:03:04.797Z"
   },
   {
    "duration": 13573,
    "start_time": "2023-07-11T14:04:14.023Z"
   },
   {
    "duration": 14,
    "start_time": "2023-07-11T14:04:43.968Z"
   },
   {
    "duration": 5,
    "start_time": "2023-07-11T14:04:58.530Z"
   },
   {
    "duration": 1729,
    "start_time": "2023-07-11T16:21:15.605Z"
   },
   {
    "duration": 118,
    "start_time": "2023-07-11T16:22:17.244Z"
   },
   {
    "duration": 4,
    "start_time": "2023-07-11T16:22:23.802Z"
   },
   {
    "duration": 133,
    "start_time": "2023-07-11T16:22:24.251Z"
   },
   {
    "duration": 7,
    "start_time": "2023-07-11T16:22:25.965Z"
   },
   {
    "duration": 6,
    "start_time": "2023-07-11T16:22:26.505Z"
   },
   {
    "duration": 7,
    "start_time": "2023-07-11T16:22:28.044Z"
   },
   {
    "duration": 18,
    "start_time": "2023-07-11T16:22:29.113Z"
   },
   {
    "duration": 21,
    "start_time": "2023-07-11T16:22:40.566Z"
   },
   {
    "duration": 5482,
    "start_time": "2023-07-11T16:22:44.369Z"
   },
   {
    "duration": 3,
    "start_time": "2023-07-11T16:38:36.839Z"
   },
   {
    "duration": 7,
    "start_time": "2023-07-11T16:39:31.315Z"
   },
   {
    "duration": 4,
    "start_time": "2023-07-11T16:39:39.990Z"
   },
   {
    "duration": 43,
    "start_time": "2023-07-11T16:39:40.405Z"
   },
   {
    "duration": 7,
    "start_time": "2023-07-11T16:39:41.292Z"
   },
   {
    "duration": 14,
    "start_time": "2023-07-11T16:39:41.448Z"
   },
   {
    "duration": 15,
    "start_time": "2023-07-11T16:39:42.247Z"
   },
   {
    "duration": 25,
    "start_time": "2023-07-11T16:39:42.628Z"
   },
   {
    "duration": 5801,
    "start_time": "2023-07-11T16:39:44.395Z"
   },
   {
    "duration": 12,
    "start_time": "2023-07-11T16:39:57.224Z"
   },
   {
    "duration": 259,
    "start_time": "2023-07-11T16:39:59.292Z"
   },
   {
    "duration": 383,
    "start_time": "2023-07-11T16:40:03.582Z"
   },
   {
    "duration": 4,
    "start_time": "2023-07-11T16:40:05.687Z"
   },
   {
    "duration": 7,
    "start_time": "2023-07-11T16:40:07.579Z"
   },
   {
    "duration": 20896,
    "start_time": "2023-07-11T16:40:35.871Z"
   },
   {
    "duration": 89,
    "start_time": "2023-07-11T16:40:56.770Z"
   },
   {
    "duration": 21848,
    "start_time": "2023-07-11T16:41:35.428Z"
   },
   {
    "duration": 22,
    "start_time": "2023-07-11T16:41:57.351Z"
   },
   {
    "duration": 9,
    "start_time": "2023-07-11T16:42:55.028Z"
   },
   {
    "duration": 59,
    "start_time": "2023-07-11T16:47:38.087Z"
   },
   {
    "duration": 64,
    "start_time": "2023-07-11T16:48:00.681Z"
   },
   {
    "duration": 10,
    "start_time": "2023-07-11T16:48:14.028Z"
   },
   {
    "duration": 62,
    "start_time": "2023-07-11T16:48:19.763Z"
   },
   {
    "duration": 53,
    "start_time": "2023-07-11T16:50:02.789Z"
   },
   {
    "duration": 343,
    "start_time": "2023-07-11T16:50:25.188Z"
   },
   {
    "duration": 1329,
    "start_time": "2023-07-15T07:53:08.353Z"
   }
  ],
  "kernelspec": {
   "display_name": "Python 3 (ipykernel)",
   "language": "python",
   "name": "python3"
  },
  "language_info": {
   "codemirror_mode": {
    "name": "ipython",
    "version": 3
   },
   "file_extension": ".py",
   "mimetype": "text/x-python",
   "name": "python",
   "nbconvert_exporter": "python",
   "pygments_lexer": "ipython3",
   "version": "3.11.5"
  },
  "toc": {
   "base_numbering": 1,
   "nav_menu": {},
   "number_sections": true,
   "sideBar": true,
   "skip_h1_title": true,
   "title_cell": "Table of Contents",
   "title_sidebar": "Contents",
   "toc_cell": false,
   "toc_position": {},
   "toc_section_display": true,
   "toc_window_display": false
  }
 },
 "nbformat": 4,
 "nbformat_minor": 2
}
