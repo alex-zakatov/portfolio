{
 "cells": [
  {
   "cell_type": "markdown",
   "metadata": {},
   "source": [
    "# Выбор локации для скважины"
   ]
  },
  {
   "cell_type": "markdown",
   "metadata": {},
   "source": [
    "Вам предоставлены пробы нефти в трёх регионах: в каждом 10 000 месторождений, где измерили качество нефти и объём её запасов. Постройте модель машинного обучения, которая поможет определить регион, где добыча принесёт наибольшую прибыль. Проанализируйте возможную прибыль и риски техникой *Bootstrap.*\n",
    "\n",
    "Шаги для выбора локации:\n",
    "\n",
    "- В избранном регионе ищут месторождения, для каждого определяют значения признаков;\n",
    "- Строят модель и оценивают объём запасов;\n",
    "- Выбирают месторождения с самым высокими оценками значений. Количество месторождений зависит от бюджета компании и стоимости разработки одной скважины;\n",
    "- Прибыль равна суммарной прибыли отобранных месторождений."
   ]
  },
  {
   "cell_type": "markdown",
   "metadata": {},
   "source": [
    "# Задачи проекта\n",
    "Необходимо создать модели машинного обучения и функции для расчёта прибыли и вероятности убытков. С помощью этих инструментов нужно выбрать наиболее перспективный регион для разработки и обосновать свой выбор."
   ]
  },
  {
   "cell_type": "markdown",
   "metadata": {},
   "source": [
    "## Загрузка и подготовка данных"
   ]
  },
  {
   "cell_type": "markdown",
   "metadata": {},
   "source": [
    "### Импорт модулей и библиотек"
   ]
  },
  {
   "cell_type": "code",
   "execution_count": 1,
   "metadata": {},
   "outputs": [],
   "source": [
    "# Файлы и директории\n",
    "import os \n",
    "\n",
    "# Датафреймы\n",
    "import pandas as pd\n",
    "\n",
    "# Математика\n",
    "import numpy as np\n",
    "from random import randint\n",
    "\n",
    "# Визуализация\n",
    "import matplotlib.pyplot as plt\n",
    "import seaborn as sns\n",
    "\n",
    "# ML-модели\n",
    "from sklearn.linear_model import LinearRegression\n",
    "\n",
    "# ML-методы\n",
    "from sklearn.preprocessing import StandardScaler\n",
    "from sklearn.pipeline import make_pipeline\n",
    "from sklearn.model_selection import train_test_split\n",
    "from sklearn.utils import shuffle\n",
    "\n",
    "# ML-метрики\n",
    "from sklearn.metrics import mean_squared_error\n",
    "\n",
    "# Настройки\n",
    "pd.options.mode.chained_assignment = None\n",
    "\n",
    "# Константы\n",
    "RND_NUM = 12345\n",
    "RND_ST = np.random.RandomState(RND_NUM)"
   ]
  },
  {
   "cell_type": "markdown",
   "metadata": {},
   "source": [
    "### Бизнес-константы"
   ]
  },
  {
   "cell_type": "code",
   "execution_count": 2,
   "metadata": {},
   "outputs": [],
   "source": [
    "# Количество точек, исследуемых при разведке\n",
    "POINTS = 500\n",
    "\n",
    "# Количество лучших точек для машинного обучения\n",
    "ML_POINTS = 200\n",
    "\n",
    "# Бюджет на разработку (10 млрд рублей)\n",
    "BUDGET = 10e9\n",
    "\n",
    "# Доход с каждой единицы продукта (450 тыс. рублей)\n",
    "BARREL_PRICE = 450e3\n",
    "\n",
    "# Порог вероятности убытков (2,5%)\n",
    "THRESHOLD = 0.025"
   ]
  },
  {
   "cell_type": "markdown",
   "metadata": {},
   "source": [
    "### Загрузка данных"
   ]
  },
  {
   "cell_type": "code",
   "execution_count": 3,
   "metadata": {},
   "outputs": [],
   "source": [
    "paths_1 = ['datasets/geo_data_0.csv',\n",
    "           'datasets/geo_data_1.csv',\n",
    "           'datasets/geo_data_2.csv']\n",
    "paths_2 = ['geo_data_0.csv',\n",
    "           'geo_data_1.csv',\n",
    "           'geo_data_2.csv']\n",
    "data=[]\n",
    "\n",
    "for path_1, path_2  in zip(paths_1, paths_2):\n",
    "    if os.path.exists(path_1):\n",
    "        data.append(pd.read_csv(path_1))\n",
    "    elif os.path.exists(path_2):\n",
    "        data.apend(pd.read_csv(path_2))\n",
    "    else:\n",
    "        print('Something is wrong')"
   ]
  },
  {
   "cell_type": "code",
   "execution_count": 4,
   "metadata": {},
   "outputs": [
    {
     "name": "stdout",
     "output_type": "stream",
     "text": [
      "<class 'pandas.core.frame.DataFrame'>\n",
      "RangeIndex: 100000 entries, 0 to 99999\n",
      "Data columns (total 5 columns):\n",
      " #   Column   Non-Null Count   Dtype  \n",
      "---  ------   --------------   -----  \n",
      " 0   id       100000 non-null  object \n",
      " 1   f0       100000 non-null  float64\n",
      " 2   f1       100000 non-null  float64\n",
      " 3   f2       100000 non-null  float64\n",
      " 4   product  100000 non-null  float64\n",
      "dtypes: float64(4), object(1)\n",
      "memory usage: 3.8+ MB\n"
     ]
    },
    {
     "data": {
      "text/html": [
       "<div>\n",
       "<style scoped>\n",
       "    .dataframe tbody tr th:only-of-type {\n",
       "        vertical-align: middle;\n",
       "    }\n",
       "\n",
       "    .dataframe tbody tr th {\n",
       "        vertical-align: top;\n",
       "    }\n",
       "\n",
       "    .dataframe thead th {\n",
       "        text-align: right;\n",
       "    }\n",
       "</style>\n",
       "<table border=\"1\" class=\"dataframe\">\n",
       "  <thead>\n",
       "    <tr style=\"text-align: right;\">\n",
       "      <th></th>\n",
       "      <th>id</th>\n",
       "      <th>f0</th>\n",
       "      <th>f1</th>\n",
       "      <th>f2</th>\n",
       "      <th>product</th>\n",
       "    </tr>\n",
       "  </thead>\n",
       "  <tbody>\n",
       "    <tr>\n",
       "      <th>0</th>\n",
       "      <td>txEyH</td>\n",
       "      <td>0.705745</td>\n",
       "      <td>-0.497823</td>\n",
       "      <td>1.221170</td>\n",
       "      <td>105.280062</td>\n",
       "    </tr>\n",
       "    <tr>\n",
       "      <th>1</th>\n",
       "      <td>2acmU</td>\n",
       "      <td>1.334711</td>\n",
       "      <td>-0.340164</td>\n",
       "      <td>4.365080</td>\n",
       "      <td>73.037750</td>\n",
       "    </tr>\n",
       "    <tr>\n",
       "      <th>2</th>\n",
       "      <td>409Wp</td>\n",
       "      <td>1.022732</td>\n",
       "      <td>0.151990</td>\n",
       "      <td>1.419926</td>\n",
       "      <td>85.265647</td>\n",
       "    </tr>\n",
       "    <tr>\n",
       "      <th>3</th>\n",
       "      <td>iJLyR</td>\n",
       "      <td>-0.032172</td>\n",
       "      <td>0.139033</td>\n",
       "      <td>2.978566</td>\n",
       "      <td>168.620776</td>\n",
       "    </tr>\n",
       "    <tr>\n",
       "      <th>4</th>\n",
       "      <td>Xdl7t</td>\n",
       "      <td>1.988431</td>\n",
       "      <td>0.155413</td>\n",
       "      <td>4.751769</td>\n",
       "      <td>154.036647</td>\n",
       "    </tr>\n",
       "  </tbody>\n",
       "</table>\n",
       "</div>"
      ],
      "text/plain": [
       "      id        f0        f1        f2     product\n",
       "0  txEyH  0.705745 -0.497823  1.221170  105.280062\n",
       "1  2acmU  1.334711 -0.340164  4.365080   73.037750\n",
       "2  409Wp  1.022732  0.151990  1.419926   85.265647\n",
       "3  iJLyR -0.032172  0.139033  2.978566  168.620776\n",
       "4  Xdl7t  1.988431  0.155413  4.751769  154.036647"
      ]
     },
     "execution_count": 4,
     "metadata": {},
     "output_type": "execute_result"
    }
   ],
   "source": [
    "df_1 = data[0]\n",
    "df_1.info()\n",
    "df_1.head()"
   ]
  },
  {
   "cell_type": "code",
   "execution_count": 5,
   "metadata": {},
   "outputs": [
    {
     "name": "stdout",
     "output_type": "stream",
     "text": [
      "<class 'pandas.core.frame.DataFrame'>\n",
      "RangeIndex: 100000 entries, 0 to 99999\n",
      "Data columns (total 5 columns):\n",
      " #   Column   Non-Null Count   Dtype  \n",
      "---  ------   --------------   -----  \n",
      " 0   id       100000 non-null  object \n",
      " 1   f0       100000 non-null  float64\n",
      " 2   f1       100000 non-null  float64\n",
      " 3   f2       100000 non-null  float64\n",
      " 4   product  100000 non-null  float64\n",
      "dtypes: float64(4), object(1)\n",
      "memory usage: 3.8+ MB\n"
     ]
    },
    {
     "data": {
      "text/html": [
       "<div>\n",
       "<style scoped>\n",
       "    .dataframe tbody tr th:only-of-type {\n",
       "        vertical-align: middle;\n",
       "    }\n",
       "\n",
       "    .dataframe tbody tr th {\n",
       "        vertical-align: top;\n",
       "    }\n",
       "\n",
       "    .dataframe thead th {\n",
       "        text-align: right;\n",
       "    }\n",
       "</style>\n",
       "<table border=\"1\" class=\"dataframe\">\n",
       "  <thead>\n",
       "    <tr style=\"text-align: right;\">\n",
       "      <th></th>\n",
       "      <th>id</th>\n",
       "      <th>f0</th>\n",
       "      <th>f1</th>\n",
       "      <th>f2</th>\n",
       "      <th>product</th>\n",
       "    </tr>\n",
       "  </thead>\n",
       "  <tbody>\n",
       "    <tr>\n",
       "      <th>0</th>\n",
       "      <td>kBEdx</td>\n",
       "      <td>-15.001348</td>\n",
       "      <td>-8.276000</td>\n",
       "      <td>-0.005876</td>\n",
       "      <td>3.179103</td>\n",
       "    </tr>\n",
       "    <tr>\n",
       "      <th>1</th>\n",
       "      <td>62mP7</td>\n",
       "      <td>14.272088</td>\n",
       "      <td>-3.475083</td>\n",
       "      <td>0.999183</td>\n",
       "      <td>26.953261</td>\n",
       "    </tr>\n",
       "    <tr>\n",
       "      <th>2</th>\n",
       "      <td>vyE1P</td>\n",
       "      <td>6.263187</td>\n",
       "      <td>-5.948386</td>\n",
       "      <td>5.001160</td>\n",
       "      <td>134.766305</td>\n",
       "    </tr>\n",
       "    <tr>\n",
       "      <th>3</th>\n",
       "      <td>KcrkZ</td>\n",
       "      <td>-13.081196</td>\n",
       "      <td>-11.506057</td>\n",
       "      <td>4.999415</td>\n",
       "      <td>137.945408</td>\n",
       "    </tr>\n",
       "    <tr>\n",
       "      <th>4</th>\n",
       "      <td>AHL4O</td>\n",
       "      <td>12.702195</td>\n",
       "      <td>-8.147433</td>\n",
       "      <td>5.004363</td>\n",
       "      <td>134.766305</td>\n",
       "    </tr>\n",
       "  </tbody>\n",
       "</table>\n",
       "</div>"
      ],
      "text/plain": [
       "      id         f0         f1        f2     product\n",
       "0  kBEdx -15.001348  -8.276000 -0.005876    3.179103\n",
       "1  62mP7  14.272088  -3.475083  0.999183   26.953261\n",
       "2  vyE1P   6.263187  -5.948386  5.001160  134.766305\n",
       "3  KcrkZ -13.081196 -11.506057  4.999415  137.945408\n",
       "4  AHL4O  12.702195  -8.147433  5.004363  134.766305"
      ]
     },
     "execution_count": 5,
     "metadata": {},
     "output_type": "execute_result"
    }
   ],
   "source": [
    "df_2 = data[1]\n",
    "df_2.info()\n",
    "df_2.head()"
   ]
  },
  {
   "cell_type": "code",
   "execution_count": 6,
   "metadata": {},
   "outputs": [
    {
     "name": "stdout",
     "output_type": "stream",
     "text": [
      "<class 'pandas.core.frame.DataFrame'>\n",
      "RangeIndex: 100000 entries, 0 to 99999\n",
      "Data columns (total 5 columns):\n",
      " #   Column   Non-Null Count   Dtype  \n",
      "---  ------   --------------   -----  \n",
      " 0   id       100000 non-null  object \n",
      " 1   f0       100000 non-null  float64\n",
      " 2   f1       100000 non-null  float64\n",
      " 3   f2       100000 non-null  float64\n",
      " 4   product  100000 non-null  float64\n",
      "dtypes: float64(4), object(1)\n",
      "memory usage: 3.8+ MB\n"
     ]
    },
    {
     "data": {
      "text/html": [
       "<div>\n",
       "<style scoped>\n",
       "    .dataframe tbody tr th:only-of-type {\n",
       "        vertical-align: middle;\n",
       "    }\n",
       "\n",
       "    .dataframe tbody tr th {\n",
       "        vertical-align: top;\n",
       "    }\n",
       "\n",
       "    .dataframe thead th {\n",
       "        text-align: right;\n",
       "    }\n",
       "</style>\n",
       "<table border=\"1\" class=\"dataframe\">\n",
       "  <thead>\n",
       "    <tr style=\"text-align: right;\">\n",
       "      <th></th>\n",
       "      <th>id</th>\n",
       "      <th>f0</th>\n",
       "      <th>f1</th>\n",
       "      <th>f2</th>\n",
       "      <th>product</th>\n",
       "    </tr>\n",
       "  </thead>\n",
       "  <tbody>\n",
       "    <tr>\n",
       "      <th>0</th>\n",
       "      <td>fwXo0</td>\n",
       "      <td>-1.146987</td>\n",
       "      <td>0.963328</td>\n",
       "      <td>-0.828965</td>\n",
       "      <td>27.758673</td>\n",
       "    </tr>\n",
       "    <tr>\n",
       "      <th>1</th>\n",
       "      <td>WJtFt</td>\n",
       "      <td>0.262778</td>\n",
       "      <td>0.269839</td>\n",
       "      <td>-2.530187</td>\n",
       "      <td>56.069697</td>\n",
       "    </tr>\n",
       "    <tr>\n",
       "      <th>2</th>\n",
       "      <td>ovLUW</td>\n",
       "      <td>0.194587</td>\n",
       "      <td>0.289035</td>\n",
       "      <td>-5.586433</td>\n",
       "      <td>62.871910</td>\n",
       "    </tr>\n",
       "    <tr>\n",
       "      <th>3</th>\n",
       "      <td>q6cA6</td>\n",
       "      <td>2.236060</td>\n",
       "      <td>-0.553760</td>\n",
       "      <td>0.930038</td>\n",
       "      <td>114.572842</td>\n",
       "    </tr>\n",
       "    <tr>\n",
       "      <th>4</th>\n",
       "      <td>WPMUX</td>\n",
       "      <td>-0.515993</td>\n",
       "      <td>1.716266</td>\n",
       "      <td>5.899011</td>\n",
       "      <td>149.600746</td>\n",
       "    </tr>\n",
       "  </tbody>\n",
       "</table>\n",
       "</div>"
      ],
      "text/plain": [
       "      id        f0        f1        f2     product\n",
       "0  fwXo0 -1.146987  0.963328 -0.828965   27.758673\n",
       "1  WJtFt  0.262778  0.269839 -2.530187   56.069697\n",
       "2  ovLUW  0.194587  0.289035 -5.586433   62.871910\n",
       "3  q6cA6  2.236060 -0.553760  0.930038  114.572842\n",
       "4  WPMUX -0.515993  1.716266  5.899011  149.600746"
      ]
     },
     "execution_count": 6,
     "metadata": {},
     "output_type": "execute_result"
    }
   ],
   "source": [
    "df_3 = data[2]\n",
    "df_3.info()\n",
    "df_3.head()"
   ]
  },
  {
   "cell_type": "markdown",
   "metadata": {},
   "source": [
    "--- \n",
    "\n",
    "В каждом из 3-х датасетов содержится 100000 ненулевых объектов с 5-ю признаками:\n",
    "* `id` — уникальный идентификатор скважины\n",
    "* `f0, f1, f2` — три признака точек\n",
    "* `product` — объём запасов в скважине (тыс. баррелей)."
   ]
  },
  {
   "cell_type": "markdown",
   "metadata": {},
   "source": [
    "### Провекра на наличие дубликатов"
   ]
  },
  {
   "cell_type": "code",
   "execution_count": 7,
   "metadata": {},
   "outputs": [
    {
     "name": "stdout",
     "output_type": "stream",
     "text": [
      "Дубликатов в df_1: 0\n",
      "Дубликатов в df_2: 0\n",
      "Дубликатов в df_3: 0\n"
     ]
    }
   ],
   "source": [
    "print(\"Дубликатов в df_1:\", df_1.duplicated().sum())\n",
    "print(\"Дубликатов в df_2:\", df_2.duplicated().sum())\n",
    "print(\"Дубликатов в df_3:\", df_3.duplicated().sum())"
   ]
  },
  {
   "cell_type": "markdown",
   "metadata": {},
   "source": [
    "Дубликаты в данных отсутствуют."
   ]
  },
  {
   "cell_type": "markdown",
   "metadata": {},
   "source": [
    "### Поиск неявных дубликатов\n",
    "Проверим, нет ли в данных записей для одних и тех же скважин:"
   ]
  },
  {
   "cell_type": "code",
   "execution_count": 8,
   "metadata": {},
   "outputs": [
    {
     "name": "stdout",
     "output_type": "stream",
     "text": [
      "Идентичных id в df_1: 10\n",
      "Идентичных id в df_2: 4\n",
      "Идентичных id в df_3: 4\n"
     ]
    }
   ],
   "source": [
    "print(\"Идентичных id в df_1:\", df_1['id'].duplicated().sum())\n",
    "print(\"Идентичных id в df_2:\", df_2['id'].duplicated().sum())\n",
    "print(\"Идентичных id в df_3:\", df_3['id'].duplicated().sum())"
   ]
  },
  {
   "cell_type": "markdown",
   "metadata": {},
   "source": [
    "На примере первого набора данных, рассмотрим, какие именно значения находятся дубликатах, чтобы понять, какие из них стоит сохранить, а какие отбросить.\n",
    "\n",
    "Сформируем датафрейм, в котором будут собраны и отсортированы значения с повторяющимся `id`:"
   ]
  },
  {
   "cell_type": "code",
   "execution_count": 9,
   "metadata": {},
   "outputs": [
    {
     "data": {
      "text/html": [
       "<div>\n",
       "<style scoped>\n",
       "    .dataframe tbody tr th:only-of-type {\n",
       "        vertical-align: middle;\n",
       "    }\n",
       "\n",
       "    .dataframe tbody tr th {\n",
       "        vertical-align: top;\n",
       "    }\n",
       "\n",
       "    .dataframe thead th {\n",
       "        text-align: right;\n",
       "    }\n",
       "</style>\n",
       "<table border=\"1\" class=\"dataframe\">\n",
       "  <thead>\n",
       "    <tr style=\"text-align: right;\">\n",
       "      <th></th>\n",
       "      <th>id</th>\n",
       "      <th>f0</th>\n",
       "      <th>f1</th>\n",
       "      <th>f2</th>\n",
       "      <th>product</th>\n",
       "    </tr>\n",
       "  </thead>\n",
       "  <tbody>\n",
       "    <tr>\n",
       "      <th>66136</th>\n",
       "      <td>74z30</td>\n",
       "      <td>1.084962</td>\n",
       "      <td>-0.312358</td>\n",
       "      <td>6.990771</td>\n",
       "      <td>127.643327</td>\n",
       "    </tr>\n",
       "    <tr>\n",
       "      <th>64022</th>\n",
       "      <td>74z30</td>\n",
       "      <td>0.741456</td>\n",
       "      <td>0.459229</td>\n",
       "      <td>5.153109</td>\n",
       "      <td>140.771492</td>\n",
       "    </tr>\n",
       "    <tr>\n",
       "      <th>51970</th>\n",
       "      <td>A5aEY</td>\n",
       "      <td>-0.180335</td>\n",
       "      <td>0.935548</td>\n",
       "      <td>-2.094773</td>\n",
       "      <td>33.020205</td>\n",
       "    </tr>\n",
       "    <tr>\n",
       "      <th>3389</th>\n",
       "      <td>A5aEY</td>\n",
       "      <td>-0.039949</td>\n",
       "      <td>0.156872</td>\n",
       "      <td>0.209861</td>\n",
       "      <td>89.249364</td>\n",
       "    </tr>\n",
       "    <tr>\n",
       "      <th>69163</th>\n",
       "      <td>AGS9W</td>\n",
       "      <td>-0.933795</td>\n",
       "      <td>0.116194</td>\n",
       "      <td>-3.655896</td>\n",
       "      <td>19.230453</td>\n",
       "    </tr>\n",
       "    <tr>\n",
       "      <th>42529</th>\n",
       "      <td>AGS9W</td>\n",
       "      <td>1.454747</td>\n",
       "      <td>-0.479651</td>\n",
       "      <td>0.683380</td>\n",
       "      <td>126.370504</td>\n",
       "    </tr>\n",
       "  </tbody>\n",
       "</table>\n",
       "</div>"
      ],
      "text/plain": [
       "          id        f0        f1        f2     product\n",
       "66136  74z30  1.084962 -0.312358  6.990771  127.643327\n",
       "64022  74z30  0.741456  0.459229  5.153109  140.771492\n",
       "51970  A5aEY -0.180335  0.935548 -2.094773   33.020205\n",
       "3389   A5aEY -0.039949  0.156872  0.209861   89.249364\n",
       "69163  AGS9W -0.933795  0.116194 -3.655896   19.230453\n",
       "42529  AGS9W  1.454747 -0.479651  0.683380  126.370504"
      ]
     },
     "execution_count": 9,
     "metadata": {},
     "output_type": "execute_result"
    }
   ],
   "source": [
    "duplicates_mask = df_1['id'].duplicated(keep=False)\n",
    "duplicates_df = df_1[duplicates_mask].sort_values('id')\n",
    "duplicates_df.head(6)"
   ]
  },
  {
   "cell_type": "markdown",
   "metadata": {},
   "source": [
    "Так как задача направлена на прогнозирование потенциальной прибыли и вероятности убытков, логично будет оставить строки, в которых более пессимистичные данные. То есть те, где значение `product` меньше."
   ]
  },
  {
   "cell_type": "code",
   "execution_count": 10,
   "metadata": {},
   "outputs": [],
   "source": [
    "df_1 = df_1.sort_values('product')\n",
    "df_1 = df_1.drop_duplicates('id', keep='first')"
   ]
  },
  {
   "cell_type": "markdown",
   "metadata": {},
   "source": [
    "Проверим на примере `id` = 74z30, какое из двух значений осталось:"
   ]
  },
  {
   "cell_type": "code",
   "execution_count": 11,
   "metadata": {},
   "outputs": [
    {
     "data": {
      "text/html": [
       "<div>\n",
       "<style scoped>\n",
       "    .dataframe tbody tr th:only-of-type {\n",
       "        vertical-align: middle;\n",
       "    }\n",
       "\n",
       "    .dataframe tbody tr th {\n",
       "        vertical-align: top;\n",
       "    }\n",
       "\n",
       "    .dataframe thead th {\n",
       "        text-align: right;\n",
       "    }\n",
       "</style>\n",
       "<table border=\"1\" class=\"dataframe\">\n",
       "  <thead>\n",
       "    <tr style=\"text-align: right;\">\n",
       "      <th></th>\n",
       "      <th>id</th>\n",
       "      <th>f0</th>\n",
       "      <th>f1</th>\n",
       "      <th>f2</th>\n",
       "      <th>product</th>\n",
       "    </tr>\n",
       "  </thead>\n",
       "  <tbody>\n",
       "    <tr>\n",
       "      <th>66136</th>\n",
       "      <td>74z30</td>\n",
       "      <td>1.084962</td>\n",
       "      <td>-0.312358</td>\n",
       "      <td>6.990771</td>\n",
       "      <td>127.643327</td>\n",
       "    </tr>\n",
       "  </tbody>\n",
       "</table>\n",
       "</div>"
      ],
      "text/plain": [
       "          id        f0        f1        f2     product\n",
       "66136  74z30  1.084962 -0.312358  6.990771  127.643327"
      ]
     },
     "execution_count": 11,
     "metadata": {},
     "output_type": "execute_result"
    }
   ],
   "source": [
    "df_1[df_1['id'] == '74z30']"
   ]
  },
  {
   "cell_type": "markdown",
   "metadata": {},
   "source": [
    "В датафрейме осталось строка с меньшим значением `product`, следовательно, аналогичное преобразование можно применить и к оставшимся датафреймам:"
   ]
  },
  {
   "cell_type": "code",
   "execution_count": 12,
   "metadata": {},
   "outputs": [
    {
     "name": "stdout",
     "output_type": "stream",
     "text": [
      "Идентичных id в df_1: 0\n",
      "Идентичных id в df_2: 0\n",
      "Идентичных id в df_3: 0\n"
     ]
    }
   ],
   "source": [
    "df_2 = df_2.sort_values('product')\n",
    "df_2 = df_2.drop_duplicates('id', keep='first')\n",
    "\n",
    "df_3 = df_3.sort_values('product')\n",
    "df_3 = df_3.drop_duplicates('id', keep='first')\n",
    "\n",
    "# Финальная проверка\n",
    "print(\"Идентичных id в df_1:\", df_1['id'].duplicated().sum())\n",
    "print(\"Идентичных id в df_2:\", df_2['id'].duplicated().sum())\n",
    "print(\"Идентичных id в df_3:\", df_3['id'].duplicated().sum())"
   ]
  },
  {
   "cell_type": "markdown",
   "metadata": {},
   "source": [
    "### Проверка корреляций в данных"
   ]
  },
  {
   "cell_type": "code",
   "execution_count": 13,
   "metadata": {},
   "outputs": [],
   "source": [
    "num_columns = ['f0', 'f1', 'f2', 'product'] "
   ]
  },
  {
   "cell_type": "code",
   "execution_count": 14,
   "metadata": {},
   "outputs": [
    {
     "data": {
      "image/png": "[encoded data removed]",
      "text/plain": [
       "<Figure size 640x480 with 2 Axes>"
      ]
     },
     "metadata": {},
     "output_type": "display_data"
    }
   ],
   "source": [
    "sns.heatmap(df_1[num_columns].corr(), annot=True);"
   ]
  },
  {
   "cell_type": "code",
   "execution_count": 15,
   "metadata": {},
   "outputs": [
    {
     "data": {
      "image/png": "[encoded data removed]",
      "text/plain": [
       "<Figure size 640x480 with 2 Axes>"
      ]
     },
     "metadata": {},
     "output_type": "display_data"
    }
   ],
   "source": [
    "sns.heatmap(df_2[num_columns].corr(), annot=True);"
   ]
  },
  {
   "cell_type": "code",
   "execution_count": 16,
   "metadata": {},
   "outputs": [
    {
     "data": {
      "image/png": "[encoded data removed]",
      "text/plain": [
       "<Figure size 640x480 with 2 Axes>"
      ]
     },
     "metadata": {},
     "output_type": "display_data"
    }
   ],
   "source": [
    "sns.heatmap(df_3[num_columns].corr(), annot=True);"
   ]
  },
  {
   "cell_type": "markdown",
   "metadata": {},
   "source": [
    "**Наблюдения**\n",
    "\n",
    "Корреляция наблюдается между признаками `product` и `f2`, что говорит о существенной линейной связи. Во втором датафрейме она самая значительная и равна 1. В 1-м и 3-м находится в пределах 0,45-0,48."
   ]
  },
  {
   "cell_type": "markdown",
   "metadata": {},
   "source": [
    "### Анализ распределений и статистик"
   ]
  },
  {
   "cell_type": "code",
   "execution_count": 17,
   "metadata": {},
   "outputs": [
    {
     "data": {
      "text/html": [
       "<div>\n",
       "<style scoped>\n",
       "    .dataframe tbody tr th:only-of-type {\n",
       "        vertical-align: middle;\n",
       "    }\n",
       "\n",
       "    .dataframe tbody tr th {\n",
       "        vertical-align: top;\n",
       "    }\n",
       "\n",
       "    .dataframe thead th {\n",
       "        text-align: right;\n",
       "    }\n",
       "</style>\n",
       "<table border=\"1\" class=\"dataframe\">\n",
       "  <thead>\n",
       "    <tr style=\"text-align: right;\">\n",
       "      <th></th>\n",
       "      <th>f0</th>\n",
       "      <th>f1</th>\n",
       "      <th>f2</th>\n",
       "      <th>product</th>\n",
       "    </tr>\n",
       "  </thead>\n",
       "  <tbody>\n",
       "    <tr>\n",
       "      <th>count</th>\n",
       "      <td>99990.000000</td>\n",
       "      <td>99990.000000</td>\n",
       "      <td>99990.000000</td>\n",
       "      <td>99990.000000</td>\n",
       "    </tr>\n",
       "    <tr>\n",
       "      <th>mean</th>\n",
       "      <td>0.500426</td>\n",
       "      <td>0.250151</td>\n",
       "      <td>2.502544</td>\n",
       "      <td>92.497431</td>\n",
       "    </tr>\n",
       "    <tr>\n",
       "      <th>std</th>\n",
       "      <td>0.871854</td>\n",
       "      <td>0.504431</td>\n",
       "      <td>3.248126</td>\n",
       "      <td>44.289177</td>\n",
       "    </tr>\n",
       "    <tr>\n",
       "      <th>min</th>\n",
       "      <td>-1.408605</td>\n",
       "      <td>-0.848218</td>\n",
       "      <td>-12.088328</td>\n",
       "      <td>0.000000</td>\n",
       "    </tr>\n",
       "    <tr>\n",
       "      <th>25%</th>\n",
       "      <td>-0.072653</td>\n",
       "      <td>-0.200864</td>\n",
       "      <td>0.287784</td>\n",
       "      <td>56.495873</td>\n",
       "    </tr>\n",
       "    <tr>\n",
       "      <th>50%</th>\n",
       "      <td>0.502360</td>\n",
       "      <td>0.250252</td>\n",
       "      <td>2.515969</td>\n",
       "      <td>91.842960</td>\n",
       "    </tr>\n",
       "    <tr>\n",
       "      <th>75%</th>\n",
       "      <td>1.073626</td>\n",
       "      <td>0.700654</td>\n",
       "      <td>4.714970</td>\n",
       "      <td>128.562225</td>\n",
       "    </tr>\n",
       "    <tr>\n",
       "      <th>max</th>\n",
       "      <td>2.362331</td>\n",
       "      <td>1.343769</td>\n",
       "      <td>16.003790</td>\n",
       "      <td>185.364347</td>\n",
       "    </tr>\n",
       "  </tbody>\n",
       "</table>\n",
       "</div>"
      ],
      "text/plain": [
       "                 f0            f1            f2       product\n",
       "count  99990.000000  99990.000000  99990.000000  99990.000000\n",
       "mean       0.500426      0.250151      2.502544     92.497431\n",
       "std        0.871854      0.504431      3.248126     44.289177\n",
       "min       -1.408605     -0.848218    -12.088328      0.000000\n",
       "25%       -0.072653     -0.200864      0.287784     56.495873\n",
       "50%        0.502360      0.250252      2.515969     91.842960\n",
       "75%        1.073626      0.700654      4.714970    128.562225\n",
       "max        2.362331      1.343769     16.003790    185.364347"
      ]
     },
     "metadata": {},
     "output_type": "display_data"
    },
    {
     "data": {
      "image/png": "[encoded data removed]",
      "text/plain": [
       "<Figure size 1600x900 with 4 Axes>"
      ]
     },
     "metadata": {},
     "output_type": "display_data"
    }
   ],
   "source": [
    "df_1.hist(figsize=(16, 9), bins=50)\n",
    "display(df_1.describe())"
   ]
  },
  {
   "cell_type": "code",
   "execution_count": 18,
   "metadata": {},
   "outputs": [
    {
     "data": {
      "text/html": [
       "<div>\n",
       "<style scoped>\n",
       "    .dataframe tbody tr th:only-of-type {\n",
       "        vertical-align: middle;\n",
       "    }\n",
       "\n",
       "    .dataframe tbody tr th {\n",
       "        vertical-align: top;\n",
       "    }\n",
       "\n",
       "    .dataframe thead th {\n",
       "        text-align: right;\n",
       "    }\n",
       "</style>\n",
       "<table border=\"1\" class=\"dataframe\">\n",
       "  <thead>\n",
       "    <tr style=\"text-align: right;\">\n",
       "      <th></th>\n",
       "      <th>f0</th>\n",
       "      <th>f1</th>\n",
       "      <th>f2</th>\n",
       "      <th>product</th>\n",
       "    </tr>\n",
       "  </thead>\n",
       "  <tbody>\n",
       "    <tr>\n",
       "      <th>count</th>\n",
       "      <td>99996.000000</td>\n",
       "      <td>99996.000000</td>\n",
       "      <td>99996.000000</td>\n",
       "      <td>99996.000000</td>\n",
       "    </tr>\n",
       "    <tr>\n",
       "      <th>mean</th>\n",
       "      <td>1.141040</td>\n",
       "      <td>-4.796625</td>\n",
       "      <td>2.494481</td>\n",
       "      <td>68.823409</td>\n",
       "    </tr>\n",
       "    <tr>\n",
       "      <th>std</th>\n",
       "      <td>8.965783</td>\n",
       "      <td>5.119897</td>\n",
       "      <td>1.703573</td>\n",
       "      <td>45.944494</td>\n",
       "    </tr>\n",
       "    <tr>\n",
       "      <th>min</th>\n",
       "      <td>-31.609576</td>\n",
       "      <td>-26.358598</td>\n",
       "      <td>-0.018144</td>\n",
       "      <td>0.000000</td>\n",
       "    </tr>\n",
       "    <tr>\n",
       "      <th>25%</th>\n",
       "      <td>-6.298551</td>\n",
       "      <td>-8.267985</td>\n",
       "      <td>1.000021</td>\n",
       "      <td>26.953261</td>\n",
       "    </tr>\n",
       "    <tr>\n",
       "      <th>50%</th>\n",
       "      <td>1.152033</td>\n",
       "      <td>-4.813172</td>\n",
       "      <td>2.011470</td>\n",
       "      <td>57.085625</td>\n",
       "    </tr>\n",
       "    <tr>\n",
       "      <th>75%</th>\n",
       "      <td>8.620875</td>\n",
       "      <td>-1.332816</td>\n",
       "      <td>3.999904</td>\n",
       "      <td>107.813044</td>\n",
       "    </tr>\n",
       "    <tr>\n",
       "      <th>max</th>\n",
       "      <td>29.421755</td>\n",
       "      <td>18.734063</td>\n",
       "      <td>5.019721</td>\n",
       "      <td>137.945408</td>\n",
       "    </tr>\n",
       "  </tbody>\n",
       "</table>\n",
       "</div>"
      ],
      "text/plain": [
       "                 f0            f1            f2       product\n",
       "count  99996.000000  99996.000000  99996.000000  99996.000000\n",
       "mean       1.141040     -4.796625      2.494481     68.823409\n",
       "std        8.965783      5.119897      1.703573     45.944494\n",
       "min      -31.609576    -26.358598     -0.018144      0.000000\n",
       "25%       -6.298551     -8.267985      1.000021     26.953261\n",
       "50%        1.152033     -4.813172      2.011470     57.085625\n",
       "75%        8.620875     -1.332816      3.999904    107.813044\n",
       "max       29.421755     18.734063      5.019721    137.945408"
      ]
     },
     "metadata": {},
     "output_type": "display_data"
    },
    {
     "data": {
      "image/png": "[encoded data removed]",
      "text/plain": [
       "<Figure size 1600x900 with 4 Axes>"
      ]
     },
     "metadata": {},
     "output_type": "display_data"
    }
   ],
   "source": [
    "df_2.hist(figsize=(16, 9), bins=50)\n",
    "display(df_2.describe())"
   ]
  },
  {
   "cell_type": "code",
   "execution_count": 19,
   "metadata": {},
   "outputs": [
    {
     "data": {
      "text/html": [
       "<div>\n",
       "<style scoped>\n",
       "    .dataframe tbody tr th:only-of-type {\n",
       "        vertical-align: middle;\n",
       "    }\n",
       "\n",
       "    .dataframe tbody tr th {\n",
       "        vertical-align: top;\n",
       "    }\n",
       "\n",
       "    .dataframe thead th {\n",
       "        text-align: right;\n",
       "    }\n",
       "</style>\n",
       "<table border=\"1\" class=\"dataframe\">\n",
       "  <thead>\n",
       "    <tr style=\"text-align: right;\">\n",
       "      <th></th>\n",
       "      <th>f0</th>\n",
       "      <th>f1</th>\n",
       "      <th>f2</th>\n",
       "      <th>product</th>\n",
       "    </tr>\n",
       "  </thead>\n",
       "  <tbody>\n",
       "    <tr>\n",
       "      <th>count</th>\n",
       "      <td>99996.000000</td>\n",
       "      <td>99996.000000</td>\n",
       "      <td>99996.000000</td>\n",
       "      <td>99996.000000</td>\n",
       "    </tr>\n",
       "    <tr>\n",
       "      <th>mean</th>\n",
       "      <td>0.002010</td>\n",
       "      <td>-0.002100</td>\n",
       "      <td>2.495046</td>\n",
       "      <td>94.997431</td>\n",
       "    </tr>\n",
       "    <tr>\n",
       "      <th>std</th>\n",
       "      <td>1.732056</td>\n",
       "      <td>1.730390</td>\n",
       "      <td>3.473469</td>\n",
       "      <td>44.748717</td>\n",
       "    </tr>\n",
       "    <tr>\n",
       "      <th>min</th>\n",
       "      <td>-8.760004</td>\n",
       "      <td>-7.084020</td>\n",
       "      <td>-11.970335</td>\n",
       "      <td>0.000000</td>\n",
       "    </tr>\n",
       "    <tr>\n",
       "      <th>25%</th>\n",
       "      <td>-1.162288</td>\n",
       "      <td>-1.174820</td>\n",
       "      <td>0.130269</td>\n",
       "      <td>59.450028</td>\n",
       "    </tr>\n",
       "    <tr>\n",
       "      <th>50%</th>\n",
       "      <td>0.009424</td>\n",
       "      <td>-0.009482</td>\n",
       "      <td>2.484188</td>\n",
       "      <td>94.917850</td>\n",
       "    </tr>\n",
       "    <tr>\n",
       "      <th>75%</th>\n",
       "      <td>1.158477</td>\n",
       "      <td>1.163592</td>\n",
       "      <td>4.858662</td>\n",
       "      <td>130.585544</td>\n",
       "    </tr>\n",
       "    <tr>\n",
       "      <th>max</th>\n",
       "      <td>7.238262</td>\n",
       "      <td>7.844801</td>\n",
       "      <td>16.739402</td>\n",
       "      <td>190.029838</td>\n",
       "    </tr>\n",
       "  </tbody>\n",
       "</table>\n",
       "</div>"
      ],
      "text/plain": [
       "                 f0            f1            f2       product\n",
       "count  99996.000000  99996.000000  99996.000000  99996.000000\n",
       "mean       0.002010     -0.002100      2.495046     94.997431\n",
       "std        1.732056      1.730390      3.473469     44.748717\n",
       "min       -8.760004     -7.084020    -11.970335      0.000000\n",
       "25%       -1.162288     -1.174820      0.130269     59.450028\n",
       "50%        0.009424     -0.009482      2.484188     94.917850\n",
       "75%        1.158477      1.163592      4.858662    130.585544\n",
       "max        7.238262      7.844801     16.739402    190.029838"
      ]
     },
     "metadata": {},
     "output_type": "display_data"
    },
    {
     "data": {
      "image/png": "[encoded data removed]",
      "text/plain": [
       "<Figure size 1600x900 with 4 Axes>"
      ]
     },
     "metadata": {},
     "output_type": "display_data"
    }
   ],
   "source": [
    "df_3.hist(figsize=(16, 9), bins=50)\n",
    "display(df_3.describe())"
   ]
  },
  {
   "cell_type": "markdown",
   "metadata": {},
   "source": [
    "**Наблюдения**\n",
    "\n",
    "Во втором датафрейме значительно отличается форма распределения и средние значения столбца `product`."
   ]
  },
  {
   "cell_type": "markdown",
   "metadata": {},
   "source": [
    "### Итоги этапа\n",
    "* Данные успешно загружены\n",
    "* Пропуски и дубликаты не обнаружены\n",
    "* Отмечены корреляции между признаками `product` и `f2`\n",
    "* Отмечено необычное распределение значений признака `porduct` во втором датасете:\n",
    "    * Самое низкое среднее значение запасов\n",
    "    * Самое низкое максимальное значение запасов"
   ]
  },
  {
   "cell_type": "markdown",
   "metadata": {},
   "source": [
    "## Обучение и проверка модели"
   ]
  },
  {
   "cell_type": "markdown",
   "metadata": {},
   "source": [
    "### Подготовка выборок"
   ]
  },
  {
   "cell_type": "code",
   "execution_count": 20,
   "metadata": {},
   "outputs": [],
   "source": [
    "# Список числовых признаков\n",
    "numeric = ['f0', 'f1', 'f2']"
   ]
  },
  {
   "cell_type": "markdown",
   "metadata": {},
   "source": [
    "Так как в данных наблюдается значительный разборс в значениях `f0`-`f2`, произведём разбиение вместе с масштабированием признаков."
   ]
  },
  {
   "cell_type": "markdown",
   "metadata": {},
   "source": [
    "### Обучение моделей\n",
    "По условию задачи необходимо использовать **линейную регрессию**. Обучим 3 модели, сохраним предсказания и выведем на экран для каждой запас предсказанного сырья и RMSE:"
   ]
  },
  {
   "cell_type": "code",
   "execution_count": 21,
   "metadata": {},
   "outputs": [],
   "source": [
    "# Глобальные списи для хранения валидационных и предсказанных ответов\n",
    "y_valid_list = []\n",
    "y_pred_valid_list = []"
   ]
  },
  {
   "cell_type": "code",
   "execution_count": 22,
   "metadata": {},
   "outputs": [],
   "source": [
    "def split_and_train (dfs: list):\n",
    "    \n",
    "    # Очистка глобальных списков\n",
    "    global y_valid_list\n",
    "    y_valid_list = []\n",
    "    global y_pred_valid_list\n",
    "    y_pred_valid_list = []\n",
    "    \n",
    "    # Списки для искомых значений\n",
    "    target_mean = []\n",
    "    pred_mean = []\n",
    "    rmse = []\n",
    "    \n",
    "    for ix, df in enumerate(dfs):\n",
    "        \n",
    "        # Атрибуты и целевой признак\n",
    "        features = df.drop(['id','product'], axis=1)\n",
    "        target = df['product']\n",
    "\n",
    "        # Разбиение выборки на обучающую и валидационную в соотношении 75:25\n",
    "        X_train, X_valid, y_train, y_valid = train_test_split(features,\n",
    "                                                              target,\n",
    "                                                              test_size = 0.25,\n",
    "                                                              random_state=RND_ST)\n",
    "\n",
    "        \n",
    "        # Масштабирование числовых признаков\n",
    "        scaler = StandardScaler()\n",
    "        scaler.fit(X_valid.loc[:, numeric])\n",
    "        X_train.loc[:, numeric] = scaler.transform(X_train.loc[:, numeric])\n",
    "        X_valid.loc[:, numeric] = scaler.transform(X_valid.loc[:, numeric])\n",
    "\n",
    "        # Тренировка модели\n",
    "        model = LinearRegression()\n",
    "        model.fit(X_train, y_train)\n",
    "      \n",
    "    \n",
    "        ## V.2\n",
    "        #y_pred_valid = model.predict(X_valid)\n",
    "        \n",
    "        # V.3\n",
    "        # Согласование предсказанных значений по индексами с валидационной выборкой\n",
    "        y_pred_valid = pd.Series(model.predict(X_valid), index=y_valid.index)\n",
    "    \n",
    "    \n",
    "    \n",
    "        # Сохранение валидационных и предсказанных ответов в глобальные списки\n",
    "        # для взаимодействия с ними в следующих блоках исследования\n",
    "        y_valid_list.append(y_valid)\n",
    "        y_pred_valid_list.append(y_pred_valid)\n",
    "        \n",
    "        \n",
    "        # Средний действительный запас\n",
    "        target_mean.append(y_valid.mean())\n",
    "\n",
    "        # Средний предсказанный запас\n",
    "        pred_mean.append(y_pred_valid.mean())\n",
    "\n",
    "        # RMSE на валидационной выборке \n",
    "        rmse.append(mean_squared_error(y_valid, y_pred_valid)**0.5 )\n",
    "    \n",
    "    # Объединение результатов в датафрейм\n",
    "    res_df = pd.DataFrame({'Средний действительный запас сырья': target_mean,\n",
    "                           'Средний предсказанный запас сырья': pred_mean,\n",
    "                           'RMSE модели на валидационной выборке': rmse})\n",
    "    \n",
    "    # Сдвигаем индексы, чтобы согласовать нумерацию\n",
    "    res_df.index = res_df.index + 1\n",
    "    \n",
    "    return res_df\n",
    "    "
   ]
  },
  {
   "cell_type": "code",
   "execution_count": 23,
   "metadata": {},
   "outputs": [
    {
     "data": {
      "text/html": [
       "<div>\n",
       "<style scoped>\n",
       "    .dataframe tbody tr th:only-of-type {\n",
       "        vertical-align: middle;\n",
       "    }\n",
       "\n",
       "    .dataframe tbody tr th {\n",
       "        vertical-align: top;\n",
       "    }\n",
       "\n",
       "    .dataframe thead th {\n",
       "        text-align: right;\n",
       "    }\n",
       "</style>\n",
       "<table border=\"1\" class=\"dataframe\">\n",
       "  <thead>\n",
       "    <tr style=\"text-align: right;\">\n",
       "      <th></th>\n",
       "      <th>1</th>\n",
       "      <th>2</th>\n",
       "      <th>3</th>\n",
       "    </tr>\n",
       "  </thead>\n",
       "  <tbody>\n",
       "    <tr>\n",
       "      <th>Средний действительный запас сырья</th>\n",
       "      <td>92.721000</td>\n",
       "      <td>69.257784</td>\n",
       "      <td>94.960118</td>\n",
       "    </tr>\n",
       "    <tr>\n",
       "      <th>Средний предсказанный запас сырья</th>\n",
       "      <td>92.259673</td>\n",
       "      <td>69.252768</td>\n",
       "      <td>94.895236</td>\n",
       "    </tr>\n",
       "    <tr>\n",
       "      <th>RMSE модели на валидационной выборке</th>\n",
       "      <td>37.567267</td>\n",
       "      <td>0.888347</td>\n",
       "      <td>39.999376</td>\n",
       "    </tr>\n",
       "  </tbody>\n",
       "</table>\n",
       "</div>"
      ],
      "text/plain": [
       "                                              1          2          3\n",
       "Средний действительный запас сырья    92.721000  69.257784  94.960118\n",
       "Средний предсказанный запас сырья     92.259673  69.252768  94.895236\n",
       "RMSE модели на валидационной выборке  37.567267   0.888347  39.999376"
      ]
     },
     "execution_count": 23,
     "metadata": {},
     "output_type": "execute_result"
    }
   ],
   "source": [
    "# Расчёт средних значений и RMSE\n",
    "split_and_train([df_1, df_2, df_3]).head().T"
   ]
  },
  {
   "cell_type": "markdown",
   "metadata": {},
   "source": [
    "### Итоги этапа\n",
    "* Самые качественные предсказания получены с помощью второй модели со среднеквадратичной ошибкой меньше единицы\n",
    "* Первая и третья модели показали RMSE одного порядка: 37,54—40,07. Это говорит о значительном снижении качества по сравнению со второй моделью."
   ]
  },
  {
   "cell_type": "markdown",
   "metadata": {},
   "source": [
    "## Подготовка к расчёту прибыли"
   ]
  },
  {
   "cell_type": "markdown",
   "metadata": {},
   "source": [
    "Вычислим достаточный объём сырья для безубыточной разработки новой скважины и сравним полученный объём со средним запасом в каждом регионе:"
   ]
  },
  {
   "cell_type": "code",
   "execution_count": 24,
   "metadata": {},
   "outputs": [
    {
     "name": "stdout",
     "output_type": "stream",
     "text": [
      "Достаточный объём сырья: 111.11 тыс. баррелей.\n",
      "--------------------------------------------------\n",
      "\n",
      "РЕГИОН №1\n",
      "Средний измеренный запас : 92.50 тыс. баррелей.\n",
      "Средний предсказанный запас: 92.26 тыс. баррелей.\n",
      "\n",
      "Процент скважин с объёмом выше порога: 36.58%\n",
      "Количество скважин с объёмом выше порога: 36578\n",
      "--------------------------------------------------\n",
      "\n",
      "РЕГИОН №2\n",
      "Средний измеренный запас : 68.82 тыс. баррелей.\n",
      "Средний предсказанный запас: 69.25 тыс. баррелей.\n",
      "\n",
      "Процент скважин с объёмом выше порога: 16.54%\n",
      "Количество скважин с объёмом выше порога: 16536\n",
      "--------------------------------------------------\n",
      "\n",
      "РЕГИОН №3\n",
      "Средний измеренный запас : 95.00 тыс. баррелей.\n",
      "Средний предсказанный запас: 94.90 тыс. баррелей.\n",
      "\n",
      "Процент скважин с объёмом выше порога: 38.18%\n",
      "Количество скважин с объёмом выше порога: 38174\n"
     ]
    }
   ],
   "source": [
    "# Объём для безубыточной разработки\n",
    "break_even = BUDGET / (BARREL_PRICE * ML_POINTS)\n",
    "print(f\"Достаточный объём сырья: {break_even:.2f} тыс. баррелей.\")\n",
    "\n",
    "data = [df_1, df_2, df_3]\n",
    "for ix, data in enumerate(data):\n",
    "    print(50*\"-\")\n",
    "    \n",
    "    print(f\"\\nРЕГИОН №{ix+1}\\nСредний измеренный запас : {data['product'].mean():.2f} тыс. баррелей.\")\n",
    "    print(f\"Средний предсказанный запас: {y_pred_valid_list[ix].mean():.2f} тыс. баррелей.\")\n",
    "    \n",
    "    print(f\"\\nПроцент скважин с объёмом выше порога: {len(data.query('product > @break_even')) / len(data):.2%}\")\n",
    "    print(f\"Количество скважин с объёмом выше порога: {len(data.query('product > @break_even'))}\")"
   ]
  },
  {
   "cell_type": "markdown",
   "metadata": {},
   "source": [
    "### Итоги этапа\n",
    "* Точка безубыточности составляет примерно 111 тыс. баррелей для каждой скважины\n",
    "* Средний запас для каждого региона лежит в пределах 68-95 тыс. баррелей\n",
    "* Количество скважин, в которых запас превышает пороговый, находится в пределах 16-38%\n",
    "\n",
    "Для первого и третьего региона сохраняется достаточно высокая вероятность окупить вложения за счёт высокого процента скважин, объём которых превышает пороговый.\n",
    "\n",
    "Так как среднее ожидаемое значение сырья по регионам рассчитано на основе всех точек, из которых мы можем разработать только 200, среди них могут оказать как скважины с высоким запасом продукта, так и с низким. \n",
    "    \n",
    "   Чтобы лучше спрогнозировать прибыль и риски работы в регионе, необходимо использовать бутстрапирование — отбор точек случайным образом и расчёт прогноза по финансовым результата работы с ними."
   ]
  },
  {
   "cell_type": "markdown",
   "metadata": {},
   "source": [
    "## Функции для расчёта прибыли и рисков"
   ]
  },
  {
   "cell_type": "markdown",
   "metadata": {},
   "source": [
    "**Калькулятор прибыли:**"
   ]
  },
  {
   "cell_type": "code",
   "execution_count": 25,
   "metadata": {},
   "outputs": [],
   "source": [
    "def profit_calculation(target, probs, count):\n",
    "    \n",
    "    # Сортировка предсказаний для дальнейшего выбора лучших скважин\n",
    "    probs_sorted = probs.sort_values(ascending=False)\n",
    "\n",
    "    # Целевое значение объёма сырья\n",
    "    # С помощью [:count] сохраняем только набор точек с максимальными значениями \n",
    "    product_vol = target[probs_sorted.index][:count].sum()\n",
    "    \n",
    "    # Прибыль в млн рублей\n",
    "    net_profit = (product_vol * BARREL_PRICE - BUDGET)/1e6\n",
    "    \n",
    "    return net_profit"
   ]
  },
  {
   "cell_type": "markdown",
   "metadata": {},
   "source": [
    "**Калькулятор рисков:**"
   ]
  },
  {
   "cell_type": "code",
   "execution_count": 26,
   "metadata": {},
   "outputs": [],
   "source": [
    "def risk_calculation(y_valid, y_pred_valid):\n",
    "    values = []\n",
    "\n",
    "    # Bootstrap для 1000 сэмплов\n",
    "    for i in range(1000):\n",
    "        target_subsample = y_valid.sample(n=POINTS,\n",
    "                                          replace=True,\n",
    "                                          random_state=RND_ST) \n",
    "        \n",
    "        # Цели которые предсказала модель для сампла\n",
    "        probs_subsample = pd.Series(y_pred_valid)[target_subsample.index] \n",
    "\n",
    "        # Значения, полученние с помощью функции подсчета прибыли\n",
    "        values.append(profit_calculation(target_subsample,\n",
    "                                         probs_subsample,\n",
    "                                         ML_POINTS)) \n",
    "\n",
    "    values = pd.Series(values)\n",
    "\n",
    "    # Доверительный интервал 95% и среднее значение\n",
    "    lower = values.quantile(0.025) \n",
    "    upper = values.quantile(0.975) \n",
    "    mean = values.mean() \n",
    "\n",
    "    # Процент убытков\n",
    "    outcome_risk = len(values[values < 0])/len(values)*100\n",
    "\n",
    "    # Визуализация\n",
    "    values.hist(bins=50)\n",
    "    ax = plt.gca()\n",
    "    ax.set_title(\"Распределение прибыли\")\n",
    "    ax.set_xlabel(\"Прибыль (млн руб)\")\n",
    "    ax.set_ylabel(\"Частота в выборке\")\n",
    "    ax.grid(True)\n",
    "    plt.show()\n",
    "    \n",
    "    print(f\"Средняя прибыль: {round(mean)} млн руб.\")\n",
    "    print(f\"Q(0,975) прибыль: {round(upper)} млн руб.\")\n",
    "    print(f\"Q(0,025) прибыль: {round(lower)} млн руб.\")\n",
    "    \n",
    "    print(30*\"-\")\n",
    "    print(f\"Процент риска: {outcome_risk:.1f}%\")"
   ]
  },
  {
   "cell_type": "markdown",
   "metadata": {},
   "source": [
    "## Риски и прибыль для каждого региона"
   ]
  },
  {
   "cell_type": "code",
   "execution_count": 27,
   "metadata": {
    "scrolled": false
   },
   "outputs": [
    {
     "name": "stdout",
     "output_type": "stream",
     "text": [
      "\n",
      "РЕГИОН №1\n"
     ]
    },
    {
     "data": {
      "image/png": "[encoded data removed]",
      "text/plain": [
       "<Figure size 640x480 with 1 Axes>"
      ]
     },
     "metadata": {},
     "output_type": "display_data"
    },
    {
     "name": "stdout",
     "output_type": "stream",
     "text": [
      "Средняя прибыль: 448 млн руб.\n",
      "Q(0,975) прибыль: 960 млн руб.\n",
      "Q(0,025) прибыль: -115 млн руб.\n",
      "------------------------------\n",
      "Процент риска: 6.6%\n",
      "\n",
      "РЕГИОН №2\n"
     ]
    },
    {
     "data": {
      "image/png": "[encoded data removed]",
      "text/plain": [
       "<Figure size 640x480 with 1 Axes>"
      ]
     },
     "metadata": {},
     "output_type": "display_data"
    },
    {
     "name": "stdout",
     "output_type": "stream",
     "text": [
      "Средняя прибыль: 538 млн руб.\n",
      "Q(0,975) прибыль: 964 млн руб.\n",
      "Q(0,025) прибыль: 105 млн руб.\n",
      "------------------------------\n",
      "Процент риска: 0.9%\n",
      "\n",
      "РЕГИОН №3\n"
     ]
    },
    {
     "data": {
      "image/png": "[encoded data removed]",
      "text/plain": [
       "<Figure size 640x480 with 1 Axes>"
      ]
     },
     "metadata": {},
     "output_type": "display_data"
    },
    {
     "name": "stdout",
     "output_type": "stream",
     "text": [
      "Средняя прибыль: 346 млн руб.\n",
      "Q(0,975) прибыль: 871 млн руб.\n",
      "Q(0,025) прибыль: -174 млн руб.\n",
      "------------------------------\n",
      "Процент риска: 9.1%\n"
     ]
    }
   ],
   "source": [
    "for i in range(3):\n",
    "    print(f\"\\nРЕГИОН №{i+1}\")\n",
    "    risk_calculation(y_valid_list[i], y_pred_valid_list[i])"
   ]
  },
  {
   "cell_type": "markdown",
   "metadata": {},
   "source": [
    "# Выводы "
   ]
  },
  {
   "cell_type": "markdown",
   "metadata": {},
   "source": [
    "* В ходе работы над проектом были обучены модели линейной регресси для каждого из 3-х регионов.\n",
    "* Функции для расчёта прибыли и вероятности риска помогли обосновать решение о выборе наиболее перспективного региона для разработки.\n",
    "---\n",
    "Самым перспективным для разработки оказался **2-й регион** с прогнозируемой средней прибылью более 500 млн руб. и вероятностью риска около 1%."
   ]
  }
 ],
 "metadata": {
  "ExecuteTimeLog": [
   {
    "duration": 53,
    "start_time": "2023-07-27T09:21:07.564Z"
   },
   {
    "duration": 1477,
    "start_time": "2023-07-27T09:21:10.940Z"
   },
   {
    "duration": 2193,
    "start_time": "2023-07-27T09:21:14.726Z"
   },
   {
    "duration": 25,
    "start_time": "2023-07-27T09:22:25.981Z"
   },
   {
    "duration": 5,
    "start_time": "2023-07-27T09:25:09.177Z"
   },
   {
    "duration": 22,
    "start_time": "2023-07-27T09:25:32.226Z"
   },
   {
    "duration": 77,
    "start_time": "2023-07-27T09:26:17.266Z"
   },
   {
    "duration": 354,
    "start_time": "2023-07-27T09:26:24.332Z"
   },
   {
    "duration": 20,
    "start_time": "2023-07-27T09:26:25.354Z"
   },
   {
    "duration": 21,
    "start_time": "2023-07-27T09:26:25.950Z"
   },
   {
    "duration": 20,
    "start_time": "2023-07-27T09:26:26.558Z"
   },
   {
    "duration": 40,
    "start_time": "2023-07-27T09:32:12.506Z"
   },
   {
    "duration": 35,
    "start_time": "2023-07-27T09:32:55.562Z"
   },
   {
    "duration": 74,
    "start_time": "2023-07-27T09:33:16.680Z"
   },
   {
    "duration": 354,
    "start_time": "2023-07-27T09:33:46.516Z"
   },
   {
    "duration": 18,
    "start_time": "2023-07-27T09:33:51.860Z"
   },
   {
    "duration": 20,
    "start_time": "2023-07-27T09:34:01.664Z"
   },
   {
    "duration": 18,
    "start_time": "2023-07-27T09:34:07.059Z"
   },
   {
    "duration": 106,
    "start_time": "2023-07-27T09:34:19.323Z"
   },
   {
    "duration": 9,
    "start_time": "2023-07-27T09:44:12.557Z"
   },
   {
    "duration": 9,
    "start_time": "2023-07-27T09:44:49.053Z"
   },
   {
    "duration": 18,
    "start_time": "2023-07-27T09:44:53.844Z"
   },
   {
    "duration": 312,
    "start_time": "2023-07-27T09:45:14.502Z"
   },
   {
    "duration": 450,
    "start_time": "2023-07-27T09:45:24.334Z"
   },
   {
    "duration": 333,
    "start_time": "2023-07-27T09:45:36.900Z"
   },
   {
    "duration": 299,
    "start_time": "2023-07-27T09:46:41.265Z"
   },
   {
    "duration": 362,
    "start_time": "2023-07-27T09:50:52.486Z"
   },
   {
    "duration": 21,
    "start_time": "2023-07-27T09:50:53.207Z"
   },
   {
    "duration": 35,
    "start_time": "2023-07-27T09:50:56.005Z"
   },
   {
    "duration": 30,
    "start_time": "2023-07-27T09:50:56.402Z"
   },
   {
    "duration": 121,
    "start_time": "2023-07-27T09:50:58.088Z"
   },
   {
    "duration": 352,
    "start_time": "2023-07-27T09:51:00.114Z"
   },
   {
    "duration": 295,
    "start_time": "2023-07-27T09:51:03.309Z"
   },
   {
    "duration": 333,
    "start_time": "2023-07-27T09:51:10.365Z"
   },
   {
    "duration": 41,
    "start_time": "2023-07-27T09:55:29.090Z"
   },
   {
    "duration": 702,
    "start_time": "2023-07-27T09:55:37.018Z"
   },
   {
    "duration": 863,
    "start_time": "2023-07-27T09:55:45.223Z"
   },
   {
    "duration": 711,
    "start_time": "2023-07-27T09:56:09.500Z"
   },
   {
    "duration": 635,
    "start_time": "2023-07-27T09:56:13.978Z"
   },
   {
    "duration": 606,
    "start_time": "2023-07-27T09:56:27.274Z"
   },
   {
    "duration": 805,
    "start_time": "2023-07-27T09:56:37.535Z"
   },
   {
    "duration": 640,
    "start_time": "2023-07-27T09:56:47.198Z"
   },
   {
    "duration": 589,
    "start_time": "2023-07-27T09:56:59.340Z"
   },
   {
    "duration": 583,
    "start_time": "2023-07-27T09:57:09.106Z"
   },
   {
    "duration": 947,
    "start_time": "2023-07-27T09:57:18.778Z"
   },
   {
    "duration": 686,
    "start_time": "2023-07-27T09:57:25.168Z"
   },
   {
    "duration": 723,
    "start_time": "2023-07-27T09:57:31.899Z"
   },
   {
    "duration": 826,
    "start_time": "2023-07-27T09:59:21.367Z"
   },
   {
    "duration": 547,
    "start_time": "2023-07-27T09:59:29.824Z"
   },
   {
    "duration": 591,
    "start_time": "2023-07-27T09:59:40.903Z"
   },
   {
    "duration": 766,
    "start_time": "2023-07-27T09:59:52.820Z"
   },
   {
    "duration": 980,
    "start_time": "2023-07-27T09:59:58.468Z"
   },
   {
    "duration": 770,
    "start_time": "2023-07-27T10:00:09.156Z"
   },
   {
    "duration": 745,
    "start_time": "2023-07-27T10:00:46.776Z"
   },
   {
    "duration": 1078,
    "start_time": "2023-07-27T10:01:09.751Z"
   },
   {
    "duration": 784,
    "start_time": "2023-07-27T10:01:20.454Z"
   },
   {
    "duration": 754,
    "start_time": "2023-07-27T10:01:56.671Z"
   },
   {
    "duration": 980,
    "start_time": "2023-07-27T10:02:17.523Z"
   },
   {
    "duration": 750,
    "start_time": "2023-07-27T10:02:31.362Z"
   },
   {
    "duration": 116,
    "start_time": "2023-07-27T10:02:37.889Z"
   },
   {
    "duration": 130,
    "start_time": "2023-07-27T10:02:46.487Z"
   },
   {
    "duration": 146,
    "start_time": "2023-07-27T10:03:08.267Z"
   },
   {
    "duration": 113,
    "start_time": "2023-07-27T10:03:31.487Z"
   },
   {
    "duration": 103,
    "start_time": "2023-07-27T10:05:50.740Z"
   },
   {
    "duration": 752,
    "start_time": "2023-07-27T10:06:01.499Z"
   },
   {
    "duration": 788,
    "start_time": "2023-07-27T10:06:11.148Z"
   },
   {
    "duration": 110,
    "start_time": "2023-07-27T10:06:12.188Z"
   },
   {
    "duration": 756,
    "start_time": "2023-07-27T10:06:47.337Z"
   },
   {
    "duration": 121,
    "start_time": "2023-07-27T10:06:54.889Z"
   },
   {
    "duration": 120,
    "start_time": "2023-07-27T10:07:05.150Z"
   },
   {
    "duration": 151,
    "start_time": "2023-07-27T10:07:10.261Z"
   },
   {
    "duration": 8656,
    "start_time": "2023-07-27T10:10:38.457Z"
   },
   {
    "duration": 387,
    "start_time": "2023-07-27T10:11:01.705Z"
   },
   {
    "duration": 382,
    "start_time": "2023-07-27T10:11:15.436Z"
   },
   {
    "duration": 494,
    "start_time": "2023-07-27T10:11:21.175Z"
   },
   {
    "duration": 449,
    "start_time": "2023-07-27T10:11:38.566Z"
   },
   {
    "duration": 815,
    "start_time": "2023-07-27T10:12:11.251Z"
   },
   {
    "duration": 25,
    "start_time": "2023-07-27T10:20:00.142Z"
   },
   {
    "duration": 31,
    "start_time": "2023-07-27T10:22:34.456Z"
   },
   {
    "duration": 25,
    "start_time": "2023-07-27T10:26:11.368Z"
   },
   {
    "duration": 5,
    "start_time": "2023-07-27T10:26:32.694Z"
   },
   {
    "duration": 35,
    "start_time": "2023-07-27T10:27:16.300Z"
   },
   {
    "duration": 38,
    "start_time": "2023-07-27T10:28:23.024Z"
   },
   {
    "duration": 3,
    "start_time": "2023-07-27T10:29:04.550Z"
   },
   {
    "duration": 28,
    "start_time": "2023-07-27T10:29:47.415Z"
   },
   {
    "duration": 32,
    "start_time": "2023-07-27T10:29:57.541Z"
   },
   {
    "duration": 28,
    "start_time": "2023-07-27T10:30:04.998Z"
   },
   {
    "duration": 25,
    "start_time": "2023-07-27T10:30:40.686Z"
   },
   {
    "duration": 25,
    "start_time": "2023-07-27T10:31:02.186Z"
   },
   {
    "duration": 31,
    "start_time": "2023-07-27T10:32:55.265Z"
   },
   {
    "duration": 28,
    "start_time": "2023-07-27T10:32:57.458Z"
   },
   {
    "duration": 27,
    "start_time": "2023-07-27T10:33:10.891Z"
   },
   {
    "duration": 27,
    "start_time": "2023-07-27T10:33:27.069Z"
   },
   {
    "duration": 28,
    "start_time": "2023-07-27T14:18:18.068Z"
   },
   {
    "duration": 34,
    "start_time": "2023-07-27T14:18:31.252Z"
   },
   {
    "duration": 26,
    "start_time": "2023-07-27T14:18:37.760Z"
   },
   {
    "duration": 25,
    "start_time": "2023-07-27T14:18:57.188Z"
   },
   {
    "duration": 26,
    "start_time": "2023-07-27T14:19:37.223Z"
   },
   {
    "duration": 35,
    "start_time": "2023-07-27T14:20:06.790Z"
   },
   {
    "duration": 30,
    "start_time": "2023-07-27T14:20:57.293Z"
   },
   {
    "duration": 35,
    "start_time": "2023-07-27T14:21:15.108Z"
   },
   {
    "duration": 25,
    "start_time": "2023-07-27T14:21:56.993Z"
   },
   {
    "duration": 11,
    "start_time": "2023-07-27T14:40:09.259Z"
   },
   {
    "duration": 9,
    "start_time": "2023-07-27T14:40:42.576Z"
   },
   {
    "duration": 75,
    "start_time": "2023-07-27T14:40:49.005Z"
   },
   {
    "duration": 5,
    "start_time": "2023-07-27T14:41:42.324Z"
   },
   {
    "duration": 41,
    "start_time": "2023-07-27T14:41:51.647Z"
   },
   {
    "duration": 30,
    "start_time": "2023-07-27T14:42:38.451Z"
   },
   {
    "duration": 90,
    "start_time": "2023-07-27T14:43:08.152Z"
   },
   {
    "duration": 17,
    "start_time": "2023-07-27T14:43:15.815Z"
   },
   {
    "duration": 18,
    "start_time": "2023-07-27T14:43:52.548Z"
   },
   {
    "duration": 15,
    "start_time": "2023-07-27T14:44:15.643Z"
   },
   {
    "duration": 106,
    "start_time": "2023-07-27T14:45:52.477Z"
   },
   {
    "duration": 25,
    "start_time": "2023-07-27T14:46:36.607Z"
   },
   {
    "duration": 66,
    "start_time": "2023-07-27T14:54:40.088Z"
   },
   {
    "duration": 3,
    "start_time": "2023-07-27T14:54:46.651Z"
   },
   {
    "duration": 10,
    "start_time": "2023-07-27T14:55:23.411Z"
   },
   {
    "duration": 186,
    "start_time": "2023-07-27T14:55:48.388Z"
   },
   {
    "duration": 85,
    "start_time": "2023-07-27T14:55:53.398Z"
   },
   {
    "duration": 11,
    "start_time": "2023-07-27T14:55:55.943Z"
   },
   {
    "duration": 3,
    "start_time": "2023-07-27T15:14:55.202Z"
   },
   {
    "duration": 3,
    "start_time": "2023-07-27T15:15:25.399Z"
   },
   {
    "duration": 18,
    "start_time": "2023-07-27T15:16:12.375Z"
   },
   {
    "duration": 32,
    "start_time": "2023-07-27T15:16:46.067Z"
   },
   {
    "duration": 40,
    "start_time": "2023-07-27T15:17:08.946Z"
   },
   {
    "duration": 32,
    "start_time": "2023-07-27T15:20:12.385Z"
   },
   {
    "duration": 37,
    "start_time": "2023-07-27T15:20:46.170Z"
   },
   {
    "duration": 31,
    "start_time": "2023-07-27T15:21:43.238Z"
   },
   {
    "duration": 29,
    "start_time": "2023-07-27T15:21:48.802Z"
   },
   {
    "duration": 28,
    "start_time": "2023-07-27T15:21:53.307Z"
   },
   {
    "duration": 31,
    "start_time": "2023-07-27T15:22:12.710Z"
   },
   {
    "duration": 31,
    "start_time": "2023-07-27T15:22:20.098Z"
   },
   {
    "duration": 27,
    "start_time": "2023-07-27T15:22:33.215Z"
   },
   {
    "duration": 29,
    "start_time": "2023-07-27T15:22:39.419Z"
   },
   {
    "duration": 30,
    "start_time": "2023-07-27T15:22:57.499Z"
   },
   {
    "duration": 30,
    "start_time": "2023-07-27T15:23:03.912Z"
   },
   {
    "duration": 42,
    "start_time": "2023-07-27T15:23:29.767Z"
   },
   {
    "duration": 35,
    "start_time": "2023-07-27T15:23:44.095Z"
   },
   {
    "duration": 80,
    "start_time": "2023-07-27T15:25:21.574Z"
   },
   {
    "duration": 44,
    "start_time": "2023-07-27T15:25:31.050Z"
   },
   {
    "duration": 31,
    "start_time": "2023-07-27T15:26:19.698Z"
   },
   {
    "duration": 32,
    "start_time": "2023-07-27T15:26:29.312Z"
   },
   {
    "duration": 30,
    "start_time": "2023-07-27T15:26:37.732Z"
   },
   {
    "duration": 32,
    "start_time": "2023-07-27T15:26:41.707Z"
   },
   {
    "duration": 38,
    "start_time": "2023-07-27T15:26:45.347Z"
   },
   {
    "duration": 36,
    "start_time": "2023-07-27T15:27:01.813Z"
   },
   {
    "duration": 46,
    "start_time": "2023-07-27T15:27:55.278Z"
   },
   {
    "duration": 36,
    "start_time": "2023-07-27T15:28:03.723Z"
   },
   {
    "duration": 32,
    "start_time": "2023-07-27T15:28:32.120Z"
   },
   {
    "duration": 3,
    "start_time": "2023-07-27T15:51:19.250Z"
   },
   {
    "duration": 13,
    "start_time": "2023-07-27T15:52:37.510Z"
   },
   {
    "duration": 15,
    "start_time": "2023-07-27T15:53:28.436Z"
   },
   {
    "duration": 5,
    "start_time": "2023-07-27T16:06:20.494Z"
   },
   {
    "duration": 112,
    "start_time": "2023-07-27T16:06:22.554Z"
   },
   {
    "duration": 87,
    "start_time": "2023-07-27T16:07:35.750Z"
   },
   {
    "duration": 105,
    "start_time": "2023-07-27T16:07:51.350Z"
   },
   {
    "duration": 121,
    "start_time": "2023-07-27T16:08:12.966Z"
   },
   {
    "duration": 4,
    "start_time": "2023-07-27T16:11:20.138Z"
   },
   {
    "duration": 121,
    "start_time": "2023-07-27T16:11:49.816Z"
   },
   {
    "duration": 146,
    "start_time": "2023-07-27T16:12:00.158Z"
   },
   {
    "duration": 98,
    "start_time": "2023-07-27T16:12:06.346Z"
   },
   {
    "duration": 101,
    "start_time": "2023-07-27T16:12:11.706Z"
   },
   {
    "duration": 86,
    "start_time": "2023-07-27T16:12:14.522Z"
   },
   {
    "duration": 96,
    "start_time": "2023-07-27T16:12:21.317Z"
   },
   {
    "duration": 89,
    "start_time": "2023-07-27T16:13:02.598Z"
   },
   {
    "duration": 135,
    "start_time": "2023-07-27T16:13:09.671Z"
   },
   {
    "duration": 485,
    "start_time": "2023-07-27T16:13:16.070Z"
   },
   {
    "duration": 72,
    "start_time": "2023-07-27T16:13:47.662Z"
   },
   {
    "duration": 941,
    "start_time": "2023-07-27T16:13:57.707Z"
   },
   {
    "duration": 41,
    "start_time": "2023-07-27T16:14:07.749Z"
   },
   {
    "duration": 2050,
    "start_time": "2023-07-27T16:14:11.120Z"
   },
   {
    "duration": 2042,
    "start_time": "2023-07-27T16:14:23.113Z"
   },
   {
    "duration": 41,
    "start_time": "2023-07-27T16:14:30.111Z"
   },
   {
    "duration": 2096,
    "start_time": "2023-07-27T16:14:36.298Z"
   },
   {
    "duration": 2135,
    "start_time": "2023-07-27T16:15:25.038Z"
   },
   {
    "duration": 2143,
    "start_time": "2023-07-27T16:16:33.578Z"
   },
   {
    "duration": 5,
    "start_time": "2023-07-27T16:17:07.011Z"
   },
   {
    "duration": 3,
    "start_time": "2023-07-27T16:18:29.956Z"
   },
   {
    "duration": 104,
    "start_time": "2023-07-27T16:18:32.398Z"
   },
   {
    "duration": 3,
    "start_time": "2023-07-27T16:19:02.792Z"
   },
   {
    "duration": 85,
    "start_time": "2023-07-27T16:19:05.874Z"
   },
   {
    "duration": 11,
    "start_time": "2023-07-27T16:19:13.174Z"
   },
   {
    "duration": 3079,
    "start_time": "2023-07-27T16:19:14.751Z"
   },
   {
    "duration": 3,
    "start_time": "2023-07-27T16:19:47.824Z"
   },
   {
    "duration": 83,
    "start_time": "2023-07-27T16:19:49.188Z"
   },
   {
    "duration": 4,
    "start_time": "2023-07-27T16:20:07.387Z"
   },
   {
    "duration": 1972,
    "start_time": "2023-07-27T16:20:09.613Z"
   },
   {
    "duration": 132,
    "start_time": "2023-07-27T16:25:03.153Z"
   },
   {
    "duration": 3,
    "start_time": "2023-07-27T16:27:30.175Z"
   },
   {
    "duration": 1937,
    "start_time": "2023-07-27T16:27:31.712Z"
   },
   {
    "duration": 3,
    "start_time": "2023-07-27T16:29:07.746Z"
   },
   {
    "duration": 1961,
    "start_time": "2023-07-27T16:29:10.527Z"
   },
   {
    "duration": 2012,
    "start_time": "2023-07-27T16:32:02.454Z"
   },
   {
    "duration": 1322,
    "start_time": "2023-07-27T16:32:21.959Z"
   },
   {
    "duration": 382,
    "start_time": "2023-07-27T16:32:23.283Z"
   },
   {
    "duration": 27,
    "start_time": "2023-07-27T16:32:23.667Z"
   },
   {
    "duration": 18,
    "start_time": "2023-07-27T16:32:23.696Z"
   },
   {
    "duration": 18,
    "start_time": "2023-07-27T16:32:23.716Z"
   },
   {
    "duration": 168,
    "start_time": "2023-07-27T16:32:23.735Z"
   },
   {
    "duration": 317,
    "start_time": "2023-07-27T16:32:23.904Z"
   },
   {
    "duration": 341,
    "start_time": "2023-07-27T16:32:24.223Z"
   },
   {
    "duration": 298,
    "start_time": "2023-07-27T16:32:24.566Z"
   },
   {
    "duration": 785,
    "start_time": "2023-07-27T16:32:24.874Z"
   },
   {
    "duration": 97,
    "start_time": "2023-07-27T16:32:25.661Z"
   },
   {
    "duration": 704,
    "start_time": "2023-07-27T16:32:25.760Z"
   },
   {
    "duration": 93,
    "start_time": "2023-07-27T16:32:26.466Z"
   },
   {
    "duration": 802,
    "start_time": "2023-07-27T16:32:26.561Z"
   },
   {
    "duration": 121,
    "start_time": "2023-07-27T16:32:27.365Z"
   },
   {
    "duration": 3,
    "start_time": "2023-07-27T16:32:27.488Z"
   },
   {
    "duration": 52,
    "start_time": "2023-07-27T16:32:27.493Z"
   },
   {
    "duration": 24,
    "start_time": "2023-07-27T16:32:27.547Z"
   },
   {
    "duration": 39,
    "start_time": "2023-07-27T16:32:27.573Z"
   },
   {
    "duration": 17,
    "start_time": "2023-07-27T16:32:27.614Z"
   },
   {
    "duration": 98,
    "start_time": "2023-07-27T16:32:27.689Z"
   },
   {
    "duration": 190,
    "start_time": "2023-07-27T16:32:27.789Z"
   },
   {
    "duration": 103,
    "start_time": "2023-07-27T16:32:27.981Z"
   },
   {
    "duration": 7,
    "start_time": "2023-07-27T16:32:28.086Z"
   },
   {
    "duration": 121,
    "start_time": "2023-07-27T16:32:28.095Z"
   },
   {
    "duration": 3,
    "start_time": "2023-07-27T16:32:28.217Z"
   },
   {
    "duration": 1920,
    "start_time": "2023-07-27T16:32:28.222Z"
   },
   {
    "duration": 1755,
    "start_time": "2023-07-27T16:33:20.608Z"
   },
   {
    "duration": 3,
    "start_time": "2023-07-27T16:34:45.520Z"
   },
   {
    "duration": 1576,
    "start_time": "2023-07-27T16:34:51.109Z"
   },
   {
    "duration": 1731,
    "start_time": "2023-07-27T16:35:05.898Z"
   },
   {
    "duration": 2007,
    "start_time": "2023-07-27T16:35:30.115Z"
   },
   {
    "duration": 1682,
    "start_time": "2023-07-27T16:35:38.620Z"
   },
   {
    "duration": 1778,
    "start_time": "2023-07-28T06:48:02.457Z"
   },
   {
    "duration": 5,
    "start_time": "2023-07-28T06:48:14.650Z"
   },
   {
    "duration": 6,
    "start_time": "2023-07-28T06:48:52.968Z"
   },
   {
    "duration": 5,
    "start_time": "2023-07-28T06:49:23.341Z"
   },
   {
    "duration": 1575,
    "start_time": "2023-07-28T06:49:26.064Z"
   },
   {
    "duration": 26,
    "start_time": "2023-07-28T06:49:33.162Z"
   },
   {
    "duration": 21,
    "start_time": "2023-07-28T06:49:33.960Z"
   },
   {
    "duration": 20,
    "start_time": "2023-07-28T06:49:34.726Z"
   },
   {
    "duration": 127,
    "start_time": "2023-07-28T06:49:37.312Z"
   },
   {
    "duration": 343,
    "start_time": "2023-07-28T06:49:42.285Z"
   },
   {
    "duration": 336,
    "start_time": "2023-07-28T06:49:44.017Z"
   },
   {
    "duration": 320,
    "start_time": "2023-07-28T06:49:46.427Z"
   },
   {
    "duration": 821,
    "start_time": "2023-07-28T06:49:57.607Z"
   },
   {
    "duration": 106,
    "start_time": "2023-07-28T06:50:01.792Z"
   },
   {
    "duration": 757,
    "start_time": "2023-07-28T06:50:02.429Z"
   },
   {
    "duration": 113,
    "start_time": "2023-07-28T06:50:03.188Z"
   },
   {
    "duration": 898,
    "start_time": "2023-07-28T06:50:03.551Z"
   },
   {
    "duration": 98,
    "start_time": "2023-07-28T06:50:04.544Z"
   },
   {
    "duration": 3,
    "start_time": "2023-07-28T06:50:21.328Z"
   },
   {
    "duration": 30,
    "start_time": "2023-07-28T06:50:31.208Z"
   },
   {
    "duration": 27,
    "start_time": "2023-07-28T06:50:32.640Z"
   },
   {
    "duration": 27,
    "start_time": "2023-07-28T06:50:36.585Z"
   },
   {
    "duration": 19,
    "start_time": "2023-07-28T06:50:40.193Z"
   },
   {
    "duration": 17,
    "start_time": "2023-07-28T06:50:49.111Z"
   },
   {
    "duration": 17,
    "start_time": "2023-07-28T06:50:50.101Z"
   },
   {
    "duration": 10,
    "start_time": "2023-07-28T06:50:54.511Z"
   },
   {
    "duration": 3,
    "start_time": "2023-07-28T06:51:36.238Z"
   },
   {
    "duration": 38,
    "start_time": "2023-07-28T06:51:41.612Z"
   },
   {
    "duration": 3,
    "start_time": "2023-07-28T06:52:03.143Z"
   },
   {
    "duration": 112,
    "start_time": "2023-07-28T06:52:13.421Z"
   },
   {
    "duration": 1664,
    "start_time": "2023-07-28T06:52:27.217Z"
   },
   {
    "duration": 1703,
    "start_time": "2023-07-28T06:55:14.358Z"
   },
   {
    "duration": 1713,
    "start_time": "2023-07-28T07:01:25.298Z"
   },
   {
    "duration": 133,
    "start_time": "2023-07-28T07:02:12.082Z"
   },
   {
    "duration": 112,
    "start_time": "2023-07-28T07:02:52.378Z"
   },
   {
    "duration": 1780,
    "start_time": "2023-07-28T07:03:06.351Z"
   },
   {
    "duration": 1737,
    "start_time": "2023-07-28T07:06:57.374Z"
   },
   {
    "duration": 71,
    "start_time": "2023-07-28T07:07:42.302Z"
   },
   {
    "duration": 141,
    "start_time": "2023-07-28T07:07:49.008Z"
   },
   {
    "duration": 1758,
    "start_time": "2023-07-28T07:08:01.201Z"
   },
   {
    "duration": 3,
    "start_time": "2023-07-28T07:17:35.781Z"
   },
   {
    "duration": 87,
    "start_time": "2023-07-28T07:18:57.749Z"
   },
   {
    "duration": 5,
    "start_time": "2023-07-28T07:19:04.980Z"
   },
   {
    "duration": 10,
    "start_time": "2023-07-28T07:19:33.101Z"
   },
   {
    "duration": 1734,
    "start_time": "2023-07-28T07:19:38.848Z"
   },
   {
    "duration": 65,
    "start_time": "2023-07-28T07:21:05.691Z"
   },
   {
    "duration": 6,
    "start_time": "2023-07-28T07:23:41.375Z"
   },
   {
    "duration": 1856,
    "start_time": "2023-07-28T07:23:43.961Z"
   },
   {
    "duration": 68,
    "start_time": "2023-07-28T07:28:51.179Z"
   },
   {
    "duration": 5,
    "start_time": "2023-07-28T07:28:58.870Z"
   },
   {
    "duration": 1749,
    "start_time": "2023-07-28T07:29:02.012Z"
   },
   {
    "duration": 5,
    "start_time": "2023-07-28T07:29:27.812Z"
   },
   {
    "duration": 1762,
    "start_time": "2023-07-28T07:29:30.682Z"
   },
   {
    "duration": 6,
    "start_time": "2023-07-28T07:29:44.724Z"
   },
   {
    "duration": 1692,
    "start_time": "2023-07-28T07:29:46.496Z"
   },
   {
    "duration": 6,
    "start_time": "2023-07-28T07:30:13.888Z"
   },
   {
    "duration": 1727,
    "start_time": "2023-07-28T07:30:15.588Z"
   },
   {
    "duration": 6,
    "start_time": "2023-07-28T07:30:23.987Z"
   },
   {
    "duration": 1674,
    "start_time": "2023-07-28T07:30:26.773Z"
   },
   {
    "duration": 5,
    "start_time": "2023-07-28T07:32:08.903Z"
   },
   {
    "duration": 5,
    "start_time": "2023-07-28T07:32:56.110Z"
   },
   {
    "duration": 1718,
    "start_time": "2023-07-28T07:32:58.348Z"
   },
   {
    "duration": 1673,
    "start_time": "2023-07-28T07:33:48.201Z"
   },
   {
    "duration": 6,
    "start_time": "2023-07-28T07:34:25.352Z"
   },
   {
    "duration": 1668,
    "start_time": "2023-07-28T07:34:26.766Z"
   },
   {
    "duration": 1745,
    "start_time": "2023-07-28T07:34:33.065Z"
   },
   {
    "duration": 5,
    "start_time": "2023-07-28T07:34:48.798Z"
   },
   {
    "duration": 1768,
    "start_time": "2023-07-28T07:34:49.916Z"
   },
   {
    "duration": 2065,
    "start_time": "2023-07-28T07:35:43.673Z"
   },
   {
    "duration": 127,
    "start_time": "2023-07-28T07:37:04.366Z"
   },
   {
    "duration": 1747,
    "start_time": "2023-07-28T07:37:07.465Z"
   },
   {
    "duration": 6,
    "start_time": "2023-07-28T07:41:43.237Z"
   },
   {
    "duration": 1811,
    "start_time": "2023-07-28T07:41:45.100Z"
   },
   {
    "duration": 1778,
    "start_time": "2023-07-28T07:41:48.072Z"
   },
   {
    "duration": 7,
    "start_time": "2023-07-28T07:43:32.769Z"
   },
   {
    "duration": 1871,
    "start_time": "2023-07-28T07:43:37.001Z"
   },
   {
    "duration": 1813,
    "start_time": "2023-07-28T07:43:50.094Z"
   },
   {
    "duration": 1838,
    "start_time": "2023-07-28T07:44:13.248Z"
   },
   {
    "duration": 6,
    "start_time": "2023-07-28T07:44:46.944Z"
   },
   {
    "duration": 6,
    "start_time": "2023-07-28T07:44:52.849Z"
   },
   {
    "duration": 1746,
    "start_time": "2023-07-28T07:44:55.689Z"
   },
   {
    "duration": 1755,
    "start_time": "2023-07-28T07:45:04.214Z"
   },
   {
    "duration": 1796,
    "start_time": "2023-07-28T07:45:09.341Z"
   },
   {
    "duration": 6,
    "start_time": "2023-07-28T07:45:18.902Z"
   },
   {
    "duration": 1807,
    "start_time": "2023-07-28T07:45:20.006Z"
   },
   {
    "duration": 1867,
    "start_time": "2023-07-28T07:45:25.651Z"
   },
   {
    "duration": 1806,
    "start_time": "2023-07-28T07:45:31.932Z"
   },
   {
    "duration": 5,
    "start_time": "2023-07-28T07:55:05.411Z"
   },
   {
    "duration": 5,
    "start_time": "2023-07-28T07:55:55.609Z"
   },
   {
    "duration": 1413,
    "start_time": "2023-07-28T07:56:06.819Z"
   },
   {
    "duration": 360,
    "start_time": "2023-07-28T07:56:08.234Z"
   },
   {
    "duration": 24,
    "start_time": "2023-07-28T07:56:08.598Z"
   },
   {
    "duration": 36,
    "start_time": "2023-07-28T07:56:08.624Z"
   },
   {
    "duration": 21,
    "start_time": "2023-07-28T07:56:08.661Z"
   },
   {
    "duration": 151,
    "start_time": "2023-07-28T07:56:08.684Z"
   },
   {
    "duration": 339,
    "start_time": "2023-07-28T07:56:08.837Z"
   },
   {
    "duration": 300,
    "start_time": "2023-07-28T07:56:09.178Z"
   },
   {
    "duration": 302,
    "start_time": "2023-07-28T07:56:09.482Z"
   },
   {
    "duration": 820,
    "start_time": "2023-07-28T07:56:09.786Z"
   },
   {
    "duration": 103,
    "start_time": "2023-07-28T07:56:10.607Z"
   },
   {
    "duration": 719,
    "start_time": "2023-07-28T07:56:10.712Z"
   },
   {
    "duration": 104,
    "start_time": "2023-07-28T07:56:11.433Z"
   },
   {
    "duration": 878,
    "start_time": "2023-07-28T07:56:11.539Z"
   },
   {
    "duration": 105,
    "start_time": "2023-07-28T07:56:12.419Z"
   },
   {
    "duration": 3,
    "start_time": "2023-07-28T07:56:12.525Z"
   },
   {
    "duration": 43,
    "start_time": "2023-07-28T07:56:12.529Z"
   },
   {
    "duration": 30,
    "start_time": "2023-07-28T07:56:12.574Z"
   },
   {
    "duration": 27,
    "start_time": "2023-07-28T07:56:12.605Z"
   },
   {
    "duration": 99,
    "start_time": "2023-07-28T07:56:12.660Z"
   },
   {
    "duration": 105,
    "start_time": "2023-07-28T07:56:12.761Z"
   },
   {
    "duration": 194,
    "start_time": "2023-07-28T07:56:12.868Z"
   },
   {
    "duration": 105,
    "start_time": "2023-07-28T07:56:13.064Z"
   },
   {
    "duration": 3,
    "start_time": "2023-07-28T07:56:13.172Z"
   },
   {
    "duration": 43,
    "start_time": "2023-07-28T07:56:13.177Z"
   },
   {
    "duration": 3,
    "start_time": "2023-07-28T07:56:13.222Z"
   },
   {
    "duration": 7,
    "start_time": "2023-07-28T07:56:13.229Z"
   },
   {
    "duration": 1860,
    "start_time": "2023-07-28T07:56:13.238Z"
   },
   {
    "duration": 1750,
    "start_time": "2023-07-28T07:56:15.100Z"
   },
   {
    "duration": 1782,
    "start_time": "2023-07-28T07:56:16.859Z"
   },
   {
    "duration": 6,
    "start_time": "2023-07-28T07:58:48.666Z"
   },
   {
    "duration": 1604,
    "start_time": "2023-07-28T07:58:53.772Z"
   },
   {
    "duration": 384,
    "start_time": "2023-07-28T07:58:55.379Z"
   },
   {
    "duration": 28,
    "start_time": "2023-07-28T07:58:55.765Z"
   },
   {
    "duration": 157,
    "start_time": "2023-07-28T07:58:55.794Z"
   },
   {
    "duration": 41,
    "start_time": "2023-07-28T07:58:55.954Z"
   },
   {
    "duration": 174,
    "start_time": "2023-07-28T07:58:55.997Z"
   },
   {
    "duration": 326,
    "start_time": "2023-07-28T07:58:56.173Z"
   },
   {
    "duration": 319,
    "start_time": "2023-07-28T07:58:56.501Z"
   },
   {
    "duration": 326,
    "start_time": "2023-07-28T07:58:56.822Z"
   },
   {
    "duration": 810,
    "start_time": "2023-07-28T07:58:57.149Z"
   },
   {
    "duration": 124,
    "start_time": "2023-07-28T07:58:57.961Z"
   },
   {
    "duration": 702,
    "start_time": "2023-07-28T07:58:58.088Z"
   },
   {
    "duration": 109,
    "start_time": "2023-07-28T07:58:58.792Z"
   },
   {
    "duration": 868,
    "start_time": "2023-07-28T07:58:58.904Z"
   },
   {
    "duration": 105,
    "start_time": "2023-07-28T07:58:59.774Z"
   },
   {
    "duration": 2,
    "start_time": "2023-07-28T07:58:59.881Z"
   },
   {
    "duration": 30,
    "start_time": "2023-07-28T07:58:59.885Z"
   },
   {
    "duration": 50,
    "start_time": "2023-07-28T07:58:59.918Z"
   },
   {
    "duration": 28,
    "start_time": "2023-07-28T07:58:59.969Z"
   },
   {
    "duration": 161,
    "start_time": "2023-07-28T07:58:59.999Z"
   },
   {
    "duration": 18,
    "start_time": "2023-07-28T07:59:00.162Z"
   },
   {
    "duration": 195,
    "start_time": "2023-07-28T07:59:00.182Z"
   },
   {
    "duration": 209,
    "start_time": "2023-07-28T07:59:00.379Z"
   },
   {
    "duration": 41,
    "start_time": "2023-07-28T07:59:00.590Z"
   },
   {
    "duration": 75,
    "start_time": "2023-07-28T07:59:00.633Z"
   },
   {
    "duration": 39,
    "start_time": "2023-07-28T07:59:00.710Z"
   },
   {
    "duration": 74,
    "start_time": "2023-07-28T07:59:00.751Z"
   },
   {
    "duration": 1962,
    "start_time": "2023-07-28T07:59:00.827Z"
   },
   {
    "duration": 1979,
    "start_time": "2023-07-28T07:59:02.790Z"
   },
   {
    "duration": 1837,
    "start_time": "2023-07-28T07:59:04.771Z"
   },
   {
    "duration": 3,
    "start_time": "2023-07-28T08:33:33.276Z"
   },
   {
    "duration": 6,
    "start_time": "2023-07-28T08:33:39.302Z"
   },
   {
    "duration": 1825,
    "start_time": "2023-07-28T08:33:43.240Z"
   },
   {
    "duration": 1775,
    "start_time": "2023-07-28T08:33:46.862Z"
   },
   {
    "duration": 1738,
    "start_time": "2023-07-28T08:33:50.912Z"
   },
   {
    "duration": 5746,
    "start_time": "2023-07-29T08:40:15.889Z"
   },
   {
    "duration": 1582,
    "start_time": "2023-07-29T08:40:21.637Z"
   },
   {
    "duration": 25,
    "start_time": "2023-07-29T08:40:23.221Z"
   },
   {
    "duration": 24,
    "start_time": "2023-07-29T08:40:23.248Z"
   },
   {
    "duration": 19,
    "start_time": "2023-07-29T08:40:23.273Z"
   },
   {
    "duration": 145,
    "start_time": "2023-07-29T08:40:23.293Z"
   },
   {
    "duration": 368,
    "start_time": "2023-07-29T08:40:23.439Z"
   },
   {
    "duration": 369,
    "start_time": "2023-07-29T08:40:23.808Z"
   },
   {
    "duration": 299,
    "start_time": "2023-07-29T08:40:24.180Z"
   },
   {
    "duration": 790,
    "start_time": "2023-07-29T08:40:24.482Z"
   },
   {
    "duration": 715,
    "start_time": "2023-07-29T08:40:25.275Z"
   },
   {
    "duration": 829,
    "start_time": "2023-07-29T08:40:25.993Z"
   },
   {
    "duration": 3,
    "start_time": "2023-07-29T08:40:26.824Z"
   },
   {
    "duration": 38,
    "start_time": "2023-07-29T08:40:26.828Z"
   },
   {
    "duration": 26,
    "start_time": "2023-07-29T08:40:26.868Z"
   },
   {
    "duration": 26,
    "start_time": "2023-07-29T08:40:26.895Z"
   },
   {
    "duration": 42,
    "start_time": "2023-07-29T08:40:26.922Z"
   },
   {
    "duration": 109,
    "start_time": "2023-07-29T08:40:26.965Z"
   },
   {
    "duration": 109,
    "start_time": "2023-07-29T08:40:27.159Z"
   },
   {
    "duration": 100,
    "start_time": "2023-07-29T08:40:27.360Z"
   },
   {
    "duration": 3,
    "start_time": "2023-07-29T08:40:27.462Z"
   },
   {
    "duration": 35,
    "start_time": "2023-07-29T08:40:27.467Z"
   },
   {
    "duration": 4,
    "start_time": "2023-07-29T08:40:27.503Z"
   },
   {
    "duration": 7,
    "start_time": "2023-07-29T08:40:27.508Z"
   },
   {
    "duration": 6,
    "start_time": "2023-07-29T08:40:40.483Z"
   },
   {
    "duration": 5,
    "start_time": "2023-07-29T08:40:44.247Z"
   },
   {
    "duration": 4,
    "start_time": "2023-07-30T07:43:13.624Z"
   },
   {
    "duration": 94,
    "start_time": "2023-07-30T07:50:48.344Z"
   },
   {
    "duration": 46,
    "start_time": "2023-07-30T07:51:05.003Z"
   },
   {
    "duration": 1640,
    "start_time": "2023-07-30T07:51:15.300Z"
   },
   {
    "duration": 122,
    "start_time": "2023-07-30T07:51:20.002Z"
   },
   {
    "duration": 104,
    "start_time": "2023-07-30T07:51:42.099Z"
   },
   {
    "duration": 55,
    "start_time": "2023-07-30T07:52:26.269Z"
   },
   {
    "duration": 60,
    "start_time": "2023-07-30T07:55:18.089Z"
   },
   {
    "duration": 941,
    "start_time": "2023-07-30T07:55:56.549Z"
   },
   {
    "duration": 4,
    "start_time": "2023-07-30T07:56:48.674Z"
   },
   {
    "duration": 39,
    "start_time": "2023-07-30T07:56:49.778Z"
   },
   {
    "duration": 28,
    "start_time": "2023-07-30T07:57:20.246Z"
   },
   {
    "duration": 34,
    "start_time": "2023-07-30T07:57:33.883Z"
   },
   {
    "duration": 15,
    "start_time": "2023-07-30T07:57:34.836Z"
   },
   {
    "duration": 26,
    "start_time": "2023-07-30T07:57:44.771Z"
   },
   {
    "duration": 22,
    "start_time": "2023-07-30T07:57:55.754Z"
   },
   {
    "duration": 4,
    "start_time": "2023-07-30T08:00:05.473Z"
   },
   {
    "duration": 112,
    "start_time": "2023-07-30T08:02:49.684Z"
   },
   {
    "duration": 51,
    "start_time": "2023-07-30T08:03:09.381Z"
   },
   {
    "duration": 43,
    "start_time": "2023-07-30T08:03:32.977Z"
   },
   {
    "duration": 21,
    "start_time": "2023-07-30T08:04:39.292Z"
   },
   {
    "duration": 37,
    "start_time": "2023-07-30T08:04:46.415Z"
   },
   {
    "duration": 21,
    "start_time": "2023-07-30T08:05:04.038Z"
   },
   {
    "duration": 23,
    "start_time": "2023-07-30T08:05:12.271Z"
   },
   {
    "duration": 22,
    "start_time": "2023-07-30T08:05:16.638Z"
   },
   {
    "duration": 23,
    "start_time": "2023-07-30T08:06:16.275Z"
   },
   {
    "duration": 26,
    "start_time": "2023-07-30T08:06:31.793Z"
   },
   {
    "duration": 14,
    "start_time": "2023-07-30T08:07:40.671Z"
   },
   {
    "duration": 480,
    "start_time": "2023-07-30T08:07:48.207Z"
   },
   {
    "duration": 17,
    "start_time": "2023-07-30T08:07:53.719Z"
   },
   {
    "duration": 39,
    "start_time": "2023-07-30T08:08:00.987Z"
   },
   {
    "duration": 42,
    "start_time": "2023-07-30T08:08:06.659Z"
   },
   {
    "duration": 26,
    "start_time": "2023-07-30T08:08:21.766Z"
   },
   {
    "duration": 11,
    "start_time": "2023-07-30T08:13:17.177Z"
   },
   {
    "duration": 2042,
    "start_time": "2023-07-30T08:13:21.404Z"
   },
   {
    "duration": 1962,
    "start_time": "2023-07-30T08:13:34.074Z"
   },
   {
    "duration": 15,
    "start_time": "2023-07-30T08:13:43.411Z"
   },
   {
    "duration": 13,
    "start_time": "2023-07-30T08:14:18.017Z"
   },
   {
    "duration": 89,
    "start_time": "2023-07-30T08:19:23.380Z"
   },
   {
    "duration": 127,
    "start_time": "2023-07-30T08:19:30.715Z"
   },
   {
    "duration": 109,
    "start_time": "2023-07-30T08:19:59.651Z"
   },
   {
    "duration": 69,
    "start_time": "2023-07-30T08:20:06.808Z"
   },
   {
    "duration": 29,
    "start_time": "2023-07-30T08:20:48.188Z"
   },
   {
    "duration": 25,
    "start_time": "2023-07-30T08:20:59.162Z"
   },
   {
    "duration": 24,
    "start_time": "2023-07-30T08:21:05.647Z"
   },
   {
    "duration": 24,
    "start_time": "2023-07-30T08:22:22.918Z"
   },
   {
    "duration": 47,
    "start_time": "2023-07-30T08:22:32.265Z"
   },
   {
    "duration": 24,
    "start_time": "2023-07-30T08:22:33.768Z"
   },
   {
    "duration": 33,
    "start_time": "2023-07-30T08:23:04.203Z"
   },
   {
    "duration": 31,
    "start_time": "2023-07-30T08:25:46.376Z"
   },
   {
    "duration": 34,
    "start_time": "2023-07-30T08:33:40.587Z"
   },
   {
    "duration": 68,
    "start_time": "2023-07-30T08:34:22.751Z"
   },
   {
    "duration": 54,
    "start_time": "2023-07-30T08:34:38.815Z"
   },
   {
    "duration": 76,
    "start_time": "2023-07-30T08:34:47.580Z"
   },
   {
    "duration": 66,
    "start_time": "2023-07-30T08:34:59.349Z"
   },
   {
    "duration": 59,
    "start_time": "2023-07-30T08:35:40.670Z"
   },
   {
    "duration": 24,
    "start_time": "2023-07-30T08:35:46.006Z"
   },
   {
    "duration": 21,
    "start_time": "2023-07-30T08:35:46.296Z"
   },
   {
    "duration": 23,
    "start_time": "2023-07-30T08:35:46.568Z"
   },
   {
    "duration": 161,
    "start_time": "2023-07-30T08:35:48.299Z"
   },
   {
    "duration": 48,
    "start_time": "2023-07-30T08:35:51.463Z"
   },
   {
    "duration": 31,
    "start_time": "2023-07-30T08:35:56.308Z"
   },
   {
    "duration": 12,
    "start_time": "2023-07-30T08:37:28.947Z"
   },
   {
    "duration": 15,
    "start_time": "2023-07-30T08:37:34.982Z"
   },
   {
    "duration": 14,
    "start_time": "2023-07-30T08:37:48.458Z"
   },
   {
    "duration": 20,
    "start_time": "2023-07-30T08:37:52.080Z"
   },
   {
    "duration": 80,
    "start_time": "2023-07-30T08:38:01.195Z"
   },
   {
    "duration": 34,
    "start_time": "2023-07-30T08:38:03.456Z"
   },
   {
    "duration": 134,
    "start_time": "2023-07-30T08:39:37.056Z"
   },
   {
    "duration": 65,
    "start_time": "2023-07-30T08:40:12.419Z"
   },
   {
    "duration": 52,
    "start_time": "2023-07-30T08:40:16.673Z"
   },
   {
    "duration": 36,
    "start_time": "2023-07-30T08:40:49.743Z"
   },
   {
    "duration": 24,
    "start_time": "2023-07-30T08:40:49.875Z"
   },
   {
    "duration": 26,
    "start_time": "2023-07-30T08:40:50.087Z"
   },
   {
    "duration": 144,
    "start_time": "2023-07-30T08:40:54.755Z"
   },
   {
    "duration": 50,
    "start_time": "2023-07-30T08:41:05.252Z"
   },
   {
    "duration": 30,
    "start_time": "2023-07-30T08:41:29.376Z"
   },
   {
    "duration": 74,
    "start_time": "2023-07-30T08:41:40.803Z"
   },
   {
    "duration": 31,
    "start_time": "2023-07-30T08:41:42.459Z"
   },
   {
    "duration": 126,
    "start_time": "2023-07-30T08:41:47.561Z"
   },
   {
    "duration": 199,
    "start_time": "2023-07-30T08:42:29.951Z"
   },
   {
    "duration": 3,
    "start_time": "2023-07-30T08:46:12.300Z"
   },
   {
    "duration": 3,
    "start_time": "2023-07-30T08:46:15.018Z"
   },
   {
    "duration": 3,
    "start_time": "2023-07-30T08:46:16.597Z"
   },
   {
    "duration": 21,
    "start_time": "2023-07-30T08:52:17.016Z"
   },
   {
    "duration": 449,
    "start_time": "2023-07-30T08:52:28.092Z"
   },
   {
    "duration": 29,
    "start_time": "2023-07-30T08:52:28.544Z"
   },
   {
    "duration": 32,
    "start_time": "2023-07-30T08:52:28.576Z"
   },
   {
    "duration": 37,
    "start_time": "2023-07-30T08:52:28.615Z"
   },
   {
    "duration": 131,
    "start_time": "2023-07-30T08:52:29.394Z"
   },
   {
    "duration": 58,
    "start_time": "2023-07-30T08:52:31.272Z"
   },
   {
    "duration": 38,
    "start_time": "2023-07-30T08:52:32.161Z"
   },
   {
    "duration": 72,
    "start_time": "2023-07-30T08:52:32.560Z"
   },
   {
    "duration": 35,
    "start_time": "2023-07-30T08:52:33.355Z"
   },
   {
    "duration": 178,
    "start_time": "2023-07-30T08:52:34.260Z"
   },
   {
    "duration": 429,
    "start_time": "2023-07-30T08:52:37.202Z"
   },
   {
    "duration": 327,
    "start_time": "2023-07-30T08:52:37.633Z"
   },
   {
    "duration": 326,
    "start_time": "2023-07-30T08:52:37.963Z"
   },
   {
    "duration": 834,
    "start_time": "2023-07-30T08:52:40.375Z"
   },
   {
    "duration": 1106,
    "start_time": "2023-07-30T08:52:41.211Z"
   },
   {
    "duration": 827,
    "start_time": "2023-07-30T08:52:42.319Z"
   },
   {
    "duration": 4,
    "start_time": "2023-07-30T08:52:46.656Z"
   },
   {
    "duration": 26,
    "start_time": "2023-07-30T08:52:48.610Z"
   },
   {
    "duration": 33,
    "start_time": "2023-07-30T08:53:09.256Z"
   },
   {
    "duration": 4,
    "start_time": "2023-07-30T08:56:36.263Z"
   },
   {
    "duration": 2,
    "start_time": "2023-07-30T08:56:47.514Z"
   },
   {
    "duration": 6,
    "start_time": "2023-07-30T09:05:41.680Z"
   },
   {
    "duration": 40,
    "start_time": "2023-07-30T09:05:59.356Z"
   },
   {
    "duration": 6,
    "start_time": "2023-07-30T09:10:05.091Z"
   },
   {
    "duration": 19,
    "start_time": "2023-07-30T09:10:07.218Z"
   },
   {
    "duration": 39,
    "start_time": "2023-07-30T09:10:27.768Z"
   },
   {
    "duration": 199,
    "start_time": "2023-07-30T09:10:41.467Z"
   },
   {
    "duration": 12,
    "start_time": "2023-07-30T09:11:38.514Z"
   },
   {
    "duration": 206,
    "start_time": "2023-07-30T09:11:39.873Z"
   },
   {
    "duration": 6,
    "start_time": "2023-07-30T09:27:57.304Z"
   },
   {
    "duration": 272,
    "start_time": "2023-07-30T09:27:59.982Z"
   },
   {
    "duration": 114,
    "start_time": "2023-07-30T09:31:22.364Z"
   },
   {
    "duration": 389,
    "start_time": "2023-07-30T09:31:22.984Z"
   },
   {
    "duration": 7,
    "start_time": "2023-07-30T09:31:47.575Z"
   },
   {
    "duration": 440,
    "start_time": "2023-07-30T09:31:49.021Z"
   },
   {
    "duration": 490,
    "start_time": "2023-07-30T09:32:03.872Z"
   },
   {
    "duration": 3,
    "start_time": "2023-07-30T09:32:24.247Z"
   },
   {
    "duration": 474,
    "start_time": "2023-07-30T09:32:38.084Z"
   },
   {
    "duration": 4,
    "start_time": "2023-07-30T09:32:40.759Z"
   },
   {
    "duration": 13,
    "start_time": "2023-07-30T09:32:42.801Z"
   },
   {
    "duration": 9,
    "start_time": "2023-07-30T09:34:04.664Z"
   },
   {
    "duration": 401,
    "start_time": "2023-07-30T09:34:05.857Z"
   },
   {
    "duration": 505,
    "start_time": "2023-07-30T09:35:00.464Z"
   },
   {
    "duration": 99,
    "start_time": "2023-07-30T09:35:25.468Z"
   },
   {
    "duration": 6,
    "start_time": "2023-07-30T09:36:14.615Z"
   },
   {
    "duration": 422,
    "start_time": "2023-07-30T09:36:16.851Z"
   },
   {
    "duration": 3,
    "start_time": "2023-07-30T09:36:42.319Z"
   },
   {
    "duration": 464,
    "start_time": "2023-07-30T09:37:00.307Z"
   },
   {
    "duration": 78,
    "start_time": "2023-07-30T09:39:10.556Z"
   },
   {
    "duration": 86,
    "start_time": "2023-07-30T09:41:09.476Z"
   },
   {
    "duration": 7,
    "start_time": "2023-07-30T09:41:19.964Z"
   },
   {
    "duration": 282,
    "start_time": "2023-07-30T09:41:20.591Z"
   },
   {
    "duration": 7,
    "start_time": "2023-07-30T09:41:51.711Z"
   },
   {
    "duration": 2,
    "start_time": "2023-07-30T09:43:43.382Z"
   },
   {
    "duration": 4,
    "start_time": "2023-07-30T09:44:30.579Z"
   },
   {
    "duration": 3,
    "start_time": "2023-07-30T09:45:27.407Z"
   },
   {
    "duration": 4,
    "start_time": "2023-07-30T09:45:39.804Z"
   },
   {
    "duration": 3,
    "start_time": "2023-07-30T09:45:49.096Z"
   },
   {
    "duration": 4,
    "start_time": "2023-07-30T09:45:58.074Z"
   },
   {
    "duration": 4,
    "start_time": "2023-07-30T09:46:02.599Z"
   },
   {
    "duration": 3,
    "start_time": "2023-07-30T09:46:03.110Z"
   },
   {
    "duration": 3,
    "start_time": "2023-07-30T09:46:04.179Z"
   },
   {
    "duration": 17,
    "start_time": "2023-07-30T09:46:10.147Z"
   },
   {
    "duration": 528,
    "start_time": "2023-07-30T09:46:10.655Z"
   },
   {
    "duration": 3,
    "start_time": "2023-07-30T09:46:11.693Z"
   },
   {
    "duration": 3,
    "start_time": "2023-07-30T09:46:14.119Z"
   },
   {
    "duration": 50,
    "start_time": "2023-07-30T09:46:16.505Z"
   },
   {
    "duration": 48,
    "start_time": "2023-07-30T09:47:48.051Z"
   },
   {
    "duration": 5,
    "start_time": "2023-07-30T09:47:56.588Z"
   },
   {
    "duration": 2251,
    "start_time": "2023-08-01T07:19:18.213Z"
   },
   {
    "duration": 4,
    "start_time": "2023-08-01T07:19:24.983Z"
   },
   {
    "duration": 2,
    "start_time": "2023-08-01T07:19:26.286Z"
   },
   {
    "duration": 793,
    "start_time": "2023-08-01T07:19:29.797Z"
   },
   {
    "duration": 30,
    "start_time": "2023-08-01T07:19:40.441Z"
   },
   {
    "duration": 24,
    "start_time": "2023-08-01T07:19:40.647Z"
   },
   {
    "duration": 21,
    "start_time": "2023-08-01T07:19:41.386Z"
   },
   {
    "duration": 128,
    "start_time": "2023-08-01T07:19:43.658Z"
   },
   {
    "duration": 43,
    "start_time": "2023-08-01T07:19:46.854Z"
   },
   {
    "duration": 29,
    "start_time": "2023-08-01T07:19:48.337Z"
   },
   {
    "duration": 69,
    "start_time": "2023-08-01T07:19:56.798Z"
   },
   {
    "duration": 24,
    "start_time": "2023-08-01T07:19:59.993Z"
   },
   {
    "duration": 172,
    "start_time": "2023-08-01T07:20:05.896Z"
   },
   {
    "duration": 372,
    "start_time": "2023-08-01T07:20:08.071Z"
   },
   {
    "duration": 282,
    "start_time": "2023-08-01T07:20:11.770Z"
   },
   {
    "duration": 295,
    "start_time": "2023-08-01T07:20:13.370Z"
   },
   {
    "duration": 835,
    "start_time": "2023-08-01T07:20:33.296Z"
   },
   {
    "duration": 781,
    "start_time": "2023-08-01T07:20:35.297Z"
   },
   {
    "duration": 858,
    "start_time": "2023-08-01T07:20:36.986Z"
   },
   {
    "duration": 3,
    "start_time": "2023-08-01T07:20:49.697Z"
   },
   {
    "duration": 3,
    "start_time": "2023-08-01T07:20:51.025Z"
   },
   {
    "duration": 3,
    "start_time": "2023-08-01T07:20:51.814Z"
   },
   {
    "duration": 3,
    "start_time": "2023-08-01T07:20:52.737Z"
   },
   {
    "duration": 3,
    "start_time": "2023-08-01T07:20:59.148Z"
   },
   {
    "duration": 3,
    "start_time": "2023-08-01T07:20:59.688Z"
   },
   {
    "duration": 3,
    "start_time": "2023-08-01T07:21:00.343Z"
   },
   {
    "duration": 7,
    "start_time": "2023-08-01T07:21:17.958Z"
   },
   {
    "duration": 545,
    "start_time": "2023-08-01T07:21:19.007Z"
   },
   {
    "duration": 2,
    "start_time": "2023-08-01T07:21:28.930Z"
   },
   {
    "duration": 3,
    "start_time": "2023-08-01T07:21:30.312Z"
   },
   {
    "duration": 32,
    "start_time": "2023-08-01T07:21:39.588Z"
   },
   {
    "duration": 31,
    "start_time": "2023-08-01T07:23:20.326Z"
   },
   {
    "duration": 4,
    "start_time": "2023-08-01T07:23:22.995Z"
   },
   {
    "duration": 7,
    "start_time": "2023-08-01T07:23:25.584Z"
   },
   {
    "duration": 123,
    "start_time": "2023-08-01T07:23:28.283Z"
   },
   {
    "duration": 453,
    "start_time": "2023-08-01T07:29:49.100Z"
   },
   {
    "duration": 7,
    "start_time": "2023-08-01T07:36:35.143Z"
   },
   {
    "duration": 85,
    "start_time": "2023-08-01T07:36:37.774Z"
   },
   {
    "duration": 9,
    "start_time": "2023-08-01T07:37:49.793Z"
   },
   {
    "duration": 72,
    "start_time": "2023-08-01T07:37:50.985Z"
   },
   {
    "duration": 3,
    "start_time": "2023-08-01T07:38:02.092Z"
   },
   {
    "duration": 8,
    "start_time": "2023-08-01T07:38:02.896Z"
   },
   {
    "duration": 174,
    "start_time": "2023-08-01T07:38:03.887Z"
   },
   {
    "duration": 7,
    "start_time": "2023-08-01T07:38:33.805Z"
   },
   {
    "duration": 476,
    "start_time": "2023-08-01T07:38:34.276Z"
   },
   {
    "duration": 3,
    "start_time": "2023-08-01T07:39:15.546Z"
   },
   {
    "duration": 6,
    "start_time": "2023-08-01T07:39:17.005Z"
   },
   {
    "duration": 10,
    "start_time": "2023-08-01T07:39:35.390Z"
   },
   {
    "duration": 10,
    "start_time": "2023-08-01T07:39:59.285Z"
   },
   {
    "duration": 144,
    "start_time": "2023-08-01T07:41:43.207Z"
   },
   {
    "duration": 94,
    "start_time": "2023-08-01T07:42:17.556Z"
   },
   {
    "duration": 99,
    "start_time": "2023-08-01T07:43:12.275Z"
   },
   {
    "duration": 8,
    "start_time": "2023-08-01T07:44:53.684Z"
   },
   {
    "duration": 422,
    "start_time": "2023-08-01T07:44:55.047Z"
   },
   {
    "duration": 3,
    "start_time": "2023-08-01T07:44:57.281Z"
   },
   {
    "duration": 3,
    "start_time": "2023-08-01T07:44:59.217Z"
   },
   {
    "duration": 38,
    "start_time": "2023-08-01T07:44:59.577Z"
   },
   {
    "duration": 3,
    "start_time": "2023-08-01T07:45:02.954Z"
   },
   {
    "duration": 7,
    "start_time": "2023-08-01T07:45:04.340Z"
   },
   {
    "duration": 1960,
    "start_time": "2023-08-01T07:45:06.756Z"
   },
   {
    "duration": 1875,
    "start_time": "2023-08-01T07:45:20.341Z"
   },
   {
    "duration": 462,
    "start_time": "2023-08-01T07:46:59.890Z"
   },
   {
    "duration": 449,
    "start_time": "2023-08-01T07:47:40.245Z"
   },
   {
    "duration": 9,
    "start_time": "2023-08-01T07:47:47.009Z"
   },
   {
    "duration": 8,
    "start_time": "2023-08-01T07:50:57.500Z"
   },
   {
    "duration": 836,
    "start_time": "2023-08-01T07:53:42.002Z"
   },
   {
    "duration": 1159,
    "start_time": "2023-08-01T07:53:49.472Z"
   },
   {
    "duration": 746,
    "start_time": "2023-08-01T07:53:58.740Z"
   },
   {
    "duration": 3,
    "start_time": "2023-08-01T07:55:56.379Z"
   },
   {
    "duration": 13,
    "start_time": "2023-08-01T07:57:38.911Z"
   },
   {
    "duration": 30,
    "start_time": "2023-08-01T07:58:19.414Z"
   },
   {
    "duration": 154,
    "start_time": "2023-08-01T07:58:39.235Z"
   },
   {
    "duration": 237,
    "start_time": "2023-08-01T07:58:45.762Z"
   },
   {
    "duration": 35,
    "start_time": "2023-08-01T07:58:55.392Z"
   },
   {
    "duration": 32,
    "start_time": "2023-08-01T07:59:16.592Z"
   },
   {
    "duration": 30,
    "start_time": "2023-08-01T07:59:23.562Z"
   },
   {
    "duration": 34,
    "start_time": "2023-08-01T07:59:36.028Z"
   },
   {
    "duration": 36,
    "start_time": "2023-08-01T07:59:47.190Z"
   },
   {
    "duration": 35,
    "start_time": "2023-08-01T08:00:26.858Z"
   },
   {
    "duration": 33,
    "start_time": "2023-08-01T08:00:59.107Z"
   },
   {
    "duration": 51,
    "start_time": "2023-08-01T08:01:05.315Z"
   },
   {
    "duration": 37,
    "start_time": "2023-08-01T08:01:11.304Z"
   },
   {
    "duration": 35,
    "start_time": "2023-08-01T08:01:30.602Z"
   },
   {
    "duration": 2,
    "start_time": "2023-08-01T08:01:37.420Z"
   },
   {
    "duration": 2,
    "start_time": "2023-08-01T08:01:45.115Z"
   },
   {
    "duration": 34,
    "start_time": "2023-08-01T08:01:49.015Z"
   },
   {
    "duration": 4,
    "start_time": "2023-08-01T08:15:32.019Z"
   },
   {
    "duration": 7,
    "start_time": "2023-08-01T08:15:38.584Z"
   },
   {
    "duration": 7,
    "start_time": "2023-08-01T08:16:11.662Z"
   },
   {
    "duration": 9,
    "start_time": "2023-08-01T08:18:59.885Z"
   },
   {
    "duration": 10,
    "start_time": "2023-08-01T08:19:04.178Z"
   },
   {
    "duration": 11,
    "start_time": "2023-08-01T08:19:16.247Z"
   },
   {
    "duration": 14,
    "start_time": "2023-08-01T08:19:30.122Z"
   },
   {
    "duration": 11,
    "start_time": "2023-08-01T08:19:46.345Z"
   },
   {
    "duration": 7,
    "start_time": "2023-08-01T08:22:18.609Z"
   },
   {
    "duration": 12,
    "start_time": "2023-08-01T08:22:19.375Z"
   },
   {
    "duration": 505,
    "start_time": "2023-08-01T08:22:21.849Z"
   },
   {
    "duration": 34,
    "start_time": "2023-08-01T08:24:24.071Z"
   },
   {
    "duration": 6,
    "start_time": "2023-08-01T08:24:45.657Z"
   },
   {
    "duration": 1853,
    "start_time": "2023-08-01T08:24:50.802Z"
   },
   {
    "duration": 1855,
    "start_time": "2023-08-01T08:26:21.391Z"
   },
   {
    "duration": 2000,
    "start_time": "2023-08-01T08:26:36.173Z"
   },
   {
    "duration": 6,
    "start_time": "2023-08-01T08:28:17.090Z"
   },
   {
    "duration": 6,
    "start_time": "2023-08-01T08:30:29.844Z"
   },
   {
    "duration": 556,
    "start_time": "2023-08-01T08:33:01.004Z"
   },
   {
    "duration": 3,
    "start_time": "2023-08-01T08:33:08.571Z"
   },
   {
    "duration": 8,
    "start_time": "2023-08-01T08:33:08.930Z"
   },
   {
    "duration": 466,
    "start_time": "2023-08-01T08:33:09.495Z"
   },
   {
    "duration": 37,
    "start_time": "2023-08-01T08:34:30.386Z"
   },
   {
    "duration": 37,
    "start_time": "2023-08-01T08:35:00.608Z"
   },
   {
    "duration": 1913,
    "start_time": "2023-08-01T08:36:29.721Z"
   },
   {
    "duration": 1842,
    "start_time": "2023-08-01T08:36:40.003Z"
   },
   {
    "duration": 1854,
    "start_time": "2023-08-01T08:36:44.976Z"
   },
   {
    "duration": 322,
    "start_time": "2023-08-01T08:37:13.421Z"
   },
   {
    "duration": 5804,
    "start_time": "2023-08-01T08:37:43.320Z"
   },
   {
    "duration": 3,
    "start_time": "2023-08-01T08:38:08.462Z"
   },
   {
    "duration": 3,
    "start_time": "2023-08-01T08:38:14.079Z"
   },
   {
    "duration": 2,
    "start_time": "2023-08-01T08:38:20.628Z"
   },
   {
    "duration": 5672,
    "start_time": "2023-08-01T08:39:08.576Z"
   },
   {
    "duration": 5893,
    "start_time": "2023-08-01T08:39:16.476Z"
   },
   {
    "duration": 5757,
    "start_time": "2023-08-01T08:39:36.819Z"
   },
   {
    "duration": 5686,
    "start_time": "2023-08-01T08:39:49.685Z"
   },
   {
    "duration": 5769,
    "start_time": "2023-08-01T08:40:06.650Z"
   },
   {
    "duration": 6,
    "start_time": "2023-08-01T09:00:00.427Z"
   },
   {
    "duration": 3,
    "start_time": "2023-08-01T09:00:04.454Z"
   },
   {
    "duration": 3,
    "start_time": "2023-08-01T09:00:05.692Z"
   },
   {
    "duration": 412,
    "start_time": "2023-08-01T09:00:15.030Z"
   },
   {
    "duration": 26,
    "start_time": "2023-08-01T09:00:15.444Z"
   },
   {
    "duration": 23,
    "start_time": "2023-08-01T09:00:15.930Z"
   },
   {
    "duration": 23,
    "start_time": "2023-08-01T09:00:16.546Z"
   },
   {
    "duration": 147,
    "start_time": "2023-08-01T09:00:28.021Z"
   },
   {
    "duration": 137,
    "start_time": "2023-08-01T09:00:32.289Z"
   },
   {
    "duration": 50,
    "start_time": "2023-08-01T09:00:40.251Z"
   },
   {
    "duration": 35,
    "start_time": "2023-08-01T09:00:41.604Z"
   },
   {
    "duration": 66,
    "start_time": "2023-08-01T09:00:42.640Z"
   },
   {
    "duration": 26,
    "start_time": "2023-08-01T09:00:43.516Z"
   },
   {
    "duration": 169,
    "start_time": "2023-08-01T09:00:44.438Z"
   },
   {
    "duration": 321,
    "start_time": "2023-08-01T09:00:45.595Z"
   },
   {
    "duration": 291,
    "start_time": "2023-08-01T09:00:46.891Z"
   },
   {
    "duration": 332,
    "start_time": "2023-08-01T09:00:47.541Z"
   },
   {
    "duration": 780,
    "start_time": "2023-08-01T09:00:50.603Z"
   },
   {
    "duration": 880,
    "start_time": "2023-08-01T09:00:51.639Z"
   },
   {
    "duration": 794,
    "start_time": "2023-08-01T09:00:52.942Z"
   },
   {
    "duration": 2,
    "start_time": "2023-08-01T09:00:57.020Z"
   },
   {
    "duration": 3,
    "start_time": "2023-08-01T09:00:59.991Z"
   },
   {
    "duration": 50,
    "start_time": "2023-08-01T09:00:59.996Z"
   },
   {
    "duration": 23,
    "start_time": "2023-08-01T09:01:00.048Z"
   },
   {
    "duration": 4,
    "start_time": "2023-08-01T09:01:44.155Z"
   },
   {
    "duration": 8,
    "start_time": "2023-08-01T09:01:50.802Z"
   },
   {
    "duration": 478,
    "start_time": "2023-08-01T09:02:00.874Z"
   },
   {
    "duration": 2,
    "start_time": "2023-08-01T09:02:51.553Z"
   },
   {
    "duration": 3,
    "start_time": "2023-08-01T09:02:56.991Z"
   },
   {
    "duration": 3,
    "start_time": "2023-08-01T09:02:59.743Z"
   },
   {
    "duration": 38,
    "start_time": "2023-08-01T09:02:59.878Z"
   },
   {
    "duration": 3,
    "start_time": "2023-08-01T09:03:33.263Z"
   },
   {
    "duration": 7,
    "start_time": "2023-08-01T09:03:35.533Z"
   },
   {
    "duration": 3,
    "start_time": "2023-08-01T09:04:31.380Z"
   },
   {
    "duration": 3,
    "start_time": "2023-08-01T09:04:31.875Z"
   },
   {
    "duration": 2,
    "start_time": "2023-08-01T09:04:32.842Z"
   },
   {
    "duration": 5635,
    "start_time": "2023-08-01T09:04:33.048Z"
   },
   {
    "duration": 3364,
    "start_time": "2023-08-02T08:57:38.437Z"
   },
   {
    "duration": 3,
    "start_time": "2023-08-02T08:57:41.803Z"
   },
   {
    "duration": 13,
    "start_time": "2023-08-02T08:57:41.808Z"
   },
   {
    "duration": 784,
    "start_time": "2023-08-02T08:57:41.823Z"
   },
   {
    "duration": 32,
    "start_time": "2023-08-02T08:57:42.608Z"
   },
   {
    "duration": 24,
    "start_time": "2023-08-02T08:57:42.641Z"
   },
   {
    "duration": 33,
    "start_time": "2023-08-02T08:57:42.666Z"
   },
   {
    "duration": 130,
    "start_time": "2023-08-02T08:57:42.700Z"
   },
   {
    "duration": 59,
    "start_time": "2023-08-02T08:57:42.832Z"
   },
   {
    "duration": 27,
    "start_time": "2023-08-02T08:57:42.895Z"
   },
   {
    "duration": 80,
    "start_time": "2023-08-02T08:57:42.924Z"
   },
   {
    "duration": 21,
    "start_time": "2023-08-02T08:57:43.006Z"
   },
   {
    "duration": 171,
    "start_time": "2023-08-02T08:57:43.029Z"
   },
   {
    "duration": 358,
    "start_time": "2023-08-02T08:57:43.201Z"
   },
   {
    "duration": 367,
    "start_time": "2023-08-02T08:57:43.560Z"
   },
   {
    "duration": 401,
    "start_time": "2023-08-02T08:57:43.928Z"
   },
   {
    "duration": 1405,
    "start_time": "2023-08-02T08:57:44.330Z"
   },
   {
    "duration": 1275,
    "start_time": "2023-08-02T08:57:45.737Z"
   },
   {
    "duration": 1328,
    "start_time": "2023-08-02T08:57:47.014Z"
   },
   {
    "duration": 3,
    "start_time": "2023-08-02T08:57:48.344Z"
   },
   {
    "duration": 45,
    "start_time": "2023-08-02T08:57:48.348Z"
   },
   {
    "duration": 32,
    "start_time": "2023-08-02T08:57:48.395Z"
   },
   {
    "duration": 29,
    "start_time": "2023-08-02T08:57:48.429Z"
   },
   {
    "duration": 48,
    "start_time": "2023-08-02T08:57:48.459Z"
   },
   {
    "duration": 35,
    "start_time": "2023-08-02T08:57:48.509Z"
   },
   {
    "duration": 41,
    "start_time": "2023-08-02T08:57:48.547Z"
   },
   {
    "duration": 22,
    "start_time": "2023-08-02T08:57:48.590Z"
   },
   {
    "duration": 13,
    "start_time": "2023-08-02T08:57:48.615Z"
   },
   {
    "duration": 560,
    "start_time": "2023-08-02T08:57:48.630Z"
   },
   {
    "duration": 3,
    "start_time": "2023-08-02T08:57:49.193Z"
   },
   {
    "duration": 3,
    "start_time": "2023-08-02T08:57:49.288Z"
   },
   {
    "duration": 17,
    "start_time": "2023-08-02T08:57:49.293Z"
   },
   {
    "duration": 42,
    "start_time": "2023-08-02T08:57:49.312Z"
   },
   {
    "duration": 27,
    "start_time": "2023-08-02T08:57:49.356Z"
   },
   {
    "duration": 43,
    "start_time": "2023-08-02T08:57:49.385Z"
   },
   {
    "duration": 17,
    "start_time": "2023-08-02T08:57:49.429Z"
   },
   {
    "duration": 15,
    "start_time": "2023-08-02T08:57:49.448Z"
   },
   {
    "duration": 16,
    "start_time": "2023-08-02T08:57:49.464Z"
   },
   {
    "duration": 6023,
    "start_time": "2023-08-02T08:57:49.482Z"
   },
   {
    "duration": 6,
    "start_time": "2023-08-02T08:58:02.899Z"
   },
   {
    "duration": 4,
    "start_time": "2023-08-02T08:58:08.043Z"
   },
   {
    "duration": 5,
    "start_time": "2023-08-02T09:00:19.927Z"
   },
   {
    "duration": 4,
    "start_time": "2023-08-02T09:00:25.151Z"
   },
   {
    "duration": 1576,
    "start_time": "2023-08-03T07:39:26.610Z"
   },
   {
    "duration": 5,
    "start_time": "2023-08-03T07:39:28.188Z"
   },
   {
    "duration": 2,
    "start_time": "2023-08-03T07:39:28.564Z"
   },
   {
    "duration": 1586,
    "start_time": "2023-08-03T07:39:29.994Z"
   },
   {
    "duration": 25,
    "start_time": "2023-08-03T07:39:31.582Z"
   },
   {
    "duration": 47,
    "start_time": "2023-08-03T07:39:31.608Z"
   },
   {
    "duration": 43,
    "start_time": "2023-08-03T07:39:31.657Z"
   },
   {
    "duration": 129,
    "start_time": "2023-08-03T07:39:33.221Z"
   },
   {
    "duration": 46,
    "start_time": "2023-08-03T07:39:34.982Z"
   },
   {
    "duration": 27,
    "start_time": "2023-08-03T07:39:35.448Z"
   },
   {
    "duration": 68,
    "start_time": "2023-08-03T07:39:35.764Z"
   },
   {
    "duration": 22,
    "start_time": "2023-08-03T07:39:36.147Z"
   },
   {
    "duration": 153,
    "start_time": "2023-08-03T07:39:36.462Z"
   },
   {
    "duration": 326,
    "start_time": "2023-08-03T07:39:36.889Z"
   },
   {
    "duration": 326,
    "start_time": "2023-08-03T07:39:37.217Z"
   },
   {
    "duration": 314,
    "start_time": "2023-08-03T07:39:37.545Z"
   },
   {
    "duration": 770,
    "start_time": "2023-08-03T07:39:38.282Z"
   },
   {
    "duration": 708,
    "start_time": "2023-08-03T07:39:39.054Z"
   },
   {
    "duration": 810,
    "start_time": "2023-08-03T07:39:39.764Z"
   },
   {
    "duration": 3,
    "start_time": "2023-08-03T07:39:42.986Z"
   },
   {
    "duration": 3,
    "start_time": "2023-08-03T07:39:44.786Z"
   },
   {
    "duration": 3,
    "start_time": "2023-08-03T07:39:45.512Z"
   },
   {
    "duration": 2,
    "start_time": "2023-08-03T07:39:46.250Z"
   },
   {
    "duration": 3,
    "start_time": "2023-08-03T07:39:52.762Z"
   },
   {
    "duration": 3,
    "start_time": "2023-08-03T07:39:53.359Z"
   },
   {
    "duration": 3,
    "start_time": "2023-08-03T07:39:53.859Z"
   },
   {
    "duration": 3,
    "start_time": "2023-08-03T07:39:58.445Z"
   },
   {
    "duration": 7,
    "start_time": "2023-08-03T07:40:04.146Z"
   },
   {
    "duration": 402,
    "start_time": "2023-08-03T07:40:05.470Z"
   },
   {
    "duration": 3,
    "start_time": "2023-08-03T07:40:26.062Z"
   },
   {
    "duration": 2,
    "start_time": "2023-08-03T07:40:27.048Z"
   },
   {
    "duration": 3,
    "start_time": "2023-08-03T07:40:28.449Z"
   },
   {
    "duration": 3,
    "start_time": "2023-08-03T07:40:29.654Z"
   },
   {
    "duration": 34,
    "start_time": "2023-08-03T07:40:29.859Z"
   },
   {
    "duration": 4,
    "start_time": "2023-08-03T07:40:31.768Z"
   },
   {
    "duration": 7,
    "start_time": "2023-08-03T07:40:33.186Z"
   },
   {
    "duration": 6,
    "start_time": "2023-08-03T07:40:35.213Z"
   },
   {
    "duration": 4,
    "start_time": "2023-08-03T07:40:36.052Z"
   },
   {
    "duration": 7,
    "start_time": "2023-08-03T07:41:41.171Z"
   },
   {
    "duration": 99,
    "start_time": "2023-08-03T07:41:47.754Z"
   },
   {
    "duration": 7,
    "start_time": "2023-08-03T07:41:55.745Z"
   },
   {
    "duration": 7,
    "start_time": "2023-08-03T07:42:16.984Z"
   },
   {
    "duration": 5,
    "start_time": "2023-08-03T07:49:20.266Z"
   },
   {
    "duration": 4,
    "start_time": "2023-08-03T07:49:47.798Z"
   },
   {
    "duration": 3,
    "start_time": "2023-08-03T07:49:54.420Z"
   },
   {
    "duration": 5,
    "start_time": "2023-08-03T07:50:00.769Z"
   },
   {
    "duration": 8,
    "start_time": "2023-08-03T07:50:07.540Z"
   },
   {
    "duration": 8,
    "start_time": "2023-08-03T07:53:38.825Z"
   },
   {
    "duration": 42,
    "start_time": "2023-08-03T07:53:41.118Z"
   },
   {
    "duration": 8,
    "start_time": "2023-08-03T07:57:46.288Z"
   },
   {
    "duration": 136,
    "start_time": "2023-08-03T07:57:46.827Z"
   },
   {
    "duration": 5,
    "start_time": "2023-08-03T07:57:53.664Z"
   },
   {
    "duration": 4,
    "start_time": "2023-08-03T07:57:55.581Z"
   },
   {
    "duration": 6,
    "start_time": "2023-08-03T08:03:10.705Z"
   },
   {
    "duration": 7,
    "start_time": "2023-08-03T08:03:41.490Z"
   },
   {
    "duration": 11,
    "start_time": "2023-08-03T08:03:50.643Z"
   },
   {
    "duration": 13,
    "start_time": "2023-08-03T08:04:02.435Z"
   },
   {
    "duration": 3,
    "start_time": "2023-08-03T08:04:09.341Z"
   },
   {
    "duration": 9,
    "start_time": "2023-08-03T08:04:09.858Z"
   },
   {
    "duration": 400,
    "start_time": "2023-08-03T08:04:10.669Z"
   },
   {
    "duration": 8,
    "start_time": "2023-08-03T08:04:13.795Z"
   },
   {
    "duration": 6,
    "start_time": "2023-08-03T08:04:14.642Z"
   },
   {
    "duration": 629,
    "start_time": "2023-08-03T08:05:09.897Z"
   },
   {
    "duration": 7,
    "start_time": "2023-08-03T08:05:31.673Z"
   },
   {
    "duration": 580,
    "start_time": "2023-08-03T08:05:36.667Z"
   },
   {
    "duration": 6,
    "start_time": "2023-08-03T08:05:48.243Z"
   },
   {
    "duration": 604,
    "start_time": "2023-08-03T08:05:51.968Z"
   },
   {
    "duration": 170,
    "start_time": "2023-08-03T08:06:59.944Z"
   },
   {
    "duration": 591,
    "start_time": "2023-08-03T08:07:04.568Z"
   },
   {
    "duration": 7,
    "start_time": "2023-08-03T08:07:49.809Z"
   },
   {
    "duration": 6,
    "start_time": "2023-08-03T08:07:55.296Z"
   },
   {
    "duration": 601,
    "start_time": "2023-08-03T08:07:59.168Z"
   },
   {
    "duration": 7,
    "start_time": "2023-08-03T08:11:00.993Z"
   },
   {
    "duration": 7,
    "start_time": "2023-08-03T08:11:05.696Z"
   },
   {
    "duration": 559,
    "start_time": "2023-08-03T08:11:10.872Z"
   },
   {
    "duration": 220,
    "start_time": "2023-08-03T08:11:14.651Z"
   },
   {
    "duration": 9,
    "start_time": "2023-08-03T08:12:27.171Z"
   },
   {
    "duration": 146,
    "start_time": "2023-08-03T08:12:29.027Z"
   },
   {
    "duration": 7,
    "start_time": "2023-08-03T08:15:08.234Z"
   },
   {
    "duration": 346,
    "start_time": "2023-08-03T08:15:09.222Z"
   },
   {
    "duration": 7,
    "start_time": "2023-08-03T08:15:21.374Z"
   },
   {
    "duration": 410,
    "start_time": "2023-08-03T08:15:22.159Z"
   },
   {
    "duration": 10,
    "start_time": "2023-08-03T08:15:29.001Z"
   },
   {
    "duration": 2,
    "start_time": "2023-08-03T08:15:45.971Z"
   },
   {
    "duration": 7,
    "start_time": "2023-08-03T08:15:46.399Z"
   },
   {
    "duration": 516,
    "start_time": "2023-08-03T08:15:47.045Z"
   },
   {
    "duration": 9,
    "start_time": "2023-08-03T08:16:26.269Z"
   },
   {
    "duration": 425,
    "start_time": "2023-08-03T08:16:28.136Z"
   },
   {
    "duration": 7,
    "start_time": "2023-08-03T08:18:21.604Z"
   },
   {
    "duration": 379,
    "start_time": "2023-08-03T08:18:22.907Z"
   },
   {
    "duration": 7,
    "start_time": "2023-08-03T08:18:37.526Z"
   },
   {
    "duration": 40,
    "start_time": "2023-08-03T08:18:38.731Z"
   },
   {
    "duration": 9,
    "start_time": "2023-08-03T08:19:24.628Z"
   },
   {
    "duration": 58,
    "start_time": "2023-08-03T08:19:25.467Z"
   },
   {
    "duration": 9,
    "start_time": "2023-08-03T08:19:36.475Z"
   },
   {
    "duration": 50,
    "start_time": "2023-08-03T08:19:37.228Z"
   },
   {
    "duration": 5,
    "start_time": "2023-08-03T08:19:42.178Z"
   },
   {
    "duration": 5,
    "start_time": "2023-08-03T08:19:44.837Z"
   },
   {
    "duration": 99,
    "start_time": "2023-08-03T08:20:12.622Z"
   },
   {
    "duration": 52,
    "start_time": "2023-08-03T08:20:13.545Z"
   },
   {
    "duration": 9,
    "start_time": "2023-08-03T08:20:46.507Z"
   },
   {
    "duration": 342,
    "start_time": "2023-08-03T08:20:47.319Z"
   },
   {
    "duration": 10,
    "start_time": "2023-08-03T08:20:51.210Z"
   },
   {
    "duration": 10,
    "start_time": "2023-08-03T08:22:02.246Z"
   },
   {
    "duration": 515,
    "start_time": "2023-08-03T08:22:03.644Z"
   },
   {
    "duration": 8,
    "start_time": "2023-08-03T08:22:09.514Z"
   },
   {
    "duration": 332,
    "start_time": "2023-08-03T08:22:12.146Z"
   },
   {
    "duration": 8,
    "start_time": "2023-08-03T08:22:13.404Z"
   },
   {
    "duration": 7,
    "start_time": "2023-08-03T08:22:15.790Z"
   },
   {
    "duration": 5,
    "start_time": "2023-08-03T08:26:28.659Z"
   },
   {
    "duration": 6,
    "start_time": "2023-08-03T08:26:29.623Z"
   },
   {
    "duration": 8,
    "start_time": "2023-08-03T08:31:31.968Z"
   },
   {
    "duration": 522,
    "start_time": "2023-08-03T08:31:32.438Z"
   },
   {
    "duration": 2,
    "start_time": "2023-08-03T08:31:35.146Z"
   },
   {
    "duration": 2,
    "start_time": "2023-08-03T08:31:38.152Z"
   },
   {
    "duration": 3,
    "start_time": "2023-08-03T08:31:40.338Z"
   },
   {
    "duration": 32,
    "start_time": "2023-08-03T08:31:40.741Z"
   },
   {
    "duration": 4,
    "start_time": "2023-08-03T08:31:51.114Z"
   },
   {
    "duration": 7,
    "start_time": "2023-08-03T08:31:57.499Z"
   },
   {
    "duration": 6,
    "start_time": "2023-08-03T08:32:05.771Z"
   },
   {
    "duration": 6,
    "start_time": "2023-08-03T08:32:06.122Z"
   },
   {
    "duration": 2,
    "start_time": "2023-08-03T08:32:07.855Z"
   },
   {
    "duration": 3,
    "start_time": "2023-08-03T08:32:08.213Z"
   },
   {
    "duration": 2,
    "start_time": "2023-08-03T08:32:09.091Z"
   },
   {
    "duration": 20,
    "start_time": "2023-08-03T08:32:12.468Z"
   },
   {
    "duration": 6,
    "start_time": "2023-08-03T08:32:36.550Z"
   },
   {
    "duration": 5,
    "start_time": "2023-08-03T08:32:37.941Z"
   },
   {
    "duration": 6,
    "start_time": "2023-08-03T08:32:38.920Z"
   },
   {
    "duration": 3,
    "start_time": "2023-08-03T08:32:40.818Z"
   },
   {
    "duration": 3,
    "start_time": "2023-08-03T08:32:41.442Z"
   },
   {
    "duration": 3,
    "start_time": "2023-08-03T08:32:42.302Z"
   },
   {
    "duration": 24,
    "start_time": "2023-08-03T08:32:43.070Z"
   },
   {
    "duration": 6,
    "start_time": "2023-08-03T08:33:25.440Z"
   },
   {
    "duration": 7,
    "start_time": "2023-08-03T08:34:37.375Z"
   },
   {
    "duration": 6,
    "start_time": "2023-08-03T08:34:39.219Z"
   },
   {
    "duration": 5,
    "start_time": "2023-08-03T08:34:39.578Z"
   },
   {
    "duration": 3,
    "start_time": "2023-08-03T08:34:41.218Z"
   },
   {
    "duration": 3,
    "start_time": "2023-08-03T08:34:41.489Z"
   },
   {
    "duration": 3,
    "start_time": "2023-08-03T08:34:42.035Z"
   },
   {
    "duration": 3705,
    "start_time": "2023-08-03T08:34:42.754Z"
   },
   {
    "duration": 7,
    "start_time": "2023-08-03T08:35:32.049Z"
   },
   {
    "duration": 20,
    "start_time": "2023-08-03T08:35:41.906Z"
   },
   {
    "duration": 6,
    "start_time": "2023-08-03T08:37:46.639Z"
   },
   {
    "duration": 20,
    "start_time": "2023-08-03T08:37:51.513Z"
   },
   {
    "duration": 9,
    "start_time": "2023-08-03T08:38:14.461Z"
   },
   {
    "duration": 3717,
    "start_time": "2023-08-03T08:38:24.790Z"
   },
   {
    "duration": 6,
    "start_time": "2023-08-03T08:39:05.204Z"
   },
   {
    "duration": 3646,
    "start_time": "2023-08-03T08:39:11.142Z"
   },
   {
    "duration": 7,
    "start_time": "2023-08-03T08:39:29.748Z"
   },
   {
    "duration": 23,
    "start_time": "2023-08-03T08:39:33.439Z"
   },
   {
    "duration": 6,
    "start_time": "2023-08-03T08:39:54.597Z"
   },
   {
    "duration": 6,
    "start_time": "2023-08-03T08:40:45.778Z"
   },
   {
    "duration": 6,
    "start_time": "2023-08-03T08:40:53.495Z"
   },
   {
    "duration": 6,
    "start_time": "2023-08-03T08:40:54.890Z"
   },
   {
    "duration": 7,
    "start_time": "2023-08-03T08:41:45.320Z"
   },
   {
    "duration": 429,
    "start_time": "2023-08-03T08:41:45.743Z"
   },
   {
    "duration": 7,
    "start_time": "2023-08-03T08:46:16.788Z"
   },
   {
    "duration": 19,
    "start_time": "2023-08-03T08:46:24.775Z"
   },
   {
    "duration": 7,
    "start_time": "2023-08-03T08:47:39.636Z"
   },
   {
    "duration": 19,
    "start_time": "2023-08-03T08:47:45.896Z"
   },
   {
    "duration": 7,
    "start_time": "2023-08-03T08:48:22.859Z"
   },
   {
    "duration": 19,
    "start_time": "2023-08-03T08:48:27.435Z"
   },
   {
    "duration": 6,
    "start_time": "2023-08-03T08:48:43.919Z"
   },
   {
    "duration": 20,
    "start_time": "2023-08-03T08:48:51.776Z"
   },
   {
    "duration": 8,
    "start_time": "2023-08-03T08:49:52.413Z"
   },
   {
    "duration": 16,
    "start_time": "2023-08-03T08:49:56.735Z"
   },
   {
    "duration": 7,
    "start_time": "2023-08-03T08:50:04.454Z"
   },
   {
    "duration": 25,
    "start_time": "2023-08-03T08:50:09.199Z"
   },
   {
    "duration": 8,
    "start_time": "2023-08-03T08:50:45.345Z"
   },
   {
    "duration": 23,
    "start_time": "2023-08-03T08:50:45.987Z"
   },
   {
    "duration": 7,
    "start_time": "2023-08-03T08:51:15.871Z"
   },
   {
    "duration": 16,
    "start_time": "2023-08-03T08:51:16.589Z"
   },
   {
    "duration": 7,
    "start_time": "2023-08-03T08:51:34.934Z"
   },
   {
    "duration": 627,
    "start_time": "2023-08-03T08:51:35.578Z"
   },
   {
    "duration": 7,
    "start_time": "2023-08-03T08:52:44.193Z"
   },
   {
    "duration": 777,
    "start_time": "2023-08-03T08:52:44.948Z"
   },
   {
    "duration": 9,
    "start_time": "2023-08-03T08:54:22.759Z"
   },
   {
    "duration": 629,
    "start_time": "2023-08-03T08:54:23.523Z"
   },
   {
    "duration": 4,
    "start_time": "2023-08-03T08:55:32.352Z"
   },
   {
    "duration": 7,
    "start_time": "2023-08-03T08:55:35.035Z"
   },
   {
    "duration": 23,
    "start_time": "2023-08-03T08:55:35.774Z"
   },
   {
    "duration": 4,
    "start_time": "2023-08-03T08:56:11.166Z"
   },
   {
    "duration": 6,
    "start_time": "2023-08-03T08:56:13.800Z"
   },
   {
    "duration": 598,
    "start_time": "2023-08-03T08:56:14.970Z"
   },
   {
    "duration": 8,
    "start_time": "2023-08-03T08:56:44.110Z"
   },
   {
    "duration": 4799,
    "start_time": "2023-08-03T08:56:44.941Z"
   },
   {
    "duration": 10,
    "start_time": "2023-08-03T09:02:30.132Z"
   },
   {
    "duration": 33,
    "start_time": "2023-08-03T09:02:32.314Z"
   },
   {
    "duration": 9,
    "start_time": "2023-08-03T09:02:38.388Z"
   },
   {
    "duration": 5027,
    "start_time": "2023-08-03T09:02:38.938Z"
   },
   {
    "duration": 7,
    "start_time": "2023-08-03T09:05:19.047Z"
   },
   {
    "duration": 613,
    "start_time": "2023-08-03T09:05:20.345Z"
   }
  ],
  "kernelspec": {
   "display_name": "Python 3 (ipykernel)",
   "language": "python",
   "name": "python3"
  },
  "language_info": {
   "codemirror_mode": {
    "name": "ipython",
    "version": 3
   },
   "file_extension": ".py",
   "mimetype": "text/x-python",
   "name": "python",
   "nbconvert_exporter": "python",
   "pygments_lexer": "ipython3",
   "version": "3.11.5"
  },
  "toc": {
   "base_numbering": 1,
   "nav_menu": {},
   "number_sections": true,
   "sideBar": true,
   "skip_h1_title": true,
   "title_cell": "Table of Contents",
   "title_sidebar": "Contents",
   "toc_cell": false,
   "toc_position": {},
   "toc_section_display": true,
   "toc_window_display": false
  }
 },
 "nbformat": 4,
 "nbformat_minor": 2
}
