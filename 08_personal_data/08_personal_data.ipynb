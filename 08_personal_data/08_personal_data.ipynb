{
 "cells": [
  {
   "cell_type": "markdown",
   "metadata": {},
   "source": [
    "# Защита персональных данных клиентов"
   ]
  },
  {
   "cell_type": "markdown",
   "metadata": {},
   "source": [
    "## Задачи проекта\n",
    "* Защитить данные клиентов страховой компании «Хоть потоп»:\n",
    "    1. Разработать метод преобразования данных, чтобы по ним было сложно восстановить персональную информацию.\n",
    "    2. Обосновать корректность работы метода.\n",
    "\n",
    "## Дополнительные критерии\n",
    "* При преобразовании качество моделей машинного обучения не должно ухудшиться.\n",
    "* Подбирать наилучшую модель не требуется."
   ]
  },
  {
   "cell_type": "markdown",
   "metadata": {},
   "source": [
    "## Загрузка данных"
   ]
  },
  {
   "cell_type": "markdown",
   "metadata": {},
   "source": [
    "### Подготовка библиотек"
   ]
  },
  {
   "cell_type": "code",
   "execution_count": 1,
   "metadata": {},
   "outputs": [],
   "source": [
    "# Файлы и директории\n",
    "import os \n",
    "\n",
    "# Датафреймы\n",
    "import pandas as pd\n",
    "\n",
    "# Математика\n",
    "import numpy as np\n",
    "\n",
    "# Визуализация\n",
    "import matplotlib.pyplot as plt\n",
    "import seaborn as sns\n",
    "\n",
    "# Машинное обучение\n",
    "from sklearn.linear_model import LinearRegression\n",
    "from sklearn.model_selection import train_test_split\n",
    "from sklearn.metrics import mean_squared_error, r2_score\n",
    "\n",
    "# Константы\n",
    "RANDOM_NUMBER = 12345"
   ]
  },
  {
   "cell_type": "markdown",
   "metadata": {},
   "source": [
    "### Загрузка датасета"
   ]
  },
  {
   "cell_type": "code",
   "execution_count": 2,
   "metadata": {},
   "outputs": [],
   "source": [
    "pth1 = 'datasets/insurance.csv'\n",
    "pth2 = '/insurance.csv'\n",
    "\n",
    "if os.path.exists(pth1):\n",
    "    df = pd.read_csv(pth1)\n",
    "    \n",
    "elif os.path.exists(pth2):\n",
    "    df = pd.read_csv(pth2)\n",
    "\n",
    "else:\n",
    "    print(\"Something went wrong\")"
   ]
  },
  {
   "cell_type": "markdown",
   "metadata": {},
   "source": [
    "### Знакомство с данными"
   ]
  },
  {
   "cell_type": "code",
   "execution_count": 3,
   "metadata": {},
   "outputs": [
    {
     "name": "stdout",
     "output_type": "stream",
     "text": [
      "<class 'pandas.core.frame.DataFrame'>\n",
      "RangeIndex: 5000 entries, 0 to 4999\n",
      "Data columns (total 5 columns):\n",
      " #   Column             Non-Null Count  Dtype  \n",
      "---  ------             --------------  -----  \n",
      " 0   Пол                5000 non-null   int64  \n",
      " 1   Возраст            5000 non-null   float64\n",
      " 2   Зарплата           5000 non-null   float64\n",
      " 3   Члены семьи        5000 non-null   int64  \n",
      " 4   Страховые выплаты  5000 non-null   int64  \n",
      "dtypes: float64(2), int64(3)\n",
      "memory usage: 195.4 KB\n"
     ]
    }
   ],
   "source": [
    "df.info()"
   ]
  },
  {
   "cell_type": "code",
   "execution_count": 4,
   "metadata": {},
   "outputs": [
    {
     "data": {
      "text/html": [
       "<div>\n",
       "<style scoped>\n",
       "    .dataframe tbody tr th:only-of-type {\n",
       "        vertical-align: middle;\n",
       "    }\n",
       "\n",
       "    .dataframe tbody tr th {\n",
       "        vertical-align: top;\n",
       "    }\n",
       "\n",
       "    .dataframe thead th {\n",
       "        text-align: right;\n",
       "    }\n",
       "</style>\n",
       "<table border=\"1\" class=\"dataframe\">\n",
       "  <thead>\n",
       "    <tr style=\"text-align: right;\">\n",
       "      <th></th>\n",
       "      <th>Пол</th>\n",
       "      <th>Возраст</th>\n",
       "      <th>Зарплата</th>\n",
       "      <th>Члены семьи</th>\n",
       "      <th>Страховые выплаты</th>\n",
       "    </tr>\n",
       "  </thead>\n",
       "  <tbody>\n",
       "    <tr>\n",
       "      <th>0</th>\n",
       "      <td>1</td>\n",
       "      <td>41.0</td>\n",
       "      <td>49600.0</td>\n",
       "      <td>1</td>\n",
       "      <td>0</td>\n",
       "    </tr>\n",
       "    <tr>\n",
       "      <th>1</th>\n",
       "      <td>0</td>\n",
       "      <td>46.0</td>\n",
       "      <td>38000.0</td>\n",
       "      <td>1</td>\n",
       "      <td>1</td>\n",
       "    </tr>\n",
       "    <tr>\n",
       "      <th>2</th>\n",
       "      <td>0</td>\n",
       "      <td>29.0</td>\n",
       "      <td>21000.0</td>\n",
       "      <td>0</td>\n",
       "      <td>0</td>\n",
       "    </tr>\n",
       "    <tr>\n",
       "      <th>3</th>\n",
       "      <td>0</td>\n",
       "      <td>21.0</td>\n",
       "      <td>41700.0</td>\n",
       "      <td>2</td>\n",
       "      <td>0</td>\n",
       "    </tr>\n",
       "    <tr>\n",
       "      <th>4</th>\n",
       "      <td>1</td>\n",
       "      <td>28.0</td>\n",
       "      <td>26100.0</td>\n",
       "      <td>0</td>\n",
       "      <td>0</td>\n",
       "    </tr>\n",
       "    <tr>\n",
       "      <th>5</th>\n",
       "      <td>1</td>\n",
       "      <td>43.0</td>\n",
       "      <td>41000.0</td>\n",
       "      <td>2</td>\n",
       "      <td>1</td>\n",
       "    </tr>\n",
       "    <tr>\n",
       "      <th>6</th>\n",
       "      <td>1</td>\n",
       "      <td>39.0</td>\n",
       "      <td>39700.0</td>\n",
       "      <td>2</td>\n",
       "      <td>0</td>\n",
       "    </tr>\n",
       "    <tr>\n",
       "      <th>7</th>\n",
       "      <td>1</td>\n",
       "      <td>25.0</td>\n",
       "      <td>38600.0</td>\n",
       "      <td>4</td>\n",
       "      <td>0</td>\n",
       "    </tr>\n",
       "    <tr>\n",
       "      <th>8</th>\n",
       "      <td>1</td>\n",
       "      <td>36.0</td>\n",
       "      <td>49700.0</td>\n",
       "      <td>1</td>\n",
       "      <td>0</td>\n",
       "    </tr>\n",
       "    <tr>\n",
       "      <th>9</th>\n",
       "      <td>1</td>\n",
       "      <td>32.0</td>\n",
       "      <td>51700.0</td>\n",
       "      <td>1</td>\n",
       "      <td>0</td>\n",
       "    </tr>\n",
       "  </tbody>\n",
       "</table>\n",
       "</div>"
      ],
      "text/plain": [
       "   Пол  Возраст  Зарплата  Члены семьи  Страховые выплаты\n",
       "0    1     41.0   49600.0            1                  0\n",
       "1    0     46.0   38000.0            1                  1\n",
       "2    0     29.0   21000.0            0                  0\n",
       "3    0     21.0   41700.0            2                  0\n",
       "4    1     28.0   26100.0            0                  0\n",
       "5    1     43.0   41000.0            2                  1\n",
       "6    1     39.0   39700.0            2                  0\n",
       "7    1     25.0   38600.0            4                  0\n",
       "8    1     36.0   49700.0            1                  0\n",
       "9    1     32.0   51700.0            1                  0"
      ]
     },
     "execution_count": 4,
     "metadata": {},
     "output_type": "execute_result"
    }
   ],
   "source": [
    "df.head(10)"
   ]
  },
  {
   "cell_type": "code",
   "execution_count": 5,
   "metadata": {},
   "outputs": [
    {
     "data": {
      "text/html": [
       "<div>\n",
       "<style scoped>\n",
       "    .dataframe tbody tr th:only-of-type {\n",
       "        vertical-align: middle;\n",
       "    }\n",
       "\n",
       "    .dataframe tbody tr th {\n",
       "        vertical-align: top;\n",
       "    }\n",
       "\n",
       "    .dataframe thead th {\n",
       "        text-align: right;\n",
       "    }\n",
       "</style>\n",
       "<table border=\"1\" class=\"dataframe\">\n",
       "  <thead>\n",
       "    <tr style=\"text-align: right;\">\n",
       "      <th></th>\n",
       "      <th>Пол</th>\n",
       "      <th>Возраст</th>\n",
       "      <th>Зарплата</th>\n",
       "      <th>Члены семьи</th>\n",
       "      <th>Страховые выплаты</th>\n",
       "    </tr>\n",
       "  </thead>\n",
       "  <tbody>\n",
       "    <tr>\n",
       "      <th>4990</th>\n",
       "      <td>0</td>\n",
       "      <td>22.0</td>\n",
       "      <td>56800.0</td>\n",
       "      <td>1</td>\n",
       "      <td>0</td>\n",
       "    </tr>\n",
       "    <tr>\n",
       "      <th>4991</th>\n",
       "      <td>0</td>\n",
       "      <td>21.0</td>\n",
       "      <td>38300.0</td>\n",
       "      <td>3</td>\n",
       "      <td>0</td>\n",
       "    </tr>\n",
       "    <tr>\n",
       "      <th>4992</th>\n",
       "      <td>0</td>\n",
       "      <td>45.0</td>\n",
       "      <td>54600.0</td>\n",
       "      <td>0</td>\n",
       "      <td>1</td>\n",
       "    </tr>\n",
       "    <tr>\n",
       "      <th>4993</th>\n",
       "      <td>1</td>\n",
       "      <td>32.0</td>\n",
       "      <td>36000.0</td>\n",
       "      <td>1</td>\n",
       "      <td>0</td>\n",
       "    </tr>\n",
       "    <tr>\n",
       "      <th>4994</th>\n",
       "      <td>1</td>\n",
       "      <td>26.0</td>\n",
       "      <td>51400.0</td>\n",
       "      <td>0</td>\n",
       "      <td>0</td>\n",
       "    </tr>\n",
       "    <tr>\n",
       "      <th>4995</th>\n",
       "      <td>0</td>\n",
       "      <td>28.0</td>\n",
       "      <td>35700.0</td>\n",
       "      <td>2</td>\n",
       "      <td>0</td>\n",
       "    </tr>\n",
       "    <tr>\n",
       "      <th>4996</th>\n",
       "      <td>0</td>\n",
       "      <td>34.0</td>\n",
       "      <td>52400.0</td>\n",
       "      <td>1</td>\n",
       "      <td>0</td>\n",
       "    </tr>\n",
       "    <tr>\n",
       "      <th>4997</th>\n",
       "      <td>0</td>\n",
       "      <td>20.0</td>\n",
       "      <td>33900.0</td>\n",
       "      <td>2</td>\n",
       "      <td>0</td>\n",
       "    </tr>\n",
       "    <tr>\n",
       "      <th>4998</th>\n",
       "      <td>1</td>\n",
       "      <td>22.0</td>\n",
       "      <td>32700.0</td>\n",
       "      <td>3</td>\n",
       "      <td>0</td>\n",
       "    </tr>\n",
       "    <tr>\n",
       "      <th>4999</th>\n",
       "      <td>1</td>\n",
       "      <td>28.0</td>\n",
       "      <td>40600.0</td>\n",
       "      <td>1</td>\n",
       "      <td>0</td>\n",
       "    </tr>\n",
       "  </tbody>\n",
       "</table>\n",
       "</div>"
      ],
      "text/plain": [
       "      Пол  Возраст  Зарплата  Члены семьи  Страховые выплаты\n",
       "4990    0     22.0   56800.0            1                  0\n",
       "4991    0     21.0   38300.0            3                  0\n",
       "4992    0     45.0   54600.0            0                  1\n",
       "4993    1     32.0   36000.0            1                  0\n",
       "4994    1     26.0   51400.0            0                  0\n",
       "4995    0     28.0   35700.0            2                  0\n",
       "4996    0     34.0   52400.0            1                  0\n",
       "4997    0     20.0   33900.0            2                  0\n",
       "4998    1     22.0   32700.0            3                  0\n",
       "4999    1     28.0   40600.0            1                  0"
      ]
     },
     "execution_count": 5,
     "metadata": {},
     "output_type": "execute_result"
    }
   ],
   "source": [
    "df.tail(10)"
   ]
  },
  {
   "cell_type": "markdown",
   "metadata": {},
   "source": [
    "**Наблюдения**\n",
    "\n",
    "В данных сохранено 5000 объектов с 5-ю признаками:\n",
    "1. `Пол` — закодирован через 0 и 1\n",
    "2. `Возраст`\n",
    "3. `Зарплата`\n",
    "4. `Члены семьи`\n",
    "5. `Страховые выплаты` — целевой признак, количество выплат клиенту за последние 5 лет."
   ]
  },
  {
   "cell_type": "markdown",
   "metadata": {},
   "source": [
    "### Предобработка"
   ]
  },
  {
   "cell_type": "markdown",
   "metadata": {},
   "source": [
    "Проверим датафрейм на наличие пропусков и дубликатов:"
   ]
  },
  {
   "cell_type": "code",
   "execution_count": 6,
   "metadata": {},
   "outputs": [
    {
     "data": {
      "text/plain": [
       "Пол                  0\n",
       "Возраст              0\n",
       "Зарплата             0\n",
       "Члены семьи          0\n",
       "Страховые выплаты    0\n",
       "dtype: int64"
      ]
     },
     "execution_count": 6,
     "metadata": {},
     "output_type": "execute_result"
    }
   ],
   "source": [
    "df.isna().sum()"
   ]
  },
  {
   "cell_type": "markdown",
   "metadata": {},
   "source": [
    "Пропуски отсутствуют."
   ]
  },
  {
   "cell_type": "code",
   "execution_count": 7,
   "metadata": {},
   "outputs": [
    {
     "data": {
      "text/plain": [
       "153"
      ]
     },
     "execution_count": 7,
     "metadata": {},
     "output_type": "execute_result"
    }
   ],
   "source": [
    "df.duplicated().sum()"
   ]
  },
  {
   "cell_type": "markdown",
   "metadata": {},
   "source": [
    "Обнаружено 153 дубликата. Отбросим их:"
   ]
  },
  {
   "cell_type": "code",
   "execution_count": 8,
   "metadata": {},
   "outputs": [
    {
     "data": {
      "text/plain": [
       "0"
      ]
     },
     "execution_count": 8,
     "metadata": {},
     "output_type": "execute_result"
    }
   ],
   "source": [
    "df = df.drop_duplicates()\n",
    "df.duplicated().sum()"
   ]
  },
  {
   "cell_type": "markdown",
   "metadata": {},
   "source": [
    "### Преобразозвание типов"
   ]
  },
  {
   "cell_type": "markdown",
   "metadata": {},
   "source": [
    "В столбцах `Возраст` и `Зарплата` находятся целочисленные значения. Приведём их к типу `int`: "
   ]
  },
  {
   "cell_type": "code",
   "execution_count": 9,
   "metadata": {},
   "outputs": [
    {
     "name": "stdout",
     "output_type": "stream",
     "text": [
      "<class 'pandas.core.frame.DataFrame'>\n",
      "Index: 4847 entries, 0 to 4999\n",
      "Data columns (total 5 columns):\n",
      " #   Column             Non-Null Count  Dtype\n",
      "---  ------             --------------  -----\n",
      " 0   Пол                4847 non-null   int64\n",
      " 1   Возраст            4847 non-null   int64\n",
      " 2   Зарплата           4847 non-null   int64\n",
      " 3   Члены семьи        4847 non-null   int64\n",
      " 4   Страховые выплаты  4847 non-null   int64\n",
      "dtypes: int64(5)\n",
      "memory usage: 227.2 KB\n"
     ]
    }
   ],
   "source": [
    "df[['Возраст', 'Зарплата']] = df[['Возраст', 'Зарплата']].astype(int)\n",
    "df.info()"
   ]
  },
  {
   "cell_type": "markdown",
   "metadata": {},
   "source": [
    "Данне предобработаны: пропуски и дубликаты отсутствуют, целочисленные признаки приведены к типу `int`."
   ]
  },
  {
   "cell_type": "markdown",
   "metadata": {},
   "source": [
    "### Поиск корреляций"
   ]
  },
  {
   "cell_type": "code",
   "execution_count": 10,
   "metadata": {},
   "outputs": [
    {
     "data": {
      "image/png": "[encoded data removed]",
      "text/plain": [
       "<Figure size 640x480 with 2 Axes>"
      ]
     },
     "metadata": {},
     "output_type": "display_data"
    }
   ],
   "source": [
    "sns.heatmap(df.corr(), annot=True);"
   ]
  },
  {
   "cell_type": "code",
   "execution_count": 11,
   "metadata": {},
   "outputs": [
    {
     "data": {
      "image/png": "[encoded data removed]",
      "text/plain": [
       "<Figure size 640x480 with 1 Axes>"
      ]
     },
     "metadata": {},
     "output_type": "display_data"
    }
   ],
   "source": [
    "sns.scatterplot(data=df, x='Страховые выплаты', y='Возраст')\n",
    "plt.xlabel('Выплаты')\n",
    "plt.ylabel('Возраст');"
   ]
  },
  {
   "cell_type": "markdown",
   "metadata": {},
   "source": [
    "Наблюдается заметная положительная корреляция между возрастом застрахованных и количеством страховых выплат. Зафиксируем пару предположений о взаимосвязи этих двух признаков:\n",
    "* Люди старшего возраста дольше являются клиентами компании, поэтому статистически успели получить больше выплат.\n",
    "* Люди старшего возраста менее внимательны или имеют больше проблем со здоровьем, поэтому чаще попадают в ситуации, подразумевающие страховые выплаты.\n",
    "\n",
    "На основе предоставленных данных мы не можем ни подтвердить, ни опровергнуть эти гипотезы. Поэтому оставим их в качестве предположений."
   ]
  },
  {
   "cell_type": "markdown",
   "metadata": {},
   "source": [
    "### Подготовка выборок для обучения"
   ]
  },
  {
   "cell_type": "markdown",
   "metadata": {},
   "source": [
    "Разделим данные на тренировочную и тестовую выборки в сотношении 3:1."
   ]
  },
  {
   "cell_type": "code",
   "execution_count": 12,
   "metadata": {},
   "outputs": [
    {
     "data": {
      "text/plain": [
       "((3635, 4), (3635,), (1212, 4), (1212,))"
      ]
     },
     "execution_count": 12,
     "metadata": {},
     "output_type": "execute_result"
    }
   ],
   "source": [
    "X = df.drop(['Страховые выплаты'], axis=1)\n",
    "y = df['Страховые выплаты']\n",
    "\n",
    "X_train, X_test, y_train, y_test = train_test_split(X, y,\n",
    "                                                    test_size=0.25,\n",
    "                                                    random_state=RANDOM_NUMBER)\n",
    "\n",
    "# Проверка\n",
    "X_train.shape, y_train.shape, X_test.shape, y_test.shape"
   ]
  },
  {
   "cell_type": "markdown",
   "metadata": {},
   "source": [
    "Разделение произведено корректно."
   ]
  },
  {
   "cell_type": "markdown",
   "metadata": {},
   "source": [
    "### Подготовка вспомогательных функций"
   ]
  },
  {
   "cell_type": "markdown",
   "metadata": {},
   "source": [
    "Создадим функцию для отображения метрик $MSE$ и $R^2$:"
   ]
  },
  {
   "cell_type": "code",
   "execution_count": 13,
   "metadata": {},
   "outputs": [],
   "source": [
    "def show_metrics(y_test, y_pred):\n",
    "    \n",
    "    print(f\"MSE: {mean_squared_error(y_test, y_pred).round(3)}\")\n",
    "    print(f\"R2: {r2_score(y_test, y_pred).round(3)}\")"
   ]
  },
  {
   "cell_type": "markdown",
   "metadata": {},
   "source": [
    "### Итоги этапа\n",
    "* Данные успешно загружены.\n",
    "* Пропуски и дубликаты обработаны.\n",
    "* Обнаружена корреляция между возрастом застрахованных и количеством страховых выплат.\n",
    "* Датасет разеделён на тренировочную и тестовую выборки.\n",
    "* Реализована вспомогательная функция для отображения метрик.\n"
   ]
  },
  {
   "cell_type": "markdown",
   "metadata": {},
   "source": [
    "## Умножение матриц"
   ]
  },
  {
   "cell_type": "markdown",
   "metadata": {},
   "source": [
    "**Вопрос.** Признаки умножают на обратимую матрицу. Изменится ли качество линейной регрессии? \n",
    "\n",
    "**Ответ.** Не изменится.\n",
    "\n",
    "**Обоснование.** При домножении признаков на обратимую матрицу, вектор предсказанных значений и метрики $MSE$ и $R^2$ остаются неизменными, что говорит о сохраненни качества линейной регрессии.\n",
    "\n",
    "Обоснуем этот вывод аналитически и эмпирически.\n"
   ]
  },
  {
   "cell_type": "markdown",
   "metadata": {},
   "source": [
    "### Аналитическое доказательство"
   ]
  },
  {
   "cell_type": "markdown",
   "metadata": {},
   "source": [
    "**Обозначения**\n",
    "\n",
    "*Исходный набор данных*\n",
    "\n",
    "- $X$ — матрица признаков (нулевой столбец состоит из единиц)\n",
    "\n",
    "- $y$ — вектор целевого признака\n",
    "- $\\hat{y}$ — предсказания по исходной матрице признаков\n",
    "\n",
    "- $w$ — вектор весов линейной регрессии (нулевой элемент равен сдвигу)"
   ]
  },
  {
   "cell_type": "markdown",
   "metadata": {},
   "source": [
    "*Изменённый набор данных*\n",
    "\n",
    "- $P$ — матрица, на которую умножаются признаки\n",
    "- $w*$ — вектор весов после умножения исходной матрицы на любую обратимую\n",
    "- $\\hat{y}*$ — предсказания по матрице полученной домноженной на обратимую матрицу\n",
    "- $E$ — единичная матрица"
   ]
  },
  {
   "cell_type": "markdown",
   "metadata": {},
   "source": [
    "**(1) Предсказания:**\n",
    "\n",
    "$$\n",
    "a = Xw\n",
    "$$\n",
    "\n",
    "**(2) Задача обучения:**\n",
    "\n",
    "$$\n",
    "w = \\arg\\min_w MSE(Xw, y)\n",
    "$$\n",
    "\n",
    "**(3) Формула обучения:**\n",
    "\n",
    "$$\n",
    "w = (X^T X)^{-1} X^T y\n",
    "$$"
   ]
  },
  {
   "cell_type": "markdown",
   "metadata": {},
   "source": [
    "**Используемые свойства:**\n",
    "\n",
    "**(I)**$$\n",
    "(AB)^T=B^T A^T\n",
    "$$\n",
    "\n",
    "**(II)**$$\n",
    "(AB)^{-1} = B^{-1} A^{-1}\n",
    "$$\n",
    "\n",
    "**(III)**$$\n",
    "A A^{-1} = A^{-1} A = E\n",
    "$$\n",
    "\n",
    "**(IV)**$$\n",
    "AE = EA = A\n",
    "$$\n",
    "\n",
    "$A, B$ — обратимые матрицы, $E$ — единичная матрица"
   ]
  },
  {
   "cell_type": "markdown",
   "metadata": {},
   "source": [
    "**Доказательство**\n",
    "$$\n",
    "a = Xw = XEw = XPP^{-1}w = (XP)P^{-1}w = (XP)w' ????\n",
    "$$\n",
    "\\\n",
    "Требуется доказать, что предсказания не изменятся:\n",
    "\n",
    "$$\n",
    "a=a'\n",
    "$$\n",
    "\n",
    "Формулы для предсказаний на исходных и изменённых данных:\n",
    "$$a =  Xw$$  $$a' = X'w'$$\n",
    "\n",
    "\n",
    "Веса для исходных данных:\n",
    "$$\n",
    "    w = (X^T X)^{-1} X^T y\n",
    "$$\n",
    "\n",
    "Веса для изменённых данных:\n",
    "$$\n",
    "w' = ((XP)^T XP)^{-1} (XP)^T y\n",
    "$$\n",
    "\n",
    "$$\n",
    "w' = (P^T (X^T X) P)^{-1} (XP)^T y\n",
    "$$\n",
    "\n",
    "$$\n",
    "w' = (P^T (X^T X) P)^{-1} P^T X^T y\n",
    "$$"
   ]
  },
  {
   "cell_type": "markdown",
   "metadata": {},
   "source": [
    "Применим свойство **(II)** для $(P^T (X^T X) P)^{-1}$:\n",
    "\n",
    "$$\n",
    "w' = P^{-1}(X^T X)^{-1} (P^T)^{-1} P^T X^T y\n",
    "$$"
   ]
  },
  {
   "cell_type": "markdown",
   "metadata": {},
   "source": [
    "По свойству **(III)** $(P^T)^{-1} P^T = E$, следовательно:\n",
    "\n",
    "$$\n",
    "w' = P^{-1}(X^T X)^{-1} X^T y\n",
    "$$"
   ]
  },
  {
   "cell_type": "markdown",
   "metadata": {},
   "source": [
    "Подставим $X'$ и $w'$ в формулу для $a'$:\n",
    "\n",
    "$$\n",
    "a' = X'w'= XPP^{-1}(X^T X)^{-1}X^Ty\n",
    "$$"
   ]
  },
  {
   "cell_type": "markdown",
   "metadata": {},
   "source": [
    "Так как по свойству **(III)** $PP^{-1}=E$, получим:\n",
    "\n",
    "$$\n",
    "a'= X(X^TX)^{-1}X^Ty\n",
    "$$"
   ]
  },
  {
   "cell_type": "markdown",
   "metadata": {},
   "source": [
    "Формула **(1)** для предсказаний $a$ на неизменённом наборе данных:\n",
    "\n",
    "$$\n",
    "a = Xw =X(X^T X)^{-1} X^T y\n",
    "$$"
   ]
  },
  {
   "cell_type": "markdown",
   "metadata": {},
   "source": [
    "Из двух последних формул следует, что: $$a=a'$$"
   ]
  },
  {
   "cell_type": "markdown",
   "metadata": {},
   "source": [
    "Таким образом, при домножении исходного набора данных на любую необратимую матрицу, предсказания остаются неизменными. Следовательно, качество линейной регрессии сохраняется. █"
   ]
  },
  {
   "cell_type": "markdown",
   "metadata": {},
   "source": [
    "### Эмпирическое доказательство"
   ]
  },
  {
   "cell_type": "markdown",
   "metadata": {},
   "source": [
    "Создадим локальную модель линейной регрессии для предсказания значений по неизменённым признакам:"
   ]
  },
  {
   "cell_type": "code",
   "execution_count": 14,
   "metadata": {},
   "outputs": [],
   "source": [
    "class LocalLinearRegression:\n",
    "    \n",
    "    def fit(self, X_train, y_train):\n",
    "        \n",
    "        # Добавление единичного столбца в вектор X\n",
    "        X = np.concatenate((np.ones((X_train.shape[0], 1)), X_train), axis=1)\n",
    "        \n",
    "        # Целевой признак\n",
    "        y = y_train\n",
    "        \n",
    "        # Вектор весов —> формула обучения (3)\n",
    "        w = (np.linalg.inv(X.T.dot(X)).dot(X.T)).dot(y)\n",
    "        \n",
    "        # Сдвиг w0 \n",
    "        self.w0 = w[0]\n",
    "        \n",
    "        # Веса w1...wn\n",
    "        self.w = w[1:]\n",
    "\n",
    "    \n",
    "    def predict(self, X_test):\n",
    "        \n",
    "        # Вектор предсказаний\n",
    "        return X_test.dot(self.w) + self.w0"
   ]
  },
  {
   "cell_type": "markdown",
   "metadata": {},
   "source": [
    "Обучим модель и вычислим метрики $MSE$ и $R^2$:"
   ]
  },
  {
   "cell_type": "code",
   "execution_count": 15,
   "metadata": {},
   "outputs": [
    {
     "name": "stdout",
     "output_type": "stream",
     "text": [
      "MSE: 0.12\n",
      "R2: 0.423\n"
     ]
    }
   ],
   "source": [
    "# Инициализаия и тренировка модели\n",
    "LR_model = LocalLinearRegression()\n",
    "LR_model.fit(X_train, y_train)\n",
    "\n",
    "y_pred = LR_model.predict(X_test)\n",
    "\n",
    "# Проверка\n",
    "show_metrics(y_test, y_pred)"
   ]
  },
  {
   "cell_type": "markdown",
   "metadata": {},
   "source": [
    "Создадим произвольную матрицу по длине совпадающую с шириной выборки и проверим её на обратимость:"
   ]
  },
  {
   "cell_type": "code",
   "execution_count": 16,
   "metadata": {},
   "outputs": [
    {
     "data": {
      "text/plain": [
       "array([[5.74187738, 3.8181052 , 5.73022791, 4.79571629],\n",
       "       [5.68220341, 4.33560385, 4.06408463, 5.13068735],\n",
       "       [6.12436609, 6.93204518, 6.28722523, 5.19496953],\n",
       "       [5.68287386, 5.90239571, 6.31800152, 5.28953113]])"
      ]
     },
     "metadata": {},
     "output_type": "display_data"
    },
    {
     "data": {
      "text/plain": [
       "array([[ 0.72932108,  0.0419869 ,  1.03648315, -1.71991369],\n",
       "       [-0.37136469,  0.01548498,  0.39828337, -0.06948799],\n",
       "       [ 0.31004992, -0.4914183 , -0.18275719,  0.37504652],\n",
       "       [-0.73949734,  0.52457897, -1.33969697,  1.66643384]])"
      ]
     },
     "metadata": {},
     "output_type": "display_data"
    }
   ],
   "source": [
    "P = np.random.normal(5, size=(4,4))\n",
    "\n",
    "# Проверка\n",
    "display(P)\n",
    "display(np.linalg.inv(P))"
   ]
  },
  {
   "cell_type": "markdown",
   "metadata": {},
   "source": [
    "Умножим тренировочные и тестовые признаки на произвольную матрицу:"
   ]
  },
  {
   "cell_type": "code",
   "execution_count": 17,
   "metadata": {},
   "outputs": [
    {
     "data": {
      "text/html": [
       "<div>\n",
       "<style scoped>\n",
       "    .dataframe tbody tr th:only-of-type {\n",
       "        vertical-align: middle;\n",
       "    }\n",
       "\n",
       "    .dataframe tbody tr th {\n",
       "        vertical-align: top;\n",
       "    }\n",
       "\n",
       "    .dataframe thead th {\n",
       "        text-align: right;\n",
       "    }\n",
       "</style>\n",
       "<table border=\"1\" class=\"dataframe\">\n",
       "  <thead>\n",
       "    <tr style=\"text-align: right;\">\n",
       "      <th></th>\n",
       "      <th>Пол</th>\n",
       "      <th>Возраст</th>\n",
       "      <th>Зарплата</th>\n",
       "      <th>Члены семьи</th>\n",
       "    </tr>\n",
       "  </thead>\n",
       "  <tbody>\n",
       "    <tr>\n",
       "      <th>4599</th>\n",
       "      <td>333948.419484</td>\n",
       "      <td>377929.664158</td>\n",
       "      <td>342780.205363</td>\n",
       "      <td>283280.077522</td>\n",
       "    </tr>\n",
       "    <tr>\n",
       "      <th>3882</th>\n",
       "      <td>310732.709370</td>\n",
       "      <td>351629.164212</td>\n",
       "      <td>318928.802565</td>\n",
       "      <td>263590.006378</td>\n",
       "    </tr>\n",
       "    <tr>\n",
       "      <th>4705</th>\n",
       "      <td>171624.306346</td>\n",
       "      <td>194207.222005</td>\n",
       "      <td>176146.162450</td>\n",
       "      <td>145587.572780</td>\n",
       "    </tr>\n",
       "    <tr>\n",
       "      <th>1400</th>\n",
       "      <td>237892.467949</td>\n",
       "      <td>269167.126471</td>\n",
       "      <td>244135.350870</td>\n",
       "      <td>201805.959947</td>\n",
       "    </tr>\n",
       "    <tr>\n",
       "      <th>728</th>\n",
       "      <td>199274.869016</td>\n",
       "      <td>225470.794989</td>\n",
       "      <td>204503.701335</td>\n",
       "      <td>169047.026648</td>\n",
       "    </tr>\n",
       "  </tbody>\n",
       "</table>\n",
       "</div>"
      ],
      "text/plain": [
       "                Пол        Возраст       Зарплата    Члены семьи\n",
       "4599  333948.419484  377929.664158  342780.205363  283280.077522\n",
       "3882  310732.709370  351629.164212  318928.802565  263590.006378\n",
       "4705  171624.306346  194207.222005  176146.162450  145587.572780\n",
       "1400  237892.467949  269167.126471  244135.350870  201805.959947\n",
       "728   199274.869016  225470.794989  204503.701335  169047.026648"
      ]
     },
     "metadata": {},
     "output_type": "display_data"
    },
    {
     "data": {
      "text/html": [
       "<div>\n",
       "<style scoped>\n",
       "    .dataframe tbody tr th:only-of-type {\n",
       "        vertical-align: middle;\n",
       "    }\n",
       "\n",
       "    .dataframe tbody tr th {\n",
       "        vertical-align: top;\n",
       "    }\n",
       "\n",
       "    .dataframe thead th {\n",
       "        text-align: right;\n",
       "    }\n",
       "</style>\n",
       "<table border=\"1\" class=\"dataframe\">\n",
       "  <thead>\n",
       "    <tr style=\"text-align: right;\">\n",
       "      <th></th>\n",
       "      <th>Пол</th>\n",
       "      <th>Возраст</th>\n",
       "      <th>Зарплата</th>\n",
       "      <th>Члены семьи</th>\n",
       "    </tr>\n",
       "  </thead>\n",
       "  <tbody>\n",
       "    <tr>\n",
       "      <th>1335</th>\n",
       "      <td>289206.512122</td>\n",
       "      <td>327296.069619</td>\n",
       "      <td>296856.234992</td>\n",
       "      <td>245325.363193</td>\n",
       "    </tr>\n",
       "    <tr>\n",
       "      <th>3875</th>\n",
       "      <td>403783.297882</td>\n",
       "      <td>456964.334971</td>\n",
       "      <td>414463.923539</td>\n",
       "      <td>342517.469531</td>\n",
       "    </tr>\n",
       "    <tr>\n",
       "      <th>166</th>\n",
       "      <td>207820.630873</td>\n",
       "      <td>235155.029518</td>\n",
       "      <td>213289.416293</td>\n",
       "      <td>176294.154422</td>\n",
       "    </tr>\n",
       "    <tr>\n",
       "      <th>3003</th>\n",
       "      <td>118433.237266</td>\n",
       "      <td>133969.365368</td>\n",
       "      <td>121514.582227</td>\n",
       "      <td>100473.587737</td>\n",
       "    </tr>\n",
       "    <tr>\n",
       "      <th>424</th>\n",
       "      <td>168692.814648</td>\n",
       "      <td>190842.485094</td>\n",
       "      <td>173098.277698</td>\n",
       "      <td>143108.252669</td>\n",
       "    </tr>\n",
       "  </tbody>\n",
       "</table>\n",
       "</div>"
      ],
      "text/plain": [
       "                Пол        Возраст       Зарплата    Члены семьи\n",
       "1335  289206.512122  327296.069619  296856.234992  245325.363193\n",
       "3875  403783.297882  456964.334971  414463.923539  342517.469531\n",
       "166   207820.630873  235155.029518  213289.416293  176294.154422\n",
       "3003  118433.237266  133969.365368  121514.582227  100473.587737\n",
       "424   168692.814648  190842.485094  173098.277698  143108.252669"
      ]
     },
     "metadata": {},
     "output_type": "display_data"
    }
   ],
   "source": [
    "X_train_dot = X_train.dot(P)\n",
    "X_train_dot.columns = X_train.columns\n",
    "\n",
    "X_test_dot = X_test.dot(P)\n",
    "X_test_dot.columns = X_test.columns\n",
    "\n",
    "# Проверка\n",
    "display(X_train_dot.head())\n",
    "display(X_test_dot.head())"
   ]
  },
  {
   "cell_type": "markdown",
   "metadata": {},
   "source": [
    "Обучим модель на изменённых признаках и проверим метрики:"
   ]
  },
  {
   "cell_type": "code",
   "execution_count": 18,
   "metadata": {},
   "outputs": [
    {
     "name": "stdout",
     "output_type": "stream",
     "text": [
      "MSE: 0.12\n",
      "R2: 0.423\n"
     ]
    }
   ],
   "source": [
    "LR_matrix_model = LocalLinearRegression()\n",
    "LR_matrix_model.fit(X_train_dot, y_train)\n",
    "y_pred = LR_matrix_model.predict(X_test_dot)\n",
    "\n",
    "# Проверка\n",
    "show_metrics(y_test, y_pred)"
   ]
  },
  {
   "cell_type": "markdown",
   "metadata": {},
   "source": [
    "Значения метрик $MSE$ и $R^2$ остались прежними. Аналитический вывод подтвердился эмпирически. █"
   ]
  },
  {
   "cell_type": "markdown",
   "metadata": {},
   "source": [
    "### Итоги этапа\n",
    "* При домножении матрицы исходных данных на обратимую матрицу качество линейно регрессии осталось неизменным.\n",
    "* Вывод о сохранении качества подтверждён аналитически и эмпирически."
   ]
  },
  {
   "cell_type": "markdown",
   "metadata": {},
   "source": [
    "## Алгоритм преобразования"
   ]
  },
  {
   "cell_type": "markdown",
   "metadata": {},
   "source": [
    "**Алгоритм**\n",
    "1. Создать случайную квадратную матрицу $P$ с размернойстью равной количеству обучающих признаков\n",
    "2. Проверить матрицу $P$ на обратимость. Если $P$ — необратима, вернуться к шагу 1.\n",
    "    \n",
    "3. Домножить матрицы обучающих и тестовых признаков на матрицу $P$."
   ]
  },
  {
   "cell_type": "markdown",
   "metadata": {},
   "source": [
    "**Обоснование**\n",
    "\n",
    "На предыдущем этапе мы выяснили, что при домножении матрицы целевых признаков на обратимую матрицу, качество линейной регрессии остаётся неизменным. При этом, сам набор значений кардинально меняется. Это свойство и будет работать в качестве алгоритма защиты данных."
   ]
  },
  {
   "cell_type": "markdown",
   "metadata": {},
   "source": [
    "## Проверка алгоритма"
   ]
  },
  {
   "cell_type": "markdown",
   "metadata": {},
   "source": [
    "### Подготовка"
   ]
  },
  {
   "cell_type": "markdown",
   "metadata": {},
   "source": [
    "Создадим функцию, которая на входе будет получать тренировочную и тестовую выборки, а на выходе возвращать их в зашифрованном виде."
   ]
  },
  {
   "cell_type": "code",
   "execution_count": 19,
   "metadata": {},
   "outputs": [],
   "source": [
    "def data_cypher(X_train, X_test):\n",
    "    \n",
    "    # Размерность признаков\n",
    "    n = X_train.shape[1]\n",
    "    \n",
    "    # Функция генерации обратимой матрицы\n",
    "    def inv_matrix():\n",
    "        while True:\n",
    "            \n",
    "            # Случайная матрица размером n x n\n",
    "            matrix = np.random.normal(5, size=(n,n))\n",
    "\n",
    "            # Проверка обратимости\n",
    "            if np.linalg.det(matrix) != 0:\n",
    "                return matrix\n",
    "    \n",
    "    # Проверенная обратимая матрица\n",
    "    P = inv_matrix()\n",
    "    \n",
    "    # Зашифрованные признаки\n",
    "    return X_train.dot(P), X_test.dot(P)\n"
   ]
  },
  {
   "cell_type": "markdown",
   "metadata": {},
   "source": [
    "### Преобразование данных"
   ]
  },
  {
   "cell_type": "markdown",
   "metadata": {},
   "source": [
    "Заново разделим исходный датасет на выборки:"
   ]
  },
  {
   "cell_type": "code",
   "execution_count": 20,
   "metadata": {},
   "outputs": [],
   "source": [
    "X = df.drop(['Страховые выплаты'], axis=1)\n",
    "y = df['Страховые выплаты']\n",
    "\n",
    "X_train, X_test, y_train, y_test = train_test_split(X, y,\n",
    "                                                    test_size=0.25,\n",
    "                                                    random_state=RANDOM_NUMBER)"
   ]
  },
  {
   "cell_type": "markdown",
   "metadata": {},
   "source": [
    "Зашифруем данные с помощью функции `data_cypher()`:"
   ]
  },
  {
   "cell_type": "code",
   "execution_count": 21,
   "metadata": {},
   "outputs": [],
   "source": [
    "X_train_dot, X_test_dot = data_cypher(X_train, X_test)"
   ]
  },
  {
   "cell_type": "markdown",
   "metadata": {},
   "source": [
    "Изучим то, как выглядят изменённые данные:"
   ]
  },
  {
   "cell_type": "code",
   "execution_count": 22,
   "metadata": {},
   "outputs": [
    {
     "data": {
      "text/html": [
       "<div>\n",
       "<style scoped>\n",
       "    .dataframe tbody tr th:only-of-type {\n",
       "        vertical-align: middle;\n",
       "    }\n",
       "\n",
       "    .dataframe tbody tr th {\n",
       "        vertical-align: top;\n",
       "    }\n",
       "\n",
       "    .dataframe thead th {\n",
       "        text-align: right;\n",
       "    }\n",
       "</style>\n",
       "<table border=\"1\" class=\"dataframe\">\n",
       "  <thead>\n",
       "    <tr style=\"text-align: right;\">\n",
       "      <th></th>\n",
       "      <th>0</th>\n",
       "      <th>1</th>\n",
       "      <th>2</th>\n",
       "      <th>3</th>\n",
       "    </tr>\n",
       "  </thead>\n",
       "  <tbody>\n",
       "    <tr>\n",
       "      <th>4599</th>\n",
       "      <td>149341.700621</td>\n",
       "      <td>280161.953717</td>\n",
       "      <td>278432.421898</td>\n",
       "      <td>334481.128671</td>\n",
       "    </tr>\n",
       "    <tr>\n",
       "      <th>3882</th>\n",
       "      <td>138987.140011</td>\n",
       "      <td>260682.325342</td>\n",
       "      <td>259087.994848</td>\n",
       "      <td>311192.894283</td>\n",
       "    </tr>\n",
       "    <tr>\n",
       "      <th>4705</th>\n",
       "      <td>76773.909693</td>\n",
       "      <td>143980.310557</td>\n",
       "      <td>143101.488314</td>\n",
       "      <td>171872.098449</td>\n",
       "    </tr>\n",
       "    <tr>\n",
       "      <th>1400</th>\n",
       "      <td>106446.854865</td>\n",
       "      <td>199570.624819</td>\n",
       "      <td>198369.845112</td>\n",
       "      <td>238197.390362</td>\n",
       "    </tr>\n",
       "    <tr>\n",
       "      <th>728</th>\n",
       "      <td>89172.289327</td>\n",
       "      <td>167174.719918</td>\n",
       "      <td>166167.254195</td>\n",
       "      <td>199529.648541</td>\n",
       "    </tr>\n",
       "  </tbody>\n",
       "</table>\n",
       "</div>"
      ],
      "text/plain": [
       "                  0              1              2              3\n",
       "4599  149341.700621  280161.953717  278432.421898  334481.128671\n",
       "3882  138987.140011  260682.325342  259087.994848  311192.894283\n",
       "4705   76773.909693  143980.310557  143101.488314  171872.098449\n",
       "1400  106446.854865  199570.624819  198369.845112  238197.390362\n",
       "728    89172.289327  167174.719918  166167.254195  199529.648541"
      ]
     },
     "execution_count": 22,
     "metadata": {},
     "output_type": "execute_result"
    }
   ],
   "source": [
    "X_train_dot.head()"
   ]
  },
  {
   "cell_type": "code",
   "execution_count": 23,
   "metadata": {},
   "outputs": [
    {
     "data": {
      "text/html": [
       "<div>\n",
       "<style scoped>\n",
       "    .dataframe tbody tr th:only-of-type {\n",
       "        vertical-align: middle;\n",
       "    }\n",
       "\n",
       "    .dataframe tbody tr th {\n",
       "        vertical-align: top;\n",
       "    }\n",
       "\n",
       "    .dataframe thead th {\n",
       "        text-align: right;\n",
       "    }\n",
       "</style>\n",
       "<table border=\"1\" class=\"dataframe\">\n",
       "  <thead>\n",
       "    <tr style=\"text-align: right;\">\n",
       "      <th></th>\n",
       "      <th>0</th>\n",
       "      <th>1</th>\n",
       "      <th>2</th>\n",
       "      <th>3</th>\n",
       "    </tr>\n",
       "  </thead>\n",
       "  <tbody>\n",
       "    <tr>\n",
       "      <th>1335</th>\n",
       "      <td>129325.005311</td>\n",
       "      <td>242624.809786</td>\n",
       "      <td>241130.255841</td>\n",
       "      <td>289667.070629</td>\n",
       "    </tr>\n",
       "    <tr>\n",
       "      <th>3875</th>\n",
       "      <td>180559.746727</td>\n",
       "      <td>338747.072191</td>\n",
       "      <td>336660.045100</td>\n",
       "      <td>404427.541196</td>\n",
       "    </tr>\n",
       "    <tr>\n",
       "      <th>166</th>\n",
       "      <td>92979.667798</td>\n",
       "      <td>174346.343706</td>\n",
       "      <td>173285.101730</td>\n",
       "      <td>208108.560142</td>\n",
       "    </tr>\n",
       "    <tr>\n",
       "      <th>3003</th>\n",
       "      <td>53039.525489</td>\n",
       "      <td>99353.947204</td>\n",
       "      <td>98767.794118</td>\n",
       "      <td>118545.023554</td>\n",
       "    </tr>\n",
       "    <tr>\n",
       "      <th>424</th>\n",
       "      <td>75521.362351</td>\n",
       "      <td>141517.806254</td>\n",
       "      <td>140674.926785</td>\n",
       "      <td>168876.933201</td>\n",
       "    </tr>\n",
       "  </tbody>\n",
       "</table>\n",
       "</div>"
      ],
      "text/plain": [
       "                  0              1              2              3\n",
       "1335  129325.005311  242624.809786  241130.255841  289667.070629\n",
       "3875  180559.746727  338747.072191  336660.045100  404427.541196\n",
       "166    92979.667798  174346.343706  173285.101730  208108.560142\n",
       "3003   53039.525489   99353.947204   98767.794118  118545.023554\n",
       "424    75521.362351  141517.806254  140674.926785  168876.933201"
      ]
     },
     "execution_count": 23,
     "metadata": {},
     "output_type": "execute_result"
    }
   ],
   "source": [
    "X_test_dot.head()"
   ]
  },
  {
   "cell_type": "markdown",
   "metadata": {},
   "source": [
    "Выборки преобразованы и обезличены."
   ]
  },
  {
   "cell_type": "markdown",
   "metadata": {},
   "source": [
    "### Верификация алгоритма"
   ]
  },
  {
   "cell_type": "markdown",
   "metadata": {},
   "source": [
    "Проверим метрики локальной модели линейной регрессии на изменённых данных:"
   ]
  },
  {
   "cell_type": "code",
   "execution_count": 24,
   "metadata": {},
   "outputs": [
    {
     "name": "stdout",
     "output_type": "stream",
     "text": [
      "MSE: 0.12\n",
      "R2: 0.423\n"
     ]
    }
   ],
   "source": [
    "LR_local_model = LocalLinearRegression()\n",
    "\n",
    "LR_local_model.fit(X_train_dot, y_train)\n",
    "y_pred = LR_local_model.predict(X_test_dot)\n",
    "\n",
    "# Проверка\n",
    "show_metrics(y_test, y_pred)"
   ]
  },
  {
   "cell_type": "markdown",
   "metadata": {},
   "source": [
    "Проверим метрики модели из библиотеки `scikit-learn` на изменённых данных:"
   ]
  },
  {
   "cell_type": "code",
   "execution_count": 25,
   "metadata": {},
   "outputs": [
    {
     "name": "stdout",
     "output_type": "stream",
     "text": [
      "MSE: 0.12\n",
      "R2: 0.423\n"
     ]
    }
   ],
   "source": [
    "LR_sklearn_model = LinearRegression()\n",
    "\n",
    "LR_sklearn_model.fit(X_train_dot, y_train)\n",
    "y_pred = LR_sklearn_model.predict(X_test_dot)\n",
    "\n",
    "# Проверка\n",
    "show_metrics(y_test, y_pred)"
   ]
  },
  {
   "cell_type": "markdown",
   "metadata": {},
   "source": [
    "Алгоритм прошёл верификацию. Качество предсказаний с помощью линейной регрессии сохранилось как на локальной модели, так и на модели из бибилиотеки `scikit-learn`.\n",
    "\n",
    "Функция `data_cypher()` преобразовала и обезличила данные. Следовательно, задача по разработке алгоритма выполнена."
   ]
  },
  {
   "cell_type": "markdown",
   "metadata": {},
   "source": [
    "# Итоги проекта\n",
    "* В ходе работы были исследованы данные клиентов страховой компании и построено несколько моделей линейной регрессии.\n",
    "* Анализ показал, что при домножении признаков на обратимую матрицу, качество предсказаний модели остаётся неизменным.\n",
    "* В качестве алгоритма шифрования был выбран именно метод домножения за счёт его простоты и эффективности.\n",
    "* Разработана и протестирована функция для преобразования и шифрования обучающей и тестовой выборок. Она прошла проверку как на локальной версии модели линейной регресси, так и на версии из библиотеки `scikit_learn`."
   ]
  }
 ],
 "metadata": {
  "ExecuteTimeLog": [
   {
    "duration": 1056,
    "start_time": "2023-08-19T05:41:33.351Z"
   },
   {
    "duration": 121,
    "start_time": "2023-08-19T05:45:38.146Z"
   },
   {
    "duration": 84,
    "start_time": "2023-08-19T05:46:05.896Z"
   },
   {
    "duration": 34,
    "start_time": "2023-08-19T05:50:29.110Z"
   },
   {
    "duration": 11,
    "start_time": "2023-08-19T05:51:29.795Z"
   },
   {
    "duration": 28,
    "start_time": "2023-08-19T05:51:40.551Z"
   },
   {
    "duration": 9,
    "start_time": "2023-08-19T05:51:41.866Z"
   },
   {
    "duration": 8,
    "start_time": "2023-08-19T05:52:25.652Z"
   },
   {
    "duration": 28,
    "start_time": "2023-08-19T05:52:27.533Z"
   },
   {
    "duration": 8,
    "start_time": "2023-08-19T05:52:29.083Z"
   },
   {
    "duration": 4,
    "start_time": "2023-08-19T05:53:10.074Z"
   },
   {
    "duration": 28,
    "start_time": "2023-08-19T05:53:10.665Z"
   },
   {
    "duration": 8,
    "start_time": "2023-08-19T05:53:12.038Z"
   },
   {
    "duration": 31,
    "start_time": "2023-08-19T05:54:25.861Z"
   },
   {
    "duration": 11,
    "start_time": "2023-08-19T05:54:27.743Z"
   },
   {
    "duration": 16,
    "start_time": "2023-08-19T05:54:35.225Z"
   },
   {
    "duration": 19,
    "start_time": "2023-08-19T05:55:35.099Z"
   },
   {
    "duration": 15,
    "start_time": "2023-08-19T05:56:04.824Z"
   },
   {
    "duration": 8,
    "start_time": "2023-08-19T05:56:18.325Z"
   },
   {
    "duration": 22,
    "start_time": "2023-08-19T05:56:25.845Z"
   },
   {
    "duration": 9,
    "start_time": "2023-08-19T05:56:29.642Z"
   },
   {
    "duration": 7,
    "start_time": "2023-08-19T06:07:06.291Z"
   },
   {
    "duration": 6,
    "start_time": "2023-08-19T06:07:11.073Z"
   },
   {
    "duration": 7,
    "start_time": "2023-08-19T06:07:41.247Z"
   },
   {
    "duration": 7,
    "start_time": "2023-08-19T06:08:31.401Z"
   },
   {
    "duration": 9,
    "start_time": "2023-08-19T06:08:49.920Z"
   },
   {
    "duration": 6,
    "start_time": "2023-08-19T06:08:52.575Z"
   },
   {
    "duration": 10,
    "start_time": "2023-08-19T06:09:14.178Z"
   },
   {
    "duration": 13,
    "start_time": "2023-08-19T06:09:36.124Z"
   },
   {
    "duration": 14,
    "start_time": "2023-08-19T06:11:22.524Z"
   },
   {
    "duration": 12,
    "start_time": "2023-08-19T06:11:26.842Z"
   },
   {
    "duration": 11,
    "start_time": "2023-08-19T06:11:36.886Z"
   },
   {
    "duration": 15,
    "start_time": "2023-08-19T06:11:53.821Z"
   },
   {
    "duration": 16,
    "start_time": "2023-08-19T06:12:21.293Z"
   },
   {
    "duration": 8,
    "start_time": "2023-08-19T06:12:35.717Z"
   },
   {
    "duration": 7,
    "start_time": "2023-08-19T06:12:42.039Z"
   },
   {
    "duration": 7,
    "start_time": "2023-08-19T06:14:29.842Z"
   },
   {
    "duration": 1323,
    "start_time": "2023-08-19T06:18:45.563Z"
   },
   {
    "duration": 5,
    "start_time": "2023-08-19T06:19:15.628Z"
   },
   {
    "duration": 10,
    "start_time": "2023-08-19T06:19:24.804Z"
   },
   {
    "duration": 9,
    "start_time": "2023-08-19T06:21:03.829Z"
   },
   {
    "duration": 515,
    "start_time": "2023-08-19T06:21:07.970Z"
   },
   {
    "duration": 472,
    "start_time": "2023-08-19T06:21:11.571Z"
   },
   {
    "duration": 14,
    "start_time": "2023-08-19T06:25:01.282Z"
   },
   {
    "duration": 12,
    "start_time": "2023-08-19T06:25:03.800Z"
   },
   {
    "duration": 25,
    "start_time": "2023-08-19T06:43:16.144Z"
   },
   {
    "duration": 145,
    "start_time": "2023-08-19T06:43:24.057Z"
   },
   {
    "duration": 158,
    "start_time": "2023-08-19T06:43:47.693Z"
   },
   {
    "duration": 174,
    "start_time": "2023-08-19T06:45:07.090Z"
   },
   {
    "duration": 12,
    "start_time": "2023-08-19T06:45:27.365Z"
   },
   {
    "duration": 154,
    "start_time": "2023-08-19T06:45:36.815Z"
   },
   {
    "duration": 5,
    "start_time": "2023-08-19T07:00:15.332Z"
   },
   {
    "duration": 6,
    "start_time": "2023-08-19T07:02:03.562Z"
   },
   {
    "duration": 16,
    "start_time": "2023-08-19T07:02:53.917Z"
   },
   {
    "duration": 10,
    "start_time": "2023-08-19T07:03:01.703Z"
   },
   {
    "duration": 11,
    "start_time": "2023-08-19T07:03:17.281Z"
   },
   {
    "duration": 13,
    "start_time": "2023-08-19T07:03:34.757Z"
   },
   {
    "duration": 15,
    "start_time": "2023-08-19T07:03:53.193Z"
   },
   {
    "duration": 11,
    "start_time": "2023-08-19T07:04:19.198Z"
   },
   {
    "duration": 8,
    "start_time": "2023-08-19T07:05:06.115Z"
   },
   {
    "duration": 90,
    "start_time": "2023-08-19T07:06:42.954Z"
   },
   {
    "duration": 318,
    "start_time": "2023-08-19T07:10:09.648Z"
   },
   {
    "duration": 96,
    "start_time": "2023-08-19T07:12:01.363Z"
   },
   {
    "duration": 4,
    "start_time": "2023-08-19T07:20:43.786Z"
   },
   {
    "duration": 3,
    "start_time": "2023-08-19T07:25:32.863Z"
   },
   {
    "duration": 4,
    "start_time": "2023-08-19T07:25:41.944Z"
   },
   {
    "duration": 101,
    "start_time": "2023-08-19T07:32:22.123Z"
   },
   {
    "duration": 3,
    "start_time": "2023-08-19T07:34:34.581Z"
   },
   {
    "duration": 5,
    "start_time": "2023-08-19T07:35:30.248Z"
   },
   {
    "duration": 8,
    "start_time": "2023-08-19T07:38:18.240Z"
   },
   {
    "duration": 8,
    "start_time": "2023-08-19T07:38:59.641Z"
   },
   {
    "duration": 11,
    "start_time": "2023-08-19T07:39:05.759Z"
   },
   {
    "duration": 9,
    "start_time": "2023-08-19T07:39:09.474Z"
   },
   {
    "duration": 8,
    "start_time": "2023-08-19T07:39:51.932Z"
   },
   {
    "duration": 135,
    "start_time": "2023-08-19T07:48:48.711Z"
   },
   {
    "duration": 5,
    "start_time": "2023-08-19T07:49:09.613Z"
   },
   {
    "duration": 5,
    "start_time": "2023-08-19T07:49:19.356Z"
   },
   {
    "duration": 7,
    "start_time": "2023-08-19T07:50:59.372Z"
   },
   {
    "duration": 8,
    "start_time": "2023-08-19T07:51:17.194Z"
   },
   {
    "duration": 7,
    "start_time": "2023-08-19T07:51:19.946Z"
   },
   {
    "duration": 7,
    "start_time": "2023-08-19T07:52:50.775Z"
   },
   {
    "duration": 3,
    "start_time": "2023-08-19T07:54:31.039Z"
   },
   {
    "duration": 4,
    "start_time": "2023-08-19T07:57:55.098Z"
   },
   {
    "duration": 4,
    "start_time": "2023-08-19T07:57:57.751Z"
   },
   {
    "duration": 3,
    "start_time": "2023-08-19T07:58:04.142Z"
   },
   {
    "duration": 10,
    "start_time": "2023-08-19T08:02:48.687Z"
   },
   {
    "duration": 15,
    "start_time": "2023-08-19T08:03:06.989Z"
   },
   {
    "duration": 10,
    "start_time": "2023-08-19T08:06:33.749Z"
   },
   {
    "duration": 9,
    "start_time": "2023-08-19T08:15:28.432Z"
   },
   {
    "duration": 81,
    "start_time": "2023-08-19T08:40:34.969Z"
   },
   {
    "duration": 131,
    "start_time": "2023-08-19T08:41:13.624Z"
   },
   {
    "duration": 12,
    "start_time": "2023-08-19T09:14:42.337Z"
   },
   {
    "duration": 16,
    "start_time": "2023-08-19T09:15:11.394Z"
   },
   {
    "duration": 5,
    "start_time": "2023-08-19T09:26:57.638Z"
   },
   {
    "duration": 12,
    "start_time": "2023-08-19T09:27:17.460Z"
   },
   {
    "duration": 4,
    "start_time": "2023-08-19T09:28:13.151Z"
   },
   {
    "duration": 384,
    "start_time": "2023-08-19T09:28:14.011Z"
   },
   {
    "duration": 4,
    "start_time": "2023-08-19T09:28:26.007Z"
   },
   {
    "duration": 15,
    "start_time": "2023-08-19T09:28:26.675Z"
   },
   {
    "duration": 4,
    "start_time": "2023-08-19T09:28:44.013Z"
   },
   {
    "duration": 145,
    "start_time": "2023-08-19T09:28:44.965Z"
   },
   {
    "duration": 3,
    "start_time": "2023-08-19T09:30:53.693Z"
   },
   {
    "duration": 13,
    "start_time": "2023-08-19T09:30:54.445Z"
   },
   {
    "duration": 4,
    "start_time": "2023-08-19T09:30:57.157Z"
   },
   {
    "duration": 12,
    "start_time": "2023-08-19T09:30:59.048Z"
   },
   {
    "duration": 17,
    "start_time": "2023-08-19T09:30:59.547Z"
   },
   {
    "duration": 13,
    "start_time": "2023-08-19T09:31:00.003Z"
   },
   {
    "duration": 13,
    "start_time": "2023-08-19T09:31:00.465Z"
   },
   {
    "duration": 12,
    "start_time": "2023-08-19T09:31:01.050Z"
   },
   {
    "duration": 15,
    "start_time": "2023-08-19T09:31:01.645Z"
   },
   {
    "duration": 12,
    "start_time": "2023-08-19T09:31:02.062Z"
   },
   {
    "duration": 13,
    "start_time": "2023-08-19T09:31:02.557Z"
   },
   {
    "duration": 13,
    "start_time": "2023-08-19T09:31:02.996Z"
   },
   {
    "duration": 16,
    "start_time": "2023-08-19T09:31:03.508Z"
   },
   {
    "duration": 21,
    "start_time": "2023-08-19T09:31:04.036Z"
   },
   {
    "duration": 18,
    "start_time": "2023-08-19T09:31:06.837Z"
   },
   {
    "duration": 15,
    "start_time": "2023-08-19T09:31:07.443Z"
   },
   {
    "duration": 18,
    "start_time": "2023-08-19T09:31:08.521Z"
   },
   {
    "duration": 11,
    "start_time": "2023-08-19T09:31:09.084Z"
   },
   {
    "duration": 12,
    "start_time": "2023-08-19T09:31:09.770Z"
   },
   {
    "duration": 12,
    "start_time": "2023-08-19T09:31:10.299Z"
   },
   {
    "duration": 24,
    "start_time": "2023-08-19T09:31:10.933Z"
   },
   {
    "duration": 12,
    "start_time": "2023-08-19T09:31:11.447Z"
   },
   {
    "duration": 12,
    "start_time": "2023-08-19T09:31:11.962Z"
   },
   {
    "duration": 10,
    "start_time": "2023-08-19T09:32:11.342Z"
   },
   {
    "duration": 11,
    "start_time": "2023-08-19T09:32:53.555Z"
   },
   {
    "duration": 14,
    "start_time": "2023-08-19T09:32:56.551Z"
   },
   {
    "duration": 9,
    "start_time": "2023-08-19T09:32:59.051Z"
   },
   {
    "duration": 5,
    "start_time": "2023-08-19T09:33:43.935Z"
   },
   {
    "duration": 10,
    "start_time": "2023-08-19T09:33:45.384Z"
   },
   {
    "duration": 4,
    "start_time": "2023-08-19T09:34:17.011Z"
   },
   {
    "duration": 10,
    "start_time": "2023-08-19T09:34:29.970Z"
   },
   {
    "duration": 6,
    "start_time": "2023-08-19T09:34:41.647Z"
   },
   {
    "duration": 5,
    "start_time": "2023-08-19T09:34:42.324Z"
   },
   {
    "duration": 9,
    "start_time": "2023-08-19T09:34:43.111Z"
   },
   {
    "duration": 13,
    "start_time": "2023-08-19T09:35:00.280Z"
   },
   {
    "duration": 9,
    "start_time": "2023-08-19T09:35:02.012Z"
   },
   {
    "duration": 10,
    "start_time": "2023-08-19T09:35:03.162Z"
   },
   {
    "duration": 9,
    "start_time": "2023-08-19T09:35:04.105Z"
   },
   {
    "duration": 9,
    "start_time": "2023-08-19T09:35:05.387Z"
   },
   {
    "duration": 4,
    "start_time": "2023-08-19T09:35:06.871Z"
   },
   {
    "duration": 4,
    "start_time": "2023-08-19T09:35:07.264Z"
   },
   {
    "duration": 19,
    "start_time": "2023-08-19T09:35:07.645Z"
   },
   {
    "duration": 4,
    "start_time": "2023-08-19T09:35:09.460Z"
   },
   {
    "duration": 11,
    "start_time": "2023-08-19T09:35:09.953Z"
   },
   {
    "duration": 15,
    "start_time": "2023-08-19T09:35:11.417Z"
   },
   {
    "duration": 10,
    "start_time": "2023-08-19T09:36:19.752Z"
   },
   {
    "duration": 4,
    "start_time": "2023-08-19T09:36:20.201Z"
   },
   {
    "duration": 7,
    "start_time": "2023-08-19T09:36:20.783Z"
   },
   {
    "duration": 17,
    "start_time": "2023-08-19T09:36:22.541Z"
   },
   {
    "duration": 16,
    "start_time": "2023-08-19T09:36:23.644Z"
   },
   {
    "duration": 4,
    "start_time": "2023-08-19T09:36:24.812Z"
   },
   {
    "duration": 12,
    "start_time": "2023-08-19T09:36:25.454Z"
   },
   {
    "duration": 4,
    "start_time": "2023-08-19T09:36:27.874Z"
   },
   {
    "duration": 8,
    "start_time": "2023-08-19T09:36:28.482Z"
   },
   {
    "duration": 15,
    "start_time": "2023-08-19T09:40:20.263Z"
   },
   {
    "duration": 9,
    "start_time": "2023-08-19T09:40:22.424Z"
   },
   {
    "duration": 10,
    "start_time": "2023-08-19T09:40:23.281Z"
   },
   {
    "duration": 7,
    "start_time": "2023-08-19T09:40:27.001Z"
   },
   {
    "duration": 21,
    "start_time": "2023-08-19T09:40:29.310Z"
   },
   {
    "duration": 13,
    "start_time": "2023-08-19T09:40:37.050Z"
   },
   {
    "duration": 5,
    "start_time": "2023-08-19T09:41:13.451Z"
   },
   {
    "duration": 144,
    "start_time": "2023-08-19T09:41:14.358Z"
   },
   {
    "duration": 38,
    "start_time": "2023-08-19T09:41:14.840Z"
   },
   {
    "duration": 4,
    "start_time": "2023-08-19T09:41:31.772Z"
   },
   {
    "duration": 4,
    "start_time": "2023-08-19T09:41:32.672Z"
   },
   {
    "duration": 17,
    "start_time": "2023-08-19T09:41:33.747Z"
   },
   {
    "duration": 12,
    "start_time": "2023-08-19T09:41:35.258Z"
   },
   {
    "duration": 4,
    "start_time": "2023-08-19T09:41:36.407Z"
   },
   {
    "duration": 16,
    "start_time": "2023-08-19T09:41:36.879Z"
   },
   {
    "duration": 5,
    "start_time": "2023-08-19T09:41:38.184Z"
   },
   {
    "duration": 12,
    "start_time": "2023-08-19T09:41:38.639Z"
   },
   {
    "duration": 19,
    "start_time": "2023-08-19T09:42:14.649Z"
   },
   {
    "duration": 4,
    "start_time": "2023-08-19T09:43:01.977Z"
   },
   {
    "duration": 4,
    "start_time": "2023-08-19T09:43:03.708Z"
   },
   {
    "duration": 7,
    "start_time": "2023-08-19T09:43:04.149Z"
   },
   {
    "duration": 10,
    "start_time": "2023-08-19T09:43:04.751Z"
   },
   {
    "duration": 9,
    "start_time": "2023-08-19T09:43:16.176Z"
   },
   {
    "duration": 1511,
    "start_time": "2023-08-19T09:43:28.651Z"
   },
   {
    "duration": 30,
    "start_time": "2023-08-19T09:43:30.167Z"
   },
   {
    "duration": 214,
    "start_time": "2023-08-19T09:43:30.199Z"
   },
   {
    "duration": 255,
    "start_time": "2023-08-19T09:43:30.415Z"
   },
   {
    "duration": 27,
    "start_time": "2023-08-19T09:43:30.672Z"
   },
   {
    "duration": 13,
    "start_time": "2023-08-19T09:43:30.701Z"
   },
   {
    "duration": 43,
    "start_time": "2023-08-19T09:43:30.716Z"
   },
   {
    "duration": 27,
    "start_time": "2023-08-19T09:43:30.760Z"
   },
   {
    "duration": 426,
    "start_time": "2023-08-19T09:43:30.789Z"
   },
   {
    "duration": 153,
    "start_time": "2023-08-19T09:43:31.224Z"
   },
   {
    "duration": 125,
    "start_time": "2023-08-19T09:43:31.379Z"
   },
   {
    "duration": 0,
    "start_time": "2023-08-19T09:43:31.506Z"
   },
   {
    "duration": 0,
    "start_time": "2023-08-19T09:43:31.507Z"
   },
   {
    "duration": 0,
    "start_time": "2023-08-19T09:43:31.509Z"
   },
   {
    "duration": 0,
    "start_time": "2023-08-19T09:43:31.510Z"
   },
   {
    "duration": 0,
    "start_time": "2023-08-19T09:43:31.512Z"
   },
   {
    "duration": 0,
    "start_time": "2023-08-19T09:43:31.528Z"
   },
   {
    "duration": 0,
    "start_time": "2023-08-19T09:43:31.529Z"
   },
   {
    "duration": 0,
    "start_time": "2023-08-19T09:43:31.530Z"
   },
   {
    "duration": 4,
    "start_time": "2023-08-19T09:43:49.792Z"
   },
   {
    "duration": 46,
    "start_time": "2023-08-19T09:43:50.723Z"
   },
   {
    "duration": 38,
    "start_time": "2023-08-19T09:43:52.020Z"
   },
   {
    "duration": 10,
    "start_time": "2023-08-19T09:43:52.861Z"
   },
   {
    "duration": 8,
    "start_time": "2023-08-19T09:43:57.172Z"
   },
   {
    "duration": 7,
    "start_time": "2023-08-19T09:44:03.505Z"
   },
   {
    "duration": 8,
    "start_time": "2023-08-19T09:44:11.009Z"
   },
   {
    "duration": 15,
    "start_time": "2023-08-19T09:44:12.900Z"
   },
   {
    "duration": 419,
    "start_time": "2023-08-19T09:44:14.790Z"
   },
   {
    "duration": 163,
    "start_time": "2023-08-19T09:44:16.792Z"
   },
   {
    "duration": 12,
    "start_time": "2023-08-19T09:44:22.471Z"
   },
   {
    "duration": 15,
    "start_time": "2023-08-19T09:44:35.853Z"
   },
   {
    "duration": 11,
    "start_time": "2023-08-19T09:44:41.476Z"
   },
   {
    "duration": 12,
    "start_time": "2023-08-19T09:44:50.047Z"
   },
   {
    "duration": 12,
    "start_time": "2023-08-19T09:44:53.953Z"
   },
   {
    "duration": 17,
    "start_time": "2023-08-19T09:44:56.050Z"
   },
   {
    "duration": 26,
    "start_time": "2023-08-19T09:44:57.539Z"
   },
   {
    "duration": 8,
    "start_time": "2023-08-19T09:44:59.273Z"
   },
   {
    "duration": 11,
    "start_time": "2023-08-19T09:45:06.729Z"
   },
   {
    "duration": 8,
    "start_time": "2023-08-19T09:45:07.821Z"
   },
   {
    "duration": 12,
    "start_time": "2023-08-19T09:45:09.854Z"
   },
   {
    "duration": 28,
    "start_time": "2023-08-19T09:45:21.157Z"
   },
   {
    "duration": 9,
    "start_time": "2023-08-19T09:45:27.109Z"
   },
   {
    "duration": 7,
    "start_time": "2023-08-19T09:45:48.261Z"
   },
   {
    "duration": 11,
    "start_time": "2023-08-19T09:45:48.958Z"
   },
   {
    "duration": 7,
    "start_time": "2023-08-19T09:45:50.851Z"
   },
   {
    "duration": 11,
    "start_time": "2023-08-19T09:45:51.384Z"
   },
   {
    "duration": 6,
    "start_time": "2023-08-19T09:45:53.249Z"
   },
   {
    "duration": 15,
    "start_time": "2023-08-19T09:45:53.648Z"
   },
   {
    "duration": 11,
    "start_time": "2023-08-19T09:45:55.570Z"
   },
   {
    "duration": 5,
    "start_time": "2023-08-19T09:45:56.897Z"
   },
   {
    "duration": 10,
    "start_time": "2023-08-19T09:45:57.594Z"
   },
   {
    "duration": 1532,
    "start_time": "2023-08-20T06:41:17.133Z"
   },
   {
    "duration": 77,
    "start_time": "2023-08-20T06:41:18.667Z"
   },
   {
    "duration": 21,
    "start_time": "2023-08-20T06:41:18.882Z"
   },
   {
    "duration": 9,
    "start_time": "2023-08-20T06:41:19.464Z"
   },
   {
    "duration": 6,
    "start_time": "2023-08-20T06:41:20.733Z"
   },
   {
    "duration": 6,
    "start_time": "2023-08-20T06:41:22.071Z"
   },
   {
    "duration": 8,
    "start_time": "2023-08-20T06:41:23.697Z"
   },
   {
    "duration": 13,
    "start_time": "2023-08-20T06:41:24.727Z"
   },
   {
    "duration": 439,
    "start_time": "2023-08-20T06:41:26.438Z"
   },
   {
    "duration": 119,
    "start_time": "2023-08-20T06:41:27.562Z"
   },
   {
    "duration": 9,
    "start_time": "2023-08-20T06:41:40.973Z"
   },
   {
    "duration": 6,
    "start_time": "2023-08-20T06:42:14.884Z"
   },
   {
    "duration": 3,
    "start_time": "2023-08-20T06:47:10.244Z"
   },
   {
    "duration": 3,
    "start_time": "2023-08-20T06:47:11.031Z"
   },
   {
    "duration": 9,
    "start_time": "2023-08-20T06:47:11.821Z"
   },
   {
    "duration": 4,
    "start_time": "2023-08-20T06:47:13.439Z"
   },
   {
    "duration": 10,
    "start_time": "2023-08-20T06:47:13.933Z"
   },
   {
    "duration": 3,
    "start_time": "2023-08-20T06:48:07.711Z"
   },
   {
    "duration": 117,
    "start_time": "2023-08-20T06:48:09.263Z"
   },
   {
    "duration": 3,
    "start_time": "2023-08-20T06:48:43.542Z"
   },
   {
    "duration": 4,
    "start_time": "2023-08-20T06:49:21.114Z"
   },
   {
    "duration": 5,
    "start_time": "2023-08-20T06:49:37.171Z"
   },
   {
    "duration": 13,
    "start_time": "2023-08-20T06:49:38.093Z"
   },
   {
    "duration": 7,
    "start_time": "2023-08-20T06:49:58.709Z"
   },
   {
    "duration": 15,
    "start_time": "2023-08-20T06:50:00.897Z"
   },
   {
    "duration": 4,
    "start_time": "2023-08-20T06:50:33.467Z"
   },
   {
    "duration": 8,
    "start_time": "2023-08-20T06:50:35.559Z"
   },
   {
    "duration": 7,
    "start_time": "2023-08-20T06:50:42.737Z"
   },
   {
    "duration": 4,
    "start_time": "2023-08-20T06:50:58.183Z"
   },
   {
    "duration": 7,
    "start_time": "2023-08-20T06:50:59.568Z"
   },
   {
    "duration": 7,
    "start_time": "2023-08-20T06:51:02.380Z"
   },
   {
    "duration": 14,
    "start_time": "2023-08-20T06:51:03.020Z"
   },
   {
    "duration": 7,
    "start_time": "2023-08-20T06:51:03.979Z"
   },
   {
    "duration": 4,
    "start_time": "2023-08-20T06:51:08.862Z"
   },
   {
    "duration": 4,
    "start_time": "2023-08-20T06:52:28.199Z"
   },
   {
    "duration": 12,
    "start_time": "2023-08-20T06:52:31.280Z"
   },
   {
    "duration": 4,
    "start_time": "2023-08-20T06:52:45.409Z"
   },
   {
    "duration": 2429,
    "start_time": "2023-08-20T06:52:47.614Z"
   },
   {
    "duration": 8,
    "start_time": "2023-08-20T06:52:56.096Z"
   },
   {
    "duration": 2523,
    "start_time": "2023-08-20T06:53:06.516Z"
   },
   {
    "duration": 8,
    "start_time": "2023-08-20T06:53:35.339Z"
   },
   {
    "duration": 4,
    "start_time": "2023-08-20T06:53:46.432Z"
   },
   {
    "duration": 7,
    "start_time": "2023-08-20T06:53:48.054Z"
   },
   {
    "duration": 6,
    "start_time": "2023-08-20T06:53:48.861Z"
   },
   {
    "duration": 14,
    "start_time": "2023-08-20T06:53:51.000Z"
   },
   {
    "duration": 7,
    "start_time": "2023-08-20T06:53:56.017Z"
   },
   {
    "duration": 5,
    "start_time": "2023-08-20T06:54:30.691Z"
   },
   {
    "duration": 2702,
    "start_time": "2023-08-20T06:54:31.636Z"
   },
   {
    "duration": 4,
    "start_time": "2023-08-20T06:55:44.897Z"
   },
   {
    "duration": 3,
    "start_time": "2023-08-20T06:55:45.570Z"
   },
   {
    "duration": 7,
    "start_time": "2023-08-20T06:55:47.032Z"
   },
   {
    "duration": 5,
    "start_time": "2023-08-20T06:55:48.946Z"
   },
   {
    "duration": 6,
    "start_time": "2023-08-20T06:55:50.207Z"
   },
   {
    "duration": 7,
    "start_time": "2023-08-20T06:55:51.917Z"
   },
   {
    "duration": 4,
    "start_time": "2023-08-20T06:55:57.550Z"
   },
   {
    "duration": 4,
    "start_time": "2023-08-20T06:55:57.946Z"
   },
   {
    "duration": 7,
    "start_time": "2023-08-20T06:55:58.553Z"
   },
   {
    "duration": 4,
    "start_time": "2023-08-20T06:56:05.192Z"
   },
   {
    "duration": 7,
    "start_time": "2023-08-20T06:56:05.665Z"
   },
   {
    "duration": 22,
    "start_time": "2023-08-20T06:57:06.239Z"
   },
   {
    "duration": 5,
    "start_time": "2023-08-20T06:57:09.216Z"
   },
   {
    "duration": 4,
    "start_time": "2023-08-20T06:57:09.699Z"
   },
   {
    "duration": 7,
    "start_time": "2023-08-20T06:57:10.286Z"
   },
   {
    "duration": 8,
    "start_time": "2023-08-20T06:57:59.449Z"
   },
   {
    "duration": 7,
    "start_time": "2023-08-20T06:58:53.608Z"
   },
   {
    "duration": 7,
    "start_time": "2023-08-20T06:58:55.683Z"
   },
   {
    "duration": 14,
    "start_time": "2023-08-20T06:58:56.690Z"
   },
   {
    "duration": 7,
    "start_time": "2023-08-20T06:58:57.995Z"
   },
   {
    "duration": 4,
    "start_time": "2023-08-20T06:59:05.106Z"
   },
   {
    "duration": 8,
    "start_time": "2023-08-20T06:59:48.897Z"
   },
   {
    "duration": 3,
    "start_time": "2023-08-20T06:59:49.949Z"
   },
   {
    "duration": 6,
    "start_time": "2023-08-20T06:59:50.511Z"
   },
   {
    "duration": 12,
    "start_time": "2023-08-20T07:00:33.058Z"
   },
   {
    "duration": 12,
    "start_time": "2023-08-20T07:01:32.751Z"
   },
   {
    "duration": 4,
    "start_time": "2023-08-20T07:01:35.385Z"
   },
   {
    "duration": 10,
    "start_time": "2023-08-20T07:01:35.902Z"
   },
   {
    "duration": 7,
    "start_time": "2023-08-20T07:02:08.978Z"
   },
   {
    "duration": 4,
    "start_time": "2023-08-20T07:02:11.116Z"
   },
   {
    "duration": 10,
    "start_time": "2023-08-20T07:02:11.497Z"
   },
   {
    "duration": 4,
    "start_time": "2023-08-20T07:02:12.336Z"
   },
   {
    "duration": 13,
    "start_time": "2023-08-20T07:02:14.062Z"
   },
   {
    "duration": 4,
    "start_time": "2023-08-20T07:02:40.996Z"
   },
   {
    "duration": 7,
    "start_time": "2023-08-20T07:02:41.671Z"
   },
   {
    "duration": 4,
    "start_time": "2023-08-20T07:02:42.551Z"
   },
   {
    "duration": 9,
    "start_time": "2023-08-20T07:02:43.258Z"
   },
   {
    "duration": 16,
    "start_time": "2023-08-20T07:03:07.636Z"
   },
   {
    "duration": 4,
    "start_time": "2023-08-20T07:03:15.198Z"
   },
   {
    "duration": 8,
    "start_time": "2023-08-20T07:03:23.689Z"
   },
   {
    "duration": 10,
    "start_time": "2023-08-20T07:03:32.027Z"
   },
   {
    "duration": 8,
    "start_time": "2023-08-20T07:03:54.200Z"
   },
   {
    "duration": 5,
    "start_time": "2023-08-20T07:03:57.631Z"
   },
   {
    "duration": 11,
    "start_time": "2023-08-20T07:04:01.885Z"
   },
   {
    "duration": 12,
    "start_time": "2023-08-20T07:04:31.271Z"
   },
   {
    "duration": 3,
    "start_time": "2023-08-20T07:04:34.939Z"
   },
   {
    "duration": 12,
    "start_time": "2023-08-20T07:04:36.021Z"
   },
   {
    "duration": 4,
    "start_time": "2023-08-20T07:05:04.364Z"
   },
   {
    "duration": 13,
    "start_time": "2023-08-20T07:05:39.537Z"
   },
   {
    "duration": 16,
    "start_time": "2023-08-20T07:06:23.954Z"
   },
   {
    "duration": 7,
    "start_time": "2023-08-20T07:06:31.656Z"
   },
   {
    "duration": 5,
    "start_time": "2023-08-20T07:06:36.643Z"
   },
   {
    "duration": 9,
    "start_time": "2023-08-20T07:06:38.062Z"
   },
   {
    "duration": 16,
    "start_time": "2023-08-20T07:06:42.718Z"
   },
   {
    "duration": 13,
    "start_time": "2023-08-20T07:06:52.035Z"
   },
   {
    "duration": 8,
    "start_time": "2023-08-20T07:06:54.851Z"
   },
   {
    "duration": 10,
    "start_time": "2023-08-20T07:07:10.518Z"
   },
   {
    "duration": 8,
    "start_time": "2023-08-20T07:07:12.734Z"
   },
   {
    "duration": 14,
    "start_time": "2023-08-20T07:08:06.713Z"
   },
   {
    "duration": 8,
    "start_time": "2023-08-20T07:08:08.716Z"
   },
   {
    "duration": 7,
    "start_time": "2023-08-20T07:08:21.675Z"
   },
   {
    "duration": 14,
    "start_time": "2023-08-20T07:10:14.835Z"
   },
   {
    "duration": 8,
    "start_time": "2023-08-20T07:10:15.910Z"
   },
   {
    "duration": 4,
    "start_time": "2023-08-20T07:10:23.225Z"
   },
   {
    "duration": 9,
    "start_time": "2023-08-20T07:10:26.104Z"
   },
   {
    "duration": 12,
    "start_time": "2023-08-20T07:10:27.386Z"
   },
   {
    "duration": 13,
    "start_time": "2023-08-20T07:10:30.421Z"
   },
   {
    "duration": 5,
    "start_time": "2023-08-20T07:11:09.394Z"
   },
   {
    "duration": 9,
    "start_time": "2023-08-20T07:11:09.843Z"
   },
   {
    "duration": 10,
    "start_time": "2023-08-20T07:11:10.586Z"
   },
   {
    "duration": 13,
    "start_time": "2023-08-20T07:11:11.735Z"
   },
   {
    "duration": 6,
    "start_time": "2023-08-20T07:11:24.424Z"
   },
   {
    "duration": 10,
    "start_time": "2023-08-20T07:11:25.818Z"
   },
   {
    "duration": 3,
    "start_time": "2023-08-20T07:11:38.263Z"
   },
   {
    "duration": 8,
    "start_time": "2023-08-20T07:11:41.030Z"
   },
   {
    "duration": 9,
    "start_time": "2023-08-20T07:11:41.547Z"
   },
   {
    "duration": 3,
    "start_time": "2023-08-20T07:11:44.315Z"
   },
   {
    "duration": 13,
    "start_time": "2023-08-20T07:11:45.328Z"
   },
   {
    "duration": 99,
    "start_time": "2023-08-20T07:12:45.899Z"
   },
   {
    "duration": 3,
    "start_time": "2023-08-20T07:13:02.617Z"
   },
   {
    "duration": 8,
    "start_time": "2023-08-20T07:13:03.358Z"
   },
   {
    "duration": 8,
    "start_time": "2023-08-20T07:13:03.877Z"
   },
   {
    "duration": 4,
    "start_time": "2023-08-20T07:13:05.012Z"
   },
   {
    "duration": 13,
    "start_time": "2023-08-20T07:13:05.543Z"
   },
   {
    "duration": 4,
    "start_time": "2023-08-20T07:13:26.881Z"
   },
   {
    "duration": 14,
    "start_time": "2023-08-20T07:13:27.549Z"
   },
   {
    "duration": 11,
    "start_time": "2023-08-20T07:13:32.633Z"
   },
   {
    "duration": 14,
    "start_time": "2023-08-20T07:13:41.993Z"
   },
   {
    "duration": 4,
    "start_time": "2023-08-20T07:14:42.201Z"
   },
   {
    "duration": 6,
    "start_time": "2023-08-20T07:15:53.688Z"
   },
   {
    "duration": 12,
    "start_time": "2023-08-20T07:15:54.565Z"
   },
   {
    "duration": 12,
    "start_time": "2023-08-20T07:15:54.883Z"
   },
   {
    "duration": 5,
    "start_time": "2023-08-20T07:15:56.771Z"
   },
   {
    "duration": 4,
    "start_time": "2023-08-20T07:16:28.123Z"
   },
   {
    "duration": 11,
    "start_time": "2023-08-20T07:16:29.082Z"
   },
   {
    "duration": 11,
    "start_time": "2023-08-20T07:16:29.416Z"
   },
   {
    "duration": 6,
    "start_time": "2023-08-20T07:16:30.679Z"
   },
   {
    "duration": 6,
    "start_time": "2023-08-20T07:16:52.775Z"
   },
   {
    "duration": 10,
    "start_time": "2023-08-20T07:17:02.899Z"
   },
   {
    "duration": 10,
    "start_time": "2023-08-20T07:17:03.755Z"
   },
   {
    "duration": 8,
    "start_time": "2023-08-20T07:17:04.904Z"
   },
   {
    "duration": 11,
    "start_time": "2023-08-20T07:17:05.419Z"
   },
   {
    "duration": 7,
    "start_time": "2023-08-20T07:17:05.847Z"
   },
   {
    "duration": 12,
    "start_time": "2023-08-20T07:17:06.771Z"
   },
   {
    "duration": 4,
    "start_time": "2023-08-20T07:18:42.242Z"
   },
   {
    "duration": 10,
    "start_time": "2023-08-20T07:18:43.514Z"
   },
   {
    "duration": 11,
    "start_time": "2023-08-20T07:18:44.211Z"
   },
   {
    "duration": 3,
    "start_time": "2023-08-20T07:18:45.542Z"
   },
   {
    "duration": 14,
    "start_time": "2023-08-20T07:18:46.044Z"
   },
   {
    "duration": 7,
    "start_time": "2023-08-20T07:18:46.673Z"
   },
   {
    "duration": 4,
    "start_time": "2023-08-20T07:19:41.710Z"
   },
   {
    "duration": 18,
    "start_time": "2023-08-20T07:19:42.158Z"
   },
   {
    "duration": 4,
    "start_time": "2023-08-20T07:19:43.847Z"
   },
   {
    "duration": 12,
    "start_time": "2023-08-20T07:19:44.230Z"
   },
   {
    "duration": 14,
    "start_time": "2023-08-20T07:19:45.240Z"
   },
   {
    "duration": 5,
    "start_time": "2023-08-20T07:21:14.052Z"
   },
   {
    "duration": 19,
    "start_time": "2023-08-20T07:21:14.524Z"
   },
   {
    "duration": 5,
    "start_time": "2023-08-20T07:21:20.644Z"
   },
   {
    "duration": 6,
    "start_time": "2023-08-20T07:21:21.003Z"
   },
   {
    "duration": 11,
    "start_time": "2023-08-20T07:21:22.193Z"
   },
   {
    "duration": 7,
    "start_time": "2023-08-20T07:21:22.869Z"
   },
   {
    "duration": 10,
    "start_time": "2023-08-20T07:23:16.343Z"
   },
   {
    "duration": 4,
    "start_time": "2023-08-20T07:23:16.880Z"
   },
   {
    "duration": 12,
    "start_time": "2023-08-20T07:23:18.276Z"
   },
   {
    "duration": 6,
    "start_time": "2023-08-20T07:26:57.139Z"
   },
   {
    "duration": 10,
    "start_time": "2023-08-20T07:31:19.191Z"
   },
   {
    "duration": 10,
    "start_time": "2023-08-20T07:31:42.107Z"
   },
   {
    "duration": 11,
    "start_time": "2023-08-20T07:31:57.924Z"
   },
   {
    "duration": 12,
    "start_time": "2023-08-20T07:32:10.728Z"
   },
   {
    "duration": 5,
    "start_time": "2023-08-20T07:32:31.448Z"
   },
   {
    "duration": 15,
    "start_time": "2023-08-20T07:32:44.456Z"
   },
   {
    "duration": 5,
    "start_time": "2023-08-20T07:33:05.360Z"
   },
   {
    "duration": 8,
    "start_time": "2023-08-20T07:33:29.072Z"
   },
   {
    "duration": 10,
    "start_time": "2023-08-20T07:33:32.966Z"
   },
   {
    "duration": 7,
    "start_time": "2023-08-20T07:36:45.553Z"
   },
   {
    "duration": 9,
    "start_time": "2023-08-20T07:37:00.357Z"
   },
   {
    "duration": 11,
    "start_time": "2023-08-20T07:37:11.655Z"
   },
   {
    "duration": 13,
    "start_time": "2023-08-20T07:39:58.512Z"
   },
   {
    "duration": 11,
    "start_time": "2023-08-20T07:40:01.753Z"
   },
   {
    "duration": 30,
    "start_time": "2023-08-20T07:40:15.207Z"
   },
   {
    "duration": 14,
    "start_time": "2023-08-20T07:40:15.971Z"
   },
   {
    "duration": 10,
    "start_time": "2023-08-20T07:40:16.694Z"
   },
   {
    "duration": 15,
    "start_time": "2023-08-20T07:40:19.148Z"
   },
   {
    "duration": 7,
    "start_time": "2023-08-20T07:41:08.161Z"
   },
   {
    "duration": 6,
    "start_time": "2023-08-20T07:41:09.388Z"
   },
   {
    "duration": 8,
    "start_time": "2023-08-20T07:41:19.918Z"
   },
   {
    "duration": 18,
    "start_time": "2023-08-20T07:41:27.623Z"
   },
   {
    "duration": 442,
    "start_time": "2023-08-20T07:41:33.024Z"
   },
   {
    "duration": 135,
    "start_time": "2023-08-20T07:41:34.182Z"
   },
   {
    "duration": 14,
    "start_time": "2023-08-20T07:41:55.044Z"
   },
   {
    "duration": 4,
    "start_time": "2023-08-20T07:45:49.496Z"
   },
   {
    "duration": 77,
    "start_time": "2023-08-20T07:57:31.283Z"
   },
   {
    "duration": 4,
    "start_time": "2023-08-20T07:57:48.318Z"
   },
   {
    "duration": 5,
    "start_time": "2023-08-20T07:58:17.462Z"
   },
   {
    "duration": 37,
    "start_time": "2023-08-20T07:59:22.442Z"
   },
   {
    "duration": 7,
    "start_time": "2023-08-20T07:59:38.416Z"
   },
   {
    "duration": 23,
    "start_time": "2023-08-20T08:00:06.451Z"
   },
   {
    "duration": 17,
    "start_time": "2023-08-20T08:00:11.128Z"
   },
   {
    "duration": 7,
    "start_time": "2023-08-20T08:07:16.318Z"
   },
   {
    "duration": 21,
    "start_time": "2023-08-20T08:07:30.544Z"
   },
   {
    "duration": 12,
    "start_time": "2023-08-20T08:07:36.753Z"
   },
   {
    "duration": 3,
    "start_time": "2023-08-20T08:09:45.765Z"
   },
   {
    "duration": 11,
    "start_time": "2023-08-20T08:09:47.162Z"
   },
   {
    "duration": 9,
    "start_time": "2023-08-20T08:09:47.747Z"
   },
   {
    "duration": 8,
    "start_time": "2023-08-20T08:09:59.050Z"
   },
   {
    "duration": 9,
    "start_time": "2023-08-20T08:10:44.381Z"
   },
   {
    "duration": 3,
    "start_time": "2023-08-20T08:10:51.401Z"
   },
   {
    "duration": 10,
    "start_time": "2023-08-20T08:10:52.323Z"
   },
   {
    "duration": 8,
    "start_time": "2023-08-20T08:10:53.008Z"
   },
   {
    "duration": 7,
    "start_time": "2023-08-20T08:10:55.651Z"
   },
   {
    "duration": 9,
    "start_time": "2023-08-20T08:10:57.205Z"
   },
   {
    "duration": 1409,
    "start_time": "2023-08-20T08:11:08.950Z"
   },
   {
    "duration": 30,
    "start_time": "2023-08-20T08:11:10.361Z"
   },
   {
    "duration": 12,
    "start_time": "2023-08-20T08:11:10.393Z"
   },
   {
    "duration": 16,
    "start_time": "2023-08-20T08:11:10.406Z"
   },
   {
    "duration": 16,
    "start_time": "2023-08-20T08:11:10.425Z"
   },
   {
    "duration": 7,
    "start_time": "2023-08-20T08:11:10.443Z"
   },
   {
    "duration": 7,
    "start_time": "2023-08-20T08:11:10.451Z"
   },
   {
    "duration": 10,
    "start_time": "2023-08-20T08:11:10.459Z"
   },
   {
    "duration": 13,
    "start_time": "2023-08-20T08:11:10.471Z"
   },
   {
    "duration": 407,
    "start_time": "2023-08-20T08:11:10.485Z"
   },
   {
    "duration": 158,
    "start_time": "2023-08-20T08:11:10.894Z"
   },
   {
    "duration": 9,
    "start_time": "2023-08-20T08:11:11.054Z"
   },
   {
    "duration": 23,
    "start_time": "2023-08-20T08:11:11.065Z"
   },
   {
    "duration": 6,
    "start_time": "2023-08-20T08:11:11.092Z"
   },
   {
    "duration": 28,
    "start_time": "2023-08-20T08:11:11.100Z"
   },
   {
    "duration": 8,
    "start_time": "2023-08-20T08:11:11.135Z"
   },
   {
    "duration": 189,
    "start_time": "2023-08-20T08:11:11.146Z"
   },
   {
    "duration": 9,
    "start_time": "2023-08-20T08:11:11.337Z"
   },
   {
    "duration": 7,
    "start_time": "2023-08-20T08:11:11.348Z"
   },
   {
    "duration": 7,
    "start_time": "2023-08-20T08:11:11.439Z"
   },
   {
    "duration": 87,
    "start_time": "2023-08-20T08:11:11.449Z"
   },
   {
    "duration": 10,
    "start_time": "2023-08-20T08:11:11.538Z"
   },
   {
    "duration": 8,
    "start_time": "2023-08-20T08:11:11.550Z"
   },
   {
    "duration": 80,
    "start_time": "2023-08-20T08:11:11.561Z"
   },
   {
    "duration": 9,
    "start_time": "2023-08-20T08:11:49.093Z"
   },
   {
    "duration": 4,
    "start_time": "2023-08-20T08:11:50.350Z"
   },
   {
    "duration": 12,
    "start_time": "2023-08-20T08:11:51.422Z"
   },
   {
    "duration": 10,
    "start_time": "2023-08-20T08:11:51.972Z"
   },
   {
    "duration": 22,
    "start_time": "2023-08-20T08:11:54.033Z"
   },
   {
    "duration": 10,
    "start_time": "2023-08-20T08:12:10.021Z"
   },
   {
    "duration": 9,
    "start_time": "2023-08-20T08:12:31.953Z"
   },
   {
    "duration": 9,
    "start_time": "2023-08-20T08:12:42.757Z"
   },
   {
    "duration": 5,
    "start_time": "2023-08-20T08:12:53.423Z"
   },
   {
    "duration": 4,
    "start_time": "2023-08-20T08:13:01.216Z"
   },
   {
    "duration": 9,
    "start_time": "2023-08-20T08:13:03.815Z"
   },
   {
    "duration": 8,
    "start_time": "2023-08-20T08:13:06.631Z"
   },
   {
    "duration": 22,
    "start_time": "2023-08-20T08:13:11.917Z"
   },
   {
    "duration": 8,
    "start_time": "2023-08-20T08:13:37.319Z"
   },
   {
    "duration": 9,
    "start_time": "2023-08-20T08:14:11.643Z"
   },
   {
    "duration": 8,
    "start_time": "2023-08-20T08:14:15.954Z"
   },
   {
    "duration": 21,
    "start_time": "2023-08-20T08:14:22.045Z"
   },
   {
    "duration": 8,
    "start_time": "2023-08-20T08:14:23.426Z"
   },
   {
    "duration": 4,
    "start_time": "2023-08-20T08:14:27.972Z"
   },
   {
    "duration": 9,
    "start_time": "2023-08-20T08:14:29.160Z"
   },
   {
    "duration": 7,
    "start_time": "2023-08-20T08:14:30.375Z"
   },
   {
    "duration": 5,
    "start_time": "2023-08-20T08:14:31.322Z"
   },
   {
    "duration": 3,
    "start_time": "2023-08-20T08:14:36.112Z"
   },
   {
    "duration": 10,
    "start_time": "2023-08-20T08:14:38.385Z"
   },
   {
    "duration": 12,
    "start_time": "2023-08-20T08:14:40.772Z"
   },
   {
    "duration": 9,
    "start_time": "2023-08-20T08:14:46.937Z"
   },
   {
    "duration": 28,
    "start_time": "2023-08-20T08:16:14.778Z"
   },
   {
    "duration": 14,
    "start_time": "2023-08-20T08:16:19.369Z"
   },
   {
    "duration": 9,
    "start_time": "2023-08-20T08:16:20.829Z"
   },
   {
    "duration": 10,
    "start_time": "2023-08-20T08:16:21.549Z"
   },
   {
    "duration": 7,
    "start_time": "2023-08-20T08:16:23.327Z"
   },
   {
    "duration": 6,
    "start_time": "2023-08-20T08:16:24.205Z"
   },
   {
    "duration": 9,
    "start_time": "2023-08-20T08:16:24.902Z"
   },
   {
    "duration": 13,
    "start_time": "2023-08-20T08:16:26.407Z"
   },
   {
    "duration": 375,
    "start_time": "2023-08-20T08:16:28.333Z"
   },
   {
    "duration": 184,
    "start_time": "2023-08-20T08:16:29.957Z"
   },
   {
    "duration": 10,
    "start_time": "2023-08-20T08:16:51.689Z"
   },
   {
    "duration": 3,
    "start_time": "2023-08-20T08:16:54.175Z"
   },
   {
    "duration": 5,
    "start_time": "2023-08-20T08:17:09.633Z"
   },
   {
    "duration": 18,
    "start_time": "2023-08-20T08:17:15.844Z"
   },
   {
    "duration": 6,
    "start_time": "2023-08-20T08:17:23.246Z"
   },
   {
    "duration": 17,
    "start_time": "2023-08-20T08:17:33.841Z"
   },
   {
    "duration": 8,
    "start_time": "2023-08-20T08:17:37.961Z"
   },
   {
    "duration": 4,
    "start_time": "2023-08-20T08:17:50.022Z"
   },
   {
    "duration": 9,
    "start_time": "2023-08-20T08:17:51.530Z"
   },
   {
    "duration": 7,
    "start_time": "2023-08-20T08:17:52.407Z"
   },
   {
    "duration": 6,
    "start_time": "2023-08-20T08:18:07.280Z"
   },
   {
    "duration": 4,
    "start_time": "2023-08-20T08:18:08.856Z"
   },
   {
    "duration": 8,
    "start_time": "2023-08-20T08:18:12.185Z"
   },
   {
    "duration": 8,
    "start_time": "2023-08-20T08:18:12.679Z"
   },
   {
    "duration": 6,
    "start_time": "2023-08-20T08:18:16.977Z"
   },
   {
    "duration": 8,
    "start_time": "2023-08-20T08:18:18.214Z"
   },
   {
    "duration": 1575,
    "start_time": "2023-08-20T15:35:18.710Z"
   },
   {
    "duration": 4,
    "start_time": "2023-08-20T15:35:23.297Z"
   },
   {
    "duration": 131,
    "start_time": "2023-08-20T15:35:24.642Z"
   },
   {
    "duration": 13,
    "start_time": "2023-08-20T15:35:25.971Z"
   },
   {
    "duration": 19,
    "start_time": "2023-08-20T15:35:29.242Z"
   },
   {
    "duration": 14,
    "start_time": "2023-08-20T15:35:31.236Z"
   },
   {
    "duration": 164,
    "start_time": "2023-08-20T15:37:34.756Z"
   },
   {
    "duration": 9,
    "start_time": "2023-08-20T15:37:35.975Z"
   },
   {
    "duration": 12,
    "start_time": "2023-08-20T15:37:42.221Z"
   },
   {
    "duration": 10,
    "start_time": "2023-08-20T15:37:42.439Z"
   },
   {
    "duration": 11,
    "start_time": "2023-08-20T15:37:42.755Z"
   },
   {
    "duration": 10,
    "start_time": "2023-08-20T15:37:43.892Z"
   },
   {
    "duration": 6,
    "start_time": "2023-08-20T15:37:44.476Z"
   },
   {
    "duration": 8,
    "start_time": "2023-08-20T15:37:45.287Z"
   },
   {
    "duration": 14,
    "start_time": "2023-08-20T15:37:46.606Z"
   },
   {
    "duration": 441,
    "start_time": "2023-08-20T15:37:48.956Z"
   },
   {
    "duration": 144,
    "start_time": "2023-08-20T15:37:50.147Z"
   },
   {
    "duration": 10,
    "start_time": "2023-08-20T15:37:52.861Z"
   },
   {
    "duration": 3,
    "start_time": "2023-08-20T15:38:13.282Z"
   },
   {
    "duration": 5,
    "start_time": "2023-08-20T15:38:25.464Z"
   },
   {
    "duration": 7,
    "start_time": "2023-08-20T15:38:28.872Z"
   },
   {
    "duration": 7,
    "start_time": "2023-08-20T15:38:33.459Z"
   },
   {
    "duration": 18,
    "start_time": "2023-08-20T15:38:36.634Z"
   },
   {
    "duration": 12,
    "start_time": "2023-08-20T15:38:38.843Z"
   },
   {
    "duration": 6,
    "start_time": "2023-08-20T15:41:05.762Z"
   },
   {
    "duration": 9,
    "start_time": "2023-08-20T15:41:09.882Z"
   },
   {
    "duration": 8,
    "start_time": "2023-08-20T15:41:35.799Z"
   },
   {
    "duration": 8,
    "start_time": "2023-08-20T15:41:36.295Z"
   },
   {
    "duration": 5,
    "start_time": "2023-08-20T15:41:37.143Z"
   },
   {
    "duration": 4,
    "start_time": "2023-08-20T15:41:50.795Z"
   },
   {
    "duration": 12,
    "start_time": "2023-08-20T15:41:53.180Z"
   },
   {
    "duration": 9,
    "start_time": "2023-08-20T15:41:53.757Z"
   },
   {
    "duration": 8,
    "start_time": "2023-08-20T15:41:59.549Z"
   },
   {
    "duration": 8,
    "start_time": "2023-08-20T15:42:39.041Z"
   },
   {
    "duration": 13,
    "start_time": "2023-08-20T15:42:45.420Z"
   },
   {
    "duration": 7,
    "start_time": "2023-08-20T15:43:31.909Z"
   },
   {
    "duration": 6,
    "start_time": "2023-08-20T15:43:44.463Z"
   },
   {
    "duration": 4,
    "start_time": "2023-08-20T15:43:54.229Z"
   },
   {
    "duration": 9,
    "start_time": "2023-08-20T15:43:54.743Z"
   },
   {
    "duration": 10,
    "start_time": "2023-08-20T15:43:55.286Z"
   },
   {
    "duration": 7,
    "start_time": "2023-08-20T15:43:57.311Z"
   },
   {
    "duration": 12,
    "start_time": "2023-08-20T15:43:58.708Z"
   },
   {
    "duration": 4,
    "start_time": "2023-08-20T16:03:39.403Z"
   },
   {
    "duration": 30,
    "start_time": "2023-08-20T16:03:50.944Z"
   },
   {
    "duration": 15,
    "start_time": "2023-08-20T16:04:15.001Z"
   },
   {
    "duration": 10,
    "start_time": "2023-08-20T16:04:18.643Z"
   },
   {
    "duration": 12,
    "start_time": "2023-08-20T16:04:19.321Z"
   },
   {
    "duration": 8,
    "start_time": "2023-08-20T16:04:58.396Z"
   },
   {
    "duration": 8,
    "start_time": "2023-08-20T16:04:59.811Z"
   },
   {
    "duration": 13,
    "start_time": "2023-08-20T16:05:04.097Z"
   },
   {
    "duration": 14,
    "start_time": "2023-08-20T16:05:13.402Z"
   },
   {
    "duration": 502,
    "start_time": "2023-08-20T16:05:18.935Z"
   },
   {
    "duration": 155,
    "start_time": "2023-08-20T16:05:22.675Z"
   },
   {
    "duration": 10,
    "start_time": "2023-08-20T16:05:48.775Z"
   },
   {
    "duration": 3,
    "start_time": "2023-08-20T16:06:01.713Z"
   },
   {
    "duration": 6,
    "start_time": "2023-08-20T16:09:15.291Z"
   },
   {
    "duration": 7,
    "start_time": "2023-08-20T16:09:39.189Z"
   },
   {
    "duration": 7,
    "start_time": "2023-08-20T16:09:46.679Z"
   },
   {
    "duration": 20,
    "start_time": "2023-08-20T16:09:54.825Z"
   },
   {
    "duration": 8,
    "start_time": "2023-08-20T16:10:12.941Z"
   },
   {
    "duration": 4,
    "start_time": "2023-08-20T16:13:39.970Z"
   },
   {
    "duration": 7,
    "start_time": "2023-08-20T16:13:42.282Z"
   },
   {
    "duration": 4,
    "start_time": "2023-08-20T16:13:54.690Z"
   },
   {
    "duration": 9,
    "start_time": "2023-08-20T16:13:55.892Z"
   },
   {
    "duration": 10,
    "start_time": "2023-08-20T16:13:56.659Z"
   },
   {
    "duration": 7,
    "start_time": "2023-08-20T16:14:21.893Z"
   },
   {
    "duration": 11,
    "start_time": "2023-08-20T16:14:25.809Z"
   },
   {
    "duration": 12,
    "start_time": "2023-08-20T16:17:26.547Z"
   },
   {
    "duration": 10,
    "start_time": "2023-08-20T16:21:18.066Z"
   },
   {
    "duration": 3,
    "start_time": "2023-08-20T16:21:22.071Z"
   },
   {
    "duration": 4,
    "start_time": "2023-08-20T16:22:03.308Z"
   },
   {
    "duration": 14,
    "start_time": "2023-08-20T16:22:03.955Z"
   },
   {
    "duration": 7,
    "start_time": "2023-08-20T16:22:04.734Z"
   },
   {
    "duration": 17,
    "start_time": "2023-08-20T16:22:05.169Z"
   },
   {
    "duration": 8,
    "start_time": "2023-08-20T16:22:25.054Z"
   },
   {
    "duration": 4,
    "start_time": "2023-08-20T16:22:29.980Z"
   },
   {
    "duration": 7,
    "start_time": "2023-08-20T16:22:41.346Z"
   },
   {
    "duration": 4,
    "start_time": "2023-08-20T16:22:42.500Z"
   },
   {
    "duration": 10,
    "start_time": "2023-08-20T16:22:43.570Z"
   },
   {
    "duration": 10,
    "start_time": "2023-08-20T16:22:44.155Z"
   },
   {
    "duration": 90,
    "start_time": "2023-08-21T18:05:25.348Z"
   },
   {
    "duration": 1960,
    "start_time": "2023-08-21T18:05:33.043Z"
   },
   {
    "duration": 149,
    "start_time": "2023-08-21T18:05:35.006Z"
   },
   {
    "duration": 20,
    "start_time": "2023-08-21T18:05:35.157Z"
   },
   {
    "duration": 44,
    "start_time": "2023-08-21T18:05:35.180Z"
   },
   {
    "duration": 28,
    "start_time": "2023-08-21T18:05:35.229Z"
   },
   {
    "duration": 36,
    "start_time": "2023-08-21T18:05:35.259Z"
   },
   {
    "duration": 74,
    "start_time": "2023-08-21T18:05:35.298Z"
   },
   {
    "duration": 62,
    "start_time": "2023-08-21T18:05:35.374Z"
   },
   {
    "duration": 20,
    "start_time": "2023-08-21T18:05:35.442Z"
   },
   {
    "duration": 504,
    "start_time": "2023-08-21T18:05:35.465Z"
   },
   {
    "duration": 181,
    "start_time": "2023-08-21T18:05:35.970Z"
   },
   {
    "duration": 10,
    "start_time": "2023-08-21T18:05:36.153Z"
   },
   {
    "duration": 28,
    "start_time": "2023-08-21T18:05:36.165Z"
   },
   {
    "duration": 20,
    "start_time": "2023-08-21T18:05:36.200Z"
   },
   {
    "duration": 29,
    "start_time": "2023-08-21T18:05:36.226Z"
   },
   {
    "duration": 46,
    "start_time": "2023-08-21T18:05:36.258Z"
   },
   {
    "duration": 123,
    "start_time": "2023-08-21T18:05:36.310Z"
   },
   {
    "duration": 65,
    "start_time": "2023-08-21T18:05:36.439Z"
   },
   {
    "duration": 33,
    "start_time": "2023-08-21T18:05:36.507Z"
   },
   {
    "duration": 51,
    "start_time": "2023-08-21T18:05:36.542Z"
   },
   {
    "duration": 7,
    "start_time": "2023-08-21T18:05:36.594Z"
   },
   {
    "duration": 37,
    "start_time": "2023-08-21T18:05:36.603Z"
   },
   {
    "duration": 25,
    "start_time": "2023-08-21T18:05:36.642Z"
   },
   {
    "duration": 25,
    "start_time": "2023-08-21T18:05:36.669Z"
   },
   {
    "duration": 32,
    "start_time": "2023-08-21T18:05:36.697Z"
   }
  ],
  "kernelspec": {
   "display_name": "Python 3 (ipykernel)",
   "language": "python",
   "name": "python3"
  },
  "language_info": {
   "codemirror_mode": {
    "name": "ipython",
    "version": 3
   },
   "file_extension": ".py",
   "mimetype": "text/x-python",
   "name": "python",
   "nbconvert_exporter": "python",
   "pygments_lexer": "ipython3",
   "version": "3.11.5"
  },
  "toc": {
   "base_numbering": 1,
   "nav_menu": {},
   "number_sections": true,
   "sideBar": false,
   "skip_h1_title": true,
   "title_cell": "Содержание",
   "title_sidebar": "Contents",
   "toc_cell": true,
   "toc_position": {
    "height": "calc(100% - 180px)",
    "left": "10px",
    "top": "150px",
    "width": "298.182px"
   },
   "toc_section_display": true,
   "toc_window_display": false
  }
 },
 "nbformat": 4,
 "nbformat_minor": 2
}
